{
 "cells": [
  {
   "cell_type": "code",
   "execution_count": 4,
   "metadata": {},
   "outputs": [],
   "source": [
    "######################################################################################################################\n",
    "###################################### Data Visualization in Python ##################################################\n",
    "######################################################################################################################"
   ]
  },
  {
   "cell_type": "code",
   "execution_count": 4,
   "metadata": {},
   "outputs": [],
   "source": [
    "import os\n",
    "import numpy as np\n",
    "import pandas as pd\n",
    "from matplotlib import pyplot as plt\n",
    "plt.style.use('seaborn')\n",
    "import plotly.express as px"
   ]
  },
  {
   "cell_type": "code",
   "execution_count": null,
   "metadata": {},
   "outputs": [],
   "source": [
    "# Matplotlib (or Seaborn (created on top of Matplotlib ; like a wrapper))\n",
    "# plotly (Very Classy !)"
   ]
  },
  {
   "cell_type": "code",
   "execution_count": null,
   "metadata": {},
   "outputs": [],
   "source": [
    "################################################ Data  ###############################################################"
   ]
  },
  {
   "cell_type": "code",
   "execution_count": 5,
   "metadata": {},
   "outputs": [
    {
     "data": {
      "text/plain": [
       "'/Users/manpreetsi/My Python Jupyter Notebook'"
      ]
     },
     "execution_count": 5,
     "metadata": {},
     "output_type": "execute_result"
    }
   ],
   "source": [
    "os.getcwd()"
   ]
  },
  {
   "cell_type": "code",
   "execution_count": 6,
   "metadata": {},
   "outputs": [],
   "source": [
    "mydata = pd.read_csv(\"train.csv\")"
   ]
  },
  {
   "cell_type": "code",
   "execution_count": 7,
   "metadata": {},
   "outputs": [
    {
     "data": {
      "text/html": [
       "<div>\n",
       "<style scoped>\n",
       "    .dataframe tbody tr th:only-of-type {\n",
       "        vertical-align: middle;\n",
       "    }\n",
       "\n",
       "    .dataframe tbody tr th {\n",
       "        vertical-align: top;\n",
       "    }\n",
       "\n",
       "    .dataframe thead th {\n",
       "        text-align: right;\n",
       "    }\n",
       "</style>\n",
       "<table border=\"1\" class=\"dataframe\">\n",
       "  <thead>\n",
       "    <tr style=\"text-align: right;\">\n",
       "      <th></th>\n",
       "      <th>PassengerId</th>\n",
       "      <th>Survived</th>\n",
       "      <th>Pclass</th>\n",
       "      <th>Name</th>\n",
       "      <th>Sex</th>\n",
       "      <th>Age</th>\n",
       "      <th>SibSp</th>\n",
       "      <th>Parch</th>\n",
       "      <th>Ticket</th>\n",
       "      <th>Fare</th>\n",
       "      <th>Cabin</th>\n",
       "      <th>Embarked</th>\n",
       "    </tr>\n",
       "  </thead>\n",
       "  <tbody>\n",
       "    <tr>\n",
       "      <th>0</th>\n",
       "      <td>1</td>\n",
       "      <td>0</td>\n",
       "      <td>3</td>\n",
       "      <td>Braund, Mr. Owen Harris</td>\n",
       "      <td>male</td>\n",
       "      <td>22.0</td>\n",
       "      <td>1</td>\n",
       "      <td>0</td>\n",
       "      <td>A/5 21171</td>\n",
       "      <td>7.2500</td>\n",
       "      <td>NaN</td>\n",
       "      <td>S</td>\n",
       "    </tr>\n",
       "    <tr>\n",
       "      <th>1</th>\n",
       "      <td>2</td>\n",
       "      <td>1</td>\n",
       "      <td>1</td>\n",
       "      <td>Cumings, Mrs. John Bradley (Florence Briggs Th...</td>\n",
       "      <td>female</td>\n",
       "      <td>38.0</td>\n",
       "      <td>1</td>\n",
       "      <td>0</td>\n",
       "      <td>PC 17599</td>\n",
       "      <td>71.2833</td>\n",
       "      <td>C85</td>\n",
       "      <td>C</td>\n",
       "    </tr>\n",
       "    <tr>\n",
       "      <th>2</th>\n",
       "      <td>3</td>\n",
       "      <td>1</td>\n",
       "      <td>3</td>\n",
       "      <td>Heikkinen, Miss. Laina</td>\n",
       "      <td>female</td>\n",
       "      <td>26.0</td>\n",
       "      <td>0</td>\n",
       "      <td>0</td>\n",
       "      <td>STON/O2. 3101282</td>\n",
       "      <td>7.9250</td>\n",
       "      <td>NaN</td>\n",
       "      <td>S</td>\n",
       "    </tr>\n",
       "    <tr>\n",
       "      <th>3</th>\n",
       "      <td>4</td>\n",
       "      <td>1</td>\n",
       "      <td>1</td>\n",
       "      <td>Futrelle, Mrs. Jacques Heath (Lily May Peel)</td>\n",
       "      <td>female</td>\n",
       "      <td>35.0</td>\n",
       "      <td>1</td>\n",
       "      <td>0</td>\n",
       "      <td>113803</td>\n",
       "      <td>53.1000</td>\n",
       "      <td>C123</td>\n",
       "      <td>S</td>\n",
       "    </tr>\n",
       "    <tr>\n",
       "      <th>4</th>\n",
       "      <td>5</td>\n",
       "      <td>0</td>\n",
       "      <td>3</td>\n",
       "      <td>Allen, Mr. William Henry</td>\n",
       "      <td>male</td>\n",
       "      <td>35.0</td>\n",
       "      <td>0</td>\n",
       "      <td>0</td>\n",
       "      <td>373450</td>\n",
       "      <td>8.0500</td>\n",
       "      <td>NaN</td>\n",
       "      <td>S</td>\n",
       "    </tr>\n",
       "  </tbody>\n",
       "</table>\n",
       "</div>"
      ],
      "text/plain": [
       "   PassengerId  Survived  Pclass  \\\n",
       "0            1         0       3   \n",
       "1            2         1       1   \n",
       "2            3         1       3   \n",
       "3            4         1       1   \n",
       "4            5         0       3   \n",
       "\n",
       "                                                Name     Sex   Age  SibSp  \\\n",
       "0                            Braund, Mr. Owen Harris    male  22.0      1   \n",
       "1  Cumings, Mrs. John Bradley (Florence Briggs Th...  female  38.0      1   \n",
       "2                             Heikkinen, Miss. Laina  female  26.0      0   \n",
       "3       Futrelle, Mrs. Jacques Heath (Lily May Peel)  female  35.0      1   \n",
       "4                           Allen, Mr. William Henry    male  35.0      0   \n",
       "\n",
       "   Parch            Ticket     Fare Cabin Embarked  \n",
       "0      0         A/5 21171   7.2500   NaN        S  \n",
       "1      0          PC 17599  71.2833   C85        C  \n",
       "2      0  STON/O2. 3101282   7.9250   NaN        S  \n",
       "3      0            113803  53.1000  C123        S  \n",
       "4      0            373450   8.0500   NaN        S  "
      ]
     },
     "execution_count": 7,
     "metadata": {},
     "output_type": "execute_result"
    }
   ],
   "source": [
    "mydata.head()"
   ]
  },
  {
   "cell_type": "code",
   "execution_count": 127,
   "metadata": {},
   "outputs": [
    {
     "name": "stdout",
     "output_type": "stream",
     "text": [
      "<class 'pandas.core.frame.DataFrame'>\n",
      "RangeIndex: 891 entries, 0 to 890\n",
      "Data columns (total 12 columns):\n",
      " #   Column       Non-Null Count  Dtype  \n",
      "---  ------       --------------  -----  \n",
      " 0   PassengerId  891 non-null    int64  \n",
      " 1   Survived     891 non-null    int64  \n",
      " 2   Pclass       891 non-null    int64  \n",
      " 3   Name         891 non-null    object \n",
      " 4   Sex          891 non-null    object \n",
      " 5   Age          714 non-null    float64\n",
      " 6   SibSp        891 non-null    int64  \n",
      " 7   Parch        891 non-null    int64  \n",
      " 8   Ticket       891 non-null    object \n",
      " 9   Fare         891 non-null    float64\n",
      " 10  Cabin        204 non-null    object \n",
      " 11  Embarked     889 non-null    object \n",
      "dtypes: float64(2), int64(5), object(5)\n",
      "memory usage: 83.7+ KB\n"
     ]
    }
   ],
   "source": [
    "mydata.info()"
   ]
  },
  {
   "cell_type": "code",
   "execution_count": 9,
   "metadata": {},
   "outputs": [],
   "source": [
    "## Adding \"Not_Survived\" column\n",
    "mydata.loc[mydata.Survived==0,'Not_Survived']=1\n",
    "mydata.loc[mydata.Survived==1,'Not_Survived']=0"
   ]
  },
  {
   "cell_type": "code",
   "execution_count": 11,
   "metadata": {},
   "outputs": [
    {
     "name": "stdout",
     "output_type": "stream",
     "text": [
      "<class 'pandas.core.frame.DataFrame'>\n",
      "RangeIndex: 891 entries, 0 to 890\n",
      "Data columns (total 13 columns):\n",
      " #   Column        Non-Null Count  Dtype  \n",
      "---  ------        --------------  -----  \n",
      " 0   PassengerId   891 non-null    int64  \n",
      " 1   Survived      891 non-null    int64  \n",
      " 2   Pclass        891 non-null    int64  \n",
      " 3   Name          891 non-null    object \n",
      " 4   Sex           891 non-null    object \n",
      " 5   Age           714 non-null    float64\n",
      " 6   SibSp         891 non-null    int64  \n",
      " 7   Parch         891 non-null    int64  \n",
      " 8   Ticket        891 non-null    object \n",
      " 9   Fare          891 non-null    float64\n",
      " 10  Cabin         204 non-null    object \n",
      " 11  Embarked      889 non-null    object \n",
      " 12  Not_Survived  891 non-null    float64\n",
      "dtypes: float64(3), int64(5), object(5)\n",
      "memory usage: 90.6+ KB\n"
     ]
    }
   ],
   "source": [
    "mydata.info()"
   ]
  },
  {
   "cell_type": "code",
   "execution_count": 12,
   "metadata": {},
   "outputs": [
    {
     "data": {
      "text/html": [
       "<div>\n",
       "<style scoped>\n",
       "    .dataframe tbody tr th:only-of-type {\n",
       "        vertical-align: middle;\n",
       "    }\n",
       "\n",
       "    .dataframe tbody tr th {\n",
       "        vertical-align: top;\n",
       "    }\n",
       "\n",
       "    .dataframe thead th {\n",
       "        text-align: right;\n",
       "    }\n",
       "</style>\n",
       "<table border=\"1\" class=\"dataframe\">\n",
       "  <thead>\n",
       "    <tr style=\"text-align: right;\">\n",
       "      <th></th>\n",
       "      <th>Survived</th>\n",
       "      <th>Not_Survived</th>\n",
       "    </tr>\n",
       "  </thead>\n",
       "  <tbody>\n",
       "    <tr>\n",
       "      <th>0</th>\n",
       "      <td>0</td>\n",
       "      <td>1.0</td>\n",
       "    </tr>\n",
       "    <tr>\n",
       "      <th>1</th>\n",
       "      <td>1</td>\n",
       "      <td>0.0</td>\n",
       "    </tr>\n",
       "    <tr>\n",
       "      <th>2</th>\n",
       "      <td>1</td>\n",
       "      <td>0.0</td>\n",
       "    </tr>\n",
       "    <tr>\n",
       "      <th>3</th>\n",
       "      <td>1</td>\n",
       "      <td>0.0</td>\n",
       "    </tr>\n",
       "    <tr>\n",
       "      <th>4</th>\n",
       "      <td>0</td>\n",
       "      <td>1.0</td>\n",
       "    </tr>\n",
       "  </tbody>\n",
       "</table>\n",
       "</div>"
      ],
      "text/plain": [
       "   Survived  Not_Survived\n",
       "0         0           1.0\n",
       "1         1           0.0\n",
       "2         1           0.0\n",
       "3         1           0.0\n",
       "4         0           1.0"
      ]
     },
     "execution_count": 12,
     "metadata": {},
     "output_type": "execute_result"
    }
   ],
   "source": [
    "mydata[['Survived','Not_Survived']].head()"
   ]
  },
  {
   "cell_type": "code",
   "execution_count": null,
   "metadata": {},
   "outputs": [],
   "source": [
    "######################################################################################################################\n",
    "################################################# Matplotlib #########################################################\n",
    "######################################################################################################################\n",
    "    '''\n",
    "    Bar Graph\n",
    "    Pie Chart\n",
    "    Box Plot\n",
    "    Histogram\n",
    "    Line Chart and Subplots\n",
    "    Scatter Plot\n",
    "    '''"
   ]
  },
  {
   "cell_type": "code",
   "execution_count": null,
   "metadata": {},
   "outputs": [],
   "source": [
    "################################################# Bar Graph ##########################################################"
   ]
  },
  {
   "cell_type": "code",
   "execution_count": 47,
   "metadata": {},
   "outputs": [],
   "source": [
    "### Using Pivot\n",
    "pivot=pd.pivot_table(data=mydata,values='Survived', aggfunc=np.sum,index='Sex')"
   ]
  },
  {
   "cell_type": "code",
   "execution_count": 161,
   "metadata": {},
   "outputs": [
    {
     "data": {
      "text/html": [
       "<div>\n",
       "<style scoped>\n",
       "    .dataframe tbody tr th:only-of-type {\n",
       "        vertical-align: middle;\n",
       "    }\n",
       "\n",
       "    .dataframe tbody tr th {\n",
       "        vertical-align: top;\n",
       "    }\n",
       "\n",
       "    .dataframe thead th {\n",
       "        text-align: right;\n",
       "    }\n",
       "</style>\n",
       "<table border=\"1\" class=\"dataframe\">\n",
       "  <thead>\n",
       "    <tr style=\"text-align: right;\">\n",
       "      <th></th>\n",
       "      <th>Survived</th>\n",
       "    </tr>\n",
       "    <tr>\n",
       "      <th>Sex</th>\n",
       "      <th></th>\n",
       "    </tr>\n",
       "  </thead>\n",
       "  <tbody>\n",
       "    <tr>\n",
       "      <th>female</th>\n",
       "      <td>233</td>\n",
       "    </tr>\n",
       "    <tr>\n",
       "      <th>male</th>\n",
       "      <td>109</td>\n",
       "    </tr>\n",
       "  </tbody>\n",
       "</table>\n",
       "</div>"
      ],
      "text/plain": [
       "        Survived\n",
       "Sex             \n",
       "female       233\n",
       "male         109"
      ]
     },
     "execution_count": 161,
     "metadata": {},
     "output_type": "execute_result"
    }
   ],
   "source": [
    "pivot"
   ]
  },
  {
   "cell_type": "code",
   "execution_count": 160,
   "metadata": {},
   "outputs": [
    {
     "data": {
      "text/plain": [
       "Index(['female', 'male'], dtype='object', name='Sex')"
      ]
     },
     "execution_count": 160,
     "metadata": {},
     "output_type": "execute_result"
    }
   ],
   "source": [
    "pivot.index"
   ]
  },
  {
   "cell_type": "code",
   "execution_count": 187,
   "metadata": {},
   "outputs": [
    {
     "data": {
      "text/plain": [
       "<BarContainer object of 2 artists>"
      ]
     },
     "execution_count": 187,
     "metadata": {},
     "output_type": "execute_result"
    },
    {
     "data": {
      "image/png": "[encoded data removed]",
      "text/plain": [
       "<Figure size 576x396 with 1 Axes>"
      ]
     },
     "metadata": {},
     "output_type": "display_data"
    }
   ],
   "source": [
    "plt.bar(pivot.index,pivot['Survived'],width=0.3) ## This show femamles have higher survival rate"
   ]
  },
  {
   "cell_type": "code",
   "execution_count": 120,
   "metadata": {},
   "outputs": [],
   "source": [
    "pivot_2 = pd.pivot_table(data=mydata,values='Fare',index='Pclass',aggfunc=np.mean)"
   ]
  },
  {
   "cell_type": "code",
   "execution_count": 121,
   "metadata": {},
   "outputs": [
    {
     "data": {
      "text/html": [
       "<div>\n",
       "<style scoped>\n",
       "    .dataframe tbody tr th:only-of-type {\n",
       "        vertical-align: middle;\n",
       "    }\n",
       "\n",
       "    .dataframe tbody tr th {\n",
       "        vertical-align: top;\n",
       "    }\n",
       "\n",
       "    .dataframe thead th {\n",
       "        text-align: right;\n",
       "    }\n",
       "</style>\n",
       "<table border=\"1\" class=\"dataframe\">\n",
       "  <thead>\n",
       "    <tr style=\"text-align: right;\">\n",
       "      <th></th>\n",
       "      <th>Fare</th>\n",
       "    </tr>\n",
       "    <tr>\n",
       "      <th>Pclass</th>\n",
       "      <th></th>\n",
       "    </tr>\n",
       "  </thead>\n",
       "  <tbody>\n",
       "    <tr>\n",
       "      <th>1</th>\n",
       "      <td>84.154687</td>\n",
       "    </tr>\n",
       "    <tr>\n",
       "      <th>2</th>\n",
       "      <td>20.662183</td>\n",
       "    </tr>\n",
       "    <tr>\n",
       "      <th>3</th>\n",
       "      <td>13.675550</td>\n",
       "    </tr>\n",
       "  </tbody>\n",
       "</table>\n",
       "</div>"
      ],
      "text/plain": [
       "             Fare\n",
       "Pclass           \n",
       "1       84.154687\n",
       "2       20.662183\n",
       "3       13.675550"
      ]
     },
     "execution_count": 121,
     "metadata": {},
     "output_type": "execute_result"
    }
   ],
   "source": [
    "pivot_2"
   ]
  },
  {
   "cell_type": "code",
   "execution_count": 122,
   "metadata": {},
   "outputs": [
    {
     "data": {
      "text/plain": [
       "Text(0.5, 1.0, 'Average Fare per Pclass')"
      ]
     },
     "execution_count": 122,
     "metadata": {},
     "output_type": "execute_result"
    },
    {
     "data": {
      "image/png": "[encoded data removed]",
      "text/plain": [
       "<Figure size 576x396 with 1 Axes>"
      ]
     },
     "metadata": {},
     "output_type": "display_data"
    }
   ],
   "source": [
    "plt.bar(pivot_2.index,pivot_2['Fare'],color='orange',width=0.5);\n",
    "plt.xticks(rotation=20)\n",
    "plt.xlim([0,4])\n",
    "plt.xlabel('Pclass')\n",
    "plt.ylabel('Average Fare')\n",
    "plt.title('Average Fare per Pclass')"
   ]
  },
  {
   "cell_type": "code",
   "execution_count": null,
   "metadata": {},
   "outputs": [],
   "source": [
    "################################################# Pie Chart ##########################################################"
   ]
  },
  {
   "cell_type": "code",
   "execution_count": null,
   "metadata": {},
   "outputs": [],
   "source": [
    "## Pie chart of percentage share of passengers per Pclass"
   ]
  },
  {
   "cell_type": "code",
   "execution_count": 250,
   "metadata": {},
   "outputs": [],
   "source": [
    "share={}\n",
    "total = mydata['Pclass'].value_counts().sum()\n",
    "for i in range (0,len(mydata['Pclass'].value_counts())):\n",
    "    x = mydata['Pclass'].value_counts().index[i]\n",
    "    count = mydata[mydata.Pclass==x]['PassengerId'].count()\n",
    "    share[\"Pclass: \" +str(x)]=count/total"
   ]
  },
  {
   "cell_type": "code",
   "execution_count": 251,
   "metadata": {},
   "outputs": [
    {
     "data": {
      "text/plain": [
       "{'Pclass: 3': 0.5510662177328844,\n",
       " 'Pclass: 1': 0.24242424242424243,\n",
       " 'Pclass: 2': 0.20650953984287318}"
      ]
     },
     "execution_count": 251,
     "metadata": {},
     "output_type": "execute_result"
    }
   ],
   "source": [
    "share"
   ]
  },
  {
   "cell_type": "code",
   "execution_count": 285,
   "metadata": {},
   "outputs": [
    {
     "data": {
      "text/plain": [
       "<matplotlib.legend.Legend at 0x7fca1b456b70>"
      ]
     },
     "execution_count": 285,
     "metadata": {},
     "output_type": "execute_result"
    },
    {
     "data": {
      "image/png": "[encoded data removed]",
      "text/plain": [
       "<Figure size 576x396 with 1 Axes>"
      ]
     },
     "metadata": {},
     "output_type": "display_data"
    }
   ],
   "source": [
    "## values & labels for pie chart\n",
    "val = [ x*100 for x in share.values()] \n",
    "lab = [x for x in share.keys()] \n",
    "\n",
    "## pie chart \n",
    "plt.pie(val,labels = lab,\n",
    "        autopct='%0.0f%%',explode=[.1,0,0],startangle=25,textprops={'fontsize': 14},\n",
    "        colors=['gold','lightskyblue','lightcoral'],shadow=True);\n",
    "plt.title('Passenger Share %',fontsize=14) ;\n",
    "plt.tight_layout();\n",
    "plt.axis('equal');\n",
    "plt.legend(loc=1,prop={'size':14})"
   ]
  },
  {
   "cell_type": "code",
   "execution_count": 286,
   "metadata": {},
   "outputs": [],
   "source": [
    "################################################# Box Plot ###########################################################\n",
    "##It is useful for detecting outliers within each group."
   ]
  },
  {
   "cell_type": "code",
   "execution_count": null,
   "metadata": {},
   "outputs": [],
   "source": [
    "## Understand outlier of fare in each Pclass"
   ]
  },
  {
   "cell_type": "code",
   "execution_count": 21,
   "metadata": {},
   "outputs": [],
   "source": [
    "## With creating a subset\n",
    "pclass_fare={}\n",
    "for i in range (0,len(mydata['Pclass'].value_counts())):\n",
    "    x = mydata['Pclass'].value_counts().index[i]\n",
    "    pclass_fare[x] = mydata[mydata.Pclass == x ]['Fare']"
   ]
  },
  {
   "cell_type": "code",
   "execution_count": 35,
   "metadata": {},
   "outputs": [
    {
     "data": {
      "text/plain": [
       "Text(0, 0.5, 'Fare')"
      ]
     },
     "execution_count": 35,
     "metadata": {},
     "output_type": "execute_result"
    },
    {
     "data": {
      "image/png": "[encoded data removed]",
      "text/plain": [
       "<Figure size 576x396 with 1 Axes>"
      ]
     },
     "metadata": {},
     "output_type": "display_data"
    }
   ],
   "source": [
    "plt.boxplot([x for x in pclass_fare.values()],labels=[x for x in pclass_fare.keys()]);\n",
    "plt.xlabel('Pclass')\n",
    "plt.ylabel('Fare')"
   ]
  },
  {
   "cell_type": "code",
   "execution_count": 48,
   "metadata": {},
   "outputs": [
    {
     "data": {
      "image/png": "[encoded data removed]",
      "text/plain": [
       "<Figure size 576x396 with 1 Axes>"
      ]
     },
     "metadata": {},
     "output_type": "display_data"
    }
   ],
   "source": [
    "## Without creating a subset\n",
    "plt.boxplot([mydata[mydata.Pclass==i]['Fare'] for i in mydata['Pclass'].value_counts().index],\n",
    "            labels=[ i for i in  mydata['Pclass'].value_counts().index]);"
   ]
  },
  {
   "cell_type": "code",
   "execution_count": 49,
   "metadata": {},
   "outputs": [],
   "source": [
    "################################################# Histogram ##########################################################\n",
    "# use of axes class from matplotlib to beautify the plot "
   ]
  },
  {
   "cell_type": "code",
   "execution_count": 116,
   "metadata": {},
   "outputs": [
    {
     "data": {
      "image/png": "[encoded data removed]",
      "text/plain": [
       "<Figure size 576x396 with 1 Axes>"
      ]
     },
     "metadata": {},
     "output_type": "display_data"
    }
   ],
   "source": [
    "## fig is used mostly to savw the image\n",
    "fig, ax = plt.subplots(nrows=1, ncols=1);\n",
    "ax.set_facecolor((.9,1,1)); ## RedGreenBlue\n",
    "ax.grid('both',color='black',which='both');\n",
    "plt.hist(mydata['Fare'],rwidth=.7,bins=15,alpha=0.7,color='red',edgecolor='lightcoral');\n",
    "plt.xlabel(\"Fare\");\n",
    "plt.ylabel(\"Distinct Passengers\");\n",
    "fig.savefig('yourfilename.png')"
   ]
  },
  {
   "cell_type": "code",
   "execution_count": null,
   "metadata": {},
   "outputs": [],
   "source": [
    "################################################ Line Chartts ########################################################"
   ]
  },
  {
   "cell_type": "code",
   "execution_count": null,
   "metadata": {},
   "outputs": [],
   "source": [
    "## Check relation bewtween age and fare"
   ]
  },
  {
   "cell_type": "code",
   "execution_count": 144,
   "metadata": {},
   "outputs": [],
   "source": [
    "## Fill NA age by median Age\n",
    "mydata['Age'].fillna(mydata['Age'].median(),inplace=True)"
   ]
  },
  {
   "cell_type": "code",
   "execution_count": 145,
   "metadata": {},
   "outputs": [
    {
     "data": {
      "text/html": [
       "<div>\n",
       "<style scoped>\n",
       "    .dataframe tbody tr th:only-of-type {\n",
       "        vertical-align: middle;\n",
       "    }\n",
       "\n",
       "    .dataframe tbody tr th {\n",
       "        vertical-align: top;\n",
       "    }\n",
       "\n",
       "    .dataframe thead th {\n",
       "        text-align: right;\n",
       "    }\n",
       "</style>\n",
       "<table border=\"1\" class=\"dataframe\">\n",
       "  <thead>\n",
       "    <tr style=\"text-align: right;\">\n",
       "      <th></th>\n",
       "      <th>Age</th>\n",
       "      <th>Fare</th>\n",
       "    </tr>\n",
       "  </thead>\n",
       "  <tbody>\n",
       "    <tr>\n",
       "      <th>803</th>\n",
       "      <td>0.42</td>\n",
       "      <td>8.5167</td>\n",
       "    </tr>\n",
       "    <tr>\n",
       "      <th>755</th>\n",
       "      <td>0.67</td>\n",
       "      <td>14.5000</td>\n",
       "    </tr>\n",
       "    <tr>\n",
       "      <th>644</th>\n",
       "      <td>0.75</td>\n",
       "      <td>19.2583</td>\n",
       "    </tr>\n",
       "    <tr>\n",
       "      <th>469</th>\n",
       "      <td>0.75</td>\n",
       "      <td>19.2583</td>\n",
       "    </tr>\n",
       "    <tr>\n",
       "      <th>831</th>\n",
       "      <td>0.83</td>\n",
       "      <td>18.7500</td>\n",
       "    </tr>\n",
       "    <tr>\n",
       "      <th>...</th>\n",
       "      <td>...</td>\n",
       "      <td>...</td>\n",
       "    </tr>\n",
       "    <tr>\n",
       "      <th>116</th>\n",
       "      <td>70.50</td>\n",
       "      <td>7.7500</td>\n",
       "    </tr>\n",
       "    <tr>\n",
       "      <th>96</th>\n",
       "      <td>71.00</td>\n",
       "      <td>34.6542</td>\n",
       "    </tr>\n",
       "    <tr>\n",
       "      <th>493</th>\n",
       "      <td>71.00</td>\n",
       "      <td>49.5042</td>\n",
       "    </tr>\n",
       "    <tr>\n",
       "      <th>851</th>\n",
       "      <td>74.00</td>\n",
       "      <td>7.7750</td>\n",
       "    </tr>\n",
       "    <tr>\n",
       "      <th>630</th>\n",
       "      <td>80.00</td>\n",
       "      <td>30.0000</td>\n",
       "    </tr>\n",
       "  </tbody>\n",
       "</table>\n",
       "<p>891 rows × 2 columns</p>\n",
       "</div>"
      ],
      "text/plain": [
       "       Age     Fare\n",
       "803   0.42   8.5167\n",
       "755   0.67  14.5000\n",
       "644   0.75  19.2583\n",
       "469   0.75  19.2583\n",
       "831   0.83  18.7500\n",
       "..     ...      ...\n",
       "116  70.50   7.7500\n",
       "96   71.00  34.6542\n",
       "493  71.00  49.5042\n",
       "851  74.00   7.7750\n",
       "630  80.00  30.0000\n",
       "\n",
       "[891 rows x 2 columns]"
      ]
     },
     "execution_count": 145,
     "metadata": {},
     "output_type": "execute_result"
    }
   ],
   "source": [
    "mydata.sort_values(by='Age',ascending=True)[['Age','Fare']]"
   ]
  },
  {
   "cell_type": "code",
   "execution_count": 150,
   "metadata": {},
   "outputs": [
    {
     "data": {
      "image/png": "[encoded data removed]",
      "text/plain": [
       "<Figure size 576x396 with 2 Axes>"
      ]
     },
     "metadata": {},
     "output_type": "display_data"
    }
   ],
   "source": [
    "fig,ax = plt.subplots(nrows=2,ncols=1);\n",
    "ax[0].plot(mydata.sort_values(by='Age',ascending=True)['Age'],mydata.sort_values(by='Age',ascending=True)['Fare'],'ro');\n",
    "ax[0].grid('both',color='black');\n",
    "\n",
    "ax[1].plot(mydata.sort_values(by='Age',ascending=True)['Age'],mydata.sort_values(by='Age',ascending=True)['Fare']);\n",
    "ax[1].grid('both',color='black');\n",
    "\n",
    "plt.xlabel('Age');\n",
    "plt.ylabel('Fare');\n"
   ]
  },
  {
   "cell_type": "code",
   "execution_count": null,
   "metadata": {},
   "outputs": [],
   "source": [
    "################################################ Scatter Plot ########################################################"
   ]
  },
  {
   "cell_type": "code",
   "execution_count": 152,
   "metadata": {},
   "outputs": [
    {
     "data": {
      "image/png": "[encoded data removed]",
      "text/plain": [
       "<Figure size 576x396 with 1 Axes>"
      ]
     },
     "metadata": {},
     "output_type": "display_data"
    }
   ],
   "source": [
    "plt.scatter(mydata.sort_values(by='Age',ascending=True)['Age'],mydata.sort_values(by='Age',ascending=True)['Fare']);"
   ]
  },
  {
   "cell_type": "code",
   "execution_count": null,
   "metadata": {},
   "outputs": [],
   "source": [
    "######################################################################################################################\n",
    "################################################# Plotly #########################################################\n",
    "######################################################################################################################\n",
    "\n",
    "#1. Plotly has more number of plot options\n",
    "#2. Better visualization and graphics\n",
    "#3. Better and advanced editing/styling option\n",
    "#4. Shortcuts like cut,save as png, zoom etc. on 1 click."
   ]
  },
  {
   "cell_type": "code",
   "execution_count": null,
   "metadata": {},
   "outputs": [],
   "source": [
    "################################################ Bar Chart ########################################################"
   ]
  },
  {
   "cell_type": "code",
   "execution_count": 48,
   "metadata": {},
   "outputs": [],
   "source": [
    "pivot_survived=pivot.copy()\n",
    "pivot_survived['Sex']=list(pivot.index)"
   ]
  },
  {
   "cell_type": "code",
   "execution_count": 49,
   "metadata": {},
   "outputs": [
    {
     "data": {
      "text/html": [
       "<div>\n",
       "<style scoped>\n",
       "    .dataframe tbody tr th:only-of-type {\n",
       "        vertical-align: middle;\n",
       "    }\n",
       "\n",
       "    .dataframe tbody tr th {\n",
       "        vertical-align: top;\n",
       "    }\n",
       "\n",
       "    .dataframe thead th {\n",
       "        text-align: right;\n",
       "    }\n",
       "</style>\n",
       "<table border=\"1\" class=\"dataframe\">\n",
       "  <thead>\n",
       "    <tr style=\"text-align: right;\">\n",
       "      <th></th>\n",
       "      <th>Survived</th>\n",
       "      <th>Sex</th>\n",
       "    </tr>\n",
       "  </thead>\n",
       "  <tbody>\n",
       "    <tr>\n",
       "      <th>0</th>\n",
       "      <td>233</td>\n",
       "      <td>female</td>\n",
       "    </tr>\n",
       "    <tr>\n",
       "      <th>1</th>\n",
       "      <td>109</td>\n",
       "      <td>male</td>\n",
       "    </tr>\n",
       "  </tbody>\n",
       "</table>\n",
       "</div>"
      ],
      "text/plain": [
       "   Survived     Sex\n",
       "0       233  female\n",
       "1       109    male"
      ]
     },
     "execution_count": 49,
     "metadata": {},
     "output_type": "execute_result"
    }
   ],
   "source": [
    "pivot_survived.index = range(0,len(pivot_survived))\n",
    "pivot_survived"
   ]
  },
  {
   "cell_type": "code",
   "execution_count": 86,
   "metadata": {},
   "outputs": [
    {
     "data": {
      "application/vnd.plotly.v1+json": {
       "config": {
        "plotlyServerURL": "https://plot.ly"
       },
       "data": [
        {
         "alignmentgroup": "True",
         "hovertemplate": "Sex=%{x}<br>Survived=%{y}<extra></extra>",
         "legendgroup": "female",
         "marker": {
          "color": "#636efa"
         },
         "name": "female",
         "offsetgroup": "female",
         "orientation": "v",
         "showlegend": true,
         "textposition": "auto",
         "type": "bar",
         "x": [
          "female"
         ],
         "xaxis": "x",
         "y": [
          233
         ],
         "yaxis": "y"
        },
        {
         "alignmentgroup": "True",
         "hovertemplate": "Sex=%{x}<br>Survived=%{y}<extra></extra>",
         "legendgroup": "male",
         "marker": {
          "color": "#EF553B"
         },
         "name": "male",
         "offsetgroup": "male",
         "orientation": "v",
         "showlegend": true,
         "textposition": "auto",
         "type": "bar",
         "x": [
          "male"
         ],
         "xaxis": "x",
         "y": [
          109
         ],
         "yaxis": "y"
        }
       ],
       "layout": {
        "barmode": "relative",
        "height": 500,
        "legend": {
         "title": {
          "text": "Sex"
         },
         "tracegroupgap": 0
        },
        "margin": {
         "t": 60
        },
        "template": {
         "data": {
          "bar": [
           {
            "error_x": {
             "color": "#2a3f5f"
            },
            "error_y": {
             "color": "#2a3f5f"
            },
            "marker": {
             "line": {
              "color": "#E5ECF6",
              "width": 0.5
             }
            },
            "type": "bar"
           }
          ],
          "barpolar": [
           {
            "marker": {
             "line": {
              "color": "#E5ECF6",
              "width": 0.5
             }
            },
            "type": "barpolar"
           }
          ],
          "carpet": [
           {
            "aaxis": {
             "endlinecolor": "#2a3f5f",
             "gridcolor": "white",
             "linecolor": "white",
             "minorgridcolor": "white",
             "startlinecolor": "#2a3f5f"
            },
            "baxis": {
             "endlinecolor": "#2a3f5f",
             "gridcolor": "white",
             "linecolor": "white",
             "minorgridcolor": "white",
             "startlinecolor": "#2a3f5f"
            },
            "type": "carpet"
           }
          ],
          "choropleth": [
           {
            "colorbar": {
             "outlinewidth": 0,
             "ticks": ""
            },
            "type": "choropleth"
           }
          ],
          "contour": [
           {
            "colorbar": {
             "outlinewidth": 0,
             "ticks": ""
            },
            "colorscale": [
             [
              0,
              "#0d0887"
             ],
             [
              0.1111111111111111,
              "#46039f"
             ],
             [
              0.2222222222222222,
              "#7201a8"
             ],
             [
              0.3333333333333333,
              "#9c179e"
             ],
             [
              0.4444444444444444,
              "#bd3786"
             ],
             [
              0.5555555555555556,
              "#d8576b"
             ],
             [
              0.6666666666666666,
              "#ed7953"
             ],
             [
              0.7777777777777778,
              "#fb9f3a"
             ],
             [
              0.8888888888888888,
              "#fdca26"
             ],
             [
              1,
              "#f0f921"
             ]
            ],
            "type": "contour"
           }
          ],
          "contourcarpet": [
           {
            "colorbar": {
             "outlinewidth": 0,
             "ticks": ""
            },
            "type": "contourcarpet"
           }
          ],
          "heatmap": [
           {
            "colorbar": {
             "outlinewidth": 0,
             "ticks": ""
            },
            "colorscale": [
             [
              0,
              "#0d0887"
             ],
             [
              0.1111111111111111,
              "#46039f"
             ],
             [
              0.2222222222222222,
              "#7201a8"
             ],
             [
              0.3333333333333333,
              "#9c179e"
             ],
             [
              0.4444444444444444,
              "#bd3786"
             ],
             [
              0.5555555555555556,
              "#d8576b"
             ],
             [
              0.6666666666666666,
              "#ed7953"
             ],
             [
              0.7777777777777778,
              "#fb9f3a"
             ],
             [
              0.8888888888888888,
              "#fdca26"
             ],
             [
              1,
              "#f0f921"
             ]
            ],
            "type": "heatmap"
           }
          ],
          "heatmapgl": [
           {
            "colorbar": {
             "outlinewidth": 0,
             "ticks": ""
            },
            "colorscale": [
             [
              0,
              "#0d0887"
             ],
             [
              0.1111111111111111,
              "#46039f"
             ],
             [
              0.2222222222222222,
              "#7201a8"
             ],
             [
              0.3333333333333333,
              "#9c179e"
             ],
             [
              0.4444444444444444,
              "#bd3786"
             ],
             [
              0.5555555555555556,
              "#d8576b"
             ],
             [
              0.6666666666666666,
              "#ed7953"
             ],
             [
              0.7777777777777778,
              "#fb9f3a"
             ],
             [
              0.8888888888888888,
              "#fdca26"
             ],
             [
              1,
              "#f0f921"
             ]
            ],
            "type": "heatmapgl"
           }
          ],
          "histogram": [
           {
            "marker": {
             "colorbar": {
              "outlinewidth": 0,
              "ticks": ""
             }
            },
            "type": "histogram"
           }
          ],
          "histogram2d": [
           {
            "colorbar": {
             "outlinewidth": 0,
             "ticks": ""
            },
            "colorscale": [
             [
              0,
              "#0d0887"
             ],
             [
              0.1111111111111111,
              "#46039f"
             ],
             [
              0.2222222222222222,
              "#7201a8"
             ],
             [
              0.3333333333333333,
              "#9c179e"
             ],
             [
              0.4444444444444444,
              "#bd3786"
             ],
             [
              0.5555555555555556,
              "#d8576b"
             ],
             [
              0.6666666666666666,
              "#ed7953"
             ],
             [
              0.7777777777777778,
              "#fb9f3a"
             ],
             [
              0.8888888888888888,
              "#fdca26"
             ],
             [
              1,
              "#f0f921"
             ]
            ],
            "type": "histogram2d"
           }
          ],
          "histogram2dcontour": [
           {
            "colorbar": {
             "outlinewidth": 0,
             "ticks": ""
            },
            "colorscale": [
             [
              0,
              "#0d0887"
             ],
             [
              0.1111111111111111,
              "#46039f"
             ],
             [
              0.2222222222222222,
              "#7201a8"
             ],
             [
              0.3333333333333333,
              "#9c179e"
             ],
             [
              0.4444444444444444,
              "#bd3786"
             ],
             [
              0.5555555555555556,
              "#d8576b"
             ],
             [
              0.6666666666666666,
              "#ed7953"
             ],
             [
              0.7777777777777778,
              "#fb9f3a"
             ],
             [
              0.8888888888888888,
              "#fdca26"
             ],
             [
              1,
              "#f0f921"
             ]
            ],
            "type": "histogram2dcontour"
           }
          ],
          "mesh3d": [
           {
            "colorbar": {
             "outlinewidth": 0,
             "ticks": ""
            },
            "type": "mesh3d"
           }
          ],
          "parcoords": [
           {
            "line": {
             "colorbar": {
              "outlinewidth": 0,
              "ticks": ""
             }
            },
            "type": "parcoords"
           }
          ],
          "pie": [
           {
            "automargin": true,
            "type": "pie"
           }
          ],
          "scatter": [
           {
            "marker": {
             "colorbar": {
              "outlinewidth": 0,
              "ticks": ""
             }
            },
            "type": "scatter"
           }
          ],
          "scatter3d": [
           {
            "line": {
             "colorbar": {
              "outlinewidth": 0,
              "ticks": ""
             }
            },
            "marker": {
             "colorbar": {
              "outlinewidth": 0,
              "ticks": ""
             }
            },
            "type": "scatter3d"
           }
          ],
          "scattercarpet": [
           {
            "marker": {
             "colorbar": {
              "outlinewidth": 0,
              "ticks": ""
             }
            },
            "type": "scattercarpet"
           }
          ],
          "scattergeo": [
           {
            "marker": {
             "colorbar": {
              "outlinewidth": 0,
              "ticks": ""
             }
            },
            "type": "scattergeo"
           }
          ],
          "scattergl": [
           {
            "marker": {
             "colorbar": {
              "outlinewidth": 0,
              "ticks": ""
             }
            },
            "type": "scattergl"
           }
          ],
          "scattermapbox": [
           {
            "marker": {
             "colorbar": {
              "outlinewidth": 0,
              "ticks": ""
             }
            },
            "type": "scattermapbox"
           }
          ],
          "scatterpolar": [
           {
            "marker": {
             "colorbar": {
              "outlinewidth": 0,
              "ticks": ""
             }
            },
            "type": "scatterpolar"
           }
          ],
          "scatterpolargl": [
           {
            "marker": {
             "colorbar": {
              "outlinewidth": 0,
              "ticks": ""
             }
            },
            "type": "scatterpolargl"
           }
          ],
          "scatterternary": [
           {
            "marker": {
             "colorbar": {
              "outlinewidth": 0,
              "ticks": ""
             }
            },
            "type": "scatterternary"
           }
          ],
          "surface": [
           {
            "colorbar": {
             "outlinewidth": 0,
             "ticks": ""
            },
            "colorscale": [
             [
              0,
              "#0d0887"
             ],
             [
              0.1111111111111111,
              "#46039f"
             ],
             [
              0.2222222222222222,
              "#7201a8"
             ],
             [
              0.3333333333333333,
              "#9c179e"
             ],
             [
              0.4444444444444444,
              "#bd3786"
             ],
             [
              0.5555555555555556,
              "#d8576b"
             ],
             [
              0.6666666666666666,
              "#ed7953"
             ],
             [
              0.7777777777777778,
              "#fb9f3a"
             ],
             [
              0.8888888888888888,
              "#fdca26"
             ],
             [
              1,
              "#f0f921"
             ]
            ],
            "type": "surface"
           }
          ],
          "table": [
           {
            "cells": {
             "fill": {
              "color": "#EBF0F8"
             },
             "line": {
              "color": "white"
             }
            },
            "header": {
             "fill": {
              "color": "#C8D4E3"
             },
             "line": {
              "color": "white"
             }
            },
            "type": "table"
           }
          ]
         },
         "layout": {
          "annotationdefaults": {
           "arrowcolor": "#2a3f5f",
           "arrowhead": 0,
           "arrowwidth": 1
          },
          "coloraxis": {
           "colorbar": {
            "outlinewidth": 0,
            "ticks": ""
           }
          },
          "colorscale": {
           "diverging": [
            [
             0,
             "#8e0152"
            ],
            [
             0.1,
             "#c51b7d"
            ],
            [
             0.2,
             "#de77ae"
            ],
            [
             0.3,
             "#f1b6da"
            ],
            [
             0.4,
             "#fde0ef"
            ],
            [
             0.5,
             "#f7f7f7"
            ],
            [
             0.6,
             "#e6f5d0"
            ],
            [
             0.7,
             "#b8e186"
            ],
            [
             0.8,
             "#7fbc41"
            ],
            [
             0.9,
             "#4d9221"
            ],
            [
             1,
             "#276419"
            ]
           ],
           "sequential": [
            [
             0,
             "#0d0887"
            ],
            [
             0.1111111111111111,
             "#46039f"
            ],
            [
             0.2222222222222222,
             "#7201a8"
            ],
            [
             0.3333333333333333,
             "#9c179e"
            ],
            [
             0.4444444444444444,
             "#bd3786"
            ],
            [
             0.5555555555555556,
             "#d8576b"
            ],
            [
             0.6666666666666666,
             "#ed7953"
            ],
            [
             0.7777777777777778,
             "#fb9f3a"
            ],
            [
             0.8888888888888888,
             "#fdca26"
            ],
            [
             1,
             "#f0f921"
            ]
           ],
           "sequentialminus": [
            [
             0,
             "#0d0887"
            ],
            [
             0.1111111111111111,
             "#46039f"
            ],
            [
             0.2222222222222222,
             "#7201a8"
            ],
            [
             0.3333333333333333,
             "#9c179e"
            ],
            [
             0.4444444444444444,
             "#bd3786"
            ],
            [
             0.5555555555555556,
             "#d8576b"
            ],
            [
             0.6666666666666666,
             "#ed7953"
            ],
            [
             0.7777777777777778,
             "#fb9f3a"
            ],
            [
             0.8888888888888888,
             "#fdca26"
            ],
            [
             1,
             "#f0f921"
            ]
           ]
          },
          "colorway": [
           "#636efa",
           "#EF553B",
           "#00cc96",
           "#ab63fa",
           "#FFA15A",
           "#19d3f3",
           "#FF6692",
           "#B6E880",
           "#FF97FF",
           "#FECB52"
          ],
          "font": {
           "color": "#2a3f5f"
          },
          "geo": {
           "bgcolor": "white",
           "lakecolor": "white",
           "landcolor": "#E5ECF6",
           "showlakes": true,
           "showland": true,
           "subunitcolor": "white"
          },
          "hoverlabel": {
           "align": "left"
          },
          "hovermode": "closest",
          "mapbox": {
           "style": "light"
          },
          "paper_bgcolor": "white",
          "plot_bgcolor": "#E5ECF6",
          "polar": {
           "angularaxis": {
            "gridcolor": "white",
            "linecolor": "white",
            "ticks": ""
           },
           "bgcolor": "#E5ECF6",
           "radialaxis": {
            "gridcolor": "white",
            "linecolor": "white",
            "ticks": ""
           }
          },
          "scene": {
           "xaxis": {
            "backgroundcolor": "#E5ECF6",
            "gridcolor": "white",
            "gridwidth": 2,
            "linecolor": "white",
            "showbackground": true,
            "ticks": "",
            "zerolinecolor": "white"
           },
           "yaxis": {
            "backgroundcolor": "#E5ECF6",
            "gridcolor": "white",
            "gridwidth": 2,
            "linecolor": "white",
            "showbackground": true,
            "ticks": "",
            "zerolinecolor": "white"
           },
           "zaxis": {
            "backgroundcolor": "#E5ECF6",
            "gridcolor": "white",
            "gridwidth": 2,
            "linecolor": "white",
            "showbackground": true,
            "ticks": "",
            "zerolinecolor": "white"
           }
          },
          "shapedefaults": {
           "line": {
            "color": "#2a3f5f"
           }
          },
          "ternary": {
           "aaxis": {
            "gridcolor": "white",
            "linecolor": "white",
            "ticks": ""
           },
           "baxis": {
            "gridcolor": "white",
            "linecolor": "white",
            "ticks": ""
           },
           "bgcolor": "#E5ECF6",
           "caxis": {
            "gridcolor": "white",
            "linecolor": "white",
            "ticks": ""
           }
          },
          "title": {
           "x": 0.05
          },
          "xaxis": {
           "automargin": true,
           "gridcolor": "white",
           "linecolor": "white",
           "ticks": "",
           "title": {
            "standoff": 15
           },
           "zerolinecolor": "white",
           "zerolinewidth": 2
          },
          "yaxis": {
           "automargin": true,
           "gridcolor": "white",
           "linecolor": "white",
           "ticks": "",
           "title": {
            "standoff": 15
           },
           "zerolinecolor": "white",
           "zerolinewidth": 2
          }
         }
        },
        "title": {
         "text": "Gender vs Suvival Sum"
        },
        "xaxis": {
         "anchor": "y",
         "categoryarray": [
          "female",
          "male"
         ],
         "categoryorder": "array",
         "domain": [
          0,
          1
         ],
         "title": {
          "text": "Sex"
         }
        },
        "yaxis": {
         "anchor": "x",
         "domain": [
          0,
          1
         ],
         "title": {
          "text": "Survival Sum"
         }
        }
       }
      },
      "text/html": [
       "<div>\n",
       "        \n",
       "        \n",
       "            <div id=\"f88d36f6-796c-44d2-937e-8baa8a7133c1\" class=\"plotly-graph-div\" style=\"height:500px; width:100%;\"></div>\n",
       "            <script type=\"text/javascript\">\n",
       "                require([\"plotly\"], function(Plotly) {\n",
       "                    window.PLOTLYENV=window.PLOTLYENV || {};\n",
       "                    \n",
       "                if (document.getElementById(\"f88d36f6-796c-44d2-937e-8baa8a7133c1\")) {\n",
       "                    Plotly.newPlot(\n",
       "                        'f88d36f6-796c-44d2-937e-8baa8a7133c1',\n",
       "                        [{\"alignmentgroup\": \"True\", \"hovertemplate\": \"Sex=%{x}<br>Survived=%{y}<extra></extra>\", \"legendgroup\": \"female\", \"marker\": {\"color\": \"#636efa\"}, \"name\": \"female\", \"offsetgroup\": \"female\", \"orientation\": \"v\", \"showlegend\": true, \"textposition\": \"auto\", \"type\": \"bar\", \"x\": [\"female\"], \"xaxis\": \"x\", \"y\": [233], \"yaxis\": \"y\"}, {\"alignmentgroup\": \"True\", \"hovertemplate\": \"Sex=%{x}<br>Survived=%{y}<extra></extra>\", \"legendgroup\": \"male\", \"marker\": {\"color\": \"#EF553B\"}, \"name\": \"male\", \"offsetgroup\": \"male\", \"orientation\": \"v\", \"showlegend\": true, \"textposition\": \"auto\", \"type\": \"bar\", \"x\": [\"male\"], \"xaxis\": \"x\", \"y\": [109], \"yaxis\": \"y\"}],\n",
       "                        {\"barmode\": \"relative\", \"height\": 500, \"legend\": {\"title\": {\"text\": \"Sex\"}, \"tracegroupgap\": 0}, \"margin\": {\"t\": 60}, \"template\": {\"data\": {\"bar\": [{\"error_x\": {\"color\": \"#2a3f5f\"}, \"error_y\": {\"color\": \"#2a3f5f\"}, \"marker\": {\"line\": {\"color\": \"#E5ECF6\", \"width\": 0.5}}, \"type\": \"bar\"}], \"barpolar\": [{\"marker\": {\"line\": {\"color\": \"#E5ECF6\", \"width\": 0.5}}, \"type\": \"barpolar\"}], \"carpet\": [{\"aaxis\": {\"endlinecolor\": \"#2a3f5f\", \"gridcolor\": \"white\", \"linecolor\": \"white\", \"minorgridcolor\": \"white\", \"startlinecolor\": \"#2a3f5f\"}, \"baxis\": {\"endlinecolor\": \"#2a3f5f\", \"gridcolor\": \"white\", \"linecolor\": \"white\", \"minorgridcolor\": \"white\", \"startlinecolor\": \"#2a3f5f\"}, \"type\": \"carpet\"}], \"choropleth\": [{\"colorbar\": {\"outlinewidth\": 0, \"ticks\": \"\"}, \"type\": \"choropleth\"}], \"contour\": [{\"colorbar\": {\"outlinewidth\": 0, \"ticks\": \"\"}, \"colorscale\": [[0.0, \"#0d0887\"], [0.1111111111111111, \"#46039f\"], [0.2222222222222222, \"#7201a8\"], [0.3333333333333333, \"#9c179e\"], [0.4444444444444444, \"#bd3786\"], [0.5555555555555556, \"#d8576b\"], [0.6666666666666666, \"#ed7953\"], [0.7777777777777778, \"#fb9f3a\"], [0.8888888888888888, \"#fdca26\"], [1.0, \"#f0f921\"]], \"type\": \"contour\"}], \"contourcarpet\": [{\"colorbar\": {\"outlinewidth\": 0, \"ticks\": \"\"}, \"type\": \"contourcarpet\"}], \"heatmap\": [{\"colorbar\": {\"outlinewidth\": 0, \"ticks\": \"\"}, \"colorscale\": [[0.0, \"#0d0887\"], [0.1111111111111111, \"#46039f\"], [0.2222222222222222, \"#7201a8\"], [0.3333333333333333, \"#9c179e\"], [0.4444444444444444, \"#bd3786\"], [0.5555555555555556, \"#d8576b\"], [0.6666666666666666, \"#ed7953\"], [0.7777777777777778, \"#fb9f3a\"], [0.8888888888888888, \"#fdca26\"], [1.0, \"#f0f921\"]], \"type\": \"heatmap\"}], \"heatmapgl\": [{\"colorbar\": {\"outlinewidth\": 0, \"ticks\": \"\"}, \"colorscale\": [[0.0, \"#0d0887\"], [0.1111111111111111, \"#46039f\"], [0.2222222222222222, \"#7201a8\"], [0.3333333333333333, \"#9c179e\"], [0.4444444444444444, \"#bd3786\"], [0.5555555555555556, \"#d8576b\"], [0.6666666666666666, \"#ed7953\"], [0.7777777777777778, \"#fb9f3a\"], [0.8888888888888888, \"#fdca26\"], [1.0, \"#f0f921\"]], \"type\": \"heatmapgl\"}], \"histogram\": [{\"marker\": {\"colorbar\": {\"outlinewidth\": 0, \"ticks\": \"\"}}, \"type\": \"histogram\"}], \"histogram2d\": [{\"colorbar\": {\"outlinewidth\": 0, \"ticks\": \"\"}, \"colorscale\": [[0.0, \"#0d0887\"], [0.1111111111111111, \"#46039f\"], [0.2222222222222222, \"#7201a8\"], [0.3333333333333333, \"#9c179e\"], [0.4444444444444444, \"#bd3786\"], [0.5555555555555556, \"#d8576b\"], [0.6666666666666666, \"#ed7953\"], [0.7777777777777778, \"#fb9f3a\"], [0.8888888888888888, \"#fdca26\"], [1.0, \"#f0f921\"]], \"type\": \"histogram2d\"}], \"histogram2dcontour\": [{\"colorbar\": {\"outlinewidth\": 0, \"ticks\": \"\"}, \"colorscale\": [[0.0, \"#0d0887\"], [0.1111111111111111, \"#46039f\"], [0.2222222222222222, \"#7201a8\"], [0.3333333333333333, \"#9c179e\"], [0.4444444444444444, \"#bd3786\"], [0.5555555555555556, \"#d8576b\"], [0.6666666666666666, \"#ed7953\"], [0.7777777777777778, \"#fb9f3a\"], [0.8888888888888888, \"#fdca26\"], [1.0, \"#f0f921\"]], \"type\": \"histogram2dcontour\"}], \"mesh3d\": [{\"colorbar\": {\"outlinewidth\": 0, \"ticks\": \"\"}, \"type\": \"mesh3d\"}], \"parcoords\": [{\"line\": {\"colorbar\": {\"outlinewidth\": 0, \"ticks\": \"\"}}, \"type\": \"parcoords\"}], \"pie\": [{\"automargin\": true, \"type\": \"pie\"}], \"scatter\": [{\"marker\": {\"colorbar\": {\"outlinewidth\": 0, \"ticks\": \"\"}}, \"type\": \"scatter\"}], \"scatter3d\": [{\"line\": {\"colorbar\": {\"outlinewidth\": 0, \"ticks\": \"\"}}, \"marker\": {\"colorbar\": {\"outlinewidth\": 0, \"ticks\": \"\"}}, \"type\": \"scatter3d\"}], \"scattercarpet\": [{\"marker\": {\"colorbar\": {\"outlinewidth\": 0, \"ticks\": \"\"}}, \"type\": \"scattercarpet\"}], \"scattergeo\": [{\"marker\": {\"colorbar\": {\"outlinewidth\": 0, \"ticks\": \"\"}}, \"type\": \"scattergeo\"}], \"scattergl\": [{\"marker\": {\"colorbar\": {\"outlinewidth\": 0, \"ticks\": \"\"}}, \"type\": \"scattergl\"}], \"scattermapbox\": [{\"marker\": {\"colorbar\": {\"outlinewidth\": 0, \"ticks\": \"\"}}, \"type\": \"scattermapbox\"}], \"scatterpolar\": [{\"marker\": {\"colorbar\": {\"outlinewidth\": 0, \"ticks\": \"\"}}, \"type\": \"scatterpolar\"}], \"scatterpolargl\": [{\"marker\": {\"colorbar\": {\"outlinewidth\": 0, \"ticks\": \"\"}}, \"type\": \"scatterpolargl\"}], \"scatterternary\": [{\"marker\": {\"colorbar\": {\"outlinewidth\": 0, \"ticks\": \"\"}}, \"type\": \"scatterternary\"}], \"surface\": [{\"colorbar\": {\"outlinewidth\": 0, \"ticks\": \"\"}, \"colorscale\": [[0.0, \"#0d0887\"], [0.1111111111111111, \"#46039f\"], [0.2222222222222222, \"#7201a8\"], [0.3333333333333333, \"#9c179e\"], [0.4444444444444444, \"#bd3786\"], [0.5555555555555556, \"#d8576b\"], [0.6666666666666666, \"#ed7953\"], [0.7777777777777778, \"#fb9f3a\"], [0.8888888888888888, \"#fdca26\"], [1.0, \"#f0f921\"]], \"type\": \"surface\"}], \"table\": [{\"cells\": {\"fill\": {\"color\": \"#EBF0F8\"}, \"line\": {\"color\": \"white\"}}, \"header\": {\"fill\": {\"color\": \"#C8D4E3\"}, \"line\": {\"color\": \"white\"}}, \"type\": \"table\"}]}, \"layout\": {\"annotationdefaults\": {\"arrowcolor\": \"#2a3f5f\", \"arrowhead\": 0, \"arrowwidth\": 1}, \"coloraxis\": {\"colorbar\": {\"outlinewidth\": 0, \"ticks\": \"\"}}, \"colorscale\": {\"diverging\": [[0, \"#8e0152\"], [0.1, \"#c51b7d\"], [0.2, \"#de77ae\"], [0.3, \"#f1b6da\"], [0.4, \"#fde0ef\"], [0.5, \"#f7f7f7\"], [0.6, \"#e6f5d0\"], [0.7, \"#b8e186\"], [0.8, \"#7fbc41\"], [0.9, \"#4d9221\"], [1, \"#276419\"]], \"sequential\": [[0.0, \"#0d0887\"], [0.1111111111111111, \"#46039f\"], [0.2222222222222222, \"#7201a8\"], [0.3333333333333333, \"#9c179e\"], [0.4444444444444444, \"#bd3786\"], [0.5555555555555556, \"#d8576b\"], [0.6666666666666666, \"#ed7953\"], [0.7777777777777778, \"#fb9f3a\"], [0.8888888888888888, \"#fdca26\"], [1.0, \"#f0f921\"]], \"sequentialminus\": [[0.0, \"#0d0887\"], [0.1111111111111111, \"#46039f\"], [0.2222222222222222, \"#7201a8\"], [0.3333333333333333, \"#9c179e\"], [0.4444444444444444, \"#bd3786\"], [0.5555555555555556, \"#d8576b\"], [0.6666666666666666, \"#ed7953\"], [0.7777777777777778, \"#fb9f3a\"], [0.8888888888888888, \"#fdca26\"], [1.0, \"#f0f921\"]]}, \"colorway\": [\"#636efa\", \"#EF553B\", \"#00cc96\", \"#ab63fa\", \"#FFA15A\", \"#19d3f3\", \"#FF6692\", \"#B6E880\", \"#FF97FF\", \"#FECB52\"], \"font\": {\"color\": \"#2a3f5f\"}, \"geo\": {\"bgcolor\": \"white\", \"lakecolor\": \"white\", \"landcolor\": \"#E5ECF6\", \"showlakes\": true, \"showland\": true, \"subunitcolor\": \"white\"}, \"hoverlabel\": {\"align\": \"left\"}, \"hovermode\": \"closest\", \"mapbox\": {\"style\": \"light\"}, \"paper_bgcolor\": \"white\", \"plot_bgcolor\": \"#E5ECF6\", \"polar\": {\"angularaxis\": {\"gridcolor\": \"white\", \"linecolor\": \"white\", \"ticks\": \"\"}, \"bgcolor\": \"#E5ECF6\", \"radialaxis\": {\"gridcolor\": \"white\", \"linecolor\": \"white\", \"ticks\": \"\"}}, \"scene\": {\"xaxis\": {\"backgroundcolor\": \"#E5ECF6\", \"gridcolor\": \"white\", \"gridwidth\": 2, \"linecolor\": \"white\", \"showbackground\": true, \"ticks\": \"\", \"zerolinecolor\": \"white\"}, \"yaxis\": {\"backgroundcolor\": \"#E5ECF6\", \"gridcolor\": \"white\", \"gridwidth\": 2, \"linecolor\": \"white\", \"showbackground\": true, \"ticks\": \"\", \"zerolinecolor\": \"white\"}, \"zaxis\": {\"backgroundcolor\": \"#E5ECF6\", \"gridcolor\": \"white\", \"gridwidth\": 2, \"linecolor\": \"white\", \"showbackground\": true, \"ticks\": \"\", \"zerolinecolor\": \"white\"}}, \"shapedefaults\": {\"line\": {\"color\": \"#2a3f5f\"}}, \"ternary\": {\"aaxis\": {\"gridcolor\": \"white\", \"linecolor\": \"white\", \"ticks\": \"\"}, \"baxis\": {\"gridcolor\": \"white\", \"linecolor\": \"white\", \"ticks\": \"\"}, \"bgcolor\": \"#E5ECF6\", \"caxis\": {\"gridcolor\": \"white\", \"linecolor\": \"white\", \"ticks\": \"\"}}, \"title\": {\"x\": 0.05}, \"xaxis\": {\"automargin\": true, \"gridcolor\": \"white\", \"linecolor\": \"white\", \"ticks\": \"\", \"title\": {\"standoff\": 15}, \"zerolinecolor\": \"white\", \"zerolinewidth\": 2}, \"yaxis\": {\"automargin\": true, \"gridcolor\": \"white\", \"linecolor\": \"white\", \"ticks\": \"\", \"title\": {\"standoff\": 15}, \"zerolinecolor\": \"white\", \"zerolinewidth\": 2}}}, \"title\": {\"text\": \"Gender vs Suvival Sum\"}, \"xaxis\": {\"anchor\": \"y\", \"categoryarray\": [\"female\", \"male\"], \"categoryorder\": \"array\", \"domain\": [0.0, 1.0], \"title\": {\"text\": \"Sex\"}}, \"yaxis\": {\"anchor\": \"x\", \"domain\": [0.0, 1.0], \"title\": {\"text\": \"Survival Sum\"}}},\n",
       "                        {\"responsive\": true}\n",
       "                    ).then(function(){\n",
       "                            \n",
       "var gd = document.getElementById('f88d36f6-796c-44d2-937e-8baa8a7133c1');\n",
       "var x = new MutationObserver(function (mutations, observer) {{\n",
       "        var display = window.getComputedStyle(gd).display;\n",
       "        if (!display || display === 'none') {{\n",
       "            console.log([gd, 'removed!']);\n",
       "            Plotly.purge(gd);\n",
       "            observer.disconnect();\n",
       "        }}\n",
       "}});\n",
       "\n",
       "// Listen for the removal of the full notebook cells\n",
       "var notebookContainer = gd.closest('#notebook-container');\n",
       "if (notebookContainer) {{\n",
       "    x.observe(notebookContainer, {childList: true});\n",
       "}}\n",
       "\n",
       "// Listen for the clearing of the current output cell\n",
       "var outputEl = gd.closest('.output');\n",
       "if (outputEl) {{\n",
       "    x.observe(outputEl, {childList: true});\n",
       "}}\n",
       "\n",
       "                        })\n",
       "                };\n",
       "                });\n",
       "            </script>\n",
       "        </div>"
      ]
     },
     "metadata": {},
     "output_type": "display_data"
    }
   ],
   "source": [
    "## Vertical\n",
    "fig = px.bar(pivot_survived,x='Sex',y='Survived',color='Sex', height = 500)\n",
    "fig.update_layout(xaxis_title='Sex',yaxis_title='Survival Sum',title='Gender vs Suvival Sum').show();\n"
   ]
  },
  {
   "cell_type": "code",
   "execution_count": 93,
   "metadata": {},
   "outputs": [
    {
     "data": {
      "application/vnd.plotly.v1+json": {
       "config": {
        "plotlyServerURL": "https://plot.ly"
       },
       "data": [
        {
         "alignmentgroup": "True",
         "hovertemplate": "Sex=%{y}<br>Survived=%{x}<extra></extra>",
         "legendgroup": "female",
         "marker": {
          "color": "#636efa"
         },
         "name": "female",
         "offsetgroup": "female",
         "orientation": "h",
         "showlegend": true,
         "textposition": "auto",
         "type": "bar",
         "x": [
          233
         ],
         "xaxis": "x",
         "y": [
          "female"
         ],
         "yaxis": "y"
        },
        {
         "alignmentgroup": "True",
         "hovertemplate": "Sex=%{y}<br>Survived=%{x}<extra></extra>",
         "legendgroup": "male",
         "marker": {
          "color": "#EF553B"
         },
         "name": "male",
         "offsetgroup": "male",
         "orientation": "h",
         "showlegend": true,
         "textposition": "auto",
         "type": "bar",
         "x": [
          109
         ],
         "xaxis": "x",
         "y": [
          "male"
         ],
         "yaxis": "y"
        }
       ],
       "layout": {
        "barmode": "relative",
        "height": 500,
        "legend": {
         "title": {
          "text": "Sex"
         },
         "tracegroupgap": 0
        },
        "margin": {
         "t": 60
        },
        "template": {
         "data": {
          "bar": [
           {
            "error_x": {
             "color": "#2a3f5f"
            },
            "error_y": {
             "color": "#2a3f5f"
            },
            "marker": {
             "line": {
              "color": "#E5ECF6",
              "width": 0.5
             }
            },
            "type": "bar"
           }
          ],
          "barpolar": [
           {
            "marker": {
             "line": {
              "color": "#E5ECF6",
              "width": 0.5
             }
            },
            "type": "barpolar"
           }
          ],
          "carpet": [
           {
            "aaxis": {
             "endlinecolor": "#2a3f5f",
             "gridcolor": "white",
             "linecolor": "white",
             "minorgridcolor": "white",
             "startlinecolor": "#2a3f5f"
            },
            "baxis": {
             "endlinecolor": "#2a3f5f",
             "gridcolor": "white",
             "linecolor": "white",
             "minorgridcolor": "white",
             "startlinecolor": "#2a3f5f"
            },
            "type": "carpet"
           }
          ],
          "choropleth": [
           {
            "colorbar": {
             "outlinewidth": 0,
             "ticks": ""
            },
            "type": "choropleth"
           }
          ],
          "contour": [
           {
            "colorbar": {
             "outlinewidth": 0,
             "ticks": ""
            },
            "colorscale": [
             [
              0,
              "#0d0887"
             ],
             [
              0.1111111111111111,
              "#46039f"
             ],
             [
              0.2222222222222222,
              "#7201a8"
             ],
             [
              0.3333333333333333,
              "#9c179e"
             ],
             [
              0.4444444444444444,
              "#bd3786"
             ],
             [
              0.5555555555555556,
              "#d8576b"
             ],
             [
              0.6666666666666666,
              "#ed7953"
             ],
             [
              0.7777777777777778,
              "#fb9f3a"
             ],
             [
              0.8888888888888888,
              "#fdca26"
             ],
             [
              1,
              "#f0f921"
             ]
            ],
            "type": "contour"
           }
          ],
          "contourcarpet": [
           {
            "colorbar": {
             "outlinewidth": 0,
             "ticks": ""
            },
            "type": "contourcarpet"
           }
          ],
          "heatmap": [
           {
            "colorbar": {
             "outlinewidth": 0,
             "ticks": ""
            },
            "colorscale": [
             [
              0,
              "#0d0887"
             ],
             [
              0.1111111111111111,
              "#46039f"
             ],
             [
              0.2222222222222222,
              "#7201a8"
             ],
             [
              0.3333333333333333,
              "#9c179e"
             ],
             [
              0.4444444444444444,
              "#bd3786"
             ],
             [
              0.5555555555555556,
              "#d8576b"
             ],
             [
              0.6666666666666666,
              "#ed7953"
             ],
             [
              0.7777777777777778,
              "#fb9f3a"
             ],
             [
              0.8888888888888888,
              "#fdca26"
             ],
             [
              1,
              "#f0f921"
             ]
            ],
            "type": "heatmap"
           }
          ],
          "heatmapgl": [
           {
            "colorbar": {
             "outlinewidth": 0,
             "ticks": ""
            },
            "colorscale": [
             [
              0,
              "#0d0887"
             ],
             [
              0.1111111111111111,
              "#46039f"
             ],
             [
              0.2222222222222222,
              "#7201a8"
             ],
             [
              0.3333333333333333,
              "#9c179e"
             ],
             [
              0.4444444444444444,
              "#bd3786"
             ],
             [
              0.5555555555555556,
              "#d8576b"
             ],
             [
              0.6666666666666666,
              "#ed7953"
             ],
             [
              0.7777777777777778,
              "#fb9f3a"
             ],
             [
              0.8888888888888888,
              "#fdca26"
             ],
             [
              1,
              "#f0f921"
             ]
            ],
            "type": "heatmapgl"
           }
          ],
          "histogram": [
           {
            "marker": {
             "colorbar": {
              "outlinewidth": 0,
              "ticks": ""
             }
            },
            "type": "histogram"
           }
          ],
          "histogram2d": [
           {
            "colorbar": {
             "outlinewidth": 0,
             "ticks": ""
            },
            "colorscale": [
             [
              0,
              "#0d0887"
             ],
             [
              0.1111111111111111,
              "#46039f"
             ],
             [
              0.2222222222222222,
              "#7201a8"
             ],
             [
              0.3333333333333333,
              "#9c179e"
             ],
             [
              0.4444444444444444,
              "#bd3786"
             ],
             [
              0.5555555555555556,
              "#d8576b"
             ],
             [
              0.6666666666666666,
              "#ed7953"
             ],
             [
              0.7777777777777778,
              "#fb9f3a"
             ],
             [
              0.8888888888888888,
              "#fdca26"
             ],
             [
              1,
              "#f0f921"
             ]
            ],
            "type": "histogram2d"
           }
          ],
          "histogram2dcontour": [
           {
            "colorbar": {
             "outlinewidth": 0,
             "ticks": ""
            },
            "colorscale": [
             [
              0,
              "#0d0887"
             ],
             [
              0.1111111111111111,
              "#46039f"
             ],
             [
              0.2222222222222222,
              "#7201a8"
             ],
             [
              0.3333333333333333,
              "#9c179e"
             ],
             [
              0.4444444444444444,
              "#bd3786"
             ],
             [
              0.5555555555555556,
              "#d8576b"
             ],
             [
              0.6666666666666666,
              "#ed7953"
             ],
             [
              0.7777777777777778,
              "#fb9f3a"
             ],
             [
              0.8888888888888888,
              "#fdca26"
             ],
             [
              1,
              "#f0f921"
             ]
            ],
            "type": "histogram2dcontour"
           }
          ],
          "mesh3d": [
           {
            "colorbar": {
             "outlinewidth": 0,
             "ticks": ""
            },
            "type": "mesh3d"
           }
          ],
          "parcoords": [
           {
            "line": {
             "colorbar": {
              "outlinewidth": 0,
              "ticks": ""
             }
            },
            "type": "parcoords"
           }
          ],
          "pie": [
           {
            "automargin": true,
            "type": "pie"
           }
          ],
          "scatter": [
           {
            "marker": {
             "colorbar": {
              "outlinewidth": 0,
              "ticks": ""
             }
            },
            "type": "scatter"
           }
          ],
          "scatter3d": [
           {
            "line": {
             "colorbar": {
              "outlinewidth": 0,
              "ticks": ""
             }
            },
            "marker": {
             "colorbar": {
              "outlinewidth": 0,
              "ticks": ""
             }
            },
            "type": "scatter3d"
           }
          ],
          "scattercarpet": [
           {
            "marker": {
             "colorbar": {
              "outlinewidth": 0,
              "ticks": ""
             }
            },
            "type": "scattercarpet"
           }
          ],
          "scattergeo": [
           {
            "marker": {
             "colorbar": {
              "outlinewidth": 0,
              "ticks": ""
             }
            },
            "type": "scattergeo"
           }
          ],
          "scattergl": [
           {
            "marker": {
             "colorbar": {
              "outlinewidth": 0,
              "ticks": ""
             }
            },
            "type": "scattergl"
           }
          ],
          "scattermapbox": [
           {
            "marker": {
             "colorbar": {
              "outlinewidth": 0,
              "ticks": ""
             }
            },
            "type": "scattermapbox"
           }
          ],
          "scatterpolar": [
           {
            "marker": {
             "colorbar": {
              "outlinewidth": 0,
              "ticks": ""
             }
            },
            "type": "scatterpolar"
           }
          ],
          "scatterpolargl": [
           {
            "marker": {
             "colorbar": {
              "outlinewidth": 0,
              "ticks": ""
             }
            },
            "type": "scatterpolargl"
           }
          ],
          "scatterternary": [
           {
            "marker": {
             "colorbar": {
              "outlinewidth": 0,
              "ticks": ""
             }
            },
            "type": "scatterternary"
           }
          ],
          "surface": [
           {
            "colorbar": {
             "outlinewidth": 0,
             "ticks": ""
            },
            "colorscale": [
             [
              0,
              "#0d0887"
             ],
             [
              0.1111111111111111,
              "#46039f"
             ],
             [
              0.2222222222222222,
              "#7201a8"
             ],
             [
              0.3333333333333333,
              "#9c179e"
             ],
             [
              0.4444444444444444,
              "#bd3786"
             ],
             [
              0.5555555555555556,
              "#d8576b"
             ],
             [
              0.6666666666666666,
              "#ed7953"
             ],
             [
              0.7777777777777778,
              "#fb9f3a"
             ],
             [
              0.8888888888888888,
              "#fdca26"
             ],
             [
              1,
              "#f0f921"
             ]
            ],
            "type": "surface"
           }
          ],
          "table": [
           {
            "cells": {
             "fill": {
              "color": "#EBF0F8"
             },
             "line": {
              "color": "white"
             }
            },
            "header": {
             "fill": {
              "color": "#C8D4E3"
             },
             "line": {
              "color": "white"
             }
            },
            "type": "table"
           }
          ]
         },
         "layout": {
          "annotationdefaults": {
           "arrowcolor": "#2a3f5f",
           "arrowhead": 0,
           "arrowwidth": 1
          },
          "coloraxis": {
           "colorbar": {
            "outlinewidth": 0,
            "ticks": ""
           }
          },
          "colorscale": {
           "diverging": [
            [
             0,
             "#8e0152"
            ],
            [
             0.1,
             "#c51b7d"
            ],
            [
             0.2,
             "#de77ae"
            ],
            [
             0.3,
             "#f1b6da"
            ],
            [
             0.4,
             "#fde0ef"
            ],
            [
             0.5,
             "#f7f7f7"
            ],
            [
             0.6,
             "#e6f5d0"
            ],
            [
             0.7,
             "#b8e186"
            ],
            [
             0.8,
             "#7fbc41"
            ],
            [
             0.9,
             "#4d9221"
            ],
            [
             1,
             "#276419"
            ]
           ],
           "sequential": [
            [
             0,
             "#0d0887"
            ],
            [
             0.1111111111111111,
             "#46039f"
            ],
            [
             0.2222222222222222,
             "#7201a8"
            ],
            [
             0.3333333333333333,
             "#9c179e"
            ],
            [
             0.4444444444444444,
             "#bd3786"
            ],
            [
             0.5555555555555556,
             "#d8576b"
            ],
            [
             0.6666666666666666,
             "#ed7953"
            ],
            [
             0.7777777777777778,
             "#fb9f3a"
            ],
            [
             0.8888888888888888,
             "#fdca26"
            ],
            [
             1,
             "#f0f921"
            ]
           ],
           "sequentialminus": [
            [
             0,
             "#0d0887"
            ],
            [
             0.1111111111111111,
             "#46039f"
            ],
            [
             0.2222222222222222,
             "#7201a8"
            ],
            [
             0.3333333333333333,
             "#9c179e"
            ],
            [
             0.4444444444444444,
             "#bd3786"
            ],
            [
             0.5555555555555556,
             "#d8576b"
            ],
            [
             0.6666666666666666,
             "#ed7953"
            ],
            [
             0.7777777777777778,
             "#fb9f3a"
            ],
            [
             0.8888888888888888,
             "#fdca26"
            ],
            [
             1,
             "#f0f921"
            ]
           ]
          },
          "colorway": [
           "#636efa",
           "#EF553B",
           "#00cc96",
           "#ab63fa",
           "#FFA15A",
           "#19d3f3",
           "#FF6692",
           "#B6E880",
           "#FF97FF",
           "#FECB52"
          ],
          "font": {
           "color": "#2a3f5f"
          },
          "geo": {
           "bgcolor": "white",
           "lakecolor": "white",
           "landcolor": "#E5ECF6",
           "showlakes": true,
           "showland": true,
           "subunitcolor": "white"
          },
          "hoverlabel": {
           "align": "left"
          },
          "hovermode": "closest",
          "mapbox": {
           "style": "light"
          },
          "paper_bgcolor": "white",
          "plot_bgcolor": "#E5ECF6",
          "polar": {
           "angularaxis": {
            "gridcolor": "white",
            "linecolor": "white",
            "ticks": ""
           },
           "bgcolor": "#E5ECF6",
           "radialaxis": {
            "gridcolor": "white",
            "linecolor": "white",
            "ticks": ""
           }
          },
          "scene": {
           "xaxis": {
            "backgroundcolor": "#E5ECF6",
            "gridcolor": "white",
            "gridwidth": 2,
            "linecolor": "white",
            "showbackground": true,
            "ticks": "",
            "zerolinecolor": "white"
           },
           "yaxis": {
            "backgroundcolor": "#E5ECF6",
            "gridcolor": "white",
            "gridwidth": 2,
            "linecolor": "white",
            "showbackground": true,
            "ticks": "",
            "zerolinecolor": "white"
           },
           "zaxis": {
            "backgroundcolor": "#E5ECF6",
            "gridcolor": "white",
            "gridwidth": 2,
            "linecolor": "white",
            "showbackground": true,
            "ticks": "",
            "zerolinecolor": "white"
           }
          },
          "shapedefaults": {
           "line": {
            "color": "#2a3f5f"
           }
          },
          "ternary": {
           "aaxis": {
            "gridcolor": "white",
            "linecolor": "white",
            "ticks": ""
           },
           "baxis": {
            "gridcolor": "white",
            "linecolor": "white",
            "ticks": ""
           },
           "bgcolor": "#E5ECF6",
           "caxis": {
            "gridcolor": "white",
            "linecolor": "white",
            "ticks": ""
           }
          },
          "title": {
           "x": 0.05
          },
          "xaxis": {
           "automargin": true,
           "gridcolor": "white",
           "linecolor": "white",
           "ticks": "",
           "title": {
            "standoff": 15
           },
           "zerolinecolor": "white",
           "zerolinewidth": 2
          },
          "yaxis": {
           "automargin": true,
           "gridcolor": "white",
           "linecolor": "white",
           "ticks": "",
           "title": {
            "standoff": 15
           },
           "zerolinecolor": "white",
           "zerolinewidth": 2
          }
         }
        },
        "title": {
         "text": "Gender vs Suvival Sum"
        },
        "xaxis": {
         "anchor": "y",
         "domain": [
          0,
          1
         ],
         "title": {
          "text": "Survival Sum"
         }
        },
        "yaxis": {
         "anchor": "x",
         "categoryarray": [
          "male",
          "female"
         ],
         "categoryorder": "array",
         "domain": [
          0,
          1
         ],
         "title": {
          "text": "Sex"
         }
        }
       }
      },
      "text/html": [
       "<div>\n",
       "        \n",
       "        \n",
       "            <div id=\"97b73b80-ed26-4c12-aaca-30a6e95e937f\" class=\"plotly-graph-div\" style=\"height:500px; width:100%;\"></div>\n",
       "            <script type=\"text/javascript\">\n",
       "                require([\"plotly\"], function(Plotly) {\n",
       "                    window.PLOTLYENV=window.PLOTLYENV || {};\n",
       "                    \n",
       "                if (document.getElementById(\"97b73b80-ed26-4c12-aaca-30a6e95e937f\")) {\n",
       "                    Plotly.newPlot(\n",
       "                        '97b73b80-ed26-4c12-aaca-30a6e95e937f',\n",
       "                        [{\"alignmentgroup\": \"True\", \"hovertemplate\": \"Sex=%{y}<br>Survived=%{x}<extra></extra>\", \"legendgroup\": \"female\", \"marker\": {\"color\": \"#636efa\"}, \"name\": \"female\", \"offsetgroup\": \"female\", \"orientation\": \"h\", \"showlegend\": true, \"textposition\": \"auto\", \"type\": \"bar\", \"x\": [233], \"xaxis\": \"x\", \"y\": [\"female\"], \"yaxis\": \"y\"}, {\"alignmentgroup\": \"True\", \"hovertemplate\": \"Sex=%{y}<br>Survived=%{x}<extra></extra>\", \"legendgroup\": \"male\", \"marker\": {\"color\": \"#EF553B\"}, \"name\": \"male\", \"offsetgroup\": \"male\", \"orientation\": \"h\", \"showlegend\": true, \"textposition\": \"auto\", \"type\": \"bar\", \"x\": [109], \"xaxis\": \"x\", \"y\": [\"male\"], \"yaxis\": \"y\"}],\n",
       "                        {\"barmode\": \"relative\", \"height\": 500, \"legend\": {\"title\": {\"text\": \"Sex\"}, \"tracegroupgap\": 0}, \"margin\": {\"t\": 60}, \"template\": {\"data\": {\"bar\": [{\"error_x\": {\"color\": \"#2a3f5f\"}, \"error_y\": {\"color\": \"#2a3f5f\"}, \"marker\": {\"line\": {\"color\": \"#E5ECF6\", \"width\": 0.5}}, \"type\": \"bar\"}], \"barpolar\": [{\"marker\": {\"line\": {\"color\": \"#E5ECF6\", \"width\": 0.5}}, \"type\": \"barpolar\"}], \"carpet\": [{\"aaxis\": {\"endlinecolor\": \"#2a3f5f\", \"gridcolor\": \"white\", \"linecolor\": \"white\", \"minorgridcolor\": \"white\", \"startlinecolor\": \"#2a3f5f\"}, \"baxis\": {\"endlinecolor\": \"#2a3f5f\", \"gridcolor\": \"white\", \"linecolor\": \"white\", \"minorgridcolor\": \"white\", \"startlinecolor\": \"#2a3f5f\"}, \"type\": \"carpet\"}], \"choropleth\": [{\"colorbar\": {\"outlinewidth\": 0, \"ticks\": \"\"}, \"type\": \"choropleth\"}], \"contour\": [{\"colorbar\": {\"outlinewidth\": 0, \"ticks\": \"\"}, \"colorscale\": [[0.0, \"#0d0887\"], [0.1111111111111111, \"#46039f\"], [0.2222222222222222, \"#7201a8\"], [0.3333333333333333, \"#9c179e\"], [0.4444444444444444, \"#bd3786\"], [0.5555555555555556, \"#d8576b\"], [0.6666666666666666, \"#ed7953\"], [0.7777777777777778, \"#fb9f3a\"], [0.8888888888888888, \"#fdca26\"], [1.0, \"#f0f921\"]], \"type\": \"contour\"}], \"contourcarpet\": [{\"colorbar\": {\"outlinewidth\": 0, \"ticks\": \"\"}, \"type\": \"contourcarpet\"}], \"heatmap\": [{\"colorbar\": {\"outlinewidth\": 0, \"ticks\": \"\"}, \"colorscale\": [[0.0, \"#0d0887\"], [0.1111111111111111, \"#46039f\"], [0.2222222222222222, \"#7201a8\"], [0.3333333333333333, \"#9c179e\"], [0.4444444444444444, \"#bd3786\"], [0.5555555555555556, \"#d8576b\"], [0.6666666666666666, \"#ed7953\"], [0.7777777777777778, \"#fb9f3a\"], [0.8888888888888888, \"#fdca26\"], [1.0, \"#f0f921\"]], \"type\": \"heatmap\"}], \"heatmapgl\": [{\"colorbar\": {\"outlinewidth\": 0, \"ticks\": \"\"}, \"colorscale\": [[0.0, \"#0d0887\"], [0.1111111111111111, \"#46039f\"], [0.2222222222222222, \"#7201a8\"], [0.3333333333333333, \"#9c179e\"], [0.4444444444444444, \"#bd3786\"], [0.5555555555555556, \"#d8576b\"], [0.6666666666666666, \"#ed7953\"], [0.7777777777777778, \"#fb9f3a\"], [0.8888888888888888, \"#fdca26\"], [1.0, \"#f0f921\"]], \"type\": \"heatmapgl\"}], \"histogram\": [{\"marker\": {\"colorbar\": {\"outlinewidth\": 0, \"ticks\": \"\"}}, \"type\": \"histogram\"}], \"histogram2d\": [{\"colorbar\": {\"outlinewidth\": 0, \"ticks\": \"\"}, \"colorscale\": [[0.0, \"#0d0887\"], [0.1111111111111111, \"#46039f\"], [0.2222222222222222, \"#7201a8\"], [0.3333333333333333, \"#9c179e\"], [0.4444444444444444, \"#bd3786\"], [0.5555555555555556, \"#d8576b\"], [0.6666666666666666, \"#ed7953\"], [0.7777777777777778, \"#fb9f3a\"], [0.8888888888888888, \"#fdca26\"], [1.0, \"#f0f921\"]], \"type\": \"histogram2d\"}], \"histogram2dcontour\": [{\"colorbar\": {\"outlinewidth\": 0, \"ticks\": \"\"}, \"colorscale\": [[0.0, \"#0d0887\"], [0.1111111111111111, \"#46039f\"], [0.2222222222222222, \"#7201a8\"], [0.3333333333333333, \"#9c179e\"], [0.4444444444444444, \"#bd3786\"], [0.5555555555555556, \"#d8576b\"], [0.6666666666666666, \"#ed7953\"], [0.7777777777777778, \"#fb9f3a\"], [0.8888888888888888, \"#fdca26\"], [1.0, \"#f0f921\"]], \"type\": \"histogram2dcontour\"}], \"mesh3d\": [{\"colorbar\": {\"outlinewidth\": 0, \"ticks\": \"\"}, \"type\": \"mesh3d\"}], \"parcoords\": [{\"line\": {\"colorbar\": {\"outlinewidth\": 0, \"ticks\": \"\"}}, \"type\": \"parcoords\"}], \"pie\": [{\"automargin\": true, \"type\": \"pie\"}], \"scatter\": [{\"marker\": {\"colorbar\": {\"outlinewidth\": 0, \"ticks\": \"\"}}, \"type\": \"scatter\"}], \"scatter3d\": [{\"line\": {\"colorbar\": {\"outlinewidth\": 0, \"ticks\": \"\"}}, \"marker\": {\"colorbar\": {\"outlinewidth\": 0, \"ticks\": \"\"}}, \"type\": \"scatter3d\"}], \"scattercarpet\": [{\"marker\": {\"colorbar\": {\"outlinewidth\": 0, \"ticks\": \"\"}}, \"type\": \"scattercarpet\"}], \"scattergeo\": [{\"marker\": {\"colorbar\": {\"outlinewidth\": 0, \"ticks\": \"\"}}, \"type\": \"scattergeo\"}], \"scattergl\": [{\"marker\": {\"colorbar\": {\"outlinewidth\": 0, \"ticks\": \"\"}}, \"type\": \"scattergl\"}], \"scattermapbox\": [{\"marker\": {\"colorbar\": {\"outlinewidth\": 0, \"ticks\": \"\"}}, \"type\": \"scattermapbox\"}], \"scatterpolar\": [{\"marker\": {\"colorbar\": {\"outlinewidth\": 0, \"ticks\": \"\"}}, \"type\": \"scatterpolar\"}], \"scatterpolargl\": [{\"marker\": {\"colorbar\": {\"outlinewidth\": 0, \"ticks\": \"\"}}, \"type\": \"scatterpolargl\"}], \"scatterternary\": [{\"marker\": {\"colorbar\": {\"outlinewidth\": 0, \"ticks\": \"\"}}, \"type\": \"scatterternary\"}], \"surface\": [{\"colorbar\": {\"outlinewidth\": 0, \"ticks\": \"\"}, \"colorscale\": [[0.0, \"#0d0887\"], [0.1111111111111111, \"#46039f\"], [0.2222222222222222, \"#7201a8\"], [0.3333333333333333, \"#9c179e\"], [0.4444444444444444, \"#bd3786\"], [0.5555555555555556, \"#d8576b\"], [0.6666666666666666, \"#ed7953\"], [0.7777777777777778, \"#fb9f3a\"], [0.8888888888888888, \"#fdca26\"], [1.0, \"#f0f921\"]], \"type\": \"surface\"}], \"table\": [{\"cells\": {\"fill\": {\"color\": \"#EBF0F8\"}, \"line\": {\"color\": \"white\"}}, \"header\": {\"fill\": {\"color\": \"#C8D4E3\"}, \"line\": {\"color\": \"white\"}}, \"type\": \"table\"}]}, \"layout\": {\"annotationdefaults\": {\"arrowcolor\": \"#2a3f5f\", \"arrowhead\": 0, \"arrowwidth\": 1}, \"coloraxis\": {\"colorbar\": {\"outlinewidth\": 0, \"ticks\": \"\"}}, \"colorscale\": {\"diverging\": [[0, \"#8e0152\"], [0.1, \"#c51b7d\"], [0.2, \"#de77ae\"], [0.3, \"#f1b6da\"], [0.4, \"#fde0ef\"], [0.5, \"#f7f7f7\"], [0.6, \"#e6f5d0\"], [0.7, \"#b8e186\"], [0.8, \"#7fbc41\"], [0.9, \"#4d9221\"], [1, \"#276419\"]], \"sequential\": [[0.0, \"#0d0887\"], [0.1111111111111111, \"#46039f\"], [0.2222222222222222, \"#7201a8\"], [0.3333333333333333, \"#9c179e\"], [0.4444444444444444, \"#bd3786\"], [0.5555555555555556, \"#d8576b\"], [0.6666666666666666, \"#ed7953\"], [0.7777777777777778, \"#fb9f3a\"], [0.8888888888888888, \"#fdca26\"], [1.0, \"#f0f921\"]], \"sequentialminus\": [[0.0, \"#0d0887\"], [0.1111111111111111, \"#46039f\"], [0.2222222222222222, \"#7201a8\"], [0.3333333333333333, \"#9c179e\"], [0.4444444444444444, \"#bd3786\"], [0.5555555555555556, \"#d8576b\"], [0.6666666666666666, \"#ed7953\"], [0.7777777777777778, \"#fb9f3a\"], [0.8888888888888888, \"#fdca26\"], [1.0, \"#f0f921\"]]}, \"colorway\": [\"#636efa\", \"#EF553B\", \"#00cc96\", \"#ab63fa\", \"#FFA15A\", \"#19d3f3\", \"#FF6692\", \"#B6E880\", \"#FF97FF\", \"#FECB52\"], \"font\": {\"color\": \"#2a3f5f\"}, \"geo\": {\"bgcolor\": \"white\", \"lakecolor\": \"white\", \"landcolor\": \"#E5ECF6\", \"showlakes\": true, \"showland\": true, \"subunitcolor\": \"white\"}, \"hoverlabel\": {\"align\": \"left\"}, \"hovermode\": \"closest\", \"mapbox\": {\"style\": \"light\"}, \"paper_bgcolor\": \"white\", \"plot_bgcolor\": \"#E5ECF6\", \"polar\": {\"angularaxis\": {\"gridcolor\": \"white\", \"linecolor\": \"white\", \"ticks\": \"\"}, \"bgcolor\": \"#E5ECF6\", \"radialaxis\": {\"gridcolor\": \"white\", \"linecolor\": \"white\", \"ticks\": \"\"}}, \"scene\": {\"xaxis\": {\"backgroundcolor\": \"#E5ECF6\", \"gridcolor\": \"white\", \"gridwidth\": 2, \"linecolor\": \"white\", \"showbackground\": true, \"ticks\": \"\", \"zerolinecolor\": \"white\"}, \"yaxis\": {\"backgroundcolor\": \"#E5ECF6\", \"gridcolor\": \"white\", \"gridwidth\": 2, \"linecolor\": \"white\", \"showbackground\": true, \"ticks\": \"\", \"zerolinecolor\": \"white\"}, \"zaxis\": {\"backgroundcolor\": \"#E5ECF6\", \"gridcolor\": \"white\", \"gridwidth\": 2, \"linecolor\": \"white\", \"showbackground\": true, \"ticks\": \"\", \"zerolinecolor\": \"white\"}}, \"shapedefaults\": {\"line\": {\"color\": \"#2a3f5f\"}}, \"ternary\": {\"aaxis\": {\"gridcolor\": \"white\", \"linecolor\": \"white\", \"ticks\": \"\"}, \"baxis\": {\"gridcolor\": \"white\", \"linecolor\": \"white\", \"ticks\": \"\"}, \"bgcolor\": \"#E5ECF6\", \"caxis\": {\"gridcolor\": \"white\", \"linecolor\": \"white\", \"ticks\": \"\"}}, \"title\": {\"x\": 0.05}, \"xaxis\": {\"automargin\": true, \"gridcolor\": \"white\", \"linecolor\": \"white\", \"ticks\": \"\", \"title\": {\"standoff\": 15}, \"zerolinecolor\": \"white\", \"zerolinewidth\": 2}, \"yaxis\": {\"automargin\": true, \"gridcolor\": \"white\", \"linecolor\": \"white\", \"ticks\": \"\", \"title\": {\"standoff\": 15}, \"zerolinecolor\": \"white\", \"zerolinewidth\": 2}}}, \"title\": {\"text\": \"Gender vs Suvival Sum\"}, \"xaxis\": {\"anchor\": \"y\", \"domain\": [0.0, 1.0], \"title\": {\"text\": \"Survival Sum\"}}, \"yaxis\": {\"anchor\": \"x\", \"categoryarray\": [\"male\", \"female\"], \"categoryorder\": \"array\", \"domain\": [0.0, 1.0], \"title\": {\"text\": \"Sex\"}}},\n",
       "                        {\"responsive\": true}\n",
       "                    ).then(function(){\n",
       "                            \n",
       "var gd = document.getElementById('97b73b80-ed26-4c12-aaca-30a6e95e937f');\n",
       "var x = new MutationObserver(function (mutations, observer) {{\n",
       "        var display = window.getComputedStyle(gd).display;\n",
       "        if (!display || display === 'none') {{\n",
       "            console.log([gd, 'removed!']);\n",
       "            Plotly.purge(gd);\n",
       "            observer.disconnect();\n",
       "        }}\n",
       "}});\n",
       "\n",
       "// Listen for the removal of the full notebook cells\n",
       "var notebookContainer = gd.closest('#notebook-container');\n",
       "if (notebookContainer) {{\n",
       "    x.observe(notebookContainer, {childList: true});\n",
       "}}\n",
       "\n",
       "// Listen for the clearing of the current output cell\n",
       "var outputEl = gd.closest('.output');\n",
       "if (outputEl) {{\n",
       "    x.observe(outputEl, {childList: true});\n",
       "}}\n",
       "\n",
       "                        })\n",
       "                };\n",
       "                });\n",
       "            </script>\n",
       "        </div>"
      ]
     },
     "metadata": {},
     "output_type": "display_data"
    }
   ],
   "source": [
    "## Horizontal\n",
    "fig = px.bar(pivot_survived,x='Survived',y='Sex',color='Sex', height = 500,orientation='h')\n",
    "fig.update_layout(xaxis_title='Survival Sum',yaxis_title='Sex',title='Gender vs Suvival Sum').show();\n"
   ]
  },
  {
   "cell_type": "code",
   "execution_count": null,
   "metadata": {},
   "outputs": [],
   "source": [
    "######################################## Grouped & Stacked Bar Chart #################################################"
   ]
  },
  {
   "cell_type": "code",
   "execution_count": 33,
   "metadata": {},
   "outputs": [],
   "source": [
    "pivot_not_survived = pd.pivot_table(mydata,values='Not_Survived',index='Sex',aggfunc=np.sum)"
   ]
  },
  {
   "cell_type": "code",
   "execution_count": 42,
   "metadata": {},
   "outputs": [
    {
     "data": {
      "text/html": [
       "<div>\n",
       "<style scoped>\n",
       "    .dataframe tbody tr th:only-of-type {\n",
       "        vertical-align: middle;\n",
       "    }\n",
       "\n",
       "    .dataframe tbody tr th {\n",
       "        vertical-align: top;\n",
       "    }\n",
       "\n",
       "    .dataframe thead th {\n",
       "        text-align: right;\n",
       "    }\n",
       "</style>\n",
       "<table border=\"1\" class=\"dataframe\">\n",
       "  <thead>\n",
       "    <tr style=\"text-align: right;\">\n",
       "      <th></th>\n",
       "      <th>Not_Survived</th>\n",
       "      <th>Sex</th>\n",
       "    </tr>\n",
       "  </thead>\n",
       "  <tbody>\n",
       "    <tr>\n",
       "      <th>0</th>\n",
       "      <td>81.0</td>\n",
       "      <td>female</td>\n",
       "    </tr>\n",
       "    <tr>\n",
       "      <th>1</th>\n",
       "      <td>468.0</td>\n",
       "      <td>male</td>\n",
       "    </tr>\n",
       "  </tbody>\n",
       "</table>\n",
       "</div>"
      ],
      "text/plain": [
       "   Not_Survived     Sex\n",
       "0          81.0  female\n",
       "1         468.0    male"
      ]
     },
     "execution_count": 42,
     "metadata": {},
     "output_type": "execute_result"
    }
   ],
   "source": [
    "pivot_not_survived['Sex']=list(pivot_not_survived.index)\n",
    "pivot_not_survived.index = range(0,len(pivot_not_survived))\n",
    "pivot_not_survived"
   ]
  },
  {
   "cell_type": "code",
   "execution_count": 52,
   "metadata": {},
   "outputs": [
    {
     "data": {
      "text/html": [
       "<div>\n",
       "<style scoped>\n",
       "    .dataframe tbody tr th:only-of-type {\n",
       "        vertical-align: middle;\n",
       "    }\n",
       "\n",
       "    .dataframe tbody tr th {\n",
       "        vertical-align: top;\n",
       "    }\n",
       "\n",
       "    .dataframe thead th {\n",
       "        text-align: right;\n",
       "    }\n",
       "</style>\n",
       "<table border=\"1\" class=\"dataframe\">\n",
       "  <thead>\n",
       "    <tr style=\"text-align: right;\">\n",
       "      <th></th>\n",
       "      <th>Survived</th>\n",
       "      <th>Sex</th>\n",
       "      <th>Not_Survived</th>\n",
       "    </tr>\n",
       "  </thead>\n",
       "  <tbody>\n",
       "    <tr>\n",
       "      <th>0</th>\n",
       "      <td>233</td>\n",
       "      <td>female</td>\n",
       "      <td>81.0</td>\n",
       "    </tr>\n",
       "    <tr>\n",
       "      <th>1</th>\n",
       "      <td>109</td>\n",
       "      <td>male</td>\n",
       "      <td>468.0</td>\n",
       "    </tr>\n",
       "  </tbody>\n",
       "</table>\n",
       "</div>"
      ],
      "text/plain": [
       "   Survived     Sex  Not_Survived\n",
       "0       233  female          81.0\n",
       "1       109    male         468.0"
      ]
     },
     "execution_count": 52,
     "metadata": {},
     "output_type": "execute_result"
    }
   ],
   "source": [
    "pivot_total = pd.merge(pivot_survived,pivot_not_survived,on='Sex',how='inner')\n",
    "pivot_total"
   ]
  },
  {
   "cell_type": "code",
   "execution_count": 53,
   "metadata": {},
   "outputs": [],
   "source": [
    "import plotly.graph_objects as go"
   ]
  },
  {
   "cell_type": "code",
   "execution_count": 90,
   "metadata": {},
   "outputs": [
    {
     "data": {
      "application/vnd.plotly.v1+json": {
       "config": {
        "plotlyServerURL": "https://plot.ly"
       },
       "data": [
        {
         "name": "Total Survivals",
         "offsetgroup": "0",
         "type": "bar",
         "x": [
          "female",
          "male"
         ],
         "y": [
          233,
          109
         ]
        },
        {
         "name": "Total Died",
         "offsetgroup": "1",
         "type": "bar",
         "x": [
          "female",
          "male"
         ],
         "y": [
          81,
          468
         ]
        }
       ],
       "layout": {
        "barmode": "group",
        "template": {
         "data": {
          "bar": [
           {
            "error_x": {
             "color": "#2a3f5f"
            },
            "error_y": {
             "color": "#2a3f5f"
            },
            "marker": {
             "line": {
              "color": "#E5ECF6",
              "width": 0.5
             }
            },
            "type": "bar"
           }
          ],
          "barpolar": [
           {
            "marker": {
             "line": {
              "color": "#E5ECF6",
              "width": 0.5
             }
            },
            "type": "barpolar"
           }
          ],
          "carpet": [
           {
            "aaxis": {
             "endlinecolor": "#2a3f5f",
             "gridcolor": "white",
             "linecolor": "white",
             "minorgridcolor": "white",
             "startlinecolor": "#2a3f5f"
            },
            "baxis": {
             "endlinecolor": "#2a3f5f",
             "gridcolor": "white",
             "linecolor": "white",
             "minorgridcolor": "white",
             "startlinecolor": "#2a3f5f"
            },
            "type": "carpet"
           }
          ],
          "choropleth": [
           {
            "colorbar": {
             "outlinewidth": 0,
             "ticks": ""
            },
            "type": "choropleth"
           }
          ],
          "contour": [
           {
            "colorbar": {
             "outlinewidth": 0,
             "ticks": ""
            },
            "colorscale": [
             [
              0,
              "#0d0887"
             ],
             [
              0.1111111111111111,
              "#46039f"
             ],
             [
              0.2222222222222222,
              "#7201a8"
             ],
             [
              0.3333333333333333,
              "#9c179e"
             ],
             [
              0.4444444444444444,
              "#bd3786"
             ],
             [
              0.5555555555555556,
              "#d8576b"
             ],
             [
              0.6666666666666666,
              "#ed7953"
             ],
             [
              0.7777777777777778,
              "#fb9f3a"
             ],
             [
              0.8888888888888888,
              "#fdca26"
             ],
             [
              1,
              "#f0f921"
             ]
            ],
            "type": "contour"
           }
          ],
          "contourcarpet": [
           {
            "colorbar": {
             "outlinewidth": 0,
             "ticks": ""
            },
            "type": "contourcarpet"
           }
          ],
          "heatmap": [
           {
            "colorbar": {
             "outlinewidth": 0,
             "ticks": ""
            },
            "colorscale": [
             [
              0,
              "#0d0887"
             ],
             [
              0.1111111111111111,
              "#46039f"
             ],
             [
              0.2222222222222222,
              "#7201a8"
             ],
             [
              0.3333333333333333,
              "#9c179e"
             ],
             [
              0.4444444444444444,
              "#bd3786"
             ],
             [
              0.5555555555555556,
              "#d8576b"
             ],
             [
              0.6666666666666666,
              "#ed7953"
             ],
             [
              0.7777777777777778,
              "#fb9f3a"
             ],
             [
              0.8888888888888888,
              "#fdca26"
             ],
             [
              1,
              "#f0f921"
             ]
            ],
            "type": "heatmap"
           }
          ],
          "heatmapgl": [
           {
            "colorbar": {
             "outlinewidth": 0,
             "ticks": ""
            },
            "colorscale": [
             [
              0,
              "#0d0887"
             ],
             [
              0.1111111111111111,
              "#46039f"
             ],
             [
              0.2222222222222222,
              "#7201a8"
             ],
             [
              0.3333333333333333,
              "#9c179e"
             ],
             [
              0.4444444444444444,
              "#bd3786"
             ],
             [
              0.5555555555555556,
              "#d8576b"
             ],
             [
              0.6666666666666666,
              "#ed7953"
             ],
             [
              0.7777777777777778,
              "#fb9f3a"
             ],
             [
              0.8888888888888888,
              "#fdca26"
             ],
             [
              1,
              "#f0f921"
             ]
            ],
            "type": "heatmapgl"
           }
          ],
          "histogram": [
           {
            "marker": {
             "colorbar": {
              "outlinewidth": 0,
              "ticks": ""
             }
            },
            "type": "histogram"
           }
          ],
          "histogram2d": [
           {
            "colorbar": {
             "outlinewidth": 0,
             "ticks": ""
            },
            "colorscale": [
             [
              0,
              "#0d0887"
             ],
             [
              0.1111111111111111,
              "#46039f"
             ],
             [
              0.2222222222222222,
              "#7201a8"
             ],
             [
              0.3333333333333333,
              "#9c179e"
             ],
             [
              0.4444444444444444,
              "#bd3786"
             ],
             [
              0.5555555555555556,
              "#d8576b"
             ],
             [
              0.6666666666666666,
              "#ed7953"
             ],
             [
              0.7777777777777778,
              "#fb9f3a"
             ],
             [
              0.8888888888888888,
              "#fdca26"
             ],
             [
              1,
              "#f0f921"
             ]
            ],
            "type": "histogram2d"
           }
          ],
          "histogram2dcontour": [
           {
            "colorbar": {
             "outlinewidth": 0,
             "ticks": ""
            },
            "colorscale": [
             [
              0,
              "#0d0887"
             ],
             [
              0.1111111111111111,
              "#46039f"
             ],
             [
              0.2222222222222222,
              "#7201a8"
             ],
             [
              0.3333333333333333,
              "#9c179e"
             ],
             [
              0.4444444444444444,
              "#bd3786"
             ],
             [
              0.5555555555555556,
              "#d8576b"
             ],
             [
              0.6666666666666666,
              "#ed7953"
             ],
             [
              0.7777777777777778,
              "#fb9f3a"
             ],
             [
              0.8888888888888888,
              "#fdca26"
             ],
             [
              1,
              "#f0f921"
             ]
            ],
            "type": "histogram2dcontour"
           }
          ],
          "mesh3d": [
           {
            "colorbar": {
             "outlinewidth": 0,
             "ticks": ""
            },
            "type": "mesh3d"
           }
          ],
          "parcoords": [
           {
            "line": {
             "colorbar": {
              "outlinewidth": 0,
              "ticks": ""
             }
            },
            "type": "parcoords"
           }
          ],
          "pie": [
           {
            "automargin": true,
            "type": "pie"
           }
          ],
          "scatter": [
           {
            "marker": {
             "colorbar": {
              "outlinewidth": 0,
              "ticks": ""
             }
            },
            "type": "scatter"
           }
          ],
          "scatter3d": [
           {
            "line": {
             "colorbar": {
              "outlinewidth": 0,
              "ticks": ""
             }
            },
            "marker": {
             "colorbar": {
              "outlinewidth": 0,
              "ticks": ""
             }
            },
            "type": "scatter3d"
           }
          ],
          "scattercarpet": [
           {
            "marker": {
             "colorbar": {
              "outlinewidth": 0,
              "ticks": ""
             }
            },
            "type": "scattercarpet"
           }
          ],
          "scattergeo": [
           {
            "marker": {
             "colorbar": {
              "outlinewidth": 0,
              "ticks": ""
             }
            },
            "type": "scattergeo"
           }
          ],
          "scattergl": [
           {
            "marker": {
             "colorbar": {
              "outlinewidth": 0,
              "ticks": ""
             }
            },
            "type": "scattergl"
           }
          ],
          "scattermapbox": [
           {
            "marker": {
             "colorbar": {
              "outlinewidth": 0,
              "ticks": ""
             }
            },
            "type": "scattermapbox"
           }
          ],
          "scatterpolar": [
           {
            "marker": {
             "colorbar": {
              "outlinewidth": 0,
              "ticks": ""
             }
            },
            "type": "scatterpolar"
           }
          ],
          "scatterpolargl": [
           {
            "marker": {
             "colorbar": {
              "outlinewidth": 0,
              "ticks": ""
             }
            },
            "type": "scatterpolargl"
           }
          ],
          "scatterternary": [
           {
            "marker": {
             "colorbar": {
              "outlinewidth": 0,
              "ticks": ""
             }
            },
            "type": "scatterternary"
           }
          ],
          "surface": [
           {
            "colorbar": {
             "outlinewidth": 0,
             "ticks": ""
            },
            "colorscale": [
             [
              0,
              "#0d0887"
             ],
             [
              0.1111111111111111,
              "#46039f"
             ],
             [
              0.2222222222222222,
              "#7201a8"
             ],
             [
              0.3333333333333333,
              "#9c179e"
             ],
             [
              0.4444444444444444,
              "#bd3786"
             ],
             [
              0.5555555555555556,
              "#d8576b"
             ],
             [
              0.6666666666666666,
              "#ed7953"
             ],
             [
              0.7777777777777778,
              "#fb9f3a"
             ],
             [
              0.8888888888888888,
              "#fdca26"
             ],
             [
              1,
              "#f0f921"
             ]
            ],
            "type": "surface"
           }
          ],
          "table": [
           {
            "cells": {
             "fill": {
              "color": "#EBF0F8"
             },
             "line": {
              "color": "white"
             }
            },
            "header": {
             "fill": {
              "color": "#C8D4E3"
             },
             "line": {
              "color": "white"
             }
            },
            "type": "table"
           }
          ]
         },
         "layout": {
          "annotationdefaults": {
           "arrowcolor": "#2a3f5f",
           "arrowhead": 0,
           "arrowwidth": 1
          },
          "coloraxis": {
           "colorbar": {
            "outlinewidth": 0,
            "ticks": ""
           }
          },
          "colorscale": {
           "diverging": [
            [
             0,
             "#8e0152"
            ],
            [
             0.1,
             "#c51b7d"
            ],
            [
             0.2,
             "#de77ae"
            ],
            [
             0.3,
             "#f1b6da"
            ],
            [
             0.4,
             "#fde0ef"
            ],
            [
             0.5,
             "#f7f7f7"
            ],
            [
             0.6,
             "#e6f5d0"
            ],
            [
             0.7,
             "#b8e186"
            ],
            [
             0.8,
             "#7fbc41"
            ],
            [
             0.9,
             "#4d9221"
            ],
            [
             1,
             "#276419"
            ]
           ],
           "sequential": [
            [
             0,
             "#0d0887"
            ],
            [
             0.1111111111111111,
             "#46039f"
            ],
            [
             0.2222222222222222,
             "#7201a8"
            ],
            [
             0.3333333333333333,
             "#9c179e"
            ],
            [
             0.4444444444444444,
             "#bd3786"
            ],
            [
             0.5555555555555556,
             "#d8576b"
            ],
            [
             0.6666666666666666,
             "#ed7953"
            ],
            [
             0.7777777777777778,
             "#fb9f3a"
            ],
            [
             0.8888888888888888,
             "#fdca26"
            ],
            [
             1,
             "#f0f921"
            ]
           ],
           "sequentialminus": [
            [
             0,
             "#0d0887"
            ],
            [
             0.1111111111111111,
             "#46039f"
            ],
            [
             0.2222222222222222,
             "#7201a8"
            ],
            [
             0.3333333333333333,
             "#9c179e"
            ],
            [
             0.4444444444444444,
             "#bd3786"
            ],
            [
             0.5555555555555556,
             "#d8576b"
            ],
            [
             0.6666666666666666,
             "#ed7953"
            ],
            [
             0.7777777777777778,
             "#fb9f3a"
            ],
            [
             0.8888888888888888,
             "#fdca26"
            ],
            [
             1,
             "#f0f921"
            ]
           ]
          },
          "colorway": [
           "#636efa",
           "#EF553B",
           "#00cc96",
           "#ab63fa",
           "#FFA15A",
           "#19d3f3",
           "#FF6692",
           "#B6E880",
           "#FF97FF",
           "#FECB52"
          ],
          "font": {
           "color": "#2a3f5f"
          },
          "geo": {
           "bgcolor": "white",
           "lakecolor": "white",
           "landcolor": "#E5ECF6",
           "showlakes": true,
           "showland": true,
           "subunitcolor": "white"
          },
          "hoverlabel": {
           "align": "left"
          },
          "hovermode": "closest",
          "mapbox": {
           "style": "light"
          },
          "paper_bgcolor": "white",
          "plot_bgcolor": "#E5ECF6",
          "polar": {
           "angularaxis": {
            "gridcolor": "white",
            "linecolor": "white",
            "ticks": ""
           },
           "bgcolor": "#E5ECF6",
           "radialaxis": {
            "gridcolor": "white",
            "linecolor": "white",
            "ticks": ""
           }
          },
          "scene": {
           "xaxis": {
            "backgroundcolor": "#E5ECF6",
            "gridcolor": "white",
            "gridwidth": 2,
            "linecolor": "white",
            "showbackground": true,
            "ticks": "",
            "zerolinecolor": "white"
           },
           "yaxis": {
            "backgroundcolor": "#E5ECF6",
            "gridcolor": "white",
            "gridwidth": 2,
            "linecolor": "white",
            "showbackground": true,
            "ticks": "",
            "zerolinecolor": "white"
           },
           "zaxis": {
            "backgroundcolor": "#E5ECF6",
            "gridcolor": "white",
            "gridwidth": 2,
            "linecolor": "white",
            "showbackground": true,
            "ticks": "",
            "zerolinecolor": "white"
           }
          },
          "shapedefaults": {
           "line": {
            "color": "#2a3f5f"
           }
          },
          "ternary": {
           "aaxis": {
            "gridcolor": "white",
            "linecolor": "white",
            "ticks": ""
           },
           "baxis": {
            "gridcolor": "white",
            "linecolor": "white",
            "ticks": ""
           },
           "bgcolor": "#E5ECF6",
           "caxis": {
            "gridcolor": "white",
            "linecolor": "white",
            "ticks": ""
           }
          },
          "title": {
           "x": 0.05
          },
          "xaxis": {
           "automargin": true,
           "gridcolor": "white",
           "linecolor": "white",
           "ticks": "",
           "title": {
            "standoff": 15
           },
           "zerolinecolor": "white",
           "zerolinewidth": 2
          },
          "yaxis": {
           "automargin": true,
           "gridcolor": "white",
           "linecolor": "white",
           "ticks": "",
           "title": {
            "standoff": 15
           },
           "zerolinecolor": "white",
           "zerolinewidth": 2
          }
         }
        },
        "title": {
         "text": "Gender Relation with Survival Rate"
        },
        "xaxis": {
         "title": {
          "text": "Sex"
         }
        },
        "yaxis": {
         "title": {
          "text": "No. of Passengers"
         }
        }
       }
      },
      "text/html": [
       "<div>\n",
       "        \n",
       "        \n",
       "            <div id=\"992de3e4-7f89-47c1-b6bb-865eb2e63c02\" class=\"plotly-graph-div\" style=\"height:525px; width:100%;\"></div>\n",
       "            <script type=\"text/javascript\">\n",
       "                require([\"plotly\"], function(Plotly) {\n",
       "                    window.PLOTLYENV=window.PLOTLYENV || {};\n",
       "                    \n",
       "                if (document.getElementById(\"992de3e4-7f89-47c1-b6bb-865eb2e63c02\")) {\n",
       "                    Plotly.newPlot(\n",
       "                        '992de3e4-7f89-47c1-b6bb-865eb2e63c02',\n",
       "                        [{\"name\": \"Total Survivals\", \"offsetgroup\": \"0\", \"type\": \"bar\", \"x\": [\"female\", \"male\"], \"y\": [233, 109]}, {\"name\": \"Total Died\", \"offsetgroup\": \"1\", \"type\": \"bar\", \"x\": [\"female\", \"male\"], \"y\": [81.0, 468.0]}],\n",
       "                        {\"barmode\": \"group\", \"template\": {\"data\": {\"bar\": [{\"error_x\": {\"color\": \"#2a3f5f\"}, \"error_y\": {\"color\": \"#2a3f5f\"}, \"marker\": {\"line\": {\"color\": \"#E5ECF6\", \"width\": 0.5}}, \"type\": \"bar\"}], \"barpolar\": [{\"marker\": {\"line\": {\"color\": \"#E5ECF6\", \"width\": 0.5}}, \"type\": \"barpolar\"}], \"carpet\": [{\"aaxis\": {\"endlinecolor\": \"#2a3f5f\", \"gridcolor\": \"white\", \"linecolor\": \"white\", \"minorgridcolor\": \"white\", \"startlinecolor\": \"#2a3f5f\"}, \"baxis\": {\"endlinecolor\": \"#2a3f5f\", \"gridcolor\": \"white\", \"linecolor\": \"white\", \"minorgridcolor\": \"white\", \"startlinecolor\": \"#2a3f5f\"}, \"type\": \"carpet\"}], \"choropleth\": [{\"colorbar\": {\"outlinewidth\": 0, \"ticks\": \"\"}, \"type\": \"choropleth\"}], \"contour\": [{\"colorbar\": {\"outlinewidth\": 0, \"ticks\": \"\"}, \"colorscale\": [[0.0, \"#0d0887\"], [0.1111111111111111, \"#46039f\"], [0.2222222222222222, \"#7201a8\"], [0.3333333333333333, \"#9c179e\"], [0.4444444444444444, \"#bd3786\"], [0.5555555555555556, \"#d8576b\"], [0.6666666666666666, \"#ed7953\"], [0.7777777777777778, \"#fb9f3a\"], [0.8888888888888888, \"#fdca26\"], [1.0, \"#f0f921\"]], \"type\": \"contour\"}], \"contourcarpet\": [{\"colorbar\": {\"outlinewidth\": 0, \"ticks\": \"\"}, \"type\": \"contourcarpet\"}], \"heatmap\": [{\"colorbar\": {\"outlinewidth\": 0, \"ticks\": \"\"}, \"colorscale\": [[0.0, \"#0d0887\"], [0.1111111111111111, \"#46039f\"], [0.2222222222222222, \"#7201a8\"], [0.3333333333333333, \"#9c179e\"], [0.4444444444444444, \"#bd3786\"], [0.5555555555555556, \"#d8576b\"], [0.6666666666666666, \"#ed7953\"], [0.7777777777777778, \"#fb9f3a\"], [0.8888888888888888, \"#fdca26\"], [1.0, \"#f0f921\"]], \"type\": \"heatmap\"}], \"heatmapgl\": [{\"colorbar\": {\"outlinewidth\": 0, \"ticks\": \"\"}, \"colorscale\": [[0.0, \"#0d0887\"], [0.1111111111111111, \"#46039f\"], [0.2222222222222222, \"#7201a8\"], [0.3333333333333333, \"#9c179e\"], [0.4444444444444444, \"#bd3786\"], [0.5555555555555556, \"#d8576b\"], [0.6666666666666666, \"#ed7953\"], [0.7777777777777778, \"#fb9f3a\"], [0.8888888888888888, \"#fdca26\"], [1.0, \"#f0f921\"]], \"type\": \"heatmapgl\"}], \"histogram\": [{\"marker\": {\"colorbar\": {\"outlinewidth\": 0, \"ticks\": \"\"}}, \"type\": \"histogram\"}], \"histogram2d\": [{\"colorbar\": {\"outlinewidth\": 0, \"ticks\": \"\"}, \"colorscale\": [[0.0, \"#0d0887\"], [0.1111111111111111, \"#46039f\"], [0.2222222222222222, \"#7201a8\"], [0.3333333333333333, \"#9c179e\"], [0.4444444444444444, \"#bd3786\"], [0.5555555555555556, \"#d8576b\"], [0.6666666666666666, \"#ed7953\"], [0.7777777777777778, \"#fb9f3a\"], [0.8888888888888888, \"#fdca26\"], [1.0, \"#f0f921\"]], \"type\": \"histogram2d\"}], \"histogram2dcontour\": [{\"colorbar\": {\"outlinewidth\": 0, \"ticks\": \"\"}, \"colorscale\": [[0.0, \"#0d0887\"], [0.1111111111111111, \"#46039f\"], [0.2222222222222222, \"#7201a8\"], [0.3333333333333333, \"#9c179e\"], [0.4444444444444444, \"#bd3786\"], [0.5555555555555556, \"#d8576b\"], [0.6666666666666666, \"#ed7953\"], [0.7777777777777778, \"#fb9f3a\"], [0.8888888888888888, \"#fdca26\"], [1.0, \"#f0f921\"]], \"type\": \"histogram2dcontour\"}], \"mesh3d\": [{\"colorbar\": {\"outlinewidth\": 0, \"ticks\": \"\"}, \"type\": \"mesh3d\"}], \"parcoords\": [{\"line\": {\"colorbar\": {\"outlinewidth\": 0, \"ticks\": \"\"}}, \"type\": \"parcoords\"}], \"pie\": [{\"automargin\": true, \"type\": \"pie\"}], \"scatter\": [{\"marker\": {\"colorbar\": {\"outlinewidth\": 0, \"ticks\": \"\"}}, \"type\": \"scatter\"}], \"scatter3d\": [{\"line\": {\"colorbar\": {\"outlinewidth\": 0, \"ticks\": \"\"}}, \"marker\": {\"colorbar\": {\"outlinewidth\": 0, \"ticks\": \"\"}}, \"type\": \"scatter3d\"}], \"scattercarpet\": [{\"marker\": {\"colorbar\": {\"outlinewidth\": 0, \"ticks\": \"\"}}, \"type\": \"scattercarpet\"}], \"scattergeo\": [{\"marker\": {\"colorbar\": {\"outlinewidth\": 0, \"ticks\": \"\"}}, \"type\": \"scattergeo\"}], \"scattergl\": [{\"marker\": {\"colorbar\": {\"outlinewidth\": 0, \"ticks\": \"\"}}, \"type\": \"scattergl\"}], \"scattermapbox\": [{\"marker\": {\"colorbar\": {\"outlinewidth\": 0, \"ticks\": \"\"}}, \"type\": \"scattermapbox\"}], \"scatterpolar\": [{\"marker\": {\"colorbar\": {\"outlinewidth\": 0, \"ticks\": \"\"}}, \"type\": \"scatterpolar\"}], \"scatterpolargl\": [{\"marker\": {\"colorbar\": {\"outlinewidth\": 0, \"ticks\": \"\"}}, \"type\": \"scatterpolargl\"}], \"scatterternary\": [{\"marker\": {\"colorbar\": {\"outlinewidth\": 0, \"ticks\": \"\"}}, \"type\": \"scatterternary\"}], \"surface\": [{\"colorbar\": {\"outlinewidth\": 0, \"ticks\": \"\"}, \"colorscale\": [[0.0, \"#0d0887\"], [0.1111111111111111, \"#46039f\"], [0.2222222222222222, \"#7201a8\"], [0.3333333333333333, \"#9c179e\"], [0.4444444444444444, \"#bd3786\"], [0.5555555555555556, \"#d8576b\"], [0.6666666666666666, \"#ed7953\"], [0.7777777777777778, \"#fb9f3a\"], [0.8888888888888888, \"#fdca26\"], [1.0, \"#f0f921\"]], \"type\": \"surface\"}], \"table\": [{\"cells\": {\"fill\": {\"color\": \"#EBF0F8\"}, \"line\": {\"color\": \"white\"}}, \"header\": {\"fill\": {\"color\": \"#C8D4E3\"}, \"line\": {\"color\": \"white\"}}, \"type\": \"table\"}]}, \"layout\": {\"annotationdefaults\": {\"arrowcolor\": \"#2a3f5f\", \"arrowhead\": 0, \"arrowwidth\": 1}, \"coloraxis\": {\"colorbar\": {\"outlinewidth\": 0, \"ticks\": \"\"}}, \"colorscale\": {\"diverging\": [[0, \"#8e0152\"], [0.1, \"#c51b7d\"], [0.2, \"#de77ae\"], [0.3, \"#f1b6da\"], [0.4, \"#fde0ef\"], [0.5, \"#f7f7f7\"], [0.6, \"#e6f5d0\"], [0.7, \"#b8e186\"], [0.8, \"#7fbc41\"], [0.9, \"#4d9221\"], [1, \"#276419\"]], \"sequential\": [[0.0, \"#0d0887\"], [0.1111111111111111, \"#46039f\"], [0.2222222222222222, \"#7201a8\"], [0.3333333333333333, \"#9c179e\"], [0.4444444444444444, \"#bd3786\"], [0.5555555555555556, \"#d8576b\"], [0.6666666666666666, \"#ed7953\"], [0.7777777777777778, \"#fb9f3a\"], [0.8888888888888888, \"#fdca26\"], [1.0, \"#f0f921\"]], \"sequentialminus\": [[0.0, \"#0d0887\"], [0.1111111111111111, \"#46039f\"], [0.2222222222222222, \"#7201a8\"], [0.3333333333333333, \"#9c179e\"], [0.4444444444444444, \"#bd3786\"], [0.5555555555555556, \"#d8576b\"], [0.6666666666666666, \"#ed7953\"], [0.7777777777777778, \"#fb9f3a\"], [0.8888888888888888, \"#fdca26\"], [1.0, \"#f0f921\"]]}, \"colorway\": [\"#636efa\", \"#EF553B\", \"#00cc96\", \"#ab63fa\", \"#FFA15A\", \"#19d3f3\", \"#FF6692\", \"#B6E880\", \"#FF97FF\", \"#FECB52\"], \"font\": {\"color\": \"#2a3f5f\"}, \"geo\": {\"bgcolor\": \"white\", \"lakecolor\": \"white\", \"landcolor\": \"#E5ECF6\", \"showlakes\": true, \"showland\": true, \"subunitcolor\": \"white\"}, \"hoverlabel\": {\"align\": \"left\"}, \"hovermode\": \"closest\", \"mapbox\": {\"style\": \"light\"}, \"paper_bgcolor\": \"white\", \"plot_bgcolor\": \"#E5ECF6\", \"polar\": {\"angularaxis\": {\"gridcolor\": \"white\", \"linecolor\": \"white\", \"ticks\": \"\"}, \"bgcolor\": \"#E5ECF6\", \"radialaxis\": {\"gridcolor\": \"white\", \"linecolor\": \"white\", \"ticks\": \"\"}}, \"scene\": {\"xaxis\": {\"backgroundcolor\": \"#E5ECF6\", \"gridcolor\": \"white\", \"gridwidth\": 2, \"linecolor\": \"white\", \"showbackground\": true, \"ticks\": \"\", \"zerolinecolor\": \"white\"}, \"yaxis\": {\"backgroundcolor\": \"#E5ECF6\", \"gridcolor\": \"white\", \"gridwidth\": 2, \"linecolor\": \"white\", \"showbackground\": true, \"ticks\": \"\", \"zerolinecolor\": \"white\"}, \"zaxis\": {\"backgroundcolor\": \"#E5ECF6\", \"gridcolor\": \"white\", \"gridwidth\": 2, \"linecolor\": \"white\", \"showbackground\": true, \"ticks\": \"\", \"zerolinecolor\": \"white\"}}, \"shapedefaults\": {\"line\": {\"color\": \"#2a3f5f\"}}, \"ternary\": {\"aaxis\": {\"gridcolor\": \"white\", \"linecolor\": \"white\", \"ticks\": \"\"}, \"baxis\": {\"gridcolor\": \"white\", \"linecolor\": \"white\", \"ticks\": \"\"}, \"bgcolor\": \"#E5ECF6\", \"caxis\": {\"gridcolor\": \"white\", \"linecolor\": \"white\", \"ticks\": \"\"}}, \"title\": {\"x\": 0.05}, \"xaxis\": {\"automargin\": true, \"gridcolor\": \"white\", \"linecolor\": \"white\", \"ticks\": \"\", \"title\": {\"standoff\": 15}, \"zerolinecolor\": \"white\", \"zerolinewidth\": 2}, \"yaxis\": {\"automargin\": true, \"gridcolor\": \"white\", \"linecolor\": \"white\", \"ticks\": \"\", \"title\": {\"standoff\": 15}, \"zerolinecolor\": \"white\", \"zerolinewidth\": 2}}}, \"title\": {\"text\": \"Gender Relation with Survival Rate\"}, \"xaxis\": {\"title\": {\"text\": \"Sex\"}}, \"yaxis\": {\"title\": {\"text\": \"No. of Passengers\"}}},\n",
       "                        {\"responsive\": true}\n",
       "                    ).then(function(){\n",
       "                            \n",
       "var gd = document.getElementById('992de3e4-7f89-47c1-b6bb-865eb2e63c02');\n",
       "var x = new MutationObserver(function (mutations, observer) {{\n",
       "        var display = window.getComputedStyle(gd).display;\n",
       "        if (!display || display === 'none') {{\n",
       "            console.log([gd, 'removed!']);\n",
       "            Plotly.purge(gd);\n",
       "            observer.disconnect();\n",
       "        }}\n",
       "}});\n",
       "\n",
       "// Listen for the removal of the full notebook cells\n",
       "var notebookContainer = gd.closest('#notebook-container');\n",
       "if (notebookContainer) {{\n",
       "    x.observe(notebookContainer, {childList: true});\n",
       "}}\n",
       "\n",
       "// Listen for the clearing of the current output cell\n",
       "var outputEl = gd.closest('.output');\n",
       "if (outputEl) {{\n",
       "    x.observe(outputEl, {childList: true});\n",
       "}}\n",
       "\n",
       "                        })\n",
       "                };\n",
       "                });\n",
       "            </script>\n",
       "        </div>"
      ]
     },
     "metadata": {},
     "output_type": "display_data"
    }
   ],
   "source": [
    "fig = go.Figure(data=[\n",
    "            go.Bar(name='Total Survivals',x=pivot_total['Sex'],y=pivot_total['Survived'],offsetgroup=0),\n",
    "            go.Bar(name='Total Died',x=pivot_total['Sex'],y=pivot_total['Not_Survived'],offsetgroup=1)\n",
    "          ])\n",
    "fig.update_layout(barmode='group',title='Gender Relation with Survival Rate', yaxis_title='No. of Passengers',xaxis_title='Sex').show();\n",
    "\n"
   ]
  },
  {
   "cell_type": "code",
   "execution_count": 74,
   "metadata": {},
   "outputs": [
    {
     "data": {
      "application/vnd.plotly.v1+json": {
       "config": {
        "plotlyServerURL": "https://plot.ly"
       },
       "data": [
        {
         "name": "Total Survivals",
         "offsetgroup": "0",
         "type": "bar",
         "x": [
          "female",
          "male"
         ],
         "y": [
          233,
          109
         ]
        },
        {
         "name": "Total Died",
         "offsetgroup": "0",
         "type": "bar",
         "x": [
          "female",
          "male"
         ],
         "y": [
          81,
          468
         ]
        }
       ],
       "layout": {
        "barmode": "stack",
        "template": {
         "data": {
          "bar": [
           {
            "error_x": {
             "color": "#2a3f5f"
            },
            "error_y": {
             "color": "#2a3f5f"
            },
            "marker": {
             "line": {
              "color": "#E5ECF6",
              "width": 0.5
             }
            },
            "type": "bar"
           }
          ],
          "barpolar": [
           {
            "marker": {
             "line": {
              "color": "#E5ECF6",
              "width": 0.5
             }
            },
            "type": "barpolar"
           }
          ],
          "carpet": [
           {
            "aaxis": {
             "endlinecolor": "#2a3f5f",
             "gridcolor": "white",
             "linecolor": "white",
             "minorgridcolor": "white",
             "startlinecolor": "#2a3f5f"
            },
            "baxis": {
             "endlinecolor": "#2a3f5f",
             "gridcolor": "white",
             "linecolor": "white",
             "minorgridcolor": "white",
             "startlinecolor": "#2a3f5f"
            },
            "type": "carpet"
           }
          ],
          "choropleth": [
           {
            "colorbar": {
             "outlinewidth": 0,
             "ticks": ""
            },
            "type": "choropleth"
           }
          ],
          "contour": [
           {
            "colorbar": {
             "outlinewidth": 0,
             "ticks": ""
            },
            "colorscale": [
             [
              0,
              "#0d0887"
             ],
             [
              0.1111111111111111,
              "#46039f"
             ],
             [
              0.2222222222222222,
              "#7201a8"
             ],
             [
              0.3333333333333333,
              "#9c179e"
             ],
             [
              0.4444444444444444,
              "#bd3786"
             ],
             [
              0.5555555555555556,
              "#d8576b"
             ],
             [
              0.6666666666666666,
              "#ed7953"
             ],
             [
              0.7777777777777778,
              "#fb9f3a"
             ],
             [
              0.8888888888888888,
              "#fdca26"
             ],
             [
              1,
              "#f0f921"
             ]
            ],
            "type": "contour"
           }
          ],
          "contourcarpet": [
           {
            "colorbar": {
             "outlinewidth": 0,
             "ticks": ""
            },
            "type": "contourcarpet"
           }
          ],
          "heatmap": [
           {
            "colorbar": {
             "outlinewidth": 0,
             "ticks": ""
            },
            "colorscale": [
             [
              0,
              "#0d0887"
             ],
             [
              0.1111111111111111,
              "#46039f"
             ],
             [
              0.2222222222222222,
              "#7201a8"
             ],
             [
              0.3333333333333333,
              "#9c179e"
             ],
             [
              0.4444444444444444,
              "#bd3786"
             ],
             [
              0.5555555555555556,
              "#d8576b"
             ],
             [
              0.6666666666666666,
              "#ed7953"
             ],
             [
              0.7777777777777778,
              "#fb9f3a"
             ],
             [
              0.8888888888888888,
              "#fdca26"
             ],
             [
              1,
              "#f0f921"
             ]
            ],
            "type": "heatmap"
           }
          ],
          "heatmapgl": [
           {
            "colorbar": {
             "outlinewidth": 0,
             "ticks": ""
            },
            "colorscale": [
             [
              0,
              "#0d0887"
             ],
             [
              0.1111111111111111,
              "#46039f"
             ],
             [
              0.2222222222222222,
              "#7201a8"
             ],
             [
              0.3333333333333333,
              "#9c179e"
             ],
             [
              0.4444444444444444,
              "#bd3786"
             ],
             [
              0.5555555555555556,
              "#d8576b"
             ],
             [
              0.6666666666666666,
              "#ed7953"
             ],
             [
              0.7777777777777778,
              "#fb9f3a"
             ],
             [
              0.8888888888888888,
              "#fdca26"
             ],
             [
              1,
              "#f0f921"
             ]
            ],
            "type": "heatmapgl"
           }
          ],
          "histogram": [
           {
            "marker": {
             "colorbar": {
              "outlinewidth": 0,
              "ticks": ""
             }
            },
            "type": "histogram"
           }
          ],
          "histogram2d": [
           {
            "colorbar": {
             "outlinewidth": 0,
             "ticks": ""
            },
            "colorscale": [
             [
              0,
              "#0d0887"
             ],
             [
              0.1111111111111111,
              "#46039f"
             ],
             [
              0.2222222222222222,
              "#7201a8"
             ],
             [
              0.3333333333333333,
              "#9c179e"
             ],
             [
              0.4444444444444444,
              "#bd3786"
             ],
             [
              0.5555555555555556,
              "#d8576b"
             ],
             [
              0.6666666666666666,
              "#ed7953"
             ],
             [
              0.7777777777777778,
              "#fb9f3a"
             ],
             [
              0.8888888888888888,
              "#fdca26"
             ],
             [
              1,
              "#f0f921"
             ]
            ],
            "type": "histogram2d"
           }
          ],
          "histogram2dcontour": [
           {
            "colorbar": {
             "outlinewidth": 0,
             "ticks": ""
            },
            "colorscale": [
             [
              0,
              "#0d0887"
             ],
             [
              0.1111111111111111,
              "#46039f"
             ],
             [
              0.2222222222222222,
              "#7201a8"
             ],
             [
              0.3333333333333333,
              "#9c179e"
             ],
             [
              0.4444444444444444,
              "#bd3786"
             ],
             [
              0.5555555555555556,
              "#d8576b"
             ],
             [
              0.6666666666666666,
              "#ed7953"
             ],
             [
              0.7777777777777778,
              "#fb9f3a"
             ],
             [
              0.8888888888888888,
              "#fdca26"
             ],
             [
              1,
              "#f0f921"
             ]
            ],
            "type": "histogram2dcontour"
           }
          ],
          "mesh3d": [
           {
            "colorbar": {
             "outlinewidth": 0,
             "ticks": ""
            },
            "type": "mesh3d"
           }
          ],
          "parcoords": [
           {
            "line": {
             "colorbar": {
              "outlinewidth": 0,
              "ticks": ""
             }
            },
            "type": "parcoords"
           }
          ],
          "pie": [
           {
            "automargin": true,
            "type": "pie"
           }
          ],
          "scatter": [
           {
            "marker": {
             "colorbar": {
              "outlinewidth": 0,
              "ticks": ""
             }
            },
            "type": "scatter"
           }
          ],
          "scatter3d": [
           {
            "line": {
             "colorbar": {
              "outlinewidth": 0,
              "ticks": ""
             }
            },
            "marker": {
             "colorbar": {
              "outlinewidth": 0,
              "ticks": ""
             }
            },
            "type": "scatter3d"
           }
          ],
          "scattercarpet": [
           {
            "marker": {
             "colorbar": {
              "outlinewidth": 0,
              "ticks": ""
             }
            },
            "type": "scattercarpet"
           }
          ],
          "scattergeo": [
           {
            "marker": {
             "colorbar": {
              "outlinewidth": 0,
              "ticks": ""
             }
            },
            "type": "scattergeo"
           }
          ],
          "scattergl": [
           {
            "marker": {
             "colorbar": {
              "outlinewidth": 0,
              "ticks": ""
             }
            },
            "type": "scattergl"
           }
          ],
          "scattermapbox": [
           {
            "marker": {
             "colorbar": {
              "outlinewidth": 0,
              "ticks": ""
             }
            },
            "type": "scattermapbox"
           }
          ],
          "scatterpolar": [
           {
            "marker": {
             "colorbar": {
              "outlinewidth": 0,
              "ticks": ""
             }
            },
            "type": "scatterpolar"
           }
          ],
          "scatterpolargl": [
           {
            "marker": {
             "colorbar": {
              "outlinewidth": 0,
              "ticks": ""
             }
            },
            "type": "scatterpolargl"
           }
          ],
          "scatterternary": [
           {
            "marker": {
             "colorbar": {
              "outlinewidth": 0,
              "ticks": ""
             }
            },
            "type": "scatterternary"
           }
          ],
          "surface": [
           {
            "colorbar": {
             "outlinewidth": 0,
             "ticks": ""
            },
            "colorscale": [
             [
              0,
              "#0d0887"
             ],
             [
              0.1111111111111111,
              "#46039f"
             ],
             [
              0.2222222222222222,
              "#7201a8"
             ],
             [
              0.3333333333333333,
              "#9c179e"
             ],
             [
              0.4444444444444444,
              "#bd3786"
             ],
             [
              0.5555555555555556,
              "#d8576b"
             ],
             [
              0.6666666666666666,
              "#ed7953"
             ],
             [
              0.7777777777777778,
              "#fb9f3a"
             ],
             [
              0.8888888888888888,
              "#fdca26"
             ],
             [
              1,
              "#f0f921"
             ]
            ],
            "type": "surface"
           }
          ],
          "table": [
           {
            "cells": {
             "fill": {
              "color": "#EBF0F8"
             },
             "line": {
              "color": "white"
             }
            },
            "header": {
             "fill": {
              "color": "#C8D4E3"
             },
             "line": {
              "color": "white"
             }
            },
            "type": "table"
           }
          ]
         },
         "layout": {
          "annotationdefaults": {
           "arrowcolor": "#2a3f5f",
           "arrowhead": 0,
           "arrowwidth": 1
          },
          "coloraxis": {
           "colorbar": {
            "outlinewidth": 0,
            "ticks": ""
           }
          },
          "colorscale": {
           "diverging": [
            [
             0,
             "#8e0152"
            ],
            [
             0.1,
             "#c51b7d"
            ],
            [
             0.2,
             "#de77ae"
            ],
            [
             0.3,
             "#f1b6da"
            ],
            [
             0.4,
             "#fde0ef"
            ],
            [
             0.5,
             "#f7f7f7"
            ],
            [
             0.6,
             "#e6f5d0"
            ],
            [
             0.7,
             "#b8e186"
            ],
            [
             0.8,
             "#7fbc41"
            ],
            [
             0.9,
             "#4d9221"
            ],
            [
             1,
             "#276419"
            ]
           ],
           "sequential": [
            [
             0,
             "#0d0887"
            ],
            [
             0.1111111111111111,
             "#46039f"
            ],
            [
             0.2222222222222222,
             "#7201a8"
            ],
            [
             0.3333333333333333,
             "#9c179e"
            ],
            [
             0.4444444444444444,
             "#bd3786"
            ],
            [
             0.5555555555555556,
             "#d8576b"
            ],
            [
             0.6666666666666666,
             "#ed7953"
            ],
            [
             0.7777777777777778,
             "#fb9f3a"
            ],
            [
             0.8888888888888888,
             "#fdca26"
            ],
            [
             1,
             "#f0f921"
            ]
           ],
           "sequentialminus": [
            [
             0,
             "#0d0887"
            ],
            [
             0.1111111111111111,
             "#46039f"
            ],
            [
             0.2222222222222222,
             "#7201a8"
            ],
            [
             0.3333333333333333,
             "#9c179e"
            ],
            [
             0.4444444444444444,
             "#bd3786"
            ],
            [
             0.5555555555555556,
             "#d8576b"
            ],
            [
             0.6666666666666666,
             "#ed7953"
            ],
            [
             0.7777777777777778,
             "#fb9f3a"
            ],
            [
             0.8888888888888888,
             "#fdca26"
            ],
            [
             1,
             "#f0f921"
            ]
           ]
          },
          "colorway": [
           "#636efa",
           "#EF553B",
           "#00cc96",
           "#ab63fa",
           "#FFA15A",
           "#19d3f3",
           "#FF6692",
           "#B6E880",
           "#FF97FF",
           "#FECB52"
          ],
          "font": {
           "color": "#2a3f5f"
          },
          "geo": {
           "bgcolor": "white",
           "lakecolor": "white",
           "landcolor": "#E5ECF6",
           "showlakes": true,
           "showland": true,
           "subunitcolor": "white"
          },
          "hoverlabel": {
           "align": "left"
          },
          "hovermode": "closest",
          "mapbox": {
           "style": "light"
          },
          "paper_bgcolor": "white",
          "plot_bgcolor": "#E5ECF6",
          "polar": {
           "angularaxis": {
            "gridcolor": "white",
            "linecolor": "white",
            "ticks": ""
           },
           "bgcolor": "#E5ECF6",
           "radialaxis": {
            "gridcolor": "white",
            "linecolor": "white",
            "ticks": ""
           }
          },
          "scene": {
           "xaxis": {
            "backgroundcolor": "#E5ECF6",
            "gridcolor": "white",
            "gridwidth": 2,
            "linecolor": "white",
            "showbackground": true,
            "ticks": "",
            "zerolinecolor": "white"
           },
           "yaxis": {
            "backgroundcolor": "#E5ECF6",
            "gridcolor": "white",
            "gridwidth": 2,
            "linecolor": "white",
            "showbackground": true,
            "ticks": "",
            "zerolinecolor": "white"
           },
           "zaxis": {
            "backgroundcolor": "#E5ECF6",
            "gridcolor": "white",
            "gridwidth": 2,
            "linecolor": "white",
            "showbackground": true,
            "ticks": "",
            "zerolinecolor": "white"
           }
          },
          "shapedefaults": {
           "line": {
            "color": "#2a3f5f"
           }
          },
          "ternary": {
           "aaxis": {
            "gridcolor": "white",
            "linecolor": "white",
            "ticks": ""
           },
           "baxis": {
            "gridcolor": "white",
            "linecolor": "white",
            "ticks": ""
           },
           "bgcolor": "#E5ECF6",
           "caxis": {
            "gridcolor": "white",
            "linecolor": "white",
            "ticks": ""
           }
          },
          "title": {
           "x": 0.05
          },
          "xaxis": {
           "automargin": true,
           "gridcolor": "white",
           "linecolor": "white",
           "ticks": "",
           "title": {
            "standoff": 15
           },
           "zerolinecolor": "white",
           "zerolinewidth": 2
          },
          "yaxis": {
           "automargin": true,
           "gridcolor": "white",
           "linecolor": "white",
           "ticks": "",
           "title": {
            "standoff": 15
           },
           "zerolinecolor": "white",
           "zerolinewidth": 2
          }
         }
        },
        "title": {
         "text": "Sex vs Survival"
        },
        "xaxis": {
         "title": {
          "text": "Sex"
         }
        },
        "yaxis": {
         "title": {
          "text": "No. of Passengers"
         }
        }
       }
      },
      "text/html": [
       "<div>\n",
       "        \n",
       "        \n",
       "            <div id=\"09c8eebb-3a2f-487c-b336-8bf231432489\" class=\"plotly-graph-div\" style=\"height:525px; width:100%;\"></div>\n",
       "            <script type=\"text/javascript\">\n",
       "                require([\"plotly\"], function(Plotly) {\n",
       "                    window.PLOTLYENV=window.PLOTLYENV || {};\n",
       "                    \n",
       "                if (document.getElementById(\"09c8eebb-3a2f-487c-b336-8bf231432489\")) {\n",
       "                    Plotly.newPlot(\n",
       "                        '09c8eebb-3a2f-487c-b336-8bf231432489',\n",
       "                        [{\"name\": \"Total Survivals\", \"offsetgroup\": \"0\", \"type\": \"bar\", \"x\": [\"female\", \"male\"], \"y\": [233, 109]}, {\"name\": \"Total Died\", \"offsetgroup\": \"0\", \"type\": \"bar\", \"x\": [\"female\", \"male\"], \"y\": [81.0, 468.0]}],\n",
       "                        {\"barmode\": \"stack\", \"template\": {\"data\": {\"bar\": [{\"error_x\": {\"color\": \"#2a3f5f\"}, \"error_y\": {\"color\": \"#2a3f5f\"}, \"marker\": {\"line\": {\"color\": \"#E5ECF6\", \"width\": 0.5}}, \"type\": \"bar\"}], \"barpolar\": [{\"marker\": {\"line\": {\"color\": \"#E5ECF6\", \"width\": 0.5}}, \"type\": \"barpolar\"}], \"carpet\": [{\"aaxis\": {\"endlinecolor\": \"#2a3f5f\", \"gridcolor\": \"white\", \"linecolor\": \"white\", \"minorgridcolor\": \"white\", \"startlinecolor\": \"#2a3f5f\"}, \"baxis\": {\"endlinecolor\": \"#2a3f5f\", \"gridcolor\": \"white\", \"linecolor\": \"white\", \"minorgridcolor\": \"white\", \"startlinecolor\": \"#2a3f5f\"}, \"type\": \"carpet\"}], \"choropleth\": [{\"colorbar\": {\"outlinewidth\": 0, \"ticks\": \"\"}, \"type\": \"choropleth\"}], \"contour\": [{\"colorbar\": {\"outlinewidth\": 0, \"ticks\": \"\"}, \"colorscale\": [[0.0, \"#0d0887\"], [0.1111111111111111, \"#46039f\"], [0.2222222222222222, \"#7201a8\"], [0.3333333333333333, \"#9c179e\"], [0.4444444444444444, \"#bd3786\"], [0.5555555555555556, \"#d8576b\"], [0.6666666666666666, \"#ed7953\"], [0.7777777777777778, \"#fb9f3a\"], [0.8888888888888888, \"#fdca26\"], [1.0, \"#f0f921\"]], \"type\": \"contour\"}], \"contourcarpet\": [{\"colorbar\": {\"outlinewidth\": 0, \"ticks\": \"\"}, \"type\": \"contourcarpet\"}], \"heatmap\": [{\"colorbar\": {\"outlinewidth\": 0, \"ticks\": \"\"}, \"colorscale\": [[0.0, \"#0d0887\"], [0.1111111111111111, \"#46039f\"], [0.2222222222222222, \"#7201a8\"], [0.3333333333333333, \"#9c179e\"], [0.4444444444444444, \"#bd3786\"], [0.5555555555555556, \"#d8576b\"], [0.6666666666666666, \"#ed7953\"], [0.7777777777777778, \"#fb9f3a\"], [0.8888888888888888, \"#fdca26\"], [1.0, \"#f0f921\"]], \"type\": \"heatmap\"}], \"heatmapgl\": [{\"colorbar\": {\"outlinewidth\": 0, \"ticks\": \"\"}, \"colorscale\": [[0.0, \"#0d0887\"], [0.1111111111111111, \"#46039f\"], [0.2222222222222222, \"#7201a8\"], [0.3333333333333333, \"#9c179e\"], [0.4444444444444444, \"#bd3786\"], [0.5555555555555556, \"#d8576b\"], [0.6666666666666666, \"#ed7953\"], [0.7777777777777778, \"#fb9f3a\"], [0.8888888888888888, \"#fdca26\"], [1.0, \"#f0f921\"]], \"type\": \"heatmapgl\"}], \"histogram\": [{\"marker\": {\"colorbar\": {\"outlinewidth\": 0, \"ticks\": \"\"}}, \"type\": \"histogram\"}], \"histogram2d\": [{\"colorbar\": {\"outlinewidth\": 0, \"ticks\": \"\"}, \"colorscale\": [[0.0, \"#0d0887\"], [0.1111111111111111, \"#46039f\"], [0.2222222222222222, \"#7201a8\"], [0.3333333333333333, \"#9c179e\"], [0.4444444444444444, \"#bd3786\"], [0.5555555555555556, \"#d8576b\"], [0.6666666666666666, \"#ed7953\"], [0.7777777777777778, \"#fb9f3a\"], [0.8888888888888888, \"#fdca26\"], [1.0, \"#f0f921\"]], \"type\": \"histogram2d\"}], \"histogram2dcontour\": [{\"colorbar\": {\"outlinewidth\": 0, \"ticks\": \"\"}, \"colorscale\": [[0.0, \"#0d0887\"], [0.1111111111111111, \"#46039f\"], [0.2222222222222222, \"#7201a8\"], [0.3333333333333333, \"#9c179e\"], [0.4444444444444444, \"#bd3786\"], [0.5555555555555556, \"#d8576b\"], [0.6666666666666666, \"#ed7953\"], [0.7777777777777778, \"#fb9f3a\"], [0.8888888888888888, \"#fdca26\"], [1.0, \"#f0f921\"]], \"type\": \"histogram2dcontour\"}], \"mesh3d\": [{\"colorbar\": {\"outlinewidth\": 0, \"ticks\": \"\"}, \"type\": \"mesh3d\"}], \"parcoords\": [{\"line\": {\"colorbar\": {\"outlinewidth\": 0, \"ticks\": \"\"}}, \"type\": \"parcoords\"}], \"pie\": [{\"automargin\": true, \"type\": \"pie\"}], \"scatter\": [{\"marker\": {\"colorbar\": {\"outlinewidth\": 0, \"ticks\": \"\"}}, \"type\": \"scatter\"}], \"scatter3d\": [{\"line\": {\"colorbar\": {\"outlinewidth\": 0, \"ticks\": \"\"}}, \"marker\": {\"colorbar\": {\"outlinewidth\": 0, \"ticks\": \"\"}}, \"type\": \"scatter3d\"}], \"scattercarpet\": [{\"marker\": {\"colorbar\": {\"outlinewidth\": 0, \"ticks\": \"\"}}, \"type\": \"scattercarpet\"}], \"scattergeo\": [{\"marker\": {\"colorbar\": {\"outlinewidth\": 0, \"ticks\": \"\"}}, \"type\": \"scattergeo\"}], \"scattergl\": [{\"marker\": {\"colorbar\": {\"outlinewidth\": 0, \"ticks\": \"\"}}, \"type\": \"scattergl\"}], \"scattermapbox\": [{\"marker\": {\"colorbar\": {\"outlinewidth\": 0, \"ticks\": \"\"}}, \"type\": \"scattermapbox\"}], \"scatterpolar\": [{\"marker\": {\"colorbar\": {\"outlinewidth\": 0, \"ticks\": \"\"}}, \"type\": \"scatterpolar\"}], \"scatterpolargl\": [{\"marker\": {\"colorbar\": {\"outlinewidth\": 0, \"ticks\": \"\"}}, \"type\": \"scatterpolargl\"}], \"scatterternary\": [{\"marker\": {\"colorbar\": {\"outlinewidth\": 0, \"ticks\": \"\"}}, \"type\": \"scatterternary\"}], \"surface\": [{\"colorbar\": {\"outlinewidth\": 0, \"ticks\": \"\"}, \"colorscale\": [[0.0, \"#0d0887\"], [0.1111111111111111, \"#46039f\"], [0.2222222222222222, \"#7201a8\"], [0.3333333333333333, \"#9c179e\"], [0.4444444444444444, \"#bd3786\"], [0.5555555555555556, \"#d8576b\"], [0.6666666666666666, \"#ed7953\"], [0.7777777777777778, \"#fb9f3a\"], [0.8888888888888888, \"#fdca26\"], [1.0, \"#f0f921\"]], \"type\": \"surface\"}], \"table\": [{\"cells\": {\"fill\": {\"color\": \"#EBF0F8\"}, \"line\": {\"color\": \"white\"}}, \"header\": {\"fill\": {\"color\": \"#C8D4E3\"}, \"line\": {\"color\": \"white\"}}, \"type\": \"table\"}]}, \"layout\": {\"annotationdefaults\": {\"arrowcolor\": \"#2a3f5f\", \"arrowhead\": 0, \"arrowwidth\": 1}, \"coloraxis\": {\"colorbar\": {\"outlinewidth\": 0, \"ticks\": \"\"}}, \"colorscale\": {\"diverging\": [[0, \"#8e0152\"], [0.1, \"#c51b7d\"], [0.2, \"#de77ae\"], [0.3, \"#f1b6da\"], [0.4, \"#fde0ef\"], [0.5, \"#f7f7f7\"], [0.6, \"#e6f5d0\"], [0.7, \"#b8e186\"], [0.8, \"#7fbc41\"], [0.9, \"#4d9221\"], [1, \"#276419\"]], \"sequential\": [[0.0, \"#0d0887\"], [0.1111111111111111, \"#46039f\"], [0.2222222222222222, \"#7201a8\"], [0.3333333333333333, \"#9c179e\"], [0.4444444444444444, \"#bd3786\"], [0.5555555555555556, \"#d8576b\"], [0.6666666666666666, \"#ed7953\"], [0.7777777777777778, \"#fb9f3a\"], [0.8888888888888888, \"#fdca26\"], [1.0, \"#f0f921\"]], \"sequentialminus\": [[0.0, \"#0d0887\"], [0.1111111111111111, \"#46039f\"], [0.2222222222222222, \"#7201a8\"], [0.3333333333333333, \"#9c179e\"], [0.4444444444444444, \"#bd3786\"], [0.5555555555555556, \"#d8576b\"], [0.6666666666666666, \"#ed7953\"], [0.7777777777777778, \"#fb9f3a\"], [0.8888888888888888, \"#fdca26\"], [1.0, \"#f0f921\"]]}, \"colorway\": [\"#636efa\", \"#EF553B\", \"#00cc96\", \"#ab63fa\", \"#FFA15A\", \"#19d3f3\", \"#FF6692\", \"#B6E880\", \"#FF97FF\", \"#FECB52\"], \"font\": {\"color\": \"#2a3f5f\"}, \"geo\": {\"bgcolor\": \"white\", \"lakecolor\": \"white\", \"landcolor\": \"#E5ECF6\", \"showlakes\": true, \"showland\": true, \"subunitcolor\": \"white\"}, \"hoverlabel\": {\"align\": \"left\"}, \"hovermode\": \"closest\", \"mapbox\": {\"style\": \"light\"}, \"paper_bgcolor\": \"white\", \"plot_bgcolor\": \"#E5ECF6\", \"polar\": {\"angularaxis\": {\"gridcolor\": \"white\", \"linecolor\": \"white\", \"ticks\": \"\"}, \"bgcolor\": \"#E5ECF6\", \"radialaxis\": {\"gridcolor\": \"white\", \"linecolor\": \"white\", \"ticks\": \"\"}}, \"scene\": {\"xaxis\": {\"backgroundcolor\": \"#E5ECF6\", \"gridcolor\": \"white\", \"gridwidth\": 2, \"linecolor\": \"white\", \"showbackground\": true, \"ticks\": \"\", \"zerolinecolor\": \"white\"}, \"yaxis\": {\"backgroundcolor\": \"#E5ECF6\", \"gridcolor\": \"white\", \"gridwidth\": 2, \"linecolor\": \"white\", \"showbackground\": true, \"ticks\": \"\", \"zerolinecolor\": \"white\"}, \"zaxis\": {\"backgroundcolor\": \"#E5ECF6\", \"gridcolor\": \"white\", \"gridwidth\": 2, \"linecolor\": \"white\", \"showbackground\": true, \"ticks\": \"\", \"zerolinecolor\": \"white\"}}, \"shapedefaults\": {\"line\": {\"color\": \"#2a3f5f\"}}, \"ternary\": {\"aaxis\": {\"gridcolor\": \"white\", \"linecolor\": \"white\", \"ticks\": \"\"}, \"baxis\": {\"gridcolor\": \"white\", \"linecolor\": \"white\", \"ticks\": \"\"}, \"bgcolor\": \"#E5ECF6\", \"caxis\": {\"gridcolor\": \"white\", \"linecolor\": \"white\", \"ticks\": \"\"}}, \"title\": {\"x\": 0.05}, \"xaxis\": {\"automargin\": true, \"gridcolor\": \"white\", \"linecolor\": \"white\", \"ticks\": \"\", \"title\": {\"standoff\": 15}, \"zerolinecolor\": \"white\", \"zerolinewidth\": 2}, \"yaxis\": {\"automargin\": true, \"gridcolor\": \"white\", \"linecolor\": \"white\", \"ticks\": \"\", \"title\": {\"standoff\": 15}, \"zerolinecolor\": \"white\", \"zerolinewidth\": 2}}}, \"title\": {\"text\": \"Sex vs Survival\"}, \"xaxis\": {\"title\": {\"text\": \"Sex\"}}, \"yaxis\": {\"title\": {\"text\": \"No. of Passengers\"}}},\n",
       "                        {\"responsive\": true}\n",
       "                    ).then(function(){\n",
       "                            \n",
       "var gd = document.getElementById('09c8eebb-3a2f-487c-b336-8bf231432489');\n",
       "var x = new MutationObserver(function (mutations, observer) {{\n",
       "        var display = window.getComputedStyle(gd).display;\n",
       "        if (!display || display === 'none') {{\n",
       "            console.log([gd, 'removed!']);\n",
       "            Plotly.purge(gd);\n",
       "            observer.disconnect();\n",
       "        }}\n",
       "}});\n",
       "\n",
       "// Listen for the removal of the full notebook cells\n",
       "var notebookContainer = gd.closest('#notebook-container');\n",
       "if (notebookContainer) {{\n",
       "    x.observe(notebookContainer, {childList: true});\n",
       "}}\n",
       "\n",
       "// Listen for the clearing of the current output cell\n",
       "var outputEl = gd.closest('.output');\n",
       "if (outputEl) {{\n",
       "    x.observe(outputEl, {childList: true});\n",
       "}}\n",
       "\n",
       "                        })\n",
       "                };\n",
       "                });\n",
       "            </script>\n",
       "        </div>"
      ]
     },
     "metadata": {},
     "output_type": "display_data"
    }
   ],
   "source": [
    "fig = go.Figure(data=[\n",
    "            go.Bar(name='Total Survivals',x=pivot_total['Sex'],y=pivot_total['Survived'],offsetgroup=0),\n",
    "            go.Bar(name='Total Died',x=pivot_total['Sex'],y=pivot_total['Not_Survived'],offsetgroup=0)\n",
    "          ])\n",
    "fig.update_layout(barmode='stack',title='Sex vs Survival', yaxis_title='No. of Passengers',xaxis_title='Sex').show();\n",
    "\n"
   ]
  },
  {
   "cell_type": "code",
   "execution_count": null,
   "metadata": {},
   "outputs": [],
   "source": [
    "# Let us look at some Advance and different charts than Matplotlib \n",
    "# For this purpose I have used inbuilt data of plotly "
   ]
  },
  {
   "cell_type": "code",
   "execution_count": null,
   "metadata": {},
   "outputs": [],
   "source": [
    "data_plotly=px.data.gapminder()"
   ]
  },
  {
   "cell_type": "code",
   "execution_count": 101,
   "metadata": {},
   "outputs": [
    {
     "data": {
      "text/html": [
       "<div>\n",
       "<style scoped>\n",
       "    .dataframe tbody tr th:only-of-type {\n",
       "        vertical-align: middle;\n",
       "    }\n",
       "\n",
       "    .dataframe tbody tr th {\n",
       "        vertical-align: top;\n",
       "    }\n",
       "\n",
       "    .dataframe thead th {\n",
       "        text-align: right;\n",
       "    }\n",
       "</style>\n",
       "<table border=\"1\" class=\"dataframe\">\n",
       "  <thead>\n",
       "    <tr style=\"text-align: right;\">\n",
       "      <th></th>\n",
       "      <th>country</th>\n",
       "      <th>continent</th>\n",
       "      <th>year</th>\n",
       "      <th>lifeExp</th>\n",
       "      <th>pop</th>\n",
       "      <th>gdpPercap</th>\n",
       "      <th>iso_alpha</th>\n",
       "      <th>iso_num</th>\n",
       "    </tr>\n",
       "  </thead>\n",
       "  <tbody>\n",
       "    <tr>\n",
       "      <th>0</th>\n",
       "      <td>Afghanistan</td>\n",
       "      <td>Asia</td>\n",
       "      <td>1952</td>\n",
       "      <td>28.801</td>\n",
       "      <td>8425333</td>\n",
       "      <td>779.445314</td>\n",
       "      <td>AFG</td>\n",
       "      <td>4</td>\n",
       "    </tr>\n",
       "    <tr>\n",
       "      <th>1</th>\n",
       "      <td>Afghanistan</td>\n",
       "      <td>Asia</td>\n",
       "      <td>1957</td>\n",
       "      <td>30.332</td>\n",
       "      <td>9240934</td>\n",
       "      <td>820.853030</td>\n",
       "      <td>AFG</td>\n",
       "      <td>4</td>\n",
       "    </tr>\n",
       "    <tr>\n",
       "      <th>2</th>\n",
       "      <td>Afghanistan</td>\n",
       "      <td>Asia</td>\n",
       "      <td>1962</td>\n",
       "      <td>31.997</td>\n",
       "      <td>10267083</td>\n",
       "      <td>853.100710</td>\n",
       "      <td>AFG</td>\n",
       "      <td>4</td>\n",
       "    </tr>\n",
       "    <tr>\n",
       "      <th>3</th>\n",
       "      <td>Afghanistan</td>\n",
       "      <td>Asia</td>\n",
       "      <td>1967</td>\n",
       "      <td>34.020</td>\n",
       "      <td>11537966</td>\n",
       "      <td>836.197138</td>\n",
       "      <td>AFG</td>\n",
       "      <td>4</td>\n",
       "    </tr>\n",
       "    <tr>\n",
       "      <th>4</th>\n",
       "      <td>Afghanistan</td>\n",
       "      <td>Asia</td>\n",
       "      <td>1972</td>\n",
       "      <td>36.088</td>\n",
       "      <td>13079460</td>\n",
       "      <td>739.981106</td>\n",
       "      <td>AFG</td>\n",
       "      <td>4</td>\n",
       "    </tr>\n",
       "    <tr>\n",
       "      <th>...</th>\n",
       "      <td>...</td>\n",
       "      <td>...</td>\n",
       "      <td>...</td>\n",
       "      <td>...</td>\n",
       "      <td>...</td>\n",
       "      <td>...</td>\n",
       "      <td>...</td>\n",
       "      <td>...</td>\n",
       "    </tr>\n",
       "    <tr>\n",
       "      <th>1699</th>\n",
       "      <td>Zimbabwe</td>\n",
       "      <td>Africa</td>\n",
       "      <td>1987</td>\n",
       "      <td>62.351</td>\n",
       "      <td>9216418</td>\n",
       "      <td>706.157306</td>\n",
       "      <td>ZWE</td>\n",
       "      <td>716</td>\n",
       "    </tr>\n",
       "    <tr>\n",
       "      <th>1700</th>\n",
       "      <td>Zimbabwe</td>\n",
       "      <td>Africa</td>\n",
       "      <td>1992</td>\n",
       "      <td>60.377</td>\n",
       "      <td>10704340</td>\n",
       "      <td>693.420786</td>\n",
       "      <td>ZWE</td>\n",
       "      <td>716</td>\n",
       "    </tr>\n",
       "    <tr>\n",
       "      <th>1701</th>\n",
       "      <td>Zimbabwe</td>\n",
       "      <td>Africa</td>\n",
       "      <td>1997</td>\n",
       "      <td>46.809</td>\n",
       "      <td>11404948</td>\n",
       "      <td>792.449960</td>\n",
       "      <td>ZWE</td>\n",
       "      <td>716</td>\n",
       "    </tr>\n",
       "    <tr>\n",
       "      <th>1702</th>\n",
       "      <td>Zimbabwe</td>\n",
       "      <td>Africa</td>\n",
       "      <td>2002</td>\n",
       "      <td>39.989</td>\n",
       "      <td>11926563</td>\n",
       "      <td>672.038623</td>\n",
       "      <td>ZWE</td>\n",
       "      <td>716</td>\n",
       "    </tr>\n",
       "    <tr>\n",
       "      <th>1703</th>\n",
       "      <td>Zimbabwe</td>\n",
       "      <td>Africa</td>\n",
       "      <td>2007</td>\n",
       "      <td>43.487</td>\n",
       "      <td>12311143</td>\n",
       "      <td>469.709298</td>\n",
       "      <td>ZWE</td>\n",
       "      <td>716</td>\n",
       "    </tr>\n",
       "  </tbody>\n",
       "</table>\n",
       "<p>1704 rows × 8 columns</p>\n",
       "</div>"
      ],
      "text/plain": [
       "          country continent  year  lifeExp       pop   gdpPercap iso_alpha  \\\n",
       "0     Afghanistan      Asia  1952   28.801   8425333  779.445314       AFG   \n",
       "1     Afghanistan      Asia  1957   30.332   9240934  820.853030       AFG   \n",
       "2     Afghanistan      Asia  1962   31.997  10267083  853.100710       AFG   \n",
       "3     Afghanistan      Asia  1967   34.020  11537966  836.197138       AFG   \n",
       "4     Afghanistan      Asia  1972   36.088  13079460  739.981106       AFG   \n",
       "...           ...       ...   ...      ...       ...         ...       ...   \n",
       "1699     Zimbabwe    Africa  1987   62.351   9216418  706.157306       ZWE   \n",
       "1700     Zimbabwe    Africa  1992   60.377  10704340  693.420786       ZWE   \n",
       "1701     Zimbabwe    Africa  1997   46.809  11404948  792.449960       ZWE   \n",
       "1702     Zimbabwe    Africa  2002   39.989  11926563  672.038623       ZWE   \n",
       "1703     Zimbabwe    Africa  2007   43.487  12311143  469.709298       ZWE   \n",
       "\n",
       "      iso_num  \n",
       "0           4  \n",
       "1           4  \n",
       "2           4  \n",
       "3           4  \n",
       "4           4  \n",
       "...       ...  \n",
       "1699      716  \n",
       "1700      716  \n",
       "1701      716  \n",
       "1702      716  \n",
       "1703      716  \n",
       "\n",
       "[1704 rows x 8 columns]"
      ]
     },
     "execution_count": 101,
     "metadata": {},
     "output_type": "execute_result"
    }
   ],
   "source": [
    "data_plotly"
   ]
  },
  {
   "cell_type": "code",
   "execution_count": null,
   "metadata": {},
   "outputs": [],
   "source": [
    "############################################# Filled Area Chart ######################################################"
   ]
  },
  {
   "cell_type": "code",
   "execution_count": 124,
   "metadata": {
    "scrolled": false
   },
   "outputs": [
    {
     "data": {
      "application/vnd.plotly.v1+json": {
       "config": {
        "plotlyServerURL": "https://plot.ly"
       },
       "data": [
        {
         "hovertemplate": "<b>%{hovertext}</b><br><br>continent=Asia<br>country=Afghanistan<br>year=%{x}<br>lifeExp=%{y}<extra></extra>",
         "hovertext": [
          "Afghanistan",
          "Afghanistan",
          "Afghanistan",
          "Afghanistan",
          "Afghanistan",
          "Afghanistan",
          "Afghanistan",
          "Afghanistan",
          "Afghanistan",
          "Afghanistan",
          "Afghanistan",
          "Afghanistan"
         ],
         "legendgroup": "Asia",
         "line": {
          "color": "#636efa"
         },
         "mode": "lines",
         "name": "Asia",
         "orientation": "v",
         "showlegend": true,
         "stackgroup": "1",
         "type": "scatter",
         "x": [
          1952,
          1957,
          1962,
          1967,
          1972,
          1977,
          1982,
          1987,
          1992,
          1997,
          2002,
          2007
         ],
         "xaxis": "x",
         "y": [
          28.801,
          30.331999999999997,
          31.997,
          34.02,
          36.088,
          38.438,
          39.854,
          40.821999999999996,
          41.674,
          41.763000000000005,
          42.129,
          43.828
         ],
         "yaxis": "y"
        },
        {
         "hovertemplate": "<b>%{hovertext}</b><br><br>continent=Asia<br>country=Bahrain<br>year=%{x}<br>lifeExp=%{y}<extra></extra>",
         "hovertext": [
          "Bahrain",
          "Bahrain",
          "Bahrain",
          "Bahrain",
          "Bahrain",
          "Bahrain",
          "Bahrain",
          "Bahrain",
          "Bahrain",
          "Bahrain",
          "Bahrain",
          "Bahrain"
         ],
         "legendgroup": "Asia",
         "line": {
          "color": "#636efa"
         },
         "mode": "lines",
         "name": "Asia",
         "orientation": "v",
         "showlegend": false,
         "stackgroup": "1",
         "type": "scatter",
         "x": [
          1952,
          1957,
          1962,
          1967,
          1972,
          1977,
          1982,
          1987,
          1992,
          1997,
          2002,
          2007
         ],
         "xaxis": "x",
         "y": [
          50.93899999999999,
          53.832,
          56.923,
          59.923,
          63.3,
          65.593,
          69.05199999999999,
          70.75,
          72.601,
          73.925,
          74.795,
          75.635
         ],
         "yaxis": "y"
        },
        {
         "hovertemplate": "<b>%{hovertext}</b><br><br>continent=Asia<br>country=Bangladesh<br>year=%{x}<br>lifeExp=%{y}<extra></extra>",
         "hovertext": [
          "Bangladesh",
          "Bangladesh",
          "Bangladesh",
          "Bangladesh",
          "Bangladesh",
          "Bangladesh",
          "Bangladesh",
          "Bangladesh",
          "Bangladesh",
          "Bangladesh",
          "Bangladesh",
          "Bangladesh"
         ],
         "legendgroup": "Asia",
         "line": {
          "color": "#636efa"
         },
         "mode": "lines",
         "name": "Asia",
         "orientation": "v",
         "showlegend": false,
         "stackgroup": "1",
         "type": "scatter",
         "x": [
          1952,
          1957,
          1962,
          1967,
          1972,
          1977,
          1982,
          1987,
          1992,
          1997,
          2002,
          2007
         ],
         "xaxis": "x",
         "y": [
          37.484,
          39.348,
          41.216,
          43.453,
          45.251999999999995,
          46.923,
          50.00899999999999,
          52.818999999999996,
          56.018,
          59.412,
          62.013000000000005,
          64.062
         ],
         "yaxis": "y"
        },
        {
         "hovertemplate": "<b>%{hovertext}</b><br><br>continent=Asia<br>country=Cambodia<br>year=%{x}<br>lifeExp=%{y}<extra></extra>",
         "hovertext": [
          "Cambodia",
          "Cambodia",
          "Cambodia",
          "Cambodia",
          "Cambodia",
          "Cambodia",
          "Cambodia",
          "Cambodia",
          "Cambodia",
          "Cambodia",
          "Cambodia",
          "Cambodia"
         ],
         "legendgroup": "Asia",
         "line": {
          "color": "#636efa"
         },
         "mode": "lines",
         "name": "Asia",
         "orientation": "v",
         "showlegend": false,
         "stackgroup": "1",
         "type": "scatter",
         "x": [
          1952,
          1957,
          1962,
          1967,
          1972,
          1977,
          1982,
          1987,
          1992,
          1997,
          2002,
          2007
         ],
         "xaxis": "x",
         "y": [
          39.417,
          41.36600000000001,
          43.415,
          45.415,
          40.317,
          31.22,
          50.957,
          53.913999999999994,
          55.803000000000004,
          56.534,
          56.751999999999995,
          59.723
         ],
         "yaxis": "y"
        },
        {
         "hovertemplate": "<b>%{hovertext}</b><br><br>continent=Asia<br>country=China<br>year=%{x}<br>lifeExp=%{y}<extra></extra>",
         "hovertext": [
          "China",
          "China",
          "China",
          "China",
          "China",
          "China",
          "China",
          "China",
          "China",
          "China",
          "China",
          "China"
         ],
         "legendgroup": "Asia",
         "line": {
          "color": "#636efa"
         },
         "mode": "lines",
         "name": "Asia",
         "orientation": "v",
         "showlegend": false,
         "stackgroup": "1",
         "type": "scatter",
         "x": [
          1952,
          1957,
          1962,
          1967,
          1972,
          1977,
          1982,
          1987,
          1992,
          1997,
          2002,
          2007
         ],
         "xaxis": "x",
         "y": [
          44,
          50.54896,
          44.50136,
          58.381119999999996,
          63.118880000000004,
          63.96736,
          65.525,
          67.274,
          68.69,
          70.426,
          72.028,
          72.961
         ],
         "yaxis": "y"
        },
        {
         "hovertemplate": "<b>%{hovertext}</b><br><br>continent=Asia<br>country=Hong Kong, China<br>year=%{x}<br>lifeExp=%{y}<extra></extra>",
         "hovertext": [
          "Hong Kong, China",
          "Hong Kong, China",
          "Hong Kong, China",
          "Hong Kong, China",
          "Hong Kong, China",
          "Hong Kong, China",
          "Hong Kong, China",
          "Hong Kong, China",
          "Hong Kong, China",
          "Hong Kong, China",
          "Hong Kong, China",
          "Hong Kong, China"
         ],
         "legendgroup": "Asia",
         "line": {
          "color": "#636efa"
         },
         "mode": "lines",
         "name": "Asia",
         "orientation": "v",
         "showlegend": false,
         "stackgroup": "1",
         "type": "scatter",
         "x": [
          1952,
          1957,
          1962,
          1967,
          1972,
          1977,
          1982,
          1987,
          1992,
          1997,
          2002,
          2007
         ],
         "xaxis": "x",
         "y": [
          60.96,
          64.75,
          67.65,
          70,
          72,
          73.6,
          75.45,
          76.2,
          77.601,
          80,
          81.495,
          82.208
         ],
         "yaxis": "y"
        },
        {
         "hovertemplate": "<b>%{hovertext}</b><br><br>continent=Asia<br>country=India<br>year=%{x}<br>lifeExp=%{y}<extra></extra>",
         "hovertext": [
          "India",
          "India",
          "India",
          "India",
          "India",
          "India",
          "India",
          "India",
          "India",
          "India",
          "India",
          "India"
         ],
         "legendgroup": "Asia",
         "line": {
          "color": "#636efa"
         },
         "mode": "lines",
         "name": "Asia",
         "orientation": "v",
         "showlegend": false,
         "stackgroup": "1",
         "type": "scatter",
         "x": [
          1952,
          1957,
          1962,
          1967,
          1972,
          1977,
          1982,
          1987,
          1992,
          1997,
          2002,
          2007
         ],
         "xaxis": "x",
         "y": [
          37.373000000000005,
          40.249,
          43.605,
          47.193000000000005,
          50.651,
          54.208,
          56.596000000000004,
          58.553000000000004,
          60.223,
          61.765,
          62.879,
          64.69800000000001
         ],
         "yaxis": "y"
        },
        {
         "hovertemplate": "<b>%{hovertext}</b><br><br>continent=Asia<br>country=Indonesia<br>year=%{x}<br>lifeExp=%{y}<extra></extra>",
         "hovertext": [
          "Indonesia",
          "Indonesia",
          "Indonesia",
          "Indonesia",
          "Indonesia",
          "Indonesia",
          "Indonesia",
          "Indonesia",
          "Indonesia",
          "Indonesia",
          "Indonesia",
          "Indonesia"
         ],
         "legendgroup": "Asia",
         "line": {
          "color": "#636efa"
         },
         "mode": "lines",
         "name": "Asia",
         "orientation": "v",
         "showlegend": false,
         "stackgroup": "1",
         "type": "scatter",
         "x": [
          1952,
          1957,
          1962,
          1967,
          1972,
          1977,
          1982,
          1987,
          1992,
          1997,
          2002,
          2007
         ],
         "xaxis": "x",
         "y": [
          37.468,
          39.918,
          42.518,
          45.964,
          49.203,
          52.702,
          56.159,
          60.137,
          62.681000000000004,
          66.041,
          68.58800000000001,
          70.65
         ],
         "yaxis": "y"
        },
        {
         "hovertemplate": "<b>%{hovertext}</b><br><br>continent=Asia<br>country=Iran<br>year=%{x}<br>lifeExp=%{y}<extra></extra>",
         "hovertext": [
          "Iran",
          "Iran",
          "Iran",
          "Iran",
          "Iran",
          "Iran",
          "Iran",
          "Iran",
          "Iran",
          "Iran",
          "Iran",
          "Iran"
         ],
         "legendgroup": "Asia",
         "line": {
          "color": "#636efa"
         },
         "mode": "lines",
         "name": "Asia",
         "orientation": "v",
         "showlegend": false,
         "stackgroup": "1",
         "type": "scatter",
         "x": [
          1952,
          1957,
          1962,
          1967,
          1972,
          1977,
          1982,
          1987,
          1992,
          1997,
          2002,
          2007
         ],
         "xaxis": "x",
         "y": [
          44.869,
          47.181000000000004,
          49.325,
          52.468999999999994,
          55.233999999999995,
          57.702,
          59.62,
          63.04,
          65.742,
          68.042,
          69.45100000000001,
          70.964
         ],
         "yaxis": "y"
        },
        {
         "hovertemplate": "<b>%{hovertext}</b><br><br>continent=Asia<br>country=Iraq<br>year=%{x}<br>lifeExp=%{y}<extra></extra>",
         "hovertext": [
          "Iraq",
          "Iraq",
          "Iraq",
          "Iraq",
          "Iraq",
          "Iraq",
          "Iraq",
          "Iraq",
          "Iraq",
          "Iraq",
          "Iraq",
          "Iraq"
         ],
         "legendgroup": "Asia",
         "line": {
          "color": "#636efa"
         },
         "mode": "lines",
         "name": "Asia",
         "orientation": "v",
         "showlegend": false,
         "stackgroup": "1",
         "type": "scatter",
         "x": [
          1952,
          1957,
          1962,
          1967,
          1972,
          1977,
          1982,
          1987,
          1992,
          1997,
          2002,
          2007
         ],
         "xaxis": "x",
         "y": [
          45.32,
          48.437,
          51.457,
          54.458999999999996,
          56.95,
          60.413000000000004,
          62.038000000000004,
          65.044,
          59.461000000000006,
          58.81100000000001,
          57.04600000000001,
          59.545
         ],
         "yaxis": "y"
        },
        {
         "hovertemplate": "<b>%{hovertext}</b><br><br>continent=Asia<br>country=Israel<br>year=%{x}<br>lifeExp=%{y}<extra></extra>",
         "hovertext": [
          "Israel",
          "Israel",
          "Israel",
          "Israel",
          "Israel",
          "Israel",
          "Israel",
          "Israel",
          "Israel",
          "Israel",
          "Israel",
          "Israel"
         ],
         "legendgroup": "Asia",
         "line": {
          "color": "#636efa"
         },
         "mode": "lines",
         "name": "Asia",
         "orientation": "v",
         "showlegend": false,
         "stackgroup": "1",
         "type": "scatter",
         "x": [
          1952,
          1957,
          1962,
          1967,
          1972,
          1977,
          1982,
          1987,
          1992,
          1997,
          2002,
          2007
         ],
         "xaxis": "x",
         "y": [
          65.39,
          67.84,
          69.39,
          70.75,
          71.63,
          73.06,
          74.45,
          75.6,
          76.93,
          78.26899999999999,
          79.696,
          80.745
         ],
         "yaxis": "y"
        },
        {
         "hovertemplate": "<b>%{hovertext}</b><br><br>continent=Asia<br>country=Japan<br>year=%{x}<br>lifeExp=%{y}<extra></extra>",
         "hovertext": [
          "Japan",
          "Japan",
          "Japan",
          "Japan",
          "Japan",
          "Japan",
          "Japan",
          "Japan",
          "Japan",
          "Japan",
          "Japan",
          "Japan"
         ],
         "legendgroup": "Asia",
         "line": {
          "color": "#636efa"
         },
         "mode": "lines",
         "name": "Asia",
         "orientation": "v",
         "showlegend": false,
         "stackgroup": "1",
         "type": "scatter",
         "x": [
          1952,
          1957,
          1962,
          1967,
          1972,
          1977,
          1982,
          1987,
          1992,
          1997,
          2002,
          2007
         ],
         "xaxis": "x",
         "y": [
          63.03,
          65.5,
          68.73,
          71.43,
          73.42,
          75.38,
          77.11,
          78.67,
          79.36,
          80.69,
          82,
          82.603
         ],
         "yaxis": "y"
        },
        {
         "hovertemplate": "<b>%{hovertext}</b><br><br>continent=Asia<br>country=Jordan<br>year=%{x}<br>lifeExp=%{y}<extra></extra>",
         "hovertext": [
          "Jordan",
          "Jordan",
          "Jordan",
          "Jordan",
          "Jordan",
          "Jordan",
          "Jordan",
          "Jordan",
          "Jordan",
          "Jordan",
          "Jordan",
          "Jordan"
         ],
         "legendgroup": "Asia",
         "line": {
          "color": "#636efa"
         },
         "mode": "lines",
         "name": "Asia",
         "orientation": "v",
         "showlegend": false,
         "stackgroup": "1",
         "type": "scatter",
         "x": [
          1952,
          1957,
          1962,
          1967,
          1972,
          1977,
          1982,
          1987,
          1992,
          1997,
          2002,
          2007
         ],
         "xaxis": "x",
         "y": [
          43.158,
          45.669,
          48.126000000000005,
          51.629,
          56.528,
          61.13399999999999,
          63.739,
          65.869,
          68.015,
          69.77199999999999,
          71.263,
          72.535
         ],
         "yaxis": "y"
        },
        {
         "hovertemplate": "<b>%{hovertext}</b><br><br>continent=Asia<br>country=Korea, Dem. Rep.<br>year=%{x}<br>lifeExp=%{y}<extra></extra>",
         "hovertext": [
          "Korea, Dem. Rep.",
          "Korea, Dem. Rep.",
          "Korea, Dem. Rep.",
          "Korea, Dem. Rep.",
          "Korea, Dem. Rep.",
          "Korea, Dem. Rep.",
          "Korea, Dem. Rep.",
          "Korea, Dem. Rep.",
          "Korea, Dem. Rep.",
          "Korea, Dem. Rep.",
          "Korea, Dem. Rep.",
          "Korea, Dem. Rep."
         ],
         "legendgroup": "Asia",
         "line": {
          "color": "#636efa"
         },
         "mode": "lines",
         "name": "Asia",
         "orientation": "v",
         "showlegend": false,
         "stackgroup": "1",
         "type": "scatter",
         "x": [
          1952,
          1957,
          1962,
          1967,
          1972,
          1977,
          1982,
          1987,
          1992,
          1997,
          2002,
          2007
         ],
         "xaxis": "x",
         "y": [
          50.056000000000004,
          54.081,
          56.656000000000006,
          59.942,
          63.983000000000004,
          67.15899999999999,
          69.1,
          70.64699999999999,
          69.97800000000001,
          67.727,
          66.66199999999999,
          67.297
         ],
         "yaxis": "y"
        },
        {
         "hovertemplate": "<b>%{hovertext}</b><br><br>continent=Asia<br>country=Korea, Rep.<br>year=%{x}<br>lifeExp=%{y}<extra></extra>",
         "hovertext": [
          "Korea, Rep.",
          "Korea, Rep.",
          "Korea, Rep.",
          "Korea, Rep.",
          "Korea, Rep.",
          "Korea, Rep.",
          "Korea, Rep.",
          "Korea, Rep.",
          "Korea, Rep.",
          "Korea, Rep.",
          "Korea, Rep.",
          "Korea, Rep."
         ],
         "legendgroup": "Asia",
         "line": {
          "color": "#636efa"
         },
         "mode": "lines",
         "name": "Asia",
         "orientation": "v",
         "showlegend": false,
         "stackgroup": "1",
         "type": "scatter",
         "x": [
          1952,
          1957,
          1962,
          1967,
          1972,
          1977,
          1982,
          1987,
          1992,
          1997,
          2002,
          2007
         ],
         "xaxis": "x",
         "y": [
          47.453,
          52.681000000000004,
          55.292,
          57.716,
          62.611999999999995,
          64.766,
          67.123,
          69.81,
          72.244,
          74.64699999999999,
          77.045,
          78.623
         ],
         "yaxis": "y"
        },
        {
         "hovertemplate": "<b>%{hovertext}</b><br><br>continent=Asia<br>country=Kuwait<br>year=%{x}<br>lifeExp=%{y}<extra></extra>",
         "hovertext": [
          "Kuwait",
          "Kuwait",
          "Kuwait",
          "Kuwait",
          "Kuwait",
          "Kuwait",
          "Kuwait",
          "Kuwait",
          "Kuwait",
          "Kuwait",
          "Kuwait",
          "Kuwait"
         ],
         "legendgroup": "Asia",
         "line": {
          "color": "#636efa"
         },
         "mode": "lines",
         "name": "Asia",
         "orientation": "v",
         "showlegend": false,
         "stackgroup": "1",
         "type": "scatter",
         "x": [
          1952,
          1957,
          1962,
          1967,
          1972,
          1977,
          1982,
          1987,
          1992,
          1997,
          2002,
          2007
         ],
         "xaxis": "x",
         "y": [
          55.565,
          58.033,
          60.47,
          64.624,
          67.712,
          69.343,
          71.309,
          74.17399999999999,
          75.19,
          76.156,
          76.904,
          77.58800000000001
         ],
         "yaxis": "y"
        },
        {
         "hovertemplate": "<b>%{hovertext}</b><br><br>continent=Asia<br>country=Lebanon<br>year=%{x}<br>lifeExp=%{y}<extra></extra>",
         "hovertext": [
          "Lebanon",
          "Lebanon",
          "Lebanon",
          "Lebanon",
          "Lebanon",
          "Lebanon",
          "Lebanon",
          "Lebanon",
          "Lebanon",
          "Lebanon",
          "Lebanon",
          "Lebanon"
         ],
         "legendgroup": "Asia",
         "line": {
          "color": "#636efa"
         },
         "mode": "lines",
         "name": "Asia",
         "orientation": "v",
         "showlegend": false,
         "stackgroup": "1",
         "type": "scatter",
         "x": [
          1952,
          1957,
          1962,
          1967,
          1972,
          1977,
          1982,
          1987,
          1992,
          1997,
          2002,
          2007
         ],
         "xaxis": "x",
         "y": [
          55.928000000000004,
          59.489,
          62.093999999999994,
          63.87,
          65.421,
          66.09899999999999,
          66.983,
          67.926,
          69.292,
          70.265,
          71.028,
          71.993
         ],
         "yaxis": "y"
        },
        {
         "hovertemplate": "<b>%{hovertext}</b><br><br>continent=Asia<br>country=Malaysia<br>year=%{x}<br>lifeExp=%{y}<extra></extra>",
         "hovertext": [
          "Malaysia",
          "Malaysia",
          "Malaysia",
          "Malaysia",
          "Malaysia",
          "Malaysia",
          "Malaysia",
          "Malaysia",
          "Malaysia",
          "Malaysia",
          "Malaysia",
          "Malaysia"
         ],
         "legendgroup": "Asia",
         "line": {
          "color": "#636efa"
         },
         "mode": "lines",
         "name": "Asia",
         "orientation": "v",
         "showlegend": false,
         "stackgroup": "1",
         "type": "scatter",
         "x": [
          1952,
          1957,
          1962,
          1967,
          1972,
          1977,
          1982,
          1987,
          1992,
          1997,
          2002,
          2007
         ],
         "xaxis": "x",
         "y": [
          48.463,
          52.102,
          55.736999999999995,
          59.371,
          63.01,
          65.256,
          68,
          69.5,
          70.693,
          71.938,
          73.044,
          74.241
         ],
         "yaxis": "y"
        },
        {
         "hovertemplate": "<b>%{hovertext}</b><br><br>continent=Asia<br>country=Mongolia<br>year=%{x}<br>lifeExp=%{y}<extra></extra>",
         "hovertext": [
          "Mongolia",
          "Mongolia",
          "Mongolia",
          "Mongolia",
          "Mongolia",
          "Mongolia",
          "Mongolia",
          "Mongolia",
          "Mongolia",
          "Mongolia",
          "Mongolia",
          "Mongolia"
         ],
         "legendgroup": "Asia",
         "line": {
          "color": "#636efa"
         },
         "mode": "lines",
         "name": "Asia",
         "orientation": "v",
         "showlegend": false,
         "stackgroup": "1",
         "type": "scatter",
         "x": [
          1952,
          1957,
          1962,
          1967,
          1972,
          1977,
          1982,
          1987,
          1992,
          1997,
          2002,
          2007
         ],
         "xaxis": "x",
         "y": [
          42.244,
          45.248000000000005,
          48.251000000000005,
          51.253,
          53.754,
          55.49100000000001,
          57.489,
          60.222,
          61.271,
          63.625,
          65.033,
          66.803
         ],
         "yaxis": "y"
        },
        {
         "hovertemplate": "<b>%{hovertext}</b><br><br>continent=Asia<br>country=Myanmar<br>year=%{x}<br>lifeExp=%{y}<extra></extra>",
         "hovertext": [
          "Myanmar",
          "Myanmar",
          "Myanmar",
          "Myanmar",
          "Myanmar",
          "Myanmar",
          "Myanmar",
          "Myanmar",
          "Myanmar",
          "Myanmar",
          "Myanmar",
          "Myanmar"
         ],
         "legendgroup": "Asia",
         "line": {
          "color": "#636efa"
         },
         "mode": "lines",
         "name": "Asia",
         "orientation": "v",
         "showlegend": false,
         "stackgroup": "1",
         "type": "scatter",
         "x": [
          1952,
          1957,
          1962,
          1967,
          1972,
          1977,
          1982,
          1987,
          1992,
          1997,
          2002,
          2007
         ],
         "xaxis": "x",
         "y": [
          36.319,
          41.905,
          45.108000000000004,
          49.379,
          53.07,
          56.059,
          58.056000000000004,
          58.339,
          59.32,
          60.328,
          59.908,
          62.068999999999996
         ],
         "yaxis": "y"
        },
        {
         "hovertemplate": "<b>%{hovertext}</b><br><br>continent=Asia<br>country=Nepal<br>year=%{x}<br>lifeExp=%{y}<extra></extra>",
         "hovertext": [
          "Nepal",
          "Nepal",
          "Nepal",
          "Nepal",
          "Nepal",
          "Nepal",
          "Nepal",
          "Nepal",
          "Nepal",
          "Nepal",
          "Nepal",
          "Nepal"
         ],
         "legendgroup": "Asia",
         "line": {
          "color": "#636efa"
         },
         "mode": "lines",
         "name": "Asia",
         "orientation": "v",
         "showlegend": false,
         "stackgroup": "1",
         "type": "scatter",
         "x": [
          1952,
          1957,
          1962,
          1967,
          1972,
          1977,
          1982,
          1987,
          1992,
          1997,
          2002,
          2007
         ],
         "xaxis": "x",
         "y": [
          36.157,
          37.686,
          39.393,
          41.472,
          43.971000000000004,
          46.748000000000005,
          49.593999999999994,
          52.537,
          55.727,
          59.426,
          61.34,
          63.785
         ],
         "yaxis": "y"
        },
        {
         "hovertemplate": "<b>%{hovertext}</b><br><br>continent=Asia<br>country=Oman<br>year=%{x}<br>lifeExp=%{y}<extra></extra>",
         "hovertext": [
          "Oman",
          "Oman",
          "Oman",
          "Oman",
          "Oman",
          "Oman",
          "Oman",
          "Oman",
          "Oman",
          "Oman",
          "Oman",
          "Oman"
         ],
         "legendgroup": "Asia",
         "line": {
          "color": "#636efa"
         },
         "mode": "lines",
         "name": "Asia",
         "orientation": "v",
         "showlegend": false,
         "stackgroup": "1",
         "type": "scatter",
         "x": [
          1952,
          1957,
          1962,
          1967,
          1972,
          1977,
          1982,
          1987,
          1992,
          1997,
          2002,
          2007
         ],
         "xaxis": "x",
         "y": [
          37.578,
          40.08,
          43.165,
          46.988,
          52.143,
          57.367,
          62.728,
          67.734,
          71.197,
          72.499,
          74.193,
          75.64
         ],
         "yaxis": "y"
        },
        {
         "hovertemplate": "<b>%{hovertext}</b><br><br>continent=Asia<br>country=Pakistan<br>year=%{x}<br>lifeExp=%{y}<extra></extra>",
         "hovertext": [
          "Pakistan",
          "Pakistan",
          "Pakistan",
          "Pakistan",
          "Pakistan",
          "Pakistan",
          "Pakistan",
          "Pakistan",
          "Pakistan",
          "Pakistan",
          "Pakistan",
          "Pakistan"
         ],
         "legendgroup": "Asia",
         "line": {
          "color": "#636efa"
         },
         "mode": "lines",
         "name": "Asia",
         "orientation": "v",
         "showlegend": false,
         "stackgroup": "1",
         "type": "scatter",
         "x": [
          1952,
          1957,
          1962,
          1967,
          1972,
          1977,
          1982,
          1987,
          1992,
          1997,
          2002,
          2007
         ],
         "xaxis": "x",
         "y": [
          43.43600000000001,
          45.556999999999995,
          47.67,
          49.8,
          51.928999999999995,
          54.043,
          56.158,
          58.245,
          60.838,
          61.818000000000005,
          63.61,
          65.483
         ],
         "yaxis": "y"
        },
        {
         "hovertemplate": "<b>%{hovertext}</b><br><br>continent=Asia<br>country=Philippines<br>year=%{x}<br>lifeExp=%{y}<extra></extra>",
         "hovertext": [
          "Philippines",
          "Philippines",
          "Philippines",
          "Philippines",
          "Philippines",
          "Philippines",
          "Philippines",
          "Philippines",
          "Philippines",
          "Philippines",
          "Philippines",
          "Philippines"
         ],
         "legendgroup": "Asia",
         "line": {
          "color": "#636efa"
         },
         "mode": "lines",
         "name": "Asia",
         "orientation": "v",
         "showlegend": false,
         "stackgroup": "1",
         "type": "scatter",
         "x": [
          1952,
          1957,
          1962,
          1967,
          1972,
          1977,
          1982,
          1987,
          1992,
          1997,
          2002,
          2007
         ],
         "xaxis": "x",
         "y": [
          47.751999999999995,
          51.333999999999996,
          54.757,
          56.393,
          58.065,
          60.06,
          62.082,
          64.15100000000001,
          66.458,
          68.564,
          70.303,
          71.688
         ],
         "yaxis": "y"
        },
        {
         "hovertemplate": "<b>%{hovertext}</b><br><br>continent=Asia<br>country=Saudi Arabia<br>year=%{x}<br>lifeExp=%{y}<extra></extra>",
         "hovertext": [
          "Saudi Arabia",
          "Saudi Arabia",
          "Saudi Arabia",
          "Saudi Arabia",
          "Saudi Arabia",
          "Saudi Arabia",
          "Saudi Arabia",
          "Saudi Arabia",
          "Saudi Arabia",
          "Saudi Arabia",
          "Saudi Arabia",
          "Saudi Arabia"
         ],
         "legendgroup": "Asia",
         "line": {
          "color": "#636efa"
         },
         "mode": "lines",
         "name": "Asia",
         "orientation": "v",
         "showlegend": false,
         "stackgroup": "1",
         "type": "scatter",
         "x": [
          1952,
          1957,
          1962,
          1967,
          1972,
          1977,
          1982,
          1987,
          1992,
          1997,
          2002,
          2007
         ],
         "xaxis": "x",
         "y": [
          39.875,
          42.868,
          45.913999999999994,
          49.901,
          53.886,
          58.69,
          63.012,
          66.295,
          68.768,
          70.533,
          71.626,
          72.777
         ],
         "yaxis": "y"
        },
        {
         "hovertemplate": "<b>%{hovertext}</b><br><br>continent=Asia<br>country=Singapore<br>year=%{x}<br>lifeExp=%{y}<extra></extra>",
         "hovertext": [
          "Singapore",
          "Singapore",
          "Singapore",
          "Singapore",
          "Singapore",
          "Singapore",
          "Singapore",
          "Singapore",
          "Singapore",
          "Singapore",
          "Singapore",
          "Singapore"
         ],
         "legendgroup": "Asia",
         "line": {
          "color": "#636efa"
         },
         "mode": "lines",
         "name": "Asia",
         "orientation": "v",
         "showlegend": false,
         "stackgroup": "1",
         "type": "scatter",
         "x": [
          1952,
          1957,
          1962,
          1967,
          1972,
          1977,
          1982,
          1987,
          1992,
          1997,
          2002,
          2007
         ],
         "xaxis": "x",
         "y": [
          60.396,
          63.178999999999995,
          65.798,
          67.946,
          69.521,
          70.795,
          71.76,
          73.56,
          75.788,
          77.158,
          78.77,
          79.972
         ],
         "yaxis": "y"
        },
        {
         "hovertemplate": "<b>%{hovertext}</b><br><br>continent=Asia<br>country=Sri Lanka<br>year=%{x}<br>lifeExp=%{y}<extra></extra>",
         "hovertext": [
          "Sri Lanka",
          "Sri Lanka",
          "Sri Lanka",
          "Sri Lanka",
          "Sri Lanka",
          "Sri Lanka",
          "Sri Lanka",
          "Sri Lanka",
          "Sri Lanka",
          "Sri Lanka",
          "Sri Lanka",
          "Sri Lanka"
         ],
         "legendgroup": "Asia",
         "line": {
          "color": "#636efa"
         },
         "mode": "lines",
         "name": "Asia",
         "orientation": "v",
         "showlegend": false,
         "stackgroup": "1",
         "type": "scatter",
         "x": [
          1952,
          1957,
          1962,
          1967,
          1972,
          1977,
          1982,
          1987,
          1992,
          1997,
          2002,
          2007
         ],
         "xaxis": "x",
         "y": [
          57.593,
          61.456,
          62.192,
          64.266,
          65.042,
          65.949,
          68.757,
          69.01100000000001,
          70.37899999999999,
          70.457,
          70.815,
          72.396
         ],
         "yaxis": "y"
        },
        {
         "hovertemplate": "<b>%{hovertext}</b><br><br>continent=Asia<br>country=Syria<br>year=%{x}<br>lifeExp=%{y}<extra></extra>",
         "hovertext": [
          "Syria",
          "Syria",
          "Syria",
          "Syria",
          "Syria",
          "Syria",
          "Syria",
          "Syria",
          "Syria",
          "Syria",
          "Syria",
          "Syria"
         ],
         "legendgroup": "Asia",
         "line": {
          "color": "#636efa"
         },
         "mode": "lines",
         "name": "Asia",
         "orientation": "v",
         "showlegend": false,
         "stackgroup": "1",
         "type": "scatter",
         "x": [
          1952,
          1957,
          1962,
          1967,
          1972,
          1977,
          1982,
          1987,
          1992,
          1997,
          2002,
          2007
         ],
         "xaxis": "x",
         "y": [
          45.883,
          48.284,
          50.305,
          53.655,
          57.29600000000001,
          61.195,
          64.59,
          66.97399999999999,
          69.249,
          71.527,
          73.053,
          74.143
         ],
         "yaxis": "y"
        },
        {
         "hovertemplate": "<b>%{hovertext}</b><br><br>continent=Asia<br>country=Taiwan<br>year=%{x}<br>lifeExp=%{y}<extra></extra>",
         "hovertext": [
          "Taiwan",
          "Taiwan",
          "Taiwan",
          "Taiwan",
          "Taiwan",
          "Taiwan",
          "Taiwan",
          "Taiwan",
          "Taiwan",
          "Taiwan",
          "Taiwan",
          "Taiwan"
         ],
         "legendgroup": "Asia",
         "line": {
          "color": "#636efa"
         },
         "mode": "lines",
         "name": "Asia",
         "orientation": "v",
         "showlegend": false,
         "stackgroup": "1",
         "type": "scatter",
         "x": [
          1952,
          1957,
          1962,
          1967,
          1972,
          1977,
          1982,
          1987,
          1992,
          1997,
          2002,
          2007
         ],
         "xaxis": "x",
         "y": [
          58.5,
          62.4,
          65.2,
          67.5,
          69.39,
          70.59,
          72.16,
          73.4,
          74.26,
          75.25,
          76.99,
          78.4
         ],
         "yaxis": "y"
        },
        {
         "hovertemplate": "<b>%{hovertext}</b><br><br>continent=Asia<br>country=Thailand<br>year=%{x}<br>lifeExp=%{y}<extra></extra>",
         "hovertext": [
          "Thailand",
          "Thailand",
          "Thailand",
          "Thailand",
          "Thailand",
          "Thailand",
          "Thailand",
          "Thailand",
          "Thailand",
          "Thailand",
          "Thailand",
          "Thailand"
         ],
         "legendgroup": "Asia",
         "line": {
          "color": "#636efa"
         },
         "mode": "lines",
         "name": "Asia",
         "orientation": "v",
         "showlegend": false,
         "stackgroup": "1",
         "type": "scatter",
         "x": [
          1952,
          1957,
          1962,
          1967,
          1972,
          1977,
          1982,
          1987,
          1992,
          1997,
          2002,
          2007
         ],
         "xaxis": "x",
         "y": [
          50.848,
          53.63,
          56.06100000000001,
          58.285,
          60.405,
          62.494,
          64.597,
          66.084,
          67.298,
          67.521,
          68.564,
          70.616
         ],
         "yaxis": "y"
        },
        {
         "hovertemplate": "<b>%{hovertext}</b><br><br>continent=Asia<br>country=Vietnam<br>year=%{x}<br>lifeExp=%{y}<extra></extra>",
         "hovertext": [
          "Vietnam",
          "Vietnam",
          "Vietnam",
          "Vietnam",
          "Vietnam",
          "Vietnam",
          "Vietnam",
          "Vietnam",
          "Vietnam",
          "Vietnam",
          "Vietnam",
          "Vietnam"
         ],
         "legendgroup": "Asia",
         "line": {
          "color": "#636efa"
         },
         "mode": "lines",
         "name": "Asia",
         "orientation": "v",
         "showlegend": false,
         "stackgroup": "1",
         "type": "scatter",
         "x": [
          1952,
          1957,
          1962,
          1967,
          1972,
          1977,
          1982,
          1987,
          1992,
          1997,
          2002,
          2007
         ],
         "xaxis": "x",
         "y": [
          40.412,
          42.887,
          45.363,
          47.838,
          50.254,
          55.763999999999996,
          58.816,
          62.82,
          67.66199999999999,
          70.672,
          73.017,
          74.249
         ],
         "yaxis": "y"
        },
        {
         "hovertemplate": "<b>%{hovertext}</b><br><br>continent=Asia<br>country=West Bank and Gaza<br>year=%{x}<br>lifeExp=%{y}<extra></extra>",
         "hovertext": [
          "West Bank and Gaza",
          "West Bank and Gaza",
          "West Bank and Gaza",
          "West Bank and Gaza",
          "West Bank and Gaza",
          "West Bank and Gaza",
          "West Bank and Gaza",
          "West Bank and Gaza",
          "West Bank and Gaza",
          "West Bank and Gaza",
          "West Bank and Gaza",
          "West Bank and Gaza"
         ],
         "legendgroup": "Asia",
         "line": {
          "color": "#636efa"
         },
         "mode": "lines",
         "name": "Asia",
         "orientation": "v",
         "showlegend": false,
         "stackgroup": "1",
         "type": "scatter",
         "x": [
          1952,
          1957,
          1962,
          1967,
          1972,
          1977,
          1982,
          1987,
          1992,
          1997,
          2002,
          2007
         ],
         "xaxis": "x",
         "y": [
          43.16,
          45.67100000000001,
          48.126999999999995,
          51.631,
          56.532,
          60.765,
          64.406,
          67.046,
          69.718,
          71.096,
          72.37,
          73.422
         ],
         "yaxis": "y"
        },
        {
         "hovertemplate": "<b>%{hovertext}</b><br><br>continent=Asia<br>country=Yemen, Rep.<br>year=%{x}<br>lifeExp=%{y}<extra></extra>",
         "hovertext": [
          "Yemen, Rep.",
          "Yemen, Rep.",
          "Yemen, Rep.",
          "Yemen, Rep.",
          "Yemen, Rep.",
          "Yemen, Rep.",
          "Yemen, Rep.",
          "Yemen, Rep.",
          "Yemen, Rep.",
          "Yemen, Rep.",
          "Yemen, Rep.",
          "Yemen, Rep."
         ],
         "legendgroup": "Asia",
         "line": {
          "color": "#636efa"
         },
         "mode": "lines",
         "name": "Asia",
         "orientation": "v",
         "showlegend": false,
         "stackgroup": "1",
         "type": "scatter",
         "x": [
          1952,
          1957,
          1962,
          1967,
          1972,
          1977,
          1982,
          1987,
          1992,
          1997,
          2002,
          2007
         ],
         "xaxis": "x",
         "y": [
          32.548,
          33.97,
          35.18,
          36.984,
          39.848,
          44.175,
          49.113,
          52.922,
          55.599,
          58.02,
          60.308,
          62.698
         ],
         "yaxis": "y"
        },
        {
         "hovertemplate": "<b>%{hovertext}</b><br><br>continent=Europe<br>country=Albania<br>year=%{x}<br>lifeExp=%{y}<extra></extra>",
         "hovertext": [
          "Albania",
          "Albania",
          "Albania",
          "Albania",
          "Albania",
          "Albania",
          "Albania",
          "Albania",
          "Albania",
          "Albania",
          "Albania",
          "Albania"
         ],
         "legendgroup": "Europe",
         "line": {
          "color": "#EF553B"
         },
         "mode": "lines",
         "name": "Europe",
         "orientation": "v",
         "showlegend": true,
         "stackgroup": "1",
         "type": "scatter",
         "x": [
          1952,
          1957,
          1962,
          1967,
          1972,
          1977,
          1982,
          1987,
          1992,
          1997,
          2002,
          2007
         ],
         "xaxis": "x",
         "y": [
          55.23,
          59.28,
          64.82,
          66.22,
          67.69,
          68.93,
          70.42,
          72,
          71.581,
          72.95,
          75.65100000000001,
          76.423
         ],
         "yaxis": "y"
        },
        {
         "hovertemplate": "<b>%{hovertext}</b><br><br>continent=Europe<br>country=Austria<br>year=%{x}<br>lifeExp=%{y}<extra></extra>",
         "hovertext": [
          "Austria",
          "Austria",
          "Austria",
          "Austria",
          "Austria",
          "Austria",
          "Austria",
          "Austria",
          "Austria",
          "Austria",
          "Austria",
          "Austria"
         ],
         "legendgroup": "Europe",
         "line": {
          "color": "#EF553B"
         },
         "mode": "lines",
         "name": "Europe",
         "orientation": "v",
         "showlegend": false,
         "stackgroup": "1",
         "type": "scatter",
         "x": [
          1952,
          1957,
          1962,
          1967,
          1972,
          1977,
          1982,
          1987,
          1992,
          1997,
          2002,
          2007
         ],
         "xaxis": "x",
         "y": [
          66.8,
          67.48,
          69.54,
          70.14,
          70.63,
          72.17,
          73.18,
          74.94,
          76.04,
          77.51,
          78.98,
          79.829
         ],
         "yaxis": "y"
        },
        {
         "hovertemplate": "<b>%{hovertext}</b><br><br>continent=Europe<br>country=Belgium<br>year=%{x}<br>lifeExp=%{y}<extra></extra>",
         "hovertext": [
          "Belgium",
          "Belgium",
          "Belgium",
          "Belgium",
          "Belgium",
          "Belgium",
          "Belgium",
          "Belgium",
          "Belgium",
          "Belgium",
          "Belgium",
          "Belgium"
         ],
         "legendgroup": "Europe",
         "line": {
          "color": "#EF553B"
         },
         "mode": "lines",
         "name": "Europe",
         "orientation": "v",
         "showlegend": false,
         "stackgroup": "1",
         "type": "scatter",
         "x": [
          1952,
          1957,
          1962,
          1967,
          1972,
          1977,
          1982,
          1987,
          1992,
          1997,
          2002,
          2007
         ],
         "xaxis": "x",
         "y": [
          68,
          69.24,
          70.25,
          70.94,
          71.44,
          72.8,
          73.93,
          75.35,
          76.46,
          77.53,
          78.32,
          79.441
         ],
         "yaxis": "y"
        },
        {
         "hovertemplate": "<b>%{hovertext}</b><br><br>continent=Europe<br>country=Bosnia and Herzegovina<br>year=%{x}<br>lifeExp=%{y}<extra></extra>",
         "hovertext": [
          "Bosnia and Herzegovina",
          "Bosnia and Herzegovina",
          "Bosnia and Herzegovina",
          "Bosnia and Herzegovina",
          "Bosnia and Herzegovina",
          "Bosnia and Herzegovina",
          "Bosnia and Herzegovina",
          "Bosnia and Herzegovina",
          "Bosnia and Herzegovina",
          "Bosnia and Herzegovina",
          "Bosnia and Herzegovina",
          "Bosnia and Herzegovina"
         ],
         "legendgroup": "Europe",
         "line": {
          "color": "#EF553B"
         },
         "mode": "lines",
         "name": "Europe",
         "orientation": "v",
         "showlegend": false,
         "stackgroup": "1",
         "type": "scatter",
         "x": [
          1952,
          1957,
          1962,
          1967,
          1972,
          1977,
          1982,
          1987,
          1992,
          1997,
          2002,
          2007
         ],
         "xaxis": "x",
         "y": [
          53.82,
          58.45,
          61.93,
          64.79,
          67.45,
          69.86,
          70.69,
          71.14,
          72.178,
          73.244,
          74.09,
          74.852
         ],
         "yaxis": "y"
        },
        {
         "hovertemplate": "<b>%{hovertext}</b><br><br>continent=Europe<br>country=Bulgaria<br>year=%{x}<br>lifeExp=%{y}<extra></extra>",
         "hovertext": [
          "Bulgaria",
          "Bulgaria",
          "Bulgaria",
          "Bulgaria",
          "Bulgaria",
          "Bulgaria",
          "Bulgaria",
          "Bulgaria",
          "Bulgaria",
          "Bulgaria",
          "Bulgaria",
          "Bulgaria"
         ],
         "legendgroup": "Europe",
         "line": {
          "color": "#EF553B"
         },
         "mode": "lines",
         "name": "Europe",
         "orientation": "v",
         "showlegend": false,
         "stackgroup": "1",
         "type": "scatter",
         "x": [
          1952,
          1957,
          1962,
          1967,
          1972,
          1977,
          1982,
          1987,
          1992,
          1997,
          2002,
          2007
         ],
         "xaxis": "x",
         "y": [
          59.6,
          66.61,
          69.51,
          70.42,
          70.9,
          70.81,
          71.08,
          71.34,
          71.19,
          70.32,
          72.14,
          73.005
         ],
         "yaxis": "y"
        },
        {
         "hovertemplate": "<b>%{hovertext}</b><br><br>continent=Europe<br>country=Croatia<br>year=%{x}<br>lifeExp=%{y}<extra></extra>",
         "hovertext": [
          "Croatia",
          "Croatia",
          "Croatia",
          "Croatia",
          "Croatia",
          "Croatia",
          "Croatia",
          "Croatia",
          "Croatia",
          "Croatia",
          "Croatia",
          "Croatia"
         ],
         "legendgroup": "Europe",
         "line": {
          "color": "#EF553B"
         },
         "mode": "lines",
         "name": "Europe",
         "orientation": "v",
         "showlegend": false,
         "stackgroup": "1",
         "type": "scatter",
         "x": [
          1952,
          1957,
          1962,
          1967,
          1972,
          1977,
          1982,
          1987,
          1992,
          1997,
          2002,
          2007
         ],
         "xaxis": "x",
         "y": [
          61.21,
          64.77,
          67.13,
          68.5,
          69.61,
          70.64,
          70.46,
          71.52,
          72.527,
          73.68,
          74.876,
          75.748
         ],
         "yaxis": "y"
        },
        {
         "hovertemplate": "<b>%{hovertext}</b><br><br>continent=Europe<br>country=Czech Republic<br>year=%{x}<br>lifeExp=%{y}<extra></extra>",
         "hovertext": [
          "Czech Republic",
          "Czech Republic",
          "Czech Republic",
          "Czech Republic",
          "Czech Republic",
          "Czech Republic",
          "Czech Republic",
          "Czech Republic",
          "Czech Republic",
          "Czech Republic",
          "Czech Republic",
          "Czech Republic"
         ],
         "legendgroup": "Europe",
         "line": {
          "color": "#EF553B"
         },
         "mode": "lines",
         "name": "Europe",
         "orientation": "v",
         "showlegend": false,
         "stackgroup": "1",
         "type": "scatter",
         "x": [
          1952,
          1957,
          1962,
          1967,
          1972,
          1977,
          1982,
          1987,
          1992,
          1997,
          2002,
          2007
         ],
         "xaxis": "x",
         "y": [
          66.87,
          69.03,
          69.9,
          70.38,
          70.29,
          70.71,
          70.96,
          71.58,
          72.4,
          74.01,
          75.51,
          76.486
         ],
         "yaxis": "y"
        },
        {
         "hovertemplate": "<b>%{hovertext}</b><br><br>continent=Europe<br>country=Denmark<br>year=%{x}<br>lifeExp=%{y}<extra></extra>",
         "hovertext": [
          "Denmark",
          "Denmark",
          "Denmark",
          "Denmark",
          "Denmark",
          "Denmark",
          "Denmark",
          "Denmark",
          "Denmark",
          "Denmark",
          "Denmark",
          "Denmark"
         ],
         "legendgroup": "Europe",
         "line": {
          "color": "#EF553B"
         },
         "mode": "lines",
         "name": "Europe",
         "orientation": "v",
         "showlegend": false,
         "stackgroup": "1",
         "type": "scatter",
         "x": [
          1952,
          1957,
          1962,
          1967,
          1972,
          1977,
          1982,
          1987,
          1992,
          1997,
          2002,
          2007
         ],
         "xaxis": "x",
         "y": [
          70.78,
          71.81,
          72.35,
          72.96,
          73.47,
          74.69,
          74.63,
          74.8,
          75.33,
          76.11,
          77.18,
          78.332
         ],
         "yaxis": "y"
        },
        {
         "hovertemplate": "<b>%{hovertext}</b><br><br>continent=Europe<br>country=Finland<br>year=%{x}<br>lifeExp=%{y}<extra></extra>",
         "hovertext": [
          "Finland",
          "Finland",
          "Finland",
          "Finland",
          "Finland",
          "Finland",
          "Finland",
          "Finland",
          "Finland",
          "Finland",
          "Finland",
          "Finland"
         ],
         "legendgroup": "Europe",
         "line": {
          "color": "#EF553B"
         },
         "mode": "lines",
         "name": "Europe",
         "orientation": "v",
         "showlegend": false,
         "stackgroup": "1",
         "type": "scatter",
         "x": [
          1952,
          1957,
          1962,
          1967,
          1972,
          1977,
          1982,
          1987,
          1992,
          1997,
          2002,
          2007
         ],
         "xaxis": "x",
         "y": [
          66.55,
          67.49,
          68.75,
          69.83,
          70.87,
          72.52,
          74.55,
          74.83,
          75.7,
          77.13,
          78.37,
          79.313
         ],
         "yaxis": "y"
        },
        {
         "hovertemplate": "<b>%{hovertext}</b><br><br>continent=Europe<br>country=France<br>year=%{x}<br>lifeExp=%{y}<extra></extra>",
         "hovertext": [
          "France",
          "France",
          "France",
          "France",
          "France",
          "France",
          "France",
          "France",
          "France",
          "France",
          "France",
          "France"
         ],
         "legendgroup": "Europe",
         "line": {
          "color": "#EF553B"
         },
         "mode": "lines",
         "name": "Europe",
         "orientation": "v",
         "showlegend": false,
         "stackgroup": "1",
         "type": "scatter",
         "x": [
          1952,
          1957,
          1962,
          1967,
          1972,
          1977,
          1982,
          1987,
          1992,
          1997,
          2002,
          2007
         ],
         "xaxis": "x",
         "y": [
          67.41,
          68.93,
          70.51,
          71.55,
          72.38,
          73.83,
          74.89,
          76.34,
          77.46,
          78.64,
          79.59,
          80.657
         ],
         "yaxis": "y"
        },
        {
         "hovertemplate": "<b>%{hovertext}</b><br><br>continent=Europe<br>country=Germany<br>year=%{x}<br>lifeExp=%{y}<extra></extra>",
         "hovertext": [
          "Germany",
          "Germany",
          "Germany",
          "Germany",
          "Germany",
          "Germany",
          "Germany",
          "Germany",
          "Germany",
          "Germany",
          "Germany",
          "Germany"
         ],
         "legendgroup": "Europe",
         "line": {
          "color": "#EF553B"
         },
         "mode": "lines",
         "name": "Europe",
         "orientation": "v",
         "showlegend": false,
         "stackgroup": "1",
         "type": "scatter",
         "x": [
          1952,
          1957,
          1962,
          1967,
          1972,
          1977,
          1982,
          1987,
          1992,
          1997,
          2002,
          2007
         ],
         "xaxis": "x",
         "y": [
          67.5,
          69.1,
          70.3,
          70.8,
          71,
          72.5,
          73.8,
          74.847,
          76.07,
          77.34,
          78.67,
          79.406
         ],
         "yaxis": "y"
        },
        {
         "hovertemplate": "<b>%{hovertext}</b><br><br>continent=Europe<br>country=Greece<br>year=%{x}<br>lifeExp=%{y}<extra></extra>",
         "hovertext": [
          "Greece",
          "Greece",
          "Greece",
          "Greece",
          "Greece",
          "Greece",
          "Greece",
          "Greece",
          "Greece",
          "Greece",
          "Greece",
          "Greece"
         ],
         "legendgroup": "Europe",
         "line": {
          "color": "#EF553B"
         },
         "mode": "lines",
         "name": "Europe",
         "orientation": "v",
         "showlegend": false,
         "stackgroup": "1",
         "type": "scatter",
         "x": [
          1952,
          1957,
          1962,
          1967,
          1972,
          1977,
          1982,
          1987,
          1992,
          1997,
          2002,
          2007
         ],
         "xaxis": "x",
         "y": [
          65.86,
          67.86,
          69.51,
          71,
          72.34,
          73.68,
          75.24,
          76.67,
          77.03,
          77.869,
          78.256,
          79.483
         ],
         "yaxis": "y"
        },
        {
         "hovertemplate": "<b>%{hovertext}</b><br><br>continent=Europe<br>country=Hungary<br>year=%{x}<br>lifeExp=%{y}<extra></extra>",
         "hovertext": [
          "Hungary",
          "Hungary",
          "Hungary",
          "Hungary",
          "Hungary",
          "Hungary",
          "Hungary",
          "Hungary",
          "Hungary",
          "Hungary",
          "Hungary",
          "Hungary"
         ],
         "legendgroup": "Europe",
         "line": {
          "color": "#EF553B"
         },
         "mode": "lines",
         "name": "Europe",
         "orientation": "v",
         "showlegend": false,
         "stackgroup": "1",
         "type": "scatter",
         "x": [
          1952,
          1957,
          1962,
          1967,
          1972,
          1977,
          1982,
          1987,
          1992,
          1997,
          2002,
          2007
         ],
         "xaxis": "x",
         "y": [
          64.03,
          66.41,
          67.96,
          69.5,
          69.76,
          69.95,
          69.39,
          69.58,
          69.17,
          71.04,
          72.59,
          73.33800000000001
         ],
         "yaxis": "y"
        },
        {
         "hovertemplate": "<b>%{hovertext}</b><br><br>continent=Europe<br>country=Iceland<br>year=%{x}<br>lifeExp=%{y}<extra></extra>",
         "hovertext": [
          "Iceland",
          "Iceland",
          "Iceland",
          "Iceland",
          "Iceland",
          "Iceland",
          "Iceland",
          "Iceland",
          "Iceland",
          "Iceland",
          "Iceland",
          "Iceland"
         ],
         "legendgroup": "Europe",
         "line": {
          "color": "#EF553B"
         },
         "mode": "lines",
         "name": "Europe",
         "orientation": "v",
         "showlegend": false,
         "stackgroup": "1",
         "type": "scatter",
         "x": [
          1952,
          1957,
          1962,
          1967,
          1972,
          1977,
          1982,
          1987,
          1992,
          1997,
          2002,
          2007
         ],
         "xaxis": "x",
         "y": [
          72.49,
          73.47,
          73.68,
          73.73,
          74.46,
          76.11,
          76.99,
          77.23,
          78.77,
          78.95,
          80.5,
          81.757
         ],
         "yaxis": "y"
        },
        {
         "hovertemplate": "<b>%{hovertext}</b><br><br>continent=Europe<br>country=Ireland<br>year=%{x}<br>lifeExp=%{y}<extra></extra>",
         "hovertext": [
          "Ireland",
          "Ireland",
          "Ireland",
          "Ireland",
          "Ireland",
          "Ireland",
          "Ireland",
          "Ireland",
          "Ireland",
          "Ireland",
          "Ireland",
          "Ireland"
         ],
         "legendgroup": "Europe",
         "line": {
          "color": "#EF553B"
         },
         "mode": "lines",
         "name": "Europe",
         "orientation": "v",
         "showlegend": false,
         "stackgroup": "1",
         "type": "scatter",
         "x": [
          1952,
          1957,
          1962,
          1967,
          1972,
          1977,
          1982,
          1987,
          1992,
          1997,
          2002,
          2007
         ],
         "xaxis": "x",
         "y": [
          66.91,
          68.9,
          70.29,
          71.08,
          71.28,
          72.03,
          73.1,
          74.36,
          75.467,
          76.122,
          77.783,
          78.885
         ],
         "yaxis": "y"
        },
        {
         "hovertemplate": "<b>%{hovertext}</b><br><br>continent=Europe<br>country=Italy<br>year=%{x}<br>lifeExp=%{y}<extra></extra>",
         "hovertext": [
          "Italy",
          "Italy",
          "Italy",
          "Italy",
          "Italy",
          "Italy",
          "Italy",
          "Italy",
          "Italy",
          "Italy",
          "Italy",
          "Italy"
         ],
         "legendgroup": "Europe",
         "line": {
          "color": "#EF553B"
         },
         "mode": "lines",
         "name": "Europe",
         "orientation": "v",
         "showlegend": false,
         "stackgroup": "1",
         "type": "scatter",
         "x": [
          1952,
          1957,
          1962,
          1967,
          1972,
          1977,
          1982,
          1987,
          1992,
          1997,
          2002,
          2007
         ],
         "xaxis": "x",
         "y": [
          65.94,
          67.81,
          69.24,
          71.06,
          72.19,
          73.48,
          74.98,
          76.42,
          77.44,
          78.82,
          80.24,
          80.546
         ],
         "yaxis": "y"
        },
        {
         "hovertemplate": "<b>%{hovertext}</b><br><br>continent=Europe<br>country=Montenegro<br>year=%{x}<br>lifeExp=%{y}<extra></extra>",
         "hovertext": [
          "Montenegro",
          "Montenegro",
          "Montenegro",
          "Montenegro",
          "Montenegro",
          "Montenegro",
          "Montenegro",
          "Montenegro",
          "Montenegro",
          "Montenegro",
          "Montenegro",
          "Montenegro"
         ],
         "legendgroup": "Europe",
         "line": {
          "color": "#EF553B"
         },
         "mode": "lines",
         "name": "Europe",
         "orientation": "v",
         "showlegend": false,
         "stackgroup": "1",
         "type": "scatter",
         "x": [
          1952,
          1957,
          1962,
          1967,
          1972,
          1977,
          1982,
          1987,
          1992,
          1997,
          2002,
          2007
         ],
         "xaxis": "x",
         "y": [
          59.163999999999994,
          61.448,
          63.728,
          67.178,
          70.63600000000001,
          73.066,
          74.101,
          74.865,
          75.435,
          75.445,
          73.98100000000001,
          74.543
         ],
         "yaxis": "y"
        },
        {
         "hovertemplate": "<b>%{hovertext}</b><br><br>continent=Europe<br>country=Netherlands<br>year=%{x}<br>lifeExp=%{y}<extra></extra>",
         "hovertext": [
          "Netherlands",
          "Netherlands",
          "Netherlands",
          "Netherlands",
          "Netherlands",
          "Netherlands",
          "Netherlands",
          "Netherlands",
          "Netherlands",
          "Netherlands",
          "Netherlands",
          "Netherlands"
         ],
         "legendgroup": "Europe",
         "line": {
          "color": "#EF553B"
         },
         "mode": "lines",
         "name": "Europe",
         "orientation": "v",
         "showlegend": false,
         "stackgroup": "1",
         "type": "scatter",
         "x": [
          1952,
          1957,
          1962,
          1967,
          1972,
          1977,
          1982,
          1987,
          1992,
          1997,
          2002,
          2007
         ],
         "xaxis": "x",
         "y": [
          72.13,
          72.99,
          73.23,
          73.82,
          73.75,
          75.24,
          76.05,
          76.83,
          77.42,
          78.03,
          78.53,
          79.762
         ],
         "yaxis": "y"
        },
        {
         "hovertemplate": "<b>%{hovertext}</b><br><br>continent=Europe<br>country=Norway<br>year=%{x}<br>lifeExp=%{y}<extra></extra>",
         "hovertext": [
          "Norway",
          "Norway",
          "Norway",
          "Norway",
          "Norway",
          "Norway",
          "Norway",
          "Norway",
          "Norway",
          "Norway",
          "Norway",
          "Norway"
         ],
         "legendgroup": "Europe",
         "line": {
          "color": "#EF553B"
         },
         "mode": "lines",
         "name": "Europe",
         "orientation": "v",
         "showlegend": false,
         "stackgroup": "1",
         "type": "scatter",
         "x": [
          1952,
          1957,
          1962,
          1967,
          1972,
          1977,
          1982,
          1987,
          1992,
          1997,
          2002,
          2007
         ],
         "xaxis": "x",
         "y": [
          72.67,
          73.44,
          73.47,
          74.08,
          74.34,
          75.37,
          75.97,
          75.89,
          77.32,
          78.32,
          79.05,
          80.196
         ],
         "yaxis": "y"
        },
        {
         "hovertemplate": "<b>%{hovertext}</b><br><br>continent=Europe<br>country=Poland<br>year=%{x}<br>lifeExp=%{y}<extra></extra>",
         "hovertext": [
          "Poland",
          "Poland",
          "Poland",
          "Poland",
          "Poland",
          "Poland",
          "Poland",
          "Poland",
          "Poland",
          "Poland",
          "Poland",
          "Poland"
         ],
         "legendgroup": "Europe",
         "line": {
          "color": "#EF553B"
         },
         "mode": "lines",
         "name": "Europe",
         "orientation": "v",
         "showlegend": false,
         "stackgroup": "1",
         "type": "scatter",
         "x": [
          1952,
          1957,
          1962,
          1967,
          1972,
          1977,
          1982,
          1987,
          1992,
          1997,
          2002,
          2007
         ],
         "xaxis": "x",
         "y": [
          61.31,
          65.77,
          67.64,
          69.61,
          70.85,
          70.67,
          71.32,
          70.98,
          70.99,
          72.75,
          74.67,
          75.563
         ],
         "yaxis": "y"
        },
        {
         "hovertemplate": "<b>%{hovertext}</b><br><br>continent=Europe<br>country=Portugal<br>year=%{x}<br>lifeExp=%{y}<extra></extra>",
         "hovertext": [
          "Portugal",
          "Portugal",
          "Portugal",
          "Portugal",
          "Portugal",
          "Portugal",
          "Portugal",
          "Portugal",
          "Portugal",
          "Portugal",
          "Portugal",
          "Portugal"
         ],
         "legendgroup": "Europe",
         "line": {
          "color": "#EF553B"
         },
         "mode": "lines",
         "name": "Europe",
         "orientation": "v",
         "showlegend": false,
         "stackgroup": "1",
         "type": "scatter",
         "x": [
          1952,
          1957,
          1962,
          1967,
          1972,
          1977,
          1982,
          1987,
          1992,
          1997,
          2002,
          2007
         ],
         "xaxis": "x",
         "y": [
          59.82,
          61.51,
          64.39,
          66.6,
          69.26,
          70.41,
          72.77,
          74.06,
          74.86,
          75.97,
          77.29,
          78.098
         ],
         "yaxis": "y"
        },
        {
         "hovertemplate": "<b>%{hovertext}</b><br><br>continent=Europe<br>country=Romania<br>year=%{x}<br>lifeExp=%{y}<extra></extra>",
         "hovertext": [
          "Romania",
          "Romania",
          "Romania",
          "Romania",
          "Romania",
          "Romania",
          "Romania",
          "Romania",
          "Romania",
          "Romania",
          "Romania",
          "Romania"
         ],
         "legendgroup": "Europe",
         "line": {
          "color": "#EF553B"
         },
         "mode": "lines",
         "name": "Europe",
         "orientation": "v",
         "showlegend": false,
         "stackgroup": "1",
         "type": "scatter",
         "x": [
          1952,
          1957,
          1962,
          1967,
          1972,
          1977,
          1982,
          1987,
          1992,
          1997,
          2002,
          2007
         ],
         "xaxis": "x",
         "y": [
          61.05,
          64.1,
          66.8,
          66.8,
          69.21,
          69.46,
          69.66,
          69.53,
          69.36,
          69.72,
          71.322,
          72.476
         ],
         "yaxis": "y"
        },
        {
         "hovertemplate": "<b>%{hovertext}</b><br><br>continent=Europe<br>country=Serbia<br>year=%{x}<br>lifeExp=%{y}<extra></extra>",
         "hovertext": [
          "Serbia",
          "Serbia",
          "Serbia",
          "Serbia",
          "Serbia",
          "Serbia",
          "Serbia",
          "Serbia",
          "Serbia",
          "Serbia",
          "Serbia",
          "Serbia"
         ],
         "legendgroup": "Europe",
         "line": {
          "color": "#EF553B"
         },
         "mode": "lines",
         "name": "Europe",
         "orientation": "v",
         "showlegend": false,
         "stackgroup": "1",
         "type": "scatter",
         "x": [
          1952,
          1957,
          1962,
          1967,
          1972,
          1977,
          1982,
          1987,
          1992,
          1997,
          2002,
          2007
         ],
         "xaxis": "x",
         "y": [
          57.996,
          61.685,
          64.531,
          66.914,
          68.7,
          70.3,
          70.16199999999999,
          71.218,
          71.65899999999999,
          72.232,
          73.21300000000001,
          74.002
         ],
         "yaxis": "y"
        },
        {
         "hovertemplate": "<b>%{hovertext}</b><br><br>continent=Europe<br>country=Slovak Republic<br>year=%{x}<br>lifeExp=%{y}<extra></extra>",
         "hovertext": [
          "Slovak Republic",
          "Slovak Republic",
          "Slovak Republic",
          "Slovak Republic",
          "Slovak Republic",
          "Slovak Republic",
          "Slovak Republic",
          "Slovak Republic",
          "Slovak Republic",
          "Slovak Republic",
          "Slovak Republic",
          "Slovak Republic"
         ],
         "legendgroup": "Europe",
         "line": {
          "color": "#EF553B"
         },
         "mode": "lines",
         "name": "Europe",
         "orientation": "v",
         "showlegend": false,
         "stackgroup": "1",
         "type": "scatter",
         "x": [
          1952,
          1957,
          1962,
          1967,
          1972,
          1977,
          1982,
          1987,
          1992,
          1997,
          2002,
          2007
         ],
         "xaxis": "x",
         "y": [
          64.36,
          67.45,
          70.33,
          70.98,
          70.35,
          70.45,
          70.8,
          71.08,
          71.38,
          72.71,
          73.8,
          74.663
         ],
         "yaxis": "y"
        },
        {
         "hovertemplate": "<b>%{hovertext}</b><br><br>continent=Europe<br>country=Slovenia<br>year=%{x}<br>lifeExp=%{y}<extra></extra>",
         "hovertext": [
          "Slovenia",
          "Slovenia",
          "Slovenia",
          "Slovenia",
          "Slovenia",
          "Slovenia",
          "Slovenia",
          "Slovenia",
          "Slovenia",
          "Slovenia",
          "Slovenia",
          "Slovenia"
         ],
         "legendgroup": "Europe",
         "line": {
          "color": "#EF553B"
         },
         "mode": "lines",
         "name": "Europe",
         "orientation": "v",
         "showlegend": false,
         "stackgroup": "1",
         "type": "scatter",
         "x": [
          1952,
          1957,
          1962,
          1967,
          1972,
          1977,
          1982,
          1987,
          1992,
          1997,
          2002,
          2007
         ],
         "xaxis": "x",
         "y": [
          65.57,
          67.85,
          69.15,
          69.18,
          69.82,
          70.97,
          71.063,
          72.25,
          73.64,
          75.13,
          76.66,
          77.926
         ],
         "yaxis": "y"
        },
        {
         "hovertemplate": "<b>%{hovertext}</b><br><br>continent=Europe<br>country=Spain<br>year=%{x}<br>lifeExp=%{y}<extra></extra>",
         "hovertext": [
          "Spain",
          "Spain",
          "Spain",
          "Spain",
          "Spain",
          "Spain",
          "Spain",
          "Spain",
          "Spain",
          "Spain",
          "Spain",
          "Spain"
         ],
         "legendgroup": "Europe",
         "line": {
          "color": "#EF553B"
         },
         "mode": "lines",
         "name": "Europe",
         "orientation": "v",
         "showlegend": false,
         "stackgroup": "1",
         "type": "scatter",
         "x": [
          1952,
          1957,
          1962,
          1967,
          1972,
          1977,
          1982,
          1987,
          1992,
          1997,
          2002,
          2007
         ],
         "xaxis": "x",
         "y": [
          64.94,
          66.66,
          69.69,
          71.44,
          73.06,
          74.39,
          76.3,
          76.9,
          77.57,
          78.77,
          79.78,
          80.941
         ],
         "yaxis": "y"
        },
        {
         "hovertemplate": "<b>%{hovertext}</b><br><br>continent=Europe<br>country=Sweden<br>year=%{x}<br>lifeExp=%{y}<extra></extra>",
         "hovertext": [
          "Sweden",
          "Sweden",
          "Sweden",
          "Sweden",
          "Sweden",
          "Sweden",
          "Sweden",
          "Sweden",
          "Sweden",
          "Sweden",
          "Sweden",
          "Sweden"
         ],
         "legendgroup": "Europe",
         "line": {
          "color": "#EF553B"
         },
         "mode": "lines",
         "name": "Europe",
         "orientation": "v",
         "showlegend": false,
         "stackgroup": "1",
         "type": "scatter",
         "x": [
          1952,
          1957,
          1962,
          1967,
          1972,
          1977,
          1982,
          1987,
          1992,
          1997,
          2002,
          2007
         ],
         "xaxis": "x",
         "y": [
          71.86,
          72.49,
          73.37,
          74.16,
          74.72,
          75.44,
          76.42,
          77.19,
          78.16,
          79.39,
          80.04,
          80.884
         ],
         "yaxis": "y"
        },
        {
         "hovertemplate": "<b>%{hovertext}</b><br><br>continent=Europe<br>country=Switzerland<br>year=%{x}<br>lifeExp=%{y}<extra></extra>",
         "hovertext": [
          "Switzerland",
          "Switzerland",
          "Switzerland",
          "Switzerland",
          "Switzerland",
          "Switzerland",
          "Switzerland",
          "Switzerland",
          "Switzerland",
          "Switzerland",
          "Switzerland",
          "Switzerland"
         ],
         "legendgroup": "Europe",
         "line": {
          "color": "#EF553B"
         },
         "mode": "lines",
         "name": "Europe",
         "orientation": "v",
         "showlegend": false,
         "stackgroup": "1",
         "type": "scatter",
         "x": [
          1952,
          1957,
          1962,
          1967,
          1972,
          1977,
          1982,
          1987,
          1992,
          1997,
          2002,
          2007
         ],
         "xaxis": "x",
         "y": [
          69.62,
          70.56,
          71.32,
          72.77,
          73.78,
          75.39,
          76.21,
          77.41,
          78.03,
          79.37,
          80.62,
          81.70100000000001
         ],
         "yaxis": "y"
        },
        {
         "hovertemplate": "<b>%{hovertext}</b><br><br>continent=Europe<br>country=Turkey<br>year=%{x}<br>lifeExp=%{y}<extra></extra>",
         "hovertext": [
          "Turkey",
          "Turkey",
          "Turkey",
          "Turkey",
          "Turkey",
          "Turkey",
          "Turkey",
          "Turkey",
          "Turkey",
          "Turkey",
          "Turkey",
          "Turkey"
         ],
         "legendgroup": "Europe",
         "line": {
          "color": "#EF553B"
         },
         "mode": "lines",
         "name": "Europe",
         "orientation": "v",
         "showlegend": false,
         "stackgroup": "1",
         "type": "scatter",
         "x": [
          1952,
          1957,
          1962,
          1967,
          1972,
          1977,
          1982,
          1987,
          1992,
          1997,
          2002,
          2007
         ],
         "xaxis": "x",
         "y": [
          43.585,
          48.07899999999999,
          52.098,
          54.336000000000006,
          57.005,
          59.507,
          61.036,
          63.108000000000004,
          66.146,
          68.835,
          70.845,
          71.777
         ],
         "yaxis": "y"
        },
        {
         "hovertemplate": "<b>%{hovertext}</b><br><br>continent=Europe<br>country=United Kingdom<br>year=%{x}<br>lifeExp=%{y}<extra></extra>",
         "hovertext": [
          "United Kingdom",
          "United Kingdom",
          "United Kingdom",
          "United Kingdom",
          "United Kingdom",
          "United Kingdom",
          "United Kingdom",
          "United Kingdom",
          "United Kingdom",
          "United Kingdom",
          "United Kingdom",
          "United Kingdom"
         ],
         "legendgroup": "Europe",
         "line": {
          "color": "#EF553B"
         },
         "mode": "lines",
         "name": "Europe",
         "orientation": "v",
         "showlegend": false,
         "stackgroup": "1",
         "type": "scatter",
         "x": [
          1952,
          1957,
          1962,
          1967,
          1972,
          1977,
          1982,
          1987,
          1992,
          1997,
          2002,
          2007
         ],
         "xaxis": "x",
         "y": [
          69.18,
          70.42,
          70.76,
          71.36,
          72.01,
          72.76,
          74.04,
          75.007,
          76.42,
          77.218,
          78.471,
          79.425
         ],
         "yaxis": "y"
        },
        {
         "hovertemplate": "<b>%{hovertext}</b><br><br>continent=Africa<br>country=Algeria<br>year=%{x}<br>lifeExp=%{y}<extra></extra>",
         "hovertext": [
          "Algeria",
          "Algeria",
          "Algeria",
          "Algeria",
          "Algeria",
          "Algeria",
          "Algeria",
          "Algeria",
          "Algeria",
          "Algeria",
          "Algeria",
          "Algeria"
         ],
         "legendgroup": "Africa",
         "line": {
          "color": "#00cc96"
         },
         "mode": "lines",
         "name": "Africa",
         "orientation": "v",
         "showlegend": true,
         "stackgroup": "1",
         "type": "scatter",
         "x": [
          1952,
          1957,
          1962,
          1967,
          1972,
          1977,
          1982,
          1987,
          1992,
          1997,
          2002,
          2007
         ],
         "xaxis": "x",
         "y": [
          43.077,
          45.685,
          48.303000000000004,
          51.407,
          54.518,
          58.013999999999996,
          61.368,
          65.79899999999999,
          67.744,
          69.152,
          70.994,
          72.301
         ],
         "yaxis": "y"
        },
        {
         "hovertemplate": "<b>%{hovertext}</b><br><br>continent=Africa<br>country=Angola<br>year=%{x}<br>lifeExp=%{y}<extra></extra>",
         "hovertext": [
          "Angola",
          "Angola",
          "Angola",
          "Angola",
          "Angola",
          "Angola",
          "Angola",
          "Angola",
          "Angola",
          "Angola",
          "Angola",
          "Angola"
         ],
         "legendgroup": "Africa",
         "line": {
          "color": "#00cc96"
         },
         "mode": "lines",
         "name": "Africa",
         "orientation": "v",
         "showlegend": false,
         "stackgroup": "1",
         "type": "scatter",
         "x": [
          1952,
          1957,
          1962,
          1967,
          1972,
          1977,
          1982,
          1987,
          1992,
          1997,
          2002,
          2007
         ],
         "xaxis": "x",
         "y": [
          30.015,
          31.999000000000002,
          34,
          35.985,
          37.928000000000004,
          39.483000000000004,
          39.942,
          39.906,
          40.647,
          40.963,
          41.003,
          42.731
         ],
         "yaxis": "y"
        },
        {
         "hovertemplate": "<b>%{hovertext}</b><br><br>continent=Africa<br>country=Benin<br>year=%{x}<br>lifeExp=%{y}<extra></extra>",
         "hovertext": [
          "Benin",
          "Benin",
          "Benin",
          "Benin",
          "Benin",
          "Benin",
          "Benin",
          "Benin",
          "Benin",
          "Benin",
          "Benin",
          "Benin"
         ],
         "legendgroup": "Africa",
         "line": {
          "color": "#00cc96"
         },
         "mode": "lines",
         "name": "Africa",
         "orientation": "v",
         "showlegend": false,
         "stackgroup": "1",
         "type": "scatter",
         "x": [
          1952,
          1957,
          1962,
          1967,
          1972,
          1977,
          1982,
          1987,
          1992,
          1997,
          2002,
          2007
         ],
         "xaxis": "x",
         "y": [
          38.223,
          40.358000000000004,
          42.618,
          44.885,
          47.013999999999996,
          49.19,
          50.903999999999996,
          52.336999999999996,
          53.919,
          54.777,
          54.406000000000006,
          56.728
         ],
         "yaxis": "y"
        },
        {
         "hovertemplate": "<b>%{hovertext}</b><br><br>continent=Africa<br>country=Botswana<br>year=%{x}<br>lifeExp=%{y}<extra></extra>",
         "hovertext": [
          "Botswana",
          "Botswana",
          "Botswana",
          "Botswana",
          "Botswana",
          "Botswana",
          "Botswana",
          "Botswana",
          "Botswana",
          "Botswana",
          "Botswana",
          "Botswana"
         ],
         "legendgroup": "Africa",
         "line": {
          "color": "#00cc96"
         },
         "mode": "lines",
         "name": "Africa",
         "orientation": "v",
         "showlegend": false,
         "stackgroup": "1",
         "type": "scatter",
         "x": [
          1952,
          1957,
          1962,
          1967,
          1972,
          1977,
          1982,
          1987,
          1992,
          1997,
          2002,
          2007
         ],
         "xaxis": "x",
         "y": [
          47.622,
          49.618,
          51.52,
          53.298,
          56.023999999999994,
          59.318999999999996,
          61.483999999999995,
          63.622,
          62.745,
          52.556000000000004,
          46.63399999999999,
          50.728
         ],
         "yaxis": "y"
        },
        {
         "hovertemplate": "<b>%{hovertext}</b><br><br>continent=Africa<br>country=Burkina Faso<br>year=%{x}<br>lifeExp=%{y}<extra></extra>",
         "hovertext": [
          "Burkina Faso",
          "Burkina Faso",
          "Burkina Faso",
          "Burkina Faso",
          "Burkina Faso",
          "Burkina Faso",
          "Burkina Faso",
          "Burkina Faso",
          "Burkina Faso",
          "Burkina Faso",
          "Burkina Faso",
          "Burkina Faso"
         ],
         "legendgroup": "Africa",
         "line": {
          "color": "#00cc96"
         },
         "mode": "lines",
         "name": "Africa",
         "orientation": "v",
         "showlegend": false,
         "stackgroup": "1",
         "type": "scatter",
         "x": [
          1952,
          1957,
          1962,
          1967,
          1972,
          1977,
          1982,
          1987,
          1992,
          1997,
          2002,
          2007
         ],
         "xaxis": "x",
         "y": [
          31.975,
          34.906,
          37.814,
          40.696999999999996,
          43.591,
          46.137,
          48.122,
          49.556999999999995,
          50.26,
          50.324,
          50.65,
          52.295
         ],
         "yaxis": "y"
        },
        {
         "hovertemplate": "<b>%{hovertext}</b><br><br>continent=Africa<br>country=Burundi<br>year=%{x}<br>lifeExp=%{y}<extra></extra>",
         "hovertext": [
          "Burundi",
          "Burundi",
          "Burundi",
          "Burundi",
          "Burundi",
          "Burundi",
          "Burundi",
          "Burundi",
          "Burundi",
          "Burundi",
          "Burundi",
          "Burundi"
         ],
         "legendgroup": "Africa",
         "line": {
          "color": "#00cc96"
         },
         "mode": "lines",
         "name": "Africa",
         "orientation": "v",
         "showlegend": false,
         "stackgroup": "1",
         "type": "scatter",
         "x": [
          1952,
          1957,
          1962,
          1967,
          1972,
          1977,
          1982,
          1987,
          1992,
          1997,
          2002,
          2007
         ],
         "xaxis": "x",
         "y": [
          39.031,
          40.533,
          42.045,
          43.548,
          44.056999999999995,
          45.91,
          47.471000000000004,
          48.211000000000006,
          44.736000000000004,
          45.326,
          47.36,
          49.58
         ],
         "yaxis": "y"
        },
        {
         "hovertemplate": "<b>%{hovertext}</b><br><br>continent=Africa<br>country=Cameroon<br>year=%{x}<br>lifeExp=%{y}<extra></extra>",
         "hovertext": [
          "Cameroon",
          "Cameroon",
          "Cameroon",
          "Cameroon",
          "Cameroon",
          "Cameroon",
          "Cameroon",
          "Cameroon",
          "Cameroon",
          "Cameroon",
          "Cameroon",
          "Cameroon"
         ],
         "legendgroup": "Africa",
         "line": {
          "color": "#00cc96"
         },
         "mode": "lines",
         "name": "Africa",
         "orientation": "v",
         "showlegend": false,
         "stackgroup": "1",
         "type": "scatter",
         "x": [
          1952,
          1957,
          1962,
          1967,
          1972,
          1977,
          1982,
          1987,
          1992,
          1997,
          2002,
          2007
         ],
         "xaxis": "x",
         "y": [
          38.523,
          40.428000000000004,
          42.643,
          44.799,
          47.049,
          49.355,
          52.961000000000006,
          54.985,
          54.31399999999999,
          52.199,
          49.856,
          50.43
         ],
         "yaxis": "y"
        },
        {
         "hovertemplate": "<b>%{hovertext}</b><br><br>continent=Africa<br>country=Central African Republic<br>year=%{x}<br>lifeExp=%{y}<extra></extra>",
         "hovertext": [
          "Central African Republic",
          "Central African Republic",
          "Central African Republic",
          "Central African Republic",
          "Central African Republic",
          "Central African Republic",
          "Central African Republic",
          "Central African Republic",
          "Central African Republic",
          "Central African Republic",
          "Central African Republic",
          "Central African Republic"
         ],
         "legendgroup": "Africa",
         "line": {
          "color": "#00cc96"
         },
         "mode": "lines",
         "name": "Africa",
         "orientation": "v",
         "showlegend": false,
         "stackgroup": "1",
         "type": "scatter",
         "x": [
          1952,
          1957,
          1962,
          1967,
          1972,
          1977,
          1982,
          1987,
          1992,
          1997,
          2002,
          2007
         ],
         "xaxis": "x",
         "y": [
          35.463,
          37.464,
          39.475,
          41.478,
          43.457,
          46.775,
          48.295,
          50.485,
          49.396,
          46.066,
          43.308,
          44.74100000000001
         ],
         "yaxis": "y"
        },
        {
         "hovertemplate": "<b>%{hovertext}</b><br><br>continent=Africa<br>country=Chad<br>year=%{x}<br>lifeExp=%{y}<extra></extra>",
         "hovertext": [
          "Chad",
          "Chad",
          "Chad",
          "Chad",
          "Chad",
          "Chad",
          "Chad",
          "Chad",
          "Chad",
          "Chad",
          "Chad",
          "Chad"
         ],
         "legendgroup": "Africa",
         "line": {
          "color": "#00cc96"
         },
         "mode": "lines",
         "name": "Africa",
         "orientation": "v",
         "showlegend": false,
         "stackgroup": "1",
         "type": "scatter",
         "x": [
          1952,
          1957,
          1962,
          1967,
          1972,
          1977,
          1982,
          1987,
          1992,
          1997,
          2002,
          2007
         ],
         "xaxis": "x",
         "y": [
          38.092,
          39.881,
          41.716,
          43.601000000000006,
          45.568999999999996,
          47.383,
          49.516999999999996,
          51.051,
          51.724,
          51.573,
          50.525,
          50.651
         ],
         "yaxis": "y"
        },
        {
         "hovertemplate": "<b>%{hovertext}</b><br><br>continent=Africa<br>country=Comoros<br>year=%{x}<br>lifeExp=%{y}<extra></extra>",
         "hovertext": [
          "Comoros",
          "Comoros",
          "Comoros",
          "Comoros",
          "Comoros",
          "Comoros",
          "Comoros",
          "Comoros",
          "Comoros",
          "Comoros",
          "Comoros",
          "Comoros"
         ],
         "legendgroup": "Africa",
         "line": {
          "color": "#00cc96"
         },
         "mode": "lines",
         "name": "Africa",
         "orientation": "v",
         "showlegend": false,
         "stackgroup": "1",
         "type": "scatter",
         "x": [
          1952,
          1957,
          1962,
          1967,
          1972,
          1977,
          1982,
          1987,
          1992,
          1997,
          2002,
          2007
         ],
         "xaxis": "x",
         "y": [
          40.715,
          42.46,
          44.467,
          46.472,
          48.943999999999996,
          50.93899999999999,
          52.933,
          54.926,
          57.93899999999999,
          60.66,
          62.974,
          65.152
         ],
         "yaxis": "y"
        },
        {
         "hovertemplate": "<b>%{hovertext}</b><br><br>continent=Africa<br>country=Congo, Dem. Rep.<br>year=%{x}<br>lifeExp=%{y}<extra></extra>",
         "hovertext": [
          "Congo, Dem. Rep.",
          "Congo, Dem. Rep.",
          "Congo, Dem. Rep.",
          "Congo, Dem. Rep.",
          "Congo, Dem. Rep.",
          "Congo, Dem. Rep.",
          "Congo, Dem. Rep.",
          "Congo, Dem. Rep.",
          "Congo, Dem. Rep.",
          "Congo, Dem. Rep.",
          "Congo, Dem. Rep.",
          "Congo, Dem. Rep."
         ],
         "legendgroup": "Africa",
         "line": {
          "color": "#00cc96"
         },
         "mode": "lines",
         "name": "Africa",
         "orientation": "v",
         "showlegend": false,
         "stackgroup": "1",
         "type": "scatter",
         "x": [
          1952,
          1957,
          1962,
          1967,
          1972,
          1977,
          1982,
          1987,
          1992,
          1997,
          2002,
          2007
         ],
         "xaxis": "x",
         "y": [
          39.143,
          40.652,
          42.122,
          44.056000000000004,
          45.989,
          47.803999999999995,
          47.784,
          47.412,
          45.548,
          42.586999999999996,
          44.966,
          46.461999999999996
         ],
         "yaxis": "y"
        },
        {
         "hovertemplate": "<b>%{hovertext}</b><br><br>continent=Africa<br>country=Congo, Rep.<br>year=%{x}<br>lifeExp=%{y}<extra></extra>",
         "hovertext": [
          "Congo, Rep.",
          "Congo, Rep.",
          "Congo, Rep.",
          "Congo, Rep.",
          "Congo, Rep.",
          "Congo, Rep.",
          "Congo, Rep.",
          "Congo, Rep.",
          "Congo, Rep.",
          "Congo, Rep.",
          "Congo, Rep.",
          "Congo, Rep."
         ],
         "legendgroup": "Africa",
         "line": {
          "color": "#00cc96"
         },
         "mode": "lines",
         "name": "Africa",
         "orientation": "v",
         "showlegend": false,
         "stackgroup": "1",
         "type": "scatter",
         "x": [
          1952,
          1957,
          1962,
          1967,
          1972,
          1977,
          1982,
          1987,
          1992,
          1997,
          2002,
          2007
         ],
         "xaxis": "x",
         "y": [
          42.111000000000004,
          45.053000000000004,
          48.435,
          52.04,
          54.907,
          55.625,
          56.695,
          57.47,
          56.433,
          52.961999999999996,
          52.97,
          55.321999999999996
         ],
         "yaxis": "y"
        },
        {
         "hovertemplate": "<b>%{hovertext}</b><br><br>continent=Africa<br>country=Cote d'Ivoire<br>year=%{x}<br>lifeExp=%{y}<extra></extra>",
         "hovertext": [
          "Cote d'Ivoire",
          "Cote d'Ivoire",
          "Cote d'Ivoire",
          "Cote d'Ivoire",
          "Cote d'Ivoire",
          "Cote d'Ivoire",
          "Cote d'Ivoire",
          "Cote d'Ivoire",
          "Cote d'Ivoire",
          "Cote d'Ivoire",
          "Cote d'Ivoire",
          "Cote d'Ivoire"
         ],
         "legendgroup": "Africa",
         "line": {
          "color": "#00cc96"
         },
         "mode": "lines",
         "name": "Africa",
         "orientation": "v",
         "showlegend": false,
         "stackgroup": "1",
         "type": "scatter",
         "x": [
          1952,
          1957,
          1962,
          1967,
          1972,
          1977,
          1982,
          1987,
          1992,
          1997,
          2002,
          2007
         ],
         "xaxis": "x",
         "y": [
          40.477,
          42.468999999999994,
          44.93,
          47.35,
          49.801,
          52.373999999999995,
          53.983000000000004,
          54.655,
          52.044,
          47.99100000000001,
          46.832,
          48.328
         ],
         "yaxis": "y"
        },
        {
         "hovertemplate": "<b>%{hovertext}</b><br><br>continent=Africa<br>country=Djibouti<br>year=%{x}<br>lifeExp=%{y}<extra></extra>",
         "hovertext": [
          "Djibouti",
          "Djibouti",
          "Djibouti",
          "Djibouti",
          "Djibouti",
          "Djibouti",
          "Djibouti",
          "Djibouti",
          "Djibouti",
          "Djibouti",
          "Djibouti",
          "Djibouti"
         ],
         "legendgroup": "Africa",
         "line": {
          "color": "#00cc96"
         },
         "mode": "lines",
         "name": "Africa",
         "orientation": "v",
         "showlegend": false,
         "stackgroup": "1",
         "type": "scatter",
         "x": [
          1952,
          1957,
          1962,
          1967,
          1972,
          1977,
          1982,
          1987,
          1992,
          1997,
          2002,
          2007
         ],
         "xaxis": "x",
         "y": [
          34.812,
          37.328,
          39.693000000000005,
          42.074,
          44.36600000000001,
          46.519,
          48.812,
          50.04,
          51.604,
          53.157,
          53.373000000000005,
          54.791000000000004
         ],
         "yaxis": "y"
        },
        {
         "hovertemplate": "<b>%{hovertext}</b><br><br>continent=Africa<br>country=Egypt<br>year=%{x}<br>lifeExp=%{y}<extra></extra>",
         "hovertext": [
          "Egypt",
          "Egypt",
          "Egypt",
          "Egypt",
          "Egypt",
          "Egypt",
          "Egypt",
          "Egypt",
          "Egypt",
          "Egypt",
          "Egypt",
          "Egypt"
         ],
         "legendgroup": "Africa",
         "line": {
          "color": "#00cc96"
         },
         "mode": "lines",
         "name": "Africa",
         "orientation": "v",
         "showlegend": false,
         "stackgroup": "1",
         "type": "scatter",
         "x": [
          1952,
          1957,
          1962,
          1967,
          1972,
          1977,
          1982,
          1987,
          1992,
          1997,
          2002,
          2007
         ],
         "xaxis": "x",
         "y": [
          41.893,
          44.443999999999996,
          46.992,
          49.293,
          51.137,
          53.318999999999996,
          56.006,
          59.797,
          63.674,
          67.217,
          69.806,
          71.33800000000001
         ],
         "yaxis": "y"
        },
        {
         "hovertemplate": "<b>%{hovertext}</b><br><br>continent=Africa<br>country=Equatorial Guinea<br>year=%{x}<br>lifeExp=%{y}<extra></extra>",
         "hovertext": [
          "Equatorial Guinea",
          "Equatorial Guinea",
          "Equatorial Guinea",
          "Equatorial Guinea",
          "Equatorial Guinea",
          "Equatorial Guinea",
          "Equatorial Guinea",
          "Equatorial Guinea",
          "Equatorial Guinea",
          "Equatorial Guinea",
          "Equatorial Guinea",
          "Equatorial Guinea"
         ],
         "legendgroup": "Africa",
         "line": {
          "color": "#00cc96"
         },
         "mode": "lines",
         "name": "Africa",
         "orientation": "v",
         "showlegend": false,
         "stackgroup": "1",
         "type": "scatter",
         "x": [
          1952,
          1957,
          1962,
          1967,
          1972,
          1977,
          1982,
          1987,
          1992,
          1997,
          2002,
          2007
         ],
         "xaxis": "x",
         "y": [
          34.482,
          35.983000000000004,
          37.485,
          38.986999999999995,
          40.516,
          42.023999999999994,
          43.662,
          45.663999999999994,
          47.545,
          48.245,
          49.348,
          51.57899999999999
         ],
         "yaxis": "y"
        },
        {
         "hovertemplate": "<b>%{hovertext}</b><br><br>continent=Africa<br>country=Eritrea<br>year=%{x}<br>lifeExp=%{y}<extra></extra>",
         "hovertext": [
          "Eritrea",
          "Eritrea",
          "Eritrea",
          "Eritrea",
          "Eritrea",
          "Eritrea",
          "Eritrea",
          "Eritrea",
          "Eritrea",
          "Eritrea",
          "Eritrea",
          "Eritrea"
         ],
         "legendgroup": "Africa",
         "line": {
          "color": "#00cc96"
         },
         "mode": "lines",
         "name": "Africa",
         "orientation": "v",
         "showlegend": false,
         "stackgroup": "1",
         "type": "scatter",
         "x": [
          1952,
          1957,
          1962,
          1967,
          1972,
          1977,
          1982,
          1987,
          1992,
          1997,
          2002,
          2007
         ],
         "xaxis": "x",
         "y": [
          35.928000000000004,
          38.047,
          40.158,
          42.18899999999999,
          44.141999999999996,
          44.535,
          43.89,
          46.453,
          49.99100000000001,
          53.378,
          55.24,
          58.04
         ],
         "yaxis": "y"
        },
        {
         "hovertemplate": "<b>%{hovertext}</b><br><br>continent=Africa<br>country=Ethiopia<br>year=%{x}<br>lifeExp=%{y}<extra></extra>",
         "hovertext": [
          "Ethiopia",
          "Ethiopia",
          "Ethiopia",
          "Ethiopia",
          "Ethiopia",
          "Ethiopia",
          "Ethiopia",
          "Ethiopia",
          "Ethiopia",
          "Ethiopia",
          "Ethiopia",
          "Ethiopia"
         ],
         "legendgroup": "Africa",
         "line": {
          "color": "#00cc96"
         },
         "mode": "lines",
         "name": "Africa",
         "orientation": "v",
         "showlegend": false,
         "stackgroup": "1",
         "type": "scatter",
         "x": [
          1952,
          1957,
          1962,
          1967,
          1972,
          1977,
          1982,
          1987,
          1992,
          1997,
          2002,
          2007
         ],
         "xaxis": "x",
         "y": [
          34.078,
          36.667,
          40.059,
          42.115,
          43.515,
          44.51,
          44.916000000000004,
          46.684,
          48.091,
          49.402,
          50.725,
          52.946999999999996
         ],
         "yaxis": "y"
        },
        {
         "hovertemplate": "<b>%{hovertext}</b><br><br>continent=Africa<br>country=Gabon<br>year=%{x}<br>lifeExp=%{y}<extra></extra>",
         "hovertext": [
          "Gabon",
          "Gabon",
          "Gabon",
          "Gabon",
          "Gabon",
          "Gabon",
          "Gabon",
          "Gabon",
          "Gabon",
          "Gabon",
          "Gabon",
          "Gabon"
         ],
         "legendgroup": "Africa",
         "line": {
          "color": "#00cc96"
         },
         "mode": "lines",
         "name": "Africa",
         "orientation": "v",
         "showlegend": false,
         "stackgroup": "1",
         "type": "scatter",
         "x": [
          1952,
          1957,
          1962,
          1967,
          1972,
          1977,
          1982,
          1987,
          1992,
          1997,
          2002,
          2007
         ],
         "xaxis": "x",
         "y": [
          37.003,
          38.999,
          40.489000000000004,
          44.598,
          48.69,
          52.79,
          56.56399999999999,
          60.19,
          61.36600000000001,
          60.461000000000006,
          56.761,
          56.735
         ],
         "yaxis": "y"
        },
        {
         "hovertemplate": "<b>%{hovertext}</b><br><br>continent=Africa<br>country=Gambia<br>year=%{x}<br>lifeExp=%{y}<extra></extra>",
         "hovertext": [
          "Gambia",
          "Gambia",
          "Gambia",
          "Gambia",
          "Gambia",
          "Gambia",
          "Gambia",
          "Gambia",
          "Gambia",
          "Gambia",
          "Gambia",
          "Gambia"
         ],
         "legendgroup": "Africa",
         "line": {
          "color": "#00cc96"
         },
         "mode": "lines",
         "name": "Africa",
         "orientation": "v",
         "showlegend": false,
         "stackgroup": "1",
         "type": "scatter",
         "x": [
          1952,
          1957,
          1962,
          1967,
          1972,
          1977,
          1982,
          1987,
          1992,
          1997,
          2002,
          2007
         ],
         "xaxis": "x",
         "y": [
          30,
          32.065,
          33.896,
          35.857,
          38.308,
          41.842,
          45.58,
          49.265,
          52.644,
          55.861000000000004,
          58.041000000000004,
          59.448
         ],
         "yaxis": "y"
        },
        {
         "hovertemplate": "<b>%{hovertext}</b><br><br>continent=Africa<br>country=Ghana<br>year=%{x}<br>lifeExp=%{y}<extra></extra>",
         "hovertext": [
          "Ghana",
          "Ghana",
          "Ghana",
          "Ghana",
          "Ghana",
          "Ghana",
          "Ghana",
          "Ghana",
          "Ghana",
          "Ghana",
          "Ghana",
          "Ghana"
         ],
         "legendgroup": "Africa",
         "line": {
          "color": "#00cc96"
         },
         "mode": "lines",
         "name": "Africa",
         "orientation": "v",
         "showlegend": false,
         "stackgroup": "1",
         "type": "scatter",
         "x": [
          1952,
          1957,
          1962,
          1967,
          1972,
          1977,
          1982,
          1987,
          1992,
          1997,
          2002,
          2007
         ],
         "xaxis": "x",
         "y": [
          43.148999999999994,
          44.778999999999996,
          46.452,
          48.071999999999996,
          49.875,
          51.756,
          53.744,
          55.729,
          57.501000000000005,
          58.556000000000004,
          58.453,
          60.022
         ],
         "yaxis": "y"
        },
        {
         "hovertemplate": "<b>%{hovertext}</b><br><br>continent=Africa<br>country=Guinea<br>year=%{x}<br>lifeExp=%{y}<extra></extra>",
         "hovertext": [
          "Guinea",
          "Guinea",
          "Guinea",
          "Guinea",
          "Guinea",
          "Guinea",
          "Guinea",
          "Guinea",
          "Guinea",
          "Guinea",
          "Guinea",
          "Guinea"
         ],
         "legendgroup": "Africa",
         "line": {
          "color": "#00cc96"
         },
         "mode": "lines",
         "name": "Africa",
         "orientation": "v",
         "showlegend": false,
         "stackgroup": "1",
         "type": "scatter",
         "x": [
          1952,
          1957,
          1962,
          1967,
          1972,
          1977,
          1982,
          1987,
          1992,
          1997,
          2002,
          2007
         ],
         "xaxis": "x",
         "y": [
          33.609,
          34.558,
          35.753,
          37.196999999999996,
          38.842,
          40.762,
          42.891000000000005,
          45.552,
          48.576,
          51.455,
          53.676,
          56.007
         ],
         "yaxis": "y"
        },
        {
         "hovertemplate": "<b>%{hovertext}</b><br><br>continent=Africa<br>country=Guinea-Bissau<br>year=%{x}<br>lifeExp=%{y}<extra></extra>",
         "hovertext": [
          "Guinea-Bissau",
          "Guinea-Bissau",
          "Guinea-Bissau",
          "Guinea-Bissau",
          "Guinea-Bissau",
          "Guinea-Bissau",
          "Guinea-Bissau",
          "Guinea-Bissau",
          "Guinea-Bissau",
          "Guinea-Bissau",
          "Guinea-Bissau",
          "Guinea-Bissau"
         ],
         "legendgroup": "Africa",
         "line": {
          "color": "#00cc96"
         },
         "mode": "lines",
         "name": "Africa",
         "orientation": "v",
         "showlegend": false,
         "stackgroup": "1",
         "type": "scatter",
         "x": [
          1952,
          1957,
          1962,
          1967,
          1972,
          1977,
          1982,
          1987,
          1992,
          1997,
          2002,
          2007
         ],
         "xaxis": "x",
         "y": [
          32.5,
          33.489000000000004,
          34.488,
          35.492,
          36.486,
          37.465,
          39.327,
          41.245,
          43.266000000000005,
          44.873000000000005,
          45.504,
          46.388000000000005
         ],
         "yaxis": "y"
        },
        {
         "hovertemplate": "<b>%{hovertext}</b><br><br>continent=Africa<br>country=Kenya<br>year=%{x}<br>lifeExp=%{y}<extra></extra>",
         "hovertext": [
          "Kenya",
          "Kenya",
          "Kenya",
          "Kenya",
          "Kenya",
          "Kenya",
          "Kenya",
          "Kenya",
          "Kenya",
          "Kenya",
          "Kenya",
          "Kenya"
         ],
         "legendgroup": "Africa",
         "line": {
          "color": "#00cc96"
         },
         "mode": "lines",
         "name": "Africa",
         "orientation": "v",
         "showlegend": false,
         "stackgroup": "1",
         "type": "scatter",
         "x": [
          1952,
          1957,
          1962,
          1967,
          1972,
          1977,
          1982,
          1987,
          1992,
          1997,
          2002,
          2007
         ],
         "xaxis": "x",
         "y": [
          42.27,
          44.68600000000001,
          47.949,
          50.653999999999996,
          53.559,
          56.155,
          58.766000000000005,
          59.339,
          59.285,
          54.407,
          50.992,
          54.11
         ],
         "yaxis": "y"
        },
        {
         "hovertemplate": "<b>%{hovertext}</b><br><br>continent=Africa<br>country=Lesotho<br>year=%{x}<br>lifeExp=%{y}<extra></extra>",
         "hovertext": [
          "Lesotho",
          "Lesotho",
          "Lesotho",
          "Lesotho",
          "Lesotho",
          "Lesotho",
          "Lesotho",
          "Lesotho",
          "Lesotho",
          "Lesotho",
          "Lesotho",
          "Lesotho"
         ],
         "legendgroup": "Africa",
         "line": {
          "color": "#00cc96"
         },
         "mode": "lines",
         "name": "Africa",
         "orientation": "v",
         "showlegend": false,
         "stackgroup": "1",
         "type": "scatter",
         "x": [
          1952,
          1957,
          1962,
          1967,
          1972,
          1977,
          1982,
          1987,
          1992,
          1997,
          2002,
          2007
         ],
         "xaxis": "x",
         "y": [
          42.138000000000005,
          45.047,
          47.747,
          48.492,
          49.766999999999996,
          52.208,
          55.078,
          57.18,
          59.685,
          55.558,
          44.593,
          42.592
         ],
         "yaxis": "y"
        },
        {
         "hovertemplate": "<b>%{hovertext}</b><br><br>continent=Africa<br>country=Liberia<br>year=%{x}<br>lifeExp=%{y}<extra></extra>",
         "hovertext": [
          "Liberia",
          "Liberia",
          "Liberia",
          "Liberia",
          "Liberia",
          "Liberia",
          "Liberia",
          "Liberia",
          "Liberia",
          "Liberia",
          "Liberia",
          "Liberia"
         ],
         "legendgroup": "Africa",
         "line": {
          "color": "#00cc96"
         },
         "mode": "lines",
         "name": "Africa",
         "orientation": "v",
         "showlegend": false,
         "stackgroup": "1",
         "type": "scatter",
         "x": [
          1952,
          1957,
          1962,
          1967,
          1972,
          1977,
          1982,
          1987,
          1992,
          1997,
          2002,
          2007
         ],
         "xaxis": "x",
         "y": [
          38.48,
          39.486,
          40.501999999999995,
          41.536,
          42.614,
          43.763999999999996,
          44.852,
          46.027,
          40.802,
          42.221000000000004,
          43.753,
          45.678000000000004
         ],
         "yaxis": "y"
        },
        {
         "hovertemplate": "<b>%{hovertext}</b><br><br>continent=Africa<br>country=Libya<br>year=%{x}<br>lifeExp=%{y}<extra></extra>",
         "hovertext": [
          "Libya",
          "Libya",
          "Libya",
          "Libya",
          "Libya",
          "Libya",
          "Libya",
          "Libya",
          "Libya",
          "Libya",
          "Libya",
          "Libya"
         ],
         "legendgroup": "Africa",
         "line": {
          "color": "#00cc96"
         },
         "mode": "lines",
         "name": "Africa",
         "orientation": "v",
         "showlegend": false,
         "stackgroup": "1",
         "type": "scatter",
         "x": [
          1952,
          1957,
          1962,
          1967,
          1972,
          1977,
          1982,
          1987,
          1992,
          1997,
          2002,
          2007
         ],
         "xaxis": "x",
         "y": [
          42.723,
          45.288999999999994,
          47.808,
          50.227,
          52.773,
          57.442,
          62.155,
          66.234,
          68.755,
          71.555,
          72.737,
          73.952
         ],
         "yaxis": "y"
        },
        {
         "hovertemplate": "<b>%{hovertext}</b><br><br>continent=Africa<br>country=Madagascar<br>year=%{x}<br>lifeExp=%{y}<extra></extra>",
         "hovertext": [
          "Madagascar",
          "Madagascar",
          "Madagascar",
          "Madagascar",
          "Madagascar",
          "Madagascar",
          "Madagascar",
          "Madagascar",
          "Madagascar",
          "Madagascar",
          "Madagascar",
          "Madagascar"
         ],
         "legendgroup": "Africa",
         "line": {
          "color": "#00cc96"
         },
         "mode": "lines",
         "name": "Africa",
         "orientation": "v",
         "showlegend": false,
         "stackgroup": "1",
         "type": "scatter",
         "x": [
          1952,
          1957,
          1962,
          1967,
          1972,
          1977,
          1982,
          1987,
          1992,
          1997,
          2002,
          2007
         ],
         "xaxis": "x",
         "y": [
          36.681,
          38.865,
          40.848,
          42.881,
          44.851000000000006,
          46.881,
          48.968999999999994,
          49.35,
          52.214,
          54.978,
          57.286,
          59.443000000000005
         ],
         "yaxis": "y"
        },
        {
         "hovertemplate": "<b>%{hovertext}</b><br><br>continent=Africa<br>country=Malawi<br>year=%{x}<br>lifeExp=%{y}<extra></extra>",
         "hovertext": [
          "Malawi",
          "Malawi",
          "Malawi",
          "Malawi",
          "Malawi",
          "Malawi",
          "Malawi",
          "Malawi",
          "Malawi",
          "Malawi",
          "Malawi",
          "Malawi"
         ],
         "legendgroup": "Africa",
         "line": {
          "color": "#00cc96"
         },
         "mode": "lines",
         "name": "Africa",
         "orientation": "v",
         "showlegend": false,
         "stackgroup": "1",
         "type": "scatter",
         "x": [
          1952,
          1957,
          1962,
          1967,
          1972,
          1977,
          1982,
          1987,
          1992,
          1997,
          2002,
          2007
         ],
         "xaxis": "x",
         "y": [
          36.256,
          37.207,
          38.41,
          39.486999999999995,
          41.766000000000005,
          43.766999999999996,
          45.641999999999996,
          47.457,
          49.42,
          47.495,
          45.00899999999999,
          48.303000000000004
         ],
         "yaxis": "y"
        },
        {
         "hovertemplate": "<b>%{hovertext}</b><br><br>continent=Africa<br>country=Mali<br>year=%{x}<br>lifeExp=%{y}<extra></extra>",
         "hovertext": [
          "Mali",
          "Mali",
          "Mali",
          "Mali",
          "Mali",
          "Mali",
          "Mali",
          "Mali",
          "Mali",
          "Mali",
          "Mali",
          "Mali"
         ],
         "legendgroup": "Africa",
         "line": {
          "color": "#00cc96"
         },
         "mode": "lines",
         "name": "Africa",
         "orientation": "v",
         "showlegend": false,
         "stackgroup": "1",
         "type": "scatter",
         "x": [
          1952,
          1957,
          1962,
          1967,
          1972,
          1977,
          1982,
          1987,
          1992,
          1997,
          2002,
          2007
         ],
         "xaxis": "x",
         "y": [
          33.685,
          35.306999999999995,
          36.936,
          38.486999999999995,
          39.977,
          41.714,
          43.916000000000004,
          46.364,
          48.388000000000005,
          49.903,
          51.818000000000005,
          54.467
         ],
         "yaxis": "y"
        },
        {
         "hovertemplate": "<b>%{hovertext}</b><br><br>continent=Africa<br>country=Mauritania<br>year=%{x}<br>lifeExp=%{y}<extra></extra>",
         "hovertext": [
          "Mauritania",
          "Mauritania",
          "Mauritania",
          "Mauritania",
          "Mauritania",
          "Mauritania",
          "Mauritania",
          "Mauritania",
          "Mauritania",
          "Mauritania",
          "Mauritania",
          "Mauritania"
         ],
         "legendgroup": "Africa",
         "line": {
          "color": "#00cc96"
         },
         "mode": "lines",
         "name": "Africa",
         "orientation": "v",
         "showlegend": false,
         "stackgroup": "1",
         "type": "scatter",
         "x": [
          1952,
          1957,
          1962,
          1967,
          1972,
          1977,
          1982,
          1987,
          1992,
          1997,
          2002,
          2007
         ],
         "xaxis": "x",
         "y": [
          40.543,
          42.338,
          44.248000000000005,
          46.288999999999994,
          48.437,
          50.852,
          53.599,
          56.145,
          58.333,
          60.43,
          62.247,
          64.164
         ],
         "yaxis": "y"
        },
        {
         "hovertemplate": "<b>%{hovertext}</b><br><br>continent=Africa<br>country=Mauritius<br>year=%{x}<br>lifeExp=%{y}<extra></extra>",
         "hovertext": [
          "Mauritius",
          "Mauritius",
          "Mauritius",
          "Mauritius",
          "Mauritius",
          "Mauritius",
          "Mauritius",
          "Mauritius",
          "Mauritius",
          "Mauritius",
          "Mauritius",
          "Mauritius"
         ],
         "legendgroup": "Africa",
         "line": {
          "color": "#00cc96"
         },
         "mode": "lines",
         "name": "Africa",
         "orientation": "v",
         "showlegend": false,
         "stackgroup": "1",
         "type": "scatter",
         "x": [
          1952,
          1957,
          1962,
          1967,
          1972,
          1977,
          1982,
          1987,
          1992,
          1997,
          2002,
          2007
         ],
         "xaxis": "x",
         "y": [
          50.986000000000004,
          58.089,
          60.246,
          61.556999999999995,
          62.943999999999996,
          64.93,
          66.711,
          68.74,
          69.745,
          70.736,
          71.954,
          72.801
         ],
         "yaxis": "y"
        },
        {
         "hovertemplate": "<b>%{hovertext}</b><br><br>continent=Africa<br>country=Morocco<br>year=%{x}<br>lifeExp=%{y}<extra></extra>",
         "hovertext": [
          "Morocco",
          "Morocco",
          "Morocco",
          "Morocco",
          "Morocco",
          "Morocco",
          "Morocco",
          "Morocco",
          "Morocco",
          "Morocco",
          "Morocco",
          "Morocco"
         ],
         "legendgroup": "Africa",
         "line": {
          "color": "#00cc96"
         },
         "mode": "lines",
         "name": "Africa",
         "orientation": "v",
         "showlegend": false,
         "stackgroup": "1",
         "type": "scatter",
         "x": [
          1952,
          1957,
          1962,
          1967,
          1972,
          1977,
          1982,
          1987,
          1992,
          1997,
          2002,
          2007
         ],
         "xaxis": "x",
         "y": [
          42.873000000000005,
          45.423,
          47.924,
          50.335,
          52.861999999999995,
          55.73,
          59.65,
          62.677,
          65.393,
          67.66,
          69.615,
          71.164
         ],
         "yaxis": "y"
        },
        {
         "hovertemplate": "<b>%{hovertext}</b><br><br>continent=Africa<br>country=Mozambique<br>year=%{x}<br>lifeExp=%{y}<extra></extra>",
         "hovertext": [
          "Mozambique",
          "Mozambique",
          "Mozambique",
          "Mozambique",
          "Mozambique",
          "Mozambique",
          "Mozambique",
          "Mozambique",
          "Mozambique",
          "Mozambique",
          "Mozambique",
          "Mozambique"
         ],
         "legendgroup": "Africa",
         "line": {
          "color": "#00cc96"
         },
         "mode": "lines",
         "name": "Africa",
         "orientation": "v",
         "showlegend": false,
         "stackgroup": "1",
         "type": "scatter",
         "x": [
          1952,
          1957,
          1962,
          1967,
          1972,
          1977,
          1982,
          1987,
          1992,
          1997,
          2002,
          2007
         ],
         "xaxis": "x",
         "y": [
          31.285999999999998,
          33.779,
          36.161,
          38.113,
          40.328,
          42.495,
          42.795,
          42.861000000000004,
          44.284,
          46.343999999999994,
          44.026,
          42.082
         ],
         "yaxis": "y"
        },
        {
         "hovertemplate": "<b>%{hovertext}</b><br><br>continent=Africa<br>country=Namibia<br>year=%{x}<br>lifeExp=%{y}<extra></extra>",
         "hovertext": [
          "Namibia",
          "Namibia",
          "Namibia",
          "Namibia",
          "Namibia",
          "Namibia",
          "Namibia",
          "Namibia",
          "Namibia",
          "Namibia",
          "Namibia",
          "Namibia"
         ],
         "legendgroup": "Africa",
         "line": {
          "color": "#00cc96"
         },
         "mode": "lines",
         "name": "Africa",
         "orientation": "v",
         "showlegend": false,
         "stackgroup": "1",
         "type": "scatter",
         "x": [
          1952,
          1957,
          1962,
          1967,
          1972,
          1977,
          1982,
          1987,
          1992,
          1997,
          2002,
          2007
         ],
         "xaxis": "x",
         "y": [
          41.725,
          45.226000000000006,
          48.386,
          51.159,
          53.867,
          56.437,
          58.968,
          60.835,
          61.998999999999995,
          58.909,
          51.479,
          52.906000000000006
         ],
         "yaxis": "y"
        },
        {
         "hovertemplate": "<b>%{hovertext}</b><br><br>continent=Africa<br>country=Niger<br>year=%{x}<br>lifeExp=%{y}<extra></extra>",
         "hovertext": [
          "Niger",
          "Niger",
          "Niger",
          "Niger",
          "Niger",
          "Niger",
          "Niger",
          "Niger",
          "Niger",
          "Niger",
          "Niger",
          "Niger"
         ],
         "legendgroup": "Africa",
         "line": {
          "color": "#00cc96"
         },
         "mode": "lines",
         "name": "Africa",
         "orientation": "v",
         "showlegend": false,
         "stackgroup": "1",
         "type": "scatter",
         "x": [
          1952,
          1957,
          1962,
          1967,
          1972,
          1977,
          1982,
          1987,
          1992,
          1997,
          2002,
          2007
         ],
         "xaxis": "x",
         "y": [
          37.444,
          38.598,
          39.486999999999995,
          40.118,
          40.546,
          41.291000000000004,
          42.598,
          44.555,
          47.391000000000005,
          51.313,
          54.496,
          56.867
         ],
         "yaxis": "y"
        },
        {
         "hovertemplate": "<b>%{hovertext}</b><br><br>continent=Africa<br>country=Nigeria<br>year=%{x}<br>lifeExp=%{y}<extra></extra>",
         "hovertext": [
          "Nigeria",
          "Nigeria",
          "Nigeria",
          "Nigeria",
          "Nigeria",
          "Nigeria",
          "Nigeria",
          "Nigeria",
          "Nigeria",
          "Nigeria",
          "Nigeria",
          "Nigeria"
         ],
         "legendgroup": "Africa",
         "line": {
          "color": "#00cc96"
         },
         "mode": "lines",
         "name": "Africa",
         "orientation": "v",
         "showlegend": false,
         "stackgroup": "1",
         "type": "scatter",
         "x": [
          1952,
          1957,
          1962,
          1967,
          1972,
          1977,
          1982,
          1987,
          1992,
          1997,
          2002,
          2007
         ],
         "xaxis": "x",
         "y": [
          36.324,
          37.802,
          39.36,
          41.04,
          42.821000000000005,
          44.513999999999996,
          45.826,
          46.886,
          47.472,
          47.464,
          46.608000000000004,
          46.858999999999995
         ],
         "yaxis": "y"
        },
        {
         "hovertemplate": "<b>%{hovertext}</b><br><br>continent=Africa<br>country=Reunion<br>year=%{x}<br>lifeExp=%{y}<extra></extra>",
         "hovertext": [
          "Reunion",
          "Reunion",
          "Reunion",
          "Reunion",
          "Reunion",
          "Reunion",
          "Reunion",
          "Reunion",
          "Reunion",
          "Reunion",
          "Reunion",
          "Reunion"
         ],
         "legendgroup": "Africa",
         "line": {
          "color": "#00cc96"
         },
         "mode": "lines",
         "name": "Africa",
         "orientation": "v",
         "showlegend": false,
         "stackgroup": "1",
         "type": "scatter",
         "x": [
          1952,
          1957,
          1962,
          1967,
          1972,
          1977,
          1982,
          1987,
          1992,
          1997,
          2002,
          2007
         ],
         "xaxis": "x",
         "y": [
          52.724,
          55.09,
          57.666000000000004,
          60.542,
          64.274,
          67.064,
          69.885,
          71.913,
          73.615,
          74.77199999999999,
          75.744,
          76.442
         ],
         "yaxis": "y"
        },
        {
         "hovertemplate": "<b>%{hovertext}</b><br><br>continent=Africa<br>country=Rwanda<br>year=%{x}<br>lifeExp=%{y}<extra></extra>",
         "hovertext": [
          "Rwanda",
          "Rwanda",
          "Rwanda",
          "Rwanda",
          "Rwanda",
          "Rwanda",
          "Rwanda",
          "Rwanda",
          "Rwanda",
          "Rwanda",
          "Rwanda",
          "Rwanda"
         ],
         "legendgroup": "Africa",
         "line": {
          "color": "#00cc96"
         },
         "mode": "lines",
         "name": "Africa",
         "orientation": "v",
         "showlegend": false,
         "stackgroup": "1",
         "type": "scatter",
         "x": [
          1952,
          1957,
          1962,
          1967,
          1972,
          1977,
          1982,
          1987,
          1992,
          1997,
          2002,
          2007
         ],
         "xaxis": "x",
         "y": [
          40,
          41.5,
          43,
          44.1,
          44.6,
          45,
          46.218,
          44.02,
          23.599,
          36.086999999999996,
          43.413000000000004,
          46.242
         ],
         "yaxis": "y"
        },
        {
         "hovertemplate": "<b>%{hovertext}</b><br><br>continent=Africa<br>country=Sao Tome and Principe<br>year=%{x}<br>lifeExp=%{y}<extra></extra>",
         "hovertext": [
          "Sao Tome and Principe",
          "Sao Tome and Principe",
          "Sao Tome and Principe",
          "Sao Tome and Principe",
          "Sao Tome and Principe",
          "Sao Tome and Principe",
          "Sao Tome and Principe",
          "Sao Tome and Principe",
          "Sao Tome and Principe",
          "Sao Tome and Principe",
          "Sao Tome and Principe",
          "Sao Tome and Principe"
         ],
         "legendgroup": "Africa",
         "line": {
          "color": "#00cc96"
         },
         "mode": "lines",
         "name": "Africa",
         "orientation": "v",
         "showlegend": false,
         "stackgroup": "1",
         "type": "scatter",
         "x": [
          1952,
          1957,
          1962,
          1967,
          1972,
          1977,
          1982,
          1987,
          1992,
          1997,
          2002,
          2007
         ],
         "xaxis": "x",
         "y": [
          46.471000000000004,
          48.945,
          51.893,
          54.425,
          56.48,
          58.55,
          60.351000000000006,
          61.728,
          62.742,
          63.306000000000004,
          64.337,
          65.528
         ],
         "yaxis": "y"
        },
        {
         "hovertemplate": "<b>%{hovertext}</b><br><br>continent=Africa<br>country=Senegal<br>year=%{x}<br>lifeExp=%{y}<extra></extra>",
         "hovertext": [
          "Senegal",
          "Senegal",
          "Senegal",
          "Senegal",
          "Senegal",
          "Senegal",
          "Senegal",
          "Senegal",
          "Senegal",
          "Senegal",
          "Senegal",
          "Senegal"
         ],
         "legendgroup": "Africa",
         "line": {
          "color": "#00cc96"
         },
         "mode": "lines",
         "name": "Africa",
         "orientation": "v",
         "showlegend": false,
         "stackgroup": "1",
         "type": "scatter",
         "x": [
          1952,
          1957,
          1962,
          1967,
          1972,
          1977,
          1982,
          1987,
          1992,
          1997,
          2002,
          2007
         ],
         "xaxis": "x",
         "y": [
          37.278,
          39.329,
          41.45399999999999,
          43.563,
          45.815,
          48.879,
          52.379,
          55.769,
          58.196000000000005,
          60.187,
          61.6,
          63.062
         ],
         "yaxis": "y"
        },
        {
         "hovertemplate": "<b>%{hovertext}</b><br><br>continent=Africa<br>country=Sierra Leone<br>year=%{x}<br>lifeExp=%{y}<extra></extra>",
         "hovertext": [
          "Sierra Leone",
          "Sierra Leone",
          "Sierra Leone",
          "Sierra Leone",
          "Sierra Leone",
          "Sierra Leone",
          "Sierra Leone",
          "Sierra Leone",
          "Sierra Leone",
          "Sierra Leone",
          "Sierra Leone",
          "Sierra Leone"
         ],
         "legendgroup": "Africa",
         "line": {
          "color": "#00cc96"
         },
         "mode": "lines",
         "name": "Africa",
         "orientation": "v",
         "showlegend": false,
         "stackgroup": "1",
         "type": "scatter",
         "x": [
          1952,
          1957,
          1962,
          1967,
          1972,
          1977,
          1982,
          1987,
          1992,
          1997,
          2002,
          2007
         ],
         "xaxis": "x",
         "y": [
          30.331,
          31.57,
          32.766999999999996,
          34.113,
          35.4,
          36.788000000000004,
          38.445,
          40.006,
          38.333,
          39.897,
          41.012,
          42.568000000000005
         ],
         "yaxis": "y"
        },
        {
         "hovertemplate": "<b>%{hovertext}</b><br><br>continent=Africa<br>country=Somalia<br>year=%{x}<br>lifeExp=%{y}<extra></extra>",
         "hovertext": [
          "Somalia",
          "Somalia",
          "Somalia",
          "Somalia",
          "Somalia",
          "Somalia",
          "Somalia",
          "Somalia",
          "Somalia",
          "Somalia",
          "Somalia",
          "Somalia"
         ],
         "legendgroup": "Africa",
         "line": {
          "color": "#00cc96"
         },
         "mode": "lines",
         "name": "Africa",
         "orientation": "v",
         "showlegend": false,
         "stackgroup": "1",
         "type": "scatter",
         "x": [
          1952,
          1957,
          1962,
          1967,
          1972,
          1977,
          1982,
          1987,
          1992,
          1997,
          2002,
          2007
         ],
         "xaxis": "x",
         "y": [
          32.978,
          34.977,
          36.981,
          38.977,
          40.973,
          41.974,
          42.955,
          44.501000000000005,
          39.658,
          43.795,
          45.93600000000001,
          48.159
         ],
         "yaxis": "y"
        },
        {
         "hovertemplate": "<b>%{hovertext}</b><br><br>continent=Africa<br>country=South Africa<br>year=%{x}<br>lifeExp=%{y}<extra></extra>",
         "hovertext": [
          "South Africa",
          "South Africa",
          "South Africa",
          "South Africa",
          "South Africa",
          "South Africa",
          "South Africa",
          "South Africa",
          "South Africa",
          "South Africa",
          "South Africa",
          "South Africa"
         ],
         "legendgroup": "Africa",
         "line": {
          "color": "#00cc96"
         },
         "mode": "lines",
         "name": "Africa",
         "orientation": "v",
         "showlegend": false,
         "stackgroup": "1",
         "type": "scatter",
         "x": [
          1952,
          1957,
          1962,
          1967,
          1972,
          1977,
          1982,
          1987,
          1992,
          1997,
          2002,
          2007
         ],
         "xaxis": "x",
         "y": [
          45.00899999999999,
          47.985,
          49.951,
          51.927,
          53.696000000000005,
          55.527,
          58.161,
          60.833999999999996,
          61.888000000000005,
          60.236000000000004,
          53.365,
          49.339
         ],
         "yaxis": "y"
        },
        {
         "hovertemplate": "<b>%{hovertext}</b><br><br>continent=Africa<br>country=Sudan<br>year=%{x}<br>lifeExp=%{y}<extra></extra>",
         "hovertext": [
          "Sudan",
          "Sudan",
          "Sudan",
          "Sudan",
          "Sudan",
          "Sudan",
          "Sudan",
          "Sudan",
          "Sudan",
          "Sudan",
          "Sudan",
          "Sudan"
         ],
         "legendgroup": "Africa",
         "line": {
          "color": "#00cc96"
         },
         "mode": "lines",
         "name": "Africa",
         "orientation": "v",
         "showlegend": false,
         "stackgroup": "1",
         "type": "scatter",
         "x": [
          1952,
          1957,
          1962,
          1967,
          1972,
          1977,
          1982,
          1987,
          1992,
          1997,
          2002,
          2007
         ],
         "xaxis": "x",
         "y": [
          38.635,
          39.624,
          40.87,
          42.858000000000004,
          45.083,
          47.8,
          50.338,
          51.744,
          53.556000000000004,
          55.373000000000005,
          56.369,
          58.556000000000004
         ],
         "yaxis": "y"
        },
        {
         "hovertemplate": "<b>%{hovertext}</b><br><br>continent=Africa<br>country=Swaziland<br>year=%{x}<br>lifeExp=%{y}<extra></extra>",
         "hovertext": [
          "Swaziland",
          "Swaziland",
          "Swaziland",
          "Swaziland",
          "Swaziland",
          "Swaziland",
          "Swaziland",
          "Swaziland",
          "Swaziland",
          "Swaziland",
          "Swaziland",
          "Swaziland"
         ],
         "legendgroup": "Africa",
         "line": {
          "color": "#00cc96"
         },
         "mode": "lines",
         "name": "Africa",
         "orientation": "v",
         "showlegend": false,
         "stackgroup": "1",
         "type": "scatter",
         "x": [
          1952,
          1957,
          1962,
          1967,
          1972,
          1977,
          1982,
          1987,
          1992,
          1997,
          2002,
          2007
         ],
         "xaxis": "x",
         "y": [
          41.407,
          43.424,
          44.992,
          46.633,
          49.552,
          52.537,
          55.56100000000001,
          57.678000000000004,
          58.474,
          54.288999999999994,
          43.869,
          39.613
         ],
         "yaxis": "y"
        },
        {
         "hovertemplate": "<b>%{hovertext}</b><br><br>continent=Africa<br>country=Tanzania<br>year=%{x}<br>lifeExp=%{y}<extra></extra>",
         "hovertext": [
          "Tanzania",
          "Tanzania",
          "Tanzania",
          "Tanzania",
          "Tanzania",
          "Tanzania",
          "Tanzania",
          "Tanzania",
          "Tanzania",
          "Tanzania",
          "Tanzania",
          "Tanzania"
         ],
         "legendgroup": "Africa",
         "line": {
          "color": "#00cc96"
         },
         "mode": "lines",
         "name": "Africa",
         "orientation": "v",
         "showlegend": false,
         "stackgroup": "1",
         "type": "scatter",
         "x": [
          1952,
          1957,
          1962,
          1967,
          1972,
          1977,
          1982,
          1987,
          1992,
          1997,
          2002,
          2007
         ],
         "xaxis": "x",
         "y": [
          41.215,
          42.974,
          44.246,
          45.757,
          47.62,
          49.919,
          50.608000000000004,
          51.535,
          50.44,
          48.466,
          49.651,
          52.516999999999996
         ],
         "yaxis": "y"
        },
        {
         "hovertemplate": "<b>%{hovertext}</b><br><br>continent=Africa<br>country=Togo<br>year=%{x}<br>lifeExp=%{y}<extra></extra>",
         "hovertext": [
          "Togo",
          "Togo",
          "Togo",
          "Togo",
          "Togo",
          "Togo",
          "Togo",
          "Togo",
          "Togo",
          "Togo",
          "Togo",
          "Togo"
         ],
         "legendgroup": "Africa",
         "line": {
          "color": "#00cc96"
         },
         "mode": "lines",
         "name": "Africa",
         "orientation": "v",
         "showlegend": false,
         "stackgroup": "1",
         "type": "scatter",
         "x": [
          1952,
          1957,
          1962,
          1967,
          1972,
          1977,
          1982,
          1987,
          1992,
          1997,
          2002,
          2007
         ],
         "xaxis": "x",
         "y": [
          38.596,
          41.208,
          43.922,
          46.769,
          49.75899999999999,
          52.887,
          55.471000000000004,
          56.941,
          58.06100000000001,
          58.39,
          57.56100000000001,
          58.42
         ],
         "yaxis": "y"
        },
        {
         "hovertemplate": "<b>%{hovertext}</b><br><br>continent=Africa<br>country=Tunisia<br>year=%{x}<br>lifeExp=%{y}<extra></extra>",
         "hovertext": [
          "Tunisia",
          "Tunisia",
          "Tunisia",
          "Tunisia",
          "Tunisia",
          "Tunisia",
          "Tunisia",
          "Tunisia",
          "Tunisia",
          "Tunisia",
          "Tunisia",
          "Tunisia"
         ],
         "legendgroup": "Africa",
         "line": {
          "color": "#00cc96"
         },
         "mode": "lines",
         "name": "Africa",
         "orientation": "v",
         "showlegend": false,
         "stackgroup": "1",
         "type": "scatter",
         "x": [
          1952,
          1957,
          1962,
          1967,
          1972,
          1977,
          1982,
          1987,
          1992,
          1997,
          2002,
          2007
         ],
         "xaxis": "x",
         "y": [
          44.6,
          47.1,
          49.57899999999999,
          52.053000000000004,
          55.602,
          59.836999999999996,
          64.048,
          66.89399999999999,
          70.001,
          71.973,
          73.042,
          73.923
         ],
         "yaxis": "y"
        },
        {
         "hovertemplate": "<b>%{hovertext}</b><br><br>continent=Africa<br>country=Uganda<br>year=%{x}<br>lifeExp=%{y}<extra></extra>",
         "hovertext": [
          "Uganda",
          "Uganda",
          "Uganda",
          "Uganda",
          "Uganda",
          "Uganda",
          "Uganda",
          "Uganda",
          "Uganda",
          "Uganda",
          "Uganda",
          "Uganda"
         ],
         "legendgroup": "Africa",
         "line": {
          "color": "#00cc96"
         },
         "mode": "lines",
         "name": "Africa",
         "orientation": "v",
         "showlegend": false,
         "stackgroup": "1",
         "type": "scatter",
         "x": [
          1952,
          1957,
          1962,
          1967,
          1972,
          1977,
          1982,
          1987,
          1992,
          1997,
          2002,
          2007
         ],
         "xaxis": "x",
         "y": [
          39.978,
          42.571000000000005,
          45.343999999999994,
          48.051,
          51.016000000000005,
          50.35,
          49.849,
          51.50899999999999,
          48.825,
          44.578,
          47.813,
          51.542
         ],
         "yaxis": "y"
        },
        {
         "hovertemplate": "<b>%{hovertext}</b><br><br>continent=Africa<br>country=Zambia<br>year=%{x}<br>lifeExp=%{y}<extra></extra>",
         "hovertext": [
          "Zambia",
          "Zambia",
          "Zambia",
          "Zambia",
          "Zambia",
          "Zambia",
          "Zambia",
          "Zambia",
          "Zambia",
          "Zambia",
          "Zambia",
          "Zambia"
         ],
         "legendgroup": "Africa",
         "line": {
          "color": "#00cc96"
         },
         "mode": "lines",
         "name": "Africa",
         "orientation": "v",
         "showlegend": false,
         "stackgroup": "1",
         "type": "scatter",
         "x": [
          1952,
          1957,
          1962,
          1967,
          1972,
          1977,
          1982,
          1987,
          1992,
          1997,
          2002,
          2007
         ],
         "xaxis": "x",
         "y": [
          42.038000000000004,
          44.077,
          46.023,
          47.768,
          50.107,
          51.386,
          51.821000000000005,
          50.821000000000005,
          46.1,
          40.238,
          39.193000000000005,
          42.38399999999999
         ],
         "yaxis": "y"
        },
        {
         "hovertemplate": "<b>%{hovertext}</b><br><br>continent=Africa<br>country=Zimbabwe<br>year=%{x}<br>lifeExp=%{y}<extra></extra>",
         "hovertext": [
          "Zimbabwe",
          "Zimbabwe",
          "Zimbabwe",
          "Zimbabwe",
          "Zimbabwe",
          "Zimbabwe",
          "Zimbabwe",
          "Zimbabwe",
          "Zimbabwe",
          "Zimbabwe",
          "Zimbabwe",
          "Zimbabwe"
         ],
         "legendgroup": "Africa",
         "line": {
          "color": "#00cc96"
         },
         "mode": "lines",
         "name": "Africa",
         "orientation": "v",
         "showlegend": false,
         "stackgroup": "1",
         "type": "scatter",
         "x": [
          1952,
          1957,
          1962,
          1967,
          1972,
          1977,
          1982,
          1987,
          1992,
          1997,
          2002,
          2007
         ],
         "xaxis": "x",
         "y": [
          48.451,
          50.468999999999994,
          52.358000000000004,
          53.995,
          55.635,
          57.674,
          60.363,
          62.351000000000006,
          60.376999999999995,
          46.809,
          39.989000000000004,
          43.486999999999995
         ],
         "yaxis": "y"
        },
        {
         "hovertemplate": "<b>%{hovertext}</b><br><br>continent=Americas<br>country=Argentina<br>year=%{x}<br>lifeExp=%{y}<extra></extra>",
         "hovertext": [
          "Argentina",
          "Argentina",
          "Argentina",
          "Argentina",
          "Argentina",
          "Argentina",
          "Argentina",
          "Argentina",
          "Argentina",
          "Argentina",
          "Argentina",
          "Argentina"
         ],
         "legendgroup": "Americas",
         "line": {
          "color": "#ab63fa"
         },
         "mode": "lines",
         "name": "Americas",
         "orientation": "v",
         "showlegend": true,
         "stackgroup": "1",
         "type": "scatter",
         "x": [
          1952,
          1957,
          1962,
          1967,
          1972,
          1977,
          1982,
          1987,
          1992,
          1997,
          2002,
          2007
         ],
         "xaxis": "x",
         "y": [
          62.485,
          64.399,
          65.142,
          65.634,
          67.065,
          68.48100000000001,
          69.942,
          70.774,
          71.868,
          73.275,
          74.34,
          75.32
         ],
         "yaxis": "y"
        },
        {
         "hovertemplate": "<b>%{hovertext}</b><br><br>continent=Americas<br>country=Bolivia<br>year=%{x}<br>lifeExp=%{y}<extra></extra>",
         "hovertext": [
          "Bolivia",
          "Bolivia",
          "Bolivia",
          "Bolivia",
          "Bolivia",
          "Bolivia",
          "Bolivia",
          "Bolivia",
          "Bolivia",
          "Bolivia",
          "Bolivia",
          "Bolivia"
         ],
         "legendgroup": "Americas",
         "line": {
          "color": "#ab63fa"
         },
         "mode": "lines",
         "name": "Americas",
         "orientation": "v",
         "showlegend": false,
         "stackgroup": "1",
         "type": "scatter",
         "x": [
          1952,
          1957,
          1962,
          1967,
          1972,
          1977,
          1982,
          1987,
          1992,
          1997,
          2002,
          2007
         ],
         "xaxis": "x",
         "y": [
          40.414,
          41.89,
          43.428000000000004,
          45.032,
          46.714,
          50.023,
          53.858999999999995,
          57.251000000000005,
          59.957,
          62.05,
          63.883,
          65.554
         ],
         "yaxis": "y"
        },
        {
         "hovertemplate": "<b>%{hovertext}</b><br><br>continent=Americas<br>country=Brazil<br>year=%{x}<br>lifeExp=%{y}<extra></extra>",
         "hovertext": [
          "Brazil",
          "Brazil",
          "Brazil",
          "Brazil",
          "Brazil",
          "Brazil",
          "Brazil",
          "Brazil",
          "Brazil",
          "Brazil",
          "Brazil",
          "Brazil"
         ],
         "legendgroup": "Americas",
         "line": {
          "color": "#ab63fa"
         },
         "mode": "lines",
         "name": "Americas",
         "orientation": "v",
         "showlegend": false,
         "stackgroup": "1",
         "type": "scatter",
         "x": [
          1952,
          1957,
          1962,
          1967,
          1972,
          1977,
          1982,
          1987,
          1992,
          1997,
          2002,
          2007
         ],
         "xaxis": "x",
         "y": [
          50.917,
          53.285,
          55.665,
          57.632,
          59.504,
          61.489,
          63.336000000000006,
          65.205,
          67.057,
          69.388,
          71.006,
          72.39
         ],
         "yaxis": "y"
        },
        {
         "hovertemplate": "<b>%{hovertext}</b><br><br>continent=Americas<br>country=Canada<br>year=%{x}<br>lifeExp=%{y}<extra></extra>",
         "hovertext": [
          "Canada",
          "Canada",
          "Canada",
          "Canada",
          "Canada",
          "Canada",
          "Canada",
          "Canada",
          "Canada",
          "Canada",
          "Canada",
          "Canada"
         ],
         "legendgroup": "Americas",
         "line": {
          "color": "#ab63fa"
         },
         "mode": "lines",
         "name": "Americas",
         "orientation": "v",
         "showlegend": false,
         "stackgroup": "1",
         "type": "scatter",
         "x": [
          1952,
          1957,
          1962,
          1967,
          1972,
          1977,
          1982,
          1987,
          1992,
          1997,
          2002,
          2007
         ],
         "xaxis": "x",
         "y": [
          68.75,
          69.96,
          71.3,
          72.13,
          72.88,
          74.21,
          75.76,
          76.86,
          77.95,
          78.61,
          79.77,
          80.653
         ],
         "yaxis": "y"
        },
        {
         "hovertemplate": "<b>%{hovertext}</b><br><br>continent=Americas<br>country=Chile<br>year=%{x}<br>lifeExp=%{y}<extra></extra>",
         "hovertext": [
          "Chile",
          "Chile",
          "Chile",
          "Chile",
          "Chile",
          "Chile",
          "Chile",
          "Chile",
          "Chile",
          "Chile",
          "Chile",
          "Chile"
         ],
         "legendgroup": "Americas",
         "line": {
          "color": "#ab63fa"
         },
         "mode": "lines",
         "name": "Americas",
         "orientation": "v",
         "showlegend": false,
         "stackgroup": "1",
         "type": "scatter",
         "x": [
          1952,
          1957,
          1962,
          1967,
          1972,
          1977,
          1982,
          1987,
          1992,
          1997,
          2002,
          2007
         ],
         "xaxis": "x",
         "y": [
          54.745,
          56.074,
          57.924,
          60.523,
          63.441,
          67.05199999999999,
          70.565,
          72.492,
          74.126,
          75.816,
          77.86,
          78.553
         ],
         "yaxis": "y"
        },
        {
         "hovertemplate": "<b>%{hovertext}</b><br><br>continent=Americas<br>country=Colombia<br>year=%{x}<br>lifeExp=%{y}<extra></extra>",
         "hovertext": [
          "Colombia",
          "Colombia",
          "Colombia",
          "Colombia",
          "Colombia",
          "Colombia",
          "Colombia",
          "Colombia",
          "Colombia",
          "Colombia",
          "Colombia",
          "Colombia"
         ],
         "legendgroup": "Americas",
         "line": {
          "color": "#ab63fa"
         },
         "mode": "lines",
         "name": "Americas",
         "orientation": "v",
         "showlegend": false,
         "stackgroup": "1",
         "type": "scatter",
         "x": [
          1952,
          1957,
          1962,
          1967,
          1972,
          1977,
          1982,
          1987,
          1992,
          1997,
          2002,
          2007
         ],
         "xaxis": "x",
         "y": [
          50.643,
          55.118,
          57.863,
          59.963,
          61.623000000000005,
          63.836999999999996,
          66.653,
          67.768,
          68.421,
          70.313,
          71.682,
          72.889
         ],
         "yaxis": "y"
        },
        {
         "hovertemplate": "<b>%{hovertext}</b><br><br>continent=Americas<br>country=Costa Rica<br>year=%{x}<br>lifeExp=%{y}<extra></extra>",
         "hovertext": [
          "Costa Rica",
          "Costa Rica",
          "Costa Rica",
          "Costa Rica",
          "Costa Rica",
          "Costa Rica",
          "Costa Rica",
          "Costa Rica",
          "Costa Rica",
          "Costa Rica",
          "Costa Rica",
          "Costa Rica"
         ],
         "legendgroup": "Americas",
         "line": {
          "color": "#ab63fa"
         },
         "mode": "lines",
         "name": "Americas",
         "orientation": "v",
         "showlegend": false,
         "stackgroup": "1",
         "type": "scatter",
         "x": [
          1952,
          1957,
          1962,
          1967,
          1972,
          1977,
          1982,
          1987,
          1992,
          1997,
          2002,
          2007
         ],
         "xaxis": "x",
         "y": [
          57.206,
          60.026,
          62.842,
          65.42399999999999,
          67.84899999999999,
          70.75,
          73.45,
          74.752,
          75.71300000000001,
          77.26,
          78.123,
          78.782
         ],
         "yaxis": "y"
        },
        {
         "hovertemplate": "<b>%{hovertext}</b><br><br>continent=Americas<br>country=Cuba<br>year=%{x}<br>lifeExp=%{y}<extra></extra>",
         "hovertext": [
          "Cuba",
          "Cuba",
          "Cuba",
          "Cuba",
          "Cuba",
          "Cuba",
          "Cuba",
          "Cuba",
          "Cuba",
          "Cuba",
          "Cuba",
          "Cuba"
         ],
         "legendgroup": "Americas",
         "line": {
          "color": "#ab63fa"
         },
         "mode": "lines",
         "name": "Americas",
         "orientation": "v",
         "showlegend": false,
         "stackgroup": "1",
         "type": "scatter",
         "x": [
          1952,
          1957,
          1962,
          1967,
          1972,
          1977,
          1982,
          1987,
          1992,
          1997,
          2002,
          2007
         ],
         "xaxis": "x",
         "y": [
          59.42100000000001,
          62.325,
          65.24600000000001,
          68.29,
          70.723,
          72.649,
          73.717,
          74.17399999999999,
          74.414,
          76.15100000000001,
          77.158,
          78.273
         ],
         "yaxis": "y"
        },
        {
         "hovertemplate": "<b>%{hovertext}</b><br><br>continent=Americas<br>country=Dominican Republic<br>year=%{x}<br>lifeExp=%{y}<extra></extra>",
         "hovertext": [
          "Dominican Republic",
          "Dominican Republic",
          "Dominican Republic",
          "Dominican Republic",
          "Dominican Republic",
          "Dominican Republic",
          "Dominican Republic",
          "Dominican Republic",
          "Dominican Republic",
          "Dominican Republic",
          "Dominican Republic",
          "Dominican Republic"
         ],
         "legendgroup": "Americas",
         "line": {
          "color": "#ab63fa"
         },
         "mode": "lines",
         "name": "Americas",
         "orientation": "v",
         "showlegend": false,
         "stackgroup": "1",
         "type": "scatter",
         "x": [
          1952,
          1957,
          1962,
          1967,
          1972,
          1977,
          1982,
          1987,
          1992,
          1997,
          2002,
          2007
         ],
         "xaxis": "x",
         "y": [
          45.928000000000004,
          49.828,
          53.458999999999996,
          56.751000000000005,
          59.631,
          61.788000000000004,
          63.727,
          66.046,
          68.457,
          69.957,
          70.847,
          72.235
         ],
         "yaxis": "y"
        },
        {
         "hovertemplate": "<b>%{hovertext}</b><br><br>continent=Americas<br>country=Ecuador<br>year=%{x}<br>lifeExp=%{y}<extra></extra>",
         "hovertext": [
          "Ecuador",
          "Ecuador",
          "Ecuador",
          "Ecuador",
          "Ecuador",
          "Ecuador",
          "Ecuador",
          "Ecuador",
          "Ecuador",
          "Ecuador",
          "Ecuador",
          "Ecuador"
         ],
         "legendgroup": "Americas",
         "line": {
          "color": "#ab63fa"
         },
         "mode": "lines",
         "name": "Americas",
         "orientation": "v",
         "showlegend": false,
         "stackgroup": "1",
         "type": "scatter",
         "x": [
          1952,
          1957,
          1962,
          1967,
          1972,
          1977,
          1982,
          1987,
          1992,
          1997,
          2002,
          2007
         ],
         "xaxis": "x",
         "y": [
          48.357,
          51.356,
          54.64,
          56.678000000000004,
          58.79600000000001,
          61.31,
          64.342,
          67.23100000000001,
          69.613,
          72.312,
          74.173,
          74.994
         ],
         "yaxis": "y"
        },
        {
         "hovertemplate": "<b>%{hovertext}</b><br><br>continent=Americas<br>country=El Salvador<br>year=%{x}<br>lifeExp=%{y}<extra></extra>",
         "hovertext": [
          "El Salvador",
          "El Salvador",
          "El Salvador",
          "El Salvador",
          "El Salvador",
          "El Salvador",
          "El Salvador",
          "El Salvador",
          "El Salvador",
          "El Salvador",
          "El Salvador",
          "El Salvador"
         ],
         "legendgroup": "Americas",
         "line": {
          "color": "#ab63fa"
         },
         "mode": "lines",
         "name": "Americas",
         "orientation": "v",
         "showlegend": false,
         "stackgroup": "1",
         "type": "scatter",
         "x": [
          1952,
          1957,
          1962,
          1967,
          1972,
          1977,
          1982,
          1987,
          1992,
          1997,
          2002,
          2007
         ],
         "xaxis": "x",
         "y": [
          45.262,
          48.57,
          52.306999999999995,
          55.855,
          58.207,
          56.696000000000005,
          56.604,
          63.153999999999996,
          66.798,
          69.535,
          70.734,
          71.878
         ],
         "yaxis": "y"
        },
        {
         "hovertemplate": "<b>%{hovertext}</b><br><br>continent=Americas<br>country=Guatemala<br>year=%{x}<br>lifeExp=%{y}<extra></extra>",
         "hovertext": [
          "Guatemala",
          "Guatemala",
          "Guatemala",
          "Guatemala",
          "Guatemala",
          "Guatemala",
          "Guatemala",
          "Guatemala",
          "Guatemala",
          "Guatemala",
          "Guatemala",
          "Guatemala"
         ],
         "legendgroup": "Americas",
         "line": {
          "color": "#ab63fa"
         },
         "mode": "lines",
         "name": "Americas",
         "orientation": "v",
         "showlegend": false,
         "stackgroup": "1",
         "type": "scatter",
         "x": [
          1952,
          1957,
          1962,
          1967,
          1972,
          1977,
          1982,
          1987,
          1992,
          1997,
          2002,
          2007
         ],
         "xaxis": "x",
         "y": [
          42.023,
          44.141999999999996,
          46.95399999999999,
          50.016000000000005,
          53.738,
          56.028999999999996,
          58.137,
          60.782,
          63.373000000000005,
          66.322,
          68.97800000000001,
          70.259
         ],
         "yaxis": "y"
        },
        {
         "hovertemplate": "<b>%{hovertext}</b><br><br>continent=Americas<br>country=Haiti<br>year=%{x}<br>lifeExp=%{y}<extra></extra>",
         "hovertext": [
          "Haiti",
          "Haiti",
          "Haiti",
          "Haiti",
          "Haiti",
          "Haiti",
          "Haiti",
          "Haiti",
          "Haiti",
          "Haiti",
          "Haiti",
          "Haiti"
         ],
         "legendgroup": "Americas",
         "line": {
          "color": "#ab63fa"
         },
         "mode": "lines",
         "name": "Americas",
         "orientation": "v",
         "showlegend": false,
         "stackgroup": "1",
         "type": "scatter",
         "x": [
          1952,
          1957,
          1962,
          1967,
          1972,
          1977,
          1982,
          1987,
          1992,
          1997,
          2002,
          2007
         ],
         "xaxis": "x",
         "y": [
          37.579,
          40.696,
          43.59,
          46.243,
          48.042,
          49.923,
          51.461000000000006,
          53.636,
          55.089,
          56.67100000000001,
          58.137,
          60.916000000000004
         ],
         "yaxis": "y"
        },
        {
         "hovertemplate": "<b>%{hovertext}</b><br><br>continent=Americas<br>country=Honduras<br>year=%{x}<br>lifeExp=%{y}<extra></extra>",
         "hovertext": [
          "Honduras",
          "Honduras",
          "Honduras",
          "Honduras",
          "Honduras",
          "Honduras",
          "Honduras",
          "Honduras",
          "Honduras",
          "Honduras",
          "Honduras",
          "Honduras"
         ],
         "legendgroup": "Americas",
         "line": {
          "color": "#ab63fa"
         },
         "mode": "lines",
         "name": "Americas",
         "orientation": "v",
         "showlegend": false,
         "stackgroup": "1",
         "type": "scatter",
         "x": [
          1952,
          1957,
          1962,
          1967,
          1972,
          1977,
          1982,
          1987,
          1992,
          1997,
          2002,
          2007
         ],
         "xaxis": "x",
         "y": [
          41.912,
          44.665,
          48.041000000000004,
          50.924,
          53.88399999999999,
          57.402,
          60.909,
          64.492,
          66.399,
          67.65899999999999,
          68.565,
          70.19800000000001
         ],
         "yaxis": "y"
        },
        {
         "hovertemplate": "<b>%{hovertext}</b><br><br>continent=Americas<br>country=Jamaica<br>year=%{x}<br>lifeExp=%{y}<extra></extra>",
         "hovertext": [
          "Jamaica",
          "Jamaica",
          "Jamaica",
          "Jamaica",
          "Jamaica",
          "Jamaica",
          "Jamaica",
          "Jamaica",
          "Jamaica",
          "Jamaica",
          "Jamaica",
          "Jamaica"
         ],
         "legendgroup": "Americas",
         "line": {
          "color": "#ab63fa"
         },
         "mode": "lines",
         "name": "Americas",
         "orientation": "v",
         "showlegend": false,
         "stackgroup": "1",
         "type": "scatter",
         "x": [
          1952,
          1957,
          1962,
          1967,
          1972,
          1977,
          1982,
          1987,
          1992,
          1997,
          2002,
          2007
         ],
         "xaxis": "x",
         "y": [
          58.53,
          62.61,
          65.61,
          67.51,
          69,
          70.11,
          71.21,
          71.77,
          71.766,
          72.262,
          72.047,
          72.567
         ],
         "yaxis": "y"
        },
        {
         "hovertemplate": "<b>%{hovertext}</b><br><br>continent=Americas<br>country=Mexico<br>year=%{x}<br>lifeExp=%{y}<extra></extra>",
         "hovertext": [
          "Mexico",
          "Mexico",
          "Mexico",
          "Mexico",
          "Mexico",
          "Mexico",
          "Mexico",
          "Mexico",
          "Mexico",
          "Mexico",
          "Mexico",
          "Mexico"
         ],
         "legendgroup": "Americas",
         "line": {
          "color": "#ab63fa"
         },
         "mode": "lines",
         "name": "Americas",
         "orientation": "v",
         "showlegend": false,
         "stackgroup": "1",
         "type": "scatter",
         "x": [
          1952,
          1957,
          1962,
          1967,
          1972,
          1977,
          1982,
          1987,
          1992,
          1997,
          2002,
          2007
         ],
         "xaxis": "x",
         "y": [
          50.788999999999994,
          55.19,
          58.299,
          60.11,
          62.361000000000004,
          65.032,
          67.405,
          69.498,
          71.455,
          73.67,
          74.902,
          76.195
         ],
         "yaxis": "y"
        },
        {
         "hovertemplate": "<b>%{hovertext}</b><br><br>continent=Americas<br>country=Nicaragua<br>year=%{x}<br>lifeExp=%{y}<extra></extra>",
         "hovertext": [
          "Nicaragua",
          "Nicaragua",
          "Nicaragua",
          "Nicaragua",
          "Nicaragua",
          "Nicaragua",
          "Nicaragua",
          "Nicaragua",
          "Nicaragua",
          "Nicaragua",
          "Nicaragua",
          "Nicaragua"
         ],
         "legendgroup": "Americas",
         "line": {
          "color": "#ab63fa"
         },
         "mode": "lines",
         "name": "Americas",
         "orientation": "v",
         "showlegend": false,
         "stackgroup": "1",
         "type": "scatter",
         "x": [
          1952,
          1957,
          1962,
          1967,
          1972,
          1977,
          1982,
          1987,
          1992,
          1997,
          2002,
          2007
         ],
         "xaxis": "x",
         "y": [
          42.31399999999999,
          45.431999999999995,
          48.632,
          51.88399999999999,
          55.151,
          57.47,
          59.298,
          62.008,
          65.843,
          68.426,
          70.836,
          72.899
         ],
         "yaxis": "y"
        },
        {
         "hovertemplate": "<b>%{hovertext}</b><br><br>continent=Americas<br>country=Panama<br>year=%{x}<br>lifeExp=%{y}<extra></extra>",
         "hovertext": [
          "Panama",
          "Panama",
          "Panama",
          "Panama",
          "Panama",
          "Panama",
          "Panama",
          "Panama",
          "Panama",
          "Panama",
          "Panama",
          "Panama"
         ],
         "legendgroup": "Americas",
         "line": {
          "color": "#ab63fa"
         },
         "mode": "lines",
         "name": "Americas",
         "orientation": "v",
         "showlegend": false,
         "stackgroup": "1",
         "type": "scatter",
         "x": [
          1952,
          1957,
          1962,
          1967,
          1972,
          1977,
          1982,
          1987,
          1992,
          1997,
          2002,
          2007
         ],
         "xaxis": "x",
         "y": [
          55.191,
          59.201,
          61.817,
          64.071,
          66.21600000000001,
          68.681,
          70.472,
          71.523,
          72.462,
          73.738,
          74.712,
          75.53699999999999
         ],
         "yaxis": "y"
        },
        {
         "hovertemplate": "<b>%{hovertext}</b><br><br>continent=Americas<br>country=Paraguay<br>year=%{x}<br>lifeExp=%{y}<extra></extra>",
         "hovertext": [
          "Paraguay",
          "Paraguay",
          "Paraguay",
          "Paraguay",
          "Paraguay",
          "Paraguay",
          "Paraguay",
          "Paraguay",
          "Paraguay",
          "Paraguay",
          "Paraguay",
          "Paraguay"
         ],
         "legendgroup": "Americas",
         "line": {
          "color": "#ab63fa"
         },
         "mode": "lines",
         "name": "Americas",
         "orientation": "v",
         "showlegend": false,
         "stackgroup": "1",
         "type": "scatter",
         "x": [
          1952,
          1957,
          1962,
          1967,
          1972,
          1977,
          1982,
          1987,
          1992,
          1997,
          2002,
          2007
         ],
         "xaxis": "x",
         "y": [
          62.648999999999994,
          63.196000000000005,
          64.361,
          64.95100000000001,
          65.815,
          66.35300000000001,
          66.874,
          67.378,
          68.225,
          69.4,
          70.755,
          71.752
         ],
         "yaxis": "y"
        },
        {
         "hovertemplate": "<b>%{hovertext}</b><br><br>continent=Americas<br>country=Peru<br>year=%{x}<br>lifeExp=%{y}<extra></extra>",
         "hovertext": [
          "Peru",
          "Peru",
          "Peru",
          "Peru",
          "Peru",
          "Peru",
          "Peru",
          "Peru",
          "Peru",
          "Peru",
          "Peru",
          "Peru"
         ],
         "legendgroup": "Americas",
         "line": {
          "color": "#ab63fa"
         },
         "mode": "lines",
         "name": "Americas",
         "orientation": "v",
         "showlegend": false,
         "stackgroup": "1",
         "type": "scatter",
         "x": [
          1952,
          1957,
          1962,
          1967,
          1972,
          1977,
          1982,
          1987,
          1992,
          1997,
          2002,
          2007
         ],
         "xaxis": "x",
         "y": [
          43.902,
          46.263000000000005,
          49.096000000000004,
          51.445,
          55.448,
          58.446999999999996,
          61.406000000000006,
          64.134,
          66.458,
          68.38600000000001,
          69.906,
          71.421
         ],
         "yaxis": "y"
        },
        {
         "hovertemplate": "<b>%{hovertext}</b><br><br>continent=Americas<br>country=Puerto Rico<br>year=%{x}<br>lifeExp=%{y}<extra></extra>",
         "hovertext": [
          "Puerto Rico",
          "Puerto Rico",
          "Puerto Rico",
          "Puerto Rico",
          "Puerto Rico",
          "Puerto Rico",
          "Puerto Rico",
          "Puerto Rico",
          "Puerto Rico",
          "Puerto Rico",
          "Puerto Rico",
          "Puerto Rico"
         ],
         "legendgroup": "Americas",
         "line": {
          "color": "#ab63fa"
         },
         "mode": "lines",
         "name": "Americas",
         "orientation": "v",
         "showlegend": false,
         "stackgroup": "1",
         "type": "scatter",
         "x": [
          1952,
          1957,
          1962,
          1967,
          1972,
          1977,
          1982,
          1987,
          1992,
          1997,
          2002,
          2007
         ],
         "xaxis": "x",
         "y": [
          64.28,
          68.54,
          69.62,
          71.1,
          72.16,
          73.44,
          73.75,
          74.63,
          73.911,
          74.917,
          77.778,
          78.74600000000001
         ],
         "yaxis": "y"
        },
        {
         "hovertemplate": "<b>%{hovertext}</b><br><br>continent=Americas<br>country=Trinidad and Tobago<br>year=%{x}<br>lifeExp=%{y}<extra></extra>",
         "hovertext": [
          "Trinidad and Tobago",
          "Trinidad and Tobago",
          "Trinidad and Tobago",
          "Trinidad and Tobago",
          "Trinidad and Tobago",
          "Trinidad and Tobago",
          "Trinidad and Tobago",
          "Trinidad and Tobago",
          "Trinidad and Tobago",
          "Trinidad and Tobago",
          "Trinidad and Tobago",
          "Trinidad and Tobago"
         ],
         "legendgroup": "Americas",
         "line": {
          "color": "#ab63fa"
         },
         "mode": "lines",
         "name": "Americas",
         "orientation": "v",
         "showlegend": false,
         "stackgroup": "1",
         "type": "scatter",
         "x": [
          1952,
          1957,
          1962,
          1967,
          1972,
          1977,
          1982,
          1987,
          1992,
          1997,
          2002,
          2007
         ],
         "xaxis": "x",
         "y": [
          59.1,
          61.8,
          64.9,
          65.4,
          65.9,
          68.3,
          68.832,
          69.582,
          69.862,
          69.465,
          68.976,
          69.819
         ],
         "yaxis": "y"
        },
        {
         "hovertemplate": "<b>%{hovertext}</b><br><br>continent=Americas<br>country=United States<br>year=%{x}<br>lifeExp=%{y}<extra></extra>",
         "hovertext": [
          "United States",
          "United States",
          "United States",
          "United States",
          "United States",
          "United States",
          "United States",
          "United States",
          "United States",
          "United States",
          "United States",
          "United States"
         ],
         "legendgroup": "Americas",
         "line": {
          "color": "#ab63fa"
         },
         "mode": "lines",
         "name": "Americas",
         "orientation": "v",
         "showlegend": false,
         "stackgroup": "1",
         "type": "scatter",
         "x": [
          1952,
          1957,
          1962,
          1967,
          1972,
          1977,
          1982,
          1987,
          1992,
          1997,
          2002,
          2007
         ],
         "xaxis": "x",
         "y": [
          68.44,
          69.49,
          70.21,
          70.76,
          71.34,
          73.38,
          74.65,
          75.02,
          76.09,
          76.81,
          77.31,
          78.242
         ],
         "yaxis": "y"
        },
        {
         "hovertemplate": "<b>%{hovertext}</b><br><br>continent=Americas<br>country=Uruguay<br>year=%{x}<br>lifeExp=%{y}<extra></extra>",
         "hovertext": [
          "Uruguay",
          "Uruguay",
          "Uruguay",
          "Uruguay",
          "Uruguay",
          "Uruguay",
          "Uruguay",
          "Uruguay",
          "Uruguay",
          "Uruguay",
          "Uruguay",
          "Uruguay"
         ],
         "legendgroup": "Americas",
         "line": {
          "color": "#ab63fa"
         },
         "mode": "lines",
         "name": "Americas",
         "orientation": "v",
         "showlegend": false,
         "stackgroup": "1",
         "type": "scatter",
         "x": [
          1952,
          1957,
          1962,
          1967,
          1972,
          1977,
          1982,
          1987,
          1992,
          1997,
          2002,
          2007
         ],
         "xaxis": "x",
         "y": [
          66.071,
          67.044,
          68.253,
          68.468,
          68.673,
          69.48100000000001,
          70.805,
          71.918,
          72.752,
          74.223,
          75.307,
          76.384
         ],
         "yaxis": "y"
        },
        {
         "hovertemplate": "<b>%{hovertext}</b><br><br>continent=Americas<br>country=Venezuela<br>year=%{x}<br>lifeExp=%{y}<extra></extra>",
         "hovertext": [
          "Venezuela",
          "Venezuela",
          "Venezuela",
          "Venezuela",
          "Venezuela",
          "Venezuela",
          "Venezuela",
          "Venezuela",
          "Venezuela",
          "Venezuela",
          "Venezuela",
          "Venezuela"
         ],
         "legendgroup": "Americas",
         "line": {
          "color": "#ab63fa"
         },
         "mode": "lines",
         "name": "Americas",
         "orientation": "v",
         "showlegend": false,
         "stackgroup": "1",
         "type": "scatter",
         "x": [
          1952,
          1957,
          1962,
          1967,
          1972,
          1977,
          1982,
          1987,
          1992,
          1997,
          2002,
          2007
         ],
         "xaxis": "x",
         "y": [
          55.088,
          57.907,
          60.77,
          63.479,
          65.712,
          67.456,
          68.557,
          70.19,
          71.15,
          72.146,
          72.766,
          73.747
         ],
         "yaxis": "y"
        },
        {
         "hovertemplate": "<b>%{hovertext}</b><br><br>continent=Oceania<br>country=Australia<br>year=%{x}<br>lifeExp=%{y}<extra></extra>",
         "hovertext": [
          "Australia",
          "Australia",
          "Australia",
          "Australia",
          "Australia",
          "Australia",
          "Australia",
          "Australia",
          "Australia",
          "Australia",
          "Australia",
          "Australia"
         ],
         "legendgroup": "Oceania",
         "line": {
          "color": "#FFA15A"
         },
         "mode": "lines",
         "name": "Oceania",
         "orientation": "v",
         "showlegend": true,
         "stackgroup": "1",
         "type": "scatter",
         "x": [
          1952,
          1957,
          1962,
          1967,
          1972,
          1977,
          1982,
          1987,
          1992,
          1997,
          2002,
          2007
         ],
         "xaxis": "x",
         "y": [
          69.12,
          70.33,
          70.93,
          71.1,
          71.93,
          73.49,
          74.74,
          76.32,
          77.56,
          78.83,
          80.37,
          81.235
         ],
         "yaxis": "y"
        },
        {
         "hovertemplate": "<b>%{hovertext}</b><br><br>continent=Oceania<br>country=New Zealand<br>year=%{x}<br>lifeExp=%{y}<extra></extra>",
         "hovertext": [
          "New Zealand",
          "New Zealand",
          "New Zealand",
          "New Zealand",
          "New Zealand",
          "New Zealand",
          "New Zealand",
          "New Zealand",
          "New Zealand",
          "New Zealand",
          "New Zealand",
          "New Zealand"
         ],
         "legendgroup": "Oceania",
         "line": {
          "color": "#FFA15A"
         },
         "mode": "lines",
         "name": "Oceania",
         "orientation": "v",
         "showlegend": false,
         "stackgroup": "1",
         "type": "scatter",
         "x": [
          1952,
          1957,
          1962,
          1967,
          1972,
          1977,
          1982,
          1987,
          1992,
          1997,
          2002,
          2007
         ],
         "xaxis": "x",
         "y": [
          69.39,
          70.26,
          71.24,
          71.52,
          71.89,
          72.22,
          73.84,
          74.32,
          76.33,
          77.55,
          79.11,
          80.204
         ],
         "yaxis": "y"
        }
       ],
       "layout": {
        "legend": {
         "title": {
          "text": "continent"
         },
         "tracegroupgap": 0
        },
        "margin": {
         "t": 60
        },
        "template": {
         "data": {
          "bar": [
           {
            "error_x": {
             "color": "#2a3f5f"
            },
            "error_y": {
             "color": "#2a3f5f"
            },
            "marker": {
             "line": {
              "color": "#E5ECF6",
              "width": 0.5
             }
            },
            "type": "bar"
           }
          ],
          "barpolar": [
           {
            "marker": {
             "line": {
              "color": "#E5ECF6",
              "width": 0.5
             }
            },
            "type": "barpolar"
           }
          ],
          "carpet": [
           {
            "aaxis": {
             "endlinecolor": "#2a3f5f",
             "gridcolor": "white",
             "linecolor": "white",
             "minorgridcolor": "white",
             "startlinecolor": "#2a3f5f"
            },
            "baxis": {
             "endlinecolor": "#2a3f5f",
             "gridcolor": "white",
             "linecolor": "white",
             "minorgridcolor": "white",
             "startlinecolor": "#2a3f5f"
            },
            "type": "carpet"
           }
          ],
          "choropleth": [
           {
            "colorbar": {
             "outlinewidth": 0,
             "ticks": ""
            },
            "type": "choropleth"
           }
          ],
          "contour": [
           {
            "colorbar": {
             "outlinewidth": 0,
             "ticks": ""
            },
            "colorscale": [
             [
              0,
              "#0d0887"
             ],
             [
              0.1111111111111111,
              "#46039f"
             ],
             [
              0.2222222222222222,
              "#7201a8"
             ],
             [
              0.3333333333333333,
              "#9c179e"
             ],
             [
              0.4444444444444444,
              "#bd3786"
             ],
             [
              0.5555555555555556,
              "#d8576b"
             ],
             [
              0.6666666666666666,
              "#ed7953"
             ],
             [
              0.7777777777777778,
              "#fb9f3a"
             ],
             [
              0.8888888888888888,
              "#fdca26"
             ],
             [
              1,
              "#f0f921"
             ]
            ],
            "type": "contour"
           }
          ],
          "contourcarpet": [
           {
            "colorbar": {
             "outlinewidth": 0,
             "ticks": ""
            },
            "type": "contourcarpet"
           }
          ],
          "heatmap": [
           {
            "colorbar": {
             "outlinewidth": 0,
             "ticks": ""
            },
            "colorscale": [
             [
              0,
              "#0d0887"
             ],
             [
              0.1111111111111111,
              "#46039f"
             ],
             [
              0.2222222222222222,
              "#7201a8"
             ],
             [
              0.3333333333333333,
              "#9c179e"
             ],
             [
              0.4444444444444444,
              "#bd3786"
             ],
             [
              0.5555555555555556,
              "#d8576b"
             ],
             [
              0.6666666666666666,
              "#ed7953"
             ],
             [
              0.7777777777777778,
              "#fb9f3a"
             ],
             [
              0.8888888888888888,
              "#fdca26"
             ],
             [
              1,
              "#f0f921"
             ]
            ],
            "type": "heatmap"
           }
          ],
          "heatmapgl": [
           {
            "colorbar": {
             "outlinewidth": 0,
             "ticks": ""
            },
            "colorscale": [
             [
              0,
              "#0d0887"
             ],
             [
              0.1111111111111111,
              "#46039f"
             ],
             [
              0.2222222222222222,
              "#7201a8"
             ],
             [
              0.3333333333333333,
              "#9c179e"
             ],
             [
              0.4444444444444444,
              "#bd3786"
             ],
             [
              0.5555555555555556,
              "#d8576b"
             ],
             [
              0.6666666666666666,
              "#ed7953"
             ],
             [
              0.7777777777777778,
              "#fb9f3a"
             ],
             [
              0.8888888888888888,
              "#fdca26"
             ],
             [
              1,
              "#f0f921"
             ]
            ],
            "type": "heatmapgl"
           }
          ],
          "histogram": [
           {
            "marker": {
             "colorbar": {
              "outlinewidth": 0,
              "ticks": ""
             }
            },
            "type": "histogram"
           }
          ],
          "histogram2d": [
           {
            "colorbar": {
             "outlinewidth": 0,
             "ticks": ""
            },
            "colorscale": [
             [
              0,
              "#0d0887"
             ],
             [
              0.1111111111111111,
              "#46039f"
             ],
             [
              0.2222222222222222,
              "#7201a8"
             ],
             [
              0.3333333333333333,
              "#9c179e"
             ],
             [
              0.4444444444444444,
              "#bd3786"
             ],
             [
              0.5555555555555556,
              "#d8576b"
             ],
             [
              0.6666666666666666,
              "#ed7953"
             ],
             [
              0.7777777777777778,
              "#fb9f3a"
             ],
             [
              0.8888888888888888,
              "#fdca26"
             ],
             [
              1,
              "#f0f921"
             ]
            ],
            "type": "histogram2d"
           }
          ],
          "histogram2dcontour": [
           {
            "colorbar": {
             "outlinewidth": 0,
             "ticks": ""
            },
            "colorscale": [
             [
              0,
              "#0d0887"
             ],
             [
              0.1111111111111111,
              "#46039f"
             ],
             [
              0.2222222222222222,
              "#7201a8"
             ],
             [
              0.3333333333333333,
              "#9c179e"
             ],
             [
              0.4444444444444444,
              "#bd3786"
             ],
             [
              0.5555555555555556,
              "#d8576b"
             ],
             [
              0.6666666666666666,
              "#ed7953"
             ],
             [
              0.7777777777777778,
              "#fb9f3a"
             ],
             [
              0.8888888888888888,
              "#fdca26"
             ],
             [
              1,
              "#f0f921"
             ]
            ],
            "type": "histogram2dcontour"
           }
          ],
          "mesh3d": [
           {
            "colorbar": {
             "outlinewidth": 0,
             "ticks": ""
            },
            "type": "mesh3d"
           }
          ],
          "parcoords": [
           {
            "line": {
             "colorbar": {
              "outlinewidth": 0,
              "ticks": ""
             }
            },
            "type": "parcoords"
           }
          ],
          "pie": [
           {
            "automargin": true,
            "type": "pie"
           }
          ],
          "scatter": [
           {
            "marker": {
             "colorbar": {
              "outlinewidth": 0,
              "ticks": ""
             }
            },
            "type": "scatter"
           }
          ],
          "scatter3d": [
           {
            "line": {
             "colorbar": {
              "outlinewidth": 0,
              "ticks": ""
             }
            },
            "marker": {
             "colorbar": {
              "outlinewidth": 0,
              "ticks": ""
             }
            },
            "type": "scatter3d"
           }
          ],
          "scattercarpet": [
           {
            "marker": {
             "colorbar": {
              "outlinewidth": 0,
              "ticks": ""
             }
            },
            "type": "scattercarpet"
           }
          ],
          "scattergeo": [
           {
            "marker": {
             "colorbar": {
              "outlinewidth": 0,
              "ticks": ""
             }
            },
            "type": "scattergeo"
           }
          ],
          "scattergl": [
           {
            "marker": {
             "colorbar": {
              "outlinewidth": 0,
              "ticks": ""
             }
            },
            "type": "scattergl"
           }
          ],
          "scattermapbox": [
           {
            "marker": {
             "colorbar": {
              "outlinewidth": 0,
              "ticks": ""
             }
            },
            "type": "scattermapbox"
           }
          ],
          "scatterpolar": [
           {
            "marker": {
             "colorbar": {
              "outlinewidth": 0,
              "ticks": ""
             }
            },
            "type": "scatterpolar"
           }
          ],
          "scatterpolargl": [
           {
            "marker": {
             "colorbar": {
              "outlinewidth": 0,
              "ticks": ""
             }
            },
            "type": "scatterpolargl"
           }
          ],
          "scatterternary": [
           {
            "marker": {
             "colorbar": {
              "outlinewidth": 0,
              "ticks": ""
             }
            },
            "type": "scatterternary"
           }
          ],
          "surface": [
           {
            "colorbar": {
             "outlinewidth": 0,
             "ticks": ""
            },
            "colorscale": [
             [
              0,
              "#0d0887"
             ],
             [
              0.1111111111111111,
              "#46039f"
             ],
             [
              0.2222222222222222,
              "#7201a8"
             ],
             [
              0.3333333333333333,
              "#9c179e"
             ],
             [
              0.4444444444444444,
              "#bd3786"
             ],
             [
              0.5555555555555556,
              "#d8576b"
             ],
             [
              0.6666666666666666,
              "#ed7953"
             ],
             [
              0.7777777777777778,
              "#fb9f3a"
             ],
             [
              0.8888888888888888,
              "#fdca26"
             ],
             [
              1,
              "#f0f921"
             ]
            ],
            "type": "surface"
           }
          ],
          "table": [
           {
            "cells": {
             "fill": {
              "color": "#EBF0F8"
             },
             "line": {
              "color": "white"
             }
            },
            "header": {
             "fill": {
              "color": "#C8D4E3"
             },
             "line": {
              "color": "white"
             }
            },
            "type": "table"
           }
          ]
         },
         "layout": {
          "annotationdefaults": {
           "arrowcolor": "#2a3f5f",
           "arrowhead": 0,
           "arrowwidth": 1
          },
          "coloraxis": {
           "colorbar": {
            "outlinewidth": 0,
            "ticks": ""
           }
          },
          "colorscale": {
           "diverging": [
            [
             0,
             "#8e0152"
            ],
            [
             0.1,
             "#c51b7d"
            ],
            [
             0.2,
             "#de77ae"
            ],
            [
             0.3,
             "#f1b6da"
            ],
            [
             0.4,
             "#fde0ef"
            ],
            [
             0.5,
             "#f7f7f7"
            ],
            [
             0.6,
             "#e6f5d0"
            ],
            [
             0.7,
             "#b8e186"
            ],
            [
             0.8,
             "#7fbc41"
            ],
            [
             0.9,
             "#4d9221"
            ],
            [
             1,
             "#276419"
            ]
           ],
           "sequential": [
            [
             0,
             "#0d0887"
            ],
            [
             0.1111111111111111,
             "#46039f"
            ],
            [
             0.2222222222222222,
             "#7201a8"
            ],
            [
             0.3333333333333333,
             "#9c179e"
            ],
            [
             0.4444444444444444,
             "#bd3786"
            ],
            [
             0.5555555555555556,
             "#d8576b"
            ],
            [
             0.6666666666666666,
             "#ed7953"
            ],
            [
             0.7777777777777778,
             "#fb9f3a"
            ],
            [
             0.8888888888888888,
             "#fdca26"
            ],
            [
             1,
             "#f0f921"
            ]
           ],
           "sequentialminus": [
            [
             0,
             "#0d0887"
            ],
            [
             0.1111111111111111,
             "#46039f"
            ],
            [
             0.2222222222222222,
             "#7201a8"
            ],
            [
             0.3333333333333333,
             "#9c179e"
            ],
            [
             0.4444444444444444,
             "#bd3786"
            ],
            [
             0.5555555555555556,
             "#d8576b"
            ],
            [
             0.6666666666666666,
             "#ed7953"
            ],
            [
             0.7777777777777778,
             "#fb9f3a"
            ],
            [
             0.8888888888888888,
             "#fdca26"
            ],
            [
             1,
             "#f0f921"
            ]
           ]
          },
          "colorway": [
           "#636efa",
           "#EF553B",
           "#00cc96",
           "#ab63fa",
           "#FFA15A",
           "#19d3f3",
           "#FF6692",
           "#B6E880",
           "#FF97FF",
           "#FECB52"
          ],
          "font": {
           "color": "#2a3f5f"
          },
          "geo": {
           "bgcolor": "white",
           "lakecolor": "white",
           "landcolor": "#E5ECF6",
           "showlakes": true,
           "showland": true,
           "subunitcolor": "white"
          },
          "hoverlabel": {
           "align": "left"
          },
          "hovermode": "closest",
          "mapbox": {
           "style": "light"
          },
          "paper_bgcolor": "white",
          "plot_bgcolor": "#E5ECF6",
          "polar": {
           "angularaxis": {
            "gridcolor": "white",
            "linecolor": "white",
            "ticks": ""
           },
           "bgcolor": "#E5ECF6",
           "radialaxis": {
            "gridcolor": "white",
            "linecolor": "white",
            "ticks": ""
           }
          },
          "scene": {
           "xaxis": {
            "backgroundcolor": "#E5ECF6",
            "gridcolor": "white",
            "gridwidth": 2,
            "linecolor": "white",
            "showbackground": true,
            "ticks": "",
            "zerolinecolor": "white"
           },
           "yaxis": {
            "backgroundcolor": "#E5ECF6",
            "gridcolor": "white",
            "gridwidth": 2,
            "linecolor": "white",
            "showbackground": true,
            "ticks": "",
            "zerolinecolor": "white"
           },
           "zaxis": {
            "backgroundcolor": "#E5ECF6",
            "gridcolor": "white",
            "gridwidth": 2,
            "linecolor": "white",
            "showbackground": true,
            "ticks": "",
            "zerolinecolor": "white"
           }
          },
          "shapedefaults": {
           "line": {
            "color": "#2a3f5f"
           }
          },
          "ternary": {
           "aaxis": {
            "gridcolor": "white",
            "linecolor": "white",
            "ticks": ""
           },
           "baxis": {
            "gridcolor": "white",
            "linecolor": "white",
            "ticks": ""
           },
           "bgcolor": "#E5ECF6",
           "caxis": {
            "gridcolor": "white",
            "linecolor": "white",
            "ticks": ""
           }
          },
          "title": {
           "x": 0.05
          },
          "xaxis": {
           "automargin": true,
           "gridcolor": "white",
           "linecolor": "white",
           "ticks": "",
           "title": {
            "standoff": 15
           },
           "zerolinecolor": "white",
           "zerolinewidth": 2
          },
          "yaxis": {
           "automargin": true,
           "gridcolor": "white",
           "linecolor": "white",
           "ticks": "",
           "title": {
            "standoff": 15
           },
           "zerolinecolor": "white",
           "zerolinewidth": 2
          }
         }
        },
        "xaxis": {
         "anchor": "y",
         "domain": [
          0,
          1
         ],
         "title": {
          "text": "year"
         }
        },
        "yaxis": {
         "anchor": "x",
         "domain": [
          0,
          1
         ],
         "title": {
          "text": "lifeExp"
         }
        }
       }
      },
      "text/html": [
       "<div>\n",
       "        \n",
       "        \n",
       "            <div id=\"24c540d3-1f1e-4041-a2d7-03482d6456c7\" class=\"plotly-graph-div\" style=\"height:525px; width:100%;\"></div>\n",
       "            <script type=\"text/javascript\">\n",
       "                require([\"plotly\"], function(Plotly) {\n",
       "                    window.PLOTLYENV=window.PLOTLYENV || {};\n",
       "                    \n",
       "                if (document.getElementById(\"24c540d3-1f1e-4041-a2d7-03482d6456c7\")) {\n",
       "                    Plotly.newPlot(\n",
       "                        '24c540d3-1f1e-4041-a2d7-03482d6456c7',\n",
       "                        [{\"hovertemplate\": \"<b>%{hovertext}</b><br><br>continent=Asia<br>country=Afghanistan<br>year=%{x}<br>lifeExp=%{y}<extra></extra>\", \"hovertext\": [\"Afghanistan\", \"Afghanistan\", \"Afghanistan\", \"Afghanistan\", \"Afghanistan\", \"Afghanistan\", \"Afghanistan\", \"Afghanistan\", \"Afghanistan\", \"Afghanistan\", \"Afghanistan\", \"Afghanistan\"], \"legendgroup\": \"Asia\", \"line\": {\"color\": \"#636efa\"}, \"mode\": \"lines\", \"name\": \"Asia\", \"orientation\": \"v\", \"showlegend\": true, \"stackgroup\": \"1\", \"type\": \"scatter\", \"x\": [1952, 1957, 1962, 1967, 1972, 1977, 1982, 1987, 1992, 1997, 2002, 2007], \"xaxis\": \"x\", \"y\": [28.801, 30.331999999999997, 31.997, 34.02, 36.088, 38.438, 39.854, 40.821999999999996, 41.674, 41.763000000000005, 42.129, 43.828], \"yaxis\": \"y\"}, {\"hovertemplate\": \"<b>%{hovertext}</b><br><br>continent=Asia<br>country=Bahrain<br>year=%{x}<br>lifeExp=%{y}<extra></extra>\", \"hovertext\": [\"Bahrain\", \"Bahrain\", \"Bahrain\", \"Bahrain\", \"Bahrain\", \"Bahrain\", \"Bahrain\", \"Bahrain\", \"Bahrain\", \"Bahrain\", \"Bahrain\", \"Bahrain\"], \"legendgroup\": \"Asia\", \"line\": {\"color\": \"#636efa\"}, \"mode\": \"lines\", \"name\": \"Asia\", \"orientation\": \"v\", \"showlegend\": false, \"stackgroup\": \"1\", \"type\": \"scatter\", \"x\": [1952, 1957, 1962, 1967, 1972, 1977, 1982, 1987, 1992, 1997, 2002, 2007], \"xaxis\": \"x\", \"y\": [50.93899999999999, 53.832, 56.923, 59.923, 63.3, 65.593, 69.05199999999999, 70.75, 72.601, 73.925, 74.795, 75.635], \"yaxis\": \"y\"}, {\"hovertemplate\": \"<b>%{hovertext}</b><br><br>continent=Asia<br>country=Bangladesh<br>year=%{x}<br>lifeExp=%{y}<extra></extra>\", \"hovertext\": [\"Bangladesh\", \"Bangladesh\", \"Bangladesh\", \"Bangladesh\", \"Bangladesh\", \"Bangladesh\", \"Bangladesh\", \"Bangladesh\", \"Bangladesh\", \"Bangladesh\", \"Bangladesh\", \"Bangladesh\"], \"legendgroup\": \"Asia\", \"line\": {\"color\": \"#636efa\"}, \"mode\": \"lines\", \"name\": \"Asia\", \"orientation\": \"v\", \"showlegend\": false, \"stackgroup\": \"1\", \"type\": \"scatter\", \"x\": [1952, 1957, 1962, 1967, 1972, 1977, 1982, 1987, 1992, 1997, 2002, 2007], \"xaxis\": \"x\", \"y\": [37.484, 39.348, 41.216, 43.453, 45.251999999999995, 46.923, 50.00899999999999, 52.818999999999996, 56.018, 59.412, 62.013000000000005, 64.062], \"yaxis\": \"y\"}, {\"hovertemplate\": \"<b>%{hovertext}</b><br><br>continent=Asia<br>country=Cambodia<br>year=%{x}<br>lifeExp=%{y}<extra></extra>\", \"hovertext\": [\"Cambodia\", \"Cambodia\", \"Cambodia\", \"Cambodia\", \"Cambodia\", \"Cambodia\", \"Cambodia\", \"Cambodia\", \"Cambodia\", \"Cambodia\", \"Cambodia\", \"Cambodia\"], \"legendgroup\": \"Asia\", \"line\": {\"color\": \"#636efa\"}, \"mode\": \"lines\", \"name\": \"Asia\", \"orientation\": \"v\", \"showlegend\": false, \"stackgroup\": \"1\", \"type\": \"scatter\", \"x\": [1952, 1957, 1962, 1967, 1972, 1977, 1982, 1987, 1992, 1997, 2002, 2007], \"xaxis\": \"x\", \"y\": [39.417, 41.36600000000001, 43.415, 45.415, 40.317, 31.22, 50.957, 53.913999999999994, 55.803000000000004, 56.534, 56.751999999999995, 59.723], \"yaxis\": \"y\"}, {\"hovertemplate\": \"<b>%{hovertext}</b><br><br>continent=Asia<br>country=China<br>year=%{x}<br>lifeExp=%{y}<extra></extra>\", \"hovertext\": [\"China\", \"China\", \"China\", \"China\", \"China\", \"China\", \"China\", \"China\", \"China\", \"China\", \"China\", \"China\"], \"legendgroup\": \"Asia\", \"line\": {\"color\": \"#636efa\"}, \"mode\": \"lines\", \"name\": \"Asia\", \"orientation\": \"v\", \"showlegend\": false, \"stackgroup\": \"1\", \"type\": \"scatter\", \"x\": [1952, 1957, 1962, 1967, 1972, 1977, 1982, 1987, 1992, 1997, 2002, 2007], \"xaxis\": \"x\", \"y\": [44.0, 50.54896, 44.50136, 58.381119999999996, 63.118880000000004, 63.96736, 65.525, 67.274, 68.69, 70.426, 72.028, 72.961], \"yaxis\": \"y\"}, {\"hovertemplate\": \"<b>%{hovertext}</b><br><br>continent=Asia<br>country=Hong Kong, China<br>year=%{x}<br>lifeExp=%{y}<extra></extra>\", \"hovertext\": [\"Hong Kong, China\", \"Hong Kong, China\", \"Hong Kong, China\", \"Hong Kong, China\", \"Hong Kong, China\", \"Hong Kong, China\", \"Hong Kong, China\", \"Hong Kong, China\", \"Hong Kong, China\", \"Hong Kong, China\", \"Hong Kong, China\", \"Hong Kong, China\"], \"legendgroup\": \"Asia\", \"line\": {\"color\": \"#636efa\"}, \"mode\": \"lines\", \"name\": \"Asia\", \"orientation\": \"v\", \"showlegend\": false, \"stackgroup\": \"1\", \"type\": \"scatter\", \"x\": [1952, 1957, 1962, 1967, 1972, 1977, 1982, 1987, 1992, 1997, 2002, 2007], \"xaxis\": \"x\", \"y\": [60.96, 64.75, 67.65, 70.0, 72.0, 73.6, 75.45, 76.2, 77.601, 80.0, 81.495, 82.208], \"yaxis\": \"y\"}, {\"hovertemplate\": \"<b>%{hovertext}</b><br><br>continent=Asia<br>country=India<br>year=%{x}<br>lifeExp=%{y}<extra></extra>\", \"hovertext\": [\"India\", \"India\", \"India\", \"India\", \"India\", \"India\", \"India\", \"India\", \"India\", \"India\", \"India\", \"India\"], \"legendgroup\": \"Asia\", \"line\": {\"color\": \"#636efa\"}, \"mode\": \"lines\", \"name\": \"Asia\", \"orientation\": \"v\", \"showlegend\": false, \"stackgroup\": \"1\", \"type\": \"scatter\", \"x\": [1952, 1957, 1962, 1967, 1972, 1977, 1982, 1987, 1992, 1997, 2002, 2007], \"xaxis\": \"x\", \"y\": [37.373000000000005, 40.249, 43.605, 47.193000000000005, 50.651, 54.208, 56.596000000000004, 58.553000000000004, 60.223, 61.765, 62.879, 64.69800000000001], \"yaxis\": \"y\"}, {\"hovertemplate\": \"<b>%{hovertext}</b><br><br>continent=Asia<br>country=Indonesia<br>year=%{x}<br>lifeExp=%{y}<extra></extra>\", \"hovertext\": [\"Indonesia\", \"Indonesia\", \"Indonesia\", \"Indonesia\", \"Indonesia\", \"Indonesia\", \"Indonesia\", \"Indonesia\", \"Indonesia\", \"Indonesia\", \"Indonesia\", \"Indonesia\"], \"legendgroup\": \"Asia\", \"line\": {\"color\": \"#636efa\"}, \"mode\": \"lines\", \"name\": \"Asia\", \"orientation\": \"v\", \"showlegend\": false, \"stackgroup\": \"1\", \"type\": \"scatter\", \"x\": [1952, 1957, 1962, 1967, 1972, 1977, 1982, 1987, 1992, 1997, 2002, 2007], \"xaxis\": \"x\", \"y\": [37.468, 39.918, 42.518, 45.964, 49.203, 52.702, 56.159, 60.137, 62.681000000000004, 66.041, 68.58800000000001, 70.65], \"yaxis\": \"y\"}, {\"hovertemplate\": \"<b>%{hovertext}</b><br><br>continent=Asia<br>country=Iran<br>year=%{x}<br>lifeExp=%{y}<extra></extra>\", \"hovertext\": [\"Iran\", \"Iran\", \"Iran\", \"Iran\", \"Iran\", \"Iran\", \"Iran\", \"Iran\", \"Iran\", \"Iran\", \"Iran\", \"Iran\"], \"legendgroup\": \"Asia\", \"line\": {\"color\": \"#636efa\"}, \"mode\": \"lines\", \"name\": \"Asia\", \"orientation\": \"v\", \"showlegend\": false, \"stackgroup\": \"1\", \"type\": \"scatter\", \"x\": [1952, 1957, 1962, 1967, 1972, 1977, 1982, 1987, 1992, 1997, 2002, 2007], \"xaxis\": \"x\", \"y\": [44.869, 47.181000000000004, 49.325, 52.468999999999994, 55.233999999999995, 57.702, 59.62, 63.04, 65.742, 68.042, 69.45100000000001, 70.964], \"yaxis\": \"y\"}, {\"hovertemplate\": \"<b>%{hovertext}</b><br><br>continent=Asia<br>country=Iraq<br>year=%{x}<br>lifeExp=%{y}<extra></extra>\", \"hovertext\": [\"Iraq\", \"Iraq\", \"Iraq\", \"Iraq\", \"Iraq\", \"Iraq\", \"Iraq\", \"Iraq\", \"Iraq\", \"Iraq\", \"Iraq\", \"Iraq\"], \"legendgroup\": \"Asia\", \"line\": {\"color\": \"#636efa\"}, \"mode\": \"lines\", \"name\": \"Asia\", \"orientation\": \"v\", \"showlegend\": false, \"stackgroup\": \"1\", \"type\": \"scatter\", \"x\": [1952, 1957, 1962, 1967, 1972, 1977, 1982, 1987, 1992, 1997, 2002, 2007], \"xaxis\": \"x\", \"y\": [45.32, 48.437, 51.457, 54.458999999999996, 56.95, 60.413000000000004, 62.038000000000004, 65.044, 59.461000000000006, 58.81100000000001, 57.04600000000001, 59.545], \"yaxis\": \"y\"}, {\"hovertemplate\": \"<b>%{hovertext}</b><br><br>continent=Asia<br>country=Israel<br>year=%{x}<br>lifeExp=%{y}<extra></extra>\", \"hovertext\": [\"Israel\", \"Israel\", \"Israel\", \"Israel\", \"Israel\", \"Israel\", \"Israel\", \"Israel\", \"Israel\", \"Israel\", \"Israel\", \"Israel\"], \"legendgroup\": \"Asia\", \"line\": {\"color\": \"#636efa\"}, \"mode\": \"lines\", \"name\": \"Asia\", \"orientation\": \"v\", \"showlegend\": false, \"stackgroup\": \"1\", \"type\": \"scatter\", \"x\": [1952, 1957, 1962, 1967, 1972, 1977, 1982, 1987, 1992, 1997, 2002, 2007], \"xaxis\": \"x\", \"y\": [65.39, 67.84, 69.39, 70.75, 71.63, 73.06, 74.45, 75.6, 76.93, 78.26899999999999, 79.696, 80.745], \"yaxis\": \"y\"}, {\"hovertemplate\": \"<b>%{hovertext}</b><br><br>continent=Asia<br>country=Japan<br>year=%{x}<br>lifeExp=%{y}<extra></extra>\", \"hovertext\": [\"Japan\", \"Japan\", \"Japan\", \"Japan\", \"Japan\", \"Japan\", \"Japan\", \"Japan\", \"Japan\", \"Japan\", \"Japan\", \"Japan\"], \"legendgroup\": \"Asia\", \"line\": {\"color\": \"#636efa\"}, \"mode\": \"lines\", \"name\": \"Asia\", \"orientation\": \"v\", \"showlegend\": false, \"stackgroup\": \"1\", \"type\": \"scatter\", \"x\": [1952, 1957, 1962, 1967, 1972, 1977, 1982, 1987, 1992, 1997, 2002, 2007], \"xaxis\": \"x\", \"y\": [63.03, 65.5, 68.73, 71.43, 73.42, 75.38, 77.11, 78.67, 79.36, 80.69, 82.0, 82.603], \"yaxis\": \"y\"}, {\"hovertemplate\": \"<b>%{hovertext}</b><br><br>continent=Asia<br>country=Jordan<br>year=%{x}<br>lifeExp=%{y}<extra></extra>\", \"hovertext\": [\"Jordan\", \"Jordan\", \"Jordan\", \"Jordan\", \"Jordan\", \"Jordan\", \"Jordan\", \"Jordan\", \"Jordan\", \"Jordan\", \"Jordan\", \"Jordan\"], \"legendgroup\": \"Asia\", \"line\": {\"color\": \"#636efa\"}, \"mode\": \"lines\", \"name\": \"Asia\", \"orientation\": \"v\", \"showlegend\": false, \"stackgroup\": \"1\", \"type\": \"scatter\", \"x\": [1952, 1957, 1962, 1967, 1972, 1977, 1982, 1987, 1992, 1997, 2002, 2007], \"xaxis\": \"x\", \"y\": [43.158, 45.669, 48.126000000000005, 51.629, 56.528, 61.13399999999999, 63.739, 65.869, 68.015, 69.77199999999999, 71.263, 72.535], \"yaxis\": \"y\"}, {\"hovertemplate\": \"<b>%{hovertext}</b><br><br>continent=Asia<br>country=Korea, Dem. Rep.<br>year=%{x}<br>lifeExp=%{y}<extra></extra>\", \"hovertext\": [\"Korea, Dem. Rep.\", \"Korea, Dem. Rep.\", \"Korea, Dem. Rep.\", \"Korea, Dem. Rep.\", \"Korea, Dem. Rep.\", \"Korea, Dem. Rep.\", \"Korea, Dem. Rep.\", \"Korea, Dem. Rep.\", \"Korea, Dem. Rep.\", \"Korea, Dem. Rep.\", \"Korea, Dem. Rep.\", \"Korea, Dem. Rep.\"], \"legendgroup\": \"Asia\", \"line\": {\"color\": \"#636efa\"}, \"mode\": \"lines\", \"name\": \"Asia\", \"orientation\": \"v\", \"showlegend\": false, \"stackgroup\": \"1\", \"type\": \"scatter\", \"x\": [1952, 1957, 1962, 1967, 1972, 1977, 1982, 1987, 1992, 1997, 2002, 2007], \"xaxis\": \"x\", \"y\": [50.056000000000004, 54.081, 56.656000000000006, 59.942, 63.983000000000004, 67.15899999999999, 69.1, 70.64699999999999, 69.97800000000001, 67.727, 66.66199999999999, 67.297], \"yaxis\": \"y\"}, {\"hovertemplate\": \"<b>%{hovertext}</b><br><br>continent=Asia<br>country=Korea, Rep.<br>year=%{x}<br>lifeExp=%{y}<extra></extra>\", \"hovertext\": [\"Korea, Rep.\", \"Korea, Rep.\", \"Korea, Rep.\", \"Korea, Rep.\", \"Korea, Rep.\", \"Korea, Rep.\", \"Korea, Rep.\", \"Korea, Rep.\", \"Korea, Rep.\", \"Korea, Rep.\", \"Korea, Rep.\", \"Korea, Rep.\"], \"legendgroup\": \"Asia\", \"line\": {\"color\": \"#636efa\"}, \"mode\": \"lines\", \"name\": \"Asia\", \"orientation\": \"v\", \"showlegend\": false, \"stackgroup\": \"1\", \"type\": \"scatter\", \"x\": [1952, 1957, 1962, 1967, 1972, 1977, 1982, 1987, 1992, 1997, 2002, 2007], \"xaxis\": \"x\", \"y\": [47.453, 52.681000000000004, 55.292, 57.716, 62.611999999999995, 64.766, 67.123, 69.81, 72.244, 74.64699999999999, 77.045, 78.623], \"yaxis\": \"y\"}, {\"hovertemplate\": \"<b>%{hovertext}</b><br><br>continent=Asia<br>country=Kuwait<br>year=%{x}<br>lifeExp=%{y}<extra></extra>\", \"hovertext\": [\"Kuwait\", \"Kuwait\", \"Kuwait\", \"Kuwait\", \"Kuwait\", \"Kuwait\", \"Kuwait\", \"Kuwait\", \"Kuwait\", \"Kuwait\", \"Kuwait\", \"Kuwait\"], \"legendgroup\": \"Asia\", \"line\": {\"color\": \"#636efa\"}, \"mode\": \"lines\", \"name\": \"Asia\", \"orientation\": \"v\", \"showlegend\": false, \"stackgroup\": \"1\", \"type\": \"scatter\", \"x\": [1952, 1957, 1962, 1967, 1972, 1977, 1982, 1987, 1992, 1997, 2002, 2007], \"xaxis\": \"x\", \"y\": [55.565, 58.033, 60.47, 64.624, 67.712, 69.343, 71.309, 74.17399999999999, 75.19, 76.156, 76.904, 77.58800000000001], \"yaxis\": \"y\"}, {\"hovertemplate\": \"<b>%{hovertext}</b><br><br>continent=Asia<br>country=Lebanon<br>year=%{x}<br>lifeExp=%{y}<extra></extra>\", \"hovertext\": [\"Lebanon\", \"Lebanon\", \"Lebanon\", \"Lebanon\", \"Lebanon\", \"Lebanon\", \"Lebanon\", \"Lebanon\", \"Lebanon\", \"Lebanon\", \"Lebanon\", \"Lebanon\"], \"legendgroup\": \"Asia\", \"line\": {\"color\": \"#636efa\"}, \"mode\": \"lines\", \"name\": \"Asia\", \"orientation\": \"v\", \"showlegend\": false, \"stackgroup\": \"1\", \"type\": \"scatter\", \"x\": [1952, 1957, 1962, 1967, 1972, 1977, 1982, 1987, 1992, 1997, 2002, 2007], \"xaxis\": \"x\", \"y\": [55.928000000000004, 59.489, 62.093999999999994, 63.87, 65.421, 66.09899999999999, 66.983, 67.926, 69.292, 70.265, 71.028, 71.993], \"yaxis\": \"y\"}, {\"hovertemplate\": \"<b>%{hovertext}</b><br><br>continent=Asia<br>country=Malaysia<br>year=%{x}<br>lifeExp=%{y}<extra></extra>\", \"hovertext\": [\"Malaysia\", \"Malaysia\", \"Malaysia\", \"Malaysia\", \"Malaysia\", \"Malaysia\", \"Malaysia\", \"Malaysia\", \"Malaysia\", \"Malaysia\", \"Malaysia\", \"Malaysia\"], \"legendgroup\": \"Asia\", \"line\": {\"color\": \"#636efa\"}, \"mode\": \"lines\", \"name\": \"Asia\", \"orientation\": \"v\", \"showlegend\": false, \"stackgroup\": \"1\", \"type\": \"scatter\", \"x\": [1952, 1957, 1962, 1967, 1972, 1977, 1982, 1987, 1992, 1997, 2002, 2007], \"xaxis\": \"x\", \"y\": [48.463, 52.102, 55.736999999999995, 59.371, 63.01, 65.256, 68.0, 69.5, 70.693, 71.938, 73.044, 74.241], \"yaxis\": \"y\"}, {\"hovertemplate\": \"<b>%{hovertext}</b><br><br>continent=Asia<br>country=Mongolia<br>year=%{x}<br>lifeExp=%{y}<extra></extra>\", \"hovertext\": [\"Mongolia\", \"Mongolia\", \"Mongolia\", \"Mongolia\", \"Mongolia\", \"Mongolia\", \"Mongolia\", \"Mongolia\", \"Mongolia\", \"Mongolia\", \"Mongolia\", \"Mongolia\"], \"legendgroup\": \"Asia\", \"line\": {\"color\": \"#636efa\"}, \"mode\": \"lines\", \"name\": \"Asia\", \"orientation\": \"v\", \"showlegend\": false, \"stackgroup\": \"1\", \"type\": \"scatter\", \"x\": [1952, 1957, 1962, 1967, 1972, 1977, 1982, 1987, 1992, 1997, 2002, 2007], \"xaxis\": \"x\", \"y\": [42.244, 45.248000000000005, 48.251000000000005, 51.253, 53.754, 55.49100000000001, 57.489, 60.222, 61.271, 63.625, 65.033, 66.803], \"yaxis\": \"y\"}, {\"hovertemplate\": \"<b>%{hovertext}</b><br><br>continent=Asia<br>country=Myanmar<br>year=%{x}<br>lifeExp=%{y}<extra></extra>\", \"hovertext\": [\"Myanmar\", \"Myanmar\", \"Myanmar\", \"Myanmar\", \"Myanmar\", \"Myanmar\", \"Myanmar\", \"Myanmar\", \"Myanmar\", \"Myanmar\", \"Myanmar\", \"Myanmar\"], \"legendgroup\": \"Asia\", \"line\": {\"color\": \"#636efa\"}, \"mode\": \"lines\", \"name\": \"Asia\", \"orientation\": \"v\", \"showlegend\": false, \"stackgroup\": \"1\", \"type\": \"scatter\", \"x\": [1952, 1957, 1962, 1967, 1972, 1977, 1982, 1987, 1992, 1997, 2002, 2007], \"xaxis\": \"x\", \"y\": [36.319, 41.905, 45.108000000000004, 49.379, 53.07, 56.059, 58.056000000000004, 58.339, 59.32, 60.328, 59.908, 62.068999999999996], \"yaxis\": \"y\"}, {\"hovertemplate\": \"<b>%{hovertext}</b><br><br>continent=Asia<br>country=Nepal<br>year=%{x}<br>lifeExp=%{y}<extra></extra>\", \"hovertext\": [\"Nepal\", \"Nepal\", \"Nepal\", \"Nepal\", \"Nepal\", \"Nepal\", \"Nepal\", \"Nepal\", \"Nepal\", \"Nepal\", \"Nepal\", \"Nepal\"], \"legendgroup\": \"Asia\", \"line\": {\"color\": \"#636efa\"}, \"mode\": \"lines\", \"name\": \"Asia\", \"orientation\": \"v\", \"showlegend\": false, \"stackgroup\": \"1\", \"type\": \"scatter\", \"x\": [1952, 1957, 1962, 1967, 1972, 1977, 1982, 1987, 1992, 1997, 2002, 2007], \"xaxis\": \"x\", \"y\": [36.157, 37.686, 39.393, 41.472, 43.971000000000004, 46.748000000000005, 49.593999999999994, 52.537, 55.727, 59.426, 61.34, 63.785], \"yaxis\": \"y\"}, {\"hovertemplate\": \"<b>%{hovertext}</b><br><br>continent=Asia<br>country=Oman<br>year=%{x}<br>lifeExp=%{y}<extra></extra>\", \"hovertext\": [\"Oman\", \"Oman\", \"Oman\", \"Oman\", \"Oman\", \"Oman\", \"Oman\", \"Oman\", \"Oman\", \"Oman\", \"Oman\", \"Oman\"], \"legendgroup\": \"Asia\", \"line\": {\"color\": \"#636efa\"}, \"mode\": \"lines\", \"name\": \"Asia\", \"orientation\": \"v\", \"showlegend\": false, \"stackgroup\": \"1\", \"type\": \"scatter\", \"x\": [1952, 1957, 1962, 1967, 1972, 1977, 1982, 1987, 1992, 1997, 2002, 2007], \"xaxis\": \"x\", \"y\": [37.578, 40.08, 43.165, 46.988, 52.143, 57.367, 62.728, 67.734, 71.197, 72.499, 74.193, 75.64], \"yaxis\": \"y\"}, {\"hovertemplate\": \"<b>%{hovertext}</b><br><br>continent=Asia<br>country=Pakistan<br>year=%{x}<br>lifeExp=%{y}<extra></extra>\", \"hovertext\": [\"Pakistan\", \"Pakistan\", \"Pakistan\", \"Pakistan\", \"Pakistan\", \"Pakistan\", \"Pakistan\", \"Pakistan\", \"Pakistan\", \"Pakistan\", \"Pakistan\", \"Pakistan\"], \"legendgroup\": \"Asia\", \"line\": {\"color\": \"#636efa\"}, \"mode\": \"lines\", \"name\": \"Asia\", \"orientation\": \"v\", \"showlegend\": false, \"stackgroup\": \"1\", \"type\": \"scatter\", \"x\": [1952, 1957, 1962, 1967, 1972, 1977, 1982, 1987, 1992, 1997, 2002, 2007], \"xaxis\": \"x\", \"y\": [43.43600000000001, 45.556999999999995, 47.67, 49.8, 51.928999999999995, 54.043, 56.158, 58.245, 60.838, 61.818000000000005, 63.61, 65.483], \"yaxis\": \"y\"}, {\"hovertemplate\": \"<b>%{hovertext}</b><br><br>continent=Asia<br>country=Philippines<br>year=%{x}<br>lifeExp=%{y}<extra></extra>\", \"hovertext\": [\"Philippines\", \"Philippines\", \"Philippines\", \"Philippines\", \"Philippines\", \"Philippines\", \"Philippines\", \"Philippines\", \"Philippines\", \"Philippines\", \"Philippines\", \"Philippines\"], \"legendgroup\": \"Asia\", \"line\": {\"color\": \"#636efa\"}, \"mode\": \"lines\", \"name\": \"Asia\", \"orientation\": \"v\", \"showlegend\": false, \"stackgroup\": \"1\", \"type\": \"scatter\", \"x\": [1952, 1957, 1962, 1967, 1972, 1977, 1982, 1987, 1992, 1997, 2002, 2007], \"xaxis\": \"x\", \"y\": [47.751999999999995, 51.333999999999996, 54.757, 56.393, 58.065, 60.06, 62.082, 64.15100000000001, 66.458, 68.564, 70.303, 71.688], \"yaxis\": \"y\"}, {\"hovertemplate\": \"<b>%{hovertext}</b><br><br>continent=Asia<br>country=Saudi Arabia<br>year=%{x}<br>lifeExp=%{y}<extra></extra>\", \"hovertext\": [\"Saudi Arabia\", \"Saudi Arabia\", \"Saudi Arabia\", \"Saudi Arabia\", \"Saudi Arabia\", \"Saudi Arabia\", \"Saudi Arabia\", \"Saudi Arabia\", \"Saudi Arabia\", \"Saudi Arabia\", \"Saudi Arabia\", \"Saudi Arabia\"], \"legendgroup\": \"Asia\", \"line\": {\"color\": \"#636efa\"}, \"mode\": \"lines\", \"name\": \"Asia\", \"orientation\": \"v\", \"showlegend\": false, \"stackgroup\": \"1\", \"type\": \"scatter\", \"x\": [1952, 1957, 1962, 1967, 1972, 1977, 1982, 1987, 1992, 1997, 2002, 2007], \"xaxis\": \"x\", \"y\": [39.875, 42.868, 45.913999999999994, 49.901, 53.886, 58.69, 63.012, 66.295, 68.768, 70.533, 71.626, 72.777], \"yaxis\": \"y\"}, {\"hovertemplate\": \"<b>%{hovertext}</b><br><br>continent=Asia<br>country=Singapore<br>year=%{x}<br>lifeExp=%{y}<extra></extra>\", \"hovertext\": [\"Singapore\", \"Singapore\", \"Singapore\", \"Singapore\", \"Singapore\", \"Singapore\", \"Singapore\", \"Singapore\", \"Singapore\", \"Singapore\", \"Singapore\", \"Singapore\"], \"legendgroup\": \"Asia\", \"line\": {\"color\": \"#636efa\"}, \"mode\": \"lines\", \"name\": \"Asia\", \"orientation\": \"v\", \"showlegend\": false, \"stackgroup\": \"1\", \"type\": \"scatter\", \"x\": [1952, 1957, 1962, 1967, 1972, 1977, 1982, 1987, 1992, 1997, 2002, 2007], \"xaxis\": \"x\", \"y\": [60.396, 63.178999999999995, 65.798, 67.946, 69.521, 70.795, 71.76, 73.56, 75.788, 77.158, 78.77, 79.972], \"yaxis\": \"y\"}, {\"hovertemplate\": \"<b>%{hovertext}</b><br><br>continent=Asia<br>country=Sri Lanka<br>year=%{x}<br>lifeExp=%{y}<extra></extra>\", \"hovertext\": [\"Sri Lanka\", \"Sri Lanka\", \"Sri Lanka\", \"Sri Lanka\", \"Sri Lanka\", \"Sri Lanka\", \"Sri Lanka\", \"Sri Lanka\", \"Sri Lanka\", \"Sri Lanka\", \"Sri Lanka\", \"Sri Lanka\"], \"legendgroup\": \"Asia\", \"line\": {\"color\": \"#636efa\"}, \"mode\": \"lines\", \"name\": \"Asia\", \"orientation\": \"v\", \"showlegend\": false, \"stackgroup\": \"1\", \"type\": \"scatter\", \"x\": [1952, 1957, 1962, 1967, 1972, 1977, 1982, 1987, 1992, 1997, 2002, 2007], \"xaxis\": \"x\", \"y\": [57.593, 61.456, 62.192, 64.266, 65.042, 65.949, 68.757, 69.01100000000001, 70.37899999999999, 70.457, 70.815, 72.396], \"yaxis\": \"y\"}, {\"hovertemplate\": \"<b>%{hovertext}</b><br><br>continent=Asia<br>country=Syria<br>year=%{x}<br>lifeExp=%{y}<extra></extra>\", \"hovertext\": [\"Syria\", \"Syria\", \"Syria\", \"Syria\", \"Syria\", \"Syria\", \"Syria\", \"Syria\", \"Syria\", \"Syria\", \"Syria\", \"Syria\"], \"legendgroup\": \"Asia\", \"line\": {\"color\": \"#636efa\"}, \"mode\": \"lines\", \"name\": \"Asia\", \"orientation\": \"v\", \"showlegend\": false, \"stackgroup\": \"1\", \"type\": \"scatter\", \"x\": [1952, 1957, 1962, 1967, 1972, 1977, 1982, 1987, 1992, 1997, 2002, 2007], \"xaxis\": \"x\", \"y\": [45.883, 48.284, 50.305, 53.655, 57.29600000000001, 61.195, 64.59, 66.97399999999999, 69.249, 71.527, 73.053, 74.143], \"yaxis\": \"y\"}, {\"hovertemplate\": \"<b>%{hovertext}</b><br><br>continent=Asia<br>country=Taiwan<br>year=%{x}<br>lifeExp=%{y}<extra></extra>\", \"hovertext\": [\"Taiwan\", \"Taiwan\", \"Taiwan\", \"Taiwan\", \"Taiwan\", \"Taiwan\", \"Taiwan\", \"Taiwan\", \"Taiwan\", \"Taiwan\", \"Taiwan\", \"Taiwan\"], \"legendgroup\": \"Asia\", \"line\": {\"color\": \"#636efa\"}, \"mode\": \"lines\", \"name\": \"Asia\", \"orientation\": \"v\", \"showlegend\": false, \"stackgroup\": \"1\", \"type\": \"scatter\", \"x\": [1952, 1957, 1962, 1967, 1972, 1977, 1982, 1987, 1992, 1997, 2002, 2007], \"xaxis\": \"x\", \"y\": [58.5, 62.4, 65.2, 67.5, 69.39, 70.59, 72.16, 73.4, 74.26, 75.25, 76.99, 78.4], \"yaxis\": \"y\"}, {\"hovertemplate\": \"<b>%{hovertext}</b><br><br>continent=Asia<br>country=Thailand<br>year=%{x}<br>lifeExp=%{y}<extra></extra>\", \"hovertext\": [\"Thailand\", \"Thailand\", \"Thailand\", \"Thailand\", \"Thailand\", \"Thailand\", \"Thailand\", \"Thailand\", \"Thailand\", \"Thailand\", \"Thailand\", \"Thailand\"], \"legendgroup\": \"Asia\", \"line\": {\"color\": \"#636efa\"}, \"mode\": \"lines\", \"name\": \"Asia\", \"orientation\": \"v\", \"showlegend\": false, \"stackgroup\": \"1\", \"type\": \"scatter\", \"x\": [1952, 1957, 1962, 1967, 1972, 1977, 1982, 1987, 1992, 1997, 2002, 2007], \"xaxis\": \"x\", \"y\": [50.848, 53.63, 56.06100000000001, 58.285, 60.405, 62.494, 64.597, 66.084, 67.298, 67.521, 68.564, 70.616], \"yaxis\": \"y\"}, {\"hovertemplate\": \"<b>%{hovertext}</b><br><br>continent=Asia<br>country=Vietnam<br>year=%{x}<br>lifeExp=%{y}<extra></extra>\", \"hovertext\": [\"Vietnam\", \"Vietnam\", \"Vietnam\", \"Vietnam\", \"Vietnam\", \"Vietnam\", \"Vietnam\", \"Vietnam\", \"Vietnam\", \"Vietnam\", \"Vietnam\", \"Vietnam\"], \"legendgroup\": \"Asia\", \"line\": {\"color\": \"#636efa\"}, \"mode\": \"lines\", \"name\": \"Asia\", \"orientation\": \"v\", \"showlegend\": false, \"stackgroup\": \"1\", \"type\": \"scatter\", \"x\": [1952, 1957, 1962, 1967, 1972, 1977, 1982, 1987, 1992, 1997, 2002, 2007], \"xaxis\": \"x\", \"y\": [40.412, 42.887, 45.363, 47.838, 50.254, 55.763999999999996, 58.816, 62.82, 67.66199999999999, 70.672, 73.017, 74.249], \"yaxis\": \"y\"}, {\"hovertemplate\": \"<b>%{hovertext}</b><br><br>continent=Asia<br>country=West Bank and Gaza<br>year=%{x}<br>lifeExp=%{y}<extra></extra>\", \"hovertext\": [\"West Bank and Gaza\", \"West Bank and Gaza\", \"West Bank and Gaza\", \"West Bank and Gaza\", \"West Bank and Gaza\", \"West Bank and Gaza\", \"West Bank and Gaza\", \"West Bank and Gaza\", \"West Bank and Gaza\", \"West Bank and Gaza\", \"West Bank and Gaza\", \"West Bank and Gaza\"], \"legendgroup\": \"Asia\", \"line\": {\"color\": \"#636efa\"}, \"mode\": \"lines\", \"name\": \"Asia\", \"orientation\": \"v\", \"showlegend\": false, \"stackgroup\": \"1\", \"type\": \"scatter\", \"x\": [1952, 1957, 1962, 1967, 1972, 1977, 1982, 1987, 1992, 1997, 2002, 2007], \"xaxis\": \"x\", \"y\": [43.16, 45.67100000000001, 48.126999999999995, 51.631, 56.532, 60.765, 64.406, 67.046, 69.718, 71.096, 72.37, 73.422], \"yaxis\": \"y\"}, {\"hovertemplate\": \"<b>%{hovertext}</b><br><br>continent=Asia<br>country=Yemen, Rep.<br>year=%{x}<br>lifeExp=%{y}<extra></extra>\", \"hovertext\": [\"Yemen, Rep.\", \"Yemen, Rep.\", \"Yemen, Rep.\", \"Yemen, Rep.\", \"Yemen, Rep.\", \"Yemen, Rep.\", \"Yemen, Rep.\", \"Yemen, Rep.\", \"Yemen, Rep.\", \"Yemen, Rep.\", \"Yemen, Rep.\", \"Yemen, Rep.\"], \"legendgroup\": \"Asia\", \"line\": {\"color\": \"#636efa\"}, \"mode\": \"lines\", \"name\": \"Asia\", \"orientation\": \"v\", \"showlegend\": false, \"stackgroup\": \"1\", \"type\": \"scatter\", \"x\": [1952, 1957, 1962, 1967, 1972, 1977, 1982, 1987, 1992, 1997, 2002, 2007], \"xaxis\": \"x\", \"y\": [32.548, 33.97, 35.18, 36.984, 39.848, 44.175, 49.113, 52.922, 55.599, 58.02, 60.308, 62.698], \"yaxis\": \"y\"}, {\"hovertemplate\": \"<b>%{hovertext}</b><br><br>continent=Europe<br>country=Albania<br>year=%{x}<br>lifeExp=%{y}<extra></extra>\", \"hovertext\": [\"Albania\", \"Albania\", \"Albania\", \"Albania\", \"Albania\", \"Albania\", \"Albania\", \"Albania\", \"Albania\", \"Albania\", \"Albania\", \"Albania\"], \"legendgroup\": \"Europe\", \"line\": {\"color\": \"#EF553B\"}, \"mode\": \"lines\", \"name\": \"Europe\", \"orientation\": \"v\", \"showlegend\": true, \"stackgroup\": \"1\", \"type\": \"scatter\", \"x\": [1952, 1957, 1962, 1967, 1972, 1977, 1982, 1987, 1992, 1997, 2002, 2007], \"xaxis\": \"x\", \"y\": [55.23, 59.28, 64.82, 66.22, 67.69, 68.93, 70.42, 72.0, 71.581, 72.95, 75.65100000000001, 76.423], \"yaxis\": \"y\"}, {\"hovertemplate\": \"<b>%{hovertext}</b><br><br>continent=Europe<br>country=Austria<br>year=%{x}<br>lifeExp=%{y}<extra></extra>\", \"hovertext\": [\"Austria\", \"Austria\", \"Austria\", \"Austria\", \"Austria\", \"Austria\", \"Austria\", \"Austria\", \"Austria\", \"Austria\", \"Austria\", \"Austria\"], \"legendgroup\": \"Europe\", \"line\": {\"color\": \"#EF553B\"}, \"mode\": \"lines\", \"name\": \"Europe\", \"orientation\": \"v\", \"showlegend\": false, \"stackgroup\": \"1\", \"type\": \"scatter\", \"x\": [1952, 1957, 1962, 1967, 1972, 1977, 1982, 1987, 1992, 1997, 2002, 2007], \"xaxis\": \"x\", \"y\": [66.8, 67.48, 69.54, 70.14, 70.63, 72.17, 73.18, 74.94, 76.04, 77.51, 78.98, 79.829], \"yaxis\": \"y\"}, {\"hovertemplate\": \"<b>%{hovertext}</b><br><br>continent=Europe<br>country=Belgium<br>year=%{x}<br>lifeExp=%{y}<extra></extra>\", \"hovertext\": [\"Belgium\", \"Belgium\", \"Belgium\", \"Belgium\", \"Belgium\", \"Belgium\", \"Belgium\", \"Belgium\", \"Belgium\", \"Belgium\", \"Belgium\", \"Belgium\"], \"legendgroup\": \"Europe\", \"line\": {\"color\": \"#EF553B\"}, \"mode\": \"lines\", \"name\": \"Europe\", \"orientation\": \"v\", \"showlegend\": false, \"stackgroup\": \"1\", \"type\": \"scatter\", \"x\": [1952, 1957, 1962, 1967, 1972, 1977, 1982, 1987, 1992, 1997, 2002, 2007], \"xaxis\": \"x\", \"y\": [68.0, 69.24, 70.25, 70.94, 71.44, 72.8, 73.93, 75.35, 76.46, 77.53, 78.32, 79.441], \"yaxis\": \"y\"}, {\"hovertemplate\": \"<b>%{hovertext}</b><br><br>continent=Europe<br>country=Bosnia and Herzegovina<br>year=%{x}<br>lifeExp=%{y}<extra></extra>\", \"hovertext\": [\"Bosnia and Herzegovina\", \"Bosnia and Herzegovina\", \"Bosnia and Herzegovina\", \"Bosnia and Herzegovina\", \"Bosnia and Herzegovina\", \"Bosnia and Herzegovina\", \"Bosnia and Herzegovina\", \"Bosnia and Herzegovina\", \"Bosnia and Herzegovina\", \"Bosnia and Herzegovina\", \"Bosnia and Herzegovina\", \"Bosnia and Herzegovina\"], \"legendgroup\": \"Europe\", \"line\": {\"color\": \"#EF553B\"}, \"mode\": \"lines\", \"name\": \"Europe\", \"orientation\": \"v\", \"showlegend\": false, \"stackgroup\": \"1\", \"type\": \"scatter\", \"x\": [1952, 1957, 1962, 1967, 1972, 1977, 1982, 1987, 1992, 1997, 2002, 2007], \"xaxis\": \"x\", \"y\": [53.82, 58.45, 61.93, 64.79, 67.45, 69.86, 70.69, 71.14, 72.178, 73.244, 74.09, 74.852], \"yaxis\": \"y\"}, {\"hovertemplate\": \"<b>%{hovertext}</b><br><br>continent=Europe<br>country=Bulgaria<br>year=%{x}<br>lifeExp=%{y}<extra></extra>\", \"hovertext\": [\"Bulgaria\", \"Bulgaria\", \"Bulgaria\", \"Bulgaria\", \"Bulgaria\", \"Bulgaria\", \"Bulgaria\", \"Bulgaria\", \"Bulgaria\", \"Bulgaria\", \"Bulgaria\", \"Bulgaria\"], \"legendgroup\": \"Europe\", \"line\": {\"color\": \"#EF553B\"}, \"mode\": \"lines\", \"name\": \"Europe\", \"orientation\": \"v\", \"showlegend\": false, \"stackgroup\": \"1\", \"type\": \"scatter\", \"x\": [1952, 1957, 1962, 1967, 1972, 1977, 1982, 1987, 1992, 1997, 2002, 2007], \"xaxis\": \"x\", \"y\": [59.6, 66.61, 69.51, 70.42, 70.9, 70.81, 71.08, 71.34, 71.19, 70.32, 72.14, 73.005], \"yaxis\": \"y\"}, {\"hovertemplate\": \"<b>%{hovertext}</b><br><br>continent=Europe<br>country=Croatia<br>year=%{x}<br>lifeExp=%{y}<extra></extra>\", \"hovertext\": [\"Croatia\", \"Croatia\", \"Croatia\", \"Croatia\", \"Croatia\", \"Croatia\", \"Croatia\", \"Croatia\", \"Croatia\", \"Croatia\", \"Croatia\", \"Croatia\"], \"legendgroup\": \"Europe\", \"line\": {\"color\": \"#EF553B\"}, \"mode\": \"lines\", \"name\": \"Europe\", \"orientation\": \"v\", \"showlegend\": false, \"stackgroup\": \"1\", \"type\": \"scatter\", \"x\": [1952, 1957, 1962, 1967, 1972, 1977, 1982, 1987, 1992, 1997, 2002, 2007], \"xaxis\": \"x\", \"y\": [61.21, 64.77, 67.13, 68.5, 69.61, 70.64, 70.46, 71.52, 72.527, 73.68, 74.876, 75.748], \"yaxis\": \"y\"}, {\"hovertemplate\": \"<b>%{hovertext}</b><br><br>continent=Europe<br>country=Czech Republic<br>year=%{x}<br>lifeExp=%{y}<extra></extra>\", \"hovertext\": [\"Czech Republic\", \"Czech Republic\", \"Czech Republic\", \"Czech Republic\", \"Czech Republic\", \"Czech Republic\", \"Czech Republic\", \"Czech Republic\", \"Czech Republic\", \"Czech Republic\", \"Czech Republic\", \"Czech Republic\"], \"legendgroup\": \"Europe\", \"line\": {\"color\": \"#EF553B\"}, \"mode\": \"lines\", \"name\": \"Europe\", \"orientation\": \"v\", \"showlegend\": false, \"stackgroup\": \"1\", \"type\": \"scatter\", \"x\": [1952, 1957, 1962, 1967, 1972, 1977, 1982, 1987, 1992, 1997, 2002, 2007], \"xaxis\": \"x\", \"y\": [66.87, 69.03, 69.9, 70.38, 70.29, 70.71, 70.96, 71.58, 72.4, 74.01, 75.51, 76.486], \"yaxis\": \"y\"}, {\"hovertemplate\": \"<b>%{hovertext}</b><br><br>continent=Europe<br>country=Denmark<br>year=%{x}<br>lifeExp=%{y}<extra></extra>\", \"hovertext\": [\"Denmark\", \"Denmark\", \"Denmark\", \"Denmark\", \"Denmark\", \"Denmark\", \"Denmark\", \"Denmark\", \"Denmark\", \"Denmark\", \"Denmark\", \"Denmark\"], \"legendgroup\": \"Europe\", \"line\": {\"color\": \"#EF553B\"}, \"mode\": \"lines\", \"name\": \"Europe\", \"orientation\": \"v\", \"showlegend\": false, \"stackgroup\": \"1\", \"type\": \"scatter\", \"x\": [1952, 1957, 1962, 1967, 1972, 1977, 1982, 1987, 1992, 1997, 2002, 2007], \"xaxis\": \"x\", \"y\": [70.78, 71.81, 72.35, 72.96, 73.47, 74.69, 74.63, 74.8, 75.33, 76.11, 77.18, 78.332], \"yaxis\": \"y\"}, {\"hovertemplate\": \"<b>%{hovertext}</b><br><br>continent=Europe<br>country=Finland<br>year=%{x}<br>lifeExp=%{y}<extra></extra>\", \"hovertext\": [\"Finland\", \"Finland\", \"Finland\", \"Finland\", \"Finland\", \"Finland\", \"Finland\", \"Finland\", \"Finland\", \"Finland\", \"Finland\", \"Finland\"], \"legendgroup\": \"Europe\", \"line\": {\"color\": \"#EF553B\"}, \"mode\": \"lines\", \"name\": \"Europe\", \"orientation\": \"v\", \"showlegend\": false, \"stackgroup\": \"1\", \"type\": \"scatter\", \"x\": [1952, 1957, 1962, 1967, 1972, 1977, 1982, 1987, 1992, 1997, 2002, 2007], \"xaxis\": \"x\", \"y\": [66.55, 67.49, 68.75, 69.83, 70.87, 72.52, 74.55, 74.83, 75.7, 77.13, 78.37, 79.313], \"yaxis\": \"y\"}, {\"hovertemplate\": \"<b>%{hovertext}</b><br><br>continent=Europe<br>country=France<br>year=%{x}<br>lifeExp=%{y}<extra></extra>\", \"hovertext\": [\"France\", \"France\", \"France\", \"France\", \"France\", \"France\", \"France\", \"France\", \"France\", \"France\", \"France\", \"France\"], \"legendgroup\": \"Europe\", \"line\": {\"color\": \"#EF553B\"}, \"mode\": \"lines\", \"name\": \"Europe\", \"orientation\": \"v\", \"showlegend\": false, \"stackgroup\": \"1\", \"type\": \"scatter\", \"x\": [1952, 1957, 1962, 1967, 1972, 1977, 1982, 1987, 1992, 1997, 2002, 2007], \"xaxis\": \"x\", \"y\": [67.41, 68.93, 70.51, 71.55, 72.38, 73.83, 74.89, 76.34, 77.46, 78.64, 79.59, 80.657], \"yaxis\": \"y\"}, {\"hovertemplate\": \"<b>%{hovertext}</b><br><br>continent=Europe<br>country=Germany<br>year=%{x}<br>lifeExp=%{y}<extra></extra>\", \"hovertext\": [\"Germany\", \"Germany\", \"Germany\", \"Germany\", \"Germany\", \"Germany\", \"Germany\", \"Germany\", \"Germany\", \"Germany\", \"Germany\", \"Germany\"], \"legendgroup\": \"Europe\", \"line\": {\"color\": \"#EF553B\"}, \"mode\": \"lines\", \"name\": \"Europe\", \"orientation\": \"v\", \"showlegend\": false, \"stackgroup\": \"1\", \"type\": \"scatter\", \"x\": [1952, 1957, 1962, 1967, 1972, 1977, 1982, 1987, 1992, 1997, 2002, 2007], \"xaxis\": \"x\", \"y\": [67.5, 69.1, 70.3, 70.8, 71.0, 72.5, 73.8, 74.847, 76.07, 77.34, 78.67, 79.406], \"yaxis\": \"y\"}, {\"hovertemplate\": \"<b>%{hovertext}</b><br><br>continent=Europe<br>country=Greece<br>year=%{x}<br>lifeExp=%{y}<extra></extra>\", \"hovertext\": [\"Greece\", \"Greece\", \"Greece\", \"Greece\", \"Greece\", \"Greece\", \"Greece\", \"Greece\", \"Greece\", \"Greece\", \"Greece\", \"Greece\"], \"legendgroup\": \"Europe\", \"line\": {\"color\": \"#EF553B\"}, \"mode\": \"lines\", \"name\": \"Europe\", \"orientation\": \"v\", \"showlegend\": false, \"stackgroup\": \"1\", \"type\": \"scatter\", \"x\": [1952, 1957, 1962, 1967, 1972, 1977, 1982, 1987, 1992, 1997, 2002, 2007], \"xaxis\": \"x\", \"y\": [65.86, 67.86, 69.51, 71.0, 72.34, 73.68, 75.24, 76.67, 77.03, 77.869, 78.256, 79.483], \"yaxis\": \"y\"}, {\"hovertemplate\": \"<b>%{hovertext}</b><br><br>continent=Europe<br>country=Hungary<br>year=%{x}<br>lifeExp=%{y}<extra></extra>\", \"hovertext\": [\"Hungary\", \"Hungary\", \"Hungary\", \"Hungary\", \"Hungary\", \"Hungary\", \"Hungary\", \"Hungary\", \"Hungary\", \"Hungary\", \"Hungary\", \"Hungary\"], \"legendgroup\": \"Europe\", \"line\": {\"color\": \"#EF553B\"}, \"mode\": \"lines\", \"name\": \"Europe\", \"orientation\": \"v\", \"showlegend\": false, \"stackgroup\": \"1\", \"type\": \"scatter\", \"x\": [1952, 1957, 1962, 1967, 1972, 1977, 1982, 1987, 1992, 1997, 2002, 2007], \"xaxis\": \"x\", \"y\": [64.03, 66.41, 67.96, 69.5, 69.76, 69.95, 69.39, 69.58, 69.17, 71.04, 72.59, 73.33800000000001], \"yaxis\": \"y\"}, {\"hovertemplate\": \"<b>%{hovertext}</b><br><br>continent=Europe<br>country=Iceland<br>year=%{x}<br>lifeExp=%{y}<extra></extra>\", \"hovertext\": [\"Iceland\", \"Iceland\", \"Iceland\", \"Iceland\", \"Iceland\", \"Iceland\", \"Iceland\", \"Iceland\", \"Iceland\", \"Iceland\", \"Iceland\", \"Iceland\"], \"legendgroup\": \"Europe\", \"line\": {\"color\": \"#EF553B\"}, \"mode\": \"lines\", \"name\": \"Europe\", \"orientation\": \"v\", \"showlegend\": false, \"stackgroup\": \"1\", \"type\": \"scatter\", \"x\": [1952, 1957, 1962, 1967, 1972, 1977, 1982, 1987, 1992, 1997, 2002, 2007], \"xaxis\": \"x\", \"y\": [72.49, 73.47, 73.68, 73.73, 74.46, 76.11, 76.99, 77.23, 78.77, 78.95, 80.5, 81.757], \"yaxis\": \"y\"}, {\"hovertemplate\": \"<b>%{hovertext}</b><br><br>continent=Europe<br>country=Ireland<br>year=%{x}<br>lifeExp=%{y}<extra></extra>\", \"hovertext\": [\"Ireland\", \"Ireland\", \"Ireland\", \"Ireland\", \"Ireland\", \"Ireland\", \"Ireland\", \"Ireland\", \"Ireland\", \"Ireland\", \"Ireland\", \"Ireland\"], \"legendgroup\": \"Europe\", \"line\": {\"color\": \"#EF553B\"}, \"mode\": \"lines\", \"name\": \"Europe\", \"orientation\": \"v\", \"showlegend\": false, \"stackgroup\": \"1\", \"type\": \"scatter\", \"x\": [1952, 1957, 1962, 1967, 1972, 1977, 1982, 1987, 1992, 1997, 2002, 2007], \"xaxis\": \"x\", \"y\": [66.91, 68.9, 70.29, 71.08, 71.28, 72.03, 73.1, 74.36, 75.467, 76.122, 77.783, 78.885], \"yaxis\": \"y\"}, {\"hovertemplate\": \"<b>%{hovertext}</b><br><br>continent=Europe<br>country=Italy<br>year=%{x}<br>lifeExp=%{y}<extra></extra>\", \"hovertext\": [\"Italy\", \"Italy\", \"Italy\", \"Italy\", \"Italy\", \"Italy\", \"Italy\", \"Italy\", \"Italy\", \"Italy\", \"Italy\", \"Italy\"], \"legendgroup\": \"Europe\", \"line\": {\"color\": \"#EF553B\"}, \"mode\": \"lines\", \"name\": \"Europe\", \"orientation\": \"v\", \"showlegend\": false, \"stackgroup\": \"1\", \"type\": \"scatter\", \"x\": [1952, 1957, 1962, 1967, 1972, 1977, 1982, 1987, 1992, 1997, 2002, 2007], \"xaxis\": \"x\", \"y\": [65.94, 67.81, 69.24, 71.06, 72.19, 73.48, 74.98, 76.42, 77.44, 78.82, 80.24, 80.546], \"yaxis\": \"y\"}, {\"hovertemplate\": \"<b>%{hovertext}</b><br><br>continent=Europe<br>country=Montenegro<br>year=%{x}<br>lifeExp=%{y}<extra></extra>\", \"hovertext\": [\"Montenegro\", \"Montenegro\", \"Montenegro\", \"Montenegro\", \"Montenegro\", \"Montenegro\", \"Montenegro\", \"Montenegro\", \"Montenegro\", \"Montenegro\", \"Montenegro\", \"Montenegro\"], \"legendgroup\": \"Europe\", \"line\": {\"color\": \"#EF553B\"}, \"mode\": \"lines\", \"name\": \"Europe\", \"orientation\": \"v\", \"showlegend\": false, \"stackgroup\": \"1\", \"type\": \"scatter\", \"x\": [1952, 1957, 1962, 1967, 1972, 1977, 1982, 1987, 1992, 1997, 2002, 2007], \"xaxis\": \"x\", \"y\": [59.163999999999994, 61.448, 63.728, 67.178, 70.63600000000001, 73.066, 74.101, 74.865, 75.435, 75.445, 73.98100000000001, 74.543], \"yaxis\": \"y\"}, {\"hovertemplate\": \"<b>%{hovertext}</b><br><br>continent=Europe<br>country=Netherlands<br>year=%{x}<br>lifeExp=%{y}<extra></extra>\", \"hovertext\": [\"Netherlands\", \"Netherlands\", \"Netherlands\", \"Netherlands\", \"Netherlands\", \"Netherlands\", \"Netherlands\", \"Netherlands\", \"Netherlands\", \"Netherlands\", \"Netherlands\", \"Netherlands\"], \"legendgroup\": \"Europe\", \"line\": {\"color\": \"#EF553B\"}, \"mode\": \"lines\", \"name\": \"Europe\", \"orientation\": \"v\", \"showlegend\": false, \"stackgroup\": \"1\", \"type\": \"scatter\", \"x\": [1952, 1957, 1962, 1967, 1972, 1977, 1982, 1987, 1992, 1997, 2002, 2007], \"xaxis\": \"x\", \"y\": [72.13, 72.99, 73.23, 73.82, 73.75, 75.24, 76.05, 76.83, 77.42, 78.03, 78.53, 79.762], \"yaxis\": \"y\"}, {\"hovertemplate\": \"<b>%{hovertext}</b><br><br>continent=Europe<br>country=Norway<br>year=%{x}<br>lifeExp=%{y}<extra></extra>\", \"hovertext\": [\"Norway\", \"Norway\", \"Norway\", \"Norway\", \"Norway\", \"Norway\", \"Norway\", \"Norway\", \"Norway\", \"Norway\", \"Norway\", \"Norway\"], \"legendgroup\": \"Europe\", \"line\": {\"color\": \"#EF553B\"}, \"mode\": \"lines\", \"name\": \"Europe\", \"orientation\": \"v\", \"showlegend\": false, \"stackgroup\": \"1\", \"type\": \"scatter\", \"x\": [1952, 1957, 1962, 1967, 1972, 1977, 1982, 1987, 1992, 1997, 2002, 2007], \"xaxis\": \"x\", \"y\": [72.67, 73.44, 73.47, 74.08, 74.34, 75.37, 75.97, 75.89, 77.32, 78.32, 79.05, 80.196], \"yaxis\": \"y\"}, {\"hovertemplate\": \"<b>%{hovertext}</b><br><br>continent=Europe<br>country=Poland<br>year=%{x}<br>lifeExp=%{y}<extra></extra>\", \"hovertext\": [\"Poland\", \"Poland\", \"Poland\", \"Poland\", \"Poland\", \"Poland\", \"Poland\", \"Poland\", \"Poland\", \"Poland\", \"Poland\", \"Poland\"], \"legendgroup\": \"Europe\", \"line\": {\"color\": \"#EF553B\"}, \"mode\": \"lines\", \"name\": \"Europe\", \"orientation\": \"v\", \"showlegend\": false, \"stackgroup\": \"1\", \"type\": \"scatter\", \"x\": [1952, 1957, 1962, 1967, 1972, 1977, 1982, 1987, 1992, 1997, 2002, 2007], \"xaxis\": \"x\", \"y\": [61.31, 65.77, 67.64, 69.61, 70.85, 70.67, 71.32, 70.98, 70.99, 72.75, 74.67, 75.563], \"yaxis\": \"y\"}, {\"hovertemplate\": \"<b>%{hovertext}</b><br><br>continent=Europe<br>country=Portugal<br>year=%{x}<br>lifeExp=%{y}<extra></extra>\", \"hovertext\": [\"Portugal\", \"Portugal\", \"Portugal\", \"Portugal\", \"Portugal\", \"Portugal\", \"Portugal\", \"Portugal\", \"Portugal\", \"Portugal\", \"Portugal\", \"Portugal\"], \"legendgroup\": \"Europe\", \"line\": {\"color\": \"#EF553B\"}, \"mode\": \"lines\", \"name\": \"Europe\", \"orientation\": \"v\", \"showlegend\": false, \"stackgroup\": \"1\", \"type\": \"scatter\", \"x\": [1952, 1957, 1962, 1967, 1972, 1977, 1982, 1987, 1992, 1997, 2002, 2007], \"xaxis\": \"x\", \"y\": [59.82, 61.51, 64.39, 66.6, 69.26, 70.41, 72.77, 74.06, 74.86, 75.97, 77.29, 78.098], \"yaxis\": \"y\"}, {\"hovertemplate\": \"<b>%{hovertext}</b><br><br>continent=Europe<br>country=Romania<br>year=%{x}<br>lifeExp=%{y}<extra></extra>\", \"hovertext\": [\"Romania\", \"Romania\", \"Romania\", \"Romania\", \"Romania\", \"Romania\", \"Romania\", \"Romania\", \"Romania\", \"Romania\", \"Romania\", \"Romania\"], \"legendgroup\": \"Europe\", \"line\": {\"color\": \"#EF553B\"}, \"mode\": \"lines\", \"name\": \"Europe\", \"orientation\": \"v\", \"showlegend\": false, \"stackgroup\": \"1\", \"type\": \"scatter\", \"x\": [1952, 1957, 1962, 1967, 1972, 1977, 1982, 1987, 1992, 1997, 2002, 2007], \"xaxis\": \"x\", \"y\": [61.05, 64.1, 66.8, 66.8, 69.21, 69.46, 69.66, 69.53, 69.36, 69.72, 71.322, 72.476], \"yaxis\": \"y\"}, {\"hovertemplate\": \"<b>%{hovertext}</b><br><br>continent=Europe<br>country=Serbia<br>year=%{x}<br>lifeExp=%{y}<extra></extra>\", \"hovertext\": [\"Serbia\", \"Serbia\", \"Serbia\", \"Serbia\", \"Serbia\", \"Serbia\", \"Serbia\", \"Serbia\", \"Serbia\", \"Serbia\", \"Serbia\", \"Serbia\"], \"legendgroup\": \"Europe\", \"line\": {\"color\": \"#EF553B\"}, \"mode\": \"lines\", \"name\": \"Europe\", \"orientation\": \"v\", \"showlegend\": false, \"stackgroup\": \"1\", \"type\": \"scatter\", \"x\": [1952, 1957, 1962, 1967, 1972, 1977, 1982, 1987, 1992, 1997, 2002, 2007], \"xaxis\": \"x\", \"y\": [57.996, 61.685, 64.531, 66.914, 68.7, 70.3, 70.16199999999999, 71.218, 71.65899999999999, 72.232, 73.21300000000001, 74.002], \"yaxis\": \"y\"}, {\"hovertemplate\": \"<b>%{hovertext}</b><br><br>continent=Europe<br>country=Slovak Republic<br>year=%{x}<br>lifeExp=%{y}<extra></extra>\", \"hovertext\": [\"Slovak Republic\", \"Slovak Republic\", \"Slovak Republic\", \"Slovak Republic\", \"Slovak Republic\", \"Slovak Republic\", \"Slovak Republic\", \"Slovak Republic\", \"Slovak Republic\", \"Slovak Republic\", \"Slovak Republic\", \"Slovak Republic\"], \"legendgroup\": \"Europe\", \"line\": {\"color\": \"#EF553B\"}, \"mode\": \"lines\", \"name\": \"Europe\", \"orientation\": \"v\", \"showlegend\": false, \"stackgroup\": \"1\", \"type\": \"scatter\", \"x\": [1952, 1957, 1962, 1967, 1972, 1977, 1982, 1987, 1992, 1997, 2002, 2007], \"xaxis\": \"x\", \"y\": [64.36, 67.45, 70.33, 70.98, 70.35, 70.45, 70.8, 71.08, 71.38, 72.71, 73.8, 74.663], \"yaxis\": \"y\"}, {\"hovertemplate\": \"<b>%{hovertext}</b><br><br>continent=Europe<br>country=Slovenia<br>year=%{x}<br>lifeExp=%{y}<extra></extra>\", \"hovertext\": [\"Slovenia\", \"Slovenia\", \"Slovenia\", \"Slovenia\", \"Slovenia\", \"Slovenia\", \"Slovenia\", \"Slovenia\", \"Slovenia\", \"Slovenia\", \"Slovenia\", \"Slovenia\"], \"legendgroup\": \"Europe\", \"line\": {\"color\": \"#EF553B\"}, \"mode\": \"lines\", \"name\": \"Europe\", \"orientation\": \"v\", \"showlegend\": false, \"stackgroup\": \"1\", \"type\": \"scatter\", \"x\": [1952, 1957, 1962, 1967, 1972, 1977, 1982, 1987, 1992, 1997, 2002, 2007], \"xaxis\": \"x\", \"y\": [65.57, 67.85, 69.15, 69.18, 69.82, 70.97, 71.063, 72.25, 73.64, 75.13, 76.66, 77.926], \"yaxis\": \"y\"}, {\"hovertemplate\": \"<b>%{hovertext}</b><br><br>continent=Europe<br>country=Spain<br>year=%{x}<br>lifeExp=%{y}<extra></extra>\", \"hovertext\": [\"Spain\", \"Spain\", \"Spain\", \"Spain\", \"Spain\", \"Spain\", \"Spain\", \"Spain\", \"Spain\", \"Spain\", \"Spain\", \"Spain\"], \"legendgroup\": \"Europe\", \"line\": {\"color\": \"#EF553B\"}, \"mode\": \"lines\", \"name\": \"Europe\", \"orientation\": \"v\", \"showlegend\": false, \"stackgroup\": \"1\", \"type\": \"scatter\", \"x\": [1952, 1957, 1962, 1967, 1972, 1977, 1982, 1987, 1992, 1997, 2002, 2007], \"xaxis\": \"x\", \"y\": [64.94, 66.66, 69.69, 71.44, 73.06, 74.39, 76.3, 76.9, 77.57, 78.77, 79.78, 80.941], \"yaxis\": \"y\"}, {\"hovertemplate\": \"<b>%{hovertext}</b><br><br>continent=Europe<br>country=Sweden<br>year=%{x}<br>lifeExp=%{y}<extra></extra>\", \"hovertext\": [\"Sweden\", \"Sweden\", \"Sweden\", \"Sweden\", \"Sweden\", \"Sweden\", \"Sweden\", \"Sweden\", \"Sweden\", \"Sweden\", \"Sweden\", \"Sweden\"], \"legendgroup\": \"Europe\", \"line\": {\"color\": \"#EF553B\"}, \"mode\": \"lines\", \"name\": \"Europe\", \"orientation\": \"v\", \"showlegend\": false, \"stackgroup\": \"1\", \"type\": \"scatter\", \"x\": [1952, 1957, 1962, 1967, 1972, 1977, 1982, 1987, 1992, 1997, 2002, 2007], \"xaxis\": \"x\", \"y\": [71.86, 72.49, 73.37, 74.16, 74.72, 75.44, 76.42, 77.19, 78.16, 79.39, 80.04, 80.884], \"yaxis\": \"y\"}, {\"hovertemplate\": \"<b>%{hovertext}</b><br><br>continent=Europe<br>country=Switzerland<br>year=%{x}<br>lifeExp=%{y}<extra></extra>\", \"hovertext\": [\"Switzerland\", \"Switzerland\", \"Switzerland\", \"Switzerland\", \"Switzerland\", \"Switzerland\", \"Switzerland\", \"Switzerland\", \"Switzerland\", \"Switzerland\", \"Switzerland\", \"Switzerland\"], \"legendgroup\": \"Europe\", \"line\": {\"color\": \"#EF553B\"}, \"mode\": \"lines\", \"name\": \"Europe\", \"orientation\": \"v\", \"showlegend\": false, \"stackgroup\": \"1\", \"type\": \"scatter\", \"x\": [1952, 1957, 1962, 1967, 1972, 1977, 1982, 1987, 1992, 1997, 2002, 2007], \"xaxis\": \"x\", \"y\": [69.62, 70.56, 71.32, 72.77, 73.78, 75.39, 76.21, 77.41, 78.03, 79.37, 80.62, 81.70100000000001], \"yaxis\": \"y\"}, {\"hovertemplate\": \"<b>%{hovertext}</b><br><br>continent=Europe<br>country=Turkey<br>year=%{x}<br>lifeExp=%{y}<extra></extra>\", \"hovertext\": [\"Turkey\", \"Turkey\", \"Turkey\", \"Turkey\", \"Turkey\", \"Turkey\", \"Turkey\", \"Turkey\", \"Turkey\", \"Turkey\", \"Turkey\", \"Turkey\"], \"legendgroup\": \"Europe\", \"line\": {\"color\": \"#EF553B\"}, \"mode\": \"lines\", \"name\": \"Europe\", \"orientation\": \"v\", \"showlegend\": false, \"stackgroup\": \"1\", \"type\": \"scatter\", \"x\": [1952, 1957, 1962, 1967, 1972, 1977, 1982, 1987, 1992, 1997, 2002, 2007], \"xaxis\": \"x\", \"y\": [43.585, 48.07899999999999, 52.098, 54.336000000000006, 57.005, 59.507, 61.036, 63.108000000000004, 66.146, 68.835, 70.845, 71.777], \"yaxis\": \"y\"}, {\"hovertemplate\": \"<b>%{hovertext}</b><br><br>continent=Europe<br>country=United Kingdom<br>year=%{x}<br>lifeExp=%{y}<extra></extra>\", \"hovertext\": [\"United Kingdom\", \"United Kingdom\", \"United Kingdom\", \"United Kingdom\", \"United Kingdom\", \"United Kingdom\", \"United Kingdom\", \"United Kingdom\", \"United Kingdom\", \"United Kingdom\", \"United Kingdom\", \"United Kingdom\"], \"legendgroup\": \"Europe\", \"line\": {\"color\": \"#EF553B\"}, \"mode\": \"lines\", \"name\": \"Europe\", \"orientation\": \"v\", \"showlegend\": false, \"stackgroup\": \"1\", \"type\": \"scatter\", \"x\": [1952, 1957, 1962, 1967, 1972, 1977, 1982, 1987, 1992, 1997, 2002, 2007], \"xaxis\": \"x\", \"y\": [69.18, 70.42, 70.76, 71.36, 72.01, 72.76, 74.04, 75.007, 76.42, 77.218, 78.471, 79.425], \"yaxis\": \"y\"}, {\"hovertemplate\": \"<b>%{hovertext}</b><br><br>continent=Africa<br>country=Algeria<br>year=%{x}<br>lifeExp=%{y}<extra></extra>\", \"hovertext\": [\"Algeria\", \"Algeria\", \"Algeria\", \"Algeria\", \"Algeria\", \"Algeria\", \"Algeria\", \"Algeria\", \"Algeria\", \"Algeria\", \"Algeria\", \"Algeria\"], \"legendgroup\": \"Africa\", \"line\": {\"color\": \"#00cc96\"}, \"mode\": \"lines\", \"name\": \"Africa\", \"orientation\": \"v\", \"showlegend\": true, \"stackgroup\": \"1\", \"type\": \"scatter\", \"x\": [1952, 1957, 1962, 1967, 1972, 1977, 1982, 1987, 1992, 1997, 2002, 2007], \"xaxis\": \"x\", \"y\": [43.077, 45.685, 48.303000000000004, 51.407, 54.518, 58.013999999999996, 61.368, 65.79899999999999, 67.744, 69.152, 70.994, 72.301], \"yaxis\": \"y\"}, {\"hovertemplate\": \"<b>%{hovertext}</b><br><br>continent=Africa<br>country=Angola<br>year=%{x}<br>lifeExp=%{y}<extra></extra>\", \"hovertext\": [\"Angola\", \"Angola\", \"Angola\", \"Angola\", \"Angola\", \"Angola\", \"Angola\", \"Angola\", \"Angola\", \"Angola\", \"Angola\", \"Angola\"], \"legendgroup\": \"Africa\", \"line\": {\"color\": \"#00cc96\"}, \"mode\": \"lines\", \"name\": \"Africa\", \"orientation\": \"v\", \"showlegend\": false, \"stackgroup\": \"1\", \"type\": \"scatter\", \"x\": [1952, 1957, 1962, 1967, 1972, 1977, 1982, 1987, 1992, 1997, 2002, 2007], \"xaxis\": \"x\", \"y\": [30.015, 31.999000000000002, 34.0, 35.985, 37.928000000000004, 39.483000000000004, 39.942, 39.906, 40.647, 40.963, 41.003, 42.731], \"yaxis\": \"y\"}, {\"hovertemplate\": \"<b>%{hovertext}</b><br><br>continent=Africa<br>country=Benin<br>year=%{x}<br>lifeExp=%{y}<extra></extra>\", \"hovertext\": [\"Benin\", \"Benin\", \"Benin\", \"Benin\", \"Benin\", \"Benin\", \"Benin\", \"Benin\", \"Benin\", \"Benin\", \"Benin\", \"Benin\"], \"legendgroup\": \"Africa\", \"line\": {\"color\": \"#00cc96\"}, \"mode\": \"lines\", \"name\": \"Africa\", \"orientation\": \"v\", \"showlegend\": false, \"stackgroup\": \"1\", \"type\": \"scatter\", \"x\": [1952, 1957, 1962, 1967, 1972, 1977, 1982, 1987, 1992, 1997, 2002, 2007], \"xaxis\": \"x\", \"y\": [38.223, 40.358000000000004, 42.618, 44.885, 47.013999999999996, 49.19, 50.903999999999996, 52.336999999999996, 53.919, 54.777, 54.406000000000006, 56.728], \"yaxis\": \"y\"}, {\"hovertemplate\": \"<b>%{hovertext}</b><br><br>continent=Africa<br>country=Botswana<br>year=%{x}<br>lifeExp=%{y}<extra></extra>\", \"hovertext\": [\"Botswana\", \"Botswana\", \"Botswana\", \"Botswana\", \"Botswana\", \"Botswana\", \"Botswana\", \"Botswana\", \"Botswana\", \"Botswana\", \"Botswana\", \"Botswana\"], \"legendgroup\": \"Africa\", \"line\": {\"color\": \"#00cc96\"}, \"mode\": \"lines\", \"name\": \"Africa\", \"orientation\": \"v\", \"showlegend\": false, \"stackgroup\": \"1\", \"type\": \"scatter\", \"x\": [1952, 1957, 1962, 1967, 1972, 1977, 1982, 1987, 1992, 1997, 2002, 2007], \"xaxis\": \"x\", \"y\": [47.622, 49.618, 51.52, 53.298, 56.023999999999994, 59.318999999999996, 61.483999999999995, 63.622, 62.745, 52.556000000000004, 46.63399999999999, 50.728], \"yaxis\": \"y\"}, {\"hovertemplate\": \"<b>%{hovertext}</b><br><br>continent=Africa<br>country=Burkina Faso<br>year=%{x}<br>lifeExp=%{y}<extra></extra>\", \"hovertext\": [\"Burkina Faso\", \"Burkina Faso\", \"Burkina Faso\", \"Burkina Faso\", \"Burkina Faso\", \"Burkina Faso\", \"Burkina Faso\", \"Burkina Faso\", \"Burkina Faso\", \"Burkina Faso\", \"Burkina Faso\", \"Burkina Faso\"], \"legendgroup\": \"Africa\", \"line\": {\"color\": \"#00cc96\"}, \"mode\": \"lines\", \"name\": \"Africa\", \"orientation\": \"v\", \"showlegend\": false, \"stackgroup\": \"1\", \"type\": \"scatter\", \"x\": [1952, 1957, 1962, 1967, 1972, 1977, 1982, 1987, 1992, 1997, 2002, 2007], \"xaxis\": \"x\", \"y\": [31.975, 34.906, 37.814, 40.696999999999996, 43.591, 46.137, 48.122, 49.556999999999995, 50.26, 50.324, 50.65, 52.295], \"yaxis\": \"y\"}, {\"hovertemplate\": \"<b>%{hovertext}</b><br><br>continent=Africa<br>country=Burundi<br>year=%{x}<br>lifeExp=%{y}<extra></extra>\", \"hovertext\": [\"Burundi\", \"Burundi\", \"Burundi\", \"Burundi\", \"Burundi\", \"Burundi\", \"Burundi\", \"Burundi\", \"Burundi\", \"Burundi\", \"Burundi\", \"Burundi\"], \"legendgroup\": \"Africa\", \"line\": {\"color\": \"#00cc96\"}, \"mode\": \"lines\", \"name\": \"Africa\", \"orientation\": \"v\", \"showlegend\": false, \"stackgroup\": \"1\", \"type\": \"scatter\", \"x\": [1952, 1957, 1962, 1967, 1972, 1977, 1982, 1987, 1992, 1997, 2002, 2007], \"xaxis\": \"x\", \"y\": [39.031, 40.533, 42.045, 43.548, 44.056999999999995, 45.91, 47.471000000000004, 48.211000000000006, 44.736000000000004, 45.326, 47.36, 49.58], \"yaxis\": \"y\"}, {\"hovertemplate\": \"<b>%{hovertext}</b><br><br>continent=Africa<br>country=Cameroon<br>year=%{x}<br>lifeExp=%{y}<extra></extra>\", \"hovertext\": [\"Cameroon\", \"Cameroon\", \"Cameroon\", \"Cameroon\", \"Cameroon\", \"Cameroon\", \"Cameroon\", \"Cameroon\", \"Cameroon\", \"Cameroon\", \"Cameroon\", \"Cameroon\"], \"legendgroup\": \"Africa\", \"line\": {\"color\": \"#00cc96\"}, \"mode\": \"lines\", \"name\": \"Africa\", \"orientation\": \"v\", \"showlegend\": false, \"stackgroup\": \"1\", \"type\": \"scatter\", \"x\": [1952, 1957, 1962, 1967, 1972, 1977, 1982, 1987, 1992, 1997, 2002, 2007], \"xaxis\": \"x\", \"y\": [38.523, 40.428000000000004, 42.643, 44.799, 47.049, 49.355, 52.961000000000006, 54.985, 54.31399999999999, 52.199, 49.856, 50.43], \"yaxis\": \"y\"}, {\"hovertemplate\": \"<b>%{hovertext}</b><br><br>continent=Africa<br>country=Central African Republic<br>year=%{x}<br>lifeExp=%{y}<extra></extra>\", \"hovertext\": [\"Central African Republic\", \"Central African Republic\", \"Central African Republic\", \"Central African Republic\", \"Central African Republic\", \"Central African Republic\", \"Central African Republic\", \"Central African Republic\", \"Central African Republic\", \"Central African Republic\", \"Central African Republic\", \"Central African Republic\"], \"legendgroup\": \"Africa\", \"line\": {\"color\": \"#00cc96\"}, \"mode\": \"lines\", \"name\": \"Africa\", \"orientation\": \"v\", \"showlegend\": false, \"stackgroup\": \"1\", \"type\": \"scatter\", \"x\": [1952, 1957, 1962, 1967, 1972, 1977, 1982, 1987, 1992, 1997, 2002, 2007], \"xaxis\": \"x\", \"y\": [35.463, 37.464, 39.475, 41.478, 43.457, 46.775, 48.295, 50.485, 49.396, 46.066, 43.308, 44.74100000000001], \"yaxis\": \"y\"}, {\"hovertemplate\": \"<b>%{hovertext}</b><br><br>continent=Africa<br>country=Chad<br>year=%{x}<br>lifeExp=%{y}<extra></extra>\", \"hovertext\": [\"Chad\", \"Chad\", \"Chad\", \"Chad\", \"Chad\", \"Chad\", \"Chad\", \"Chad\", \"Chad\", \"Chad\", \"Chad\", \"Chad\"], \"legendgroup\": \"Africa\", \"line\": {\"color\": \"#00cc96\"}, \"mode\": \"lines\", \"name\": \"Africa\", \"orientation\": \"v\", \"showlegend\": false, \"stackgroup\": \"1\", \"type\": \"scatter\", \"x\": [1952, 1957, 1962, 1967, 1972, 1977, 1982, 1987, 1992, 1997, 2002, 2007], \"xaxis\": \"x\", \"y\": [38.092, 39.881, 41.716, 43.601000000000006, 45.568999999999996, 47.383, 49.516999999999996, 51.051, 51.724, 51.573, 50.525, 50.651], \"yaxis\": \"y\"}, {\"hovertemplate\": \"<b>%{hovertext}</b><br><br>continent=Africa<br>country=Comoros<br>year=%{x}<br>lifeExp=%{y}<extra></extra>\", \"hovertext\": [\"Comoros\", \"Comoros\", \"Comoros\", \"Comoros\", \"Comoros\", \"Comoros\", \"Comoros\", \"Comoros\", \"Comoros\", \"Comoros\", \"Comoros\", \"Comoros\"], \"legendgroup\": \"Africa\", \"line\": {\"color\": \"#00cc96\"}, \"mode\": \"lines\", \"name\": \"Africa\", \"orientation\": \"v\", \"showlegend\": false, \"stackgroup\": \"1\", \"type\": \"scatter\", \"x\": [1952, 1957, 1962, 1967, 1972, 1977, 1982, 1987, 1992, 1997, 2002, 2007], \"xaxis\": \"x\", \"y\": [40.715, 42.46, 44.467, 46.472, 48.943999999999996, 50.93899999999999, 52.933, 54.926, 57.93899999999999, 60.66, 62.974, 65.152], \"yaxis\": \"y\"}, {\"hovertemplate\": \"<b>%{hovertext}</b><br><br>continent=Africa<br>country=Congo, Dem. Rep.<br>year=%{x}<br>lifeExp=%{y}<extra></extra>\", \"hovertext\": [\"Congo, Dem. Rep.\", \"Congo, Dem. Rep.\", \"Congo, Dem. Rep.\", \"Congo, Dem. Rep.\", \"Congo, Dem. Rep.\", \"Congo, Dem. Rep.\", \"Congo, Dem. Rep.\", \"Congo, Dem. Rep.\", \"Congo, Dem. Rep.\", \"Congo, Dem. Rep.\", \"Congo, Dem. Rep.\", \"Congo, Dem. Rep.\"], \"legendgroup\": \"Africa\", \"line\": {\"color\": \"#00cc96\"}, \"mode\": \"lines\", \"name\": \"Africa\", \"orientation\": \"v\", \"showlegend\": false, \"stackgroup\": \"1\", \"type\": \"scatter\", \"x\": [1952, 1957, 1962, 1967, 1972, 1977, 1982, 1987, 1992, 1997, 2002, 2007], \"xaxis\": \"x\", \"y\": [39.143, 40.652, 42.122, 44.056000000000004, 45.989, 47.803999999999995, 47.784, 47.412, 45.548, 42.586999999999996, 44.966, 46.461999999999996], \"yaxis\": \"y\"}, {\"hovertemplate\": \"<b>%{hovertext}</b><br><br>continent=Africa<br>country=Congo, Rep.<br>year=%{x}<br>lifeExp=%{y}<extra></extra>\", \"hovertext\": [\"Congo, Rep.\", \"Congo, Rep.\", \"Congo, Rep.\", \"Congo, Rep.\", \"Congo, Rep.\", \"Congo, Rep.\", \"Congo, Rep.\", \"Congo, Rep.\", \"Congo, Rep.\", \"Congo, Rep.\", \"Congo, Rep.\", \"Congo, Rep.\"], \"legendgroup\": \"Africa\", \"line\": {\"color\": \"#00cc96\"}, \"mode\": \"lines\", \"name\": \"Africa\", \"orientation\": \"v\", \"showlegend\": false, \"stackgroup\": \"1\", \"type\": \"scatter\", \"x\": [1952, 1957, 1962, 1967, 1972, 1977, 1982, 1987, 1992, 1997, 2002, 2007], \"xaxis\": \"x\", \"y\": [42.111000000000004, 45.053000000000004, 48.435, 52.04, 54.907, 55.625, 56.695, 57.47, 56.433, 52.961999999999996, 52.97, 55.321999999999996], \"yaxis\": \"y\"}, {\"hovertemplate\": \"<b>%{hovertext}</b><br><br>continent=Africa<br>country=Cote d'Ivoire<br>year=%{x}<br>lifeExp=%{y}<extra></extra>\", \"hovertext\": [\"Cote d'Ivoire\", \"Cote d'Ivoire\", \"Cote d'Ivoire\", \"Cote d'Ivoire\", \"Cote d'Ivoire\", \"Cote d'Ivoire\", \"Cote d'Ivoire\", \"Cote d'Ivoire\", \"Cote d'Ivoire\", \"Cote d'Ivoire\", \"Cote d'Ivoire\", \"Cote d'Ivoire\"], \"legendgroup\": \"Africa\", \"line\": {\"color\": \"#00cc96\"}, \"mode\": \"lines\", \"name\": \"Africa\", \"orientation\": \"v\", \"showlegend\": false, \"stackgroup\": \"1\", \"type\": \"scatter\", \"x\": [1952, 1957, 1962, 1967, 1972, 1977, 1982, 1987, 1992, 1997, 2002, 2007], \"xaxis\": \"x\", \"y\": [40.477, 42.468999999999994, 44.93, 47.35, 49.801, 52.373999999999995, 53.983000000000004, 54.655, 52.044, 47.99100000000001, 46.832, 48.328], \"yaxis\": \"y\"}, {\"hovertemplate\": \"<b>%{hovertext}</b><br><br>continent=Africa<br>country=Djibouti<br>year=%{x}<br>lifeExp=%{y}<extra></extra>\", \"hovertext\": [\"Djibouti\", \"Djibouti\", \"Djibouti\", \"Djibouti\", \"Djibouti\", \"Djibouti\", \"Djibouti\", \"Djibouti\", \"Djibouti\", \"Djibouti\", \"Djibouti\", \"Djibouti\"], \"legendgroup\": \"Africa\", \"line\": {\"color\": \"#00cc96\"}, \"mode\": \"lines\", \"name\": \"Africa\", \"orientation\": \"v\", \"showlegend\": false, \"stackgroup\": \"1\", \"type\": \"scatter\", \"x\": [1952, 1957, 1962, 1967, 1972, 1977, 1982, 1987, 1992, 1997, 2002, 2007], \"xaxis\": \"x\", \"y\": [34.812, 37.328, 39.693000000000005, 42.074, 44.36600000000001, 46.519, 48.812, 50.04, 51.604, 53.157, 53.373000000000005, 54.791000000000004], \"yaxis\": \"y\"}, {\"hovertemplate\": \"<b>%{hovertext}</b><br><br>continent=Africa<br>country=Egypt<br>year=%{x}<br>lifeExp=%{y}<extra></extra>\", \"hovertext\": [\"Egypt\", \"Egypt\", \"Egypt\", \"Egypt\", \"Egypt\", \"Egypt\", \"Egypt\", \"Egypt\", \"Egypt\", \"Egypt\", \"Egypt\", \"Egypt\"], \"legendgroup\": \"Africa\", \"line\": {\"color\": \"#00cc96\"}, \"mode\": \"lines\", \"name\": \"Africa\", \"orientation\": \"v\", \"showlegend\": false, \"stackgroup\": \"1\", \"type\": \"scatter\", \"x\": [1952, 1957, 1962, 1967, 1972, 1977, 1982, 1987, 1992, 1997, 2002, 2007], \"xaxis\": \"x\", \"y\": [41.893, 44.443999999999996, 46.992, 49.293, 51.137, 53.318999999999996, 56.006, 59.797, 63.674, 67.217, 69.806, 71.33800000000001], \"yaxis\": \"y\"}, {\"hovertemplate\": \"<b>%{hovertext}</b><br><br>continent=Africa<br>country=Equatorial Guinea<br>year=%{x}<br>lifeExp=%{y}<extra></extra>\", \"hovertext\": [\"Equatorial Guinea\", \"Equatorial Guinea\", \"Equatorial Guinea\", \"Equatorial Guinea\", \"Equatorial Guinea\", \"Equatorial Guinea\", \"Equatorial Guinea\", \"Equatorial Guinea\", \"Equatorial Guinea\", \"Equatorial Guinea\", \"Equatorial Guinea\", \"Equatorial Guinea\"], \"legendgroup\": \"Africa\", \"line\": {\"color\": \"#00cc96\"}, \"mode\": \"lines\", \"name\": \"Africa\", \"orientation\": \"v\", \"showlegend\": false, \"stackgroup\": \"1\", \"type\": \"scatter\", \"x\": [1952, 1957, 1962, 1967, 1972, 1977, 1982, 1987, 1992, 1997, 2002, 2007], \"xaxis\": \"x\", \"y\": [34.482, 35.983000000000004, 37.485, 38.986999999999995, 40.516, 42.023999999999994, 43.662, 45.663999999999994, 47.545, 48.245, 49.348, 51.57899999999999], \"yaxis\": \"y\"}, {\"hovertemplate\": \"<b>%{hovertext}</b><br><br>continent=Africa<br>country=Eritrea<br>year=%{x}<br>lifeExp=%{y}<extra></extra>\", \"hovertext\": [\"Eritrea\", \"Eritrea\", \"Eritrea\", \"Eritrea\", \"Eritrea\", \"Eritrea\", \"Eritrea\", \"Eritrea\", \"Eritrea\", \"Eritrea\", \"Eritrea\", \"Eritrea\"], \"legendgroup\": \"Africa\", \"line\": {\"color\": \"#00cc96\"}, \"mode\": \"lines\", \"name\": \"Africa\", \"orientation\": \"v\", \"showlegend\": false, \"stackgroup\": \"1\", \"type\": \"scatter\", \"x\": [1952, 1957, 1962, 1967, 1972, 1977, 1982, 1987, 1992, 1997, 2002, 2007], \"xaxis\": \"x\", \"y\": [35.928000000000004, 38.047, 40.158, 42.18899999999999, 44.141999999999996, 44.535, 43.89, 46.453, 49.99100000000001, 53.378, 55.24, 58.04], \"yaxis\": \"y\"}, {\"hovertemplate\": \"<b>%{hovertext}</b><br><br>continent=Africa<br>country=Ethiopia<br>year=%{x}<br>lifeExp=%{y}<extra></extra>\", \"hovertext\": [\"Ethiopia\", \"Ethiopia\", \"Ethiopia\", \"Ethiopia\", \"Ethiopia\", \"Ethiopia\", \"Ethiopia\", \"Ethiopia\", \"Ethiopia\", \"Ethiopia\", \"Ethiopia\", \"Ethiopia\"], \"legendgroup\": \"Africa\", \"line\": {\"color\": \"#00cc96\"}, \"mode\": \"lines\", \"name\": \"Africa\", \"orientation\": \"v\", \"showlegend\": false, \"stackgroup\": \"1\", \"type\": \"scatter\", \"x\": [1952, 1957, 1962, 1967, 1972, 1977, 1982, 1987, 1992, 1997, 2002, 2007], \"xaxis\": \"x\", \"y\": [34.078, 36.667, 40.059, 42.115, 43.515, 44.51, 44.916000000000004, 46.684, 48.091, 49.402, 50.725, 52.946999999999996], \"yaxis\": \"y\"}, {\"hovertemplate\": \"<b>%{hovertext}</b><br><br>continent=Africa<br>country=Gabon<br>year=%{x}<br>lifeExp=%{y}<extra></extra>\", \"hovertext\": [\"Gabon\", \"Gabon\", \"Gabon\", \"Gabon\", \"Gabon\", \"Gabon\", \"Gabon\", \"Gabon\", \"Gabon\", \"Gabon\", \"Gabon\", \"Gabon\"], \"legendgroup\": \"Africa\", \"line\": {\"color\": \"#00cc96\"}, \"mode\": \"lines\", \"name\": \"Africa\", \"orientation\": \"v\", \"showlegend\": false, \"stackgroup\": \"1\", \"type\": \"scatter\", \"x\": [1952, 1957, 1962, 1967, 1972, 1977, 1982, 1987, 1992, 1997, 2002, 2007], \"xaxis\": \"x\", \"y\": [37.003, 38.999, 40.489000000000004, 44.598, 48.69, 52.79, 56.56399999999999, 60.19, 61.36600000000001, 60.461000000000006, 56.761, 56.735], \"yaxis\": \"y\"}, {\"hovertemplate\": \"<b>%{hovertext}</b><br><br>continent=Africa<br>country=Gambia<br>year=%{x}<br>lifeExp=%{y}<extra></extra>\", \"hovertext\": [\"Gambia\", \"Gambia\", \"Gambia\", \"Gambia\", \"Gambia\", \"Gambia\", \"Gambia\", \"Gambia\", \"Gambia\", \"Gambia\", \"Gambia\", \"Gambia\"], \"legendgroup\": \"Africa\", \"line\": {\"color\": \"#00cc96\"}, \"mode\": \"lines\", \"name\": \"Africa\", \"orientation\": \"v\", \"showlegend\": false, \"stackgroup\": \"1\", \"type\": \"scatter\", \"x\": [1952, 1957, 1962, 1967, 1972, 1977, 1982, 1987, 1992, 1997, 2002, 2007], \"xaxis\": \"x\", \"y\": [30.0, 32.065, 33.896, 35.857, 38.308, 41.842, 45.58, 49.265, 52.644, 55.861000000000004, 58.041000000000004, 59.448], \"yaxis\": \"y\"}, {\"hovertemplate\": \"<b>%{hovertext}</b><br><br>continent=Africa<br>country=Ghana<br>year=%{x}<br>lifeExp=%{y}<extra></extra>\", \"hovertext\": [\"Ghana\", \"Ghana\", \"Ghana\", \"Ghana\", \"Ghana\", \"Ghana\", \"Ghana\", \"Ghana\", \"Ghana\", \"Ghana\", \"Ghana\", \"Ghana\"], \"legendgroup\": \"Africa\", \"line\": {\"color\": \"#00cc96\"}, \"mode\": \"lines\", \"name\": \"Africa\", \"orientation\": \"v\", \"showlegend\": false, \"stackgroup\": \"1\", \"type\": \"scatter\", \"x\": [1952, 1957, 1962, 1967, 1972, 1977, 1982, 1987, 1992, 1997, 2002, 2007], \"xaxis\": \"x\", \"y\": [43.148999999999994, 44.778999999999996, 46.452, 48.071999999999996, 49.875, 51.756, 53.744, 55.729, 57.501000000000005, 58.556000000000004, 58.453, 60.022], \"yaxis\": \"y\"}, {\"hovertemplate\": \"<b>%{hovertext}</b><br><br>continent=Africa<br>country=Guinea<br>year=%{x}<br>lifeExp=%{y}<extra></extra>\", \"hovertext\": [\"Guinea\", \"Guinea\", \"Guinea\", \"Guinea\", \"Guinea\", \"Guinea\", \"Guinea\", \"Guinea\", \"Guinea\", \"Guinea\", \"Guinea\", \"Guinea\"], \"legendgroup\": \"Africa\", \"line\": {\"color\": \"#00cc96\"}, \"mode\": \"lines\", \"name\": \"Africa\", \"orientation\": \"v\", \"showlegend\": false, \"stackgroup\": \"1\", \"type\": \"scatter\", \"x\": [1952, 1957, 1962, 1967, 1972, 1977, 1982, 1987, 1992, 1997, 2002, 2007], \"xaxis\": \"x\", \"y\": [33.609, 34.558, 35.753, 37.196999999999996, 38.842, 40.762, 42.891000000000005, 45.552, 48.576, 51.455, 53.676, 56.007], \"yaxis\": \"y\"}, {\"hovertemplate\": \"<b>%{hovertext}</b><br><br>continent=Africa<br>country=Guinea-Bissau<br>year=%{x}<br>lifeExp=%{y}<extra></extra>\", \"hovertext\": [\"Guinea-Bissau\", \"Guinea-Bissau\", \"Guinea-Bissau\", \"Guinea-Bissau\", \"Guinea-Bissau\", \"Guinea-Bissau\", \"Guinea-Bissau\", \"Guinea-Bissau\", \"Guinea-Bissau\", \"Guinea-Bissau\", \"Guinea-Bissau\", \"Guinea-Bissau\"], \"legendgroup\": \"Africa\", \"line\": {\"color\": \"#00cc96\"}, \"mode\": \"lines\", \"name\": \"Africa\", \"orientation\": \"v\", \"showlegend\": false, \"stackgroup\": \"1\", \"type\": \"scatter\", \"x\": [1952, 1957, 1962, 1967, 1972, 1977, 1982, 1987, 1992, 1997, 2002, 2007], \"xaxis\": \"x\", \"y\": [32.5, 33.489000000000004, 34.488, 35.492, 36.486, 37.465, 39.327, 41.245, 43.266000000000005, 44.873000000000005, 45.504, 46.388000000000005], \"yaxis\": \"y\"}, {\"hovertemplate\": \"<b>%{hovertext}</b><br><br>continent=Africa<br>country=Kenya<br>year=%{x}<br>lifeExp=%{y}<extra></extra>\", \"hovertext\": [\"Kenya\", \"Kenya\", \"Kenya\", \"Kenya\", \"Kenya\", \"Kenya\", \"Kenya\", \"Kenya\", \"Kenya\", \"Kenya\", \"Kenya\", \"Kenya\"], \"legendgroup\": \"Africa\", \"line\": {\"color\": \"#00cc96\"}, \"mode\": \"lines\", \"name\": \"Africa\", \"orientation\": \"v\", \"showlegend\": false, \"stackgroup\": \"1\", \"type\": \"scatter\", \"x\": [1952, 1957, 1962, 1967, 1972, 1977, 1982, 1987, 1992, 1997, 2002, 2007], \"xaxis\": \"x\", \"y\": [42.27, 44.68600000000001, 47.949, 50.653999999999996, 53.559, 56.155, 58.766000000000005, 59.339, 59.285, 54.407, 50.992, 54.11], \"yaxis\": \"y\"}, {\"hovertemplate\": \"<b>%{hovertext}</b><br><br>continent=Africa<br>country=Lesotho<br>year=%{x}<br>lifeExp=%{y}<extra></extra>\", \"hovertext\": [\"Lesotho\", \"Lesotho\", \"Lesotho\", \"Lesotho\", \"Lesotho\", \"Lesotho\", \"Lesotho\", \"Lesotho\", \"Lesotho\", \"Lesotho\", \"Lesotho\", \"Lesotho\"], \"legendgroup\": \"Africa\", \"line\": {\"color\": \"#00cc96\"}, \"mode\": \"lines\", \"name\": \"Africa\", \"orientation\": \"v\", \"showlegend\": false, \"stackgroup\": \"1\", \"type\": \"scatter\", \"x\": [1952, 1957, 1962, 1967, 1972, 1977, 1982, 1987, 1992, 1997, 2002, 2007], \"xaxis\": \"x\", \"y\": [42.138000000000005, 45.047, 47.747, 48.492, 49.766999999999996, 52.208, 55.078, 57.18, 59.685, 55.558, 44.593, 42.592], \"yaxis\": \"y\"}, {\"hovertemplate\": \"<b>%{hovertext}</b><br><br>continent=Africa<br>country=Liberia<br>year=%{x}<br>lifeExp=%{y}<extra></extra>\", \"hovertext\": [\"Liberia\", \"Liberia\", \"Liberia\", \"Liberia\", \"Liberia\", \"Liberia\", \"Liberia\", \"Liberia\", \"Liberia\", \"Liberia\", \"Liberia\", \"Liberia\"], \"legendgroup\": \"Africa\", \"line\": {\"color\": \"#00cc96\"}, \"mode\": \"lines\", \"name\": \"Africa\", \"orientation\": \"v\", \"showlegend\": false, \"stackgroup\": \"1\", \"type\": \"scatter\", \"x\": [1952, 1957, 1962, 1967, 1972, 1977, 1982, 1987, 1992, 1997, 2002, 2007], \"xaxis\": \"x\", \"y\": [38.48, 39.486, 40.501999999999995, 41.536, 42.614, 43.763999999999996, 44.852, 46.027, 40.802, 42.221000000000004, 43.753, 45.678000000000004], \"yaxis\": \"y\"}, {\"hovertemplate\": \"<b>%{hovertext}</b><br><br>continent=Africa<br>country=Libya<br>year=%{x}<br>lifeExp=%{y}<extra></extra>\", \"hovertext\": [\"Libya\", \"Libya\", \"Libya\", \"Libya\", \"Libya\", \"Libya\", \"Libya\", \"Libya\", \"Libya\", \"Libya\", \"Libya\", \"Libya\"], \"legendgroup\": \"Africa\", \"line\": {\"color\": \"#00cc96\"}, \"mode\": \"lines\", \"name\": \"Africa\", \"orientation\": \"v\", \"showlegend\": false, \"stackgroup\": \"1\", \"type\": \"scatter\", \"x\": [1952, 1957, 1962, 1967, 1972, 1977, 1982, 1987, 1992, 1997, 2002, 2007], \"xaxis\": \"x\", \"y\": [42.723, 45.288999999999994, 47.808, 50.227, 52.773, 57.442, 62.155, 66.234, 68.755, 71.555, 72.737, 73.952], \"yaxis\": \"y\"}, {\"hovertemplate\": \"<b>%{hovertext}</b><br><br>continent=Africa<br>country=Madagascar<br>year=%{x}<br>lifeExp=%{y}<extra></extra>\", \"hovertext\": [\"Madagascar\", \"Madagascar\", \"Madagascar\", \"Madagascar\", \"Madagascar\", \"Madagascar\", \"Madagascar\", \"Madagascar\", \"Madagascar\", \"Madagascar\", \"Madagascar\", \"Madagascar\"], \"legendgroup\": \"Africa\", \"line\": {\"color\": \"#00cc96\"}, \"mode\": \"lines\", \"name\": \"Africa\", \"orientation\": \"v\", \"showlegend\": false, \"stackgroup\": \"1\", \"type\": \"scatter\", \"x\": [1952, 1957, 1962, 1967, 1972, 1977, 1982, 1987, 1992, 1997, 2002, 2007], \"xaxis\": \"x\", \"y\": [36.681, 38.865, 40.848, 42.881, 44.851000000000006, 46.881, 48.968999999999994, 49.35, 52.214, 54.978, 57.286, 59.443000000000005], \"yaxis\": \"y\"}, {\"hovertemplate\": \"<b>%{hovertext}</b><br><br>continent=Africa<br>country=Malawi<br>year=%{x}<br>lifeExp=%{y}<extra></extra>\", \"hovertext\": [\"Malawi\", \"Malawi\", \"Malawi\", \"Malawi\", \"Malawi\", \"Malawi\", \"Malawi\", \"Malawi\", \"Malawi\", \"Malawi\", \"Malawi\", \"Malawi\"], \"legendgroup\": \"Africa\", \"line\": {\"color\": \"#00cc96\"}, \"mode\": \"lines\", \"name\": \"Africa\", \"orientation\": \"v\", \"showlegend\": false, \"stackgroup\": \"1\", \"type\": \"scatter\", \"x\": [1952, 1957, 1962, 1967, 1972, 1977, 1982, 1987, 1992, 1997, 2002, 2007], \"xaxis\": \"x\", \"y\": [36.256, 37.207, 38.41, 39.486999999999995, 41.766000000000005, 43.766999999999996, 45.641999999999996, 47.457, 49.42, 47.495, 45.00899999999999, 48.303000000000004], \"yaxis\": \"y\"}, {\"hovertemplate\": \"<b>%{hovertext}</b><br><br>continent=Africa<br>country=Mali<br>year=%{x}<br>lifeExp=%{y}<extra></extra>\", \"hovertext\": [\"Mali\", \"Mali\", \"Mali\", \"Mali\", \"Mali\", \"Mali\", \"Mali\", \"Mali\", \"Mali\", \"Mali\", \"Mali\", \"Mali\"], \"legendgroup\": \"Africa\", \"line\": {\"color\": \"#00cc96\"}, \"mode\": \"lines\", \"name\": \"Africa\", \"orientation\": \"v\", \"showlegend\": false, \"stackgroup\": \"1\", \"type\": \"scatter\", \"x\": [1952, 1957, 1962, 1967, 1972, 1977, 1982, 1987, 1992, 1997, 2002, 2007], \"xaxis\": \"x\", \"y\": [33.685, 35.306999999999995, 36.936, 38.486999999999995, 39.977, 41.714, 43.916000000000004, 46.364, 48.388000000000005, 49.903, 51.818000000000005, 54.467], \"yaxis\": \"y\"}, {\"hovertemplate\": \"<b>%{hovertext}</b><br><br>continent=Africa<br>country=Mauritania<br>year=%{x}<br>lifeExp=%{y}<extra></extra>\", \"hovertext\": [\"Mauritania\", \"Mauritania\", \"Mauritania\", \"Mauritania\", \"Mauritania\", \"Mauritania\", \"Mauritania\", \"Mauritania\", \"Mauritania\", \"Mauritania\", \"Mauritania\", \"Mauritania\"], \"legendgroup\": \"Africa\", \"line\": {\"color\": \"#00cc96\"}, \"mode\": \"lines\", \"name\": \"Africa\", \"orientation\": \"v\", \"showlegend\": false, \"stackgroup\": \"1\", \"type\": \"scatter\", \"x\": [1952, 1957, 1962, 1967, 1972, 1977, 1982, 1987, 1992, 1997, 2002, 2007], \"xaxis\": \"x\", \"y\": [40.543, 42.338, 44.248000000000005, 46.288999999999994, 48.437, 50.852, 53.599, 56.145, 58.333, 60.43, 62.247, 64.164], \"yaxis\": \"y\"}, {\"hovertemplate\": \"<b>%{hovertext}</b><br><br>continent=Africa<br>country=Mauritius<br>year=%{x}<br>lifeExp=%{y}<extra></extra>\", \"hovertext\": [\"Mauritius\", \"Mauritius\", \"Mauritius\", \"Mauritius\", \"Mauritius\", \"Mauritius\", \"Mauritius\", \"Mauritius\", \"Mauritius\", \"Mauritius\", \"Mauritius\", \"Mauritius\"], \"legendgroup\": \"Africa\", \"line\": {\"color\": \"#00cc96\"}, \"mode\": \"lines\", \"name\": \"Africa\", \"orientation\": \"v\", \"showlegend\": false, \"stackgroup\": \"1\", \"type\": \"scatter\", \"x\": [1952, 1957, 1962, 1967, 1972, 1977, 1982, 1987, 1992, 1997, 2002, 2007], \"xaxis\": \"x\", \"y\": [50.986000000000004, 58.089, 60.246, 61.556999999999995, 62.943999999999996, 64.93, 66.711, 68.74, 69.745, 70.736, 71.954, 72.801], \"yaxis\": \"y\"}, {\"hovertemplate\": \"<b>%{hovertext}</b><br><br>continent=Africa<br>country=Morocco<br>year=%{x}<br>lifeExp=%{y}<extra></extra>\", \"hovertext\": [\"Morocco\", \"Morocco\", \"Morocco\", \"Morocco\", \"Morocco\", \"Morocco\", \"Morocco\", \"Morocco\", \"Morocco\", \"Morocco\", \"Morocco\", \"Morocco\"], \"legendgroup\": \"Africa\", \"line\": {\"color\": \"#00cc96\"}, \"mode\": \"lines\", \"name\": \"Africa\", \"orientation\": \"v\", \"showlegend\": false, \"stackgroup\": \"1\", \"type\": \"scatter\", \"x\": [1952, 1957, 1962, 1967, 1972, 1977, 1982, 1987, 1992, 1997, 2002, 2007], \"xaxis\": \"x\", \"y\": [42.873000000000005, 45.423, 47.924, 50.335, 52.861999999999995, 55.73, 59.65, 62.677, 65.393, 67.66, 69.615, 71.164], \"yaxis\": \"y\"}, {\"hovertemplate\": \"<b>%{hovertext}</b><br><br>continent=Africa<br>country=Mozambique<br>year=%{x}<br>lifeExp=%{y}<extra></extra>\", \"hovertext\": [\"Mozambique\", \"Mozambique\", \"Mozambique\", \"Mozambique\", \"Mozambique\", \"Mozambique\", \"Mozambique\", \"Mozambique\", \"Mozambique\", \"Mozambique\", \"Mozambique\", \"Mozambique\"], \"legendgroup\": \"Africa\", \"line\": {\"color\": \"#00cc96\"}, \"mode\": \"lines\", \"name\": \"Africa\", \"orientation\": \"v\", \"showlegend\": false, \"stackgroup\": \"1\", \"type\": \"scatter\", \"x\": [1952, 1957, 1962, 1967, 1972, 1977, 1982, 1987, 1992, 1997, 2002, 2007], \"xaxis\": \"x\", \"y\": [31.285999999999998, 33.779, 36.161, 38.113, 40.328, 42.495, 42.795, 42.861000000000004, 44.284, 46.343999999999994, 44.026, 42.082], \"yaxis\": \"y\"}, {\"hovertemplate\": \"<b>%{hovertext}</b><br><br>continent=Africa<br>country=Namibia<br>year=%{x}<br>lifeExp=%{y}<extra></extra>\", \"hovertext\": [\"Namibia\", \"Namibia\", \"Namibia\", \"Namibia\", \"Namibia\", \"Namibia\", \"Namibia\", \"Namibia\", \"Namibia\", \"Namibia\", \"Namibia\", \"Namibia\"], \"legendgroup\": \"Africa\", \"line\": {\"color\": \"#00cc96\"}, \"mode\": \"lines\", \"name\": \"Africa\", \"orientation\": \"v\", \"showlegend\": false, \"stackgroup\": \"1\", \"type\": \"scatter\", \"x\": [1952, 1957, 1962, 1967, 1972, 1977, 1982, 1987, 1992, 1997, 2002, 2007], \"xaxis\": \"x\", \"y\": [41.725, 45.226000000000006, 48.386, 51.159, 53.867, 56.437, 58.968, 60.835, 61.998999999999995, 58.909, 51.479, 52.906000000000006], \"yaxis\": \"y\"}, {\"hovertemplate\": \"<b>%{hovertext}</b><br><br>continent=Africa<br>country=Niger<br>year=%{x}<br>lifeExp=%{y}<extra></extra>\", \"hovertext\": [\"Niger\", \"Niger\", \"Niger\", \"Niger\", \"Niger\", \"Niger\", \"Niger\", \"Niger\", \"Niger\", \"Niger\", \"Niger\", \"Niger\"], \"legendgroup\": \"Africa\", \"line\": {\"color\": \"#00cc96\"}, \"mode\": \"lines\", \"name\": \"Africa\", \"orientation\": \"v\", \"showlegend\": false, \"stackgroup\": \"1\", \"type\": \"scatter\", \"x\": [1952, 1957, 1962, 1967, 1972, 1977, 1982, 1987, 1992, 1997, 2002, 2007], \"xaxis\": \"x\", \"y\": [37.444, 38.598, 39.486999999999995, 40.118, 40.546, 41.291000000000004, 42.598, 44.555, 47.391000000000005, 51.313, 54.496, 56.867], \"yaxis\": \"y\"}, {\"hovertemplate\": \"<b>%{hovertext}</b><br><br>continent=Africa<br>country=Nigeria<br>year=%{x}<br>lifeExp=%{y}<extra></extra>\", \"hovertext\": [\"Nigeria\", \"Nigeria\", \"Nigeria\", \"Nigeria\", \"Nigeria\", \"Nigeria\", \"Nigeria\", \"Nigeria\", \"Nigeria\", \"Nigeria\", \"Nigeria\", \"Nigeria\"], \"legendgroup\": \"Africa\", \"line\": {\"color\": \"#00cc96\"}, \"mode\": \"lines\", \"name\": \"Africa\", \"orientation\": \"v\", \"showlegend\": false, \"stackgroup\": \"1\", \"type\": \"scatter\", \"x\": [1952, 1957, 1962, 1967, 1972, 1977, 1982, 1987, 1992, 1997, 2002, 2007], \"xaxis\": \"x\", \"y\": [36.324, 37.802, 39.36, 41.04, 42.821000000000005, 44.513999999999996, 45.826, 46.886, 47.472, 47.464, 46.608000000000004, 46.858999999999995], \"yaxis\": \"y\"}, {\"hovertemplate\": \"<b>%{hovertext}</b><br><br>continent=Africa<br>country=Reunion<br>year=%{x}<br>lifeExp=%{y}<extra></extra>\", \"hovertext\": [\"Reunion\", \"Reunion\", \"Reunion\", \"Reunion\", \"Reunion\", \"Reunion\", \"Reunion\", \"Reunion\", \"Reunion\", \"Reunion\", \"Reunion\", \"Reunion\"], \"legendgroup\": \"Africa\", \"line\": {\"color\": \"#00cc96\"}, \"mode\": \"lines\", \"name\": \"Africa\", \"orientation\": \"v\", \"showlegend\": false, \"stackgroup\": \"1\", \"type\": \"scatter\", \"x\": [1952, 1957, 1962, 1967, 1972, 1977, 1982, 1987, 1992, 1997, 2002, 2007], \"xaxis\": \"x\", \"y\": [52.724, 55.09, 57.666000000000004, 60.542, 64.274, 67.064, 69.885, 71.913, 73.615, 74.77199999999999, 75.744, 76.442], \"yaxis\": \"y\"}, {\"hovertemplate\": \"<b>%{hovertext}</b><br><br>continent=Africa<br>country=Rwanda<br>year=%{x}<br>lifeExp=%{y}<extra></extra>\", \"hovertext\": [\"Rwanda\", \"Rwanda\", \"Rwanda\", \"Rwanda\", \"Rwanda\", \"Rwanda\", \"Rwanda\", \"Rwanda\", \"Rwanda\", \"Rwanda\", \"Rwanda\", \"Rwanda\"], \"legendgroup\": \"Africa\", \"line\": {\"color\": \"#00cc96\"}, \"mode\": \"lines\", \"name\": \"Africa\", \"orientation\": \"v\", \"showlegend\": false, \"stackgroup\": \"1\", \"type\": \"scatter\", \"x\": [1952, 1957, 1962, 1967, 1972, 1977, 1982, 1987, 1992, 1997, 2002, 2007], \"xaxis\": \"x\", \"y\": [40.0, 41.5, 43.0, 44.1, 44.6, 45.0, 46.218, 44.02, 23.599, 36.086999999999996, 43.413000000000004, 46.242], \"yaxis\": \"y\"}, {\"hovertemplate\": \"<b>%{hovertext}</b><br><br>continent=Africa<br>country=Sao Tome and Principe<br>year=%{x}<br>lifeExp=%{y}<extra></extra>\", \"hovertext\": [\"Sao Tome and Principe\", \"Sao Tome and Principe\", \"Sao Tome and Principe\", \"Sao Tome and Principe\", \"Sao Tome and Principe\", \"Sao Tome and Principe\", \"Sao Tome and Principe\", \"Sao Tome and Principe\", \"Sao Tome and Principe\", \"Sao Tome and Principe\", \"Sao Tome and Principe\", \"Sao Tome and Principe\"], \"legendgroup\": \"Africa\", \"line\": {\"color\": \"#00cc96\"}, \"mode\": \"lines\", \"name\": \"Africa\", \"orientation\": \"v\", \"showlegend\": false, \"stackgroup\": \"1\", \"type\": \"scatter\", \"x\": [1952, 1957, 1962, 1967, 1972, 1977, 1982, 1987, 1992, 1997, 2002, 2007], \"xaxis\": \"x\", \"y\": [46.471000000000004, 48.945, 51.893, 54.425, 56.48, 58.55, 60.351000000000006, 61.728, 62.742, 63.306000000000004, 64.337, 65.528], \"yaxis\": \"y\"}, {\"hovertemplate\": \"<b>%{hovertext}</b><br><br>continent=Africa<br>country=Senegal<br>year=%{x}<br>lifeExp=%{y}<extra></extra>\", \"hovertext\": [\"Senegal\", \"Senegal\", \"Senegal\", \"Senegal\", \"Senegal\", \"Senegal\", \"Senegal\", \"Senegal\", \"Senegal\", \"Senegal\", \"Senegal\", \"Senegal\"], \"legendgroup\": \"Africa\", \"line\": {\"color\": \"#00cc96\"}, \"mode\": \"lines\", \"name\": \"Africa\", \"orientation\": \"v\", \"showlegend\": false, \"stackgroup\": \"1\", \"type\": \"scatter\", \"x\": [1952, 1957, 1962, 1967, 1972, 1977, 1982, 1987, 1992, 1997, 2002, 2007], \"xaxis\": \"x\", \"y\": [37.278, 39.329, 41.45399999999999, 43.563, 45.815, 48.879, 52.379, 55.769, 58.196000000000005, 60.187, 61.6, 63.062], \"yaxis\": \"y\"}, {\"hovertemplate\": \"<b>%{hovertext}</b><br><br>continent=Africa<br>country=Sierra Leone<br>year=%{x}<br>lifeExp=%{y}<extra></extra>\", \"hovertext\": [\"Sierra Leone\", \"Sierra Leone\", \"Sierra Leone\", \"Sierra Leone\", \"Sierra Leone\", \"Sierra Leone\", \"Sierra Leone\", \"Sierra Leone\", \"Sierra Leone\", \"Sierra Leone\", \"Sierra Leone\", \"Sierra Leone\"], \"legendgroup\": \"Africa\", \"line\": {\"color\": \"#00cc96\"}, \"mode\": \"lines\", \"name\": \"Africa\", \"orientation\": \"v\", \"showlegend\": false, \"stackgroup\": \"1\", \"type\": \"scatter\", \"x\": [1952, 1957, 1962, 1967, 1972, 1977, 1982, 1987, 1992, 1997, 2002, 2007], \"xaxis\": \"x\", \"y\": [30.331, 31.57, 32.766999999999996, 34.113, 35.4, 36.788000000000004, 38.445, 40.006, 38.333, 39.897, 41.012, 42.568000000000005], \"yaxis\": \"y\"}, {\"hovertemplate\": \"<b>%{hovertext}</b><br><br>continent=Africa<br>country=Somalia<br>year=%{x}<br>lifeExp=%{y}<extra></extra>\", \"hovertext\": [\"Somalia\", \"Somalia\", \"Somalia\", \"Somalia\", \"Somalia\", \"Somalia\", \"Somalia\", \"Somalia\", \"Somalia\", \"Somalia\", \"Somalia\", \"Somalia\"], \"legendgroup\": \"Africa\", \"line\": {\"color\": \"#00cc96\"}, \"mode\": \"lines\", \"name\": \"Africa\", \"orientation\": \"v\", \"showlegend\": false, \"stackgroup\": \"1\", \"type\": \"scatter\", \"x\": [1952, 1957, 1962, 1967, 1972, 1977, 1982, 1987, 1992, 1997, 2002, 2007], \"xaxis\": \"x\", \"y\": [32.978, 34.977, 36.981, 38.977, 40.973, 41.974, 42.955, 44.501000000000005, 39.658, 43.795, 45.93600000000001, 48.159], \"yaxis\": \"y\"}, {\"hovertemplate\": \"<b>%{hovertext}</b><br><br>continent=Africa<br>country=South Africa<br>year=%{x}<br>lifeExp=%{y}<extra></extra>\", \"hovertext\": [\"South Africa\", \"South Africa\", \"South Africa\", \"South Africa\", \"South Africa\", \"South Africa\", \"South Africa\", \"South Africa\", \"South Africa\", \"South Africa\", \"South Africa\", \"South Africa\"], \"legendgroup\": \"Africa\", \"line\": {\"color\": \"#00cc96\"}, \"mode\": \"lines\", \"name\": \"Africa\", \"orientation\": \"v\", \"showlegend\": false, \"stackgroup\": \"1\", \"type\": \"scatter\", \"x\": [1952, 1957, 1962, 1967, 1972, 1977, 1982, 1987, 1992, 1997, 2002, 2007], \"xaxis\": \"x\", \"y\": [45.00899999999999, 47.985, 49.951, 51.927, 53.696000000000005, 55.527, 58.161, 60.833999999999996, 61.888000000000005, 60.236000000000004, 53.365, 49.339], \"yaxis\": \"y\"}, {\"hovertemplate\": \"<b>%{hovertext}</b><br><br>continent=Africa<br>country=Sudan<br>year=%{x}<br>lifeExp=%{y}<extra></extra>\", \"hovertext\": [\"Sudan\", \"Sudan\", \"Sudan\", \"Sudan\", \"Sudan\", \"Sudan\", \"Sudan\", \"Sudan\", \"Sudan\", \"Sudan\", \"Sudan\", \"Sudan\"], \"legendgroup\": \"Africa\", \"line\": {\"color\": \"#00cc96\"}, \"mode\": \"lines\", \"name\": \"Africa\", \"orientation\": \"v\", \"showlegend\": false, \"stackgroup\": \"1\", \"type\": \"scatter\", \"x\": [1952, 1957, 1962, 1967, 1972, 1977, 1982, 1987, 1992, 1997, 2002, 2007], \"xaxis\": \"x\", \"y\": [38.635, 39.624, 40.87, 42.858000000000004, 45.083, 47.8, 50.338, 51.744, 53.556000000000004, 55.373000000000005, 56.369, 58.556000000000004], \"yaxis\": \"y\"}, {\"hovertemplate\": \"<b>%{hovertext}</b><br><br>continent=Africa<br>country=Swaziland<br>year=%{x}<br>lifeExp=%{y}<extra></extra>\", \"hovertext\": [\"Swaziland\", \"Swaziland\", \"Swaziland\", \"Swaziland\", \"Swaziland\", \"Swaziland\", \"Swaziland\", \"Swaziland\", \"Swaziland\", \"Swaziland\", \"Swaziland\", \"Swaziland\"], \"legendgroup\": \"Africa\", \"line\": {\"color\": \"#00cc96\"}, \"mode\": \"lines\", \"name\": \"Africa\", \"orientation\": \"v\", \"showlegend\": false, \"stackgroup\": \"1\", \"type\": \"scatter\", \"x\": [1952, 1957, 1962, 1967, 1972, 1977, 1982, 1987, 1992, 1997, 2002, 2007], \"xaxis\": \"x\", \"y\": [41.407, 43.424, 44.992, 46.633, 49.552, 52.537, 55.56100000000001, 57.678000000000004, 58.474, 54.288999999999994, 43.869, 39.613], \"yaxis\": \"y\"}, {\"hovertemplate\": \"<b>%{hovertext}</b><br><br>continent=Africa<br>country=Tanzania<br>year=%{x}<br>lifeExp=%{y}<extra></extra>\", \"hovertext\": [\"Tanzania\", \"Tanzania\", \"Tanzania\", \"Tanzania\", \"Tanzania\", \"Tanzania\", \"Tanzania\", \"Tanzania\", \"Tanzania\", \"Tanzania\", \"Tanzania\", \"Tanzania\"], \"legendgroup\": \"Africa\", \"line\": {\"color\": \"#00cc96\"}, \"mode\": \"lines\", \"name\": \"Africa\", \"orientation\": \"v\", \"showlegend\": false, \"stackgroup\": \"1\", \"type\": \"scatter\", \"x\": [1952, 1957, 1962, 1967, 1972, 1977, 1982, 1987, 1992, 1997, 2002, 2007], \"xaxis\": \"x\", \"y\": [41.215, 42.974, 44.246, 45.757, 47.62, 49.919, 50.608000000000004, 51.535, 50.44, 48.466, 49.651, 52.516999999999996], \"yaxis\": \"y\"}, {\"hovertemplate\": \"<b>%{hovertext}</b><br><br>continent=Africa<br>country=Togo<br>year=%{x}<br>lifeExp=%{y}<extra></extra>\", \"hovertext\": [\"Togo\", \"Togo\", \"Togo\", \"Togo\", \"Togo\", \"Togo\", \"Togo\", \"Togo\", \"Togo\", \"Togo\", \"Togo\", \"Togo\"], \"legendgroup\": \"Africa\", \"line\": {\"color\": \"#00cc96\"}, \"mode\": \"lines\", \"name\": \"Africa\", \"orientation\": \"v\", \"showlegend\": false, \"stackgroup\": \"1\", \"type\": \"scatter\", \"x\": [1952, 1957, 1962, 1967, 1972, 1977, 1982, 1987, 1992, 1997, 2002, 2007], \"xaxis\": \"x\", \"y\": [38.596, 41.208, 43.922, 46.769, 49.75899999999999, 52.887, 55.471000000000004, 56.941, 58.06100000000001, 58.39, 57.56100000000001, 58.42], \"yaxis\": \"y\"}, {\"hovertemplate\": \"<b>%{hovertext}</b><br><br>continent=Africa<br>country=Tunisia<br>year=%{x}<br>lifeExp=%{y}<extra></extra>\", \"hovertext\": [\"Tunisia\", \"Tunisia\", \"Tunisia\", \"Tunisia\", \"Tunisia\", \"Tunisia\", \"Tunisia\", \"Tunisia\", \"Tunisia\", \"Tunisia\", \"Tunisia\", \"Tunisia\"], \"legendgroup\": \"Africa\", \"line\": {\"color\": \"#00cc96\"}, \"mode\": \"lines\", \"name\": \"Africa\", \"orientation\": \"v\", \"showlegend\": false, \"stackgroup\": \"1\", \"type\": \"scatter\", \"x\": [1952, 1957, 1962, 1967, 1972, 1977, 1982, 1987, 1992, 1997, 2002, 2007], \"xaxis\": \"x\", \"y\": [44.6, 47.1, 49.57899999999999, 52.053000000000004, 55.602, 59.836999999999996, 64.048, 66.89399999999999, 70.001, 71.973, 73.042, 73.923], \"yaxis\": \"y\"}, {\"hovertemplate\": \"<b>%{hovertext}</b><br><br>continent=Africa<br>country=Uganda<br>year=%{x}<br>lifeExp=%{y}<extra></extra>\", \"hovertext\": [\"Uganda\", \"Uganda\", \"Uganda\", \"Uganda\", \"Uganda\", \"Uganda\", \"Uganda\", \"Uganda\", \"Uganda\", \"Uganda\", \"Uganda\", \"Uganda\"], \"legendgroup\": \"Africa\", \"line\": {\"color\": \"#00cc96\"}, \"mode\": \"lines\", \"name\": \"Africa\", \"orientation\": \"v\", \"showlegend\": false, \"stackgroup\": \"1\", \"type\": \"scatter\", \"x\": [1952, 1957, 1962, 1967, 1972, 1977, 1982, 1987, 1992, 1997, 2002, 2007], \"xaxis\": \"x\", \"y\": [39.978, 42.571000000000005, 45.343999999999994, 48.051, 51.016000000000005, 50.35, 49.849, 51.50899999999999, 48.825, 44.578, 47.813, 51.542], \"yaxis\": \"y\"}, {\"hovertemplate\": \"<b>%{hovertext}</b><br><br>continent=Africa<br>country=Zambia<br>year=%{x}<br>lifeExp=%{y}<extra></extra>\", \"hovertext\": [\"Zambia\", \"Zambia\", \"Zambia\", \"Zambia\", \"Zambia\", \"Zambia\", \"Zambia\", \"Zambia\", \"Zambia\", \"Zambia\", \"Zambia\", \"Zambia\"], \"legendgroup\": \"Africa\", \"line\": {\"color\": \"#00cc96\"}, \"mode\": \"lines\", \"name\": \"Africa\", \"orientation\": \"v\", \"showlegend\": false, \"stackgroup\": \"1\", \"type\": \"scatter\", \"x\": [1952, 1957, 1962, 1967, 1972, 1977, 1982, 1987, 1992, 1997, 2002, 2007], \"xaxis\": \"x\", \"y\": [42.038000000000004, 44.077, 46.023, 47.768, 50.107, 51.386, 51.821000000000005, 50.821000000000005, 46.1, 40.238, 39.193000000000005, 42.38399999999999], \"yaxis\": \"y\"}, {\"hovertemplate\": \"<b>%{hovertext}</b><br><br>continent=Africa<br>country=Zimbabwe<br>year=%{x}<br>lifeExp=%{y}<extra></extra>\", \"hovertext\": [\"Zimbabwe\", \"Zimbabwe\", \"Zimbabwe\", \"Zimbabwe\", \"Zimbabwe\", \"Zimbabwe\", \"Zimbabwe\", \"Zimbabwe\", \"Zimbabwe\", \"Zimbabwe\", \"Zimbabwe\", \"Zimbabwe\"], \"legendgroup\": \"Africa\", \"line\": {\"color\": \"#00cc96\"}, \"mode\": \"lines\", \"name\": \"Africa\", \"orientation\": \"v\", \"showlegend\": false, \"stackgroup\": \"1\", \"type\": \"scatter\", \"x\": [1952, 1957, 1962, 1967, 1972, 1977, 1982, 1987, 1992, 1997, 2002, 2007], \"xaxis\": \"x\", \"y\": [48.451, 50.468999999999994, 52.358000000000004, 53.995, 55.635, 57.674, 60.363, 62.351000000000006, 60.376999999999995, 46.809, 39.989000000000004, 43.486999999999995], \"yaxis\": \"y\"}, {\"hovertemplate\": \"<b>%{hovertext}</b><br><br>continent=Americas<br>country=Argentina<br>year=%{x}<br>lifeExp=%{y}<extra></extra>\", \"hovertext\": [\"Argentina\", \"Argentina\", \"Argentina\", \"Argentina\", \"Argentina\", \"Argentina\", \"Argentina\", \"Argentina\", \"Argentina\", \"Argentina\", \"Argentina\", \"Argentina\"], \"legendgroup\": \"Americas\", \"line\": {\"color\": \"#ab63fa\"}, \"mode\": \"lines\", \"name\": \"Americas\", \"orientation\": \"v\", \"showlegend\": true, \"stackgroup\": \"1\", \"type\": \"scatter\", \"x\": [1952, 1957, 1962, 1967, 1972, 1977, 1982, 1987, 1992, 1997, 2002, 2007], \"xaxis\": \"x\", \"y\": [62.485, 64.399, 65.142, 65.634, 67.065, 68.48100000000001, 69.942, 70.774, 71.868, 73.275, 74.34, 75.32], \"yaxis\": \"y\"}, {\"hovertemplate\": \"<b>%{hovertext}</b><br><br>continent=Americas<br>country=Bolivia<br>year=%{x}<br>lifeExp=%{y}<extra></extra>\", \"hovertext\": [\"Bolivia\", \"Bolivia\", \"Bolivia\", \"Bolivia\", \"Bolivia\", \"Bolivia\", \"Bolivia\", \"Bolivia\", \"Bolivia\", \"Bolivia\", \"Bolivia\", \"Bolivia\"], \"legendgroup\": \"Americas\", \"line\": {\"color\": \"#ab63fa\"}, \"mode\": \"lines\", \"name\": \"Americas\", \"orientation\": \"v\", \"showlegend\": false, \"stackgroup\": \"1\", \"type\": \"scatter\", \"x\": [1952, 1957, 1962, 1967, 1972, 1977, 1982, 1987, 1992, 1997, 2002, 2007], \"xaxis\": \"x\", \"y\": [40.414, 41.89, 43.428000000000004, 45.032, 46.714, 50.023, 53.858999999999995, 57.251000000000005, 59.957, 62.05, 63.883, 65.554], \"yaxis\": \"y\"}, {\"hovertemplate\": \"<b>%{hovertext}</b><br><br>continent=Americas<br>country=Brazil<br>year=%{x}<br>lifeExp=%{y}<extra></extra>\", \"hovertext\": [\"Brazil\", \"Brazil\", \"Brazil\", \"Brazil\", \"Brazil\", \"Brazil\", \"Brazil\", \"Brazil\", \"Brazil\", \"Brazil\", \"Brazil\", \"Brazil\"], \"legendgroup\": \"Americas\", \"line\": {\"color\": \"#ab63fa\"}, \"mode\": \"lines\", \"name\": \"Americas\", \"orientation\": \"v\", \"showlegend\": false, \"stackgroup\": \"1\", \"type\": \"scatter\", \"x\": [1952, 1957, 1962, 1967, 1972, 1977, 1982, 1987, 1992, 1997, 2002, 2007], \"xaxis\": \"x\", \"y\": [50.917, 53.285, 55.665, 57.632, 59.504, 61.489, 63.336000000000006, 65.205, 67.057, 69.388, 71.006, 72.39], \"yaxis\": \"y\"}, {\"hovertemplate\": \"<b>%{hovertext}</b><br><br>continent=Americas<br>country=Canada<br>year=%{x}<br>lifeExp=%{y}<extra></extra>\", \"hovertext\": [\"Canada\", \"Canada\", \"Canada\", \"Canada\", \"Canada\", \"Canada\", \"Canada\", \"Canada\", \"Canada\", \"Canada\", \"Canada\", \"Canada\"], \"legendgroup\": \"Americas\", \"line\": {\"color\": \"#ab63fa\"}, \"mode\": \"lines\", \"name\": \"Americas\", \"orientation\": \"v\", \"showlegend\": false, \"stackgroup\": \"1\", \"type\": \"scatter\", \"x\": [1952, 1957, 1962, 1967, 1972, 1977, 1982, 1987, 1992, 1997, 2002, 2007], \"xaxis\": \"x\", \"y\": [68.75, 69.96, 71.3, 72.13, 72.88, 74.21, 75.76, 76.86, 77.95, 78.61, 79.77, 80.653], \"yaxis\": \"y\"}, {\"hovertemplate\": \"<b>%{hovertext}</b><br><br>continent=Americas<br>country=Chile<br>year=%{x}<br>lifeExp=%{y}<extra></extra>\", \"hovertext\": [\"Chile\", \"Chile\", \"Chile\", \"Chile\", \"Chile\", \"Chile\", \"Chile\", \"Chile\", \"Chile\", \"Chile\", \"Chile\", \"Chile\"], \"legendgroup\": \"Americas\", \"line\": {\"color\": \"#ab63fa\"}, \"mode\": \"lines\", \"name\": \"Americas\", \"orientation\": \"v\", \"showlegend\": false, \"stackgroup\": \"1\", \"type\": \"scatter\", \"x\": [1952, 1957, 1962, 1967, 1972, 1977, 1982, 1987, 1992, 1997, 2002, 2007], \"xaxis\": \"x\", \"y\": [54.745, 56.074, 57.924, 60.523, 63.441, 67.05199999999999, 70.565, 72.492, 74.126, 75.816, 77.86, 78.553], \"yaxis\": \"y\"}, {\"hovertemplate\": \"<b>%{hovertext}</b><br><br>continent=Americas<br>country=Colombia<br>year=%{x}<br>lifeExp=%{y}<extra></extra>\", \"hovertext\": [\"Colombia\", \"Colombia\", \"Colombia\", \"Colombia\", \"Colombia\", \"Colombia\", \"Colombia\", \"Colombia\", \"Colombia\", \"Colombia\", \"Colombia\", \"Colombia\"], \"legendgroup\": \"Americas\", \"line\": {\"color\": \"#ab63fa\"}, \"mode\": \"lines\", \"name\": \"Americas\", \"orientation\": \"v\", \"showlegend\": false, \"stackgroup\": \"1\", \"type\": \"scatter\", \"x\": [1952, 1957, 1962, 1967, 1972, 1977, 1982, 1987, 1992, 1997, 2002, 2007], \"xaxis\": \"x\", \"y\": [50.643, 55.118, 57.863, 59.963, 61.623000000000005, 63.836999999999996, 66.653, 67.768, 68.421, 70.313, 71.682, 72.889], \"yaxis\": \"y\"}, {\"hovertemplate\": \"<b>%{hovertext}</b><br><br>continent=Americas<br>country=Costa Rica<br>year=%{x}<br>lifeExp=%{y}<extra></extra>\", \"hovertext\": [\"Costa Rica\", \"Costa Rica\", \"Costa Rica\", \"Costa Rica\", \"Costa Rica\", \"Costa Rica\", \"Costa Rica\", \"Costa Rica\", \"Costa Rica\", \"Costa Rica\", \"Costa Rica\", \"Costa Rica\"], \"legendgroup\": \"Americas\", \"line\": {\"color\": \"#ab63fa\"}, \"mode\": \"lines\", \"name\": \"Americas\", \"orientation\": \"v\", \"showlegend\": false, \"stackgroup\": \"1\", \"type\": \"scatter\", \"x\": [1952, 1957, 1962, 1967, 1972, 1977, 1982, 1987, 1992, 1997, 2002, 2007], \"xaxis\": \"x\", \"y\": [57.206, 60.026, 62.842, 65.42399999999999, 67.84899999999999, 70.75, 73.45, 74.752, 75.71300000000001, 77.26, 78.123, 78.782], \"yaxis\": \"y\"}, {\"hovertemplate\": \"<b>%{hovertext}</b><br><br>continent=Americas<br>country=Cuba<br>year=%{x}<br>lifeExp=%{y}<extra></extra>\", \"hovertext\": [\"Cuba\", \"Cuba\", \"Cuba\", \"Cuba\", \"Cuba\", \"Cuba\", \"Cuba\", \"Cuba\", \"Cuba\", \"Cuba\", \"Cuba\", \"Cuba\"], \"legendgroup\": \"Americas\", \"line\": {\"color\": \"#ab63fa\"}, \"mode\": \"lines\", \"name\": \"Americas\", \"orientation\": \"v\", \"showlegend\": false, \"stackgroup\": \"1\", \"type\": \"scatter\", \"x\": [1952, 1957, 1962, 1967, 1972, 1977, 1982, 1987, 1992, 1997, 2002, 2007], \"xaxis\": \"x\", \"y\": [59.42100000000001, 62.325, 65.24600000000001, 68.29, 70.723, 72.649, 73.717, 74.17399999999999, 74.414, 76.15100000000001, 77.158, 78.273], \"yaxis\": \"y\"}, {\"hovertemplate\": \"<b>%{hovertext}</b><br><br>continent=Americas<br>country=Dominican Republic<br>year=%{x}<br>lifeExp=%{y}<extra></extra>\", \"hovertext\": [\"Dominican Republic\", \"Dominican Republic\", \"Dominican Republic\", \"Dominican Republic\", \"Dominican Republic\", \"Dominican Republic\", \"Dominican Republic\", \"Dominican Republic\", \"Dominican Republic\", \"Dominican Republic\", \"Dominican Republic\", \"Dominican Republic\"], \"legendgroup\": \"Americas\", \"line\": {\"color\": \"#ab63fa\"}, \"mode\": \"lines\", \"name\": \"Americas\", \"orientation\": \"v\", \"showlegend\": false, \"stackgroup\": \"1\", \"type\": \"scatter\", \"x\": [1952, 1957, 1962, 1967, 1972, 1977, 1982, 1987, 1992, 1997, 2002, 2007], \"xaxis\": \"x\", \"y\": [45.928000000000004, 49.828, 53.458999999999996, 56.751000000000005, 59.631, 61.788000000000004, 63.727, 66.046, 68.457, 69.957, 70.847, 72.235], \"yaxis\": \"y\"}, {\"hovertemplate\": \"<b>%{hovertext}</b><br><br>continent=Americas<br>country=Ecuador<br>year=%{x}<br>lifeExp=%{y}<extra></extra>\", \"hovertext\": [\"Ecuador\", \"Ecuador\", \"Ecuador\", \"Ecuador\", \"Ecuador\", \"Ecuador\", \"Ecuador\", \"Ecuador\", \"Ecuador\", \"Ecuador\", \"Ecuador\", \"Ecuador\"], \"legendgroup\": \"Americas\", \"line\": {\"color\": \"#ab63fa\"}, \"mode\": \"lines\", \"name\": \"Americas\", \"orientation\": \"v\", \"showlegend\": false, \"stackgroup\": \"1\", \"type\": \"scatter\", \"x\": [1952, 1957, 1962, 1967, 1972, 1977, 1982, 1987, 1992, 1997, 2002, 2007], \"xaxis\": \"x\", \"y\": [48.357, 51.356, 54.64, 56.678000000000004, 58.79600000000001, 61.31, 64.342, 67.23100000000001, 69.613, 72.312, 74.173, 74.994], \"yaxis\": \"y\"}, {\"hovertemplate\": \"<b>%{hovertext}</b><br><br>continent=Americas<br>country=El Salvador<br>year=%{x}<br>lifeExp=%{y}<extra></extra>\", \"hovertext\": [\"El Salvador\", \"El Salvador\", \"El Salvador\", \"El Salvador\", \"El Salvador\", \"El Salvador\", \"El Salvador\", \"El Salvador\", \"El Salvador\", \"El Salvador\", \"El Salvador\", \"El Salvador\"], \"legendgroup\": \"Americas\", \"line\": {\"color\": \"#ab63fa\"}, \"mode\": \"lines\", \"name\": \"Americas\", \"orientation\": \"v\", \"showlegend\": false, \"stackgroup\": \"1\", \"type\": \"scatter\", \"x\": [1952, 1957, 1962, 1967, 1972, 1977, 1982, 1987, 1992, 1997, 2002, 2007], \"xaxis\": \"x\", \"y\": [45.262, 48.57, 52.306999999999995, 55.855, 58.207, 56.696000000000005, 56.604, 63.153999999999996, 66.798, 69.535, 70.734, 71.878], \"yaxis\": \"y\"}, {\"hovertemplate\": \"<b>%{hovertext}</b><br><br>continent=Americas<br>country=Guatemala<br>year=%{x}<br>lifeExp=%{y}<extra></extra>\", \"hovertext\": [\"Guatemala\", \"Guatemala\", \"Guatemala\", \"Guatemala\", \"Guatemala\", \"Guatemala\", \"Guatemala\", \"Guatemala\", \"Guatemala\", \"Guatemala\", \"Guatemala\", \"Guatemala\"], \"legendgroup\": \"Americas\", \"line\": {\"color\": \"#ab63fa\"}, \"mode\": \"lines\", \"name\": \"Americas\", \"orientation\": \"v\", \"showlegend\": false, \"stackgroup\": \"1\", \"type\": \"scatter\", \"x\": [1952, 1957, 1962, 1967, 1972, 1977, 1982, 1987, 1992, 1997, 2002, 2007], \"xaxis\": \"x\", \"y\": [42.023, 44.141999999999996, 46.95399999999999, 50.016000000000005, 53.738, 56.028999999999996, 58.137, 60.782, 63.373000000000005, 66.322, 68.97800000000001, 70.259], \"yaxis\": \"y\"}, {\"hovertemplate\": \"<b>%{hovertext}</b><br><br>continent=Americas<br>country=Haiti<br>year=%{x}<br>lifeExp=%{y}<extra></extra>\", \"hovertext\": [\"Haiti\", \"Haiti\", \"Haiti\", \"Haiti\", \"Haiti\", \"Haiti\", \"Haiti\", \"Haiti\", \"Haiti\", \"Haiti\", \"Haiti\", \"Haiti\"], \"legendgroup\": \"Americas\", \"line\": {\"color\": \"#ab63fa\"}, \"mode\": \"lines\", \"name\": \"Americas\", \"orientation\": \"v\", \"showlegend\": false, \"stackgroup\": \"1\", \"type\": \"scatter\", \"x\": [1952, 1957, 1962, 1967, 1972, 1977, 1982, 1987, 1992, 1997, 2002, 2007], \"xaxis\": \"x\", \"y\": [37.579, 40.696, 43.59, 46.243, 48.042, 49.923, 51.461000000000006, 53.636, 55.089, 56.67100000000001, 58.137, 60.916000000000004], \"yaxis\": \"y\"}, {\"hovertemplate\": \"<b>%{hovertext}</b><br><br>continent=Americas<br>country=Honduras<br>year=%{x}<br>lifeExp=%{y}<extra></extra>\", \"hovertext\": [\"Honduras\", \"Honduras\", \"Honduras\", \"Honduras\", \"Honduras\", \"Honduras\", \"Honduras\", \"Honduras\", \"Honduras\", \"Honduras\", \"Honduras\", \"Honduras\"], \"legendgroup\": \"Americas\", \"line\": {\"color\": \"#ab63fa\"}, \"mode\": \"lines\", \"name\": \"Americas\", \"orientation\": \"v\", \"showlegend\": false, \"stackgroup\": \"1\", \"type\": \"scatter\", \"x\": [1952, 1957, 1962, 1967, 1972, 1977, 1982, 1987, 1992, 1997, 2002, 2007], \"xaxis\": \"x\", \"y\": [41.912, 44.665, 48.041000000000004, 50.924, 53.88399999999999, 57.402, 60.909, 64.492, 66.399, 67.65899999999999, 68.565, 70.19800000000001], \"yaxis\": \"y\"}, {\"hovertemplate\": \"<b>%{hovertext}</b><br><br>continent=Americas<br>country=Jamaica<br>year=%{x}<br>lifeExp=%{y}<extra></extra>\", \"hovertext\": [\"Jamaica\", \"Jamaica\", \"Jamaica\", \"Jamaica\", \"Jamaica\", \"Jamaica\", \"Jamaica\", \"Jamaica\", \"Jamaica\", \"Jamaica\", \"Jamaica\", \"Jamaica\"], \"legendgroup\": \"Americas\", \"line\": {\"color\": \"#ab63fa\"}, \"mode\": \"lines\", \"name\": \"Americas\", \"orientation\": \"v\", \"showlegend\": false, \"stackgroup\": \"1\", \"type\": \"scatter\", \"x\": [1952, 1957, 1962, 1967, 1972, 1977, 1982, 1987, 1992, 1997, 2002, 2007], \"xaxis\": \"x\", \"y\": [58.53, 62.61, 65.61, 67.51, 69.0, 70.11, 71.21, 71.77, 71.766, 72.262, 72.047, 72.567], \"yaxis\": \"y\"}, {\"hovertemplate\": \"<b>%{hovertext}</b><br><br>continent=Americas<br>country=Mexico<br>year=%{x}<br>lifeExp=%{y}<extra></extra>\", \"hovertext\": [\"Mexico\", \"Mexico\", \"Mexico\", \"Mexico\", \"Mexico\", \"Mexico\", \"Mexico\", \"Mexico\", \"Mexico\", \"Mexico\", \"Mexico\", \"Mexico\"], \"legendgroup\": \"Americas\", \"line\": {\"color\": \"#ab63fa\"}, \"mode\": \"lines\", \"name\": \"Americas\", \"orientation\": \"v\", \"showlegend\": false, \"stackgroup\": \"1\", \"type\": \"scatter\", \"x\": [1952, 1957, 1962, 1967, 1972, 1977, 1982, 1987, 1992, 1997, 2002, 2007], \"xaxis\": \"x\", \"y\": [50.788999999999994, 55.19, 58.299, 60.11, 62.361000000000004, 65.032, 67.405, 69.498, 71.455, 73.67, 74.902, 76.195], \"yaxis\": \"y\"}, {\"hovertemplate\": \"<b>%{hovertext}</b><br><br>continent=Americas<br>country=Nicaragua<br>year=%{x}<br>lifeExp=%{y}<extra></extra>\", \"hovertext\": [\"Nicaragua\", \"Nicaragua\", \"Nicaragua\", \"Nicaragua\", \"Nicaragua\", \"Nicaragua\", \"Nicaragua\", \"Nicaragua\", \"Nicaragua\", \"Nicaragua\", \"Nicaragua\", \"Nicaragua\"], \"legendgroup\": \"Americas\", \"line\": {\"color\": \"#ab63fa\"}, \"mode\": \"lines\", \"name\": \"Americas\", \"orientation\": \"v\", \"showlegend\": false, \"stackgroup\": \"1\", \"type\": \"scatter\", \"x\": [1952, 1957, 1962, 1967, 1972, 1977, 1982, 1987, 1992, 1997, 2002, 2007], \"xaxis\": \"x\", \"y\": [42.31399999999999, 45.431999999999995, 48.632, 51.88399999999999, 55.151, 57.47, 59.298, 62.008, 65.843, 68.426, 70.836, 72.899], \"yaxis\": \"y\"}, {\"hovertemplate\": \"<b>%{hovertext}</b><br><br>continent=Americas<br>country=Panama<br>year=%{x}<br>lifeExp=%{y}<extra></extra>\", \"hovertext\": [\"Panama\", \"Panama\", \"Panama\", \"Panama\", \"Panama\", \"Panama\", \"Panama\", \"Panama\", \"Panama\", \"Panama\", \"Panama\", \"Panama\"], \"legendgroup\": \"Americas\", \"line\": {\"color\": \"#ab63fa\"}, \"mode\": \"lines\", \"name\": \"Americas\", \"orientation\": \"v\", \"showlegend\": false, \"stackgroup\": \"1\", \"type\": \"scatter\", \"x\": [1952, 1957, 1962, 1967, 1972, 1977, 1982, 1987, 1992, 1997, 2002, 2007], \"xaxis\": \"x\", \"y\": [55.191, 59.201, 61.817, 64.071, 66.21600000000001, 68.681, 70.472, 71.523, 72.462, 73.738, 74.712, 75.53699999999999], \"yaxis\": \"y\"}, {\"hovertemplate\": \"<b>%{hovertext}</b><br><br>continent=Americas<br>country=Paraguay<br>year=%{x}<br>lifeExp=%{y}<extra></extra>\", \"hovertext\": [\"Paraguay\", \"Paraguay\", \"Paraguay\", \"Paraguay\", \"Paraguay\", \"Paraguay\", \"Paraguay\", \"Paraguay\", \"Paraguay\", \"Paraguay\", \"Paraguay\", \"Paraguay\"], \"legendgroup\": \"Americas\", \"line\": {\"color\": \"#ab63fa\"}, \"mode\": \"lines\", \"name\": \"Americas\", \"orientation\": \"v\", \"showlegend\": false, \"stackgroup\": \"1\", \"type\": \"scatter\", \"x\": [1952, 1957, 1962, 1967, 1972, 1977, 1982, 1987, 1992, 1997, 2002, 2007], \"xaxis\": \"x\", \"y\": [62.648999999999994, 63.196000000000005, 64.361, 64.95100000000001, 65.815, 66.35300000000001, 66.874, 67.378, 68.225, 69.4, 70.755, 71.752], \"yaxis\": \"y\"}, {\"hovertemplate\": \"<b>%{hovertext}</b><br><br>continent=Americas<br>country=Peru<br>year=%{x}<br>lifeExp=%{y}<extra></extra>\", \"hovertext\": [\"Peru\", \"Peru\", \"Peru\", \"Peru\", \"Peru\", \"Peru\", \"Peru\", \"Peru\", \"Peru\", \"Peru\", \"Peru\", \"Peru\"], \"legendgroup\": \"Americas\", \"line\": {\"color\": \"#ab63fa\"}, \"mode\": \"lines\", \"name\": \"Americas\", \"orientation\": \"v\", \"showlegend\": false, \"stackgroup\": \"1\", \"type\": \"scatter\", \"x\": [1952, 1957, 1962, 1967, 1972, 1977, 1982, 1987, 1992, 1997, 2002, 2007], \"xaxis\": \"x\", \"y\": [43.902, 46.263000000000005, 49.096000000000004, 51.445, 55.448, 58.446999999999996, 61.406000000000006, 64.134, 66.458, 68.38600000000001, 69.906, 71.421], \"yaxis\": \"y\"}, {\"hovertemplate\": \"<b>%{hovertext}</b><br><br>continent=Americas<br>country=Puerto Rico<br>year=%{x}<br>lifeExp=%{y}<extra></extra>\", \"hovertext\": [\"Puerto Rico\", \"Puerto Rico\", \"Puerto Rico\", \"Puerto Rico\", \"Puerto Rico\", \"Puerto Rico\", \"Puerto Rico\", \"Puerto Rico\", \"Puerto Rico\", \"Puerto Rico\", \"Puerto Rico\", \"Puerto Rico\"], \"legendgroup\": \"Americas\", \"line\": {\"color\": \"#ab63fa\"}, \"mode\": \"lines\", \"name\": \"Americas\", \"orientation\": \"v\", \"showlegend\": false, \"stackgroup\": \"1\", \"type\": \"scatter\", \"x\": [1952, 1957, 1962, 1967, 1972, 1977, 1982, 1987, 1992, 1997, 2002, 2007], \"xaxis\": \"x\", \"y\": [64.28, 68.54, 69.62, 71.1, 72.16, 73.44, 73.75, 74.63, 73.911, 74.917, 77.778, 78.74600000000001], \"yaxis\": \"y\"}, {\"hovertemplate\": \"<b>%{hovertext}</b><br><br>continent=Americas<br>country=Trinidad and Tobago<br>year=%{x}<br>lifeExp=%{y}<extra></extra>\", \"hovertext\": [\"Trinidad and Tobago\", \"Trinidad and Tobago\", \"Trinidad and Tobago\", \"Trinidad and Tobago\", \"Trinidad and Tobago\", \"Trinidad and Tobago\", \"Trinidad and Tobago\", \"Trinidad and Tobago\", \"Trinidad and Tobago\", \"Trinidad and Tobago\", \"Trinidad and Tobago\", \"Trinidad and Tobago\"], \"legendgroup\": \"Americas\", \"line\": {\"color\": \"#ab63fa\"}, \"mode\": \"lines\", \"name\": \"Americas\", \"orientation\": \"v\", \"showlegend\": false, \"stackgroup\": \"1\", \"type\": \"scatter\", \"x\": [1952, 1957, 1962, 1967, 1972, 1977, 1982, 1987, 1992, 1997, 2002, 2007], \"xaxis\": \"x\", \"y\": [59.1, 61.8, 64.9, 65.4, 65.9, 68.3, 68.832, 69.582, 69.862, 69.465, 68.976, 69.819], \"yaxis\": \"y\"}, {\"hovertemplate\": \"<b>%{hovertext}</b><br><br>continent=Americas<br>country=United States<br>year=%{x}<br>lifeExp=%{y}<extra></extra>\", \"hovertext\": [\"United States\", \"United States\", \"United States\", \"United States\", \"United States\", \"United States\", \"United States\", \"United States\", \"United States\", \"United States\", \"United States\", \"United States\"], \"legendgroup\": \"Americas\", \"line\": {\"color\": \"#ab63fa\"}, \"mode\": \"lines\", \"name\": \"Americas\", \"orientation\": \"v\", \"showlegend\": false, \"stackgroup\": \"1\", \"type\": \"scatter\", \"x\": [1952, 1957, 1962, 1967, 1972, 1977, 1982, 1987, 1992, 1997, 2002, 2007], \"xaxis\": \"x\", \"y\": [68.44, 69.49, 70.21, 70.76, 71.34, 73.38, 74.65, 75.02, 76.09, 76.81, 77.31, 78.242], \"yaxis\": \"y\"}, {\"hovertemplate\": \"<b>%{hovertext}</b><br><br>continent=Americas<br>country=Uruguay<br>year=%{x}<br>lifeExp=%{y}<extra></extra>\", \"hovertext\": [\"Uruguay\", \"Uruguay\", \"Uruguay\", \"Uruguay\", \"Uruguay\", \"Uruguay\", \"Uruguay\", \"Uruguay\", \"Uruguay\", \"Uruguay\", \"Uruguay\", \"Uruguay\"], \"legendgroup\": \"Americas\", \"line\": {\"color\": \"#ab63fa\"}, \"mode\": \"lines\", \"name\": \"Americas\", \"orientation\": \"v\", \"showlegend\": false, \"stackgroup\": \"1\", \"type\": \"scatter\", \"x\": [1952, 1957, 1962, 1967, 1972, 1977, 1982, 1987, 1992, 1997, 2002, 2007], \"xaxis\": \"x\", \"y\": [66.071, 67.044, 68.253, 68.468, 68.673, 69.48100000000001, 70.805, 71.918, 72.752, 74.223, 75.307, 76.384], \"yaxis\": \"y\"}, {\"hovertemplate\": \"<b>%{hovertext}</b><br><br>continent=Americas<br>country=Venezuela<br>year=%{x}<br>lifeExp=%{y}<extra></extra>\", \"hovertext\": [\"Venezuela\", \"Venezuela\", \"Venezuela\", \"Venezuela\", \"Venezuela\", \"Venezuela\", \"Venezuela\", \"Venezuela\", \"Venezuela\", \"Venezuela\", \"Venezuela\", \"Venezuela\"], \"legendgroup\": \"Americas\", \"line\": {\"color\": \"#ab63fa\"}, \"mode\": \"lines\", \"name\": \"Americas\", \"orientation\": \"v\", \"showlegend\": false, \"stackgroup\": \"1\", \"type\": \"scatter\", \"x\": [1952, 1957, 1962, 1967, 1972, 1977, 1982, 1987, 1992, 1997, 2002, 2007], \"xaxis\": \"x\", \"y\": [55.088, 57.907, 60.77, 63.479, 65.712, 67.456, 68.557, 70.19, 71.15, 72.146, 72.766, 73.747], \"yaxis\": \"y\"}, {\"hovertemplate\": \"<b>%{hovertext}</b><br><br>continent=Oceania<br>country=Australia<br>year=%{x}<br>lifeExp=%{y}<extra></extra>\", \"hovertext\": [\"Australia\", \"Australia\", \"Australia\", \"Australia\", \"Australia\", \"Australia\", \"Australia\", \"Australia\", \"Australia\", \"Australia\", \"Australia\", \"Australia\"], \"legendgroup\": \"Oceania\", \"line\": {\"color\": \"#FFA15A\"}, \"mode\": \"lines\", \"name\": \"Oceania\", \"orientation\": \"v\", \"showlegend\": true, \"stackgroup\": \"1\", \"type\": \"scatter\", \"x\": [1952, 1957, 1962, 1967, 1972, 1977, 1982, 1987, 1992, 1997, 2002, 2007], \"xaxis\": \"x\", \"y\": [69.12, 70.33, 70.93, 71.1, 71.93, 73.49, 74.74, 76.32, 77.56, 78.83, 80.37, 81.235], \"yaxis\": \"y\"}, {\"hovertemplate\": \"<b>%{hovertext}</b><br><br>continent=Oceania<br>country=New Zealand<br>year=%{x}<br>lifeExp=%{y}<extra></extra>\", \"hovertext\": [\"New Zealand\", \"New Zealand\", \"New Zealand\", \"New Zealand\", \"New Zealand\", \"New Zealand\", \"New Zealand\", \"New Zealand\", \"New Zealand\", \"New Zealand\", \"New Zealand\", \"New Zealand\"], \"legendgroup\": \"Oceania\", \"line\": {\"color\": \"#FFA15A\"}, \"mode\": \"lines\", \"name\": \"Oceania\", \"orientation\": \"v\", \"showlegend\": false, \"stackgroup\": \"1\", \"type\": \"scatter\", \"x\": [1952, 1957, 1962, 1967, 1972, 1977, 1982, 1987, 1992, 1997, 2002, 2007], \"xaxis\": \"x\", \"y\": [69.39, 70.26, 71.24, 71.52, 71.89, 72.22, 73.84, 74.32, 76.33, 77.55, 79.11, 80.204], \"yaxis\": \"y\"}],\n",
       "                        {\"legend\": {\"title\": {\"text\": \"continent\"}, \"tracegroupgap\": 0}, \"margin\": {\"t\": 60}, \"template\": {\"data\": {\"bar\": [{\"error_x\": {\"color\": \"#2a3f5f\"}, \"error_y\": {\"color\": \"#2a3f5f\"}, \"marker\": {\"line\": {\"color\": \"#E5ECF6\", \"width\": 0.5}}, \"type\": \"bar\"}], \"barpolar\": [{\"marker\": {\"line\": {\"color\": \"#E5ECF6\", \"width\": 0.5}}, \"type\": \"barpolar\"}], \"carpet\": [{\"aaxis\": {\"endlinecolor\": \"#2a3f5f\", \"gridcolor\": \"white\", \"linecolor\": \"white\", \"minorgridcolor\": \"white\", \"startlinecolor\": \"#2a3f5f\"}, \"baxis\": {\"endlinecolor\": \"#2a3f5f\", \"gridcolor\": \"white\", \"linecolor\": \"white\", \"minorgridcolor\": \"white\", \"startlinecolor\": \"#2a3f5f\"}, \"type\": \"carpet\"}], \"choropleth\": [{\"colorbar\": {\"outlinewidth\": 0, \"ticks\": \"\"}, \"type\": \"choropleth\"}], \"contour\": [{\"colorbar\": {\"outlinewidth\": 0, \"ticks\": \"\"}, \"colorscale\": [[0.0, \"#0d0887\"], [0.1111111111111111, \"#46039f\"], [0.2222222222222222, \"#7201a8\"], [0.3333333333333333, \"#9c179e\"], [0.4444444444444444, \"#bd3786\"], [0.5555555555555556, \"#d8576b\"], [0.6666666666666666, \"#ed7953\"], [0.7777777777777778, \"#fb9f3a\"], [0.8888888888888888, \"#fdca26\"], [1.0, \"#f0f921\"]], \"type\": \"contour\"}], \"contourcarpet\": [{\"colorbar\": {\"outlinewidth\": 0, \"ticks\": \"\"}, \"type\": \"contourcarpet\"}], \"heatmap\": [{\"colorbar\": {\"outlinewidth\": 0, \"ticks\": \"\"}, \"colorscale\": [[0.0, \"#0d0887\"], [0.1111111111111111, \"#46039f\"], [0.2222222222222222, \"#7201a8\"], [0.3333333333333333, \"#9c179e\"], [0.4444444444444444, \"#bd3786\"], [0.5555555555555556, \"#d8576b\"], [0.6666666666666666, \"#ed7953\"], [0.7777777777777778, \"#fb9f3a\"], [0.8888888888888888, \"#fdca26\"], [1.0, \"#f0f921\"]], \"type\": \"heatmap\"}], \"heatmapgl\": [{\"colorbar\": {\"outlinewidth\": 0, \"ticks\": \"\"}, \"colorscale\": [[0.0, \"#0d0887\"], [0.1111111111111111, \"#46039f\"], [0.2222222222222222, \"#7201a8\"], [0.3333333333333333, \"#9c179e\"], [0.4444444444444444, \"#bd3786\"], [0.5555555555555556, \"#d8576b\"], [0.6666666666666666, \"#ed7953\"], [0.7777777777777778, \"#fb9f3a\"], [0.8888888888888888, \"#fdca26\"], [1.0, \"#f0f921\"]], \"type\": \"heatmapgl\"}], \"histogram\": [{\"marker\": {\"colorbar\": {\"outlinewidth\": 0, \"ticks\": \"\"}}, \"type\": \"histogram\"}], \"histogram2d\": [{\"colorbar\": {\"outlinewidth\": 0, \"ticks\": \"\"}, \"colorscale\": [[0.0, \"#0d0887\"], [0.1111111111111111, \"#46039f\"], [0.2222222222222222, \"#7201a8\"], [0.3333333333333333, \"#9c179e\"], [0.4444444444444444, \"#bd3786\"], [0.5555555555555556, \"#d8576b\"], [0.6666666666666666, \"#ed7953\"], [0.7777777777777778, \"#fb9f3a\"], [0.8888888888888888, \"#fdca26\"], [1.0, \"#f0f921\"]], \"type\": \"histogram2d\"}], \"histogram2dcontour\": [{\"colorbar\": {\"outlinewidth\": 0, \"ticks\": \"\"}, \"colorscale\": [[0.0, \"#0d0887\"], [0.1111111111111111, \"#46039f\"], [0.2222222222222222, \"#7201a8\"], [0.3333333333333333, \"#9c179e\"], [0.4444444444444444, \"#bd3786\"], [0.5555555555555556, \"#d8576b\"], [0.6666666666666666, \"#ed7953\"], [0.7777777777777778, \"#fb9f3a\"], [0.8888888888888888, \"#fdca26\"], [1.0, \"#f0f921\"]], \"type\": \"histogram2dcontour\"}], \"mesh3d\": [{\"colorbar\": {\"outlinewidth\": 0, \"ticks\": \"\"}, \"type\": \"mesh3d\"}], \"parcoords\": [{\"line\": {\"colorbar\": {\"outlinewidth\": 0, \"ticks\": \"\"}}, \"type\": \"parcoords\"}], \"pie\": [{\"automargin\": true, \"type\": \"pie\"}], \"scatter\": [{\"marker\": {\"colorbar\": {\"outlinewidth\": 0, \"ticks\": \"\"}}, \"type\": \"scatter\"}], \"scatter3d\": [{\"line\": {\"colorbar\": {\"outlinewidth\": 0, \"ticks\": \"\"}}, \"marker\": {\"colorbar\": {\"outlinewidth\": 0, \"ticks\": \"\"}}, \"type\": \"scatter3d\"}], \"scattercarpet\": [{\"marker\": {\"colorbar\": {\"outlinewidth\": 0, \"ticks\": \"\"}}, \"type\": \"scattercarpet\"}], \"scattergeo\": [{\"marker\": {\"colorbar\": {\"outlinewidth\": 0, \"ticks\": \"\"}}, \"type\": \"scattergeo\"}], \"scattergl\": [{\"marker\": {\"colorbar\": {\"outlinewidth\": 0, \"ticks\": \"\"}}, \"type\": \"scattergl\"}], \"scattermapbox\": [{\"marker\": {\"colorbar\": {\"outlinewidth\": 0, \"ticks\": \"\"}}, \"type\": \"scattermapbox\"}], \"scatterpolar\": [{\"marker\": {\"colorbar\": {\"outlinewidth\": 0, \"ticks\": \"\"}}, \"type\": \"scatterpolar\"}], \"scatterpolargl\": [{\"marker\": {\"colorbar\": {\"outlinewidth\": 0, \"ticks\": \"\"}}, \"type\": \"scatterpolargl\"}], \"scatterternary\": [{\"marker\": {\"colorbar\": {\"outlinewidth\": 0, \"ticks\": \"\"}}, \"type\": \"scatterternary\"}], \"surface\": [{\"colorbar\": {\"outlinewidth\": 0, \"ticks\": \"\"}, \"colorscale\": [[0.0, \"#0d0887\"], [0.1111111111111111, \"#46039f\"], [0.2222222222222222, \"#7201a8\"], [0.3333333333333333, \"#9c179e\"], [0.4444444444444444, \"#bd3786\"], [0.5555555555555556, \"#d8576b\"], [0.6666666666666666, \"#ed7953\"], [0.7777777777777778, \"#fb9f3a\"], [0.8888888888888888, \"#fdca26\"], [1.0, \"#f0f921\"]], \"type\": \"surface\"}], \"table\": [{\"cells\": {\"fill\": {\"color\": \"#EBF0F8\"}, \"line\": {\"color\": \"white\"}}, \"header\": {\"fill\": {\"color\": \"#C8D4E3\"}, \"line\": {\"color\": \"white\"}}, \"type\": \"table\"}]}, \"layout\": {\"annotationdefaults\": {\"arrowcolor\": \"#2a3f5f\", \"arrowhead\": 0, \"arrowwidth\": 1}, \"coloraxis\": {\"colorbar\": {\"outlinewidth\": 0, \"ticks\": \"\"}}, \"colorscale\": {\"diverging\": [[0, \"#8e0152\"], [0.1, \"#c51b7d\"], [0.2, \"#de77ae\"], [0.3, \"#f1b6da\"], [0.4, \"#fde0ef\"], [0.5, \"#f7f7f7\"], [0.6, \"#e6f5d0\"], [0.7, \"#b8e186\"], [0.8, \"#7fbc41\"], [0.9, \"#4d9221\"], [1, \"#276419\"]], \"sequential\": [[0.0, \"#0d0887\"], [0.1111111111111111, \"#46039f\"], [0.2222222222222222, \"#7201a8\"], [0.3333333333333333, \"#9c179e\"], [0.4444444444444444, \"#bd3786\"], [0.5555555555555556, \"#d8576b\"], [0.6666666666666666, \"#ed7953\"], [0.7777777777777778, \"#fb9f3a\"], [0.8888888888888888, \"#fdca26\"], [1.0, \"#f0f921\"]], \"sequentialminus\": [[0.0, \"#0d0887\"], [0.1111111111111111, \"#46039f\"], [0.2222222222222222, \"#7201a8\"], [0.3333333333333333, \"#9c179e\"], [0.4444444444444444, \"#bd3786\"], [0.5555555555555556, \"#d8576b\"], [0.6666666666666666, \"#ed7953\"], [0.7777777777777778, \"#fb9f3a\"], [0.8888888888888888, \"#fdca26\"], [1.0, \"#f0f921\"]]}, \"colorway\": [\"#636efa\", \"#EF553B\", \"#00cc96\", \"#ab63fa\", \"#FFA15A\", \"#19d3f3\", \"#FF6692\", \"#B6E880\", \"#FF97FF\", \"#FECB52\"], \"font\": {\"color\": \"#2a3f5f\"}, \"geo\": {\"bgcolor\": \"white\", \"lakecolor\": \"white\", \"landcolor\": \"#E5ECF6\", \"showlakes\": true, \"showland\": true, \"subunitcolor\": \"white\"}, \"hoverlabel\": {\"align\": \"left\"}, \"hovermode\": \"closest\", \"mapbox\": {\"style\": \"light\"}, \"paper_bgcolor\": \"white\", \"plot_bgcolor\": \"#E5ECF6\", \"polar\": {\"angularaxis\": {\"gridcolor\": \"white\", \"linecolor\": \"white\", \"ticks\": \"\"}, \"bgcolor\": \"#E5ECF6\", \"radialaxis\": {\"gridcolor\": \"white\", \"linecolor\": \"white\", \"ticks\": \"\"}}, \"scene\": {\"xaxis\": {\"backgroundcolor\": \"#E5ECF6\", \"gridcolor\": \"white\", \"gridwidth\": 2, \"linecolor\": \"white\", \"showbackground\": true, \"ticks\": \"\", \"zerolinecolor\": \"white\"}, \"yaxis\": {\"backgroundcolor\": \"#E5ECF6\", \"gridcolor\": \"white\", \"gridwidth\": 2, \"linecolor\": \"white\", \"showbackground\": true, \"ticks\": \"\", \"zerolinecolor\": \"white\"}, \"zaxis\": {\"backgroundcolor\": \"#E5ECF6\", \"gridcolor\": \"white\", \"gridwidth\": 2, \"linecolor\": \"white\", \"showbackground\": true, \"ticks\": \"\", \"zerolinecolor\": \"white\"}}, \"shapedefaults\": {\"line\": {\"color\": \"#2a3f5f\"}}, \"ternary\": {\"aaxis\": {\"gridcolor\": \"white\", \"linecolor\": \"white\", \"ticks\": \"\"}, \"baxis\": {\"gridcolor\": \"white\", \"linecolor\": \"white\", \"ticks\": \"\"}, \"bgcolor\": \"#E5ECF6\", \"caxis\": {\"gridcolor\": \"white\", \"linecolor\": \"white\", \"ticks\": \"\"}}, \"title\": {\"x\": 0.05}, \"xaxis\": {\"automargin\": true, \"gridcolor\": \"white\", \"linecolor\": \"white\", \"ticks\": \"\", \"title\": {\"standoff\": 15}, \"zerolinecolor\": \"white\", \"zerolinewidth\": 2}, \"yaxis\": {\"automargin\": true, \"gridcolor\": \"white\", \"linecolor\": \"white\", \"ticks\": \"\", \"title\": {\"standoff\": 15}, \"zerolinecolor\": \"white\", \"zerolinewidth\": 2}}}, \"xaxis\": {\"anchor\": \"y\", \"domain\": [0.0, 1.0], \"title\": {\"text\": \"year\"}}, \"yaxis\": {\"anchor\": \"x\", \"domain\": [0.0, 1.0], \"title\": {\"text\": \"lifeExp\"}}},\n",
       "                        {\"responsive\": true}\n",
       "                    ).then(function(){\n",
       "                            \n",
       "var gd = document.getElementById('24c540d3-1f1e-4041-a2d7-03482d6456c7');\n",
       "var x = new MutationObserver(function (mutations, observer) {{\n",
       "        var display = window.getComputedStyle(gd).display;\n",
       "        if (!display || display === 'none') {{\n",
       "            console.log([gd, 'removed!']);\n",
       "            Plotly.purge(gd);\n",
       "            observer.disconnect();\n",
       "        }}\n",
       "}});\n",
       "\n",
       "// Listen for the removal of the full notebook cells\n",
       "var notebookContainer = gd.closest('#notebook-container');\n",
       "if (notebookContainer) {{\n",
       "    x.observe(notebookContainer, {childList: true});\n",
       "}}\n",
       "\n",
       "// Listen for the clearing of the current output cell\n",
       "var outputEl = gd.closest('.output');\n",
       "if (outputEl) {{\n",
       "    x.observe(outputEl, {childList: true});\n",
       "}}\n",
       "\n",
       "                        })\n",
       "                };\n",
       "                });\n",
       "            </script>\n",
       "        </div>"
      ]
     },
     "metadata": {},
     "output_type": "display_data"
    }
   ],
   "source": [
    "fig = px.area(data_plotly,x='year',y='lifeExp',line_group='country',color='continent',hover_name='country')\n",
    "fig.show()"
   ]
  },
  {
   "cell_type": "code",
   "execution_count": null,
   "metadata": {},
   "outputs": [],
   "source": [
    "################################################ Bubble Chart ########################################################"
   ]
  },
  {
   "cell_type": "code",
   "execution_count": 154,
   "metadata": {
    "scrolled": false
   },
   "outputs": [
    {
     "data": {
      "application/vnd.plotly.v1+json": {
       "config": {
        "plotlyServerURL": "https://plot.ly"
       },
       "data": [
        {
         "hovertemplate": "<b>%{hovertext}</b><br><br>iso_alpha=AFG<br>gdpPercap=%{x}<br>lifeExp=%{y}<br>pop=%{marker.size}<extra></extra>",
         "hovertext": [
          "Afghanistan"
         ],
         "legendgroup": "AFG",
         "marker": {
          "color": "#636efa",
          "size": [
           31889923
          ],
          "sizemode": "area",
          "sizeref": 206044.23375,
          "symbol": "circle"
         },
         "mode": "markers",
         "name": "AFG",
         "orientation": "v",
         "showlegend": true,
         "type": "scatter",
         "x": [
          974.5803384
         ],
         "xaxis": "x",
         "y": [
          43.828
         ],
         "yaxis": "y"
        },
        {
         "hovertemplate": "<b>%{hovertext}</b><br><br>iso_alpha=ALB<br>gdpPercap=%{x}<br>lifeExp=%{y}<br>pop=%{marker.size}<extra></extra>",
         "hovertext": [
          "Albania"
         ],
         "legendgroup": "ALB",
         "marker": {
          "color": "#EF553B",
          "size": [
           3600523
          ],
          "sizemode": "area",
          "sizeref": 206044.23375,
          "symbol": "circle"
         },
         "mode": "markers",
         "name": "ALB",
         "orientation": "v",
         "showlegend": true,
         "type": "scatter",
         "x": [
          5937.029525999999
         ],
         "xaxis": "x",
         "y": [
          76.423
         ],
         "yaxis": "y"
        },
        {
         "hovertemplate": "<b>%{hovertext}</b><br><br>iso_alpha=DZA<br>gdpPercap=%{x}<br>lifeExp=%{y}<br>pop=%{marker.size}<extra></extra>",
         "hovertext": [
          "Algeria"
         ],
         "legendgroup": "DZA",
         "marker": {
          "color": "#00cc96",
          "size": [
           33333216
          ],
          "sizemode": "area",
          "sizeref": 206044.23375,
          "symbol": "circle"
         },
         "mode": "markers",
         "name": "DZA",
         "orientation": "v",
         "showlegend": true,
         "type": "scatter",
         "x": [
          6223.367465
         ],
         "xaxis": "x",
         "y": [
          72.301
         ],
         "yaxis": "y"
        },
        {
         "hovertemplate": "<b>%{hovertext}</b><br><br>iso_alpha=AGO<br>gdpPercap=%{x}<br>lifeExp=%{y}<br>pop=%{marker.size}<extra></extra>",
         "hovertext": [
          "Angola"
         ],
         "legendgroup": "AGO",
         "marker": {
          "color": "#ab63fa",
          "size": [
           12420476
          ],
          "sizemode": "area",
          "sizeref": 206044.23375,
          "symbol": "circle"
         },
         "mode": "markers",
         "name": "AGO",
         "orientation": "v",
         "showlegend": true,
         "type": "scatter",
         "x": [
          4797.231267
         ],
         "xaxis": "x",
         "y": [
          42.731
         ],
         "yaxis": "y"
        },
        {
         "hovertemplate": "<b>%{hovertext}</b><br><br>iso_alpha=ARG<br>gdpPercap=%{x}<br>lifeExp=%{y}<br>pop=%{marker.size}<extra></extra>",
         "hovertext": [
          "Argentina"
         ],
         "legendgroup": "ARG",
         "marker": {
          "color": "#FFA15A",
          "size": [
           40301927
          ],
          "sizemode": "area",
          "sizeref": 206044.23375,
          "symbol": "circle"
         },
         "mode": "markers",
         "name": "ARG",
         "orientation": "v",
         "showlegend": true,
         "type": "scatter",
         "x": [
          12779.379640000001
         ],
         "xaxis": "x",
         "y": [
          75.32
         ],
         "yaxis": "y"
        },
        {
         "hovertemplate": "<b>%{hovertext}</b><br><br>iso_alpha=AUS<br>gdpPercap=%{x}<br>lifeExp=%{y}<br>pop=%{marker.size}<extra></extra>",
         "hovertext": [
          "Australia"
         ],
         "legendgroup": "AUS",
         "marker": {
          "color": "#19d3f3",
          "size": [
           20434176
          ],
          "sizemode": "area",
          "sizeref": 206044.23375,
          "symbol": "circle"
         },
         "mode": "markers",
         "name": "AUS",
         "orientation": "v",
         "showlegend": true,
         "type": "scatter",
         "x": [
          34435.367439999995
         ],
         "xaxis": "x",
         "y": [
          81.235
         ],
         "yaxis": "y"
        },
        {
         "hovertemplate": "<b>%{hovertext}</b><br><br>iso_alpha=AUT<br>gdpPercap=%{x}<br>lifeExp=%{y}<br>pop=%{marker.size}<extra></extra>",
         "hovertext": [
          "Austria"
         ],
         "legendgroup": "AUT",
         "marker": {
          "color": "#FF6692",
          "size": [
           8199783
          ],
          "sizemode": "area",
          "sizeref": 206044.23375,
          "symbol": "circle"
         },
         "mode": "markers",
         "name": "AUT",
         "orientation": "v",
         "showlegend": true,
         "type": "scatter",
         "x": [
          36126.4927
         ],
         "xaxis": "x",
         "y": [
          79.829
         ],
         "yaxis": "y"
        },
        {
         "hovertemplate": "<b>%{hovertext}</b><br><br>iso_alpha=BHR<br>gdpPercap=%{x}<br>lifeExp=%{y}<br>pop=%{marker.size}<extra></extra>",
         "hovertext": [
          "Bahrain"
         ],
         "legendgroup": "BHR",
         "marker": {
          "color": "#B6E880",
          "size": [
           708573
          ],
          "sizemode": "area",
          "sizeref": 206044.23375,
          "symbol": "circle"
         },
         "mode": "markers",
         "name": "BHR",
         "orientation": "v",
         "showlegend": true,
         "type": "scatter",
         "x": [
          29796.048339999998
         ],
         "xaxis": "x",
         "y": [
          75.635
         ],
         "yaxis": "y"
        },
        {
         "hovertemplate": "<b>%{hovertext}</b><br><br>iso_alpha=BGD<br>gdpPercap=%{x}<br>lifeExp=%{y}<br>pop=%{marker.size}<extra></extra>",
         "hovertext": [
          "Bangladesh"
         ],
         "legendgroup": "BGD",
         "marker": {
          "color": "#FF97FF",
          "size": [
           150448339
          ],
          "sizemode": "area",
          "sizeref": 206044.23375,
          "symbol": "circle"
         },
         "mode": "markers",
         "name": "BGD",
         "orientation": "v",
         "showlegend": true,
         "type": "scatter",
         "x": [
          1391.253792
         ],
         "xaxis": "x",
         "y": [
          64.062
         ],
         "yaxis": "y"
        },
        {
         "hovertemplate": "<b>%{hovertext}</b><br><br>iso_alpha=BEL<br>gdpPercap=%{x}<br>lifeExp=%{y}<br>pop=%{marker.size}<extra></extra>",
         "hovertext": [
          "Belgium"
         ],
         "legendgroup": "BEL",
         "marker": {
          "color": "#FECB52",
          "size": [
           10392226
          ],
          "sizemode": "area",
          "sizeref": 206044.23375,
          "symbol": "circle"
         },
         "mode": "markers",
         "name": "BEL",
         "orientation": "v",
         "showlegend": true,
         "type": "scatter",
         "x": [
          33692.60508
         ],
         "xaxis": "x",
         "y": [
          79.441
         ],
         "yaxis": "y"
        },
        {
         "hovertemplate": "<b>%{hovertext}</b><br><br>iso_alpha=BEN<br>gdpPercap=%{x}<br>lifeExp=%{y}<br>pop=%{marker.size}<extra></extra>",
         "hovertext": [
          "Benin"
         ],
         "legendgroup": "BEN",
         "marker": {
          "color": "#636efa",
          "size": [
           8078314
          ],
          "sizemode": "area",
          "sizeref": 206044.23375,
          "symbol": "circle"
         },
         "mode": "markers",
         "name": "BEN",
         "orientation": "v",
         "showlegend": true,
         "type": "scatter",
         "x": [
          1441.284873
         ],
         "xaxis": "x",
         "y": [
          56.728
         ],
         "yaxis": "y"
        },
        {
         "hovertemplate": "<b>%{hovertext}</b><br><br>iso_alpha=BOL<br>gdpPercap=%{x}<br>lifeExp=%{y}<br>pop=%{marker.size}<extra></extra>",
         "hovertext": [
          "Bolivia"
         ],
         "legendgroup": "BOL",
         "marker": {
          "color": "#EF553B",
          "size": [
           9119152
          ],
          "sizemode": "area",
          "sizeref": 206044.23375,
          "symbol": "circle"
         },
         "mode": "markers",
         "name": "BOL",
         "orientation": "v",
         "showlegend": true,
         "type": "scatter",
         "x": [
          3822.1370840000004
         ],
         "xaxis": "x",
         "y": [
          65.554
         ],
         "yaxis": "y"
        },
        {
         "hovertemplate": "<b>%{hovertext}</b><br><br>iso_alpha=BIH<br>gdpPercap=%{x}<br>lifeExp=%{y}<br>pop=%{marker.size}<extra></extra>",
         "hovertext": [
          "Bosnia and Herzegovina"
         ],
         "legendgroup": "BIH",
         "marker": {
          "color": "#00cc96",
          "size": [
           4552198
          ],
          "sizemode": "area",
          "sizeref": 206044.23375,
          "symbol": "circle"
         },
         "mode": "markers",
         "name": "BIH",
         "orientation": "v",
         "showlegend": true,
         "type": "scatter",
         "x": [
          7446.298803
         ],
         "xaxis": "x",
         "y": [
          74.852
         ],
         "yaxis": "y"
        },
        {
         "hovertemplate": "<b>%{hovertext}</b><br><br>iso_alpha=BWA<br>gdpPercap=%{x}<br>lifeExp=%{y}<br>pop=%{marker.size}<extra></extra>",
         "hovertext": [
          "Botswana"
         ],
         "legendgroup": "BWA",
         "marker": {
          "color": "#ab63fa",
          "size": [
           1639131
          ],
          "sizemode": "area",
          "sizeref": 206044.23375,
          "symbol": "circle"
         },
         "mode": "markers",
         "name": "BWA",
         "orientation": "v",
         "showlegend": true,
         "type": "scatter",
         "x": [
          12569.851770000001
         ],
         "xaxis": "x",
         "y": [
          50.728
         ],
         "yaxis": "y"
        },
        {
         "hovertemplate": "<b>%{hovertext}</b><br><br>iso_alpha=BRA<br>gdpPercap=%{x}<br>lifeExp=%{y}<br>pop=%{marker.size}<extra></extra>",
         "hovertext": [
          "Brazil"
         ],
         "legendgroup": "BRA",
         "marker": {
          "color": "#FFA15A",
          "size": [
           190010647
          ],
          "sizemode": "area",
          "sizeref": 206044.23375,
          "symbol": "circle"
         },
         "mode": "markers",
         "name": "BRA",
         "orientation": "v",
         "showlegend": true,
         "type": "scatter",
         "x": [
          9065.800825
         ],
         "xaxis": "x",
         "y": [
          72.39
         ],
         "yaxis": "y"
        },
        {
         "hovertemplate": "<b>%{hovertext}</b><br><br>iso_alpha=BGR<br>gdpPercap=%{x}<br>lifeExp=%{y}<br>pop=%{marker.size}<extra></extra>",
         "hovertext": [
          "Bulgaria"
         ],
         "legendgroup": "BGR",
         "marker": {
          "color": "#19d3f3",
          "size": [
           7322858
          ],
          "sizemode": "area",
          "sizeref": 206044.23375,
          "symbol": "circle"
         },
         "mode": "markers",
         "name": "BGR",
         "orientation": "v",
         "showlegend": true,
         "type": "scatter",
         "x": [
          10680.79282
         ],
         "xaxis": "x",
         "y": [
          73.005
         ],
         "yaxis": "y"
        },
        {
         "hovertemplate": "<b>%{hovertext}</b><br><br>iso_alpha=BFA<br>gdpPercap=%{x}<br>lifeExp=%{y}<br>pop=%{marker.size}<extra></extra>",
         "hovertext": [
          "Burkina Faso"
         ],
         "legendgroup": "BFA",
         "marker": {
          "color": "#FF6692",
          "size": [
           14326203
          ],
          "sizemode": "area",
          "sizeref": 206044.23375,
          "symbol": "circle"
         },
         "mode": "markers",
         "name": "BFA",
         "orientation": "v",
         "showlegend": true,
         "type": "scatter",
         "x": [
          1217.032994
         ],
         "xaxis": "x",
         "y": [
          52.295
         ],
         "yaxis": "y"
        },
        {
         "hovertemplate": "<b>%{hovertext}</b><br><br>iso_alpha=BDI<br>gdpPercap=%{x}<br>lifeExp=%{y}<br>pop=%{marker.size}<extra></extra>",
         "hovertext": [
          "Burundi"
         ],
         "legendgroup": "BDI",
         "marker": {
          "color": "#B6E880",
          "size": [
           8390505
          ],
          "sizemode": "area",
          "sizeref": 206044.23375,
          "symbol": "circle"
         },
         "mode": "markers",
         "name": "BDI",
         "orientation": "v",
         "showlegend": true,
         "type": "scatter",
         "x": [
          430.07069160000003
         ],
         "xaxis": "x",
         "y": [
          49.58
         ],
         "yaxis": "y"
        },
        {
         "hovertemplate": "<b>%{hovertext}</b><br><br>iso_alpha=KHM<br>gdpPercap=%{x}<br>lifeExp=%{y}<br>pop=%{marker.size}<extra></extra>",
         "hovertext": [
          "Cambodia"
         ],
         "legendgroup": "KHM",
         "marker": {
          "color": "#FF97FF",
          "size": [
           14131858
          ],
          "sizemode": "area",
          "sizeref": 206044.23375,
          "symbol": "circle"
         },
         "mode": "markers",
         "name": "KHM",
         "orientation": "v",
         "showlegend": true,
         "type": "scatter",
         "x": [
          1713.7786859999999
         ],
         "xaxis": "x",
         "y": [
          59.723
         ],
         "yaxis": "y"
        },
        {
         "hovertemplate": "<b>%{hovertext}</b><br><br>iso_alpha=CMR<br>gdpPercap=%{x}<br>lifeExp=%{y}<br>pop=%{marker.size}<extra></extra>",
         "hovertext": [
          "Cameroon"
         ],
         "legendgroup": "CMR",
         "marker": {
          "color": "#FECB52",
          "size": [
           17696293
          ],
          "sizemode": "area",
          "sizeref": 206044.23375,
          "symbol": "circle"
         },
         "mode": "markers",
         "name": "CMR",
         "orientation": "v",
         "showlegend": true,
         "type": "scatter",
         "x": [
          2042.0952399999999
         ],
         "xaxis": "x",
         "y": [
          50.43
         ],
         "yaxis": "y"
        },
        {
         "hovertemplate": "<b>%{hovertext}</b><br><br>iso_alpha=CAN<br>gdpPercap=%{x}<br>lifeExp=%{y}<br>pop=%{marker.size}<extra></extra>",
         "hovertext": [
          "Canada"
         ],
         "legendgroup": "CAN",
         "marker": {
          "color": "#636efa",
          "size": [
           33390141
          ],
          "sizemode": "area",
          "sizeref": 206044.23375,
          "symbol": "circle"
         },
         "mode": "markers",
         "name": "CAN",
         "orientation": "v",
         "showlegend": true,
         "type": "scatter",
         "x": [
          36319.235010000004
         ],
         "xaxis": "x",
         "y": [
          80.653
         ],
         "yaxis": "y"
        },
        {
         "hovertemplate": "<b>%{hovertext}</b><br><br>iso_alpha=CAF<br>gdpPercap=%{x}<br>lifeExp=%{y}<br>pop=%{marker.size}<extra></extra>",
         "hovertext": [
          "Central African Republic"
         ],
         "legendgroup": "CAF",
         "marker": {
          "color": "#EF553B",
          "size": [
           4369038
          ],
          "sizemode": "area",
          "sizeref": 206044.23375,
          "symbol": "circle"
         },
         "mode": "markers",
         "name": "CAF",
         "orientation": "v",
         "showlegend": true,
         "type": "scatter",
         "x": [
          706.016537
         ],
         "xaxis": "x",
         "y": [
          44.74100000000001
         ],
         "yaxis": "y"
        },
        {
         "hovertemplate": "<b>%{hovertext}</b><br><br>iso_alpha=TCD<br>gdpPercap=%{x}<br>lifeExp=%{y}<br>pop=%{marker.size}<extra></extra>",
         "hovertext": [
          "Chad"
         ],
         "legendgroup": "TCD",
         "marker": {
          "color": "#00cc96",
          "size": [
           10238807
          ],
          "sizemode": "area",
          "sizeref": 206044.23375,
          "symbol": "circle"
         },
         "mode": "markers",
         "name": "TCD",
         "orientation": "v",
         "showlegend": true,
         "type": "scatter",
         "x": [
          1704.0637239999999
         ],
         "xaxis": "x",
         "y": [
          50.651
         ],
         "yaxis": "y"
        },
        {
         "hovertemplate": "<b>%{hovertext}</b><br><br>iso_alpha=CHL<br>gdpPercap=%{x}<br>lifeExp=%{y}<br>pop=%{marker.size}<extra></extra>",
         "hovertext": [
          "Chile"
         ],
         "legendgroup": "CHL",
         "marker": {
          "color": "#ab63fa",
          "size": [
           16284741
          ],
          "sizemode": "area",
          "sizeref": 206044.23375,
          "symbol": "circle"
         },
         "mode": "markers",
         "name": "CHL",
         "orientation": "v",
         "showlegend": true,
         "type": "scatter",
         "x": [
          13171.63885
         ],
         "xaxis": "x",
         "y": [
          78.553
         ],
         "yaxis": "y"
        },
        {
         "hovertemplate": "<b>%{hovertext}</b><br><br>iso_alpha=CHN<br>gdpPercap=%{x}<br>lifeExp=%{y}<br>pop=%{marker.size}<extra></extra>",
         "hovertext": [
          "China"
         ],
         "legendgroup": "CHN",
         "marker": {
          "color": "#FFA15A",
          "size": [
           1318683096
          ],
          "sizemode": "area",
          "sizeref": 206044.23375,
          "symbol": "circle"
         },
         "mode": "markers",
         "name": "CHN",
         "orientation": "v",
         "showlegend": true,
         "type": "scatter",
         "x": [
          4959.1148539999995
         ],
         "xaxis": "x",
         "y": [
          72.961
         ],
         "yaxis": "y"
        },
        {
         "hovertemplate": "<b>%{hovertext}</b><br><br>iso_alpha=COL<br>gdpPercap=%{x}<br>lifeExp=%{y}<br>pop=%{marker.size}<extra></extra>",
         "hovertext": [
          "Colombia"
         ],
         "legendgroup": "COL",
         "marker": {
          "color": "#19d3f3",
          "size": [
           44227550
          ],
          "sizemode": "area",
          "sizeref": 206044.23375,
          "symbol": "circle"
         },
         "mode": "markers",
         "name": "COL",
         "orientation": "v",
         "showlegend": true,
         "type": "scatter",
         "x": [
          7006.580419
         ],
         "xaxis": "x",
         "y": [
          72.889
         ],
         "yaxis": "y"
        },
        {
         "hovertemplate": "<b>%{hovertext}</b><br><br>iso_alpha=COM<br>gdpPercap=%{x}<br>lifeExp=%{y}<br>pop=%{marker.size}<extra></extra>",
         "hovertext": [
          "Comoros"
         ],
         "legendgroup": "COM",
         "marker": {
          "color": "#FF6692",
          "size": [
           710960
          ],
          "sizemode": "area",
          "sizeref": 206044.23375,
          "symbol": "circle"
         },
         "mode": "markers",
         "name": "COM",
         "orientation": "v",
         "showlegend": true,
         "type": "scatter",
         "x": [
          986.1478792000001
         ],
         "xaxis": "x",
         "y": [
          65.152
         ],
         "yaxis": "y"
        },
        {
         "hovertemplate": "<b>%{hovertext}</b><br><br>iso_alpha=COD<br>gdpPercap=%{x}<br>lifeExp=%{y}<br>pop=%{marker.size}<extra></extra>",
         "hovertext": [
          "Congo, Dem. Rep."
         ],
         "legendgroup": "COD",
         "marker": {
          "color": "#B6E880",
          "size": [
           64606759
          ],
          "sizemode": "area",
          "sizeref": 206044.23375,
          "symbol": "circle"
         },
         "mode": "markers",
         "name": "COD",
         "orientation": "v",
         "showlegend": true,
         "type": "scatter",
         "x": [
          277.55185869999997
         ],
         "xaxis": "x",
         "y": [
          46.461999999999996
         ],
         "yaxis": "y"
        },
        {
         "hovertemplate": "<b>%{hovertext}</b><br><br>iso_alpha=COG<br>gdpPercap=%{x}<br>lifeExp=%{y}<br>pop=%{marker.size}<extra></extra>",
         "hovertext": [
          "Congo, Rep."
         ],
         "legendgroup": "COG",
         "marker": {
          "color": "#FF97FF",
          "size": [
           3800610
          ],
          "sizemode": "area",
          "sizeref": 206044.23375,
          "symbol": "circle"
         },
         "mode": "markers",
         "name": "COG",
         "orientation": "v",
         "showlegend": true,
         "type": "scatter",
         "x": [
          3632.557798
         ],
         "xaxis": "x",
         "y": [
          55.321999999999996
         ],
         "yaxis": "y"
        },
        {
         "hovertemplate": "<b>%{hovertext}</b><br><br>iso_alpha=CRI<br>gdpPercap=%{x}<br>lifeExp=%{y}<br>pop=%{marker.size}<extra></extra>",
         "hovertext": [
          "Costa Rica"
         ],
         "legendgroup": "CRI",
         "marker": {
          "color": "#FECB52",
          "size": [
           4133884
          ],
          "sizemode": "area",
          "sizeref": 206044.23375,
          "symbol": "circle"
         },
         "mode": "markers",
         "name": "CRI",
         "orientation": "v",
         "showlegend": true,
         "type": "scatter",
         "x": [
          9645.06142
         ],
         "xaxis": "x",
         "y": [
          78.782
         ],
         "yaxis": "y"
        },
        {
         "hovertemplate": "<b>%{hovertext}</b><br><br>iso_alpha=CIV<br>gdpPercap=%{x}<br>lifeExp=%{y}<br>pop=%{marker.size}<extra></extra>",
         "hovertext": [
          "Cote d'Ivoire"
         ],
         "legendgroup": "CIV",
         "marker": {
          "color": "#636efa",
          "size": [
           18013409
          ],
          "sizemode": "area",
          "sizeref": 206044.23375,
          "symbol": "circle"
         },
         "mode": "markers",
         "name": "CIV",
         "orientation": "v",
         "showlegend": true,
         "type": "scatter",
         "x": [
          1544.750112
         ],
         "xaxis": "x",
         "y": [
          48.328
         ],
         "yaxis": "y"
        },
        {
         "hovertemplate": "<b>%{hovertext}</b><br><br>iso_alpha=HRV<br>gdpPercap=%{x}<br>lifeExp=%{y}<br>pop=%{marker.size}<extra></extra>",
         "hovertext": [
          "Croatia"
         ],
         "legendgroup": "HRV",
         "marker": {
          "color": "#EF553B",
          "size": [
           4493312
          ],
          "sizemode": "area",
          "sizeref": 206044.23375,
          "symbol": "circle"
         },
         "mode": "markers",
         "name": "HRV",
         "orientation": "v",
         "showlegend": true,
         "type": "scatter",
         "x": [
          14619.222719999998
         ],
         "xaxis": "x",
         "y": [
          75.748
         ],
         "yaxis": "y"
        },
        {
         "hovertemplate": "<b>%{hovertext}</b><br><br>iso_alpha=CUB<br>gdpPercap=%{x}<br>lifeExp=%{y}<br>pop=%{marker.size}<extra></extra>",
         "hovertext": [
          "Cuba"
         ],
         "legendgroup": "CUB",
         "marker": {
          "color": "#00cc96",
          "size": [
           11416987
          ],
          "sizemode": "area",
          "sizeref": 206044.23375,
          "symbol": "circle"
         },
         "mode": "markers",
         "name": "CUB",
         "orientation": "v",
         "showlegend": true,
         "type": "scatter",
         "x": [
          8948.102923
         ],
         "xaxis": "x",
         "y": [
          78.273
         ],
         "yaxis": "y"
        },
        {
         "hovertemplate": "<b>%{hovertext}</b><br><br>iso_alpha=CZE<br>gdpPercap=%{x}<br>lifeExp=%{y}<br>pop=%{marker.size}<extra></extra>",
         "hovertext": [
          "Czech Republic"
         ],
         "legendgroup": "CZE",
         "marker": {
          "color": "#ab63fa",
          "size": [
           10228744
          ],
          "sizemode": "area",
          "sizeref": 206044.23375,
          "symbol": "circle"
         },
         "mode": "markers",
         "name": "CZE",
         "orientation": "v",
         "showlegend": true,
         "type": "scatter",
         "x": [
          22833.30851
         ],
         "xaxis": "x",
         "y": [
          76.486
         ],
         "yaxis": "y"
        },
        {
         "hovertemplate": "<b>%{hovertext}</b><br><br>iso_alpha=DNK<br>gdpPercap=%{x}<br>lifeExp=%{y}<br>pop=%{marker.size}<extra></extra>",
         "hovertext": [
          "Denmark"
         ],
         "legendgroup": "DNK",
         "marker": {
          "color": "#FFA15A",
          "size": [
           5468120
          ],
          "sizemode": "area",
          "sizeref": 206044.23375,
          "symbol": "circle"
         },
         "mode": "markers",
         "name": "DNK",
         "orientation": "v",
         "showlegend": true,
         "type": "scatter",
         "x": [
          35278.41874
         ],
         "xaxis": "x",
         "y": [
          78.332
         ],
         "yaxis": "y"
        },
        {
         "hovertemplate": "<b>%{hovertext}</b><br><br>iso_alpha=DJI<br>gdpPercap=%{x}<br>lifeExp=%{y}<br>pop=%{marker.size}<extra></extra>",
         "hovertext": [
          "Djibouti"
         ],
         "legendgroup": "DJI",
         "marker": {
          "color": "#19d3f3",
          "size": [
           496374
          ],
          "sizemode": "area",
          "sizeref": 206044.23375,
          "symbol": "circle"
         },
         "mode": "markers",
         "name": "DJI",
         "orientation": "v",
         "showlegend": true,
         "type": "scatter",
         "x": [
          2082.4815670000003
         ],
         "xaxis": "x",
         "y": [
          54.791000000000004
         ],
         "yaxis": "y"
        },
        {
         "hovertemplate": "<b>%{hovertext}</b><br><br>iso_alpha=DOM<br>gdpPercap=%{x}<br>lifeExp=%{y}<br>pop=%{marker.size}<extra></extra>",
         "hovertext": [
          "Dominican Republic"
         ],
         "legendgroup": "DOM",
         "marker": {
          "color": "#FF6692",
          "size": [
           9319622
          ],
          "sizemode": "area",
          "sizeref": 206044.23375,
          "symbol": "circle"
         },
         "mode": "markers",
         "name": "DOM",
         "orientation": "v",
         "showlegend": true,
         "type": "scatter",
         "x": [
          6025.374752000001
         ],
         "xaxis": "x",
         "y": [
          72.235
         ],
         "yaxis": "y"
        },
        {
         "hovertemplate": "<b>%{hovertext}</b><br><br>iso_alpha=ECU<br>gdpPercap=%{x}<br>lifeExp=%{y}<br>pop=%{marker.size}<extra></extra>",
         "hovertext": [
          "Ecuador"
         ],
         "legendgroup": "ECU",
         "marker": {
          "color": "#B6E880",
          "size": [
           13755680
          ],
          "sizemode": "area",
          "sizeref": 206044.23375,
          "symbol": "circle"
         },
         "mode": "markers",
         "name": "ECU",
         "orientation": "v",
         "showlegend": true,
         "type": "scatter",
         "x": [
          6873.262326000001
         ],
         "xaxis": "x",
         "y": [
          74.994
         ],
         "yaxis": "y"
        },
        {
         "hovertemplate": "<b>%{hovertext}</b><br><br>iso_alpha=EGY<br>gdpPercap=%{x}<br>lifeExp=%{y}<br>pop=%{marker.size}<extra></extra>",
         "hovertext": [
          "Egypt"
         ],
         "legendgroup": "EGY",
         "marker": {
          "color": "#FF97FF",
          "size": [
           80264543
          ],
          "sizemode": "area",
          "sizeref": 206044.23375,
          "symbol": "circle"
         },
         "mode": "markers",
         "name": "EGY",
         "orientation": "v",
         "showlegend": true,
         "type": "scatter",
         "x": [
          5581.180998
         ],
         "xaxis": "x",
         "y": [
          71.33800000000001
         ],
         "yaxis": "y"
        },
        {
         "hovertemplate": "<b>%{hovertext}</b><br><br>iso_alpha=SLV<br>gdpPercap=%{x}<br>lifeExp=%{y}<br>pop=%{marker.size}<extra></extra>",
         "hovertext": [
          "El Salvador"
         ],
         "legendgroup": "SLV",
         "marker": {
          "color": "#FECB52",
          "size": [
           6939688
          ],
          "sizemode": "area",
          "sizeref": 206044.23375,
          "symbol": "circle"
         },
         "mode": "markers",
         "name": "SLV",
         "orientation": "v",
         "showlegend": true,
         "type": "scatter",
         "x": [
          5728.353514
         ],
         "xaxis": "x",
         "y": [
          71.878
         ],
         "yaxis": "y"
        },
        {
         "hovertemplate": "<b>%{hovertext}</b><br><br>iso_alpha=GNQ<br>gdpPercap=%{x}<br>lifeExp=%{y}<br>pop=%{marker.size}<extra></extra>",
         "hovertext": [
          "Equatorial Guinea"
         ],
         "legendgroup": "GNQ",
         "marker": {
          "color": "#636efa",
          "size": [
           551201
          ],
          "sizemode": "area",
          "sizeref": 206044.23375,
          "symbol": "circle"
         },
         "mode": "markers",
         "name": "GNQ",
         "orientation": "v",
         "showlegend": true,
         "type": "scatter",
         "x": [
          12154.08975
         ],
         "xaxis": "x",
         "y": [
          51.57899999999999
         ],
         "yaxis": "y"
        },
        {
         "hovertemplate": "<b>%{hovertext}</b><br><br>iso_alpha=ERI<br>gdpPercap=%{x}<br>lifeExp=%{y}<br>pop=%{marker.size}<extra></extra>",
         "hovertext": [
          "Eritrea"
         ],
         "legendgroup": "ERI",
         "marker": {
          "color": "#EF553B",
          "size": [
           4906585
          ],
          "sizemode": "area",
          "sizeref": 206044.23375,
          "symbol": "circle"
         },
         "mode": "markers",
         "name": "ERI",
         "orientation": "v",
         "showlegend": true,
         "type": "scatter",
         "x": [
          641.3695236000001
         ],
         "xaxis": "x",
         "y": [
          58.04
         ],
         "yaxis": "y"
        },
        {
         "hovertemplate": "<b>%{hovertext}</b><br><br>iso_alpha=ETH<br>gdpPercap=%{x}<br>lifeExp=%{y}<br>pop=%{marker.size}<extra></extra>",
         "hovertext": [
          "Ethiopia"
         ],
         "legendgroup": "ETH",
         "marker": {
          "color": "#00cc96",
          "size": [
           76511887
          ],
          "sizemode": "area",
          "sizeref": 206044.23375,
          "symbol": "circle"
         },
         "mode": "markers",
         "name": "ETH",
         "orientation": "v",
         "showlegend": true,
         "type": "scatter",
         "x": [
          690.8055759
         ],
         "xaxis": "x",
         "y": [
          52.946999999999996
         ],
         "yaxis": "y"
        },
        {
         "hovertemplate": "<b>%{hovertext}</b><br><br>iso_alpha=FIN<br>gdpPercap=%{x}<br>lifeExp=%{y}<br>pop=%{marker.size}<extra></extra>",
         "hovertext": [
          "Finland"
         ],
         "legendgroup": "FIN",
         "marker": {
          "color": "#ab63fa",
          "size": [
           5238460
          ],
          "sizemode": "area",
          "sizeref": 206044.23375,
          "symbol": "circle"
         },
         "mode": "markers",
         "name": "FIN",
         "orientation": "v",
         "showlegend": true,
         "type": "scatter",
         "x": [
          33207.0844
         ],
         "xaxis": "x",
         "y": [
          79.313
         ],
         "yaxis": "y"
        },
        {
         "hovertemplate": "<b>%{hovertext}</b><br><br>iso_alpha=FRA<br>gdpPercap=%{x}<br>lifeExp=%{y}<br>pop=%{marker.size}<extra></extra>",
         "hovertext": [
          "France"
         ],
         "legendgroup": "FRA",
         "marker": {
          "color": "#FFA15A",
          "size": [
           61083916
          ],
          "sizemode": "area",
          "sizeref": 206044.23375,
          "symbol": "circle"
         },
         "mode": "markers",
         "name": "FRA",
         "orientation": "v",
         "showlegend": true,
         "type": "scatter",
         "x": [
          30470.0167
         ],
         "xaxis": "x",
         "y": [
          80.657
         ],
         "yaxis": "y"
        },
        {
         "hovertemplate": "<b>%{hovertext}</b><br><br>iso_alpha=GAB<br>gdpPercap=%{x}<br>lifeExp=%{y}<br>pop=%{marker.size}<extra></extra>",
         "hovertext": [
          "Gabon"
         ],
         "legendgroup": "GAB",
         "marker": {
          "color": "#19d3f3",
          "size": [
           1454867
          ],
          "sizemode": "area",
          "sizeref": 206044.23375,
          "symbol": "circle"
         },
         "mode": "markers",
         "name": "GAB",
         "orientation": "v",
         "showlegend": true,
         "type": "scatter",
         "x": [
          13206.48452
         ],
         "xaxis": "x",
         "y": [
          56.735
         ],
         "yaxis": "y"
        },
        {
         "hovertemplate": "<b>%{hovertext}</b><br><br>iso_alpha=GMB<br>gdpPercap=%{x}<br>lifeExp=%{y}<br>pop=%{marker.size}<extra></extra>",
         "hovertext": [
          "Gambia"
         ],
         "legendgroup": "GMB",
         "marker": {
          "color": "#FF6692",
          "size": [
           1688359
          ],
          "sizemode": "area",
          "sizeref": 206044.23375,
          "symbol": "circle"
         },
         "mode": "markers",
         "name": "GMB",
         "orientation": "v",
         "showlegend": true,
         "type": "scatter",
         "x": [
          752.7497265
         ],
         "xaxis": "x",
         "y": [
          59.448
         ],
         "yaxis": "y"
        },
        {
         "hovertemplate": "<b>%{hovertext}</b><br><br>iso_alpha=DEU<br>gdpPercap=%{x}<br>lifeExp=%{y}<br>pop=%{marker.size}<extra></extra>",
         "hovertext": [
          "Germany"
         ],
         "legendgroup": "DEU",
         "marker": {
          "color": "#B6E880",
          "size": [
           82400996
          ],
          "sizemode": "area",
          "sizeref": 206044.23375,
          "symbol": "circle"
         },
         "mode": "markers",
         "name": "DEU",
         "orientation": "v",
         "showlegend": true,
         "type": "scatter",
         "x": [
          32170.37442
         ],
         "xaxis": "x",
         "y": [
          79.406
         ],
         "yaxis": "y"
        },
        {
         "hovertemplate": "<b>%{hovertext}</b><br><br>iso_alpha=GHA<br>gdpPercap=%{x}<br>lifeExp=%{y}<br>pop=%{marker.size}<extra></extra>",
         "hovertext": [
          "Ghana"
         ],
         "legendgroup": "GHA",
         "marker": {
          "color": "#FF97FF",
          "size": [
           22873338
          ],
          "sizemode": "area",
          "sizeref": 206044.23375,
          "symbol": "circle"
         },
         "mode": "markers",
         "name": "GHA",
         "orientation": "v",
         "showlegend": true,
         "type": "scatter",
         "x": [
          1327.60891
         ],
         "xaxis": "x",
         "y": [
          60.022
         ],
         "yaxis": "y"
        },
        {
         "hovertemplate": "<b>%{hovertext}</b><br><br>iso_alpha=GRC<br>gdpPercap=%{x}<br>lifeExp=%{y}<br>pop=%{marker.size}<extra></extra>",
         "hovertext": [
          "Greece"
         ],
         "legendgroup": "GRC",
         "marker": {
          "color": "#FECB52",
          "size": [
           10706290
          ],
          "sizemode": "area",
          "sizeref": 206044.23375,
          "symbol": "circle"
         },
         "mode": "markers",
         "name": "GRC",
         "orientation": "v",
         "showlegend": true,
         "type": "scatter",
         "x": [
          27538.41188
         ],
         "xaxis": "x",
         "y": [
          79.483
         ],
         "yaxis": "y"
        },
        {
         "hovertemplate": "<b>%{hovertext}</b><br><br>iso_alpha=GTM<br>gdpPercap=%{x}<br>lifeExp=%{y}<br>pop=%{marker.size}<extra></extra>",
         "hovertext": [
          "Guatemala"
         ],
         "legendgroup": "GTM",
         "marker": {
          "color": "#636efa",
          "size": [
           12572928
          ],
          "sizemode": "area",
          "sizeref": 206044.23375,
          "symbol": "circle"
         },
         "mode": "markers",
         "name": "GTM",
         "orientation": "v",
         "showlegend": true,
         "type": "scatter",
         "x": [
          5186.050003
         ],
         "xaxis": "x",
         "y": [
          70.259
         ],
         "yaxis": "y"
        },
        {
         "hovertemplate": "<b>%{hovertext}</b><br><br>iso_alpha=GIN<br>gdpPercap=%{x}<br>lifeExp=%{y}<br>pop=%{marker.size}<extra></extra>",
         "hovertext": [
          "Guinea"
         ],
         "legendgroup": "GIN",
         "marker": {
          "color": "#EF553B",
          "size": [
           9947814
          ],
          "sizemode": "area",
          "sizeref": 206044.23375,
          "symbol": "circle"
         },
         "mode": "markers",
         "name": "GIN",
         "orientation": "v",
         "showlegend": true,
         "type": "scatter",
         "x": [
          942.6542111
         ],
         "xaxis": "x",
         "y": [
          56.007
         ],
         "yaxis": "y"
        },
        {
         "hovertemplate": "<b>%{hovertext}</b><br><br>iso_alpha=GNB<br>gdpPercap=%{x}<br>lifeExp=%{y}<br>pop=%{marker.size}<extra></extra>",
         "hovertext": [
          "Guinea-Bissau"
         ],
         "legendgroup": "GNB",
         "marker": {
          "color": "#00cc96",
          "size": [
           1472041
          ],
          "sizemode": "area",
          "sizeref": 206044.23375,
          "symbol": "circle"
         },
         "mode": "markers",
         "name": "GNB",
         "orientation": "v",
         "showlegend": true,
         "type": "scatter",
         "x": [
          579.2317429999999
         ],
         "xaxis": "x",
         "y": [
          46.388000000000005
         ],
         "yaxis": "y"
        },
        {
         "hovertemplate": "<b>%{hovertext}</b><br><br>iso_alpha=HTI<br>gdpPercap=%{x}<br>lifeExp=%{y}<br>pop=%{marker.size}<extra></extra>",
         "hovertext": [
          "Haiti"
         ],
         "legendgroup": "HTI",
         "marker": {
          "color": "#ab63fa",
          "size": [
           8502814
          ],
          "sizemode": "area",
          "sizeref": 206044.23375,
          "symbol": "circle"
         },
         "mode": "markers",
         "name": "HTI",
         "orientation": "v",
         "showlegend": true,
         "type": "scatter",
         "x": [
          1201.637154
         ],
         "xaxis": "x",
         "y": [
          60.916000000000004
         ],
         "yaxis": "y"
        },
        {
         "hovertemplate": "<b>%{hovertext}</b><br><br>iso_alpha=HND<br>gdpPercap=%{x}<br>lifeExp=%{y}<br>pop=%{marker.size}<extra></extra>",
         "hovertext": [
          "Honduras"
         ],
         "legendgroup": "HND",
         "marker": {
          "color": "#FFA15A",
          "size": [
           7483763
          ],
          "sizemode": "area",
          "sizeref": 206044.23375,
          "symbol": "circle"
         },
         "mode": "markers",
         "name": "HND",
         "orientation": "v",
         "showlegend": true,
         "type": "scatter",
         "x": [
          3548.3308460000003
         ],
         "xaxis": "x",
         "y": [
          70.19800000000001
         ],
         "yaxis": "y"
        },
        {
         "hovertemplate": "<b>%{hovertext}</b><br><br>iso_alpha=HKG<br>gdpPercap=%{x}<br>lifeExp=%{y}<br>pop=%{marker.size}<extra></extra>",
         "hovertext": [
          "Hong Kong, China"
         ],
         "legendgroup": "HKG",
         "marker": {
          "color": "#19d3f3",
          "size": [
           6980412
          ],
          "sizemode": "area",
          "sizeref": 206044.23375,
          "symbol": "circle"
         },
         "mode": "markers",
         "name": "HKG",
         "orientation": "v",
         "showlegend": true,
         "type": "scatter",
         "x": [
          39724.97867
         ],
         "xaxis": "x",
         "y": [
          82.208
         ],
         "yaxis": "y"
        },
        {
         "hovertemplate": "<b>%{hovertext}</b><br><br>iso_alpha=HUN<br>gdpPercap=%{x}<br>lifeExp=%{y}<br>pop=%{marker.size}<extra></extra>",
         "hovertext": [
          "Hungary"
         ],
         "legendgroup": "HUN",
         "marker": {
          "color": "#FF6692",
          "size": [
           9956108
          ],
          "sizemode": "area",
          "sizeref": 206044.23375,
          "symbol": "circle"
         },
         "mode": "markers",
         "name": "HUN",
         "orientation": "v",
         "showlegend": true,
         "type": "scatter",
         "x": [
          18008.94444
         ],
         "xaxis": "x",
         "y": [
          73.33800000000001
         ],
         "yaxis": "y"
        },
        {
         "hovertemplate": "<b>%{hovertext}</b><br><br>iso_alpha=ISL<br>gdpPercap=%{x}<br>lifeExp=%{y}<br>pop=%{marker.size}<extra></extra>",
         "hovertext": [
          "Iceland"
         ],
         "legendgroup": "ISL",
         "marker": {
          "color": "#B6E880",
          "size": [
           301931
          ],
          "sizemode": "area",
          "sizeref": 206044.23375,
          "symbol": "circle"
         },
         "mode": "markers",
         "name": "ISL",
         "orientation": "v",
         "showlegend": true,
         "type": "scatter",
         "x": [
          36180.789189999996
         ],
         "xaxis": "x",
         "y": [
          81.757
         ],
         "yaxis": "y"
        },
        {
         "hovertemplate": "<b>%{hovertext}</b><br><br>iso_alpha=IND<br>gdpPercap=%{x}<br>lifeExp=%{y}<br>pop=%{marker.size}<extra></extra>",
         "hovertext": [
          "India"
         ],
         "legendgroup": "IND",
         "marker": {
          "color": "#FF97FF",
          "size": [
           1110396331
          ],
          "sizemode": "area",
          "sizeref": 206044.23375,
          "symbol": "circle"
         },
         "mode": "markers",
         "name": "IND",
         "orientation": "v",
         "showlegend": true,
         "type": "scatter",
         "x": [
          2452.210407
         ],
         "xaxis": "x",
         "y": [
          64.69800000000001
         ],
         "yaxis": "y"
        },
        {
         "hovertemplate": "<b>%{hovertext}</b><br><br>iso_alpha=IDN<br>gdpPercap=%{x}<br>lifeExp=%{y}<br>pop=%{marker.size}<extra></extra>",
         "hovertext": [
          "Indonesia"
         ],
         "legendgroup": "IDN",
         "marker": {
          "color": "#FECB52",
          "size": [
           223547000
          ],
          "sizemode": "area",
          "sizeref": 206044.23375,
          "symbol": "circle"
         },
         "mode": "markers",
         "name": "IDN",
         "orientation": "v",
         "showlegend": true,
         "type": "scatter",
         "x": [
          3540.6515640000002
         ],
         "xaxis": "x",
         "y": [
          70.65
         ],
         "yaxis": "y"
        },
        {
         "hovertemplate": "<b>%{hovertext}</b><br><br>iso_alpha=IRN<br>gdpPercap=%{x}<br>lifeExp=%{y}<br>pop=%{marker.size}<extra></extra>",
         "hovertext": [
          "Iran"
         ],
         "legendgroup": "IRN",
         "marker": {
          "color": "#636efa",
          "size": [
           69453570
          ],
          "sizemode": "area",
          "sizeref": 206044.23375,
          "symbol": "circle"
         },
         "mode": "markers",
         "name": "IRN",
         "orientation": "v",
         "showlegend": true,
         "type": "scatter",
         "x": [
          11605.71449
         ],
         "xaxis": "x",
         "y": [
          70.964
         ],
         "yaxis": "y"
        },
        {
         "hovertemplate": "<b>%{hovertext}</b><br><br>iso_alpha=IRQ<br>gdpPercap=%{x}<br>lifeExp=%{y}<br>pop=%{marker.size}<extra></extra>",
         "hovertext": [
          "Iraq"
         ],
         "legendgroup": "IRQ",
         "marker": {
          "color": "#EF553B",
          "size": [
           27499638
          ],
          "sizemode": "area",
          "sizeref": 206044.23375,
          "symbol": "circle"
         },
         "mode": "markers",
         "name": "IRQ",
         "orientation": "v",
         "showlegend": true,
         "type": "scatter",
         "x": [
          4471.061906
         ],
         "xaxis": "x",
         "y": [
          59.545
         ],
         "yaxis": "y"
        },
        {
         "hovertemplate": "<b>%{hovertext}</b><br><br>iso_alpha=IRL<br>gdpPercap=%{x}<br>lifeExp=%{y}<br>pop=%{marker.size}<extra></extra>",
         "hovertext": [
          "Ireland"
         ],
         "legendgroup": "IRL",
         "marker": {
          "color": "#00cc96",
          "size": [
           4109086
          ],
          "sizemode": "area",
          "sizeref": 206044.23375,
          "symbol": "circle"
         },
         "mode": "markers",
         "name": "IRL",
         "orientation": "v",
         "showlegend": true,
         "type": "scatter",
         "x": [
          40675.99635
         ],
         "xaxis": "x",
         "y": [
          78.885
         ],
         "yaxis": "y"
        },
        {
         "hovertemplate": "<b>%{hovertext}</b><br><br>iso_alpha=ISR<br>gdpPercap=%{x}<br>lifeExp=%{y}<br>pop=%{marker.size}<extra></extra>",
         "hovertext": [
          "Israel"
         ],
         "legendgroup": "ISR",
         "marker": {
          "color": "#ab63fa",
          "size": [
           6426679
          ],
          "sizemode": "area",
          "sizeref": 206044.23375,
          "symbol": "circle"
         },
         "mode": "markers",
         "name": "ISR",
         "orientation": "v",
         "showlegend": true,
         "type": "scatter",
         "x": [
          25523.2771
         ],
         "xaxis": "x",
         "y": [
          80.745
         ],
         "yaxis": "y"
        },
        {
         "hovertemplate": "<b>%{hovertext}</b><br><br>iso_alpha=ITA<br>gdpPercap=%{x}<br>lifeExp=%{y}<br>pop=%{marker.size}<extra></extra>",
         "hovertext": [
          "Italy"
         ],
         "legendgroup": "ITA",
         "marker": {
          "color": "#FFA15A",
          "size": [
           58147733
          ],
          "sizemode": "area",
          "sizeref": 206044.23375,
          "symbol": "circle"
         },
         "mode": "markers",
         "name": "ITA",
         "orientation": "v",
         "showlegend": true,
         "type": "scatter",
         "x": [
          28569.7197
         ],
         "xaxis": "x",
         "y": [
          80.546
         ],
         "yaxis": "y"
        },
        {
         "hovertemplate": "<b>%{hovertext}</b><br><br>iso_alpha=JAM<br>gdpPercap=%{x}<br>lifeExp=%{y}<br>pop=%{marker.size}<extra></extra>",
         "hovertext": [
          "Jamaica"
         ],
         "legendgroup": "JAM",
         "marker": {
          "color": "#19d3f3",
          "size": [
           2780132
          ],
          "sizemode": "area",
          "sizeref": 206044.23375,
          "symbol": "circle"
         },
         "mode": "markers",
         "name": "JAM",
         "orientation": "v",
         "showlegend": true,
         "type": "scatter",
         "x": [
          7320.880262000001
         ],
         "xaxis": "x",
         "y": [
          72.567
         ],
         "yaxis": "y"
        },
        {
         "hovertemplate": "<b>%{hovertext}</b><br><br>iso_alpha=JPN<br>gdpPercap=%{x}<br>lifeExp=%{y}<br>pop=%{marker.size}<extra></extra>",
         "hovertext": [
          "Japan"
         ],
         "legendgroup": "JPN",
         "marker": {
          "color": "#FF6692",
          "size": [
           127467972
          ],
          "sizemode": "area",
          "sizeref": 206044.23375,
          "symbol": "circle"
         },
         "mode": "markers",
         "name": "JPN",
         "orientation": "v",
         "showlegend": true,
         "type": "scatter",
         "x": [
          31656.06806
         ],
         "xaxis": "x",
         "y": [
          82.603
         ],
         "yaxis": "y"
        },
        {
         "hovertemplate": "<b>%{hovertext}</b><br><br>iso_alpha=JOR<br>gdpPercap=%{x}<br>lifeExp=%{y}<br>pop=%{marker.size}<extra></extra>",
         "hovertext": [
          "Jordan"
         ],
         "legendgroup": "JOR",
         "marker": {
          "color": "#B6E880",
          "size": [
           6053193
          ],
          "sizemode": "area",
          "sizeref": 206044.23375,
          "symbol": "circle"
         },
         "mode": "markers",
         "name": "JOR",
         "orientation": "v",
         "showlegend": true,
         "type": "scatter",
         "x": [
          4519.461171
         ],
         "xaxis": "x",
         "y": [
          72.535
         ],
         "yaxis": "y"
        },
        {
         "hovertemplate": "<b>%{hovertext}</b><br><br>iso_alpha=KEN<br>gdpPercap=%{x}<br>lifeExp=%{y}<br>pop=%{marker.size}<extra></extra>",
         "hovertext": [
          "Kenya"
         ],
         "legendgroup": "KEN",
         "marker": {
          "color": "#FF97FF",
          "size": [
           35610177
          ],
          "sizemode": "area",
          "sizeref": 206044.23375,
          "symbol": "circle"
         },
         "mode": "markers",
         "name": "KEN",
         "orientation": "v",
         "showlegend": true,
         "type": "scatter",
         "x": [
          1463.249282
         ],
         "xaxis": "x",
         "y": [
          54.11
         ],
         "yaxis": "y"
        },
        {
         "hovertemplate": "<b>%{hovertext}</b><br><br>iso_alpha=KOR<br>gdpPercap=%{x}<br>lifeExp=%{y}<br>pop=%{marker.size}<extra></extra>",
         "hovertext": [
          "Korea, Dem. Rep.",
          "Korea, Rep."
         ],
         "legendgroup": "KOR",
         "marker": {
          "color": "#FECB52",
          "size": [
           23301725,
           49044790
          ],
          "sizemode": "area",
          "sizeref": 206044.23375,
          "symbol": "circle"
         },
         "mode": "markers",
         "name": "KOR",
         "orientation": "v",
         "showlegend": true,
         "type": "scatter",
         "x": [
          1593.06548,
          23348.139730000003
         ],
         "xaxis": "x",
         "y": [
          67.297,
          78.623
         ],
         "yaxis": "y"
        },
        {
         "hovertemplate": "<b>%{hovertext}</b><br><br>iso_alpha=KWT<br>gdpPercap=%{x}<br>lifeExp=%{y}<br>pop=%{marker.size}<extra></extra>",
         "hovertext": [
          "Kuwait"
         ],
         "legendgroup": "KWT",
         "marker": {
          "color": "#636efa",
          "size": [
           2505559
          ],
          "sizemode": "area",
          "sizeref": 206044.23375,
          "symbol": "circle"
         },
         "mode": "markers",
         "name": "KWT",
         "orientation": "v",
         "showlegend": true,
         "type": "scatter",
         "x": [
          47306.98978
         ],
         "xaxis": "x",
         "y": [
          77.58800000000001
         ],
         "yaxis": "y"
        },
        {
         "hovertemplate": "<b>%{hovertext}</b><br><br>iso_alpha=LBN<br>gdpPercap=%{x}<br>lifeExp=%{y}<br>pop=%{marker.size}<extra></extra>",
         "hovertext": [
          "Lebanon"
         ],
         "legendgroup": "LBN",
         "marker": {
          "color": "#EF553B",
          "size": [
           3921278
          ],
          "sizemode": "area",
          "sizeref": 206044.23375,
          "symbol": "circle"
         },
         "mode": "markers",
         "name": "LBN",
         "orientation": "v",
         "showlegend": true,
         "type": "scatter",
         "x": [
          10461.05868
         ],
         "xaxis": "x",
         "y": [
          71.993
         ],
         "yaxis": "y"
        },
        {
         "hovertemplate": "<b>%{hovertext}</b><br><br>iso_alpha=LSO<br>gdpPercap=%{x}<br>lifeExp=%{y}<br>pop=%{marker.size}<extra></extra>",
         "hovertext": [
          "Lesotho"
         ],
         "legendgroup": "LSO",
         "marker": {
          "color": "#00cc96",
          "size": [
           2012649
          ],
          "sizemode": "area",
          "sizeref": 206044.23375,
          "symbol": "circle"
         },
         "mode": "markers",
         "name": "LSO",
         "orientation": "v",
         "showlegend": true,
         "type": "scatter",
         "x": [
          1569.331442
         ],
         "xaxis": "x",
         "y": [
          42.592
         ],
         "yaxis": "y"
        },
        {
         "hovertemplate": "<b>%{hovertext}</b><br><br>iso_alpha=LBR<br>gdpPercap=%{x}<br>lifeExp=%{y}<br>pop=%{marker.size}<extra></extra>",
         "hovertext": [
          "Liberia"
         ],
         "legendgroup": "LBR",
         "marker": {
          "color": "#ab63fa",
          "size": [
           3193942
          ],
          "sizemode": "area",
          "sizeref": 206044.23375,
          "symbol": "circle"
         },
         "mode": "markers",
         "name": "LBR",
         "orientation": "v",
         "showlegend": true,
         "type": "scatter",
         "x": [
          414.5073415
         ],
         "xaxis": "x",
         "y": [
          45.678000000000004
         ],
         "yaxis": "y"
        },
        {
         "hovertemplate": "<b>%{hovertext}</b><br><br>iso_alpha=LBY<br>gdpPercap=%{x}<br>lifeExp=%{y}<br>pop=%{marker.size}<extra></extra>",
         "hovertext": [
          "Libya"
         ],
         "legendgroup": "LBY",
         "marker": {
          "color": "#FFA15A",
          "size": [
           6036914
          ],
          "sizemode": "area",
          "sizeref": 206044.23375,
          "symbol": "circle"
         },
         "mode": "markers",
         "name": "LBY",
         "orientation": "v",
         "showlegend": true,
         "type": "scatter",
         "x": [
          12057.49928
         ],
         "xaxis": "x",
         "y": [
          73.952
         ],
         "yaxis": "y"
        },
        {
         "hovertemplate": "<b>%{hovertext}</b><br><br>iso_alpha=MDG<br>gdpPercap=%{x}<br>lifeExp=%{y}<br>pop=%{marker.size}<extra></extra>",
         "hovertext": [
          "Madagascar"
         ],
         "legendgroup": "MDG",
         "marker": {
          "color": "#19d3f3",
          "size": [
           19167654
          ],
          "sizemode": "area",
          "sizeref": 206044.23375,
          "symbol": "circle"
         },
         "mode": "markers",
         "name": "MDG",
         "orientation": "v",
         "showlegend": true,
         "type": "scatter",
         "x": [
          1044.770126
         ],
         "xaxis": "x",
         "y": [
          59.443000000000005
         ],
         "yaxis": "y"
        },
        {
         "hovertemplate": "<b>%{hovertext}</b><br><br>iso_alpha=MWI<br>gdpPercap=%{x}<br>lifeExp=%{y}<br>pop=%{marker.size}<extra></extra>",
         "hovertext": [
          "Malawi"
         ],
         "legendgroup": "MWI",
         "marker": {
          "color": "#FF6692",
          "size": [
           13327079
          ],
          "sizemode": "area",
          "sizeref": 206044.23375,
          "symbol": "circle"
         },
         "mode": "markers",
         "name": "MWI",
         "orientation": "v",
         "showlegend": true,
         "type": "scatter",
         "x": [
          759.3499101
         ],
         "xaxis": "x",
         "y": [
          48.303000000000004
         ],
         "yaxis": "y"
        },
        {
         "hovertemplate": "<b>%{hovertext}</b><br><br>iso_alpha=MYS<br>gdpPercap=%{x}<br>lifeExp=%{y}<br>pop=%{marker.size}<extra></extra>",
         "hovertext": [
          "Malaysia"
         ],
         "legendgroup": "MYS",
         "marker": {
          "color": "#B6E880",
          "size": [
           24821286
          ],
          "sizemode": "area",
          "sizeref": 206044.23375,
          "symbol": "circle"
         },
         "mode": "markers",
         "name": "MYS",
         "orientation": "v",
         "showlegend": true,
         "type": "scatter",
         "x": [
          12451.6558
         ],
         "xaxis": "x",
         "y": [
          74.241
         ],
         "yaxis": "y"
        },
        {
         "hovertemplate": "<b>%{hovertext}</b><br><br>iso_alpha=MLI<br>gdpPercap=%{x}<br>lifeExp=%{y}<br>pop=%{marker.size}<extra></extra>",
         "hovertext": [
          "Mali"
         ],
         "legendgroup": "MLI",
         "marker": {
          "color": "#FF97FF",
          "size": [
           12031795
          ],
          "sizemode": "area",
          "sizeref": 206044.23375,
          "symbol": "circle"
         },
         "mode": "markers",
         "name": "MLI",
         "orientation": "v",
         "showlegend": true,
         "type": "scatter",
         "x": [
          1042.581557
         ],
         "xaxis": "x",
         "y": [
          54.467
         ],
         "yaxis": "y"
        },
        {
         "hovertemplate": "<b>%{hovertext}</b><br><br>iso_alpha=MRT<br>gdpPercap=%{x}<br>lifeExp=%{y}<br>pop=%{marker.size}<extra></extra>",
         "hovertext": [
          "Mauritania"
         ],
         "legendgroup": "MRT",
         "marker": {
          "color": "#FECB52",
          "size": [
           3270065
          ],
          "sizemode": "area",
          "sizeref": 206044.23375,
          "symbol": "circle"
         },
         "mode": "markers",
         "name": "MRT",
         "orientation": "v",
         "showlegend": true,
         "type": "scatter",
         "x": [
          1803.1514960000002
         ],
         "xaxis": "x",
         "y": [
          64.164
         ],
         "yaxis": "y"
        },
        {
         "hovertemplate": "<b>%{hovertext}</b><br><br>iso_alpha=MUS<br>gdpPercap=%{x}<br>lifeExp=%{y}<br>pop=%{marker.size}<extra></extra>",
         "hovertext": [
          "Mauritius"
         ],
         "legendgroup": "MUS",
         "marker": {
          "color": "#636efa",
          "size": [
           1250882
          ],
          "sizemode": "area",
          "sizeref": 206044.23375,
          "symbol": "circle"
         },
         "mode": "markers",
         "name": "MUS",
         "orientation": "v",
         "showlegend": true,
         "type": "scatter",
         "x": [
          10956.99112
         ],
         "xaxis": "x",
         "y": [
          72.801
         ],
         "yaxis": "y"
        },
        {
         "hovertemplate": "<b>%{hovertext}</b><br><br>iso_alpha=MEX<br>gdpPercap=%{x}<br>lifeExp=%{y}<br>pop=%{marker.size}<extra></extra>",
         "hovertext": [
          "Mexico"
         ],
         "legendgroup": "MEX",
         "marker": {
          "color": "#EF553B",
          "size": [
           108700891
          ],
          "sizemode": "area",
          "sizeref": 206044.23375,
          "symbol": "circle"
         },
         "mode": "markers",
         "name": "MEX",
         "orientation": "v",
         "showlegend": true,
         "type": "scatter",
         "x": [
          11977.57496
         ],
         "xaxis": "x",
         "y": [
          76.195
         ],
         "yaxis": "y"
        },
        {
         "hovertemplate": "<b>%{hovertext}</b><br><br>iso_alpha=MNG<br>gdpPercap=%{x}<br>lifeExp=%{y}<br>pop=%{marker.size}<extra></extra>",
         "hovertext": [
          "Mongolia"
         ],
         "legendgroup": "MNG",
         "marker": {
          "color": "#00cc96",
          "size": [
           2874127
          ],
          "sizemode": "area",
          "sizeref": 206044.23375,
          "symbol": "circle"
         },
         "mode": "markers",
         "name": "MNG",
         "orientation": "v",
         "showlegend": true,
         "type": "scatter",
         "x": [
          3095.7722710000003
         ],
         "xaxis": "x",
         "y": [
          66.803
         ],
         "yaxis": "y"
        },
        {
         "hovertemplate": "<b>%{hovertext}</b><br><br>iso_alpha=MNE<br>gdpPercap=%{x}<br>lifeExp=%{y}<br>pop=%{marker.size}<extra></extra>",
         "hovertext": [
          "Montenegro"
         ],
         "legendgroup": "MNE",
         "marker": {
          "color": "#ab63fa",
          "size": [
           684736
          ],
          "sizemode": "area",
          "sizeref": 206044.23375,
          "symbol": "circle"
         },
         "mode": "markers",
         "name": "MNE",
         "orientation": "v",
         "showlegend": true,
         "type": "scatter",
         "x": [
          9253.896111
         ],
         "xaxis": "x",
         "y": [
          74.543
         ],
         "yaxis": "y"
        },
        {
         "hovertemplate": "<b>%{hovertext}</b><br><br>iso_alpha=MAR<br>gdpPercap=%{x}<br>lifeExp=%{y}<br>pop=%{marker.size}<extra></extra>",
         "hovertext": [
          "Morocco"
         ],
         "legendgroup": "MAR",
         "marker": {
          "color": "#FFA15A",
          "size": [
           33757175
          ],
          "sizemode": "area",
          "sizeref": 206044.23375,
          "symbol": "circle"
         },
         "mode": "markers",
         "name": "MAR",
         "orientation": "v",
         "showlegend": true,
         "type": "scatter",
         "x": [
          3820.17523
         ],
         "xaxis": "x",
         "y": [
          71.164
         ],
         "yaxis": "y"
        },
        {
         "hovertemplate": "<b>%{hovertext}</b><br><br>iso_alpha=MOZ<br>gdpPercap=%{x}<br>lifeExp=%{y}<br>pop=%{marker.size}<extra></extra>",
         "hovertext": [
          "Mozambique"
         ],
         "legendgroup": "MOZ",
         "marker": {
          "color": "#19d3f3",
          "size": [
           19951656
          ],
          "sizemode": "area",
          "sizeref": 206044.23375,
          "symbol": "circle"
         },
         "mode": "markers",
         "name": "MOZ",
         "orientation": "v",
         "showlegend": true,
         "type": "scatter",
         "x": [
          823.6856205
         ],
         "xaxis": "x",
         "y": [
          42.082
         ],
         "yaxis": "y"
        },
        {
         "hovertemplate": "<b>%{hovertext}</b><br><br>iso_alpha=MMR<br>gdpPercap=%{x}<br>lifeExp=%{y}<br>pop=%{marker.size}<extra></extra>",
         "hovertext": [
          "Myanmar"
         ],
         "legendgroup": "MMR",
         "marker": {
          "color": "#FF6692",
          "size": [
           47761980
          ],
          "sizemode": "area",
          "sizeref": 206044.23375,
          "symbol": "circle"
         },
         "mode": "markers",
         "name": "MMR",
         "orientation": "v",
         "showlegend": true,
         "type": "scatter",
         "x": [
          944
         ],
         "xaxis": "x",
         "y": [
          62.068999999999996
         ],
         "yaxis": "y"
        },
        {
         "hovertemplate": "<b>%{hovertext}</b><br><br>iso_alpha=NAM<br>gdpPercap=%{x}<br>lifeExp=%{y}<br>pop=%{marker.size}<extra></extra>",
         "hovertext": [
          "Namibia"
         ],
         "legendgroup": "NAM",
         "marker": {
          "color": "#B6E880",
          "size": [
           2055080
          ],
          "sizemode": "area",
          "sizeref": 206044.23375,
          "symbol": "circle"
         },
         "mode": "markers",
         "name": "NAM",
         "orientation": "v",
         "showlegend": true,
         "type": "scatter",
         "x": [
          4811.060429
         ],
         "xaxis": "x",
         "y": [
          52.906000000000006
         ],
         "yaxis": "y"
        },
        {
         "hovertemplate": "<b>%{hovertext}</b><br><br>iso_alpha=NPL<br>gdpPercap=%{x}<br>lifeExp=%{y}<br>pop=%{marker.size}<extra></extra>",
         "hovertext": [
          "Nepal"
         ],
         "legendgroup": "NPL",
         "marker": {
          "color": "#FF97FF",
          "size": [
           28901790
          ],
          "sizemode": "area",
          "sizeref": 206044.23375,
          "symbol": "circle"
         },
         "mode": "markers",
         "name": "NPL",
         "orientation": "v",
         "showlegend": true,
         "type": "scatter",
         "x": [
          1091.359778
         ],
         "xaxis": "x",
         "y": [
          63.785
         ],
         "yaxis": "y"
        },
        {
         "hovertemplate": "<b>%{hovertext}</b><br><br>iso_alpha=NLD<br>gdpPercap=%{x}<br>lifeExp=%{y}<br>pop=%{marker.size}<extra></extra>",
         "hovertext": [
          "Netherlands"
         ],
         "legendgroup": "NLD",
         "marker": {
          "color": "#FECB52",
          "size": [
           16570613
          ],
          "sizemode": "area",
          "sizeref": 206044.23375,
          "symbol": "circle"
         },
         "mode": "markers",
         "name": "NLD",
         "orientation": "v",
         "showlegend": true,
         "type": "scatter",
         "x": [
          36797.93332
         ],
         "xaxis": "x",
         "y": [
          79.762
         ],
         "yaxis": "y"
        },
        {
         "hovertemplate": "<b>%{hovertext}</b><br><br>iso_alpha=NZL<br>gdpPercap=%{x}<br>lifeExp=%{y}<br>pop=%{marker.size}<extra></extra>",
         "hovertext": [
          "New Zealand"
         ],
         "legendgroup": "NZL",
         "marker": {
          "color": "#636efa",
          "size": [
           4115771
          ],
          "sizemode": "area",
          "sizeref": 206044.23375,
          "symbol": "circle"
         },
         "mode": "markers",
         "name": "NZL",
         "orientation": "v",
         "showlegend": true,
         "type": "scatter",
         "x": [
          25185.00911
         ],
         "xaxis": "x",
         "y": [
          80.204
         ],
         "yaxis": "y"
        },
        {
         "hovertemplate": "<b>%{hovertext}</b><br><br>iso_alpha=NIC<br>gdpPercap=%{x}<br>lifeExp=%{y}<br>pop=%{marker.size}<extra></extra>",
         "hovertext": [
          "Nicaragua"
         ],
         "legendgroup": "NIC",
         "marker": {
          "color": "#EF553B",
          "size": [
           5675356
          ],
          "sizemode": "area",
          "sizeref": 206044.23375,
          "symbol": "circle"
         },
         "mode": "markers",
         "name": "NIC",
         "orientation": "v",
         "showlegend": true,
         "type": "scatter",
         "x": [
          2749.320965
         ],
         "xaxis": "x",
         "y": [
          72.899
         ],
         "yaxis": "y"
        },
        {
         "hovertemplate": "<b>%{hovertext}</b><br><br>iso_alpha=NER<br>gdpPercap=%{x}<br>lifeExp=%{y}<br>pop=%{marker.size}<extra></extra>",
         "hovertext": [
          "Niger"
         ],
         "legendgroup": "NER",
         "marker": {
          "color": "#00cc96",
          "size": [
           12894865
          ],
          "sizemode": "area",
          "sizeref": 206044.23375,
          "symbol": "circle"
         },
         "mode": "markers",
         "name": "NER",
         "orientation": "v",
         "showlegend": true,
         "type": "scatter",
         "x": [
          619.6768923999999
         ],
         "xaxis": "x",
         "y": [
          56.867
         ],
         "yaxis": "y"
        },
        {
         "hovertemplate": "<b>%{hovertext}</b><br><br>iso_alpha=NGA<br>gdpPercap=%{x}<br>lifeExp=%{y}<br>pop=%{marker.size}<extra></extra>",
         "hovertext": [
          "Nigeria"
         ],
         "legendgroup": "NGA",
         "marker": {
          "color": "#ab63fa",
          "size": [
           135031164
          ],
          "sizemode": "area",
          "sizeref": 206044.23375,
          "symbol": "circle"
         },
         "mode": "markers",
         "name": "NGA",
         "orientation": "v",
         "showlegend": true,
         "type": "scatter",
         "x": [
          2013.9773050000001
         ],
         "xaxis": "x",
         "y": [
          46.858999999999995
         ],
         "yaxis": "y"
        },
        {
         "hovertemplate": "<b>%{hovertext}</b><br><br>iso_alpha=NOR<br>gdpPercap=%{x}<br>lifeExp=%{y}<br>pop=%{marker.size}<extra></extra>",
         "hovertext": [
          "Norway"
         ],
         "legendgroup": "NOR",
         "marker": {
          "color": "#FFA15A",
          "size": [
           4627926
          ],
          "sizemode": "area",
          "sizeref": 206044.23375,
          "symbol": "circle"
         },
         "mode": "markers",
         "name": "NOR",
         "orientation": "v",
         "showlegend": true,
         "type": "scatter",
         "x": [
          49357.19017
         ],
         "xaxis": "x",
         "y": [
          80.196
         ],
         "yaxis": "y"
        },
        {
         "hovertemplate": "<b>%{hovertext}</b><br><br>iso_alpha=OMN<br>gdpPercap=%{x}<br>lifeExp=%{y}<br>pop=%{marker.size}<extra></extra>",
         "hovertext": [
          "Oman"
         ],
         "legendgroup": "OMN",
         "marker": {
          "color": "#19d3f3",
          "size": [
           3204897
          ],
          "sizemode": "area",
          "sizeref": 206044.23375,
          "symbol": "circle"
         },
         "mode": "markers",
         "name": "OMN",
         "orientation": "v",
         "showlegend": true,
         "type": "scatter",
         "x": [
          22316.19287
         ],
         "xaxis": "x",
         "y": [
          75.64
         ],
         "yaxis": "y"
        },
        {
         "hovertemplate": "<b>%{hovertext}</b><br><br>iso_alpha=PAK<br>gdpPercap=%{x}<br>lifeExp=%{y}<br>pop=%{marker.size}<extra></extra>",
         "hovertext": [
          "Pakistan"
         ],
         "legendgroup": "PAK",
         "marker": {
          "color": "#FF6692",
          "size": [
           169270617
          ],
          "sizemode": "area",
          "sizeref": 206044.23375,
          "symbol": "circle"
         },
         "mode": "markers",
         "name": "PAK",
         "orientation": "v",
         "showlegend": true,
         "type": "scatter",
         "x": [
          2605.94758
         ],
         "xaxis": "x",
         "y": [
          65.483
         ],
         "yaxis": "y"
        },
        {
         "hovertemplate": "<b>%{hovertext}</b><br><br>iso_alpha=PAN<br>gdpPercap=%{x}<br>lifeExp=%{y}<br>pop=%{marker.size}<extra></extra>",
         "hovertext": [
          "Panama"
         ],
         "legendgroup": "PAN",
         "marker": {
          "color": "#B6E880",
          "size": [
           3242173
          ],
          "sizemode": "area",
          "sizeref": 206044.23375,
          "symbol": "circle"
         },
         "mode": "markers",
         "name": "PAN",
         "orientation": "v",
         "showlegend": true,
         "type": "scatter",
         "x": [
          9809.185636
         ],
         "xaxis": "x",
         "y": [
          75.53699999999999
         ],
         "yaxis": "y"
        },
        {
         "hovertemplate": "<b>%{hovertext}</b><br><br>iso_alpha=PRY<br>gdpPercap=%{x}<br>lifeExp=%{y}<br>pop=%{marker.size}<extra></extra>",
         "hovertext": [
          "Paraguay"
         ],
         "legendgroup": "PRY",
         "marker": {
          "color": "#FF97FF",
          "size": [
           6667147
          ],
          "sizemode": "area",
          "sizeref": 206044.23375,
          "symbol": "circle"
         },
         "mode": "markers",
         "name": "PRY",
         "orientation": "v",
         "showlegend": true,
         "type": "scatter",
         "x": [
          4172.838464
         ],
         "xaxis": "x",
         "y": [
          71.752
         ],
         "yaxis": "y"
        },
        {
         "hovertemplate": "<b>%{hovertext}</b><br><br>iso_alpha=PER<br>gdpPercap=%{x}<br>lifeExp=%{y}<br>pop=%{marker.size}<extra></extra>",
         "hovertext": [
          "Peru"
         ],
         "legendgroup": "PER",
         "marker": {
          "color": "#FECB52",
          "size": [
           28674757
          ],
          "sizemode": "area",
          "sizeref": 206044.23375,
          "symbol": "circle"
         },
         "mode": "markers",
         "name": "PER",
         "orientation": "v",
         "showlegend": true,
         "type": "scatter",
         "x": [
          7408.905561
         ],
         "xaxis": "x",
         "y": [
          71.421
         ],
         "yaxis": "y"
        },
        {
         "hovertemplate": "<b>%{hovertext}</b><br><br>iso_alpha=PHL<br>gdpPercap=%{x}<br>lifeExp=%{y}<br>pop=%{marker.size}<extra></extra>",
         "hovertext": [
          "Philippines"
         ],
         "legendgroup": "PHL",
         "marker": {
          "color": "#636efa",
          "size": [
           91077287
          ],
          "sizemode": "area",
          "sizeref": 206044.23375,
          "symbol": "circle"
         },
         "mode": "markers",
         "name": "PHL",
         "orientation": "v",
         "showlegend": true,
         "type": "scatter",
         "x": [
          3190.481016
         ],
         "xaxis": "x",
         "y": [
          71.688
         ],
         "yaxis": "y"
        },
        {
         "hovertemplate": "<b>%{hovertext}</b><br><br>iso_alpha=POL<br>gdpPercap=%{x}<br>lifeExp=%{y}<br>pop=%{marker.size}<extra></extra>",
         "hovertext": [
          "Poland"
         ],
         "legendgroup": "POL",
         "marker": {
          "color": "#EF553B",
          "size": [
           38518241
          ],
          "sizemode": "area",
          "sizeref": 206044.23375,
          "symbol": "circle"
         },
         "mode": "markers",
         "name": "POL",
         "orientation": "v",
         "showlegend": true,
         "type": "scatter",
         "x": [
          15389.924680000002
         ],
         "xaxis": "x",
         "y": [
          75.563
         ],
         "yaxis": "y"
        },
        {
         "hovertemplate": "<b>%{hovertext}</b><br><br>iso_alpha=PRT<br>gdpPercap=%{x}<br>lifeExp=%{y}<br>pop=%{marker.size}<extra></extra>",
         "hovertext": [
          "Portugal"
         ],
         "legendgroup": "PRT",
         "marker": {
          "color": "#00cc96",
          "size": [
           10642836
          ],
          "sizemode": "area",
          "sizeref": 206044.23375,
          "symbol": "circle"
         },
         "mode": "markers",
         "name": "PRT",
         "orientation": "v",
         "showlegend": true,
         "type": "scatter",
         "x": [
          20509.64777
         ],
         "xaxis": "x",
         "y": [
          78.098
         ],
         "yaxis": "y"
        },
        {
         "hovertemplate": "<b>%{hovertext}</b><br><br>iso_alpha=PRI<br>gdpPercap=%{x}<br>lifeExp=%{y}<br>pop=%{marker.size}<extra></extra>",
         "hovertext": [
          "Puerto Rico"
         ],
         "legendgroup": "PRI",
         "marker": {
          "color": "#ab63fa",
          "size": [
           3942491
          ],
          "sizemode": "area",
          "sizeref": 206044.23375,
          "symbol": "circle"
         },
         "mode": "markers",
         "name": "PRI",
         "orientation": "v",
         "showlegend": true,
         "type": "scatter",
         "x": [
          19328.70901
         ],
         "xaxis": "x",
         "y": [
          78.74600000000001
         ],
         "yaxis": "y"
        },
        {
         "hovertemplate": "<b>%{hovertext}</b><br><br>iso_alpha=REU<br>gdpPercap=%{x}<br>lifeExp=%{y}<br>pop=%{marker.size}<extra></extra>",
         "hovertext": [
          "Reunion"
         ],
         "legendgroup": "REU",
         "marker": {
          "color": "#FFA15A",
          "size": [
           798094
          ],
          "sizemode": "area",
          "sizeref": 206044.23375,
          "symbol": "circle"
         },
         "mode": "markers",
         "name": "REU",
         "orientation": "v",
         "showlegend": true,
         "type": "scatter",
         "x": [
          7670.122558
         ],
         "xaxis": "x",
         "y": [
          76.442
         ],
         "yaxis": "y"
        },
        {
         "hovertemplate": "<b>%{hovertext}</b><br><br>iso_alpha=ROU<br>gdpPercap=%{x}<br>lifeExp=%{y}<br>pop=%{marker.size}<extra></extra>",
         "hovertext": [
          "Romania"
         ],
         "legendgroup": "ROU",
         "marker": {
          "color": "#19d3f3",
          "size": [
           22276056
          ],
          "sizemode": "area",
          "sizeref": 206044.23375,
          "symbol": "circle"
         },
         "mode": "markers",
         "name": "ROU",
         "orientation": "v",
         "showlegend": true,
         "type": "scatter",
         "x": [
          10808.47561
         ],
         "xaxis": "x",
         "y": [
          72.476
         ],
         "yaxis": "y"
        },
        {
         "hovertemplate": "<b>%{hovertext}</b><br><br>iso_alpha=RWA<br>gdpPercap=%{x}<br>lifeExp=%{y}<br>pop=%{marker.size}<extra></extra>",
         "hovertext": [
          "Rwanda"
         ],
         "legendgroup": "RWA",
         "marker": {
          "color": "#FF6692",
          "size": [
           8860588
          ],
          "sizemode": "area",
          "sizeref": 206044.23375,
          "symbol": "circle"
         },
         "mode": "markers",
         "name": "RWA",
         "orientation": "v",
         "showlegend": true,
         "type": "scatter",
         "x": [
          863.0884639000001
         ],
         "xaxis": "x",
         "y": [
          46.242
         ],
         "yaxis": "y"
        },
        {
         "hovertemplate": "<b>%{hovertext}</b><br><br>iso_alpha=STP<br>gdpPercap=%{x}<br>lifeExp=%{y}<br>pop=%{marker.size}<extra></extra>",
         "hovertext": [
          "Sao Tome and Principe"
         ],
         "legendgroup": "STP",
         "marker": {
          "color": "#B6E880",
          "size": [
           199579
          ],
          "sizemode": "area",
          "sizeref": 206044.23375,
          "symbol": "circle"
         },
         "mode": "markers",
         "name": "STP",
         "orientation": "v",
         "showlegend": true,
         "type": "scatter",
         "x": [
          1598.435089
         ],
         "xaxis": "x",
         "y": [
          65.528
         ],
         "yaxis": "y"
        },
        {
         "hovertemplate": "<b>%{hovertext}</b><br><br>iso_alpha=SAU<br>gdpPercap=%{x}<br>lifeExp=%{y}<br>pop=%{marker.size}<extra></extra>",
         "hovertext": [
          "Saudi Arabia"
         ],
         "legendgroup": "SAU",
         "marker": {
          "color": "#FF97FF",
          "size": [
           27601038
          ],
          "sizemode": "area",
          "sizeref": 206044.23375,
          "symbol": "circle"
         },
         "mode": "markers",
         "name": "SAU",
         "orientation": "v",
         "showlegend": true,
         "type": "scatter",
         "x": [
          21654.83194
         ],
         "xaxis": "x",
         "y": [
          72.777
         ],
         "yaxis": "y"
        },
        {
         "hovertemplate": "<b>%{hovertext}</b><br><br>iso_alpha=SEN<br>gdpPercap=%{x}<br>lifeExp=%{y}<br>pop=%{marker.size}<extra></extra>",
         "hovertext": [
          "Senegal"
         ],
         "legendgroup": "SEN",
         "marker": {
          "color": "#FECB52",
          "size": [
           12267493
          ],
          "sizemode": "area",
          "sizeref": 206044.23375,
          "symbol": "circle"
         },
         "mode": "markers",
         "name": "SEN",
         "orientation": "v",
         "showlegend": true,
         "type": "scatter",
         "x": [
          1712.4721359999999
         ],
         "xaxis": "x",
         "y": [
          63.062
         ],
         "yaxis": "y"
        },
        {
         "hovertemplate": "<b>%{hovertext}</b><br><br>iso_alpha=SRB<br>gdpPercap=%{x}<br>lifeExp=%{y}<br>pop=%{marker.size}<extra></extra>",
         "hovertext": [
          "Serbia"
         ],
         "legendgroup": "SRB",
         "marker": {
          "color": "#636efa",
          "size": [
           10150265
          ],
          "sizemode": "area",
          "sizeref": 206044.23375,
          "symbol": "circle"
         },
         "mode": "markers",
         "name": "SRB",
         "orientation": "v",
         "showlegend": true,
         "type": "scatter",
         "x": [
          9786.534714
         ],
         "xaxis": "x",
         "y": [
          74.002
         ],
         "yaxis": "y"
        },
        {
         "hovertemplate": "<b>%{hovertext}</b><br><br>iso_alpha=SLE<br>gdpPercap=%{x}<br>lifeExp=%{y}<br>pop=%{marker.size}<extra></extra>",
         "hovertext": [
          "Sierra Leone"
         ],
         "legendgroup": "SLE",
         "marker": {
          "color": "#EF553B",
          "size": [
           6144562
          ],
          "sizemode": "area",
          "sizeref": 206044.23375,
          "symbol": "circle"
         },
         "mode": "markers",
         "name": "SLE",
         "orientation": "v",
         "showlegend": true,
         "type": "scatter",
         "x": [
          862.5407561000001
         ],
         "xaxis": "x",
         "y": [
          42.568000000000005
         ],
         "yaxis": "y"
        },
        {
         "hovertemplate": "<b>%{hovertext}</b><br><br>iso_alpha=SGP<br>gdpPercap=%{x}<br>lifeExp=%{y}<br>pop=%{marker.size}<extra></extra>",
         "hovertext": [
          "Singapore"
         ],
         "legendgroup": "SGP",
         "marker": {
          "color": "#00cc96",
          "size": [
           4553009
          ],
          "sizemode": "area",
          "sizeref": 206044.23375,
          "symbol": "circle"
         },
         "mode": "markers",
         "name": "SGP",
         "orientation": "v",
         "showlegend": true,
         "type": "scatter",
         "x": [
          47143.179639999995
         ],
         "xaxis": "x",
         "y": [
          79.972
         ],
         "yaxis": "y"
        },
        {
         "hovertemplate": "<b>%{hovertext}</b><br><br>iso_alpha=SVK<br>gdpPercap=%{x}<br>lifeExp=%{y}<br>pop=%{marker.size}<extra></extra>",
         "hovertext": [
          "Slovak Republic"
         ],
         "legendgroup": "SVK",
         "marker": {
          "color": "#ab63fa",
          "size": [
           5447502
          ],
          "sizemode": "area",
          "sizeref": 206044.23375,
          "symbol": "circle"
         },
         "mode": "markers",
         "name": "SVK",
         "orientation": "v",
         "showlegend": true,
         "type": "scatter",
         "x": [
          18678.31435
         ],
         "xaxis": "x",
         "y": [
          74.663
         ],
         "yaxis": "y"
        },
        {
         "hovertemplate": "<b>%{hovertext}</b><br><br>iso_alpha=SVN<br>gdpPercap=%{x}<br>lifeExp=%{y}<br>pop=%{marker.size}<extra></extra>",
         "hovertext": [
          "Slovenia"
         ],
         "legendgroup": "SVN",
         "marker": {
          "color": "#FFA15A",
          "size": [
           2009245
          ],
          "sizemode": "area",
          "sizeref": 206044.23375,
          "symbol": "circle"
         },
         "mode": "markers",
         "name": "SVN",
         "orientation": "v",
         "showlegend": true,
         "type": "scatter",
         "x": [
          25768.25759
         ],
         "xaxis": "x",
         "y": [
          77.926
         ],
         "yaxis": "y"
        },
        {
         "hovertemplate": "<b>%{hovertext}</b><br><br>iso_alpha=SOM<br>gdpPercap=%{x}<br>lifeExp=%{y}<br>pop=%{marker.size}<extra></extra>",
         "hovertext": [
          "Somalia"
         ],
         "legendgroup": "SOM",
         "marker": {
          "color": "#19d3f3",
          "size": [
           9118773
          ],
          "sizemode": "area",
          "sizeref": 206044.23375,
          "symbol": "circle"
         },
         "mode": "markers",
         "name": "SOM",
         "orientation": "v",
         "showlegend": true,
         "type": "scatter",
         "x": [
          926.1410683
         ],
         "xaxis": "x",
         "y": [
          48.159
         ],
         "yaxis": "y"
        },
        {
         "hovertemplate": "<b>%{hovertext}</b><br><br>iso_alpha=ZAF<br>gdpPercap=%{x}<br>lifeExp=%{y}<br>pop=%{marker.size}<extra></extra>",
         "hovertext": [
          "South Africa"
         ],
         "legendgroup": "ZAF",
         "marker": {
          "color": "#FF6692",
          "size": [
           43997828
          ],
          "sizemode": "area",
          "sizeref": 206044.23375,
          "symbol": "circle"
         },
         "mode": "markers",
         "name": "ZAF",
         "orientation": "v",
         "showlegend": true,
         "type": "scatter",
         "x": [
          9269.657808
         ],
         "xaxis": "x",
         "y": [
          49.339
         ],
         "yaxis": "y"
        },
        {
         "hovertemplate": "<b>%{hovertext}</b><br><br>iso_alpha=ESP<br>gdpPercap=%{x}<br>lifeExp=%{y}<br>pop=%{marker.size}<extra></extra>",
         "hovertext": [
          "Spain"
         ],
         "legendgroup": "ESP",
         "marker": {
          "color": "#B6E880",
          "size": [
           40448191
          ],
          "sizemode": "area",
          "sizeref": 206044.23375,
          "symbol": "circle"
         },
         "mode": "markers",
         "name": "ESP",
         "orientation": "v",
         "showlegend": true,
         "type": "scatter",
         "x": [
          28821.0637
         ],
         "xaxis": "x",
         "y": [
          80.941
         ],
         "yaxis": "y"
        },
        {
         "hovertemplate": "<b>%{hovertext}</b><br><br>iso_alpha=LKA<br>gdpPercap=%{x}<br>lifeExp=%{y}<br>pop=%{marker.size}<extra></extra>",
         "hovertext": [
          "Sri Lanka"
         ],
         "legendgroup": "LKA",
         "marker": {
          "color": "#FF97FF",
          "size": [
           20378239
          ],
          "sizemode": "area",
          "sizeref": 206044.23375,
          "symbol": "circle"
         },
         "mode": "markers",
         "name": "LKA",
         "orientation": "v",
         "showlegend": true,
         "type": "scatter",
         "x": [
          3970.0954070000003
         ],
         "xaxis": "x",
         "y": [
          72.396
         ],
         "yaxis": "y"
        },
        {
         "hovertemplate": "<b>%{hovertext}</b><br><br>iso_alpha=SDN<br>gdpPercap=%{x}<br>lifeExp=%{y}<br>pop=%{marker.size}<extra></extra>",
         "hovertext": [
          "Sudan"
         ],
         "legendgroup": "SDN",
         "marker": {
          "color": "#FECB52",
          "size": [
           42292929
          ],
          "sizemode": "area",
          "sizeref": 206044.23375,
          "symbol": "circle"
         },
         "mode": "markers",
         "name": "SDN",
         "orientation": "v",
         "showlegend": true,
         "type": "scatter",
         "x": [
          2602.394995
         ],
         "xaxis": "x",
         "y": [
          58.556000000000004
         ],
         "yaxis": "y"
        },
        {
         "hovertemplate": "<b>%{hovertext}</b><br><br>iso_alpha=SWZ<br>gdpPercap=%{x}<br>lifeExp=%{y}<br>pop=%{marker.size}<extra></extra>",
         "hovertext": [
          "Swaziland"
         ],
         "legendgroup": "SWZ",
         "marker": {
          "color": "#636efa",
          "size": [
           1133066
          ],
          "sizemode": "area",
          "sizeref": 206044.23375,
          "symbol": "circle"
         },
         "mode": "markers",
         "name": "SWZ",
         "orientation": "v",
         "showlegend": true,
         "type": "scatter",
         "x": [
          4513.480643
         ],
         "xaxis": "x",
         "y": [
          39.613
         ],
         "yaxis": "y"
        },
        {
         "hovertemplate": "<b>%{hovertext}</b><br><br>iso_alpha=SWE<br>gdpPercap=%{x}<br>lifeExp=%{y}<br>pop=%{marker.size}<extra></extra>",
         "hovertext": [
          "Sweden"
         ],
         "legendgroup": "SWE",
         "marker": {
          "color": "#EF553B",
          "size": [
           9031088
          ],
          "sizemode": "area",
          "sizeref": 206044.23375,
          "symbol": "circle"
         },
         "mode": "markers",
         "name": "SWE",
         "orientation": "v",
         "showlegend": true,
         "type": "scatter",
         "x": [
          33859.74835
         ],
         "xaxis": "x",
         "y": [
          80.884
         ],
         "yaxis": "y"
        },
        {
         "hovertemplate": "<b>%{hovertext}</b><br><br>iso_alpha=CHE<br>gdpPercap=%{x}<br>lifeExp=%{y}<br>pop=%{marker.size}<extra></extra>",
         "hovertext": [
          "Switzerland"
         ],
         "legendgroup": "CHE",
         "marker": {
          "color": "#00cc96",
          "size": [
           7554661
          ],
          "sizemode": "area",
          "sizeref": 206044.23375,
          "symbol": "circle"
         },
         "mode": "markers",
         "name": "CHE",
         "orientation": "v",
         "showlegend": true,
         "type": "scatter",
         "x": [
          37506.419069999996
         ],
         "xaxis": "x",
         "y": [
          81.70100000000001
         ],
         "yaxis": "y"
        },
        {
         "hovertemplate": "<b>%{hovertext}</b><br><br>iso_alpha=SYR<br>gdpPercap=%{x}<br>lifeExp=%{y}<br>pop=%{marker.size}<extra></extra>",
         "hovertext": [
          "Syria"
         ],
         "legendgroup": "SYR",
         "marker": {
          "color": "#ab63fa",
          "size": [
           19314747
          ],
          "sizemode": "area",
          "sizeref": 206044.23375,
          "symbol": "circle"
         },
         "mode": "markers",
         "name": "SYR",
         "orientation": "v",
         "showlegend": true,
         "type": "scatter",
         "x": [
          4184.548089
         ],
         "xaxis": "x",
         "y": [
          74.143
         ],
         "yaxis": "y"
        },
        {
         "hovertemplate": "<b>%{hovertext}</b><br><br>iso_alpha=TWN<br>gdpPercap=%{x}<br>lifeExp=%{y}<br>pop=%{marker.size}<extra></extra>",
         "hovertext": [
          "Taiwan"
         ],
         "legendgroup": "TWN",
         "marker": {
          "color": "#FFA15A",
          "size": [
           23174294
          ],
          "sizemode": "area",
          "sizeref": 206044.23375,
          "symbol": "circle"
         },
         "mode": "markers",
         "name": "TWN",
         "orientation": "v",
         "showlegend": true,
         "type": "scatter",
         "x": [
          28718.27684
         ],
         "xaxis": "x",
         "y": [
          78.4
         ],
         "yaxis": "y"
        },
        {
         "hovertemplate": "<b>%{hovertext}</b><br><br>iso_alpha=TZA<br>gdpPercap=%{x}<br>lifeExp=%{y}<br>pop=%{marker.size}<extra></extra>",
         "hovertext": [
          "Tanzania"
         ],
         "legendgroup": "TZA",
         "marker": {
          "color": "#19d3f3",
          "size": [
           38139640
          ],
          "sizemode": "area",
          "sizeref": 206044.23375,
          "symbol": "circle"
         },
         "mode": "markers",
         "name": "TZA",
         "orientation": "v",
         "showlegend": true,
         "type": "scatter",
         "x": [
          1107.482182
         ],
         "xaxis": "x",
         "y": [
          52.516999999999996
         ],
         "yaxis": "y"
        },
        {
         "hovertemplate": "<b>%{hovertext}</b><br><br>iso_alpha=THA<br>gdpPercap=%{x}<br>lifeExp=%{y}<br>pop=%{marker.size}<extra></extra>",
         "hovertext": [
          "Thailand"
         ],
         "legendgroup": "THA",
         "marker": {
          "color": "#FF6692",
          "size": [
           65068149
          ],
          "sizemode": "area",
          "sizeref": 206044.23375,
          "symbol": "circle"
         },
         "mode": "markers",
         "name": "THA",
         "orientation": "v",
         "showlegend": true,
         "type": "scatter",
         "x": [
          7458.3963269999995
         ],
         "xaxis": "x",
         "y": [
          70.616
         ],
         "yaxis": "y"
        },
        {
         "hovertemplate": "<b>%{hovertext}</b><br><br>iso_alpha=TGO<br>gdpPercap=%{x}<br>lifeExp=%{y}<br>pop=%{marker.size}<extra></extra>",
         "hovertext": [
          "Togo"
         ],
         "legendgroup": "TGO",
         "marker": {
          "color": "#B6E880",
          "size": [
           5701579
          ],
          "sizemode": "area",
          "sizeref": 206044.23375,
          "symbol": "circle"
         },
         "mode": "markers",
         "name": "TGO",
         "orientation": "v",
         "showlegend": true,
         "type": "scatter",
         "x": [
          882.9699437999999
         ],
         "xaxis": "x",
         "y": [
          58.42
         ],
         "yaxis": "y"
        },
        {
         "hovertemplate": "<b>%{hovertext}</b><br><br>iso_alpha=TTO<br>gdpPercap=%{x}<br>lifeExp=%{y}<br>pop=%{marker.size}<extra></extra>",
         "hovertext": [
          "Trinidad and Tobago"
         ],
         "legendgroup": "TTO",
         "marker": {
          "color": "#FF97FF",
          "size": [
           1056608
          ],
          "sizemode": "area",
          "sizeref": 206044.23375,
          "symbol": "circle"
         },
         "mode": "markers",
         "name": "TTO",
         "orientation": "v",
         "showlegend": true,
         "type": "scatter",
         "x": [
          18008.50924
         ],
         "xaxis": "x",
         "y": [
          69.819
         ],
         "yaxis": "y"
        },
        {
         "hovertemplate": "<b>%{hovertext}</b><br><br>iso_alpha=TUN<br>gdpPercap=%{x}<br>lifeExp=%{y}<br>pop=%{marker.size}<extra></extra>",
         "hovertext": [
          "Tunisia"
         ],
         "legendgroup": "TUN",
         "marker": {
          "color": "#FECB52",
          "size": [
           10276158
          ],
          "sizemode": "area",
          "sizeref": 206044.23375,
          "symbol": "circle"
         },
         "mode": "markers",
         "name": "TUN",
         "orientation": "v",
         "showlegend": true,
         "type": "scatter",
         "x": [
          7092.923025
         ],
         "xaxis": "x",
         "y": [
          73.923
         ],
         "yaxis": "y"
        },
        {
         "hovertemplate": "<b>%{hovertext}</b><br><br>iso_alpha=TUR<br>gdpPercap=%{x}<br>lifeExp=%{y}<br>pop=%{marker.size}<extra></extra>",
         "hovertext": [
          "Turkey"
         ],
         "legendgroup": "TUR",
         "marker": {
          "color": "#636efa",
          "size": [
           71158647
          ],
          "sizemode": "area",
          "sizeref": 206044.23375,
          "symbol": "circle"
         },
         "mode": "markers",
         "name": "TUR",
         "orientation": "v",
         "showlegend": true,
         "type": "scatter",
         "x": [
          8458.276384
         ],
         "xaxis": "x",
         "y": [
          71.777
         ],
         "yaxis": "y"
        },
        {
         "hovertemplate": "<b>%{hovertext}</b><br><br>iso_alpha=UGA<br>gdpPercap=%{x}<br>lifeExp=%{y}<br>pop=%{marker.size}<extra></extra>",
         "hovertext": [
          "Uganda"
         ],
         "legendgroup": "UGA",
         "marker": {
          "color": "#EF553B",
          "size": [
           29170398
          ],
          "sizemode": "area",
          "sizeref": 206044.23375,
          "symbol": "circle"
         },
         "mode": "markers",
         "name": "UGA",
         "orientation": "v",
         "showlegend": true,
         "type": "scatter",
         "x": [
          1056.3801210000001
         ],
         "xaxis": "x",
         "y": [
          51.542
         ],
         "yaxis": "y"
        },
        {
         "hovertemplate": "<b>%{hovertext}</b><br><br>iso_alpha=GBR<br>gdpPercap=%{x}<br>lifeExp=%{y}<br>pop=%{marker.size}<extra></extra>",
         "hovertext": [
          "United Kingdom"
         ],
         "legendgroup": "GBR",
         "marker": {
          "color": "#00cc96",
          "size": [
           60776238
          ],
          "sizemode": "area",
          "sizeref": 206044.23375,
          "symbol": "circle"
         },
         "mode": "markers",
         "name": "GBR",
         "orientation": "v",
         "showlegend": true,
         "type": "scatter",
         "x": [
          33203.26128
         ],
         "xaxis": "x",
         "y": [
          79.425
         ],
         "yaxis": "y"
        },
        {
         "hovertemplate": "<b>%{hovertext}</b><br><br>iso_alpha=USA<br>gdpPercap=%{x}<br>lifeExp=%{y}<br>pop=%{marker.size}<extra></extra>",
         "hovertext": [
          "United States"
         ],
         "legendgroup": "USA",
         "marker": {
          "color": "#ab63fa",
          "size": [
           301139947
          ],
          "sizemode": "area",
          "sizeref": 206044.23375,
          "symbol": "circle"
         },
         "mode": "markers",
         "name": "USA",
         "orientation": "v",
         "showlegend": true,
         "type": "scatter",
         "x": [
          42951.65309
         ],
         "xaxis": "x",
         "y": [
          78.242
         ],
         "yaxis": "y"
        },
        {
         "hovertemplate": "<b>%{hovertext}</b><br><br>iso_alpha=URY<br>gdpPercap=%{x}<br>lifeExp=%{y}<br>pop=%{marker.size}<extra></extra>",
         "hovertext": [
          "Uruguay"
         ],
         "legendgroup": "URY",
         "marker": {
          "color": "#FFA15A",
          "size": [
           3447496
          ],
          "sizemode": "area",
          "sizeref": 206044.23375,
          "symbol": "circle"
         },
         "mode": "markers",
         "name": "URY",
         "orientation": "v",
         "showlegend": true,
         "type": "scatter",
         "x": [
          10611.46299
         ],
         "xaxis": "x",
         "y": [
          76.384
         ],
         "yaxis": "y"
        },
        {
         "hovertemplate": "<b>%{hovertext}</b><br><br>iso_alpha=VEN<br>gdpPercap=%{x}<br>lifeExp=%{y}<br>pop=%{marker.size}<extra></extra>",
         "hovertext": [
          "Venezuela"
         ],
         "legendgroup": "VEN",
         "marker": {
          "color": "#19d3f3",
          "size": [
           26084662
          ],
          "sizemode": "area",
          "sizeref": 206044.23375,
          "symbol": "circle"
         },
         "mode": "markers",
         "name": "VEN",
         "orientation": "v",
         "showlegend": true,
         "type": "scatter",
         "x": [
          11415.805690000001
         ],
         "xaxis": "x",
         "y": [
          73.747
         ],
         "yaxis": "y"
        },
        {
         "hovertemplate": "<b>%{hovertext}</b><br><br>iso_alpha=VNM<br>gdpPercap=%{x}<br>lifeExp=%{y}<br>pop=%{marker.size}<extra></extra>",
         "hovertext": [
          "Vietnam"
         ],
         "legendgroup": "VNM",
         "marker": {
          "color": "#FF6692",
          "size": [
           85262356
          ],
          "sizemode": "area",
          "sizeref": 206044.23375,
          "symbol": "circle"
         },
         "mode": "markers",
         "name": "VNM",
         "orientation": "v",
         "showlegend": true,
         "type": "scatter",
         "x": [
          2441.576404
         ],
         "xaxis": "x",
         "y": [
          74.249
         ],
         "yaxis": "y"
        },
        {
         "hovertemplate": "<b>%{hovertext}</b><br><br>iso_alpha=PSE<br>gdpPercap=%{x}<br>lifeExp=%{y}<br>pop=%{marker.size}<extra></extra>",
         "hovertext": [
          "West Bank and Gaza"
         ],
         "legendgroup": "PSE",
         "marker": {
          "color": "#B6E880",
          "size": [
           4018332
          ],
          "sizemode": "area",
          "sizeref": 206044.23375,
          "symbol": "circle"
         },
         "mode": "markers",
         "name": "PSE",
         "orientation": "v",
         "showlegend": true,
         "type": "scatter",
         "x": [
          3025.349798
         ],
         "xaxis": "x",
         "y": [
          73.422
         ],
         "yaxis": "y"
        },
        {
         "hovertemplate": "<b>%{hovertext}</b><br><br>iso_alpha=YEM<br>gdpPercap=%{x}<br>lifeExp=%{y}<br>pop=%{marker.size}<extra></extra>",
         "hovertext": [
          "Yemen, Rep."
         ],
         "legendgroup": "YEM",
         "marker": {
          "color": "#FF97FF",
          "size": [
           22211743
          ],
          "sizemode": "area",
          "sizeref": 206044.23375,
          "symbol": "circle"
         },
         "mode": "markers",
         "name": "YEM",
         "orientation": "v",
         "showlegend": true,
         "type": "scatter",
         "x": [
          2280.769906
         ],
         "xaxis": "x",
         "y": [
          62.698
         ],
         "yaxis": "y"
        },
        {
         "hovertemplate": "<b>%{hovertext}</b><br><br>iso_alpha=ZMB<br>gdpPercap=%{x}<br>lifeExp=%{y}<br>pop=%{marker.size}<extra></extra>",
         "hovertext": [
          "Zambia"
         ],
         "legendgroup": "ZMB",
         "marker": {
          "color": "#FECB52",
          "size": [
           11746035
          ],
          "sizemode": "area",
          "sizeref": 206044.23375,
          "symbol": "circle"
         },
         "mode": "markers",
         "name": "ZMB",
         "orientation": "v",
         "showlegend": true,
         "type": "scatter",
         "x": [
          1271.211593
         ],
         "xaxis": "x",
         "y": [
          42.38399999999999
         ],
         "yaxis": "y"
        },
        {
         "hovertemplate": "<b>%{hovertext}</b><br><br>iso_alpha=ZWE<br>gdpPercap=%{x}<br>lifeExp=%{y}<br>pop=%{marker.size}<extra></extra>",
         "hovertext": [
          "Zimbabwe"
         ],
         "legendgroup": "ZWE",
         "marker": {
          "color": "#636efa",
          "size": [
           12311143
          ],
          "sizemode": "area",
          "sizeref": 206044.23375,
          "symbol": "circle"
         },
         "mode": "markers",
         "name": "ZWE",
         "orientation": "v",
         "showlegend": true,
         "type": "scatter",
         "x": [
          469.70929810000007
         ],
         "xaxis": "x",
         "y": [
          43.486999999999995
         ],
         "yaxis": "y"
        }
       ],
       "layout": {
        "legend": {
         "itemsizing": "constant",
         "title": {
          "text": "iso_alpha"
         },
         "tracegroupgap": 0
        },
        "margin": {
         "t": 60
        },
        "paper_bgcolor": "rgb(243,243,243)",
        "plot_bgcolor": "rgb(500,500,500)",
        "template": {
         "data": {
          "bar": [
           {
            "error_x": {
             "color": "#2a3f5f"
            },
            "error_y": {
             "color": "#2a3f5f"
            },
            "marker": {
             "line": {
              "color": "#E5ECF6",
              "width": 0.5
             }
            },
            "type": "bar"
           }
          ],
          "barpolar": [
           {
            "marker": {
             "line": {
              "color": "#E5ECF6",
              "width": 0.5
             }
            },
            "type": "barpolar"
           }
          ],
          "carpet": [
           {
            "aaxis": {
             "endlinecolor": "#2a3f5f",
             "gridcolor": "white",
             "linecolor": "white",
             "minorgridcolor": "white",
             "startlinecolor": "#2a3f5f"
            },
            "baxis": {
             "endlinecolor": "#2a3f5f",
             "gridcolor": "white",
             "linecolor": "white",
             "minorgridcolor": "white",
             "startlinecolor": "#2a3f5f"
            },
            "type": "carpet"
           }
          ],
          "choropleth": [
           {
            "colorbar": {
             "outlinewidth": 0,
             "ticks": ""
            },
            "type": "choropleth"
           }
          ],
          "contour": [
           {
            "colorbar": {
             "outlinewidth": 0,
             "ticks": ""
            },
            "colorscale": [
             [
              0,
              "#0d0887"
             ],
             [
              0.1111111111111111,
              "#46039f"
             ],
             [
              0.2222222222222222,
              "#7201a8"
             ],
             [
              0.3333333333333333,
              "#9c179e"
             ],
             [
              0.4444444444444444,
              "#bd3786"
             ],
             [
              0.5555555555555556,
              "#d8576b"
             ],
             [
              0.6666666666666666,
              "#ed7953"
             ],
             [
              0.7777777777777778,
              "#fb9f3a"
             ],
             [
              0.8888888888888888,
              "#fdca26"
             ],
             [
              1,
              "#f0f921"
             ]
            ],
            "type": "contour"
           }
          ],
          "contourcarpet": [
           {
            "colorbar": {
             "outlinewidth": 0,
             "ticks": ""
            },
            "type": "contourcarpet"
           }
          ],
          "heatmap": [
           {
            "colorbar": {
             "outlinewidth": 0,
             "ticks": ""
            },
            "colorscale": [
             [
              0,
              "#0d0887"
             ],
             [
              0.1111111111111111,
              "#46039f"
             ],
             [
              0.2222222222222222,
              "#7201a8"
             ],
             [
              0.3333333333333333,
              "#9c179e"
             ],
             [
              0.4444444444444444,
              "#bd3786"
             ],
             [
              0.5555555555555556,
              "#d8576b"
             ],
             [
              0.6666666666666666,
              "#ed7953"
             ],
             [
              0.7777777777777778,
              "#fb9f3a"
             ],
             [
              0.8888888888888888,
              "#fdca26"
             ],
             [
              1,
              "#f0f921"
             ]
            ],
            "type": "heatmap"
           }
          ],
          "heatmapgl": [
           {
            "colorbar": {
             "outlinewidth": 0,
             "ticks": ""
            },
            "colorscale": [
             [
              0,
              "#0d0887"
             ],
             [
              0.1111111111111111,
              "#46039f"
             ],
             [
              0.2222222222222222,
              "#7201a8"
             ],
             [
              0.3333333333333333,
              "#9c179e"
             ],
             [
              0.4444444444444444,
              "#bd3786"
             ],
             [
              0.5555555555555556,
              "#d8576b"
             ],
             [
              0.6666666666666666,
              "#ed7953"
             ],
             [
              0.7777777777777778,
              "#fb9f3a"
             ],
             [
              0.8888888888888888,
              "#fdca26"
             ],
             [
              1,
              "#f0f921"
             ]
            ],
            "type": "heatmapgl"
           }
          ],
          "histogram": [
           {
            "marker": {
             "colorbar": {
              "outlinewidth": 0,
              "ticks": ""
             }
            },
            "type": "histogram"
           }
          ],
          "histogram2d": [
           {
            "colorbar": {
             "outlinewidth": 0,
             "ticks": ""
            },
            "colorscale": [
             [
              0,
              "#0d0887"
             ],
             [
              0.1111111111111111,
              "#46039f"
             ],
             [
              0.2222222222222222,
              "#7201a8"
             ],
             [
              0.3333333333333333,
              "#9c179e"
             ],
             [
              0.4444444444444444,
              "#bd3786"
             ],
             [
              0.5555555555555556,
              "#d8576b"
             ],
             [
              0.6666666666666666,
              "#ed7953"
             ],
             [
              0.7777777777777778,
              "#fb9f3a"
             ],
             [
              0.8888888888888888,
              "#fdca26"
             ],
             [
              1,
              "#f0f921"
             ]
            ],
            "type": "histogram2d"
           }
          ],
          "histogram2dcontour": [
           {
            "colorbar": {
             "outlinewidth": 0,
             "ticks": ""
            },
            "colorscale": [
             [
              0,
              "#0d0887"
             ],
             [
              0.1111111111111111,
              "#46039f"
             ],
             [
              0.2222222222222222,
              "#7201a8"
             ],
             [
              0.3333333333333333,
              "#9c179e"
             ],
             [
              0.4444444444444444,
              "#bd3786"
             ],
             [
              0.5555555555555556,
              "#d8576b"
             ],
             [
              0.6666666666666666,
              "#ed7953"
             ],
             [
              0.7777777777777778,
              "#fb9f3a"
             ],
             [
              0.8888888888888888,
              "#fdca26"
             ],
             [
              1,
              "#f0f921"
             ]
            ],
            "type": "histogram2dcontour"
           }
          ],
          "mesh3d": [
           {
            "colorbar": {
             "outlinewidth": 0,
             "ticks": ""
            },
            "type": "mesh3d"
           }
          ],
          "parcoords": [
           {
            "line": {
             "colorbar": {
              "outlinewidth": 0,
              "ticks": ""
             }
            },
            "type": "parcoords"
           }
          ],
          "pie": [
           {
            "automargin": true,
            "type": "pie"
           }
          ],
          "scatter": [
           {
            "marker": {
             "colorbar": {
              "outlinewidth": 0,
              "ticks": ""
             }
            },
            "type": "scatter"
           }
          ],
          "scatter3d": [
           {
            "line": {
             "colorbar": {
              "outlinewidth": 0,
              "ticks": ""
             }
            },
            "marker": {
             "colorbar": {
              "outlinewidth": 0,
              "ticks": ""
             }
            },
            "type": "scatter3d"
           }
          ],
          "scattercarpet": [
           {
            "marker": {
             "colorbar": {
              "outlinewidth": 0,
              "ticks": ""
             }
            },
            "type": "scattercarpet"
           }
          ],
          "scattergeo": [
           {
            "marker": {
             "colorbar": {
              "outlinewidth": 0,
              "ticks": ""
             }
            },
            "type": "scattergeo"
           }
          ],
          "scattergl": [
           {
            "marker": {
             "colorbar": {
              "outlinewidth": 0,
              "ticks": ""
             }
            },
            "type": "scattergl"
           }
          ],
          "scattermapbox": [
           {
            "marker": {
             "colorbar": {
              "outlinewidth": 0,
              "ticks": ""
             }
            },
            "type": "scattermapbox"
           }
          ],
          "scatterpolar": [
           {
            "marker": {
             "colorbar": {
              "outlinewidth": 0,
              "ticks": ""
             }
            },
            "type": "scatterpolar"
           }
          ],
          "scatterpolargl": [
           {
            "marker": {
             "colorbar": {
              "outlinewidth": 0,
              "ticks": ""
             }
            },
            "type": "scatterpolargl"
           }
          ],
          "scatterternary": [
           {
            "marker": {
             "colorbar": {
              "outlinewidth": 0,
              "ticks": ""
             }
            },
            "type": "scatterternary"
           }
          ],
          "surface": [
           {
            "colorbar": {
             "outlinewidth": 0,
             "ticks": ""
            },
            "colorscale": [
             [
              0,
              "#0d0887"
             ],
             [
              0.1111111111111111,
              "#46039f"
             ],
             [
              0.2222222222222222,
              "#7201a8"
             ],
             [
              0.3333333333333333,
              "#9c179e"
             ],
             [
              0.4444444444444444,
              "#bd3786"
             ],
             [
              0.5555555555555556,
              "#d8576b"
             ],
             [
              0.6666666666666666,
              "#ed7953"
             ],
             [
              0.7777777777777778,
              "#fb9f3a"
             ],
             [
              0.8888888888888888,
              "#fdca26"
             ],
             [
              1,
              "#f0f921"
             ]
            ],
            "type": "surface"
           }
          ],
          "table": [
           {
            "cells": {
             "fill": {
              "color": "#EBF0F8"
             },
             "line": {
              "color": "white"
             }
            },
            "header": {
             "fill": {
              "color": "#C8D4E3"
             },
             "line": {
              "color": "white"
             }
            },
            "type": "table"
           }
          ]
         },
         "layout": {
          "annotationdefaults": {
           "arrowcolor": "#2a3f5f",
           "arrowhead": 0,
           "arrowwidth": 1
          },
          "coloraxis": {
           "colorbar": {
            "outlinewidth": 0,
            "ticks": ""
           }
          },
          "colorscale": {
           "diverging": [
            [
             0,
             "#8e0152"
            ],
            [
             0.1,
             "#c51b7d"
            ],
            [
             0.2,
             "#de77ae"
            ],
            [
             0.3,
             "#f1b6da"
            ],
            [
             0.4,
             "#fde0ef"
            ],
            [
             0.5,
             "#f7f7f7"
            ],
            [
             0.6,
             "#e6f5d0"
            ],
            [
             0.7,
             "#b8e186"
            ],
            [
             0.8,
             "#7fbc41"
            ],
            [
             0.9,
             "#4d9221"
            ],
            [
             1,
             "#276419"
            ]
           ],
           "sequential": [
            [
             0,
             "#0d0887"
            ],
            [
             0.1111111111111111,
             "#46039f"
            ],
            [
             0.2222222222222222,
             "#7201a8"
            ],
            [
             0.3333333333333333,
             "#9c179e"
            ],
            [
             0.4444444444444444,
             "#bd3786"
            ],
            [
             0.5555555555555556,
             "#d8576b"
            ],
            [
             0.6666666666666666,
             "#ed7953"
            ],
            [
             0.7777777777777778,
             "#fb9f3a"
            ],
            [
             0.8888888888888888,
             "#fdca26"
            ],
            [
             1,
             "#f0f921"
            ]
           ],
           "sequentialminus": [
            [
             0,
             "#0d0887"
            ],
            [
             0.1111111111111111,
             "#46039f"
            ],
            [
             0.2222222222222222,
             "#7201a8"
            ],
            [
             0.3333333333333333,
             "#9c179e"
            ],
            [
             0.4444444444444444,
             "#bd3786"
            ],
            [
             0.5555555555555556,
             "#d8576b"
            ],
            [
             0.6666666666666666,
             "#ed7953"
            ],
            [
             0.7777777777777778,
             "#fb9f3a"
            ],
            [
             0.8888888888888888,
             "#fdca26"
            ],
            [
             1,
             "#f0f921"
            ]
           ]
          },
          "colorway": [
           "#636efa",
           "#EF553B",
           "#00cc96",
           "#ab63fa",
           "#FFA15A",
           "#19d3f3",
           "#FF6692",
           "#B6E880",
           "#FF97FF",
           "#FECB52"
          ],
          "font": {
           "color": "#2a3f5f"
          },
          "geo": {
           "bgcolor": "white",
           "lakecolor": "white",
           "landcolor": "#E5ECF6",
           "showlakes": true,
           "showland": true,
           "subunitcolor": "white"
          },
          "hoverlabel": {
           "align": "left"
          },
          "hovermode": "closest",
          "mapbox": {
           "style": "light"
          },
          "paper_bgcolor": "white",
          "plot_bgcolor": "#E5ECF6",
          "polar": {
           "angularaxis": {
            "gridcolor": "white",
            "linecolor": "white",
            "ticks": ""
           },
           "bgcolor": "#E5ECF6",
           "radialaxis": {
            "gridcolor": "white",
            "linecolor": "white",
            "ticks": ""
           }
          },
          "scene": {
           "xaxis": {
            "backgroundcolor": "#E5ECF6",
            "gridcolor": "white",
            "gridwidth": 2,
            "linecolor": "white",
            "showbackground": true,
            "ticks": "",
            "zerolinecolor": "white"
           },
           "yaxis": {
            "backgroundcolor": "#E5ECF6",
            "gridcolor": "white",
            "gridwidth": 2,
            "linecolor": "white",
            "showbackground": true,
            "ticks": "",
            "zerolinecolor": "white"
           },
           "zaxis": {
            "backgroundcolor": "#E5ECF6",
            "gridcolor": "white",
            "gridwidth": 2,
            "linecolor": "white",
            "showbackground": true,
            "ticks": "",
            "zerolinecolor": "white"
           }
          },
          "shapedefaults": {
           "line": {
            "color": "#2a3f5f"
           }
          },
          "ternary": {
           "aaxis": {
            "gridcolor": "white",
            "linecolor": "white",
            "ticks": ""
           },
           "baxis": {
            "gridcolor": "white",
            "linecolor": "white",
            "ticks": ""
           },
           "bgcolor": "#E5ECF6",
           "caxis": {
            "gridcolor": "white",
            "linecolor": "white",
            "ticks": ""
           }
          },
          "title": {
           "x": 0.05
          },
          "xaxis": {
           "automargin": true,
           "gridcolor": "white",
           "linecolor": "white",
           "ticks": "",
           "title": {
            "standoff": 15
           },
           "zerolinecolor": "white",
           "zerolinewidth": 2
          },
          "yaxis": {
           "automargin": true,
           "gridcolor": "white",
           "linecolor": "white",
           "ticks": "",
           "title": {
            "standoff": 15
           },
           "zerolinecolor": "white",
           "zerolinewidth": 2
          }
         }
        },
        "title": {
         "text": "Life Expectancy vs GDP per capita for various iso_alpha"
        },
        "xaxis": {
         "anchor": "y",
         "domain": [
          0,
          1
         ],
         "gridcolor": "white",
         "title": {
          "text": "GDP Per Capita"
         }
        },
        "yaxis": {
         "anchor": "x",
         "domain": [
          0,
          1
         ],
         "gridcolor": "white",
         "title": {
          "text": "Life Expectancy"
         }
        }
       }
      },
      "text/html": [
       "<div>\n",
       "        \n",
       "        \n",
       "            <div id=\"7c11bd25-7d92-429c-9bfc-4ce329a0cbfc\" class=\"plotly-graph-div\" style=\"height:525px; width:100%;\"></div>\n",
       "            <script type=\"text/javascript\">\n",
       "                require([\"plotly\"], function(Plotly) {\n",
       "                    window.PLOTLYENV=window.PLOTLYENV || {};\n",
       "                    \n",
       "                if (document.getElementById(\"7c11bd25-7d92-429c-9bfc-4ce329a0cbfc\")) {\n",
       "                    Plotly.newPlot(\n",
       "                        '7c11bd25-7d92-429c-9bfc-4ce329a0cbfc',\n",
       "                        [{\"hovertemplate\": \"<b>%{hovertext}</b><br><br>iso_alpha=AFG<br>gdpPercap=%{x}<br>lifeExp=%{y}<br>pop=%{marker.size}<extra></extra>\", \"hovertext\": [\"Afghanistan\"], \"legendgroup\": \"AFG\", \"marker\": {\"color\": \"#636efa\", \"size\": [31889923], \"sizemode\": \"area\", \"sizeref\": 206044.23375, \"symbol\": \"circle\"}, \"mode\": \"markers\", \"name\": \"AFG\", \"orientation\": \"v\", \"showlegend\": true, \"type\": \"scatter\", \"x\": [974.5803384], \"xaxis\": \"x\", \"y\": [43.828], \"yaxis\": \"y\"}, {\"hovertemplate\": \"<b>%{hovertext}</b><br><br>iso_alpha=ALB<br>gdpPercap=%{x}<br>lifeExp=%{y}<br>pop=%{marker.size}<extra></extra>\", \"hovertext\": [\"Albania\"], \"legendgroup\": \"ALB\", \"marker\": {\"color\": \"#EF553B\", \"size\": [3600523], \"sizemode\": \"area\", \"sizeref\": 206044.23375, \"symbol\": \"circle\"}, \"mode\": \"markers\", \"name\": \"ALB\", \"orientation\": \"v\", \"showlegend\": true, \"type\": \"scatter\", \"x\": [5937.029525999999], \"xaxis\": \"x\", \"y\": [76.423], \"yaxis\": \"y\"}, {\"hovertemplate\": \"<b>%{hovertext}</b><br><br>iso_alpha=DZA<br>gdpPercap=%{x}<br>lifeExp=%{y}<br>pop=%{marker.size}<extra></extra>\", \"hovertext\": [\"Algeria\"], \"legendgroup\": \"DZA\", \"marker\": {\"color\": \"#00cc96\", \"size\": [33333216], \"sizemode\": \"area\", \"sizeref\": 206044.23375, \"symbol\": \"circle\"}, \"mode\": \"markers\", \"name\": \"DZA\", \"orientation\": \"v\", \"showlegend\": true, \"type\": \"scatter\", \"x\": [6223.367465], \"xaxis\": \"x\", \"y\": [72.301], \"yaxis\": \"y\"}, {\"hovertemplate\": \"<b>%{hovertext}</b><br><br>iso_alpha=AGO<br>gdpPercap=%{x}<br>lifeExp=%{y}<br>pop=%{marker.size}<extra></extra>\", \"hovertext\": [\"Angola\"], \"legendgroup\": \"AGO\", \"marker\": {\"color\": \"#ab63fa\", \"size\": [12420476], \"sizemode\": \"area\", \"sizeref\": 206044.23375, \"symbol\": \"circle\"}, \"mode\": \"markers\", \"name\": \"AGO\", \"orientation\": \"v\", \"showlegend\": true, \"type\": \"scatter\", \"x\": [4797.231267], \"xaxis\": \"x\", \"y\": [42.731], \"yaxis\": \"y\"}, {\"hovertemplate\": \"<b>%{hovertext}</b><br><br>iso_alpha=ARG<br>gdpPercap=%{x}<br>lifeExp=%{y}<br>pop=%{marker.size}<extra></extra>\", \"hovertext\": [\"Argentina\"], \"legendgroup\": \"ARG\", \"marker\": {\"color\": \"#FFA15A\", \"size\": [40301927], \"sizemode\": \"area\", \"sizeref\": 206044.23375, \"symbol\": \"circle\"}, \"mode\": \"markers\", \"name\": \"ARG\", \"orientation\": \"v\", \"showlegend\": true, \"type\": \"scatter\", \"x\": [12779.379640000001], \"xaxis\": \"x\", \"y\": [75.32], \"yaxis\": \"y\"}, {\"hovertemplate\": \"<b>%{hovertext}</b><br><br>iso_alpha=AUS<br>gdpPercap=%{x}<br>lifeExp=%{y}<br>pop=%{marker.size}<extra></extra>\", \"hovertext\": [\"Australia\"], \"legendgroup\": \"AUS\", \"marker\": {\"color\": \"#19d3f3\", \"size\": [20434176], \"sizemode\": \"area\", \"sizeref\": 206044.23375, \"symbol\": \"circle\"}, \"mode\": \"markers\", \"name\": \"AUS\", \"orientation\": \"v\", \"showlegend\": true, \"type\": \"scatter\", \"x\": [34435.367439999995], \"xaxis\": \"x\", \"y\": [81.235], \"yaxis\": \"y\"}, {\"hovertemplate\": \"<b>%{hovertext}</b><br><br>iso_alpha=AUT<br>gdpPercap=%{x}<br>lifeExp=%{y}<br>pop=%{marker.size}<extra></extra>\", \"hovertext\": [\"Austria\"], \"legendgroup\": \"AUT\", \"marker\": {\"color\": \"#FF6692\", \"size\": [8199783], \"sizemode\": \"area\", \"sizeref\": 206044.23375, \"symbol\": \"circle\"}, \"mode\": \"markers\", \"name\": \"AUT\", \"orientation\": \"v\", \"showlegend\": true, \"type\": \"scatter\", \"x\": [36126.4927], \"xaxis\": \"x\", \"y\": [79.829], \"yaxis\": \"y\"}, {\"hovertemplate\": \"<b>%{hovertext}</b><br><br>iso_alpha=BHR<br>gdpPercap=%{x}<br>lifeExp=%{y}<br>pop=%{marker.size}<extra></extra>\", \"hovertext\": [\"Bahrain\"], \"legendgroup\": \"BHR\", \"marker\": {\"color\": \"#B6E880\", \"size\": [708573], \"sizemode\": \"area\", \"sizeref\": 206044.23375, \"symbol\": \"circle\"}, \"mode\": \"markers\", \"name\": \"BHR\", \"orientation\": \"v\", \"showlegend\": true, \"type\": \"scatter\", \"x\": [29796.048339999998], \"xaxis\": \"x\", \"y\": [75.635], \"yaxis\": \"y\"}, {\"hovertemplate\": \"<b>%{hovertext}</b><br><br>iso_alpha=BGD<br>gdpPercap=%{x}<br>lifeExp=%{y}<br>pop=%{marker.size}<extra></extra>\", \"hovertext\": [\"Bangladesh\"], \"legendgroup\": \"BGD\", \"marker\": {\"color\": \"#FF97FF\", \"size\": [150448339], \"sizemode\": \"area\", \"sizeref\": 206044.23375, \"symbol\": \"circle\"}, \"mode\": \"markers\", \"name\": \"BGD\", \"orientation\": \"v\", \"showlegend\": true, \"type\": \"scatter\", \"x\": [1391.253792], \"xaxis\": \"x\", \"y\": [64.062], \"yaxis\": \"y\"}, {\"hovertemplate\": \"<b>%{hovertext}</b><br><br>iso_alpha=BEL<br>gdpPercap=%{x}<br>lifeExp=%{y}<br>pop=%{marker.size}<extra></extra>\", \"hovertext\": [\"Belgium\"], \"legendgroup\": \"BEL\", \"marker\": {\"color\": \"#FECB52\", \"size\": [10392226], \"sizemode\": \"area\", \"sizeref\": 206044.23375, \"symbol\": \"circle\"}, \"mode\": \"markers\", \"name\": \"BEL\", \"orientation\": \"v\", \"showlegend\": true, \"type\": \"scatter\", \"x\": [33692.60508], \"xaxis\": \"x\", \"y\": [79.441], \"yaxis\": \"y\"}, {\"hovertemplate\": \"<b>%{hovertext}</b><br><br>iso_alpha=BEN<br>gdpPercap=%{x}<br>lifeExp=%{y}<br>pop=%{marker.size}<extra></extra>\", \"hovertext\": [\"Benin\"], \"legendgroup\": \"BEN\", \"marker\": {\"color\": \"#636efa\", \"size\": [8078314], \"sizemode\": \"area\", \"sizeref\": 206044.23375, \"symbol\": \"circle\"}, \"mode\": \"markers\", \"name\": \"BEN\", \"orientation\": \"v\", \"showlegend\": true, \"type\": \"scatter\", \"x\": [1441.284873], \"xaxis\": \"x\", \"y\": [56.728], \"yaxis\": \"y\"}, {\"hovertemplate\": \"<b>%{hovertext}</b><br><br>iso_alpha=BOL<br>gdpPercap=%{x}<br>lifeExp=%{y}<br>pop=%{marker.size}<extra></extra>\", \"hovertext\": [\"Bolivia\"], \"legendgroup\": \"BOL\", \"marker\": {\"color\": \"#EF553B\", \"size\": [9119152], \"sizemode\": \"area\", \"sizeref\": 206044.23375, \"symbol\": \"circle\"}, \"mode\": \"markers\", \"name\": \"BOL\", \"orientation\": \"v\", \"showlegend\": true, \"type\": \"scatter\", \"x\": [3822.1370840000004], \"xaxis\": \"x\", \"y\": [65.554], \"yaxis\": \"y\"}, {\"hovertemplate\": \"<b>%{hovertext}</b><br><br>iso_alpha=BIH<br>gdpPercap=%{x}<br>lifeExp=%{y}<br>pop=%{marker.size}<extra></extra>\", \"hovertext\": [\"Bosnia and Herzegovina\"], \"legendgroup\": \"BIH\", \"marker\": {\"color\": \"#00cc96\", \"size\": [4552198], \"sizemode\": \"area\", \"sizeref\": 206044.23375, \"symbol\": \"circle\"}, \"mode\": \"markers\", \"name\": \"BIH\", \"orientation\": \"v\", \"showlegend\": true, \"type\": \"scatter\", \"x\": [7446.298803], \"xaxis\": \"x\", \"y\": [74.852], \"yaxis\": \"y\"}, {\"hovertemplate\": \"<b>%{hovertext}</b><br><br>iso_alpha=BWA<br>gdpPercap=%{x}<br>lifeExp=%{y}<br>pop=%{marker.size}<extra></extra>\", \"hovertext\": [\"Botswana\"], \"legendgroup\": \"BWA\", \"marker\": {\"color\": \"#ab63fa\", \"size\": [1639131], \"sizemode\": \"area\", \"sizeref\": 206044.23375, \"symbol\": \"circle\"}, \"mode\": \"markers\", \"name\": \"BWA\", \"orientation\": \"v\", \"showlegend\": true, \"type\": \"scatter\", \"x\": [12569.851770000001], \"xaxis\": \"x\", \"y\": [50.728], \"yaxis\": \"y\"}, {\"hovertemplate\": \"<b>%{hovertext}</b><br><br>iso_alpha=BRA<br>gdpPercap=%{x}<br>lifeExp=%{y}<br>pop=%{marker.size}<extra></extra>\", \"hovertext\": [\"Brazil\"], \"legendgroup\": \"BRA\", \"marker\": {\"color\": \"#FFA15A\", \"size\": [190010647], \"sizemode\": \"area\", \"sizeref\": 206044.23375, \"symbol\": \"circle\"}, \"mode\": \"markers\", \"name\": \"BRA\", \"orientation\": \"v\", \"showlegend\": true, \"type\": \"scatter\", \"x\": [9065.800825], \"xaxis\": \"x\", \"y\": [72.39], \"yaxis\": \"y\"}, {\"hovertemplate\": \"<b>%{hovertext}</b><br><br>iso_alpha=BGR<br>gdpPercap=%{x}<br>lifeExp=%{y}<br>pop=%{marker.size}<extra></extra>\", \"hovertext\": [\"Bulgaria\"], \"legendgroup\": \"BGR\", \"marker\": {\"color\": \"#19d3f3\", \"size\": [7322858], \"sizemode\": \"area\", \"sizeref\": 206044.23375, \"symbol\": \"circle\"}, \"mode\": \"markers\", \"name\": \"BGR\", \"orientation\": \"v\", \"showlegend\": true, \"type\": \"scatter\", \"x\": [10680.79282], \"xaxis\": \"x\", \"y\": [73.005], \"yaxis\": \"y\"}, {\"hovertemplate\": \"<b>%{hovertext}</b><br><br>iso_alpha=BFA<br>gdpPercap=%{x}<br>lifeExp=%{y}<br>pop=%{marker.size}<extra></extra>\", \"hovertext\": [\"Burkina Faso\"], \"legendgroup\": \"BFA\", \"marker\": {\"color\": \"#FF6692\", \"size\": [14326203], \"sizemode\": \"area\", \"sizeref\": 206044.23375, \"symbol\": \"circle\"}, \"mode\": \"markers\", \"name\": \"BFA\", \"orientation\": \"v\", \"showlegend\": true, \"type\": \"scatter\", \"x\": [1217.032994], \"xaxis\": \"x\", \"y\": [52.295], \"yaxis\": \"y\"}, {\"hovertemplate\": \"<b>%{hovertext}</b><br><br>iso_alpha=BDI<br>gdpPercap=%{x}<br>lifeExp=%{y}<br>pop=%{marker.size}<extra></extra>\", \"hovertext\": [\"Burundi\"], \"legendgroup\": \"BDI\", \"marker\": {\"color\": \"#B6E880\", \"size\": [8390505], \"sizemode\": \"area\", \"sizeref\": 206044.23375, \"symbol\": \"circle\"}, \"mode\": \"markers\", \"name\": \"BDI\", \"orientation\": \"v\", \"showlegend\": true, \"type\": \"scatter\", \"x\": [430.07069160000003], \"xaxis\": \"x\", \"y\": [49.58], \"yaxis\": \"y\"}, {\"hovertemplate\": \"<b>%{hovertext}</b><br><br>iso_alpha=KHM<br>gdpPercap=%{x}<br>lifeExp=%{y}<br>pop=%{marker.size}<extra></extra>\", \"hovertext\": [\"Cambodia\"], \"legendgroup\": \"KHM\", \"marker\": {\"color\": \"#FF97FF\", \"size\": [14131858], \"sizemode\": \"area\", \"sizeref\": 206044.23375, \"symbol\": \"circle\"}, \"mode\": \"markers\", \"name\": \"KHM\", \"orientation\": \"v\", \"showlegend\": true, \"type\": \"scatter\", \"x\": [1713.7786859999999], \"xaxis\": \"x\", \"y\": [59.723], \"yaxis\": \"y\"}, {\"hovertemplate\": \"<b>%{hovertext}</b><br><br>iso_alpha=CMR<br>gdpPercap=%{x}<br>lifeExp=%{y}<br>pop=%{marker.size}<extra></extra>\", \"hovertext\": [\"Cameroon\"], \"legendgroup\": \"CMR\", \"marker\": {\"color\": \"#FECB52\", \"size\": [17696293], \"sizemode\": \"area\", \"sizeref\": 206044.23375, \"symbol\": \"circle\"}, \"mode\": \"markers\", \"name\": \"CMR\", \"orientation\": \"v\", \"showlegend\": true, \"type\": \"scatter\", \"x\": [2042.0952399999999], \"xaxis\": \"x\", \"y\": [50.43], \"yaxis\": \"y\"}, {\"hovertemplate\": \"<b>%{hovertext}</b><br><br>iso_alpha=CAN<br>gdpPercap=%{x}<br>lifeExp=%{y}<br>pop=%{marker.size}<extra></extra>\", \"hovertext\": [\"Canada\"], \"legendgroup\": \"CAN\", \"marker\": {\"color\": \"#636efa\", \"size\": [33390141], \"sizemode\": \"area\", \"sizeref\": 206044.23375, \"symbol\": \"circle\"}, \"mode\": \"markers\", \"name\": \"CAN\", \"orientation\": \"v\", \"showlegend\": true, \"type\": \"scatter\", \"x\": [36319.235010000004], \"xaxis\": \"x\", \"y\": [80.653], \"yaxis\": \"y\"}, {\"hovertemplate\": \"<b>%{hovertext}</b><br><br>iso_alpha=CAF<br>gdpPercap=%{x}<br>lifeExp=%{y}<br>pop=%{marker.size}<extra></extra>\", \"hovertext\": [\"Central African Republic\"], \"legendgroup\": \"CAF\", \"marker\": {\"color\": \"#EF553B\", \"size\": [4369038], \"sizemode\": \"area\", \"sizeref\": 206044.23375, \"symbol\": \"circle\"}, \"mode\": \"markers\", \"name\": \"CAF\", \"orientation\": \"v\", \"showlegend\": true, \"type\": \"scatter\", \"x\": [706.016537], \"xaxis\": \"x\", \"y\": [44.74100000000001], \"yaxis\": \"y\"}, {\"hovertemplate\": \"<b>%{hovertext}</b><br><br>iso_alpha=TCD<br>gdpPercap=%{x}<br>lifeExp=%{y}<br>pop=%{marker.size}<extra></extra>\", \"hovertext\": [\"Chad\"], \"legendgroup\": \"TCD\", \"marker\": {\"color\": \"#00cc96\", \"size\": [10238807], \"sizemode\": \"area\", \"sizeref\": 206044.23375, \"symbol\": \"circle\"}, \"mode\": \"markers\", \"name\": \"TCD\", \"orientation\": \"v\", \"showlegend\": true, \"type\": \"scatter\", \"x\": [1704.0637239999999], \"xaxis\": \"x\", \"y\": [50.651], \"yaxis\": \"y\"}, {\"hovertemplate\": \"<b>%{hovertext}</b><br><br>iso_alpha=CHL<br>gdpPercap=%{x}<br>lifeExp=%{y}<br>pop=%{marker.size}<extra></extra>\", \"hovertext\": [\"Chile\"], \"legendgroup\": \"CHL\", \"marker\": {\"color\": \"#ab63fa\", \"size\": [16284741], \"sizemode\": \"area\", \"sizeref\": 206044.23375, \"symbol\": \"circle\"}, \"mode\": \"markers\", \"name\": \"CHL\", \"orientation\": \"v\", \"showlegend\": true, \"type\": \"scatter\", \"x\": [13171.63885], \"xaxis\": \"x\", \"y\": [78.553], \"yaxis\": \"y\"}, {\"hovertemplate\": \"<b>%{hovertext}</b><br><br>iso_alpha=CHN<br>gdpPercap=%{x}<br>lifeExp=%{y}<br>pop=%{marker.size}<extra></extra>\", \"hovertext\": [\"China\"], \"legendgroup\": \"CHN\", \"marker\": {\"color\": \"#FFA15A\", \"size\": [1318683096], \"sizemode\": \"area\", \"sizeref\": 206044.23375, \"symbol\": \"circle\"}, \"mode\": \"markers\", \"name\": \"CHN\", \"orientation\": \"v\", \"showlegend\": true, \"type\": \"scatter\", \"x\": [4959.1148539999995], \"xaxis\": \"x\", \"y\": [72.961], \"yaxis\": \"y\"}, {\"hovertemplate\": \"<b>%{hovertext}</b><br><br>iso_alpha=COL<br>gdpPercap=%{x}<br>lifeExp=%{y}<br>pop=%{marker.size}<extra></extra>\", \"hovertext\": [\"Colombia\"], \"legendgroup\": \"COL\", \"marker\": {\"color\": \"#19d3f3\", \"size\": [44227550], \"sizemode\": \"area\", \"sizeref\": 206044.23375, \"symbol\": \"circle\"}, \"mode\": \"markers\", \"name\": \"COL\", \"orientation\": \"v\", \"showlegend\": true, \"type\": \"scatter\", \"x\": [7006.580419], \"xaxis\": \"x\", \"y\": [72.889], \"yaxis\": \"y\"}, {\"hovertemplate\": \"<b>%{hovertext}</b><br><br>iso_alpha=COM<br>gdpPercap=%{x}<br>lifeExp=%{y}<br>pop=%{marker.size}<extra></extra>\", \"hovertext\": [\"Comoros\"], \"legendgroup\": \"COM\", \"marker\": {\"color\": \"#FF6692\", \"size\": [710960], \"sizemode\": \"area\", \"sizeref\": 206044.23375, \"symbol\": \"circle\"}, \"mode\": \"markers\", \"name\": \"COM\", \"orientation\": \"v\", \"showlegend\": true, \"type\": \"scatter\", \"x\": [986.1478792000001], \"xaxis\": \"x\", \"y\": [65.152], \"yaxis\": \"y\"}, {\"hovertemplate\": \"<b>%{hovertext}</b><br><br>iso_alpha=COD<br>gdpPercap=%{x}<br>lifeExp=%{y}<br>pop=%{marker.size}<extra></extra>\", \"hovertext\": [\"Congo, Dem. Rep.\"], \"legendgroup\": \"COD\", \"marker\": {\"color\": \"#B6E880\", \"size\": [64606759], \"sizemode\": \"area\", \"sizeref\": 206044.23375, \"symbol\": \"circle\"}, \"mode\": \"markers\", \"name\": \"COD\", \"orientation\": \"v\", \"showlegend\": true, \"type\": \"scatter\", \"x\": [277.55185869999997], \"xaxis\": \"x\", \"y\": [46.461999999999996], \"yaxis\": \"y\"}, {\"hovertemplate\": \"<b>%{hovertext}</b><br><br>iso_alpha=COG<br>gdpPercap=%{x}<br>lifeExp=%{y}<br>pop=%{marker.size}<extra></extra>\", \"hovertext\": [\"Congo, Rep.\"], \"legendgroup\": \"COG\", \"marker\": {\"color\": \"#FF97FF\", \"size\": [3800610], \"sizemode\": \"area\", \"sizeref\": 206044.23375, \"symbol\": \"circle\"}, \"mode\": \"markers\", \"name\": \"COG\", \"orientation\": \"v\", \"showlegend\": true, \"type\": \"scatter\", \"x\": [3632.557798], \"xaxis\": \"x\", \"y\": [55.321999999999996], \"yaxis\": \"y\"}, {\"hovertemplate\": \"<b>%{hovertext}</b><br><br>iso_alpha=CRI<br>gdpPercap=%{x}<br>lifeExp=%{y}<br>pop=%{marker.size}<extra></extra>\", \"hovertext\": [\"Costa Rica\"], \"legendgroup\": \"CRI\", \"marker\": {\"color\": \"#FECB52\", \"size\": [4133884], \"sizemode\": \"area\", \"sizeref\": 206044.23375, \"symbol\": \"circle\"}, \"mode\": \"markers\", \"name\": \"CRI\", \"orientation\": \"v\", \"showlegend\": true, \"type\": \"scatter\", \"x\": [9645.06142], \"xaxis\": \"x\", \"y\": [78.782], \"yaxis\": \"y\"}, {\"hovertemplate\": \"<b>%{hovertext}</b><br><br>iso_alpha=CIV<br>gdpPercap=%{x}<br>lifeExp=%{y}<br>pop=%{marker.size}<extra></extra>\", \"hovertext\": [\"Cote d'Ivoire\"], \"legendgroup\": \"CIV\", \"marker\": {\"color\": \"#636efa\", \"size\": [18013409], \"sizemode\": \"area\", \"sizeref\": 206044.23375, \"symbol\": \"circle\"}, \"mode\": \"markers\", \"name\": \"CIV\", \"orientation\": \"v\", \"showlegend\": true, \"type\": \"scatter\", \"x\": [1544.750112], \"xaxis\": \"x\", \"y\": [48.328], \"yaxis\": \"y\"}, {\"hovertemplate\": \"<b>%{hovertext}</b><br><br>iso_alpha=HRV<br>gdpPercap=%{x}<br>lifeExp=%{y}<br>pop=%{marker.size}<extra></extra>\", \"hovertext\": [\"Croatia\"], \"legendgroup\": \"HRV\", \"marker\": {\"color\": \"#EF553B\", \"size\": [4493312], \"sizemode\": \"area\", \"sizeref\": 206044.23375, \"symbol\": \"circle\"}, \"mode\": \"markers\", \"name\": \"HRV\", \"orientation\": \"v\", \"showlegend\": true, \"type\": \"scatter\", \"x\": [14619.222719999998], \"xaxis\": \"x\", \"y\": [75.748], \"yaxis\": \"y\"}, {\"hovertemplate\": \"<b>%{hovertext}</b><br><br>iso_alpha=CUB<br>gdpPercap=%{x}<br>lifeExp=%{y}<br>pop=%{marker.size}<extra></extra>\", \"hovertext\": [\"Cuba\"], \"legendgroup\": \"CUB\", \"marker\": {\"color\": \"#00cc96\", \"size\": [11416987], \"sizemode\": \"area\", \"sizeref\": 206044.23375, \"symbol\": \"circle\"}, \"mode\": \"markers\", \"name\": \"CUB\", \"orientation\": \"v\", \"showlegend\": true, \"type\": \"scatter\", \"x\": [8948.102923], \"xaxis\": \"x\", \"y\": [78.273], \"yaxis\": \"y\"}, {\"hovertemplate\": \"<b>%{hovertext}</b><br><br>iso_alpha=CZE<br>gdpPercap=%{x}<br>lifeExp=%{y}<br>pop=%{marker.size}<extra></extra>\", \"hovertext\": [\"Czech Republic\"], \"legendgroup\": \"CZE\", \"marker\": {\"color\": \"#ab63fa\", \"size\": [10228744], \"sizemode\": \"area\", \"sizeref\": 206044.23375, \"symbol\": \"circle\"}, \"mode\": \"markers\", \"name\": \"CZE\", \"orientation\": \"v\", \"showlegend\": true, \"type\": \"scatter\", \"x\": [22833.30851], \"xaxis\": \"x\", \"y\": [76.486], \"yaxis\": \"y\"}, {\"hovertemplate\": \"<b>%{hovertext}</b><br><br>iso_alpha=DNK<br>gdpPercap=%{x}<br>lifeExp=%{y}<br>pop=%{marker.size}<extra></extra>\", \"hovertext\": [\"Denmark\"], \"legendgroup\": \"DNK\", \"marker\": {\"color\": \"#FFA15A\", \"size\": [5468120], \"sizemode\": \"area\", \"sizeref\": 206044.23375, \"symbol\": \"circle\"}, \"mode\": \"markers\", \"name\": \"DNK\", \"orientation\": \"v\", \"showlegend\": true, \"type\": \"scatter\", \"x\": [35278.41874], \"xaxis\": \"x\", \"y\": [78.332], \"yaxis\": \"y\"}, {\"hovertemplate\": \"<b>%{hovertext}</b><br><br>iso_alpha=DJI<br>gdpPercap=%{x}<br>lifeExp=%{y}<br>pop=%{marker.size}<extra></extra>\", \"hovertext\": [\"Djibouti\"], \"legendgroup\": \"DJI\", \"marker\": {\"color\": \"#19d3f3\", \"size\": [496374], \"sizemode\": \"area\", \"sizeref\": 206044.23375, \"symbol\": \"circle\"}, \"mode\": \"markers\", \"name\": \"DJI\", \"orientation\": \"v\", \"showlegend\": true, \"type\": \"scatter\", \"x\": [2082.4815670000003], \"xaxis\": \"x\", \"y\": [54.791000000000004], \"yaxis\": \"y\"}, {\"hovertemplate\": \"<b>%{hovertext}</b><br><br>iso_alpha=DOM<br>gdpPercap=%{x}<br>lifeExp=%{y}<br>pop=%{marker.size}<extra></extra>\", \"hovertext\": [\"Dominican Republic\"], \"legendgroup\": \"DOM\", \"marker\": {\"color\": \"#FF6692\", \"size\": [9319622], \"sizemode\": \"area\", \"sizeref\": 206044.23375, \"symbol\": \"circle\"}, \"mode\": \"markers\", \"name\": \"DOM\", \"orientation\": \"v\", \"showlegend\": true, \"type\": \"scatter\", \"x\": [6025.374752000001], \"xaxis\": \"x\", \"y\": [72.235], \"yaxis\": \"y\"}, {\"hovertemplate\": \"<b>%{hovertext}</b><br><br>iso_alpha=ECU<br>gdpPercap=%{x}<br>lifeExp=%{y}<br>pop=%{marker.size}<extra></extra>\", \"hovertext\": [\"Ecuador\"], \"legendgroup\": \"ECU\", \"marker\": {\"color\": \"#B6E880\", \"size\": [13755680], \"sizemode\": \"area\", \"sizeref\": 206044.23375, \"symbol\": \"circle\"}, \"mode\": \"markers\", \"name\": \"ECU\", \"orientation\": \"v\", \"showlegend\": true, \"type\": \"scatter\", \"x\": [6873.262326000001], \"xaxis\": \"x\", \"y\": [74.994], \"yaxis\": \"y\"}, {\"hovertemplate\": \"<b>%{hovertext}</b><br><br>iso_alpha=EGY<br>gdpPercap=%{x}<br>lifeExp=%{y}<br>pop=%{marker.size}<extra></extra>\", \"hovertext\": [\"Egypt\"], \"legendgroup\": \"EGY\", \"marker\": {\"color\": \"#FF97FF\", \"size\": [80264543], \"sizemode\": \"area\", \"sizeref\": 206044.23375, \"symbol\": \"circle\"}, \"mode\": \"markers\", \"name\": \"EGY\", \"orientation\": \"v\", \"showlegend\": true, \"type\": \"scatter\", \"x\": [5581.180998], \"xaxis\": \"x\", \"y\": [71.33800000000001], \"yaxis\": \"y\"}, {\"hovertemplate\": \"<b>%{hovertext}</b><br><br>iso_alpha=SLV<br>gdpPercap=%{x}<br>lifeExp=%{y}<br>pop=%{marker.size}<extra></extra>\", \"hovertext\": [\"El Salvador\"], \"legendgroup\": \"SLV\", \"marker\": {\"color\": \"#FECB52\", \"size\": [6939688], \"sizemode\": \"area\", \"sizeref\": 206044.23375, \"symbol\": \"circle\"}, \"mode\": \"markers\", \"name\": \"SLV\", \"orientation\": \"v\", \"showlegend\": true, \"type\": \"scatter\", \"x\": [5728.353514], \"xaxis\": \"x\", \"y\": [71.878], \"yaxis\": \"y\"}, {\"hovertemplate\": \"<b>%{hovertext}</b><br><br>iso_alpha=GNQ<br>gdpPercap=%{x}<br>lifeExp=%{y}<br>pop=%{marker.size}<extra></extra>\", \"hovertext\": [\"Equatorial Guinea\"], \"legendgroup\": \"GNQ\", \"marker\": {\"color\": \"#636efa\", \"size\": [551201], \"sizemode\": \"area\", \"sizeref\": 206044.23375, \"symbol\": \"circle\"}, \"mode\": \"markers\", \"name\": \"GNQ\", \"orientation\": \"v\", \"showlegend\": true, \"type\": \"scatter\", \"x\": [12154.08975], \"xaxis\": \"x\", \"y\": [51.57899999999999], \"yaxis\": \"y\"}, {\"hovertemplate\": \"<b>%{hovertext}</b><br><br>iso_alpha=ERI<br>gdpPercap=%{x}<br>lifeExp=%{y}<br>pop=%{marker.size}<extra></extra>\", \"hovertext\": [\"Eritrea\"], \"legendgroup\": \"ERI\", \"marker\": {\"color\": \"#EF553B\", \"size\": [4906585], \"sizemode\": \"area\", \"sizeref\": 206044.23375, \"symbol\": \"circle\"}, \"mode\": \"markers\", \"name\": \"ERI\", \"orientation\": \"v\", \"showlegend\": true, \"type\": \"scatter\", \"x\": [641.3695236000001], \"xaxis\": \"x\", \"y\": [58.04], \"yaxis\": \"y\"}, {\"hovertemplate\": \"<b>%{hovertext}</b><br><br>iso_alpha=ETH<br>gdpPercap=%{x}<br>lifeExp=%{y}<br>pop=%{marker.size}<extra></extra>\", \"hovertext\": [\"Ethiopia\"], \"legendgroup\": \"ETH\", \"marker\": {\"color\": \"#00cc96\", \"size\": [76511887], \"sizemode\": \"area\", \"sizeref\": 206044.23375, \"symbol\": \"circle\"}, \"mode\": \"markers\", \"name\": \"ETH\", \"orientation\": \"v\", \"showlegend\": true, \"type\": \"scatter\", \"x\": [690.8055759], \"xaxis\": \"x\", \"y\": [52.946999999999996], \"yaxis\": \"y\"}, {\"hovertemplate\": \"<b>%{hovertext}</b><br><br>iso_alpha=FIN<br>gdpPercap=%{x}<br>lifeExp=%{y}<br>pop=%{marker.size}<extra></extra>\", \"hovertext\": [\"Finland\"], \"legendgroup\": \"FIN\", \"marker\": {\"color\": \"#ab63fa\", \"size\": [5238460], \"sizemode\": \"area\", \"sizeref\": 206044.23375, \"symbol\": \"circle\"}, \"mode\": \"markers\", \"name\": \"FIN\", \"orientation\": \"v\", \"showlegend\": true, \"type\": \"scatter\", \"x\": [33207.0844], \"xaxis\": \"x\", \"y\": [79.313], \"yaxis\": \"y\"}, {\"hovertemplate\": \"<b>%{hovertext}</b><br><br>iso_alpha=FRA<br>gdpPercap=%{x}<br>lifeExp=%{y}<br>pop=%{marker.size}<extra></extra>\", \"hovertext\": [\"France\"], \"legendgroup\": \"FRA\", \"marker\": {\"color\": \"#FFA15A\", \"size\": [61083916], \"sizemode\": \"area\", \"sizeref\": 206044.23375, \"symbol\": \"circle\"}, \"mode\": \"markers\", \"name\": \"FRA\", \"orientation\": \"v\", \"showlegend\": true, \"type\": \"scatter\", \"x\": [30470.0167], \"xaxis\": \"x\", \"y\": [80.657], \"yaxis\": \"y\"}, {\"hovertemplate\": \"<b>%{hovertext}</b><br><br>iso_alpha=GAB<br>gdpPercap=%{x}<br>lifeExp=%{y}<br>pop=%{marker.size}<extra></extra>\", \"hovertext\": [\"Gabon\"], \"legendgroup\": \"GAB\", \"marker\": {\"color\": \"#19d3f3\", \"size\": [1454867], \"sizemode\": \"area\", \"sizeref\": 206044.23375, \"symbol\": \"circle\"}, \"mode\": \"markers\", \"name\": \"GAB\", \"orientation\": \"v\", \"showlegend\": true, \"type\": \"scatter\", \"x\": [13206.48452], \"xaxis\": \"x\", \"y\": [56.735], \"yaxis\": \"y\"}, {\"hovertemplate\": \"<b>%{hovertext}</b><br><br>iso_alpha=GMB<br>gdpPercap=%{x}<br>lifeExp=%{y}<br>pop=%{marker.size}<extra></extra>\", \"hovertext\": [\"Gambia\"], \"legendgroup\": \"GMB\", \"marker\": {\"color\": \"#FF6692\", \"size\": [1688359], \"sizemode\": \"area\", \"sizeref\": 206044.23375, \"symbol\": \"circle\"}, \"mode\": \"markers\", \"name\": \"GMB\", \"orientation\": \"v\", \"showlegend\": true, \"type\": \"scatter\", \"x\": [752.7497265], \"xaxis\": \"x\", \"y\": [59.448], \"yaxis\": \"y\"}, {\"hovertemplate\": \"<b>%{hovertext}</b><br><br>iso_alpha=DEU<br>gdpPercap=%{x}<br>lifeExp=%{y}<br>pop=%{marker.size}<extra></extra>\", \"hovertext\": [\"Germany\"], \"legendgroup\": \"DEU\", \"marker\": {\"color\": \"#B6E880\", \"size\": [82400996], \"sizemode\": \"area\", \"sizeref\": 206044.23375, \"symbol\": \"circle\"}, \"mode\": \"markers\", \"name\": \"DEU\", \"orientation\": \"v\", \"showlegend\": true, \"type\": \"scatter\", \"x\": [32170.37442], \"xaxis\": \"x\", \"y\": [79.406], \"yaxis\": \"y\"}, {\"hovertemplate\": \"<b>%{hovertext}</b><br><br>iso_alpha=GHA<br>gdpPercap=%{x}<br>lifeExp=%{y}<br>pop=%{marker.size}<extra></extra>\", \"hovertext\": [\"Ghana\"], \"legendgroup\": \"GHA\", \"marker\": {\"color\": \"#FF97FF\", \"size\": [22873338], \"sizemode\": \"area\", \"sizeref\": 206044.23375, \"symbol\": \"circle\"}, \"mode\": \"markers\", \"name\": \"GHA\", \"orientation\": \"v\", \"showlegend\": true, \"type\": \"scatter\", \"x\": [1327.60891], \"xaxis\": \"x\", \"y\": [60.022], \"yaxis\": \"y\"}, {\"hovertemplate\": \"<b>%{hovertext}</b><br><br>iso_alpha=GRC<br>gdpPercap=%{x}<br>lifeExp=%{y}<br>pop=%{marker.size}<extra></extra>\", \"hovertext\": [\"Greece\"], \"legendgroup\": \"GRC\", \"marker\": {\"color\": \"#FECB52\", \"size\": [10706290], \"sizemode\": \"area\", \"sizeref\": 206044.23375, \"symbol\": \"circle\"}, \"mode\": \"markers\", \"name\": \"GRC\", \"orientation\": \"v\", \"showlegend\": true, \"type\": \"scatter\", \"x\": [27538.41188], \"xaxis\": \"x\", \"y\": [79.483], \"yaxis\": \"y\"}, {\"hovertemplate\": \"<b>%{hovertext}</b><br><br>iso_alpha=GTM<br>gdpPercap=%{x}<br>lifeExp=%{y}<br>pop=%{marker.size}<extra></extra>\", \"hovertext\": [\"Guatemala\"], \"legendgroup\": \"GTM\", \"marker\": {\"color\": \"#636efa\", \"size\": [12572928], \"sizemode\": \"area\", \"sizeref\": 206044.23375, \"symbol\": \"circle\"}, \"mode\": \"markers\", \"name\": \"GTM\", \"orientation\": \"v\", \"showlegend\": true, \"type\": \"scatter\", \"x\": [5186.050003], \"xaxis\": \"x\", \"y\": [70.259], \"yaxis\": \"y\"}, {\"hovertemplate\": \"<b>%{hovertext}</b><br><br>iso_alpha=GIN<br>gdpPercap=%{x}<br>lifeExp=%{y}<br>pop=%{marker.size}<extra></extra>\", \"hovertext\": [\"Guinea\"], \"legendgroup\": \"GIN\", \"marker\": {\"color\": \"#EF553B\", \"size\": [9947814], \"sizemode\": \"area\", \"sizeref\": 206044.23375, \"symbol\": \"circle\"}, \"mode\": \"markers\", \"name\": \"GIN\", \"orientation\": \"v\", \"showlegend\": true, \"type\": \"scatter\", \"x\": [942.6542111], \"xaxis\": \"x\", \"y\": [56.007], \"yaxis\": \"y\"}, {\"hovertemplate\": \"<b>%{hovertext}</b><br><br>iso_alpha=GNB<br>gdpPercap=%{x}<br>lifeExp=%{y}<br>pop=%{marker.size}<extra></extra>\", \"hovertext\": [\"Guinea-Bissau\"], \"legendgroup\": \"GNB\", \"marker\": {\"color\": \"#00cc96\", \"size\": [1472041], \"sizemode\": \"area\", \"sizeref\": 206044.23375, \"symbol\": \"circle\"}, \"mode\": \"markers\", \"name\": \"GNB\", \"orientation\": \"v\", \"showlegend\": true, \"type\": \"scatter\", \"x\": [579.2317429999999], \"xaxis\": \"x\", \"y\": [46.388000000000005], \"yaxis\": \"y\"}, {\"hovertemplate\": \"<b>%{hovertext}</b><br><br>iso_alpha=HTI<br>gdpPercap=%{x}<br>lifeExp=%{y}<br>pop=%{marker.size}<extra></extra>\", \"hovertext\": [\"Haiti\"], \"legendgroup\": \"HTI\", \"marker\": {\"color\": \"#ab63fa\", \"size\": [8502814], \"sizemode\": \"area\", \"sizeref\": 206044.23375, \"symbol\": \"circle\"}, \"mode\": \"markers\", \"name\": \"HTI\", \"orientation\": \"v\", \"showlegend\": true, \"type\": \"scatter\", \"x\": [1201.637154], \"xaxis\": \"x\", \"y\": [60.916000000000004], \"yaxis\": \"y\"}, {\"hovertemplate\": \"<b>%{hovertext}</b><br><br>iso_alpha=HND<br>gdpPercap=%{x}<br>lifeExp=%{y}<br>pop=%{marker.size}<extra></extra>\", \"hovertext\": [\"Honduras\"], \"legendgroup\": \"HND\", \"marker\": {\"color\": \"#FFA15A\", \"size\": [7483763], \"sizemode\": \"area\", \"sizeref\": 206044.23375, \"symbol\": \"circle\"}, \"mode\": \"markers\", \"name\": \"HND\", \"orientation\": \"v\", \"showlegend\": true, \"type\": \"scatter\", \"x\": [3548.3308460000003], \"xaxis\": \"x\", \"y\": [70.19800000000001], \"yaxis\": \"y\"}, {\"hovertemplate\": \"<b>%{hovertext}</b><br><br>iso_alpha=HKG<br>gdpPercap=%{x}<br>lifeExp=%{y}<br>pop=%{marker.size}<extra></extra>\", \"hovertext\": [\"Hong Kong, China\"], \"legendgroup\": \"HKG\", \"marker\": {\"color\": \"#19d3f3\", \"size\": [6980412], \"sizemode\": \"area\", \"sizeref\": 206044.23375, \"symbol\": \"circle\"}, \"mode\": \"markers\", \"name\": \"HKG\", \"orientation\": \"v\", \"showlegend\": true, \"type\": \"scatter\", \"x\": [39724.97867], \"xaxis\": \"x\", \"y\": [82.208], \"yaxis\": \"y\"}, {\"hovertemplate\": \"<b>%{hovertext}</b><br><br>iso_alpha=HUN<br>gdpPercap=%{x}<br>lifeExp=%{y}<br>pop=%{marker.size}<extra></extra>\", \"hovertext\": [\"Hungary\"], \"legendgroup\": \"HUN\", \"marker\": {\"color\": \"#FF6692\", \"size\": [9956108], \"sizemode\": \"area\", \"sizeref\": 206044.23375, \"symbol\": \"circle\"}, \"mode\": \"markers\", \"name\": \"HUN\", \"orientation\": \"v\", \"showlegend\": true, \"type\": \"scatter\", \"x\": [18008.94444], \"xaxis\": \"x\", \"y\": [73.33800000000001], \"yaxis\": \"y\"}, {\"hovertemplate\": \"<b>%{hovertext}</b><br><br>iso_alpha=ISL<br>gdpPercap=%{x}<br>lifeExp=%{y}<br>pop=%{marker.size}<extra></extra>\", \"hovertext\": [\"Iceland\"], \"legendgroup\": \"ISL\", \"marker\": {\"color\": \"#B6E880\", \"size\": [301931], \"sizemode\": \"area\", \"sizeref\": 206044.23375, \"symbol\": \"circle\"}, \"mode\": \"markers\", \"name\": \"ISL\", \"orientation\": \"v\", \"showlegend\": true, \"type\": \"scatter\", \"x\": [36180.789189999996], \"xaxis\": \"x\", \"y\": [81.757], \"yaxis\": \"y\"}, {\"hovertemplate\": \"<b>%{hovertext}</b><br><br>iso_alpha=IND<br>gdpPercap=%{x}<br>lifeExp=%{y}<br>pop=%{marker.size}<extra></extra>\", \"hovertext\": [\"India\"], \"legendgroup\": \"IND\", \"marker\": {\"color\": \"#FF97FF\", \"size\": [1110396331], \"sizemode\": \"area\", \"sizeref\": 206044.23375, \"symbol\": \"circle\"}, \"mode\": \"markers\", \"name\": \"IND\", \"orientation\": \"v\", \"showlegend\": true, \"type\": \"scatter\", \"x\": [2452.210407], \"xaxis\": \"x\", \"y\": [64.69800000000001], \"yaxis\": \"y\"}, {\"hovertemplate\": \"<b>%{hovertext}</b><br><br>iso_alpha=IDN<br>gdpPercap=%{x}<br>lifeExp=%{y}<br>pop=%{marker.size}<extra></extra>\", \"hovertext\": [\"Indonesia\"], \"legendgroup\": \"IDN\", \"marker\": {\"color\": \"#FECB52\", \"size\": [223547000], \"sizemode\": \"area\", \"sizeref\": 206044.23375, \"symbol\": \"circle\"}, \"mode\": \"markers\", \"name\": \"IDN\", \"orientation\": \"v\", \"showlegend\": true, \"type\": \"scatter\", \"x\": [3540.6515640000002], \"xaxis\": \"x\", \"y\": [70.65], \"yaxis\": \"y\"}, {\"hovertemplate\": \"<b>%{hovertext}</b><br><br>iso_alpha=IRN<br>gdpPercap=%{x}<br>lifeExp=%{y}<br>pop=%{marker.size}<extra></extra>\", \"hovertext\": [\"Iran\"], \"legendgroup\": \"IRN\", \"marker\": {\"color\": \"#636efa\", \"size\": [69453570], \"sizemode\": \"area\", \"sizeref\": 206044.23375, \"symbol\": \"circle\"}, \"mode\": \"markers\", \"name\": \"IRN\", \"orientation\": \"v\", \"showlegend\": true, \"type\": \"scatter\", \"x\": [11605.71449], \"xaxis\": \"x\", \"y\": [70.964], \"yaxis\": \"y\"}, {\"hovertemplate\": \"<b>%{hovertext}</b><br><br>iso_alpha=IRQ<br>gdpPercap=%{x}<br>lifeExp=%{y}<br>pop=%{marker.size}<extra></extra>\", \"hovertext\": [\"Iraq\"], \"legendgroup\": \"IRQ\", \"marker\": {\"color\": \"#EF553B\", \"size\": [27499638], \"sizemode\": \"area\", \"sizeref\": 206044.23375, \"symbol\": \"circle\"}, \"mode\": \"markers\", \"name\": \"IRQ\", \"orientation\": \"v\", \"showlegend\": true, \"type\": \"scatter\", \"x\": [4471.061906], \"xaxis\": \"x\", \"y\": [59.545], \"yaxis\": \"y\"}, {\"hovertemplate\": \"<b>%{hovertext}</b><br><br>iso_alpha=IRL<br>gdpPercap=%{x}<br>lifeExp=%{y}<br>pop=%{marker.size}<extra></extra>\", \"hovertext\": [\"Ireland\"], \"legendgroup\": \"IRL\", \"marker\": {\"color\": \"#00cc96\", \"size\": [4109086], \"sizemode\": \"area\", \"sizeref\": 206044.23375, \"symbol\": \"circle\"}, \"mode\": \"markers\", \"name\": \"IRL\", \"orientation\": \"v\", \"showlegend\": true, \"type\": \"scatter\", \"x\": [40675.99635], \"xaxis\": \"x\", \"y\": [78.885], \"yaxis\": \"y\"}, {\"hovertemplate\": \"<b>%{hovertext}</b><br><br>iso_alpha=ISR<br>gdpPercap=%{x}<br>lifeExp=%{y}<br>pop=%{marker.size}<extra></extra>\", \"hovertext\": [\"Israel\"], \"legendgroup\": \"ISR\", \"marker\": {\"color\": \"#ab63fa\", \"size\": [6426679], \"sizemode\": \"area\", \"sizeref\": 206044.23375, \"symbol\": \"circle\"}, \"mode\": \"markers\", \"name\": \"ISR\", \"orientation\": \"v\", \"showlegend\": true, \"type\": \"scatter\", \"x\": [25523.2771], \"xaxis\": \"x\", \"y\": [80.745], \"yaxis\": \"y\"}, {\"hovertemplate\": \"<b>%{hovertext}</b><br><br>iso_alpha=ITA<br>gdpPercap=%{x}<br>lifeExp=%{y}<br>pop=%{marker.size}<extra></extra>\", \"hovertext\": [\"Italy\"], \"legendgroup\": \"ITA\", \"marker\": {\"color\": \"#FFA15A\", \"size\": [58147733], \"sizemode\": \"area\", \"sizeref\": 206044.23375, \"symbol\": \"circle\"}, \"mode\": \"markers\", \"name\": \"ITA\", \"orientation\": \"v\", \"showlegend\": true, \"type\": \"scatter\", \"x\": [28569.7197], \"xaxis\": \"x\", \"y\": [80.546], \"yaxis\": \"y\"}, {\"hovertemplate\": \"<b>%{hovertext}</b><br><br>iso_alpha=JAM<br>gdpPercap=%{x}<br>lifeExp=%{y}<br>pop=%{marker.size}<extra></extra>\", \"hovertext\": [\"Jamaica\"], \"legendgroup\": \"JAM\", \"marker\": {\"color\": \"#19d3f3\", \"size\": [2780132], \"sizemode\": \"area\", \"sizeref\": 206044.23375, \"symbol\": \"circle\"}, \"mode\": \"markers\", \"name\": \"JAM\", \"orientation\": \"v\", \"showlegend\": true, \"type\": \"scatter\", \"x\": [7320.880262000001], \"xaxis\": \"x\", \"y\": [72.567], \"yaxis\": \"y\"}, {\"hovertemplate\": \"<b>%{hovertext}</b><br><br>iso_alpha=JPN<br>gdpPercap=%{x}<br>lifeExp=%{y}<br>pop=%{marker.size}<extra></extra>\", \"hovertext\": [\"Japan\"], \"legendgroup\": \"JPN\", \"marker\": {\"color\": \"#FF6692\", \"size\": [127467972], \"sizemode\": \"area\", \"sizeref\": 206044.23375, \"symbol\": \"circle\"}, \"mode\": \"markers\", \"name\": \"JPN\", \"orientation\": \"v\", \"showlegend\": true, \"type\": \"scatter\", \"x\": [31656.06806], \"xaxis\": \"x\", \"y\": [82.603], \"yaxis\": \"y\"}, {\"hovertemplate\": \"<b>%{hovertext}</b><br><br>iso_alpha=JOR<br>gdpPercap=%{x}<br>lifeExp=%{y}<br>pop=%{marker.size}<extra></extra>\", \"hovertext\": [\"Jordan\"], \"legendgroup\": \"JOR\", \"marker\": {\"color\": \"#B6E880\", \"size\": [6053193], \"sizemode\": \"area\", \"sizeref\": 206044.23375, \"symbol\": \"circle\"}, \"mode\": \"markers\", \"name\": \"JOR\", \"orientation\": \"v\", \"showlegend\": true, \"type\": \"scatter\", \"x\": [4519.461171], \"xaxis\": \"x\", \"y\": [72.535], \"yaxis\": \"y\"}, {\"hovertemplate\": \"<b>%{hovertext}</b><br><br>iso_alpha=KEN<br>gdpPercap=%{x}<br>lifeExp=%{y}<br>pop=%{marker.size}<extra></extra>\", \"hovertext\": [\"Kenya\"], \"legendgroup\": \"KEN\", \"marker\": {\"color\": \"#FF97FF\", \"size\": [35610177], \"sizemode\": \"area\", \"sizeref\": 206044.23375, \"symbol\": \"circle\"}, \"mode\": \"markers\", \"name\": \"KEN\", \"orientation\": \"v\", \"showlegend\": true, \"type\": \"scatter\", \"x\": [1463.249282], \"xaxis\": \"x\", \"y\": [54.11], \"yaxis\": \"y\"}, {\"hovertemplate\": \"<b>%{hovertext}</b><br><br>iso_alpha=KOR<br>gdpPercap=%{x}<br>lifeExp=%{y}<br>pop=%{marker.size}<extra></extra>\", \"hovertext\": [\"Korea, Dem. Rep.\", \"Korea, Rep.\"], \"legendgroup\": \"KOR\", \"marker\": {\"color\": \"#FECB52\", \"size\": [23301725, 49044790], \"sizemode\": \"area\", \"sizeref\": 206044.23375, \"symbol\": \"circle\"}, \"mode\": \"markers\", \"name\": \"KOR\", \"orientation\": \"v\", \"showlegend\": true, \"type\": \"scatter\", \"x\": [1593.06548, 23348.139730000003], \"xaxis\": \"x\", \"y\": [67.297, 78.623], \"yaxis\": \"y\"}, {\"hovertemplate\": \"<b>%{hovertext}</b><br><br>iso_alpha=KWT<br>gdpPercap=%{x}<br>lifeExp=%{y}<br>pop=%{marker.size}<extra></extra>\", \"hovertext\": [\"Kuwait\"], \"legendgroup\": \"KWT\", \"marker\": {\"color\": \"#636efa\", \"size\": [2505559], \"sizemode\": \"area\", \"sizeref\": 206044.23375, \"symbol\": \"circle\"}, \"mode\": \"markers\", \"name\": \"KWT\", \"orientation\": \"v\", \"showlegend\": true, \"type\": \"scatter\", \"x\": [47306.98978], \"xaxis\": \"x\", \"y\": [77.58800000000001], \"yaxis\": \"y\"}, {\"hovertemplate\": \"<b>%{hovertext}</b><br><br>iso_alpha=LBN<br>gdpPercap=%{x}<br>lifeExp=%{y}<br>pop=%{marker.size}<extra></extra>\", \"hovertext\": [\"Lebanon\"], \"legendgroup\": \"LBN\", \"marker\": {\"color\": \"#EF553B\", \"size\": [3921278], \"sizemode\": \"area\", \"sizeref\": 206044.23375, \"symbol\": \"circle\"}, \"mode\": \"markers\", \"name\": \"LBN\", \"orientation\": \"v\", \"showlegend\": true, \"type\": \"scatter\", \"x\": [10461.05868], \"xaxis\": \"x\", \"y\": [71.993], \"yaxis\": \"y\"}, {\"hovertemplate\": \"<b>%{hovertext}</b><br><br>iso_alpha=LSO<br>gdpPercap=%{x}<br>lifeExp=%{y}<br>pop=%{marker.size}<extra></extra>\", \"hovertext\": [\"Lesotho\"], \"legendgroup\": \"LSO\", \"marker\": {\"color\": \"#00cc96\", \"size\": [2012649], \"sizemode\": \"area\", \"sizeref\": 206044.23375, \"symbol\": \"circle\"}, \"mode\": \"markers\", \"name\": \"LSO\", \"orientation\": \"v\", \"showlegend\": true, \"type\": \"scatter\", \"x\": [1569.331442], \"xaxis\": \"x\", \"y\": [42.592], \"yaxis\": \"y\"}, {\"hovertemplate\": \"<b>%{hovertext}</b><br><br>iso_alpha=LBR<br>gdpPercap=%{x}<br>lifeExp=%{y}<br>pop=%{marker.size}<extra></extra>\", \"hovertext\": [\"Liberia\"], \"legendgroup\": \"LBR\", \"marker\": {\"color\": \"#ab63fa\", \"size\": [3193942], \"sizemode\": \"area\", \"sizeref\": 206044.23375, \"symbol\": \"circle\"}, \"mode\": \"markers\", \"name\": \"LBR\", \"orientation\": \"v\", \"showlegend\": true, \"type\": \"scatter\", \"x\": [414.5073415], \"xaxis\": \"x\", \"y\": [45.678000000000004], \"yaxis\": \"y\"}, {\"hovertemplate\": \"<b>%{hovertext}</b><br><br>iso_alpha=LBY<br>gdpPercap=%{x}<br>lifeExp=%{y}<br>pop=%{marker.size}<extra></extra>\", \"hovertext\": [\"Libya\"], \"legendgroup\": \"LBY\", \"marker\": {\"color\": \"#FFA15A\", \"size\": [6036914], \"sizemode\": \"area\", \"sizeref\": 206044.23375, \"symbol\": \"circle\"}, \"mode\": \"markers\", \"name\": \"LBY\", \"orientation\": \"v\", \"showlegend\": true, \"type\": \"scatter\", \"x\": [12057.49928], \"xaxis\": \"x\", \"y\": [73.952], \"yaxis\": \"y\"}, {\"hovertemplate\": \"<b>%{hovertext}</b><br><br>iso_alpha=MDG<br>gdpPercap=%{x}<br>lifeExp=%{y}<br>pop=%{marker.size}<extra></extra>\", \"hovertext\": [\"Madagascar\"], \"legendgroup\": \"MDG\", \"marker\": {\"color\": \"#19d3f3\", \"size\": [19167654], \"sizemode\": \"area\", \"sizeref\": 206044.23375, \"symbol\": \"circle\"}, \"mode\": \"markers\", \"name\": \"MDG\", \"orientation\": \"v\", \"showlegend\": true, \"type\": \"scatter\", \"x\": [1044.770126], \"xaxis\": \"x\", \"y\": [59.443000000000005], \"yaxis\": \"y\"}, {\"hovertemplate\": \"<b>%{hovertext}</b><br><br>iso_alpha=MWI<br>gdpPercap=%{x}<br>lifeExp=%{y}<br>pop=%{marker.size}<extra></extra>\", \"hovertext\": [\"Malawi\"], \"legendgroup\": \"MWI\", \"marker\": {\"color\": \"#FF6692\", \"size\": [13327079], \"sizemode\": \"area\", \"sizeref\": 206044.23375, \"symbol\": \"circle\"}, \"mode\": \"markers\", \"name\": \"MWI\", \"orientation\": \"v\", \"showlegend\": true, \"type\": \"scatter\", \"x\": [759.3499101], \"xaxis\": \"x\", \"y\": [48.303000000000004], \"yaxis\": \"y\"}, {\"hovertemplate\": \"<b>%{hovertext}</b><br><br>iso_alpha=MYS<br>gdpPercap=%{x}<br>lifeExp=%{y}<br>pop=%{marker.size}<extra></extra>\", \"hovertext\": [\"Malaysia\"], \"legendgroup\": \"MYS\", \"marker\": {\"color\": \"#B6E880\", \"size\": [24821286], \"sizemode\": \"area\", \"sizeref\": 206044.23375, \"symbol\": \"circle\"}, \"mode\": \"markers\", \"name\": \"MYS\", \"orientation\": \"v\", \"showlegend\": true, \"type\": \"scatter\", \"x\": [12451.6558], \"xaxis\": \"x\", \"y\": [74.241], \"yaxis\": \"y\"}, {\"hovertemplate\": \"<b>%{hovertext}</b><br><br>iso_alpha=MLI<br>gdpPercap=%{x}<br>lifeExp=%{y}<br>pop=%{marker.size}<extra></extra>\", \"hovertext\": [\"Mali\"], \"legendgroup\": \"MLI\", \"marker\": {\"color\": \"#FF97FF\", \"size\": [12031795], \"sizemode\": \"area\", \"sizeref\": 206044.23375, \"symbol\": \"circle\"}, \"mode\": \"markers\", \"name\": \"MLI\", \"orientation\": \"v\", \"showlegend\": true, \"type\": \"scatter\", \"x\": [1042.581557], \"xaxis\": \"x\", \"y\": [54.467], \"yaxis\": \"y\"}, {\"hovertemplate\": \"<b>%{hovertext}</b><br><br>iso_alpha=MRT<br>gdpPercap=%{x}<br>lifeExp=%{y}<br>pop=%{marker.size}<extra></extra>\", \"hovertext\": [\"Mauritania\"], \"legendgroup\": \"MRT\", \"marker\": {\"color\": \"#FECB52\", \"size\": [3270065], \"sizemode\": \"area\", \"sizeref\": 206044.23375, \"symbol\": \"circle\"}, \"mode\": \"markers\", \"name\": \"MRT\", \"orientation\": \"v\", \"showlegend\": true, \"type\": \"scatter\", \"x\": [1803.1514960000002], \"xaxis\": \"x\", \"y\": [64.164], \"yaxis\": \"y\"}, {\"hovertemplate\": \"<b>%{hovertext}</b><br><br>iso_alpha=MUS<br>gdpPercap=%{x}<br>lifeExp=%{y}<br>pop=%{marker.size}<extra></extra>\", \"hovertext\": [\"Mauritius\"], \"legendgroup\": \"MUS\", \"marker\": {\"color\": \"#636efa\", \"size\": [1250882], \"sizemode\": \"area\", \"sizeref\": 206044.23375, \"symbol\": \"circle\"}, \"mode\": \"markers\", \"name\": \"MUS\", \"orientation\": \"v\", \"showlegend\": true, \"type\": \"scatter\", \"x\": [10956.99112], \"xaxis\": \"x\", \"y\": [72.801], \"yaxis\": \"y\"}, {\"hovertemplate\": \"<b>%{hovertext}</b><br><br>iso_alpha=MEX<br>gdpPercap=%{x}<br>lifeExp=%{y}<br>pop=%{marker.size}<extra></extra>\", \"hovertext\": [\"Mexico\"], \"legendgroup\": \"MEX\", \"marker\": {\"color\": \"#EF553B\", \"size\": [108700891], \"sizemode\": \"area\", \"sizeref\": 206044.23375, \"symbol\": \"circle\"}, \"mode\": \"markers\", \"name\": \"MEX\", \"orientation\": \"v\", \"showlegend\": true, \"type\": \"scatter\", \"x\": [11977.57496], \"xaxis\": \"x\", \"y\": [76.195], \"yaxis\": \"y\"}, {\"hovertemplate\": \"<b>%{hovertext}</b><br><br>iso_alpha=MNG<br>gdpPercap=%{x}<br>lifeExp=%{y}<br>pop=%{marker.size}<extra></extra>\", \"hovertext\": [\"Mongolia\"], \"legendgroup\": \"MNG\", \"marker\": {\"color\": \"#00cc96\", \"size\": [2874127], \"sizemode\": \"area\", \"sizeref\": 206044.23375, \"symbol\": \"circle\"}, \"mode\": \"markers\", \"name\": \"MNG\", \"orientation\": \"v\", \"showlegend\": true, \"type\": \"scatter\", \"x\": [3095.7722710000003], \"xaxis\": \"x\", \"y\": [66.803], \"yaxis\": \"y\"}, {\"hovertemplate\": \"<b>%{hovertext}</b><br><br>iso_alpha=MNE<br>gdpPercap=%{x}<br>lifeExp=%{y}<br>pop=%{marker.size}<extra></extra>\", \"hovertext\": [\"Montenegro\"], \"legendgroup\": \"MNE\", \"marker\": {\"color\": \"#ab63fa\", \"size\": [684736], \"sizemode\": \"area\", \"sizeref\": 206044.23375, \"symbol\": \"circle\"}, \"mode\": \"markers\", \"name\": \"MNE\", \"orientation\": \"v\", \"showlegend\": true, \"type\": \"scatter\", \"x\": [9253.896111], \"xaxis\": \"x\", \"y\": [74.543], \"yaxis\": \"y\"}, {\"hovertemplate\": \"<b>%{hovertext}</b><br><br>iso_alpha=MAR<br>gdpPercap=%{x}<br>lifeExp=%{y}<br>pop=%{marker.size}<extra></extra>\", \"hovertext\": [\"Morocco\"], \"legendgroup\": \"MAR\", \"marker\": {\"color\": \"#FFA15A\", \"size\": [33757175], \"sizemode\": \"area\", \"sizeref\": 206044.23375, \"symbol\": \"circle\"}, \"mode\": \"markers\", \"name\": \"MAR\", \"orientation\": \"v\", \"showlegend\": true, \"type\": \"scatter\", \"x\": [3820.17523], \"xaxis\": \"x\", \"y\": [71.164], \"yaxis\": \"y\"}, {\"hovertemplate\": \"<b>%{hovertext}</b><br><br>iso_alpha=MOZ<br>gdpPercap=%{x}<br>lifeExp=%{y}<br>pop=%{marker.size}<extra></extra>\", \"hovertext\": [\"Mozambique\"], \"legendgroup\": \"MOZ\", \"marker\": {\"color\": \"#19d3f3\", \"size\": [19951656], \"sizemode\": \"area\", \"sizeref\": 206044.23375, \"symbol\": \"circle\"}, \"mode\": \"markers\", \"name\": \"MOZ\", \"orientation\": \"v\", \"showlegend\": true, \"type\": \"scatter\", \"x\": [823.6856205], \"xaxis\": \"x\", \"y\": [42.082], \"yaxis\": \"y\"}, {\"hovertemplate\": \"<b>%{hovertext}</b><br><br>iso_alpha=MMR<br>gdpPercap=%{x}<br>lifeExp=%{y}<br>pop=%{marker.size}<extra></extra>\", \"hovertext\": [\"Myanmar\"], \"legendgroup\": \"MMR\", \"marker\": {\"color\": \"#FF6692\", \"size\": [47761980], \"sizemode\": \"area\", \"sizeref\": 206044.23375, \"symbol\": \"circle\"}, \"mode\": \"markers\", \"name\": \"MMR\", \"orientation\": \"v\", \"showlegend\": true, \"type\": \"scatter\", \"x\": [944.0], \"xaxis\": \"x\", \"y\": [62.068999999999996], \"yaxis\": \"y\"}, {\"hovertemplate\": \"<b>%{hovertext}</b><br><br>iso_alpha=NAM<br>gdpPercap=%{x}<br>lifeExp=%{y}<br>pop=%{marker.size}<extra></extra>\", \"hovertext\": [\"Namibia\"], \"legendgroup\": \"NAM\", \"marker\": {\"color\": \"#B6E880\", \"size\": [2055080], \"sizemode\": \"area\", \"sizeref\": 206044.23375, \"symbol\": \"circle\"}, \"mode\": \"markers\", \"name\": \"NAM\", \"orientation\": \"v\", \"showlegend\": true, \"type\": \"scatter\", \"x\": [4811.060429], \"xaxis\": \"x\", \"y\": [52.906000000000006], \"yaxis\": \"y\"}, {\"hovertemplate\": \"<b>%{hovertext}</b><br><br>iso_alpha=NPL<br>gdpPercap=%{x}<br>lifeExp=%{y}<br>pop=%{marker.size}<extra></extra>\", \"hovertext\": [\"Nepal\"], \"legendgroup\": \"NPL\", \"marker\": {\"color\": \"#FF97FF\", \"size\": [28901790], \"sizemode\": \"area\", \"sizeref\": 206044.23375, \"symbol\": \"circle\"}, \"mode\": \"markers\", \"name\": \"NPL\", \"orientation\": \"v\", \"showlegend\": true, \"type\": \"scatter\", \"x\": [1091.359778], \"xaxis\": \"x\", \"y\": [63.785], \"yaxis\": \"y\"}, {\"hovertemplate\": \"<b>%{hovertext}</b><br><br>iso_alpha=NLD<br>gdpPercap=%{x}<br>lifeExp=%{y}<br>pop=%{marker.size}<extra></extra>\", \"hovertext\": [\"Netherlands\"], \"legendgroup\": \"NLD\", \"marker\": {\"color\": \"#FECB52\", \"size\": [16570613], \"sizemode\": \"area\", \"sizeref\": 206044.23375, \"symbol\": \"circle\"}, \"mode\": \"markers\", \"name\": \"NLD\", \"orientation\": \"v\", \"showlegend\": true, \"type\": \"scatter\", \"x\": [36797.93332], \"xaxis\": \"x\", \"y\": [79.762], \"yaxis\": \"y\"}, {\"hovertemplate\": \"<b>%{hovertext}</b><br><br>iso_alpha=NZL<br>gdpPercap=%{x}<br>lifeExp=%{y}<br>pop=%{marker.size}<extra></extra>\", \"hovertext\": [\"New Zealand\"], \"legendgroup\": \"NZL\", \"marker\": {\"color\": \"#636efa\", \"size\": [4115771], \"sizemode\": \"area\", \"sizeref\": 206044.23375, \"symbol\": \"circle\"}, \"mode\": \"markers\", \"name\": \"NZL\", \"orientation\": \"v\", \"showlegend\": true, \"type\": \"scatter\", \"x\": [25185.00911], \"xaxis\": \"x\", \"y\": [80.204], \"yaxis\": \"y\"}, {\"hovertemplate\": \"<b>%{hovertext}</b><br><br>iso_alpha=NIC<br>gdpPercap=%{x}<br>lifeExp=%{y}<br>pop=%{marker.size}<extra></extra>\", \"hovertext\": [\"Nicaragua\"], \"legendgroup\": \"NIC\", \"marker\": {\"color\": \"#EF553B\", \"size\": [5675356], \"sizemode\": \"area\", \"sizeref\": 206044.23375, \"symbol\": \"circle\"}, \"mode\": \"markers\", \"name\": \"NIC\", \"orientation\": \"v\", \"showlegend\": true, \"type\": \"scatter\", \"x\": [2749.320965], \"xaxis\": \"x\", \"y\": [72.899], \"yaxis\": \"y\"}, {\"hovertemplate\": \"<b>%{hovertext}</b><br><br>iso_alpha=NER<br>gdpPercap=%{x}<br>lifeExp=%{y}<br>pop=%{marker.size}<extra></extra>\", \"hovertext\": [\"Niger\"], \"legendgroup\": \"NER\", \"marker\": {\"color\": \"#00cc96\", \"size\": [12894865], \"sizemode\": \"area\", \"sizeref\": 206044.23375, \"symbol\": \"circle\"}, \"mode\": \"markers\", \"name\": \"NER\", \"orientation\": \"v\", \"showlegend\": true, \"type\": \"scatter\", \"x\": [619.6768923999999], \"xaxis\": \"x\", \"y\": [56.867], \"yaxis\": \"y\"}, {\"hovertemplate\": \"<b>%{hovertext}</b><br><br>iso_alpha=NGA<br>gdpPercap=%{x}<br>lifeExp=%{y}<br>pop=%{marker.size}<extra></extra>\", \"hovertext\": [\"Nigeria\"], \"legendgroup\": \"NGA\", \"marker\": {\"color\": \"#ab63fa\", \"size\": [135031164], \"sizemode\": \"area\", \"sizeref\": 206044.23375, \"symbol\": \"circle\"}, \"mode\": \"markers\", \"name\": \"NGA\", \"orientation\": \"v\", \"showlegend\": true, \"type\": \"scatter\", \"x\": [2013.9773050000001], \"xaxis\": \"x\", \"y\": [46.858999999999995], \"yaxis\": \"y\"}, {\"hovertemplate\": \"<b>%{hovertext}</b><br><br>iso_alpha=NOR<br>gdpPercap=%{x}<br>lifeExp=%{y}<br>pop=%{marker.size}<extra></extra>\", \"hovertext\": [\"Norway\"], \"legendgroup\": \"NOR\", \"marker\": {\"color\": \"#FFA15A\", \"size\": [4627926], \"sizemode\": \"area\", \"sizeref\": 206044.23375, \"symbol\": \"circle\"}, \"mode\": \"markers\", \"name\": \"NOR\", \"orientation\": \"v\", \"showlegend\": true, \"type\": \"scatter\", \"x\": [49357.19017], \"xaxis\": \"x\", \"y\": [80.196], \"yaxis\": \"y\"}, {\"hovertemplate\": \"<b>%{hovertext}</b><br><br>iso_alpha=OMN<br>gdpPercap=%{x}<br>lifeExp=%{y}<br>pop=%{marker.size}<extra></extra>\", \"hovertext\": [\"Oman\"], \"legendgroup\": \"OMN\", \"marker\": {\"color\": \"#19d3f3\", \"size\": [3204897], \"sizemode\": \"area\", \"sizeref\": 206044.23375, \"symbol\": \"circle\"}, \"mode\": \"markers\", \"name\": \"OMN\", \"orientation\": \"v\", \"showlegend\": true, \"type\": \"scatter\", \"x\": [22316.19287], \"xaxis\": \"x\", \"y\": [75.64], \"yaxis\": \"y\"}, {\"hovertemplate\": \"<b>%{hovertext}</b><br><br>iso_alpha=PAK<br>gdpPercap=%{x}<br>lifeExp=%{y}<br>pop=%{marker.size}<extra></extra>\", \"hovertext\": [\"Pakistan\"], \"legendgroup\": \"PAK\", \"marker\": {\"color\": \"#FF6692\", \"size\": [169270617], \"sizemode\": \"area\", \"sizeref\": 206044.23375, \"symbol\": \"circle\"}, \"mode\": \"markers\", \"name\": \"PAK\", \"orientation\": \"v\", \"showlegend\": true, \"type\": \"scatter\", \"x\": [2605.94758], \"xaxis\": \"x\", \"y\": [65.483], \"yaxis\": \"y\"}, {\"hovertemplate\": \"<b>%{hovertext}</b><br><br>iso_alpha=PAN<br>gdpPercap=%{x}<br>lifeExp=%{y}<br>pop=%{marker.size}<extra></extra>\", \"hovertext\": [\"Panama\"], \"legendgroup\": \"PAN\", \"marker\": {\"color\": \"#B6E880\", \"size\": [3242173], \"sizemode\": \"area\", \"sizeref\": 206044.23375, \"symbol\": \"circle\"}, \"mode\": \"markers\", \"name\": \"PAN\", \"orientation\": \"v\", \"showlegend\": true, \"type\": \"scatter\", \"x\": [9809.185636], \"xaxis\": \"x\", \"y\": [75.53699999999999], \"yaxis\": \"y\"}, {\"hovertemplate\": \"<b>%{hovertext}</b><br><br>iso_alpha=PRY<br>gdpPercap=%{x}<br>lifeExp=%{y}<br>pop=%{marker.size}<extra></extra>\", \"hovertext\": [\"Paraguay\"], \"legendgroup\": \"PRY\", \"marker\": {\"color\": \"#FF97FF\", \"size\": [6667147], \"sizemode\": \"area\", \"sizeref\": 206044.23375, \"symbol\": \"circle\"}, \"mode\": \"markers\", \"name\": \"PRY\", \"orientation\": \"v\", \"showlegend\": true, \"type\": \"scatter\", \"x\": [4172.838464], \"xaxis\": \"x\", \"y\": [71.752], \"yaxis\": \"y\"}, {\"hovertemplate\": \"<b>%{hovertext}</b><br><br>iso_alpha=PER<br>gdpPercap=%{x}<br>lifeExp=%{y}<br>pop=%{marker.size}<extra></extra>\", \"hovertext\": [\"Peru\"], \"legendgroup\": \"PER\", \"marker\": {\"color\": \"#FECB52\", \"size\": [28674757], \"sizemode\": \"area\", \"sizeref\": 206044.23375, \"symbol\": \"circle\"}, \"mode\": \"markers\", \"name\": \"PER\", \"orientation\": \"v\", \"showlegend\": true, \"type\": \"scatter\", \"x\": [7408.905561], \"xaxis\": \"x\", \"y\": [71.421], \"yaxis\": \"y\"}, {\"hovertemplate\": \"<b>%{hovertext}</b><br><br>iso_alpha=PHL<br>gdpPercap=%{x}<br>lifeExp=%{y}<br>pop=%{marker.size}<extra></extra>\", \"hovertext\": [\"Philippines\"], \"legendgroup\": \"PHL\", \"marker\": {\"color\": \"#636efa\", \"size\": [91077287], \"sizemode\": \"area\", \"sizeref\": 206044.23375, \"symbol\": \"circle\"}, \"mode\": \"markers\", \"name\": \"PHL\", \"orientation\": \"v\", \"showlegend\": true, \"type\": \"scatter\", \"x\": [3190.481016], \"xaxis\": \"x\", \"y\": [71.688], \"yaxis\": \"y\"}, {\"hovertemplate\": \"<b>%{hovertext}</b><br><br>iso_alpha=POL<br>gdpPercap=%{x}<br>lifeExp=%{y}<br>pop=%{marker.size}<extra></extra>\", \"hovertext\": [\"Poland\"], \"legendgroup\": \"POL\", \"marker\": {\"color\": \"#EF553B\", \"size\": [38518241], \"sizemode\": \"area\", \"sizeref\": 206044.23375, \"symbol\": \"circle\"}, \"mode\": \"markers\", \"name\": \"POL\", \"orientation\": \"v\", \"showlegend\": true, \"type\": \"scatter\", \"x\": [15389.924680000002], \"xaxis\": \"x\", \"y\": [75.563], \"yaxis\": \"y\"}, {\"hovertemplate\": \"<b>%{hovertext}</b><br><br>iso_alpha=PRT<br>gdpPercap=%{x}<br>lifeExp=%{y}<br>pop=%{marker.size}<extra></extra>\", \"hovertext\": [\"Portugal\"], \"legendgroup\": \"PRT\", \"marker\": {\"color\": \"#00cc96\", \"size\": [10642836], \"sizemode\": \"area\", \"sizeref\": 206044.23375, \"symbol\": \"circle\"}, \"mode\": \"markers\", \"name\": \"PRT\", \"orientation\": \"v\", \"showlegend\": true, \"type\": \"scatter\", \"x\": [20509.64777], \"xaxis\": \"x\", \"y\": [78.098], \"yaxis\": \"y\"}, {\"hovertemplate\": \"<b>%{hovertext}</b><br><br>iso_alpha=PRI<br>gdpPercap=%{x}<br>lifeExp=%{y}<br>pop=%{marker.size}<extra></extra>\", \"hovertext\": [\"Puerto Rico\"], \"legendgroup\": \"PRI\", \"marker\": {\"color\": \"#ab63fa\", \"size\": [3942491], \"sizemode\": \"area\", \"sizeref\": 206044.23375, \"symbol\": \"circle\"}, \"mode\": \"markers\", \"name\": \"PRI\", \"orientation\": \"v\", \"showlegend\": true, \"type\": \"scatter\", \"x\": [19328.70901], \"xaxis\": \"x\", \"y\": [78.74600000000001], \"yaxis\": \"y\"}, {\"hovertemplate\": \"<b>%{hovertext}</b><br><br>iso_alpha=REU<br>gdpPercap=%{x}<br>lifeExp=%{y}<br>pop=%{marker.size}<extra></extra>\", \"hovertext\": [\"Reunion\"], \"legendgroup\": \"REU\", \"marker\": {\"color\": \"#FFA15A\", \"size\": [798094], \"sizemode\": \"area\", \"sizeref\": 206044.23375, \"symbol\": \"circle\"}, \"mode\": \"markers\", \"name\": \"REU\", \"orientation\": \"v\", \"showlegend\": true, \"type\": \"scatter\", \"x\": [7670.122558], \"xaxis\": \"x\", \"y\": [76.442], \"yaxis\": \"y\"}, {\"hovertemplate\": \"<b>%{hovertext}</b><br><br>iso_alpha=ROU<br>gdpPercap=%{x}<br>lifeExp=%{y}<br>pop=%{marker.size}<extra></extra>\", \"hovertext\": [\"Romania\"], \"legendgroup\": \"ROU\", \"marker\": {\"color\": \"#19d3f3\", \"size\": [22276056], \"sizemode\": \"area\", \"sizeref\": 206044.23375, \"symbol\": \"circle\"}, \"mode\": \"markers\", \"name\": \"ROU\", \"orientation\": \"v\", \"showlegend\": true, \"type\": \"scatter\", \"x\": [10808.47561], \"xaxis\": \"x\", \"y\": [72.476], \"yaxis\": \"y\"}, {\"hovertemplate\": \"<b>%{hovertext}</b><br><br>iso_alpha=RWA<br>gdpPercap=%{x}<br>lifeExp=%{y}<br>pop=%{marker.size}<extra></extra>\", \"hovertext\": [\"Rwanda\"], \"legendgroup\": \"RWA\", \"marker\": {\"color\": \"#FF6692\", \"size\": [8860588], \"sizemode\": \"area\", \"sizeref\": 206044.23375, \"symbol\": \"circle\"}, \"mode\": \"markers\", \"name\": \"RWA\", \"orientation\": \"v\", \"showlegend\": true, \"type\": \"scatter\", \"x\": [863.0884639000001], \"xaxis\": \"x\", \"y\": [46.242], \"yaxis\": \"y\"}, {\"hovertemplate\": \"<b>%{hovertext}</b><br><br>iso_alpha=STP<br>gdpPercap=%{x}<br>lifeExp=%{y}<br>pop=%{marker.size}<extra></extra>\", \"hovertext\": [\"Sao Tome and Principe\"], \"legendgroup\": \"STP\", \"marker\": {\"color\": \"#B6E880\", \"size\": [199579], \"sizemode\": \"area\", \"sizeref\": 206044.23375, \"symbol\": \"circle\"}, \"mode\": \"markers\", \"name\": \"STP\", \"orientation\": \"v\", \"showlegend\": true, \"type\": \"scatter\", \"x\": [1598.435089], \"xaxis\": \"x\", \"y\": [65.528], \"yaxis\": \"y\"}, {\"hovertemplate\": \"<b>%{hovertext}</b><br><br>iso_alpha=SAU<br>gdpPercap=%{x}<br>lifeExp=%{y}<br>pop=%{marker.size}<extra></extra>\", \"hovertext\": [\"Saudi Arabia\"], \"legendgroup\": \"SAU\", \"marker\": {\"color\": \"#FF97FF\", \"size\": [27601038], \"sizemode\": \"area\", \"sizeref\": 206044.23375, \"symbol\": \"circle\"}, \"mode\": \"markers\", \"name\": \"SAU\", \"orientation\": \"v\", \"showlegend\": true, \"type\": \"scatter\", \"x\": [21654.83194], \"xaxis\": \"x\", \"y\": [72.777], \"yaxis\": \"y\"}, {\"hovertemplate\": \"<b>%{hovertext}</b><br><br>iso_alpha=SEN<br>gdpPercap=%{x}<br>lifeExp=%{y}<br>pop=%{marker.size}<extra></extra>\", \"hovertext\": [\"Senegal\"], \"legendgroup\": \"SEN\", \"marker\": {\"color\": \"#FECB52\", \"size\": [12267493], \"sizemode\": \"area\", \"sizeref\": 206044.23375, \"symbol\": \"circle\"}, \"mode\": \"markers\", \"name\": \"SEN\", \"orientation\": \"v\", \"showlegend\": true, \"type\": \"scatter\", \"x\": [1712.4721359999999], \"xaxis\": \"x\", \"y\": [63.062], \"yaxis\": \"y\"}, {\"hovertemplate\": \"<b>%{hovertext}</b><br><br>iso_alpha=SRB<br>gdpPercap=%{x}<br>lifeExp=%{y}<br>pop=%{marker.size}<extra></extra>\", \"hovertext\": [\"Serbia\"], \"legendgroup\": \"SRB\", \"marker\": {\"color\": \"#636efa\", \"size\": [10150265], \"sizemode\": \"area\", \"sizeref\": 206044.23375, \"symbol\": \"circle\"}, \"mode\": \"markers\", \"name\": \"SRB\", \"orientation\": \"v\", \"showlegend\": true, \"type\": \"scatter\", \"x\": [9786.534714], \"xaxis\": \"x\", \"y\": [74.002], \"yaxis\": \"y\"}, {\"hovertemplate\": \"<b>%{hovertext}</b><br><br>iso_alpha=SLE<br>gdpPercap=%{x}<br>lifeExp=%{y}<br>pop=%{marker.size}<extra></extra>\", \"hovertext\": [\"Sierra Leone\"], \"legendgroup\": \"SLE\", \"marker\": {\"color\": \"#EF553B\", \"size\": [6144562], \"sizemode\": \"area\", \"sizeref\": 206044.23375, \"symbol\": \"circle\"}, \"mode\": \"markers\", \"name\": \"SLE\", \"orientation\": \"v\", \"showlegend\": true, \"type\": \"scatter\", \"x\": [862.5407561000001], \"xaxis\": \"x\", \"y\": [42.568000000000005], \"yaxis\": \"y\"}, {\"hovertemplate\": \"<b>%{hovertext}</b><br><br>iso_alpha=SGP<br>gdpPercap=%{x}<br>lifeExp=%{y}<br>pop=%{marker.size}<extra></extra>\", \"hovertext\": [\"Singapore\"], \"legendgroup\": \"SGP\", \"marker\": {\"color\": \"#00cc96\", \"size\": [4553009], \"sizemode\": \"area\", \"sizeref\": 206044.23375, \"symbol\": \"circle\"}, \"mode\": \"markers\", \"name\": \"SGP\", \"orientation\": \"v\", \"showlegend\": true, \"type\": \"scatter\", \"x\": [47143.179639999995], \"xaxis\": \"x\", \"y\": [79.972], \"yaxis\": \"y\"}, {\"hovertemplate\": \"<b>%{hovertext}</b><br><br>iso_alpha=SVK<br>gdpPercap=%{x}<br>lifeExp=%{y}<br>pop=%{marker.size}<extra></extra>\", \"hovertext\": [\"Slovak Republic\"], \"legendgroup\": \"SVK\", \"marker\": {\"color\": \"#ab63fa\", \"size\": [5447502], \"sizemode\": \"area\", \"sizeref\": 206044.23375, \"symbol\": \"circle\"}, \"mode\": \"markers\", \"name\": \"SVK\", \"orientation\": \"v\", \"showlegend\": true, \"type\": \"scatter\", \"x\": [18678.31435], \"xaxis\": \"x\", \"y\": [74.663], \"yaxis\": \"y\"}, {\"hovertemplate\": \"<b>%{hovertext}</b><br><br>iso_alpha=SVN<br>gdpPercap=%{x}<br>lifeExp=%{y}<br>pop=%{marker.size}<extra></extra>\", \"hovertext\": [\"Slovenia\"], \"legendgroup\": \"SVN\", \"marker\": {\"color\": \"#FFA15A\", \"size\": [2009245], \"sizemode\": \"area\", \"sizeref\": 206044.23375, \"symbol\": \"circle\"}, \"mode\": \"markers\", \"name\": \"SVN\", \"orientation\": \"v\", \"showlegend\": true, \"type\": \"scatter\", \"x\": [25768.25759], \"xaxis\": \"x\", \"y\": [77.926], \"yaxis\": \"y\"}, {\"hovertemplate\": \"<b>%{hovertext}</b><br><br>iso_alpha=SOM<br>gdpPercap=%{x}<br>lifeExp=%{y}<br>pop=%{marker.size}<extra></extra>\", \"hovertext\": [\"Somalia\"], \"legendgroup\": \"SOM\", \"marker\": {\"color\": \"#19d3f3\", \"size\": [9118773], \"sizemode\": \"area\", \"sizeref\": 206044.23375, \"symbol\": \"circle\"}, \"mode\": \"markers\", \"name\": \"SOM\", \"orientation\": \"v\", \"showlegend\": true, \"type\": \"scatter\", \"x\": [926.1410683], \"xaxis\": \"x\", \"y\": [48.159], \"yaxis\": \"y\"}, {\"hovertemplate\": \"<b>%{hovertext}</b><br><br>iso_alpha=ZAF<br>gdpPercap=%{x}<br>lifeExp=%{y}<br>pop=%{marker.size}<extra></extra>\", \"hovertext\": [\"South Africa\"], \"legendgroup\": \"ZAF\", \"marker\": {\"color\": \"#FF6692\", \"size\": [43997828], \"sizemode\": \"area\", \"sizeref\": 206044.23375, \"symbol\": \"circle\"}, \"mode\": \"markers\", \"name\": \"ZAF\", \"orientation\": \"v\", \"showlegend\": true, \"type\": \"scatter\", \"x\": [9269.657808], \"xaxis\": \"x\", \"y\": [49.339], \"yaxis\": \"y\"}, {\"hovertemplate\": \"<b>%{hovertext}</b><br><br>iso_alpha=ESP<br>gdpPercap=%{x}<br>lifeExp=%{y}<br>pop=%{marker.size}<extra></extra>\", \"hovertext\": [\"Spain\"], \"legendgroup\": \"ESP\", \"marker\": {\"color\": \"#B6E880\", \"size\": [40448191], \"sizemode\": \"area\", \"sizeref\": 206044.23375, \"symbol\": \"circle\"}, \"mode\": \"markers\", \"name\": \"ESP\", \"orientation\": \"v\", \"showlegend\": true, \"type\": \"scatter\", \"x\": [28821.0637], \"xaxis\": \"x\", \"y\": [80.941], \"yaxis\": \"y\"}, {\"hovertemplate\": \"<b>%{hovertext}</b><br><br>iso_alpha=LKA<br>gdpPercap=%{x}<br>lifeExp=%{y}<br>pop=%{marker.size}<extra></extra>\", \"hovertext\": [\"Sri Lanka\"], \"legendgroup\": \"LKA\", \"marker\": {\"color\": \"#FF97FF\", \"size\": [20378239], \"sizemode\": \"area\", \"sizeref\": 206044.23375, \"symbol\": \"circle\"}, \"mode\": \"markers\", \"name\": \"LKA\", \"orientation\": \"v\", \"showlegend\": true, \"type\": \"scatter\", \"x\": [3970.0954070000003], \"xaxis\": \"x\", \"y\": [72.396], \"yaxis\": \"y\"}, {\"hovertemplate\": \"<b>%{hovertext}</b><br><br>iso_alpha=SDN<br>gdpPercap=%{x}<br>lifeExp=%{y}<br>pop=%{marker.size}<extra></extra>\", \"hovertext\": [\"Sudan\"], \"legendgroup\": \"SDN\", \"marker\": {\"color\": \"#FECB52\", \"size\": [42292929], \"sizemode\": \"area\", \"sizeref\": 206044.23375, \"symbol\": \"circle\"}, \"mode\": \"markers\", \"name\": \"SDN\", \"orientation\": \"v\", \"showlegend\": true, \"type\": \"scatter\", \"x\": [2602.394995], \"xaxis\": \"x\", \"y\": [58.556000000000004], \"yaxis\": \"y\"}, {\"hovertemplate\": \"<b>%{hovertext}</b><br><br>iso_alpha=SWZ<br>gdpPercap=%{x}<br>lifeExp=%{y}<br>pop=%{marker.size}<extra></extra>\", \"hovertext\": [\"Swaziland\"], \"legendgroup\": \"SWZ\", \"marker\": {\"color\": \"#636efa\", \"size\": [1133066], \"sizemode\": \"area\", \"sizeref\": 206044.23375, \"symbol\": \"circle\"}, \"mode\": \"markers\", \"name\": \"SWZ\", \"orientation\": \"v\", \"showlegend\": true, \"type\": \"scatter\", \"x\": [4513.480643], \"xaxis\": \"x\", \"y\": [39.613], \"yaxis\": \"y\"}, {\"hovertemplate\": \"<b>%{hovertext}</b><br><br>iso_alpha=SWE<br>gdpPercap=%{x}<br>lifeExp=%{y}<br>pop=%{marker.size}<extra></extra>\", \"hovertext\": [\"Sweden\"], \"legendgroup\": \"SWE\", \"marker\": {\"color\": \"#EF553B\", \"size\": [9031088], \"sizemode\": \"area\", \"sizeref\": 206044.23375, \"symbol\": \"circle\"}, \"mode\": \"markers\", \"name\": \"SWE\", \"orientation\": \"v\", \"showlegend\": true, \"type\": \"scatter\", \"x\": [33859.74835], \"xaxis\": \"x\", \"y\": [80.884], \"yaxis\": \"y\"}, {\"hovertemplate\": \"<b>%{hovertext}</b><br><br>iso_alpha=CHE<br>gdpPercap=%{x}<br>lifeExp=%{y}<br>pop=%{marker.size}<extra></extra>\", \"hovertext\": [\"Switzerland\"], \"legendgroup\": \"CHE\", \"marker\": {\"color\": \"#00cc96\", \"size\": [7554661], \"sizemode\": \"area\", \"sizeref\": 206044.23375, \"symbol\": \"circle\"}, \"mode\": \"markers\", \"name\": \"CHE\", \"orientation\": \"v\", \"showlegend\": true, \"type\": \"scatter\", \"x\": [37506.419069999996], \"xaxis\": \"x\", \"y\": [81.70100000000001], \"yaxis\": \"y\"}, {\"hovertemplate\": \"<b>%{hovertext}</b><br><br>iso_alpha=SYR<br>gdpPercap=%{x}<br>lifeExp=%{y}<br>pop=%{marker.size}<extra></extra>\", \"hovertext\": [\"Syria\"], \"legendgroup\": \"SYR\", \"marker\": {\"color\": \"#ab63fa\", \"size\": [19314747], \"sizemode\": \"area\", \"sizeref\": 206044.23375, \"symbol\": \"circle\"}, \"mode\": \"markers\", \"name\": \"SYR\", \"orientation\": \"v\", \"showlegend\": true, \"type\": \"scatter\", \"x\": [4184.548089], \"xaxis\": \"x\", \"y\": [74.143], \"yaxis\": \"y\"}, {\"hovertemplate\": \"<b>%{hovertext}</b><br><br>iso_alpha=TWN<br>gdpPercap=%{x}<br>lifeExp=%{y}<br>pop=%{marker.size}<extra></extra>\", \"hovertext\": [\"Taiwan\"], \"legendgroup\": \"TWN\", \"marker\": {\"color\": \"#FFA15A\", \"size\": [23174294], \"sizemode\": \"area\", \"sizeref\": 206044.23375, \"symbol\": \"circle\"}, \"mode\": \"markers\", \"name\": \"TWN\", \"orientation\": \"v\", \"showlegend\": true, \"type\": \"scatter\", \"x\": [28718.27684], \"xaxis\": \"x\", \"y\": [78.4], \"yaxis\": \"y\"}, {\"hovertemplate\": \"<b>%{hovertext}</b><br><br>iso_alpha=TZA<br>gdpPercap=%{x}<br>lifeExp=%{y}<br>pop=%{marker.size}<extra></extra>\", \"hovertext\": [\"Tanzania\"], \"legendgroup\": \"TZA\", \"marker\": {\"color\": \"#19d3f3\", \"size\": [38139640], \"sizemode\": \"area\", \"sizeref\": 206044.23375, \"symbol\": \"circle\"}, \"mode\": \"markers\", \"name\": \"TZA\", \"orientation\": \"v\", \"showlegend\": true, \"type\": \"scatter\", \"x\": [1107.482182], \"xaxis\": \"x\", \"y\": [52.516999999999996], \"yaxis\": \"y\"}, {\"hovertemplate\": \"<b>%{hovertext}</b><br><br>iso_alpha=THA<br>gdpPercap=%{x}<br>lifeExp=%{y}<br>pop=%{marker.size}<extra></extra>\", \"hovertext\": [\"Thailand\"], \"legendgroup\": \"THA\", \"marker\": {\"color\": \"#FF6692\", \"size\": [65068149], \"sizemode\": \"area\", \"sizeref\": 206044.23375, \"symbol\": \"circle\"}, \"mode\": \"markers\", \"name\": \"THA\", \"orientation\": \"v\", \"showlegend\": true, \"type\": \"scatter\", \"x\": [7458.3963269999995], \"xaxis\": \"x\", \"y\": [70.616], \"yaxis\": \"y\"}, {\"hovertemplate\": \"<b>%{hovertext}</b><br><br>iso_alpha=TGO<br>gdpPercap=%{x}<br>lifeExp=%{y}<br>pop=%{marker.size}<extra></extra>\", \"hovertext\": [\"Togo\"], \"legendgroup\": \"TGO\", \"marker\": {\"color\": \"#B6E880\", \"size\": [5701579], \"sizemode\": \"area\", \"sizeref\": 206044.23375, \"symbol\": \"circle\"}, \"mode\": \"markers\", \"name\": \"TGO\", \"orientation\": \"v\", \"showlegend\": true, \"type\": \"scatter\", \"x\": [882.9699437999999], \"xaxis\": \"x\", \"y\": [58.42], \"yaxis\": \"y\"}, {\"hovertemplate\": \"<b>%{hovertext}</b><br><br>iso_alpha=TTO<br>gdpPercap=%{x}<br>lifeExp=%{y}<br>pop=%{marker.size}<extra></extra>\", \"hovertext\": [\"Trinidad and Tobago\"], \"legendgroup\": \"TTO\", \"marker\": {\"color\": \"#FF97FF\", \"size\": [1056608], \"sizemode\": \"area\", \"sizeref\": 206044.23375, \"symbol\": \"circle\"}, \"mode\": \"markers\", \"name\": \"TTO\", \"orientation\": \"v\", \"showlegend\": true, \"type\": \"scatter\", \"x\": [18008.50924], \"xaxis\": \"x\", \"y\": [69.819], \"yaxis\": \"y\"}, {\"hovertemplate\": \"<b>%{hovertext}</b><br><br>iso_alpha=TUN<br>gdpPercap=%{x}<br>lifeExp=%{y}<br>pop=%{marker.size}<extra></extra>\", \"hovertext\": [\"Tunisia\"], \"legendgroup\": \"TUN\", \"marker\": {\"color\": \"#FECB52\", \"size\": [10276158], \"sizemode\": \"area\", \"sizeref\": 206044.23375, \"symbol\": \"circle\"}, \"mode\": \"markers\", \"name\": \"TUN\", \"orientation\": \"v\", \"showlegend\": true, \"type\": \"scatter\", \"x\": [7092.923025], \"xaxis\": \"x\", \"y\": [73.923], \"yaxis\": \"y\"}, {\"hovertemplate\": \"<b>%{hovertext}</b><br><br>iso_alpha=TUR<br>gdpPercap=%{x}<br>lifeExp=%{y}<br>pop=%{marker.size}<extra></extra>\", \"hovertext\": [\"Turkey\"], \"legendgroup\": \"TUR\", \"marker\": {\"color\": \"#636efa\", \"size\": [71158647], \"sizemode\": \"area\", \"sizeref\": 206044.23375, \"symbol\": \"circle\"}, \"mode\": \"markers\", \"name\": \"TUR\", \"orientation\": \"v\", \"showlegend\": true, \"type\": \"scatter\", \"x\": [8458.276384], \"xaxis\": \"x\", \"y\": [71.777], \"yaxis\": \"y\"}, {\"hovertemplate\": \"<b>%{hovertext}</b><br><br>iso_alpha=UGA<br>gdpPercap=%{x}<br>lifeExp=%{y}<br>pop=%{marker.size}<extra></extra>\", \"hovertext\": [\"Uganda\"], \"legendgroup\": \"UGA\", \"marker\": {\"color\": \"#EF553B\", \"size\": [29170398], \"sizemode\": \"area\", \"sizeref\": 206044.23375, \"symbol\": \"circle\"}, \"mode\": \"markers\", \"name\": \"UGA\", \"orientation\": \"v\", \"showlegend\": true, \"type\": \"scatter\", \"x\": [1056.3801210000001], \"xaxis\": \"x\", \"y\": [51.542], \"yaxis\": \"y\"}, {\"hovertemplate\": \"<b>%{hovertext}</b><br><br>iso_alpha=GBR<br>gdpPercap=%{x}<br>lifeExp=%{y}<br>pop=%{marker.size}<extra></extra>\", \"hovertext\": [\"United Kingdom\"], \"legendgroup\": \"GBR\", \"marker\": {\"color\": \"#00cc96\", \"size\": [60776238], \"sizemode\": \"area\", \"sizeref\": 206044.23375, \"symbol\": \"circle\"}, \"mode\": \"markers\", \"name\": \"GBR\", \"orientation\": \"v\", \"showlegend\": true, \"type\": \"scatter\", \"x\": [33203.26128], \"xaxis\": \"x\", \"y\": [79.425], \"yaxis\": \"y\"}, {\"hovertemplate\": \"<b>%{hovertext}</b><br><br>iso_alpha=USA<br>gdpPercap=%{x}<br>lifeExp=%{y}<br>pop=%{marker.size}<extra></extra>\", \"hovertext\": [\"United States\"], \"legendgroup\": \"USA\", \"marker\": {\"color\": \"#ab63fa\", \"size\": [301139947], \"sizemode\": \"area\", \"sizeref\": 206044.23375, \"symbol\": \"circle\"}, \"mode\": \"markers\", \"name\": \"USA\", \"orientation\": \"v\", \"showlegend\": true, \"type\": \"scatter\", \"x\": [42951.65309], \"xaxis\": \"x\", \"y\": [78.242], \"yaxis\": \"y\"}, {\"hovertemplate\": \"<b>%{hovertext}</b><br><br>iso_alpha=URY<br>gdpPercap=%{x}<br>lifeExp=%{y}<br>pop=%{marker.size}<extra></extra>\", \"hovertext\": [\"Uruguay\"], \"legendgroup\": \"URY\", \"marker\": {\"color\": \"#FFA15A\", \"size\": [3447496], \"sizemode\": \"area\", \"sizeref\": 206044.23375, \"symbol\": \"circle\"}, \"mode\": \"markers\", \"name\": \"URY\", \"orientation\": \"v\", \"showlegend\": true, \"type\": \"scatter\", \"x\": [10611.46299], \"xaxis\": \"x\", \"y\": [76.384], \"yaxis\": \"y\"}, {\"hovertemplate\": \"<b>%{hovertext}</b><br><br>iso_alpha=VEN<br>gdpPercap=%{x}<br>lifeExp=%{y}<br>pop=%{marker.size}<extra></extra>\", \"hovertext\": [\"Venezuela\"], \"legendgroup\": \"VEN\", \"marker\": {\"color\": \"#19d3f3\", \"size\": [26084662], \"sizemode\": \"area\", \"sizeref\": 206044.23375, \"symbol\": \"circle\"}, \"mode\": \"markers\", \"name\": \"VEN\", \"orientation\": \"v\", \"showlegend\": true, \"type\": \"scatter\", \"x\": [11415.805690000001], \"xaxis\": \"x\", \"y\": [73.747], \"yaxis\": \"y\"}, {\"hovertemplate\": \"<b>%{hovertext}</b><br><br>iso_alpha=VNM<br>gdpPercap=%{x}<br>lifeExp=%{y}<br>pop=%{marker.size}<extra></extra>\", \"hovertext\": [\"Vietnam\"], \"legendgroup\": \"VNM\", \"marker\": {\"color\": \"#FF6692\", \"size\": [85262356], \"sizemode\": \"area\", \"sizeref\": 206044.23375, \"symbol\": \"circle\"}, \"mode\": \"markers\", \"name\": \"VNM\", \"orientation\": \"v\", \"showlegend\": true, \"type\": \"scatter\", \"x\": [2441.576404], \"xaxis\": \"x\", \"y\": [74.249], \"yaxis\": \"y\"}, {\"hovertemplate\": \"<b>%{hovertext}</b><br><br>iso_alpha=PSE<br>gdpPercap=%{x}<br>lifeExp=%{y}<br>pop=%{marker.size}<extra></extra>\", \"hovertext\": [\"West Bank and Gaza\"], \"legendgroup\": \"PSE\", \"marker\": {\"color\": \"#B6E880\", \"size\": [4018332], \"sizemode\": \"area\", \"sizeref\": 206044.23375, \"symbol\": \"circle\"}, \"mode\": \"markers\", \"name\": \"PSE\", \"orientation\": \"v\", \"showlegend\": true, \"type\": \"scatter\", \"x\": [3025.349798], \"xaxis\": \"x\", \"y\": [73.422], \"yaxis\": \"y\"}, {\"hovertemplate\": \"<b>%{hovertext}</b><br><br>iso_alpha=YEM<br>gdpPercap=%{x}<br>lifeExp=%{y}<br>pop=%{marker.size}<extra></extra>\", \"hovertext\": [\"Yemen, Rep.\"], \"legendgroup\": \"YEM\", \"marker\": {\"color\": \"#FF97FF\", \"size\": [22211743], \"sizemode\": \"area\", \"sizeref\": 206044.23375, \"symbol\": \"circle\"}, \"mode\": \"markers\", \"name\": \"YEM\", \"orientation\": \"v\", \"showlegend\": true, \"type\": \"scatter\", \"x\": [2280.769906], \"xaxis\": \"x\", \"y\": [62.698], \"yaxis\": \"y\"}, {\"hovertemplate\": \"<b>%{hovertext}</b><br><br>iso_alpha=ZMB<br>gdpPercap=%{x}<br>lifeExp=%{y}<br>pop=%{marker.size}<extra></extra>\", \"hovertext\": [\"Zambia\"], \"legendgroup\": \"ZMB\", \"marker\": {\"color\": \"#FECB52\", \"size\": [11746035], \"sizemode\": \"area\", \"sizeref\": 206044.23375, \"symbol\": \"circle\"}, \"mode\": \"markers\", \"name\": \"ZMB\", \"orientation\": \"v\", \"showlegend\": true, \"type\": \"scatter\", \"x\": [1271.211593], \"xaxis\": \"x\", \"y\": [42.38399999999999], \"yaxis\": \"y\"}, {\"hovertemplate\": \"<b>%{hovertext}</b><br><br>iso_alpha=ZWE<br>gdpPercap=%{x}<br>lifeExp=%{y}<br>pop=%{marker.size}<extra></extra>\", \"hovertext\": [\"Zimbabwe\"], \"legendgroup\": \"ZWE\", \"marker\": {\"color\": \"#636efa\", \"size\": [12311143], \"sizemode\": \"area\", \"sizeref\": 206044.23375, \"symbol\": \"circle\"}, \"mode\": \"markers\", \"name\": \"ZWE\", \"orientation\": \"v\", \"showlegend\": true, \"type\": \"scatter\", \"x\": [469.70929810000007], \"xaxis\": \"x\", \"y\": [43.486999999999995], \"yaxis\": \"y\"}],\n",
       "                        {\"legend\": {\"itemsizing\": \"constant\", \"title\": {\"text\": \"iso_alpha\"}, \"tracegroupgap\": 0}, \"margin\": {\"t\": 60}, \"paper_bgcolor\": \"rgb(243,243,243)\", \"plot_bgcolor\": \"rgb(500,500,500)\", \"template\": {\"data\": {\"bar\": [{\"error_x\": {\"color\": \"#2a3f5f\"}, \"error_y\": {\"color\": \"#2a3f5f\"}, \"marker\": {\"line\": {\"color\": \"#E5ECF6\", \"width\": 0.5}}, \"type\": \"bar\"}], \"barpolar\": [{\"marker\": {\"line\": {\"color\": \"#E5ECF6\", \"width\": 0.5}}, \"type\": \"barpolar\"}], \"carpet\": [{\"aaxis\": {\"endlinecolor\": \"#2a3f5f\", \"gridcolor\": \"white\", \"linecolor\": \"white\", \"minorgridcolor\": \"white\", \"startlinecolor\": \"#2a3f5f\"}, \"baxis\": {\"endlinecolor\": \"#2a3f5f\", \"gridcolor\": \"white\", \"linecolor\": \"white\", \"minorgridcolor\": \"white\", \"startlinecolor\": \"#2a3f5f\"}, \"type\": \"carpet\"}], \"choropleth\": [{\"colorbar\": {\"outlinewidth\": 0, \"ticks\": \"\"}, \"type\": \"choropleth\"}], \"contour\": [{\"colorbar\": {\"outlinewidth\": 0, \"ticks\": \"\"}, \"colorscale\": [[0.0, \"#0d0887\"], [0.1111111111111111, \"#46039f\"], [0.2222222222222222, \"#7201a8\"], [0.3333333333333333, \"#9c179e\"], [0.4444444444444444, \"#bd3786\"], [0.5555555555555556, \"#d8576b\"], [0.6666666666666666, \"#ed7953\"], [0.7777777777777778, \"#fb9f3a\"], [0.8888888888888888, \"#fdca26\"], [1.0, \"#f0f921\"]], \"type\": \"contour\"}], \"contourcarpet\": [{\"colorbar\": {\"outlinewidth\": 0, \"ticks\": \"\"}, \"type\": \"contourcarpet\"}], \"heatmap\": [{\"colorbar\": {\"outlinewidth\": 0, \"ticks\": \"\"}, \"colorscale\": [[0.0, \"#0d0887\"], [0.1111111111111111, \"#46039f\"], [0.2222222222222222, \"#7201a8\"], [0.3333333333333333, \"#9c179e\"], [0.4444444444444444, \"#bd3786\"], [0.5555555555555556, \"#d8576b\"], [0.6666666666666666, \"#ed7953\"], [0.7777777777777778, \"#fb9f3a\"], [0.8888888888888888, \"#fdca26\"], [1.0, \"#f0f921\"]], \"type\": \"heatmap\"}], \"heatmapgl\": [{\"colorbar\": {\"outlinewidth\": 0, \"ticks\": \"\"}, \"colorscale\": [[0.0, \"#0d0887\"], [0.1111111111111111, \"#46039f\"], [0.2222222222222222, \"#7201a8\"], [0.3333333333333333, \"#9c179e\"], [0.4444444444444444, \"#bd3786\"], [0.5555555555555556, \"#d8576b\"], [0.6666666666666666, \"#ed7953\"], [0.7777777777777778, \"#fb9f3a\"], [0.8888888888888888, \"#fdca26\"], [1.0, \"#f0f921\"]], \"type\": \"heatmapgl\"}], \"histogram\": [{\"marker\": {\"colorbar\": {\"outlinewidth\": 0, \"ticks\": \"\"}}, \"type\": \"histogram\"}], \"histogram2d\": [{\"colorbar\": {\"outlinewidth\": 0, \"ticks\": \"\"}, \"colorscale\": [[0.0, \"#0d0887\"], [0.1111111111111111, \"#46039f\"], [0.2222222222222222, \"#7201a8\"], [0.3333333333333333, \"#9c179e\"], [0.4444444444444444, \"#bd3786\"], [0.5555555555555556, \"#d8576b\"], [0.6666666666666666, \"#ed7953\"], [0.7777777777777778, \"#fb9f3a\"], [0.8888888888888888, \"#fdca26\"], [1.0, \"#f0f921\"]], \"type\": \"histogram2d\"}], \"histogram2dcontour\": [{\"colorbar\": {\"outlinewidth\": 0, \"ticks\": \"\"}, \"colorscale\": [[0.0, \"#0d0887\"], [0.1111111111111111, \"#46039f\"], [0.2222222222222222, \"#7201a8\"], [0.3333333333333333, \"#9c179e\"], [0.4444444444444444, \"#bd3786\"], [0.5555555555555556, \"#d8576b\"], [0.6666666666666666, \"#ed7953\"], [0.7777777777777778, \"#fb9f3a\"], [0.8888888888888888, \"#fdca26\"], [1.0, \"#f0f921\"]], \"type\": \"histogram2dcontour\"}], \"mesh3d\": [{\"colorbar\": {\"outlinewidth\": 0, \"ticks\": \"\"}, \"type\": \"mesh3d\"}], \"parcoords\": [{\"line\": {\"colorbar\": {\"outlinewidth\": 0, \"ticks\": \"\"}}, \"type\": \"parcoords\"}], \"pie\": [{\"automargin\": true, \"type\": \"pie\"}], \"scatter\": [{\"marker\": {\"colorbar\": {\"outlinewidth\": 0, \"ticks\": \"\"}}, \"type\": \"scatter\"}], \"scatter3d\": [{\"line\": {\"colorbar\": {\"outlinewidth\": 0, \"ticks\": \"\"}}, \"marker\": {\"colorbar\": {\"outlinewidth\": 0, \"ticks\": \"\"}}, \"type\": \"scatter3d\"}], \"scattercarpet\": [{\"marker\": {\"colorbar\": {\"outlinewidth\": 0, \"ticks\": \"\"}}, \"type\": \"scattercarpet\"}], \"scattergeo\": [{\"marker\": {\"colorbar\": {\"outlinewidth\": 0, \"ticks\": \"\"}}, \"type\": \"scattergeo\"}], \"scattergl\": [{\"marker\": {\"colorbar\": {\"outlinewidth\": 0, \"ticks\": \"\"}}, \"type\": \"scattergl\"}], \"scattermapbox\": [{\"marker\": {\"colorbar\": {\"outlinewidth\": 0, \"ticks\": \"\"}}, \"type\": \"scattermapbox\"}], \"scatterpolar\": [{\"marker\": {\"colorbar\": {\"outlinewidth\": 0, \"ticks\": \"\"}}, \"type\": \"scatterpolar\"}], \"scatterpolargl\": [{\"marker\": {\"colorbar\": {\"outlinewidth\": 0, \"ticks\": \"\"}}, \"type\": \"scatterpolargl\"}], \"scatterternary\": [{\"marker\": {\"colorbar\": {\"outlinewidth\": 0, \"ticks\": \"\"}}, \"type\": \"scatterternary\"}], \"surface\": [{\"colorbar\": {\"outlinewidth\": 0, \"ticks\": \"\"}, \"colorscale\": [[0.0, \"#0d0887\"], [0.1111111111111111, \"#46039f\"], [0.2222222222222222, \"#7201a8\"], [0.3333333333333333, \"#9c179e\"], [0.4444444444444444, \"#bd3786\"], [0.5555555555555556, \"#d8576b\"], [0.6666666666666666, \"#ed7953\"], [0.7777777777777778, \"#fb9f3a\"], [0.8888888888888888, \"#fdca26\"], [1.0, \"#f0f921\"]], \"type\": \"surface\"}], \"table\": [{\"cells\": {\"fill\": {\"color\": \"#EBF0F8\"}, \"line\": {\"color\": \"white\"}}, \"header\": {\"fill\": {\"color\": \"#C8D4E3\"}, \"line\": {\"color\": \"white\"}}, \"type\": \"table\"}]}, \"layout\": {\"annotationdefaults\": {\"arrowcolor\": \"#2a3f5f\", \"arrowhead\": 0, \"arrowwidth\": 1}, \"coloraxis\": {\"colorbar\": {\"outlinewidth\": 0, \"ticks\": \"\"}}, \"colorscale\": {\"diverging\": [[0, \"#8e0152\"], [0.1, \"#c51b7d\"], [0.2, \"#de77ae\"], [0.3, \"#f1b6da\"], [0.4, \"#fde0ef\"], [0.5, \"#f7f7f7\"], [0.6, \"#e6f5d0\"], [0.7, \"#b8e186\"], [0.8, \"#7fbc41\"], [0.9, \"#4d9221\"], [1, \"#276419\"]], \"sequential\": [[0.0, \"#0d0887\"], [0.1111111111111111, \"#46039f\"], [0.2222222222222222, \"#7201a8\"], [0.3333333333333333, \"#9c179e\"], [0.4444444444444444, \"#bd3786\"], [0.5555555555555556, \"#d8576b\"], [0.6666666666666666, \"#ed7953\"], [0.7777777777777778, \"#fb9f3a\"], [0.8888888888888888, \"#fdca26\"], [1.0, \"#f0f921\"]], \"sequentialminus\": [[0.0, \"#0d0887\"], [0.1111111111111111, \"#46039f\"], [0.2222222222222222, \"#7201a8\"], [0.3333333333333333, \"#9c179e\"], [0.4444444444444444, \"#bd3786\"], [0.5555555555555556, \"#d8576b\"], [0.6666666666666666, \"#ed7953\"], [0.7777777777777778, \"#fb9f3a\"], [0.8888888888888888, \"#fdca26\"], [1.0, \"#f0f921\"]]}, \"colorway\": [\"#636efa\", \"#EF553B\", \"#00cc96\", \"#ab63fa\", \"#FFA15A\", \"#19d3f3\", \"#FF6692\", \"#B6E880\", \"#FF97FF\", \"#FECB52\"], \"font\": {\"color\": \"#2a3f5f\"}, \"geo\": {\"bgcolor\": \"white\", \"lakecolor\": \"white\", \"landcolor\": \"#E5ECF6\", \"showlakes\": true, \"showland\": true, \"subunitcolor\": \"white\"}, \"hoverlabel\": {\"align\": \"left\"}, \"hovermode\": \"closest\", \"mapbox\": {\"style\": \"light\"}, \"paper_bgcolor\": \"white\", \"plot_bgcolor\": \"#E5ECF6\", \"polar\": {\"angularaxis\": {\"gridcolor\": \"white\", \"linecolor\": \"white\", \"ticks\": \"\"}, \"bgcolor\": \"#E5ECF6\", \"radialaxis\": {\"gridcolor\": \"white\", \"linecolor\": \"white\", \"ticks\": \"\"}}, \"scene\": {\"xaxis\": {\"backgroundcolor\": \"#E5ECF6\", \"gridcolor\": \"white\", \"gridwidth\": 2, \"linecolor\": \"white\", \"showbackground\": true, \"ticks\": \"\", \"zerolinecolor\": \"white\"}, \"yaxis\": {\"backgroundcolor\": \"#E5ECF6\", \"gridcolor\": \"white\", \"gridwidth\": 2, \"linecolor\": \"white\", \"showbackground\": true, \"ticks\": \"\", \"zerolinecolor\": \"white\"}, \"zaxis\": {\"backgroundcolor\": \"#E5ECF6\", \"gridcolor\": \"white\", \"gridwidth\": 2, \"linecolor\": \"white\", \"showbackground\": true, \"ticks\": \"\", \"zerolinecolor\": \"white\"}}, \"shapedefaults\": {\"line\": {\"color\": \"#2a3f5f\"}}, \"ternary\": {\"aaxis\": {\"gridcolor\": \"white\", \"linecolor\": \"white\", \"ticks\": \"\"}, \"baxis\": {\"gridcolor\": \"white\", \"linecolor\": \"white\", \"ticks\": \"\"}, \"bgcolor\": \"#E5ECF6\", \"caxis\": {\"gridcolor\": \"white\", \"linecolor\": \"white\", \"ticks\": \"\"}}, \"title\": {\"x\": 0.05}, \"xaxis\": {\"automargin\": true, \"gridcolor\": \"white\", \"linecolor\": \"white\", \"ticks\": \"\", \"title\": {\"standoff\": 15}, \"zerolinecolor\": \"white\", \"zerolinewidth\": 2}, \"yaxis\": {\"automargin\": true, \"gridcolor\": \"white\", \"linecolor\": \"white\", \"ticks\": \"\", \"title\": {\"standoff\": 15}, \"zerolinecolor\": \"white\", \"zerolinewidth\": 2}}}, \"title\": {\"text\": \"Life Expectancy vs GDP per capita for various iso_alpha\"}, \"xaxis\": {\"anchor\": \"y\", \"domain\": [0.0, 1.0], \"gridcolor\": \"white\", \"title\": {\"text\": \"GDP Per Capita\"}}, \"yaxis\": {\"anchor\": \"x\", \"domain\": [0.0, 1.0], \"gridcolor\": \"white\", \"title\": {\"text\": \"Life Expectancy\"}}},\n",
       "                        {\"responsive\": true}\n",
       "                    ).then(function(){\n",
       "                            \n",
       "var gd = document.getElementById('7c11bd25-7d92-429c-9bfc-4ce329a0cbfc');\n",
       "var x = new MutationObserver(function (mutations, observer) {{\n",
       "        var display = window.getComputedStyle(gd).display;\n",
       "        if (!display || display === 'none') {{\n",
       "            console.log([gd, 'removed!']);\n",
       "            Plotly.purge(gd);\n",
       "            observer.disconnect();\n",
       "        }}\n",
       "}});\n",
       "\n",
       "// Listen for the removal of the full notebook cells\n",
       "var notebookContainer = gd.closest('#notebook-container');\n",
       "if (notebookContainer) {{\n",
       "    x.observe(notebookContainer, {childList: true});\n",
       "}}\n",
       "\n",
       "// Listen for the clearing of the current output cell\n",
       "var outputEl = gd.closest('.output');\n",
       "if (outputEl) {{\n",
       "    x.observe(outputEl, {childList: true});\n",
       "}}\n",
       "\n",
       "                        })\n",
       "                };\n",
       "                });\n",
       "            </script>\n",
       "        </div>"
      ]
     },
     "metadata": {},
     "output_type": "display_data"
    }
   ],
   "source": [
    "#Life Expectancy vs gdp per capita for various iso_alpha\n",
    "fig = px.scatter(data_plotly[data_plotly.year==2007], x=\"gdpPercap\", y=\"lifeExp\",\n",
    "                 size=\"pop\", \n",
    "                 color=\"iso_alpha\",\n",
    "                 hover_name=\"country\", \n",
    "                 size_max=80)\n",
    "fig.update_layout(yaxis =dict(title='Life Expectancy',gridcolor='white'),\n",
    "                  xaxis=dict(title='GDP Per Capita',gridcolor='white'),\n",
    "                  title='Life Expectancy vs GDP per capita for various iso_alpha',\n",
    "                  paper_bgcolor='rgb(243,243,243)',\n",
    "                  plot_bgcolor='rgb(500,500,500)')\n",
    "fig.show()"
   ]
  },
  {
   "cell_type": "code",
   "execution_count": null,
   "metadata": {},
   "outputs": [],
   "source": [
    "########################################### Figure Factory Tables ####################################################"
   ]
  },
  {
   "cell_type": "code",
   "execution_count": 155,
   "metadata": {},
   "outputs": [],
   "source": [
    "import plotly.figure_factory as ff"
   ]
  },
  {
   "cell_type": "code",
   "execution_count": 163,
   "metadata": {},
   "outputs": [
    {
     "data": {
      "application/vnd.plotly.v1+json": {
       "config": {
        "plotlyServerURL": "https://plot.ly"
       },
       "data": [
        {
         "colorscale": [
          [
           0,
           "#00083e"
          ],
          [
           0.5,
           "#ededee"
          ],
          [
           1,
           "#ffffff"
          ]
         ],
         "hoverinfo": "none",
         "opacity": 0.75,
         "showscale": false,
         "type": "heatmap",
         "z": [
          [
           0,
           0,
           0
          ],
          [
           0.5,
           0.5,
           0.5
          ],
          [
           1,
           1,
           1
          ],
          [
           0.5,
           0.5,
           0.5
          ],
          [
           1,
           1,
           1
          ],
          [
           0.5,
           0.5,
           0.5
          ],
          [
           1,
           1,
           1
          ],
          [
           0.5,
           0.5,
           0.5
          ],
          [
           1,
           1,
           1
          ],
          [
           0.5,
           0.5,
           0.5
          ],
          [
           1,
           1,
           1
          ],
          [
           0.5,
           0.5,
           0.5
          ],
          [
           1,
           1,
           1
          ]
         ]
        }
       ],
       "layout": {
        "annotations": [
         {
          "align": "left",
          "font": {
           "color": "#ffffff"
          },
          "showarrow": false,
          "text": "<b>year</b>",
          "x": -0.45,
          "xanchor": "left",
          "xref": "x",
          "y": 0,
          "yref": "y"
         },
         {
          "align": "left",
          "font": {
           "color": "#ffffff"
          },
          "showarrow": false,
          "text": "<b>pop</b>",
          "x": 0.55,
          "xanchor": "left",
          "xref": "x",
          "y": 0,
          "yref": "y"
         },
         {
          "align": "left",
          "font": {
           "color": "#ffffff"
          },
          "showarrow": false,
          "text": "<b>gdpPercap</b>",
          "x": 1.55,
          "xanchor": "left",
          "xref": "x",
          "y": 0,
          "yref": "y"
         },
         {
          "align": "left",
          "font": {
           "color": "#000000"
          },
          "showarrow": false,
          "text": "1952.0",
          "x": -0.45,
          "xanchor": "left",
          "xref": "x",
          "y": 1,
          "yref": "y"
         },
         {
          "align": "left",
          "font": {
           "color": "#000000"
          },
          "showarrow": false,
          "text": "372000000.0",
          "x": 0.55,
          "xanchor": "left",
          "xref": "x",
          "y": 1,
          "yref": "y"
         },
         {
          "align": "left",
          "font": {
           "color": "#000000"
          },
          "showarrow": false,
          "text": "546.5657493",
          "x": 1.55,
          "xanchor": "left",
          "xref": "x",
          "y": 1,
          "yref": "y"
         },
         {
          "align": "left",
          "font": {
           "color": "#000000"
          },
          "showarrow": false,
          "text": "1957.0",
          "x": -0.45,
          "xanchor": "left",
          "xref": "x",
          "y": 2,
          "yref": "y"
         },
         {
          "align": "left",
          "font": {
           "color": "#000000"
          },
          "showarrow": false,
          "text": "409000000.0",
          "x": 0.55,
          "xanchor": "left",
          "xref": "x",
          "y": 2,
          "yref": "y"
         },
         {
          "align": "left",
          "font": {
           "color": "#000000"
          },
          "showarrow": false,
          "text": "590.061996",
          "x": 1.55,
          "xanchor": "left",
          "xref": "x",
          "y": 2,
          "yref": "y"
         },
         {
          "align": "left",
          "font": {
           "color": "#000000"
          },
          "showarrow": false,
          "text": "1962.0",
          "x": -0.45,
          "xanchor": "left",
          "xref": "x",
          "y": 3,
          "yref": "y"
         },
         {
          "align": "left",
          "font": {
           "color": "#000000"
          },
          "showarrow": false,
          "text": "454000000.0",
          "x": 0.55,
          "xanchor": "left",
          "xref": "x",
          "y": 3,
          "yref": "y"
         },
         {
          "align": "left",
          "font": {
           "color": "#000000"
          },
          "showarrow": false,
          "text": "658.3471509",
          "x": 1.55,
          "xanchor": "left",
          "xref": "x",
          "y": 3,
          "yref": "y"
         },
         {
          "align": "left",
          "font": {
           "color": "#000000"
          },
          "showarrow": false,
          "text": "1967.0",
          "x": -0.45,
          "xanchor": "left",
          "xref": "x",
          "y": 4,
          "yref": "y"
         },
         {
          "align": "left",
          "font": {
           "color": "#000000"
          },
          "showarrow": false,
          "text": "506000000.0",
          "x": 0.55,
          "xanchor": "left",
          "xref": "x",
          "y": 4,
          "yref": "y"
         },
         {
          "align": "left",
          "font": {
           "color": "#000000"
          },
          "showarrow": false,
          "text": "700.7706107000001",
          "x": 1.55,
          "xanchor": "left",
          "xref": "x",
          "y": 4,
          "yref": "y"
         },
         {
          "align": "left",
          "font": {
           "color": "#000000"
          },
          "showarrow": false,
          "text": "1972.0",
          "x": -0.45,
          "xanchor": "left",
          "xref": "x",
          "y": 5,
          "yref": "y"
         },
         {
          "align": "left",
          "font": {
           "color": "#000000"
          },
          "showarrow": false,
          "text": "567000000.0",
          "x": 0.55,
          "xanchor": "left",
          "xref": "x",
          "y": 5,
          "yref": "y"
         },
         {
          "align": "left",
          "font": {
           "color": "#000000"
          },
          "showarrow": false,
          "text": "724.032527",
          "x": 1.55,
          "xanchor": "left",
          "xref": "x",
          "y": 5,
          "yref": "y"
         },
         {
          "align": "left",
          "font": {
           "color": "#000000"
          },
          "showarrow": false,
          "text": "1977.0",
          "x": -0.45,
          "xanchor": "left",
          "xref": "x",
          "y": 6,
          "yref": "y"
         },
         {
          "align": "left",
          "font": {
           "color": "#000000"
          },
          "showarrow": false,
          "text": "634000000.0",
          "x": 0.55,
          "xanchor": "left",
          "xref": "x",
          "y": 6,
          "yref": "y"
         },
         {
          "align": "left",
          "font": {
           "color": "#000000"
          },
          "showarrow": false,
          "text": "813.3373230000001",
          "x": 1.55,
          "xanchor": "left",
          "xref": "x",
          "y": 6,
          "yref": "y"
         },
         {
          "align": "left",
          "font": {
           "color": "#000000"
          },
          "showarrow": false,
          "text": "1982.0",
          "x": -0.45,
          "xanchor": "left",
          "xref": "x",
          "y": 7,
          "yref": "y"
         },
         {
          "align": "left",
          "font": {
           "color": "#000000"
          },
          "showarrow": false,
          "text": "708000000.0",
          "x": 0.55,
          "xanchor": "left",
          "xref": "x",
          "y": 7,
          "yref": "y"
         },
         {
          "align": "left",
          "font": {
           "color": "#000000"
          },
          "showarrow": false,
          "text": "855.7235377000001",
          "x": 1.55,
          "xanchor": "left",
          "xref": "x",
          "y": 7,
          "yref": "y"
         },
         {
          "align": "left",
          "font": {
           "color": "#000000"
          },
          "showarrow": false,
          "text": "1987.0",
          "x": -0.45,
          "xanchor": "left",
          "xref": "x",
          "y": 8,
          "yref": "y"
         },
         {
          "align": "left",
          "font": {
           "color": "#000000"
          },
          "showarrow": false,
          "text": "788000000.0",
          "x": 0.55,
          "xanchor": "left",
          "xref": "x",
          "y": 8,
          "yref": "y"
         },
         {
          "align": "left",
          "font": {
           "color": "#000000"
          },
          "showarrow": false,
          "text": "976.5126756000001",
          "x": 1.55,
          "xanchor": "left",
          "xref": "x",
          "y": 8,
          "yref": "y"
         },
         {
          "align": "left",
          "font": {
           "color": "#000000"
          },
          "showarrow": false,
          "text": "1992.0",
          "x": -0.45,
          "xanchor": "left",
          "xref": "x",
          "y": 9,
          "yref": "y"
         },
         {
          "align": "left",
          "font": {
           "color": "#000000"
          },
          "showarrow": false,
          "text": "872000000.0",
          "x": 0.55,
          "xanchor": "left",
          "xref": "x",
          "y": 9,
          "yref": "y"
         },
         {
          "align": "left",
          "font": {
           "color": "#000000"
          },
          "showarrow": false,
          "text": "1164.406809",
          "x": 1.55,
          "xanchor": "left",
          "xref": "x",
          "y": 9,
          "yref": "y"
         },
         {
          "align": "left",
          "font": {
           "color": "#000000"
          },
          "showarrow": false,
          "text": "1997.0",
          "x": -0.45,
          "xanchor": "left",
          "xref": "x",
          "y": 10,
          "yref": "y"
         },
         {
          "align": "left",
          "font": {
           "color": "#000000"
          },
          "showarrow": false,
          "text": "959000000.0",
          "x": 0.55,
          "xanchor": "left",
          "xref": "x",
          "y": 10,
          "yref": "y"
         },
         {
          "align": "left",
          "font": {
           "color": "#000000"
          },
          "showarrow": false,
          "text": "1458.817442",
          "x": 1.55,
          "xanchor": "left",
          "xref": "x",
          "y": 10,
          "yref": "y"
         },
         {
          "align": "left",
          "font": {
           "color": "#000000"
          },
          "showarrow": false,
          "text": "2002.0",
          "x": -0.45,
          "xanchor": "left",
          "xref": "x",
          "y": 11,
          "yref": "y"
         },
         {
          "align": "left",
          "font": {
           "color": "#000000"
          },
          "showarrow": false,
          "text": "1034172547.0",
          "x": 0.55,
          "xanchor": "left",
          "xref": "x",
          "y": 11,
          "yref": "y"
         },
         {
          "align": "left",
          "font": {
           "color": "#000000"
          },
          "showarrow": false,
          "text": "1746.769454",
          "x": 1.55,
          "xanchor": "left",
          "xref": "x",
          "y": 11,
          "yref": "y"
         },
         {
          "align": "left",
          "font": {
           "color": "#000000"
          },
          "showarrow": false,
          "text": "2007.0",
          "x": -0.45,
          "xanchor": "left",
          "xref": "x",
          "y": 12,
          "yref": "y"
         },
         {
          "align": "left",
          "font": {
           "color": "#000000"
          },
          "showarrow": false,
          "text": "1110396331.0",
          "x": 0.55,
          "xanchor": "left",
          "xref": "x",
          "y": 12,
          "yref": "y"
         },
         {
          "align": "left",
          "font": {
           "color": "#000000"
          },
          "showarrow": false,
          "text": "2452.210407",
          "x": 1.55,
          "xanchor": "left",
          "xref": "x",
          "y": 12,
          "yref": "y"
         }
        ],
        "height": 440,
        "margin": {
         "b": 0,
         "l": 0,
         "r": 0,
         "t": 0
        },
        "template": {
         "data": {
          "bar": [
           {
            "error_x": {
             "color": "#2a3f5f"
            },
            "error_y": {
             "color": "#2a3f5f"
            },
            "marker": {
             "line": {
              "color": "#E5ECF6",
              "width": 0.5
             }
            },
            "type": "bar"
           }
          ],
          "barpolar": [
           {
            "marker": {
             "line": {
              "color": "#E5ECF6",
              "width": 0.5
             }
            },
            "type": "barpolar"
           }
          ],
          "carpet": [
           {
            "aaxis": {
             "endlinecolor": "#2a3f5f",
             "gridcolor": "white",
             "linecolor": "white",
             "minorgridcolor": "white",
             "startlinecolor": "#2a3f5f"
            },
            "baxis": {
             "endlinecolor": "#2a3f5f",
             "gridcolor": "white",
             "linecolor": "white",
             "minorgridcolor": "white",
             "startlinecolor": "#2a3f5f"
            },
            "type": "carpet"
           }
          ],
          "choropleth": [
           {
            "colorbar": {
             "outlinewidth": 0,
             "ticks": ""
            },
            "type": "choropleth"
           }
          ],
          "contour": [
           {
            "colorbar": {
             "outlinewidth": 0,
             "ticks": ""
            },
            "colorscale": [
             [
              0,
              "#0d0887"
             ],
             [
              0.1111111111111111,
              "#46039f"
             ],
             [
              0.2222222222222222,
              "#7201a8"
             ],
             [
              0.3333333333333333,
              "#9c179e"
             ],
             [
              0.4444444444444444,
              "#bd3786"
             ],
             [
              0.5555555555555556,
              "#d8576b"
             ],
             [
              0.6666666666666666,
              "#ed7953"
             ],
             [
              0.7777777777777778,
              "#fb9f3a"
             ],
             [
              0.8888888888888888,
              "#fdca26"
             ],
             [
              1,
              "#f0f921"
             ]
            ],
            "type": "contour"
           }
          ],
          "contourcarpet": [
           {
            "colorbar": {
             "outlinewidth": 0,
             "ticks": ""
            },
            "type": "contourcarpet"
           }
          ],
          "heatmap": [
           {
            "colorbar": {
             "outlinewidth": 0,
             "ticks": ""
            },
            "colorscale": [
             [
              0,
              "#0d0887"
             ],
             [
              0.1111111111111111,
              "#46039f"
             ],
             [
              0.2222222222222222,
              "#7201a8"
             ],
             [
              0.3333333333333333,
              "#9c179e"
             ],
             [
              0.4444444444444444,
              "#bd3786"
             ],
             [
              0.5555555555555556,
              "#d8576b"
             ],
             [
              0.6666666666666666,
              "#ed7953"
             ],
             [
              0.7777777777777778,
              "#fb9f3a"
             ],
             [
              0.8888888888888888,
              "#fdca26"
             ],
             [
              1,
              "#f0f921"
             ]
            ],
            "type": "heatmap"
           }
          ],
          "heatmapgl": [
           {
            "colorbar": {
             "outlinewidth": 0,
             "ticks": ""
            },
            "colorscale": [
             [
              0,
              "#0d0887"
             ],
             [
              0.1111111111111111,
              "#46039f"
             ],
             [
              0.2222222222222222,
              "#7201a8"
             ],
             [
              0.3333333333333333,
              "#9c179e"
             ],
             [
              0.4444444444444444,
              "#bd3786"
             ],
             [
              0.5555555555555556,
              "#d8576b"
             ],
             [
              0.6666666666666666,
              "#ed7953"
             ],
             [
              0.7777777777777778,
              "#fb9f3a"
             ],
             [
              0.8888888888888888,
              "#fdca26"
             ],
             [
              1,
              "#f0f921"
             ]
            ],
            "type": "heatmapgl"
           }
          ],
          "histogram": [
           {
            "marker": {
             "colorbar": {
              "outlinewidth": 0,
              "ticks": ""
             }
            },
            "type": "histogram"
           }
          ],
          "histogram2d": [
           {
            "colorbar": {
             "outlinewidth": 0,
             "ticks": ""
            },
            "colorscale": [
             [
              0,
              "#0d0887"
             ],
             [
              0.1111111111111111,
              "#46039f"
             ],
             [
              0.2222222222222222,
              "#7201a8"
             ],
             [
              0.3333333333333333,
              "#9c179e"
             ],
             [
              0.4444444444444444,
              "#bd3786"
             ],
             [
              0.5555555555555556,
              "#d8576b"
             ],
             [
              0.6666666666666666,
              "#ed7953"
             ],
             [
              0.7777777777777778,
              "#fb9f3a"
             ],
             [
              0.8888888888888888,
              "#fdca26"
             ],
             [
              1,
              "#f0f921"
             ]
            ],
            "type": "histogram2d"
           }
          ],
          "histogram2dcontour": [
           {
            "colorbar": {
             "outlinewidth": 0,
             "ticks": ""
            },
            "colorscale": [
             [
              0,
              "#0d0887"
             ],
             [
              0.1111111111111111,
              "#46039f"
             ],
             [
              0.2222222222222222,
              "#7201a8"
             ],
             [
              0.3333333333333333,
              "#9c179e"
             ],
             [
              0.4444444444444444,
              "#bd3786"
             ],
             [
              0.5555555555555556,
              "#d8576b"
             ],
             [
              0.6666666666666666,
              "#ed7953"
             ],
             [
              0.7777777777777778,
              "#fb9f3a"
             ],
             [
              0.8888888888888888,
              "#fdca26"
             ],
             [
              1,
              "#f0f921"
             ]
            ],
            "type": "histogram2dcontour"
           }
          ],
          "mesh3d": [
           {
            "colorbar": {
             "outlinewidth": 0,
             "ticks": ""
            },
            "type": "mesh3d"
           }
          ],
          "parcoords": [
           {
            "line": {
             "colorbar": {
              "outlinewidth": 0,
              "ticks": ""
             }
            },
            "type": "parcoords"
           }
          ],
          "pie": [
           {
            "automargin": true,
            "type": "pie"
           }
          ],
          "scatter": [
           {
            "marker": {
             "colorbar": {
              "outlinewidth": 0,
              "ticks": ""
             }
            },
            "type": "scatter"
           }
          ],
          "scatter3d": [
           {
            "line": {
             "colorbar": {
              "outlinewidth": 0,
              "ticks": ""
             }
            },
            "marker": {
             "colorbar": {
              "outlinewidth": 0,
              "ticks": ""
             }
            },
            "type": "scatter3d"
           }
          ],
          "scattercarpet": [
           {
            "marker": {
             "colorbar": {
              "outlinewidth": 0,
              "ticks": ""
             }
            },
            "type": "scattercarpet"
           }
          ],
          "scattergeo": [
           {
            "marker": {
             "colorbar": {
              "outlinewidth": 0,
              "ticks": ""
             }
            },
            "type": "scattergeo"
           }
          ],
          "scattergl": [
           {
            "marker": {
             "colorbar": {
              "outlinewidth": 0,
              "ticks": ""
             }
            },
            "type": "scattergl"
           }
          ],
          "scattermapbox": [
           {
            "marker": {
             "colorbar": {
              "outlinewidth": 0,
              "ticks": ""
             }
            },
            "type": "scattermapbox"
           }
          ],
          "scatterpolar": [
           {
            "marker": {
             "colorbar": {
              "outlinewidth": 0,
              "ticks": ""
             }
            },
            "type": "scatterpolar"
           }
          ],
          "scatterpolargl": [
           {
            "marker": {
             "colorbar": {
              "outlinewidth": 0,
              "ticks": ""
             }
            },
            "type": "scatterpolargl"
           }
          ],
          "scatterternary": [
           {
            "marker": {
             "colorbar": {
              "outlinewidth": 0,
              "ticks": ""
             }
            },
            "type": "scatterternary"
           }
          ],
          "surface": [
           {
            "colorbar": {
             "outlinewidth": 0,
             "ticks": ""
            },
            "colorscale": [
             [
              0,
              "#0d0887"
             ],
             [
              0.1111111111111111,
              "#46039f"
             ],
             [
              0.2222222222222222,
              "#7201a8"
             ],
             [
              0.3333333333333333,
              "#9c179e"
             ],
             [
              0.4444444444444444,
              "#bd3786"
             ],
             [
              0.5555555555555556,
              "#d8576b"
             ],
             [
              0.6666666666666666,
              "#ed7953"
             ],
             [
              0.7777777777777778,
              "#fb9f3a"
             ],
             [
              0.8888888888888888,
              "#fdca26"
             ],
             [
              1,
              "#f0f921"
             ]
            ],
            "type": "surface"
           }
          ],
          "table": [
           {
            "cells": {
             "fill": {
              "color": "#EBF0F8"
             },
             "line": {
              "color": "white"
             }
            },
            "header": {
             "fill": {
              "color": "#C8D4E3"
             },
             "line": {
              "color": "white"
             }
            },
            "type": "table"
           }
          ]
         },
         "layout": {
          "annotationdefaults": {
           "arrowcolor": "#2a3f5f",
           "arrowhead": 0,
           "arrowwidth": 1
          },
          "coloraxis": {
           "colorbar": {
            "outlinewidth": 0,
            "ticks": ""
           }
          },
          "colorscale": {
           "diverging": [
            [
             0,
             "#8e0152"
            ],
            [
             0.1,
             "#c51b7d"
            ],
            [
             0.2,
             "#de77ae"
            ],
            [
             0.3,
             "#f1b6da"
            ],
            [
             0.4,
             "#fde0ef"
            ],
            [
             0.5,
             "#f7f7f7"
            ],
            [
             0.6,
             "#e6f5d0"
            ],
            [
             0.7,
             "#b8e186"
            ],
            [
             0.8,
             "#7fbc41"
            ],
            [
             0.9,
             "#4d9221"
            ],
            [
             1,
             "#276419"
            ]
           ],
           "sequential": [
            [
             0,
             "#0d0887"
            ],
            [
             0.1111111111111111,
             "#46039f"
            ],
            [
             0.2222222222222222,
             "#7201a8"
            ],
            [
             0.3333333333333333,
             "#9c179e"
            ],
            [
             0.4444444444444444,
             "#bd3786"
            ],
            [
             0.5555555555555556,
             "#d8576b"
            ],
            [
             0.6666666666666666,
             "#ed7953"
            ],
            [
             0.7777777777777778,
             "#fb9f3a"
            ],
            [
             0.8888888888888888,
             "#fdca26"
            ],
            [
             1,
             "#f0f921"
            ]
           ],
           "sequentialminus": [
            [
             0,
             "#0d0887"
            ],
            [
             0.1111111111111111,
             "#46039f"
            ],
            [
             0.2222222222222222,
             "#7201a8"
            ],
            [
             0.3333333333333333,
             "#9c179e"
            ],
            [
             0.4444444444444444,
             "#bd3786"
            ],
            [
             0.5555555555555556,
             "#d8576b"
            ],
            [
             0.6666666666666666,
             "#ed7953"
            ],
            [
             0.7777777777777778,
             "#fb9f3a"
            ],
            [
             0.8888888888888888,
             "#fdca26"
            ],
            [
             1,
             "#f0f921"
            ]
           ]
          },
          "colorway": [
           "#636efa",
           "#EF553B",
           "#00cc96",
           "#ab63fa",
           "#FFA15A",
           "#19d3f3",
           "#FF6692",
           "#B6E880",
           "#FF97FF",
           "#FECB52"
          ],
          "font": {
           "color": "#2a3f5f"
          },
          "geo": {
           "bgcolor": "white",
           "lakecolor": "white",
           "landcolor": "#E5ECF6",
           "showlakes": true,
           "showland": true,
           "subunitcolor": "white"
          },
          "hoverlabel": {
           "align": "left"
          },
          "hovermode": "closest",
          "mapbox": {
           "style": "light"
          },
          "paper_bgcolor": "white",
          "plot_bgcolor": "#E5ECF6",
          "polar": {
           "angularaxis": {
            "gridcolor": "white",
            "linecolor": "white",
            "ticks": ""
           },
           "bgcolor": "#E5ECF6",
           "radialaxis": {
            "gridcolor": "white",
            "linecolor": "white",
            "ticks": ""
           }
          },
          "scene": {
           "xaxis": {
            "backgroundcolor": "#E5ECF6",
            "gridcolor": "white",
            "gridwidth": 2,
            "linecolor": "white",
            "showbackground": true,
            "ticks": "",
            "zerolinecolor": "white"
           },
           "yaxis": {
            "backgroundcolor": "#E5ECF6",
            "gridcolor": "white",
            "gridwidth": 2,
            "linecolor": "white",
            "showbackground": true,
            "ticks": "",
            "zerolinecolor": "white"
           },
           "zaxis": {
            "backgroundcolor": "#E5ECF6",
            "gridcolor": "white",
            "gridwidth": 2,
            "linecolor": "white",
            "showbackground": true,
            "ticks": "",
            "zerolinecolor": "white"
           }
          },
          "shapedefaults": {
           "line": {
            "color": "#2a3f5f"
           }
          },
          "ternary": {
           "aaxis": {
            "gridcolor": "white",
            "linecolor": "white",
            "ticks": ""
           },
           "baxis": {
            "gridcolor": "white",
            "linecolor": "white",
            "ticks": ""
           },
           "bgcolor": "#E5ECF6",
           "caxis": {
            "gridcolor": "white",
            "linecolor": "white",
            "ticks": ""
           }
          },
          "title": {
           "x": 0.05
          },
          "xaxis": {
           "automargin": true,
           "gridcolor": "white",
           "linecolor": "white",
           "ticks": "",
           "title": {
            "standoff": 15
           },
           "zerolinecolor": "white",
           "zerolinewidth": 2
          },
          "yaxis": {
           "automargin": true,
           "gridcolor": "white",
           "linecolor": "white",
           "ticks": "",
           "title": {
            "standoff": 15
           },
           "zerolinecolor": "white",
           "zerolinewidth": 2
          }
         }
        },
        "xaxis": {
         "dtick": 1,
         "gridwidth": 2,
         "showticklabels": false,
         "tick0": -0.5,
         "ticks": "",
         "zeroline": false
        },
        "yaxis": {
         "autorange": "reversed",
         "dtick": 1,
         "gridwidth": 2,
         "showticklabels": false,
         "tick0": 0.5,
         "ticks": "",
         "zeroline": false
        }
       }
      },
      "text/html": [
       "<div>\n",
       "        \n",
       "        \n",
       "            <div id=\"9368b519-1140-4aca-8180-82f0a0152b4c\" class=\"plotly-graph-div\" style=\"height:440px; width:100%;\"></div>\n",
       "            <script type=\"text/javascript\">\n",
       "                require([\"plotly\"], function(Plotly) {\n",
       "                    window.PLOTLYENV=window.PLOTLYENV || {};\n",
       "                    \n",
       "                if (document.getElementById(\"9368b519-1140-4aca-8180-82f0a0152b4c\")) {\n",
       "                    Plotly.newPlot(\n",
       "                        '9368b519-1140-4aca-8180-82f0a0152b4c',\n",
       "                        [{\"colorscale\": [[0, \"#00083e\"], [0.5, \"#ededee\"], [1, \"#ffffff\"]], \"hoverinfo\": \"none\", \"opacity\": 0.75, \"showscale\": false, \"type\": \"heatmap\", \"z\": [[0, 0, 0], [0.5, 0.5, 0.5], [1, 1, 1], [0.5, 0.5, 0.5], [1, 1, 1], [0.5, 0.5, 0.5], [1, 1, 1], [0.5, 0.5, 0.5], [1, 1, 1], [0.5, 0.5, 0.5], [1, 1, 1], [0.5, 0.5, 0.5], [1, 1, 1]]}],\n",
       "                        {\"annotations\": [{\"align\": \"left\", \"font\": {\"color\": \"#ffffff\"}, \"showarrow\": false, \"text\": \"<b>year</b>\", \"x\": -0.45, \"xanchor\": \"left\", \"xref\": \"x\", \"y\": 0, \"yref\": \"y\"}, {\"align\": \"left\", \"font\": {\"color\": \"#ffffff\"}, \"showarrow\": false, \"text\": \"<b>pop</b>\", \"x\": 0.55, \"xanchor\": \"left\", \"xref\": \"x\", \"y\": 0, \"yref\": \"y\"}, {\"align\": \"left\", \"font\": {\"color\": \"#ffffff\"}, \"showarrow\": false, \"text\": \"<b>gdpPercap</b>\", \"x\": 1.55, \"xanchor\": \"left\", \"xref\": \"x\", \"y\": 0, \"yref\": \"y\"}, {\"align\": \"left\", \"font\": {\"color\": \"#000000\"}, \"showarrow\": false, \"text\": \"1952.0\", \"x\": -0.45, \"xanchor\": \"left\", \"xref\": \"x\", \"y\": 1, \"yref\": \"y\"}, {\"align\": \"left\", \"font\": {\"color\": \"#000000\"}, \"showarrow\": false, \"text\": \"372000000.0\", \"x\": 0.55, \"xanchor\": \"left\", \"xref\": \"x\", \"y\": 1, \"yref\": \"y\"}, {\"align\": \"left\", \"font\": {\"color\": \"#000000\"}, \"showarrow\": false, \"text\": \"546.5657493\", \"x\": 1.55, \"xanchor\": \"left\", \"xref\": \"x\", \"y\": 1, \"yref\": \"y\"}, {\"align\": \"left\", \"font\": {\"color\": \"#000000\"}, \"showarrow\": false, \"text\": \"1957.0\", \"x\": -0.45, \"xanchor\": \"left\", \"xref\": \"x\", \"y\": 2, \"yref\": \"y\"}, {\"align\": \"left\", \"font\": {\"color\": \"#000000\"}, \"showarrow\": false, \"text\": \"409000000.0\", \"x\": 0.55, \"xanchor\": \"left\", \"xref\": \"x\", \"y\": 2, \"yref\": \"y\"}, {\"align\": \"left\", \"font\": {\"color\": \"#000000\"}, \"showarrow\": false, \"text\": \"590.061996\", \"x\": 1.55, \"xanchor\": \"left\", \"xref\": \"x\", \"y\": 2, \"yref\": \"y\"}, {\"align\": \"left\", \"font\": {\"color\": \"#000000\"}, \"showarrow\": false, \"text\": \"1962.0\", \"x\": -0.45, \"xanchor\": \"left\", \"xref\": \"x\", \"y\": 3, \"yref\": \"y\"}, {\"align\": \"left\", \"font\": {\"color\": \"#000000\"}, \"showarrow\": false, \"text\": \"454000000.0\", \"x\": 0.55, \"xanchor\": \"left\", \"xref\": \"x\", \"y\": 3, \"yref\": \"y\"}, {\"align\": \"left\", \"font\": {\"color\": \"#000000\"}, \"showarrow\": false, \"text\": \"658.3471509\", \"x\": 1.55, \"xanchor\": \"left\", \"xref\": \"x\", \"y\": 3, \"yref\": \"y\"}, {\"align\": \"left\", \"font\": {\"color\": \"#000000\"}, \"showarrow\": false, \"text\": \"1967.0\", \"x\": -0.45, \"xanchor\": \"left\", \"xref\": \"x\", \"y\": 4, \"yref\": \"y\"}, {\"align\": \"left\", \"font\": {\"color\": \"#000000\"}, \"showarrow\": false, \"text\": \"506000000.0\", \"x\": 0.55, \"xanchor\": \"left\", \"xref\": \"x\", \"y\": 4, \"yref\": \"y\"}, {\"align\": \"left\", \"font\": {\"color\": \"#000000\"}, \"showarrow\": false, \"text\": \"700.7706107000001\", \"x\": 1.55, \"xanchor\": \"left\", \"xref\": \"x\", \"y\": 4, \"yref\": \"y\"}, {\"align\": \"left\", \"font\": {\"color\": \"#000000\"}, \"showarrow\": false, \"text\": \"1972.0\", \"x\": -0.45, \"xanchor\": \"left\", \"xref\": \"x\", \"y\": 5, \"yref\": \"y\"}, {\"align\": \"left\", \"font\": {\"color\": \"#000000\"}, \"showarrow\": false, \"text\": \"567000000.0\", \"x\": 0.55, \"xanchor\": \"left\", \"xref\": \"x\", \"y\": 5, \"yref\": \"y\"}, {\"align\": \"left\", \"font\": {\"color\": \"#000000\"}, \"showarrow\": false, \"text\": \"724.032527\", \"x\": 1.55, \"xanchor\": \"left\", \"xref\": \"x\", \"y\": 5, \"yref\": \"y\"}, {\"align\": \"left\", \"font\": {\"color\": \"#000000\"}, \"showarrow\": false, \"text\": \"1977.0\", \"x\": -0.45, \"xanchor\": \"left\", \"xref\": \"x\", \"y\": 6, \"yref\": \"y\"}, {\"align\": \"left\", \"font\": {\"color\": \"#000000\"}, \"showarrow\": false, \"text\": \"634000000.0\", \"x\": 0.55, \"xanchor\": \"left\", \"xref\": \"x\", \"y\": 6, \"yref\": \"y\"}, {\"align\": \"left\", \"font\": {\"color\": \"#000000\"}, \"showarrow\": false, \"text\": \"813.3373230000001\", \"x\": 1.55, \"xanchor\": \"left\", \"xref\": \"x\", \"y\": 6, \"yref\": \"y\"}, {\"align\": \"left\", \"font\": {\"color\": \"#000000\"}, \"showarrow\": false, \"text\": \"1982.0\", \"x\": -0.45, \"xanchor\": \"left\", \"xref\": \"x\", \"y\": 7, \"yref\": \"y\"}, {\"align\": \"left\", \"font\": {\"color\": \"#000000\"}, \"showarrow\": false, \"text\": \"708000000.0\", \"x\": 0.55, \"xanchor\": \"left\", \"xref\": \"x\", \"y\": 7, \"yref\": \"y\"}, {\"align\": \"left\", \"font\": {\"color\": \"#000000\"}, \"showarrow\": false, \"text\": \"855.7235377000001\", \"x\": 1.55, \"xanchor\": \"left\", \"xref\": \"x\", \"y\": 7, \"yref\": \"y\"}, {\"align\": \"left\", \"font\": {\"color\": \"#000000\"}, \"showarrow\": false, \"text\": \"1987.0\", \"x\": -0.45, \"xanchor\": \"left\", \"xref\": \"x\", \"y\": 8, \"yref\": \"y\"}, {\"align\": \"left\", \"font\": {\"color\": \"#000000\"}, \"showarrow\": false, \"text\": \"788000000.0\", \"x\": 0.55, \"xanchor\": \"left\", \"xref\": \"x\", \"y\": 8, \"yref\": \"y\"}, {\"align\": \"left\", \"font\": {\"color\": \"#000000\"}, \"showarrow\": false, \"text\": \"976.5126756000001\", \"x\": 1.55, \"xanchor\": \"left\", \"xref\": \"x\", \"y\": 8, \"yref\": \"y\"}, {\"align\": \"left\", \"font\": {\"color\": \"#000000\"}, \"showarrow\": false, \"text\": \"1992.0\", \"x\": -0.45, \"xanchor\": \"left\", \"xref\": \"x\", \"y\": 9, \"yref\": \"y\"}, {\"align\": \"left\", \"font\": {\"color\": \"#000000\"}, \"showarrow\": false, \"text\": \"872000000.0\", \"x\": 0.55, \"xanchor\": \"left\", \"xref\": \"x\", \"y\": 9, \"yref\": \"y\"}, {\"align\": \"left\", \"font\": {\"color\": \"#000000\"}, \"showarrow\": false, \"text\": \"1164.406809\", \"x\": 1.55, \"xanchor\": \"left\", \"xref\": \"x\", \"y\": 9, \"yref\": \"y\"}, {\"align\": \"left\", \"font\": {\"color\": \"#000000\"}, \"showarrow\": false, \"text\": \"1997.0\", \"x\": -0.45, \"xanchor\": \"left\", \"xref\": \"x\", \"y\": 10, \"yref\": \"y\"}, {\"align\": \"left\", \"font\": {\"color\": \"#000000\"}, \"showarrow\": false, \"text\": \"959000000.0\", \"x\": 0.55, \"xanchor\": \"left\", \"xref\": \"x\", \"y\": 10, \"yref\": \"y\"}, {\"align\": \"left\", \"font\": {\"color\": \"#000000\"}, \"showarrow\": false, \"text\": \"1458.817442\", \"x\": 1.55, \"xanchor\": \"left\", \"xref\": \"x\", \"y\": 10, \"yref\": \"y\"}, {\"align\": \"left\", \"font\": {\"color\": \"#000000\"}, \"showarrow\": false, \"text\": \"2002.0\", \"x\": -0.45, \"xanchor\": \"left\", \"xref\": \"x\", \"y\": 11, \"yref\": \"y\"}, {\"align\": \"left\", \"font\": {\"color\": \"#000000\"}, \"showarrow\": false, \"text\": \"1034172547.0\", \"x\": 0.55, \"xanchor\": \"left\", \"xref\": \"x\", \"y\": 11, \"yref\": \"y\"}, {\"align\": \"left\", \"font\": {\"color\": \"#000000\"}, \"showarrow\": false, \"text\": \"1746.769454\", \"x\": 1.55, \"xanchor\": \"left\", \"xref\": \"x\", \"y\": 11, \"yref\": \"y\"}, {\"align\": \"left\", \"font\": {\"color\": \"#000000\"}, \"showarrow\": false, \"text\": \"2007.0\", \"x\": -0.45, \"xanchor\": \"left\", \"xref\": \"x\", \"y\": 12, \"yref\": \"y\"}, {\"align\": \"left\", \"font\": {\"color\": \"#000000\"}, \"showarrow\": false, \"text\": \"1110396331.0\", \"x\": 0.55, \"xanchor\": \"left\", \"xref\": \"x\", \"y\": 12, \"yref\": \"y\"}, {\"align\": \"left\", \"font\": {\"color\": \"#000000\"}, \"showarrow\": false, \"text\": \"2452.210407\", \"x\": 1.55, \"xanchor\": \"left\", \"xref\": \"x\", \"y\": 12, \"yref\": \"y\"}], \"height\": 440, \"margin\": {\"b\": 0, \"l\": 0, \"r\": 0, \"t\": 0}, \"template\": {\"data\": {\"bar\": [{\"error_x\": {\"color\": \"#2a3f5f\"}, \"error_y\": {\"color\": \"#2a3f5f\"}, \"marker\": {\"line\": {\"color\": \"#E5ECF6\", \"width\": 0.5}}, \"type\": \"bar\"}], \"barpolar\": [{\"marker\": {\"line\": {\"color\": \"#E5ECF6\", \"width\": 0.5}}, \"type\": \"barpolar\"}], \"carpet\": [{\"aaxis\": {\"endlinecolor\": \"#2a3f5f\", \"gridcolor\": \"white\", \"linecolor\": \"white\", \"minorgridcolor\": \"white\", \"startlinecolor\": \"#2a3f5f\"}, \"baxis\": {\"endlinecolor\": \"#2a3f5f\", \"gridcolor\": \"white\", \"linecolor\": \"white\", \"minorgridcolor\": \"white\", \"startlinecolor\": \"#2a3f5f\"}, \"type\": \"carpet\"}], \"choropleth\": [{\"colorbar\": {\"outlinewidth\": 0, \"ticks\": \"\"}, \"type\": \"choropleth\"}], \"contour\": [{\"colorbar\": {\"outlinewidth\": 0, \"ticks\": \"\"}, \"colorscale\": [[0.0, \"#0d0887\"], [0.1111111111111111, \"#46039f\"], [0.2222222222222222, \"#7201a8\"], [0.3333333333333333, \"#9c179e\"], [0.4444444444444444, \"#bd3786\"], [0.5555555555555556, \"#d8576b\"], [0.6666666666666666, \"#ed7953\"], [0.7777777777777778, \"#fb9f3a\"], [0.8888888888888888, \"#fdca26\"], [1.0, \"#f0f921\"]], \"type\": \"contour\"}], \"contourcarpet\": [{\"colorbar\": {\"outlinewidth\": 0, \"ticks\": \"\"}, \"type\": \"contourcarpet\"}], \"heatmap\": [{\"colorbar\": {\"outlinewidth\": 0, \"ticks\": \"\"}, \"colorscale\": [[0.0, \"#0d0887\"], [0.1111111111111111, \"#46039f\"], [0.2222222222222222, \"#7201a8\"], [0.3333333333333333, \"#9c179e\"], [0.4444444444444444, \"#bd3786\"], [0.5555555555555556, \"#d8576b\"], [0.6666666666666666, \"#ed7953\"], [0.7777777777777778, \"#fb9f3a\"], [0.8888888888888888, \"#fdca26\"], [1.0, \"#f0f921\"]], \"type\": \"heatmap\"}], \"heatmapgl\": [{\"colorbar\": {\"outlinewidth\": 0, \"ticks\": \"\"}, \"colorscale\": [[0.0, \"#0d0887\"], [0.1111111111111111, \"#46039f\"], [0.2222222222222222, \"#7201a8\"], [0.3333333333333333, \"#9c179e\"], [0.4444444444444444, \"#bd3786\"], [0.5555555555555556, \"#d8576b\"], [0.6666666666666666, \"#ed7953\"], [0.7777777777777778, \"#fb9f3a\"], [0.8888888888888888, \"#fdca26\"], [1.0, \"#f0f921\"]], \"type\": \"heatmapgl\"}], \"histogram\": [{\"marker\": {\"colorbar\": {\"outlinewidth\": 0, \"ticks\": \"\"}}, \"type\": \"histogram\"}], \"histogram2d\": [{\"colorbar\": {\"outlinewidth\": 0, \"ticks\": \"\"}, \"colorscale\": [[0.0, \"#0d0887\"], [0.1111111111111111, \"#46039f\"], [0.2222222222222222, \"#7201a8\"], [0.3333333333333333, \"#9c179e\"], [0.4444444444444444, \"#bd3786\"], [0.5555555555555556, \"#d8576b\"], [0.6666666666666666, \"#ed7953\"], [0.7777777777777778, \"#fb9f3a\"], [0.8888888888888888, \"#fdca26\"], [1.0, \"#f0f921\"]], \"type\": \"histogram2d\"}], \"histogram2dcontour\": [{\"colorbar\": {\"outlinewidth\": 0, \"ticks\": \"\"}, \"colorscale\": [[0.0, \"#0d0887\"], [0.1111111111111111, \"#46039f\"], [0.2222222222222222, \"#7201a8\"], [0.3333333333333333, \"#9c179e\"], [0.4444444444444444, \"#bd3786\"], [0.5555555555555556, \"#d8576b\"], [0.6666666666666666, \"#ed7953\"], [0.7777777777777778, \"#fb9f3a\"], [0.8888888888888888, \"#fdca26\"], [1.0, \"#f0f921\"]], \"type\": \"histogram2dcontour\"}], \"mesh3d\": [{\"colorbar\": {\"outlinewidth\": 0, \"ticks\": \"\"}, \"type\": \"mesh3d\"}], \"parcoords\": [{\"line\": {\"colorbar\": {\"outlinewidth\": 0, \"ticks\": \"\"}}, \"type\": \"parcoords\"}], \"pie\": [{\"automargin\": true, \"type\": \"pie\"}], \"scatter\": [{\"marker\": {\"colorbar\": {\"outlinewidth\": 0, \"ticks\": \"\"}}, \"type\": \"scatter\"}], \"scatter3d\": [{\"line\": {\"colorbar\": {\"outlinewidth\": 0, \"ticks\": \"\"}}, \"marker\": {\"colorbar\": {\"outlinewidth\": 0, \"ticks\": \"\"}}, \"type\": \"scatter3d\"}], \"scattercarpet\": [{\"marker\": {\"colorbar\": {\"outlinewidth\": 0, \"ticks\": \"\"}}, \"type\": \"scattercarpet\"}], \"scattergeo\": [{\"marker\": {\"colorbar\": {\"outlinewidth\": 0, \"ticks\": \"\"}}, \"type\": \"scattergeo\"}], \"scattergl\": [{\"marker\": {\"colorbar\": {\"outlinewidth\": 0, \"ticks\": \"\"}}, \"type\": \"scattergl\"}], \"scattermapbox\": [{\"marker\": {\"colorbar\": {\"outlinewidth\": 0, \"ticks\": \"\"}}, \"type\": \"scattermapbox\"}], \"scatterpolar\": [{\"marker\": {\"colorbar\": {\"outlinewidth\": 0, \"ticks\": \"\"}}, \"type\": \"scatterpolar\"}], \"scatterpolargl\": [{\"marker\": {\"colorbar\": {\"outlinewidth\": 0, \"ticks\": \"\"}}, \"type\": \"scatterpolargl\"}], \"scatterternary\": [{\"marker\": {\"colorbar\": {\"outlinewidth\": 0, \"ticks\": \"\"}}, \"type\": \"scatterternary\"}], \"surface\": [{\"colorbar\": {\"outlinewidth\": 0, \"ticks\": \"\"}, \"colorscale\": [[0.0, \"#0d0887\"], [0.1111111111111111, \"#46039f\"], [0.2222222222222222, \"#7201a8\"], [0.3333333333333333, \"#9c179e\"], [0.4444444444444444, \"#bd3786\"], [0.5555555555555556, \"#d8576b\"], [0.6666666666666666, \"#ed7953\"], [0.7777777777777778, \"#fb9f3a\"], [0.8888888888888888, \"#fdca26\"], [1.0, \"#f0f921\"]], \"type\": \"surface\"}], \"table\": [{\"cells\": {\"fill\": {\"color\": \"#EBF0F8\"}, \"line\": {\"color\": \"white\"}}, \"header\": {\"fill\": {\"color\": \"#C8D4E3\"}, \"line\": {\"color\": \"white\"}}, \"type\": \"table\"}]}, \"layout\": {\"annotationdefaults\": {\"arrowcolor\": \"#2a3f5f\", \"arrowhead\": 0, \"arrowwidth\": 1}, \"coloraxis\": {\"colorbar\": {\"outlinewidth\": 0, \"ticks\": \"\"}}, \"colorscale\": {\"diverging\": [[0, \"#8e0152\"], [0.1, \"#c51b7d\"], [0.2, \"#de77ae\"], [0.3, \"#f1b6da\"], [0.4, \"#fde0ef\"], [0.5, \"#f7f7f7\"], [0.6, \"#e6f5d0\"], [0.7, \"#b8e186\"], [0.8, \"#7fbc41\"], [0.9, \"#4d9221\"], [1, \"#276419\"]], \"sequential\": [[0.0, \"#0d0887\"], [0.1111111111111111, \"#46039f\"], [0.2222222222222222, \"#7201a8\"], [0.3333333333333333, \"#9c179e\"], [0.4444444444444444, \"#bd3786\"], [0.5555555555555556, \"#d8576b\"], [0.6666666666666666, \"#ed7953\"], [0.7777777777777778, \"#fb9f3a\"], [0.8888888888888888, \"#fdca26\"], [1.0, \"#f0f921\"]], \"sequentialminus\": [[0.0, \"#0d0887\"], [0.1111111111111111, \"#46039f\"], [0.2222222222222222, \"#7201a8\"], [0.3333333333333333, \"#9c179e\"], [0.4444444444444444, \"#bd3786\"], [0.5555555555555556, \"#d8576b\"], [0.6666666666666666, \"#ed7953\"], [0.7777777777777778, \"#fb9f3a\"], [0.8888888888888888, \"#fdca26\"], [1.0, \"#f0f921\"]]}, \"colorway\": [\"#636efa\", \"#EF553B\", \"#00cc96\", \"#ab63fa\", \"#FFA15A\", \"#19d3f3\", \"#FF6692\", \"#B6E880\", \"#FF97FF\", \"#FECB52\"], \"font\": {\"color\": \"#2a3f5f\"}, \"geo\": {\"bgcolor\": \"white\", \"lakecolor\": \"white\", \"landcolor\": \"#E5ECF6\", \"showlakes\": true, \"showland\": true, \"subunitcolor\": \"white\"}, \"hoverlabel\": {\"align\": \"left\"}, \"hovermode\": \"closest\", \"mapbox\": {\"style\": \"light\"}, \"paper_bgcolor\": \"white\", \"plot_bgcolor\": \"#E5ECF6\", \"polar\": {\"angularaxis\": {\"gridcolor\": \"white\", \"linecolor\": \"white\", \"ticks\": \"\"}, \"bgcolor\": \"#E5ECF6\", \"radialaxis\": {\"gridcolor\": \"white\", \"linecolor\": \"white\", \"ticks\": \"\"}}, \"scene\": {\"xaxis\": {\"backgroundcolor\": \"#E5ECF6\", \"gridcolor\": \"white\", \"gridwidth\": 2, \"linecolor\": \"white\", \"showbackground\": true, \"ticks\": \"\", \"zerolinecolor\": \"white\"}, \"yaxis\": {\"backgroundcolor\": \"#E5ECF6\", \"gridcolor\": \"white\", \"gridwidth\": 2, \"linecolor\": \"white\", \"showbackground\": true, \"ticks\": \"\", \"zerolinecolor\": \"white\"}, \"zaxis\": {\"backgroundcolor\": \"#E5ECF6\", \"gridcolor\": \"white\", \"gridwidth\": 2, \"linecolor\": \"white\", \"showbackground\": true, \"ticks\": \"\", \"zerolinecolor\": \"white\"}}, \"shapedefaults\": {\"line\": {\"color\": \"#2a3f5f\"}}, \"ternary\": {\"aaxis\": {\"gridcolor\": \"white\", \"linecolor\": \"white\", \"ticks\": \"\"}, \"baxis\": {\"gridcolor\": \"white\", \"linecolor\": \"white\", \"ticks\": \"\"}, \"bgcolor\": \"#E5ECF6\", \"caxis\": {\"gridcolor\": \"white\", \"linecolor\": \"white\", \"ticks\": \"\"}}, \"title\": {\"x\": 0.05}, \"xaxis\": {\"automargin\": true, \"gridcolor\": \"white\", \"linecolor\": \"white\", \"ticks\": \"\", \"title\": {\"standoff\": 15}, \"zerolinecolor\": \"white\", \"zerolinewidth\": 2}, \"yaxis\": {\"automargin\": true, \"gridcolor\": \"white\", \"linecolor\": \"white\", \"ticks\": \"\", \"title\": {\"standoff\": 15}, \"zerolinecolor\": \"white\", \"zerolinewidth\": 2}}}, \"xaxis\": {\"dtick\": 1, \"gridwidth\": 2, \"showticklabels\": false, \"tick0\": -0.5, \"ticks\": \"\", \"zeroline\": false}, \"yaxis\": {\"autorange\": \"reversed\", \"dtick\": 1, \"gridwidth\": 2, \"showticklabels\": false, \"tick0\": 0.5, \"ticks\": \"\", \"zeroline\": false}},\n",
       "                        {\"responsive\": true}\n",
       "                    ).then(function(){\n",
       "                            \n",
       "var gd = document.getElementById('9368b519-1140-4aca-8180-82f0a0152b4c');\n",
       "var x = new MutationObserver(function (mutations, observer) {{\n",
       "        var display = window.getComputedStyle(gd).display;\n",
       "        if (!display || display === 'none') {{\n",
       "            console.log([gd, 'removed!']);\n",
       "            Plotly.purge(gd);\n",
       "            observer.disconnect();\n",
       "        }}\n",
       "}});\n",
       "\n",
       "// Listen for the removal of the full notebook cells\n",
       "var notebookContainer = gd.closest('#notebook-container');\n",
       "if (notebookContainer) {{\n",
       "    x.observe(notebookContainer, {childList: true});\n",
       "}}\n",
       "\n",
       "// Listen for the clearing of the current output cell\n",
       "var outputEl = gd.closest('.output');\n",
       "if (outputEl) {{\n",
       "    x.observe(outputEl, {childList: true});\n",
       "}}\n",
       "\n",
       "                        })\n",
       "                };\n",
       "                });\n",
       "            </script>\n",
       "        </div>"
      ]
     },
     "metadata": {},
     "output_type": "display_data"
    }
   ],
   "source": [
    "fig = ff.create_table(data_plotly[(data_plotly.continent=='Asia') & (data_plotly.country=='India')][['year','pop','gdpPercap']])\n",
    "fig.show()"
   ]
  },
  {
   "cell_type": "code",
   "execution_count": null,
   "metadata": {},
   "outputs": [],
   "source": [
    "############################################### Funnel Chart #########################################################"
   ]
  },
  {
   "cell_type": "code",
   "execution_count": 186,
   "metadata": {},
   "outputs": [
    {
     "data": {
      "application/vnd.plotly.v1+json": {
       "config": {
        "plotlyServerURL": "https://plot.ly"
       },
       "data": [
        {
         "hovertemplate": "number=%{x}<br>stage=%{y}<extra></extra>",
         "legendgroup": "39.0",
         "marker": {
          "color": "#636efa"
         },
         "name": "39.0",
         "orientation": "h",
         "showlegend": true,
         "type": "funnel",
         "x": [
          39
         ],
         "xaxis": "x",
         "y": [
          "Website visit"
         ],
         "yaxis": "y"
        },
        {
         "hovertemplate": "number=%{x}<br>stage=%{y}<extra></extra>",
         "legendgroup": "27.4",
         "marker": {
          "color": "#EF553B"
         },
         "name": "27.4",
         "orientation": "h",
         "showlegend": true,
         "type": "funnel",
         "x": [
          27.4
         ],
         "xaxis": "x",
         "y": [
          "Downloads"
         ],
         "yaxis": "y"
        },
        {
         "hovertemplate": "number=%{x}<br>stage=%{y}<extra></extra>",
         "legendgroup": "20.6",
         "marker": {
          "color": "#00cc96"
         },
         "name": "20.6",
         "orientation": "h",
         "showlegend": true,
         "type": "funnel",
         "x": [
          20.6
         ],
         "xaxis": "x",
         "y": [
          "Potential customers"
         ],
         "yaxis": "y"
        },
        {
         "hovertemplate": "number=%{x}<br>stage=%{y}<extra></extra>",
         "legendgroup": "11.0",
         "marker": {
          "color": "#ab63fa"
         },
         "name": "11.0",
         "orientation": "h",
         "showlegend": true,
         "type": "funnel",
         "x": [
          11
         ],
         "xaxis": "x",
         "y": [
          "Requested price"
         ],
         "yaxis": "y"
        },
        {
         "hovertemplate": "number=%{x}<br>stage=%{y}<extra></extra>",
         "legendgroup": "2.0",
         "marker": {
          "color": "#FFA15A"
         },
         "name": "2.0",
         "orientation": "h",
         "showlegend": true,
         "type": "funnel",
         "x": [
          2
         ],
         "xaxis": "x",
         "y": [
          "invoice sent"
         ],
         "yaxis": "y"
        }
       ],
       "layout": {
        "legend": {
         "title": {
          "text": "number"
         },
         "tracegroupgap": 0
        },
        "margin": {
         "t": 60
        },
        "template": {
         "data": {
          "bar": [
           {
            "error_x": {
             "color": "#2a3f5f"
            },
            "error_y": {
             "color": "#2a3f5f"
            },
            "marker": {
             "line": {
              "color": "#E5ECF6",
              "width": 0.5
             }
            },
            "type": "bar"
           }
          ],
          "barpolar": [
           {
            "marker": {
             "line": {
              "color": "#E5ECF6",
              "width": 0.5
             }
            },
            "type": "barpolar"
           }
          ],
          "carpet": [
           {
            "aaxis": {
             "endlinecolor": "#2a3f5f",
             "gridcolor": "white",
             "linecolor": "white",
             "minorgridcolor": "white",
             "startlinecolor": "#2a3f5f"
            },
            "baxis": {
             "endlinecolor": "#2a3f5f",
             "gridcolor": "white",
             "linecolor": "white",
             "minorgridcolor": "white",
             "startlinecolor": "#2a3f5f"
            },
            "type": "carpet"
           }
          ],
          "choropleth": [
           {
            "colorbar": {
             "outlinewidth": 0,
             "ticks": ""
            },
            "type": "choropleth"
           }
          ],
          "contour": [
           {
            "colorbar": {
             "outlinewidth": 0,
             "ticks": ""
            },
            "colorscale": [
             [
              0,
              "#0d0887"
             ],
             [
              0.1111111111111111,
              "#46039f"
             ],
             [
              0.2222222222222222,
              "#7201a8"
             ],
             [
              0.3333333333333333,
              "#9c179e"
             ],
             [
              0.4444444444444444,
              "#bd3786"
             ],
             [
              0.5555555555555556,
              "#d8576b"
             ],
             [
              0.6666666666666666,
              "#ed7953"
             ],
             [
              0.7777777777777778,
              "#fb9f3a"
             ],
             [
              0.8888888888888888,
              "#fdca26"
             ],
             [
              1,
              "#f0f921"
             ]
            ],
            "type": "contour"
           }
          ],
          "contourcarpet": [
           {
            "colorbar": {
             "outlinewidth": 0,
             "ticks": ""
            },
            "type": "contourcarpet"
           }
          ],
          "heatmap": [
           {
            "colorbar": {
             "outlinewidth": 0,
             "ticks": ""
            },
            "colorscale": [
             [
              0,
              "#0d0887"
             ],
             [
              0.1111111111111111,
              "#46039f"
             ],
             [
              0.2222222222222222,
              "#7201a8"
             ],
             [
              0.3333333333333333,
              "#9c179e"
             ],
             [
              0.4444444444444444,
              "#bd3786"
             ],
             [
              0.5555555555555556,
              "#d8576b"
             ],
             [
              0.6666666666666666,
              "#ed7953"
             ],
             [
              0.7777777777777778,
              "#fb9f3a"
             ],
             [
              0.8888888888888888,
              "#fdca26"
             ],
             [
              1,
              "#f0f921"
             ]
            ],
            "type": "heatmap"
           }
          ],
          "heatmapgl": [
           {
            "colorbar": {
             "outlinewidth": 0,
             "ticks": ""
            },
            "colorscale": [
             [
              0,
              "#0d0887"
             ],
             [
              0.1111111111111111,
              "#46039f"
             ],
             [
              0.2222222222222222,
              "#7201a8"
             ],
             [
              0.3333333333333333,
              "#9c179e"
             ],
             [
              0.4444444444444444,
              "#bd3786"
             ],
             [
              0.5555555555555556,
              "#d8576b"
             ],
             [
              0.6666666666666666,
              "#ed7953"
             ],
             [
              0.7777777777777778,
              "#fb9f3a"
             ],
             [
              0.8888888888888888,
              "#fdca26"
             ],
             [
              1,
              "#f0f921"
             ]
            ],
            "type": "heatmapgl"
           }
          ],
          "histogram": [
           {
            "marker": {
             "colorbar": {
              "outlinewidth": 0,
              "ticks": ""
             }
            },
            "type": "histogram"
           }
          ],
          "histogram2d": [
           {
            "colorbar": {
             "outlinewidth": 0,
             "ticks": ""
            },
            "colorscale": [
             [
              0,
              "#0d0887"
             ],
             [
              0.1111111111111111,
              "#46039f"
             ],
             [
              0.2222222222222222,
              "#7201a8"
             ],
             [
              0.3333333333333333,
              "#9c179e"
             ],
             [
              0.4444444444444444,
              "#bd3786"
             ],
             [
              0.5555555555555556,
              "#d8576b"
             ],
             [
              0.6666666666666666,
              "#ed7953"
             ],
             [
              0.7777777777777778,
              "#fb9f3a"
             ],
             [
              0.8888888888888888,
              "#fdca26"
             ],
             [
              1,
              "#f0f921"
             ]
            ],
            "type": "histogram2d"
           }
          ],
          "histogram2dcontour": [
           {
            "colorbar": {
             "outlinewidth": 0,
             "ticks": ""
            },
            "colorscale": [
             [
              0,
              "#0d0887"
             ],
             [
              0.1111111111111111,
              "#46039f"
             ],
             [
              0.2222222222222222,
              "#7201a8"
             ],
             [
              0.3333333333333333,
              "#9c179e"
             ],
             [
              0.4444444444444444,
              "#bd3786"
             ],
             [
              0.5555555555555556,
              "#d8576b"
             ],
             [
              0.6666666666666666,
              "#ed7953"
             ],
             [
              0.7777777777777778,
              "#fb9f3a"
             ],
             [
              0.8888888888888888,
              "#fdca26"
             ],
             [
              1,
              "#f0f921"
             ]
            ],
            "type": "histogram2dcontour"
           }
          ],
          "mesh3d": [
           {
            "colorbar": {
             "outlinewidth": 0,
             "ticks": ""
            },
            "type": "mesh3d"
           }
          ],
          "parcoords": [
           {
            "line": {
             "colorbar": {
              "outlinewidth": 0,
              "ticks": ""
             }
            },
            "type": "parcoords"
           }
          ],
          "pie": [
           {
            "automargin": true,
            "type": "pie"
           }
          ],
          "scatter": [
           {
            "marker": {
             "colorbar": {
              "outlinewidth": 0,
              "ticks": ""
             }
            },
            "type": "scatter"
           }
          ],
          "scatter3d": [
           {
            "line": {
             "colorbar": {
              "outlinewidth": 0,
              "ticks": ""
             }
            },
            "marker": {
             "colorbar": {
              "outlinewidth": 0,
              "ticks": ""
             }
            },
            "type": "scatter3d"
           }
          ],
          "scattercarpet": [
           {
            "marker": {
             "colorbar": {
              "outlinewidth": 0,
              "ticks": ""
             }
            },
            "type": "scattercarpet"
           }
          ],
          "scattergeo": [
           {
            "marker": {
             "colorbar": {
              "outlinewidth": 0,
              "ticks": ""
             }
            },
            "type": "scattergeo"
           }
          ],
          "scattergl": [
           {
            "marker": {
             "colorbar": {
              "outlinewidth": 0,
              "ticks": ""
             }
            },
            "type": "scattergl"
           }
          ],
          "scattermapbox": [
           {
            "marker": {
             "colorbar": {
              "outlinewidth": 0,
              "ticks": ""
             }
            },
            "type": "scattermapbox"
           }
          ],
          "scatterpolar": [
           {
            "marker": {
             "colorbar": {
              "outlinewidth": 0,
              "ticks": ""
             }
            },
            "type": "scatterpolar"
           }
          ],
          "scatterpolargl": [
           {
            "marker": {
             "colorbar": {
              "outlinewidth": 0,
              "ticks": ""
             }
            },
            "type": "scatterpolargl"
           }
          ],
          "scatterternary": [
           {
            "marker": {
             "colorbar": {
              "outlinewidth": 0,
              "ticks": ""
             }
            },
            "type": "scatterternary"
           }
          ],
          "surface": [
           {
            "colorbar": {
             "outlinewidth": 0,
             "ticks": ""
            },
            "colorscale": [
             [
              0,
              "#0d0887"
             ],
             [
              0.1111111111111111,
              "#46039f"
             ],
             [
              0.2222222222222222,
              "#7201a8"
             ],
             [
              0.3333333333333333,
              "#9c179e"
             ],
             [
              0.4444444444444444,
              "#bd3786"
             ],
             [
              0.5555555555555556,
              "#d8576b"
             ],
             [
              0.6666666666666666,
              "#ed7953"
             ],
             [
              0.7777777777777778,
              "#fb9f3a"
             ],
             [
              0.8888888888888888,
              "#fdca26"
             ],
             [
              1,
              "#f0f921"
             ]
            ],
            "type": "surface"
           }
          ],
          "table": [
           {
            "cells": {
             "fill": {
              "color": "#EBF0F8"
             },
             "line": {
              "color": "white"
             }
            },
            "header": {
             "fill": {
              "color": "#C8D4E3"
             },
             "line": {
              "color": "white"
             }
            },
            "type": "table"
           }
          ]
         },
         "layout": {
          "annotationdefaults": {
           "arrowcolor": "#2a3f5f",
           "arrowhead": 0,
           "arrowwidth": 1
          },
          "coloraxis": {
           "colorbar": {
            "outlinewidth": 0,
            "ticks": ""
           }
          },
          "colorscale": {
           "diverging": [
            [
             0,
             "#8e0152"
            ],
            [
             0.1,
             "#c51b7d"
            ],
            [
             0.2,
             "#de77ae"
            ],
            [
             0.3,
             "#f1b6da"
            ],
            [
             0.4,
             "#fde0ef"
            ],
            [
             0.5,
             "#f7f7f7"
            ],
            [
             0.6,
             "#e6f5d0"
            ],
            [
             0.7,
             "#b8e186"
            ],
            [
             0.8,
             "#7fbc41"
            ],
            [
             0.9,
             "#4d9221"
            ],
            [
             1,
             "#276419"
            ]
           ],
           "sequential": [
            [
             0,
             "#0d0887"
            ],
            [
             0.1111111111111111,
             "#46039f"
            ],
            [
             0.2222222222222222,
             "#7201a8"
            ],
            [
             0.3333333333333333,
             "#9c179e"
            ],
            [
             0.4444444444444444,
             "#bd3786"
            ],
            [
             0.5555555555555556,
             "#d8576b"
            ],
            [
             0.6666666666666666,
             "#ed7953"
            ],
            [
             0.7777777777777778,
             "#fb9f3a"
            ],
            [
             0.8888888888888888,
             "#fdca26"
            ],
            [
             1,
             "#f0f921"
            ]
           ],
           "sequentialminus": [
            [
             0,
             "#0d0887"
            ],
            [
             0.1111111111111111,
             "#46039f"
            ],
            [
             0.2222222222222222,
             "#7201a8"
            ],
            [
             0.3333333333333333,
             "#9c179e"
            ],
            [
             0.4444444444444444,
             "#bd3786"
            ],
            [
             0.5555555555555556,
             "#d8576b"
            ],
            [
             0.6666666666666666,
             "#ed7953"
            ],
            [
             0.7777777777777778,
             "#fb9f3a"
            ],
            [
             0.8888888888888888,
             "#fdca26"
            ],
            [
             1,
             "#f0f921"
            ]
           ]
          },
          "colorway": [
           "#636efa",
           "#EF553B",
           "#00cc96",
           "#ab63fa",
           "#FFA15A",
           "#19d3f3",
           "#FF6692",
           "#B6E880",
           "#FF97FF",
           "#FECB52"
          ],
          "font": {
           "color": "#2a3f5f"
          },
          "geo": {
           "bgcolor": "white",
           "lakecolor": "white",
           "landcolor": "#E5ECF6",
           "showlakes": true,
           "showland": true,
           "subunitcolor": "white"
          },
          "hoverlabel": {
           "align": "left"
          },
          "hovermode": "closest",
          "mapbox": {
           "style": "light"
          },
          "paper_bgcolor": "white",
          "plot_bgcolor": "#E5ECF6",
          "polar": {
           "angularaxis": {
            "gridcolor": "white",
            "linecolor": "white",
            "ticks": ""
           },
           "bgcolor": "#E5ECF6",
           "radialaxis": {
            "gridcolor": "white",
            "linecolor": "white",
            "ticks": ""
           }
          },
          "scene": {
           "xaxis": {
            "backgroundcolor": "#E5ECF6",
            "gridcolor": "white",
            "gridwidth": 2,
            "linecolor": "white",
            "showbackground": true,
            "ticks": "",
            "zerolinecolor": "white"
           },
           "yaxis": {
            "backgroundcolor": "#E5ECF6",
            "gridcolor": "white",
            "gridwidth": 2,
            "linecolor": "white",
            "showbackground": true,
            "ticks": "",
            "zerolinecolor": "white"
           },
           "zaxis": {
            "backgroundcolor": "#E5ECF6",
            "gridcolor": "white",
            "gridwidth": 2,
            "linecolor": "white",
            "showbackground": true,
            "ticks": "",
            "zerolinecolor": "white"
           }
          },
          "shapedefaults": {
           "line": {
            "color": "#2a3f5f"
           }
          },
          "ternary": {
           "aaxis": {
            "gridcolor": "white",
            "linecolor": "white",
            "ticks": ""
           },
           "baxis": {
            "gridcolor": "white",
            "linecolor": "white",
            "ticks": ""
           },
           "bgcolor": "#E5ECF6",
           "caxis": {
            "gridcolor": "white",
            "linecolor": "white",
            "ticks": ""
           }
          },
          "title": {
           "x": 0.05
          },
          "xaxis": {
           "automargin": true,
           "gridcolor": "white",
           "linecolor": "white",
           "ticks": "",
           "title": {
            "standoff": 15
           },
           "zerolinecolor": "white",
           "zerolinewidth": 2
          },
          "yaxis": {
           "automargin": true,
           "gridcolor": "white",
           "linecolor": "white",
           "ticks": "",
           "title": {
            "standoff": 15
           },
           "zerolinecolor": "white",
           "zerolinewidth": 2
          }
         }
        },
        "title": {
         "text": "Customer Conversion at various stages"
        },
        "xaxis": {
         "anchor": "y",
         "categoryarray": [
          39,
          27.4,
          20.6,
          11,
          2
         ],
         "categoryorder": "array",
         "domain": [
          0,
          1
         ],
         "title": {
          "text": "number"
         }
        },
        "yaxis": {
         "anchor": "x",
         "domain": [
          0,
          1
         ],
         "title": {
          "text": "Customer Acquisition Stages"
         }
        }
       }
      },
      "text/html": [
       "<div>\n",
       "        \n",
       "        \n",
       "            <div id=\"c3a16f56-af08-4b73-89ad-b8fb8b959b56\" class=\"plotly-graph-div\" style=\"height:525px; width:100%;\"></div>\n",
       "            <script type=\"text/javascript\">\n",
       "                require([\"plotly\"], function(Plotly) {\n",
       "                    window.PLOTLYENV=window.PLOTLYENV || {};\n",
       "                    \n",
       "                if (document.getElementById(\"c3a16f56-af08-4b73-89ad-b8fb8b959b56\")) {\n",
       "                    Plotly.newPlot(\n",
       "                        'c3a16f56-af08-4b73-89ad-b8fb8b959b56',\n",
       "                        [{\"hovertemplate\": \"number=%{x}<br>stage=%{y}<extra></extra>\", \"legendgroup\": \"39.0\", \"marker\": {\"color\": \"#636efa\"}, \"name\": \"39.0\", \"orientation\": \"h\", \"showlegend\": true, \"type\": \"funnel\", \"x\": [39.0], \"xaxis\": \"x\", \"y\": [\"Website visit\"], \"yaxis\": \"y\"}, {\"hovertemplate\": \"number=%{x}<br>stage=%{y}<extra></extra>\", \"legendgroup\": \"27.4\", \"marker\": {\"color\": \"#EF553B\"}, \"name\": \"27.4\", \"orientation\": \"h\", \"showlegend\": true, \"type\": \"funnel\", \"x\": [27.4], \"xaxis\": \"x\", \"y\": [\"Downloads\"], \"yaxis\": \"y\"}, {\"hovertemplate\": \"number=%{x}<br>stage=%{y}<extra></extra>\", \"legendgroup\": \"20.6\", \"marker\": {\"color\": \"#00cc96\"}, \"name\": \"20.6\", \"orientation\": \"h\", \"showlegend\": true, \"type\": \"funnel\", \"x\": [20.6], \"xaxis\": \"x\", \"y\": [\"Potential customers\"], \"yaxis\": \"y\"}, {\"hovertemplate\": \"number=%{x}<br>stage=%{y}<extra></extra>\", \"legendgroup\": \"11.0\", \"marker\": {\"color\": \"#ab63fa\"}, \"name\": \"11.0\", \"orientation\": \"h\", \"showlegend\": true, \"type\": \"funnel\", \"x\": [11.0], \"xaxis\": \"x\", \"y\": [\"Requested price\"], \"yaxis\": \"y\"}, {\"hovertemplate\": \"number=%{x}<br>stage=%{y}<extra></extra>\", \"legendgroup\": \"2.0\", \"marker\": {\"color\": \"#FFA15A\"}, \"name\": \"2.0\", \"orientation\": \"h\", \"showlegend\": true, \"type\": \"funnel\", \"x\": [2.0], \"xaxis\": \"x\", \"y\": [\"invoice sent\"], \"yaxis\": \"y\"}],\n",
       "                        {\"legend\": {\"title\": {\"text\": \"number\"}, \"tracegroupgap\": 0}, \"margin\": {\"t\": 60}, \"template\": {\"data\": {\"bar\": [{\"error_x\": {\"color\": \"#2a3f5f\"}, \"error_y\": {\"color\": \"#2a3f5f\"}, \"marker\": {\"line\": {\"color\": \"#E5ECF6\", \"width\": 0.5}}, \"type\": \"bar\"}], \"barpolar\": [{\"marker\": {\"line\": {\"color\": \"#E5ECF6\", \"width\": 0.5}}, \"type\": \"barpolar\"}], \"carpet\": [{\"aaxis\": {\"endlinecolor\": \"#2a3f5f\", \"gridcolor\": \"white\", \"linecolor\": \"white\", \"minorgridcolor\": \"white\", \"startlinecolor\": \"#2a3f5f\"}, \"baxis\": {\"endlinecolor\": \"#2a3f5f\", \"gridcolor\": \"white\", \"linecolor\": \"white\", \"minorgridcolor\": \"white\", \"startlinecolor\": \"#2a3f5f\"}, \"type\": \"carpet\"}], \"choropleth\": [{\"colorbar\": {\"outlinewidth\": 0, \"ticks\": \"\"}, \"type\": \"choropleth\"}], \"contour\": [{\"colorbar\": {\"outlinewidth\": 0, \"ticks\": \"\"}, \"colorscale\": [[0.0, \"#0d0887\"], [0.1111111111111111, \"#46039f\"], [0.2222222222222222, \"#7201a8\"], [0.3333333333333333, \"#9c179e\"], [0.4444444444444444, \"#bd3786\"], [0.5555555555555556, \"#d8576b\"], [0.6666666666666666, \"#ed7953\"], [0.7777777777777778, \"#fb9f3a\"], [0.8888888888888888, \"#fdca26\"], [1.0, \"#f0f921\"]], \"type\": \"contour\"}], \"contourcarpet\": [{\"colorbar\": {\"outlinewidth\": 0, \"ticks\": \"\"}, \"type\": \"contourcarpet\"}], \"heatmap\": [{\"colorbar\": {\"outlinewidth\": 0, \"ticks\": \"\"}, \"colorscale\": [[0.0, \"#0d0887\"], [0.1111111111111111, \"#46039f\"], [0.2222222222222222, \"#7201a8\"], [0.3333333333333333, \"#9c179e\"], [0.4444444444444444, \"#bd3786\"], [0.5555555555555556, \"#d8576b\"], [0.6666666666666666, \"#ed7953\"], [0.7777777777777778, \"#fb9f3a\"], [0.8888888888888888, \"#fdca26\"], [1.0, \"#f0f921\"]], \"type\": \"heatmap\"}], \"heatmapgl\": [{\"colorbar\": {\"outlinewidth\": 0, \"ticks\": \"\"}, \"colorscale\": [[0.0, \"#0d0887\"], [0.1111111111111111, \"#46039f\"], [0.2222222222222222, \"#7201a8\"], [0.3333333333333333, \"#9c179e\"], [0.4444444444444444, \"#bd3786\"], [0.5555555555555556, \"#d8576b\"], [0.6666666666666666, \"#ed7953\"], [0.7777777777777778, \"#fb9f3a\"], [0.8888888888888888, \"#fdca26\"], [1.0, \"#f0f921\"]], \"type\": \"heatmapgl\"}], \"histogram\": [{\"marker\": {\"colorbar\": {\"outlinewidth\": 0, \"ticks\": \"\"}}, \"type\": \"histogram\"}], \"histogram2d\": [{\"colorbar\": {\"outlinewidth\": 0, \"ticks\": \"\"}, \"colorscale\": [[0.0, \"#0d0887\"], [0.1111111111111111, \"#46039f\"], [0.2222222222222222, \"#7201a8\"], [0.3333333333333333, \"#9c179e\"], [0.4444444444444444, \"#bd3786\"], [0.5555555555555556, \"#d8576b\"], [0.6666666666666666, \"#ed7953\"], [0.7777777777777778, \"#fb9f3a\"], [0.8888888888888888, \"#fdca26\"], [1.0, \"#f0f921\"]], \"type\": \"histogram2d\"}], \"histogram2dcontour\": [{\"colorbar\": {\"outlinewidth\": 0, \"ticks\": \"\"}, \"colorscale\": [[0.0, \"#0d0887\"], [0.1111111111111111, \"#46039f\"], [0.2222222222222222, \"#7201a8\"], [0.3333333333333333, \"#9c179e\"], [0.4444444444444444, \"#bd3786\"], [0.5555555555555556, \"#d8576b\"], [0.6666666666666666, \"#ed7953\"], [0.7777777777777778, \"#fb9f3a\"], [0.8888888888888888, \"#fdca26\"], [1.0, \"#f0f921\"]], \"type\": \"histogram2dcontour\"}], \"mesh3d\": [{\"colorbar\": {\"outlinewidth\": 0, \"ticks\": \"\"}, \"type\": \"mesh3d\"}], \"parcoords\": [{\"line\": {\"colorbar\": {\"outlinewidth\": 0, \"ticks\": \"\"}}, \"type\": \"parcoords\"}], \"pie\": [{\"automargin\": true, \"type\": \"pie\"}], \"scatter\": [{\"marker\": {\"colorbar\": {\"outlinewidth\": 0, \"ticks\": \"\"}}, \"type\": \"scatter\"}], \"scatter3d\": [{\"line\": {\"colorbar\": {\"outlinewidth\": 0, \"ticks\": \"\"}}, \"marker\": {\"colorbar\": {\"outlinewidth\": 0, \"ticks\": \"\"}}, \"type\": \"scatter3d\"}], \"scattercarpet\": [{\"marker\": {\"colorbar\": {\"outlinewidth\": 0, \"ticks\": \"\"}}, \"type\": \"scattercarpet\"}], \"scattergeo\": [{\"marker\": {\"colorbar\": {\"outlinewidth\": 0, \"ticks\": \"\"}}, \"type\": \"scattergeo\"}], \"scattergl\": [{\"marker\": {\"colorbar\": {\"outlinewidth\": 0, \"ticks\": \"\"}}, \"type\": \"scattergl\"}], \"scattermapbox\": [{\"marker\": {\"colorbar\": {\"outlinewidth\": 0, \"ticks\": \"\"}}, \"type\": \"scattermapbox\"}], \"scatterpolar\": [{\"marker\": {\"colorbar\": {\"outlinewidth\": 0, \"ticks\": \"\"}}, \"type\": \"scatterpolar\"}], \"scatterpolargl\": [{\"marker\": {\"colorbar\": {\"outlinewidth\": 0, \"ticks\": \"\"}}, \"type\": \"scatterpolargl\"}], \"scatterternary\": [{\"marker\": {\"colorbar\": {\"outlinewidth\": 0, \"ticks\": \"\"}}, \"type\": \"scatterternary\"}], \"surface\": [{\"colorbar\": {\"outlinewidth\": 0, \"ticks\": \"\"}, \"colorscale\": [[0.0, \"#0d0887\"], [0.1111111111111111, \"#46039f\"], [0.2222222222222222, \"#7201a8\"], [0.3333333333333333, \"#9c179e\"], [0.4444444444444444, \"#bd3786\"], [0.5555555555555556, \"#d8576b\"], [0.6666666666666666, \"#ed7953\"], [0.7777777777777778, \"#fb9f3a\"], [0.8888888888888888, \"#fdca26\"], [1.0, \"#f0f921\"]], \"type\": \"surface\"}], \"table\": [{\"cells\": {\"fill\": {\"color\": \"#EBF0F8\"}, \"line\": {\"color\": \"white\"}}, \"header\": {\"fill\": {\"color\": \"#C8D4E3\"}, \"line\": {\"color\": \"white\"}}, \"type\": \"table\"}]}, \"layout\": {\"annotationdefaults\": {\"arrowcolor\": \"#2a3f5f\", \"arrowhead\": 0, \"arrowwidth\": 1}, \"coloraxis\": {\"colorbar\": {\"outlinewidth\": 0, \"ticks\": \"\"}}, \"colorscale\": {\"diverging\": [[0, \"#8e0152\"], [0.1, \"#c51b7d\"], [0.2, \"#de77ae\"], [0.3, \"#f1b6da\"], [0.4, \"#fde0ef\"], [0.5, \"#f7f7f7\"], [0.6, \"#e6f5d0\"], [0.7, \"#b8e186\"], [0.8, \"#7fbc41\"], [0.9, \"#4d9221\"], [1, \"#276419\"]], \"sequential\": [[0.0, \"#0d0887\"], [0.1111111111111111, \"#46039f\"], [0.2222222222222222, \"#7201a8\"], [0.3333333333333333, \"#9c179e\"], [0.4444444444444444, \"#bd3786\"], [0.5555555555555556, \"#d8576b\"], [0.6666666666666666, \"#ed7953\"], [0.7777777777777778, \"#fb9f3a\"], [0.8888888888888888, \"#fdca26\"], [1.0, \"#f0f921\"]], \"sequentialminus\": [[0.0, \"#0d0887\"], [0.1111111111111111, \"#46039f\"], [0.2222222222222222, \"#7201a8\"], [0.3333333333333333, \"#9c179e\"], [0.4444444444444444, \"#bd3786\"], [0.5555555555555556, \"#d8576b\"], [0.6666666666666666, \"#ed7953\"], [0.7777777777777778, \"#fb9f3a\"], [0.8888888888888888, \"#fdca26\"], [1.0, \"#f0f921\"]]}, \"colorway\": [\"#636efa\", \"#EF553B\", \"#00cc96\", \"#ab63fa\", \"#FFA15A\", \"#19d3f3\", \"#FF6692\", \"#B6E880\", \"#FF97FF\", \"#FECB52\"], \"font\": {\"color\": \"#2a3f5f\"}, \"geo\": {\"bgcolor\": \"white\", \"lakecolor\": \"white\", \"landcolor\": \"#E5ECF6\", \"showlakes\": true, \"showland\": true, \"subunitcolor\": \"white\"}, \"hoverlabel\": {\"align\": \"left\"}, \"hovermode\": \"closest\", \"mapbox\": {\"style\": \"light\"}, \"paper_bgcolor\": \"white\", \"plot_bgcolor\": \"#E5ECF6\", \"polar\": {\"angularaxis\": {\"gridcolor\": \"white\", \"linecolor\": \"white\", \"ticks\": \"\"}, \"bgcolor\": \"#E5ECF6\", \"radialaxis\": {\"gridcolor\": \"white\", \"linecolor\": \"white\", \"ticks\": \"\"}}, \"scene\": {\"xaxis\": {\"backgroundcolor\": \"#E5ECF6\", \"gridcolor\": \"white\", \"gridwidth\": 2, \"linecolor\": \"white\", \"showbackground\": true, \"ticks\": \"\", \"zerolinecolor\": \"white\"}, \"yaxis\": {\"backgroundcolor\": \"#E5ECF6\", \"gridcolor\": \"white\", \"gridwidth\": 2, \"linecolor\": \"white\", \"showbackground\": true, \"ticks\": \"\", \"zerolinecolor\": \"white\"}, \"zaxis\": {\"backgroundcolor\": \"#E5ECF6\", \"gridcolor\": \"white\", \"gridwidth\": 2, \"linecolor\": \"white\", \"showbackground\": true, \"ticks\": \"\", \"zerolinecolor\": \"white\"}}, \"shapedefaults\": {\"line\": {\"color\": \"#2a3f5f\"}}, \"ternary\": {\"aaxis\": {\"gridcolor\": \"white\", \"linecolor\": \"white\", \"ticks\": \"\"}, \"baxis\": {\"gridcolor\": \"white\", \"linecolor\": \"white\", \"ticks\": \"\"}, \"bgcolor\": \"#E5ECF6\", \"caxis\": {\"gridcolor\": \"white\", \"linecolor\": \"white\", \"ticks\": \"\"}}, \"title\": {\"x\": 0.05}, \"xaxis\": {\"automargin\": true, \"gridcolor\": \"white\", \"linecolor\": \"white\", \"ticks\": \"\", \"title\": {\"standoff\": 15}, \"zerolinecolor\": \"white\", \"zerolinewidth\": 2}, \"yaxis\": {\"automargin\": true, \"gridcolor\": \"white\", \"linecolor\": \"white\", \"ticks\": \"\", \"title\": {\"standoff\": 15}, \"zerolinecolor\": \"white\", \"zerolinewidth\": 2}}}, \"title\": {\"text\": \"Customer Conversion at various stages\"}, \"xaxis\": {\"anchor\": \"y\", \"categoryarray\": [39.0, 27.4, 20.6, 11.0, 2.0], \"categoryorder\": \"array\", \"domain\": [0.0, 1.0], \"title\": {\"text\": \"number\"}}, \"yaxis\": {\"anchor\": \"x\", \"domain\": [0.0, 1.0], \"title\": {\"text\": \"Customer Acquisition Stages\"}}},\n",
       "                        {\"responsive\": true}\n",
       "                    ).then(function(){\n",
       "                            \n",
       "var gd = document.getElementById('c3a16f56-af08-4b73-89ad-b8fb8b959b56');\n",
       "var x = new MutationObserver(function (mutations, observer) {{\n",
       "        var display = window.getComputedStyle(gd).display;\n",
       "        if (!display || display === 'none') {{\n",
       "            console.log([gd, 'removed!']);\n",
       "            Plotly.purge(gd);\n",
       "            observer.disconnect();\n",
       "        }}\n",
       "}});\n",
       "\n",
       "// Listen for the removal of the full notebook cells\n",
       "var notebookContainer = gd.closest('#notebook-container');\n",
       "if (notebookContainer) {{\n",
       "    x.observe(notebookContainer, {childList: true});\n",
       "}}\n",
       "\n",
       "// Listen for the clearing of the current output cell\n",
       "var outputEl = gd.closest('.output');\n",
       "if (outputEl) {{\n",
       "    x.observe(outputEl, {childList: true});\n",
       "}}\n",
       "\n",
       "                        })\n",
       "                };\n",
       "                });\n",
       "            </script>\n",
       "        </div>"
      ]
     },
     "metadata": {},
     "output_type": "display_data"
    }
   ],
   "source": [
    "data = dict(\n",
    "    number=[39, 27.4, 20.6, 11, 2],\n",
    "    stage=[\"Website visit\", \"Downloads\", \"Potential customers\", \"Requested price\", \"invoice sent\"])\n",
    "fig = px.funnel(data, x='number', y='stage',color='number')\n",
    "fig.update_layout(yaxis=dict(title='Customer Acquisition Stages'),title='Customer Conversion at various stages')\n",
    "fig.show()"
   ]
  },
  {
   "cell_type": "code",
   "execution_count": 182,
   "metadata": {},
   "outputs": [
    {
     "data": {
      "application/vnd.plotly.v1+json": {
       "config": {
        "plotlyServerURL": "https://plot.ly"
       },
       "data": [
        {
         "domain": {
          "x": [
           0,
           1
          ],
          "y": [
           0,
           1
          ]
         },
         "hovertemplate": "label=%{label}<br>value=%{value}<extra></extra>",
         "labels": [
          "Website visit",
          "Downloads",
          "Potential customers",
          "Requested price",
          "invoice sent"
         ],
         "legendgroup": "",
         "name": "",
         "showlegend": true,
         "type": "funnelarea",
         "values": [
          20,
          10,
          9,
          5,
          2
         ]
        }
       ],
       "layout": {
        "legend": {
         "tracegroupgap": 0
        },
        "margin": {
         "t": 60
        },
        "template": {
         "data": {
          "bar": [
           {
            "error_x": {
             "color": "#2a3f5f"
            },
            "error_y": {
             "color": "#2a3f5f"
            },
            "marker": {
             "line": {
              "color": "#E5ECF6",
              "width": 0.5
             }
            },
            "type": "bar"
           }
          ],
          "barpolar": [
           {
            "marker": {
             "line": {
              "color": "#E5ECF6",
              "width": 0.5
             }
            },
            "type": "barpolar"
           }
          ],
          "carpet": [
           {
            "aaxis": {
             "endlinecolor": "#2a3f5f",
             "gridcolor": "white",
             "linecolor": "white",
             "minorgridcolor": "white",
             "startlinecolor": "#2a3f5f"
            },
            "baxis": {
             "endlinecolor": "#2a3f5f",
             "gridcolor": "white",
             "linecolor": "white",
             "minorgridcolor": "white",
             "startlinecolor": "#2a3f5f"
            },
            "type": "carpet"
           }
          ],
          "choropleth": [
           {
            "colorbar": {
             "outlinewidth": 0,
             "ticks": ""
            },
            "type": "choropleth"
           }
          ],
          "contour": [
           {
            "colorbar": {
             "outlinewidth": 0,
             "ticks": ""
            },
            "colorscale": [
             [
              0,
              "#0d0887"
             ],
             [
              0.1111111111111111,
              "#46039f"
             ],
             [
              0.2222222222222222,
              "#7201a8"
             ],
             [
              0.3333333333333333,
              "#9c179e"
             ],
             [
              0.4444444444444444,
              "#bd3786"
             ],
             [
              0.5555555555555556,
              "#d8576b"
             ],
             [
              0.6666666666666666,
              "#ed7953"
             ],
             [
              0.7777777777777778,
              "#fb9f3a"
             ],
             [
              0.8888888888888888,
              "#fdca26"
             ],
             [
              1,
              "#f0f921"
             ]
            ],
            "type": "contour"
           }
          ],
          "contourcarpet": [
           {
            "colorbar": {
             "outlinewidth": 0,
             "ticks": ""
            },
            "type": "contourcarpet"
           }
          ],
          "heatmap": [
           {
            "colorbar": {
             "outlinewidth": 0,
             "ticks": ""
            },
            "colorscale": [
             [
              0,
              "#0d0887"
             ],
             [
              0.1111111111111111,
              "#46039f"
             ],
             [
              0.2222222222222222,
              "#7201a8"
             ],
             [
              0.3333333333333333,
              "#9c179e"
             ],
             [
              0.4444444444444444,
              "#bd3786"
             ],
             [
              0.5555555555555556,
              "#d8576b"
             ],
             [
              0.6666666666666666,
              "#ed7953"
             ],
             [
              0.7777777777777778,
              "#fb9f3a"
             ],
             [
              0.8888888888888888,
              "#fdca26"
             ],
             [
              1,
              "#f0f921"
             ]
            ],
            "type": "heatmap"
           }
          ],
          "heatmapgl": [
           {
            "colorbar": {
             "outlinewidth": 0,
             "ticks": ""
            },
            "colorscale": [
             [
              0,
              "#0d0887"
             ],
             [
              0.1111111111111111,
              "#46039f"
             ],
             [
              0.2222222222222222,
              "#7201a8"
             ],
             [
              0.3333333333333333,
              "#9c179e"
             ],
             [
              0.4444444444444444,
              "#bd3786"
             ],
             [
              0.5555555555555556,
              "#d8576b"
             ],
             [
              0.6666666666666666,
              "#ed7953"
             ],
             [
              0.7777777777777778,
              "#fb9f3a"
             ],
             [
              0.8888888888888888,
              "#fdca26"
             ],
             [
              1,
              "#f0f921"
             ]
            ],
            "type": "heatmapgl"
           }
          ],
          "histogram": [
           {
            "marker": {
             "colorbar": {
              "outlinewidth": 0,
              "ticks": ""
             }
            },
            "type": "histogram"
           }
          ],
          "histogram2d": [
           {
            "colorbar": {
             "outlinewidth": 0,
             "ticks": ""
            },
            "colorscale": [
             [
              0,
              "#0d0887"
             ],
             [
              0.1111111111111111,
              "#46039f"
             ],
             [
              0.2222222222222222,
              "#7201a8"
             ],
             [
              0.3333333333333333,
              "#9c179e"
             ],
             [
              0.4444444444444444,
              "#bd3786"
             ],
             [
              0.5555555555555556,
              "#d8576b"
             ],
             [
              0.6666666666666666,
              "#ed7953"
             ],
             [
              0.7777777777777778,
              "#fb9f3a"
             ],
             [
              0.8888888888888888,
              "#fdca26"
             ],
             [
              1,
              "#f0f921"
             ]
            ],
            "type": "histogram2d"
           }
          ],
          "histogram2dcontour": [
           {
            "colorbar": {
             "outlinewidth": 0,
             "ticks": ""
            },
            "colorscale": [
             [
              0,
              "#0d0887"
             ],
             [
              0.1111111111111111,
              "#46039f"
             ],
             [
              0.2222222222222222,
              "#7201a8"
             ],
             [
              0.3333333333333333,
              "#9c179e"
             ],
             [
              0.4444444444444444,
              "#bd3786"
             ],
             [
              0.5555555555555556,
              "#d8576b"
             ],
             [
              0.6666666666666666,
              "#ed7953"
             ],
             [
              0.7777777777777778,
              "#fb9f3a"
             ],
             [
              0.8888888888888888,
              "#fdca26"
             ],
             [
              1,
              "#f0f921"
             ]
            ],
            "type": "histogram2dcontour"
           }
          ],
          "mesh3d": [
           {
            "colorbar": {
             "outlinewidth": 0,
             "ticks": ""
            },
            "type": "mesh3d"
           }
          ],
          "parcoords": [
           {
            "line": {
             "colorbar": {
              "outlinewidth": 0,
              "ticks": ""
             }
            },
            "type": "parcoords"
           }
          ],
          "pie": [
           {
            "automargin": true,
            "type": "pie"
           }
          ],
          "scatter": [
           {
            "marker": {
             "colorbar": {
              "outlinewidth": 0,
              "ticks": ""
             }
            },
            "type": "scatter"
           }
          ],
          "scatter3d": [
           {
            "line": {
             "colorbar": {
              "outlinewidth": 0,
              "ticks": ""
             }
            },
            "marker": {
             "colorbar": {
              "outlinewidth": 0,
              "ticks": ""
             }
            },
            "type": "scatter3d"
           }
          ],
          "scattercarpet": [
           {
            "marker": {
             "colorbar": {
              "outlinewidth": 0,
              "ticks": ""
             }
            },
            "type": "scattercarpet"
           }
          ],
          "scattergeo": [
           {
            "marker": {
             "colorbar": {
              "outlinewidth": 0,
              "ticks": ""
             }
            },
            "type": "scattergeo"
           }
          ],
          "scattergl": [
           {
            "marker": {
             "colorbar": {
              "outlinewidth": 0,
              "ticks": ""
             }
            },
            "type": "scattergl"
           }
          ],
          "scattermapbox": [
           {
            "marker": {
             "colorbar": {
              "outlinewidth": 0,
              "ticks": ""
             }
            },
            "type": "scattermapbox"
           }
          ],
          "scatterpolar": [
           {
            "marker": {
             "colorbar": {
              "outlinewidth": 0,
              "ticks": ""
             }
            },
            "type": "scatterpolar"
           }
          ],
          "scatterpolargl": [
           {
            "marker": {
             "colorbar": {
              "outlinewidth": 0,
              "ticks": ""
             }
            },
            "type": "scatterpolargl"
           }
          ],
          "scatterternary": [
           {
            "marker": {
             "colorbar": {
              "outlinewidth": 0,
              "ticks": ""
             }
            },
            "type": "scatterternary"
           }
          ],
          "surface": [
           {
            "colorbar": {
             "outlinewidth": 0,
             "ticks": ""
            },
            "colorscale": [
             [
              0,
              "#0d0887"
             ],
             [
              0.1111111111111111,
              "#46039f"
             ],
             [
              0.2222222222222222,
              "#7201a8"
             ],
             [
              0.3333333333333333,
              "#9c179e"
             ],
             [
              0.4444444444444444,
              "#bd3786"
             ],
             [
              0.5555555555555556,
              "#d8576b"
             ],
             [
              0.6666666666666666,
              "#ed7953"
             ],
             [
              0.7777777777777778,
              "#fb9f3a"
             ],
             [
              0.8888888888888888,
              "#fdca26"
             ],
             [
              1,
              "#f0f921"
             ]
            ],
            "type": "surface"
           }
          ],
          "table": [
           {
            "cells": {
             "fill": {
              "color": "#EBF0F8"
             },
             "line": {
              "color": "white"
             }
            },
            "header": {
             "fill": {
              "color": "#C8D4E3"
             },
             "line": {
              "color": "white"
             }
            },
            "type": "table"
           }
          ]
         },
         "layout": {
          "annotationdefaults": {
           "arrowcolor": "#2a3f5f",
           "arrowhead": 0,
           "arrowwidth": 1
          },
          "coloraxis": {
           "colorbar": {
            "outlinewidth": 0,
            "ticks": ""
           }
          },
          "colorscale": {
           "diverging": [
            [
             0,
             "#8e0152"
            ],
            [
             0.1,
             "#c51b7d"
            ],
            [
             0.2,
             "#de77ae"
            ],
            [
             0.3,
             "#f1b6da"
            ],
            [
             0.4,
             "#fde0ef"
            ],
            [
             0.5,
             "#f7f7f7"
            ],
            [
             0.6,
             "#e6f5d0"
            ],
            [
             0.7,
             "#b8e186"
            ],
            [
             0.8,
             "#7fbc41"
            ],
            [
             0.9,
             "#4d9221"
            ],
            [
             1,
             "#276419"
            ]
           ],
           "sequential": [
            [
             0,
             "#0d0887"
            ],
            [
             0.1111111111111111,
             "#46039f"
            ],
            [
             0.2222222222222222,
             "#7201a8"
            ],
            [
             0.3333333333333333,
             "#9c179e"
            ],
            [
             0.4444444444444444,
             "#bd3786"
            ],
            [
             0.5555555555555556,
             "#d8576b"
            ],
            [
             0.6666666666666666,
             "#ed7953"
            ],
            [
             0.7777777777777778,
             "#fb9f3a"
            ],
            [
             0.8888888888888888,
             "#fdca26"
            ],
            [
             1,
             "#f0f921"
            ]
           ],
           "sequentialminus": [
            [
             0,
             "#0d0887"
            ],
            [
             0.1111111111111111,
             "#46039f"
            ],
            [
             0.2222222222222222,
             "#7201a8"
            ],
            [
             0.3333333333333333,
             "#9c179e"
            ],
            [
             0.4444444444444444,
             "#bd3786"
            ],
            [
             0.5555555555555556,
             "#d8576b"
            ],
            [
             0.6666666666666666,
             "#ed7953"
            ],
            [
             0.7777777777777778,
             "#fb9f3a"
            ],
            [
             0.8888888888888888,
             "#fdca26"
            ],
            [
             1,
             "#f0f921"
            ]
           ]
          },
          "colorway": [
           "#636efa",
           "#EF553B",
           "#00cc96",
           "#ab63fa",
           "#FFA15A",
           "#19d3f3",
           "#FF6692",
           "#B6E880",
           "#FF97FF",
           "#FECB52"
          ],
          "font": {
           "color": "#2a3f5f"
          },
          "geo": {
           "bgcolor": "white",
           "lakecolor": "white",
           "landcolor": "#E5ECF6",
           "showlakes": true,
           "showland": true,
           "subunitcolor": "white"
          },
          "hoverlabel": {
           "align": "left"
          },
          "hovermode": "closest",
          "mapbox": {
           "style": "light"
          },
          "paper_bgcolor": "white",
          "plot_bgcolor": "#E5ECF6",
          "polar": {
           "angularaxis": {
            "gridcolor": "white",
            "linecolor": "white",
            "ticks": ""
           },
           "bgcolor": "#E5ECF6",
           "radialaxis": {
            "gridcolor": "white",
            "linecolor": "white",
            "ticks": ""
           }
          },
          "scene": {
           "xaxis": {
            "backgroundcolor": "#E5ECF6",
            "gridcolor": "white",
            "gridwidth": 2,
            "linecolor": "white",
            "showbackground": true,
            "ticks": "",
            "zerolinecolor": "white"
           },
           "yaxis": {
            "backgroundcolor": "#E5ECF6",
            "gridcolor": "white",
            "gridwidth": 2,
            "linecolor": "white",
            "showbackground": true,
            "ticks": "",
            "zerolinecolor": "white"
           },
           "zaxis": {
            "backgroundcolor": "#E5ECF6",
            "gridcolor": "white",
            "gridwidth": 2,
            "linecolor": "white",
            "showbackground": true,
            "ticks": "",
            "zerolinecolor": "white"
           }
          },
          "shapedefaults": {
           "line": {
            "color": "#2a3f5f"
           }
          },
          "ternary": {
           "aaxis": {
            "gridcolor": "white",
            "linecolor": "white",
            "ticks": ""
           },
           "baxis": {
            "gridcolor": "white",
            "linecolor": "white",
            "ticks": ""
           },
           "bgcolor": "#E5ECF6",
           "caxis": {
            "gridcolor": "white",
            "linecolor": "white",
            "ticks": ""
           }
          },
          "title": {
           "x": 0.05
          },
          "xaxis": {
           "automargin": true,
           "gridcolor": "white",
           "linecolor": "white",
           "ticks": "",
           "title": {
            "standoff": 15
           },
           "zerolinecolor": "white",
           "zerolinewidth": 2
          },
          "yaxis": {
           "automargin": true,
           "gridcolor": "white",
           "linecolor": "white",
           "ticks": "",
           "title": {
            "standoff": 15
           },
           "zerolinecolor": "white",
           "zerolinewidth": 2
          }
         }
        },
        "title": {
         "text": "Customer Conversion at various stages"
        },
        "yaxis": {
         "title": {
          "text": "Customer Acquisition Stages"
         }
        }
       }
      },
      "text/html": [
       "<div>\n",
       "        \n",
       "        \n",
       "            <div id=\"7cde7d11-62cc-4856-9f58-b343c13fd0da\" class=\"plotly-graph-div\" style=\"height:525px; width:100%;\"></div>\n",
       "            <script type=\"text/javascript\">\n",
       "                require([\"plotly\"], function(Plotly) {\n",
       "                    window.PLOTLYENV=window.PLOTLYENV || {};\n",
       "                    \n",
       "                if (document.getElementById(\"7cde7d11-62cc-4856-9f58-b343c13fd0da\")) {\n",
       "                    Plotly.newPlot(\n",
       "                        '7cde7d11-62cc-4856-9f58-b343c13fd0da',\n",
       "                        [{\"domain\": {\"x\": [0.0, 1.0], \"y\": [0.0, 1.0]}, \"hovertemplate\": \"label=%{label}<br>value=%{value}<extra></extra>\", \"labels\": [\"Website visit\", \"Downloads\", \"Potential customers\", \"Requested price\", \"invoice sent\"], \"legendgroup\": \"\", \"name\": \"\", \"showlegend\": true, \"type\": \"funnelarea\", \"values\": [20, 10, 9, 5, 2]}],\n",
       "                        {\"legend\": {\"tracegroupgap\": 0}, \"margin\": {\"t\": 60}, \"template\": {\"data\": {\"bar\": [{\"error_x\": {\"color\": \"#2a3f5f\"}, \"error_y\": {\"color\": \"#2a3f5f\"}, \"marker\": {\"line\": {\"color\": \"#E5ECF6\", \"width\": 0.5}}, \"type\": \"bar\"}], \"barpolar\": [{\"marker\": {\"line\": {\"color\": \"#E5ECF6\", \"width\": 0.5}}, \"type\": \"barpolar\"}], \"carpet\": [{\"aaxis\": {\"endlinecolor\": \"#2a3f5f\", \"gridcolor\": \"white\", \"linecolor\": \"white\", \"minorgridcolor\": \"white\", \"startlinecolor\": \"#2a3f5f\"}, \"baxis\": {\"endlinecolor\": \"#2a3f5f\", \"gridcolor\": \"white\", \"linecolor\": \"white\", \"minorgridcolor\": \"white\", \"startlinecolor\": \"#2a3f5f\"}, \"type\": \"carpet\"}], \"choropleth\": [{\"colorbar\": {\"outlinewidth\": 0, \"ticks\": \"\"}, \"type\": \"choropleth\"}], \"contour\": [{\"colorbar\": {\"outlinewidth\": 0, \"ticks\": \"\"}, \"colorscale\": [[0.0, \"#0d0887\"], [0.1111111111111111, \"#46039f\"], [0.2222222222222222, \"#7201a8\"], [0.3333333333333333, \"#9c179e\"], [0.4444444444444444, \"#bd3786\"], [0.5555555555555556, \"#d8576b\"], [0.6666666666666666, \"#ed7953\"], [0.7777777777777778, \"#fb9f3a\"], [0.8888888888888888, \"#fdca26\"], [1.0, \"#f0f921\"]], \"type\": \"contour\"}], \"contourcarpet\": [{\"colorbar\": {\"outlinewidth\": 0, \"ticks\": \"\"}, \"type\": \"contourcarpet\"}], \"heatmap\": [{\"colorbar\": {\"outlinewidth\": 0, \"ticks\": \"\"}, \"colorscale\": [[0.0, \"#0d0887\"], [0.1111111111111111, \"#46039f\"], [0.2222222222222222, \"#7201a8\"], [0.3333333333333333, \"#9c179e\"], [0.4444444444444444, \"#bd3786\"], [0.5555555555555556, \"#d8576b\"], [0.6666666666666666, \"#ed7953\"], [0.7777777777777778, \"#fb9f3a\"], [0.8888888888888888, \"#fdca26\"], [1.0, \"#f0f921\"]], \"type\": \"heatmap\"}], \"heatmapgl\": [{\"colorbar\": {\"outlinewidth\": 0, \"ticks\": \"\"}, \"colorscale\": [[0.0, \"#0d0887\"], [0.1111111111111111, \"#46039f\"], [0.2222222222222222, \"#7201a8\"], [0.3333333333333333, \"#9c179e\"], [0.4444444444444444, \"#bd3786\"], [0.5555555555555556, \"#d8576b\"], [0.6666666666666666, \"#ed7953\"], [0.7777777777777778, \"#fb9f3a\"], [0.8888888888888888, \"#fdca26\"], [1.0, \"#f0f921\"]], \"type\": \"heatmapgl\"}], \"histogram\": [{\"marker\": {\"colorbar\": {\"outlinewidth\": 0, \"ticks\": \"\"}}, \"type\": \"histogram\"}], \"histogram2d\": [{\"colorbar\": {\"outlinewidth\": 0, \"ticks\": \"\"}, \"colorscale\": [[0.0, \"#0d0887\"], [0.1111111111111111, \"#46039f\"], [0.2222222222222222, \"#7201a8\"], [0.3333333333333333, \"#9c179e\"], [0.4444444444444444, \"#bd3786\"], [0.5555555555555556, \"#d8576b\"], [0.6666666666666666, \"#ed7953\"], [0.7777777777777778, \"#fb9f3a\"], [0.8888888888888888, \"#fdca26\"], [1.0, \"#f0f921\"]], \"type\": \"histogram2d\"}], \"histogram2dcontour\": [{\"colorbar\": {\"outlinewidth\": 0, \"ticks\": \"\"}, \"colorscale\": [[0.0, \"#0d0887\"], [0.1111111111111111, \"#46039f\"], [0.2222222222222222, \"#7201a8\"], [0.3333333333333333, \"#9c179e\"], [0.4444444444444444, \"#bd3786\"], [0.5555555555555556, \"#d8576b\"], [0.6666666666666666, \"#ed7953\"], [0.7777777777777778, \"#fb9f3a\"], [0.8888888888888888, \"#fdca26\"], [1.0, \"#f0f921\"]], \"type\": \"histogram2dcontour\"}], \"mesh3d\": [{\"colorbar\": {\"outlinewidth\": 0, \"ticks\": \"\"}, \"type\": \"mesh3d\"}], \"parcoords\": [{\"line\": {\"colorbar\": {\"outlinewidth\": 0, \"ticks\": \"\"}}, \"type\": \"parcoords\"}], \"pie\": [{\"automargin\": true, \"type\": \"pie\"}], \"scatter\": [{\"marker\": {\"colorbar\": {\"outlinewidth\": 0, \"ticks\": \"\"}}, \"type\": \"scatter\"}], \"scatter3d\": [{\"line\": {\"colorbar\": {\"outlinewidth\": 0, \"ticks\": \"\"}}, \"marker\": {\"colorbar\": {\"outlinewidth\": 0, \"ticks\": \"\"}}, \"type\": \"scatter3d\"}], \"scattercarpet\": [{\"marker\": {\"colorbar\": {\"outlinewidth\": 0, \"ticks\": \"\"}}, \"type\": \"scattercarpet\"}], \"scattergeo\": [{\"marker\": {\"colorbar\": {\"outlinewidth\": 0, \"ticks\": \"\"}}, \"type\": \"scattergeo\"}], \"scattergl\": [{\"marker\": {\"colorbar\": {\"outlinewidth\": 0, \"ticks\": \"\"}}, \"type\": \"scattergl\"}], \"scattermapbox\": [{\"marker\": {\"colorbar\": {\"outlinewidth\": 0, \"ticks\": \"\"}}, \"type\": \"scattermapbox\"}], \"scatterpolar\": [{\"marker\": {\"colorbar\": {\"outlinewidth\": 0, \"ticks\": \"\"}}, \"type\": \"scatterpolar\"}], \"scatterpolargl\": [{\"marker\": {\"colorbar\": {\"outlinewidth\": 0, \"ticks\": \"\"}}, \"type\": \"scatterpolargl\"}], \"scatterternary\": [{\"marker\": {\"colorbar\": {\"outlinewidth\": 0, \"ticks\": \"\"}}, \"type\": \"scatterternary\"}], \"surface\": [{\"colorbar\": {\"outlinewidth\": 0, \"ticks\": \"\"}, \"colorscale\": [[0.0, \"#0d0887\"], [0.1111111111111111, \"#46039f\"], [0.2222222222222222, \"#7201a8\"], [0.3333333333333333, \"#9c179e\"], [0.4444444444444444, \"#bd3786\"], [0.5555555555555556, \"#d8576b\"], [0.6666666666666666, \"#ed7953\"], [0.7777777777777778, \"#fb9f3a\"], [0.8888888888888888, \"#fdca26\"], [1.0, \"#f0f921\"]], \"type\": \"surface\"}], \"table\": [{\"cells\": {\"fill\": {\"color\": \"#EBF0F8\"}, \"line\": {\"color\": \"white\"}}, \"header\": {\"fill\": {\"color\": \"#C8D4E3\"}, \"line\": {\"color\": \"white\"}}, \"type\": \"table\"}]}, \"layout\": {\"annotationdefaults\": {\"arrowcolor\": \"#2a3f5f\", \"arrowhead\": 0, \"arrowwidth\": 1}, \"coloraxis\": {\"colorbar\": {\"outlinewidth\": 0, \"ticks\": \"\"}}, \"colorscale\": {\"diverging\": [[0, \"#8e0152\"], [0.1, \"#c51b7d\"], [0.2, \"#de77ae\"], [0.3, \"#f1b6da\"], [0.4, \"#fde0ef\"], [0.5, \"#f7f7f7\"], [0.6, \"#e6f5d0\"], [0.7, \"#b8e186\"], [0.8, \"#7fbc41\"], [0.9, \"#4d9221\"], [1, \"#276419\"]], \"sequential\": [[0.0, \"#0d0887\"], [0.1111111111111111, \"#46039f\"], [0.2222222222222222, \"#7201a8\"], [0.3333333333333333, \"#9c179e\"], [0.4444444444444444, \"#bd3786\"], [0.5555555555555556, \"#d8576b\"], [0.6666666666666666, \"#ed7953\"], [0.7777777777777778, \"#fb9f3a\"], [0.8888888888888888, \"#fdca26\"], [1.0, \"#f0f921\"]], \"sequentialminus\": [[0.0, \"#0d0887\"], [0.1111111111111111, \"#46039f\"], [0.2222222222222222, \"#7201a8\"], [0.3333333333333333, \"#9c179e\"], [0.4444444444444444, \"#bd3786\"], [0.5555555555555556, \"#d8576b\"], [0.6666666666666666, \"#ed7953\"], [0.7777777777777778, \"#fb9f3a\"], [0.8888888888888888, \"#fdca26\"], [1.0, \"#f0f921\"]]}, \"colorway\": [\"#636efa\", \"#EF553B\", \"#00cc96\", \"#ab63fa\", \"#FFA15A\", \"#19d3f3\", \"#FF6692\", \"#B6E880\", \"#FF97FF\", \"#FECB52\"], \"font\": {\"color\": \"#2a3f5f\"}, \"geo\": {\"bgcolor\": \"white\", \"lakecolor\": \"white\", \"landcolor\": \"#E5ECF6\", \"showlakes\": true, \"showland\": true, \"subunitcolor\": \"white\"}, \"hoverlabel\": {\"align\": \"left\"}, \"hovermode\": \"closest\", \"mapbox\": {\"style\": \"light\"}, \"paper_bgcolor\": \"white\", \"plot_bgcolor\": \"#E5ECF6\", \"polar\": {\"angularaxis\": {\"gridcolor\": \"white\", \"linecolor\": \"white\", \"ticks\": \"\"}, \"bgcolor\": \"#E5ECF6\", \"radialaxis\": {\"gridcolor\": \"white\", \"linecolor\": \"white\", \"ticks\": \"\"}}, \"scene\": {\"xaxis\": {\"backgroundcolor\": \"#E5ECF6\", \"gridcolor\": \"white\", \"gridwidth\": 2, \"linecolor\": \"white\", \"showbackground\": true, \"ticks\": \"\", \"zerolinecolor\": \"white\"}, \"yaxis\": {\"backgroundcolor\": \"#E5ECF6\", \"gridcolor\": \"white\", \"gridwidth\": 2, \"linecolor\": \"white\", \"showbackground\": true, \"ticks\": \"\", \"zerolinecolor\": \"white\"}, \"zaxis\": {\"backgroundcolor\": \"#E5ECF6\", \"gridcolor\": \"white\", \"gridwidth\": 2, \"linecolor\": \"white\", \"showbackground\": true, \"ticks\": \"\", \"zerolinecolor\": \"white\"}}, \"shapedefaults\": {\"line\": {\"color\": \"#2a3f5f\"}}, \"ternary\": {\"aaxis\": {\"gridcolor\": \"white\", \"linecolor\": \"white\", \"ticks\": \"\"}, \"baxis\": {\"gridcolor\": \"white\", \"linecolor\": \"white\", \"ticks\": \"\"}, \"bgcolor\": \"#E5ECF6\", \"caxis\": {\"gridcolor\": \"white\", \"linecolor\": \"white\", \"ticks\": \"\"}}, \"title\": {\"x\": 0.05}, \"xaxis\": {\"automargin\": true, \"gridcolor\": \"white\", \"linecolor\": \"white\", \"ticks\": \"\", \"title\": {\"standoff\": 15}, \"zerolinecolor\": \"white\", \"zerolinewidth\": 2}, \"yaxis\": {\"automargin\": true, \"gridcolor\": \"white\", \"linecolor\": \"white\", \"ticks\": \"\", \"title\": {\"standoff\": 15}, \"zerolinecolor\": \"white\", \"zerolinewidth\": 2}}}, \"title\": {\"text\": \"Customer Conversion at various stages\"}, \"yaxis\": {\"title\": {\"text\": \"Customer Acquisition Stages\"}}},\n",
       "                        {\"responsive\": true}\n",
       "                    ).then(function(){\n",
       "                            \n",
       "var gd = document.getElementById('7cde7d11-62cc-4856-9f58-b343c13fd0da');\n",
       "var x = new MutationObserver(function (mutations, observer) {{\n",
       "        var display = window.getComputedStyle(gd).display;\n",
       "        if (!display || display === 'none') {{\n",
       "            console.log([gd, 'removed!']);\n",
       "            Plotly.purge(gd);\n",
       "            observer.disconnect();\n",
       "        }}\n",
       "}});\n",
       "\n",
       "// Listen for the removal of the full notebook cells\n",
       "var notebookContainer = gd.closest('#notebook-container');\n",
       "if (notebookContainer) {{\n",
       "    x.observe(notebookContainer, {childList: true});\n",
       "}}\n",
       "\n",
       "// Listen for the clearing of the current output cell\n",
       "var outputEl = gd.closest('.output');\n",
       "if (outputEl) {{\n",
       "    x.observe(outputEl, {childList: true});\n",
       "}}\n",
       "\n",
       "                        })\n",
       "                };\n",
       "                });\n",
       "            </script>\n",
       "        </div>"
      ]
     },
     "metadata": {},
     "output_type": "display_data"
    }
   ],
   "source": [
    "data = dict(\n",
    "    number=[20, 10, 9, 5, 2],\n",
    "    stage=[\"Website visit\", \"Downloads\", \"Potential customers\", \"Requested price\", \"invoice sent\"])\n",
    "fig = px.funnel_area(names = data['stage'],values=data['number'])\n",
    "fig.update_layout(yaxis=dict(title='Customer Acquisition Stages'),title='Customer Conversion at various stages')\n",
    "fig.show()"
   ]
  }
 ],
 "metadata": {
  "kernelspec": {
   "display_name": "Python 3",
   "language": "python",
   "name": "python3"
  },
  "language_info": {
   "codemirror_mode": {
    "name": "ipython",
    "version": 3
   },
   "file_extension": ".py",
   "mimetype": "text/x-python",
   "name": "python",
   "nbconvert_exporter": "python",
   "pygments_lexer": "ipython3",
   "version": "3.6.10"
  }
 },
 "nbformat": 4,
 "nbformat_minor": 4
}
